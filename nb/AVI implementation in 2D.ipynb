{
 "cells": [
  {
   "cell_type": "markdown",
   "metadata": {},
   "source": [
    "# Simplest AVI implementation in 2D\n",
    "9.22.2020"
   ]
  },
  {
   "cell_type": "code",
   "execution_count": 1,
   "metadata": {
    "ExecuteTime": {
     "end_time": "2020-10-08T02:07:10.803047Z",
     "start_time": "2020-10-08T02:07:09.524111Z"
    }
   },
   "outputs": [
    {
     "name": "stdout",
     "output_type": "stream",
     "text": [
      "Automatic calling is: Smart\n"
     ]
    }
   ],
   "source": [
    "import numpy as np, pandas as pd, matplotlib.pyplot as plt\n",
    "\n",
    "import pandas as pd, numpy as np, matplotlib.pyplot as plt\n",
    "\n",
    "#automate the boring stuff\n",
    "# from IPython import utils\n",
    "import time, os, sys, re, math\n",
    "beep = lambda x: os.system(\"echo -n '\\\\a';sleep 0.2;\" * x)\n",
    "if not 'nb_dir' in globals():\n",
    "    nb_dir = os.getcwd()\n",
    "    \n",
    "from numba import njit\n",
    "#load the libraries\n",
    "from lib import *\n",
    "#TODO: fix \n",
    "from lib.explicit import *\n",
    "%autocall 1\n",
    "%load_ext autoreload\n",
    "%autoreload 2"
   ]
  },
  {
   "cell_type": "code",
   "execution_count": 3,
   "metadata": {
    "ExecuteTime": {
     "end_time": "2020-10-06T17:46:04.807056Z",
     "start_time": "2020-10-06T17:46:04.726039Z"
    }
   },
   "outputs": [],
   "source": []
  },
  {
   "cell_type": "markdown",
   "metadata": {
    "heading_collapsed": true
   },
   "source": [
    "# (~deprecated) unnecessarily object oriented AVI integration of classical spring-chain-loop in 2D space\n",
    "- DONE: write/test a dVdx force function for a given Hookean edge"
   ]
  },
  {
   "cell_type": "code",
   "execution_count": 4,
   "metadata": {
    "ExecuteTime": {
     "end_time": "2020-10-06T17:46:35.431236Z",
     "start_time": "2020-10-06T17:46:35.413391Z"
    },
    "hidden": true
   },
   "outputs": [],
   "source": [
    "#TODO(later): define hash and encode x,y position only\n",
    "# node_hash_list = list(range(N))\n",
    "# edge_hash_list\n"
   ]
  },
  {
   "cell_type": "code",
   "execution_count": 5,
   "metadata": {
    "ExecuteTime": {
     "end_time": "2020-10-06T17:46:39.243786Z",
     "start_time": "2020-10-06T17:46:39.213865Z"
    },
    "hidden": true
   },
   "outputs": [],
   "source": [
    "class Node(object):\n",
    "    r\"\"\"A node for a graph. value is a tuple of length 2 here.\n",
    "    Node.value is an iterable of values.\n",
    "    Node.a is the index/hashcode of the node.\"\"\"\n",
    "    def __init__(self, value, a, mass=1., **kwargs):\n",
    "        self.value  = value\n",
    "        self.a      = a\n",
    "        self.kwargs = kwargs\n",
    "        self.mass = mass\n",
    "#         self.node_children_list = []\n",
    "    def __repr__(self):\n",
    "        return f\"{self.value}\"\n",
    "#     def add_child_node(self, other):\n",
    "#         self.node_children_list.append(other)\n",
    "#         return self\n",
    "    def get_mass(self):\n",
    "        return float(self.mass)\n",
    "\n",
    "class Edge(Node):\n",
    "    r\"\"\"an an element here is a directed edge from node1 to node2.  an edge extends a node class, as it is a simplex.\"\"\"\n",
    "    def __init__(self, node1, node2):#needed??, **kwargs):\n",
    "        self.node1 = node1\n",
    "        self.node2 = node2\n",
    "        self.a1 = node2.a\n",
    "        self.a2 = node1.a\n",
    "        self.X1 = np.array(node1.value)\n",
    "        self.X2 = np.array(node2.value)\n",
    "        self.x1 = np.array(node1.value)\n",
    "        self.x2 = np.array(node2.value)\n",
    "        self.mass = self.get_mass()\n",
    "        assert ( self.X1.shape == self.x1.shape )\n",
    "        assert ( self.X1.shape == self.X2.shape )\n",
    "        assert ( self.x2.shape == self.x1.shape )\n",
    "        \n",
    "    def __repr__(self):\n",
    "        return f\"{(self.node1,self.node2)}\"\n",
    "    \n",
    "    def get_mean_value(self):\n",
    "        return [q1/2+q2/2 for q1,q2 in zip(self.node1.value,self.node2.value)]\n",
    "    \n",
    "    def get_mass(self):\n",
    "        return self.node1.mass/2+self.node2.mass/2\n",
    "    \n",
    "    def spring_force(self, k=1.):\n",
    "        D  = self.X2-self.X1\n",
    "        d  = self.x2-self.x1\n",
    "        x  = np.linalg.norm(d)\n",
    "        x0 = np.linalg.norm(D)\n",
    "        hat= d/x\n",
    "        return -1.*k * (x-x0) * hat\n",
    "    \n",
    "    def spring_potential(self, k=1.):\n",
    "        D  = self.X2-self.X1\n",
    "        d  = self.x2-self.x1\n",
    "        x  = np.linalg.norm(d)\n",
    "        x0 = np.linalg.norm(D)\n",
    "        hat= d/x\n",
    "        return 0.5*k * ( (x-x0) ** 2 )\n"
   ]
  },
  {
   "cell_type": "code",
   "execution_count": 6,
   "metadata": {
    "ExecuteTime": {
     "end_time": "2020-10-06T17:46:40.524413Z",
     "start_time": "2020-10-06T17:46:40.500990Z"
    },
    "hidden": true
   },
   "outputs": [],
   "source": [
    "assert (Edge(Node([5], a=2), Node([6], a=3) ) .spring_potential()==0)\n",
    "assert (Edge(Node([5], a=2), Node([6], a=3) ) .spring_force()==0)"
   ]
  },
  {
   "cell_type": "code",
   "execution_count": 7,
   "metadata": {
    "ExecuteTime": {
     "end_time": "2020-10-06T17:46:41.659879Z",
     "start_time": "2020-10-06T17:46:41.638130Z"
    },
    "hidden": true
   },
   "outputs": [
    {
     "data": {
      "text/plain": [
       "([5], [6])"
      ]
     },
     "execution_count": 7,
     "metadata": {},
     "output_type": "execute_result"
    }
   ],
   "source": [
    "Edge(Node([5], a=3), Node([6], a=3))"
   ]
  },
  {
   "cell_type": "code",
   "execution_count": 8,
   "metadata": {
    "ExecuteTime": {
     "end_time": "2020-10-06T17:46:58.077000Z",
     "start_time": "2020-10-06T17:46:58.056066Z"
    },
    "hidden": true
   },
   "outputs": [],
   "source": [
    "#initialize mesh in a ground state position\n",
    "import math\n",
    "pi = math.pi\n",
    "r  = 1 # length unit \n",
    "def points_in_circum(r,n=100):\n",
    "    return [(math.cos(2*pi/n*x)*r,math.sin(2*pi/n*x)*r) for x in range(0,n+1)]\n",
    "\n",
    "q = np.array(points_in_circum(r,n=100))[:-1]\n",
    "p = q*0. #initialize velocity to zero\n",
    "N = q.shape[0] #apparent number of points"
   ]
  },
  {
   "cell_type": "code",
   "execution_count": 282,
   "metadata": {
    "ExecuteTime": {
     "end_time": "2020-10-07T16:27:39.392160Z",
     "start_time": "2020-10-07T16:27:39.374770Z"
    },
    "hidden": true
   },
   "outputs": [],
   "source": [
    "# # represent the discretized circle as a list of edges\n",
    "# # mesh = edge_list\n",
    "# edge_list = []\n",
    "# for j in range(N-1):\n",
    "#     edge_list.append( Edge(Node(q[j], a=j), Node(q[j+1], a=j+1)))\n",
    "# # impose periodic boundary conditions with one line\n",
    "# edge_list.append( Edge(Node(q[-1], a=N), Node(q[0], a=0)))"
   ]
  },
  {
   "cell_type": "code",
   "execution_count": 10,
   "metadata": {
    "ExecuteTime": {
     "end_time": "2020-10-06T17:47:05.542299Z",
     "start_time": "2020-10-06T17:47:05.524289Z"
    },
    "hidden": true
   },
   "outputs": [],
   "source": [
    "#DONE: visual check that edge_list makes sense"
   ]
  },
  {
   "cell_type": "code",
   "execution_count": 281,
   "metadata": {
    "ExecuteTime": {
     "end_time": "2020-10-07T16:27:37.506317Z",
     "start_time": "2020-10-07T16:27:37.489311Z"
    },
    "hidden": true
   },
   "outputs": [],
   "source": [
    "# def update_edge_configuration(edge_list, q):\n",
    "#     '''update edge_list with nodal positions.'''\n",
    "#     N = q.shape[0] #apparent number of points\n",
    "#     for edge in edge_list: \n",
    "#         a1 = edge.a1\n",
    "#         a2 = edge.a2\n",
    "#         edge.x1 = q[a1]\n",
    "#         edge.x2 = q[a2]\n",
    "#         return True"
   ]
  },
  {
   "cell_type": "code",
   "execution_count": 280,
   "metadata": {
    "ExecuteTime": {
     "end_time": "2020-10-07T16:27:31.189389Z",
     "start_time": "2020-10-07T16:27:31.171595Z"
    },
    "hidden": true
   },
   "outputs": [],
   "source": [
    "# np.array(nodes)\n",
    "# edge_list\n",
    "# q #the array of coordinates\n",
    "\n",
    "# q_t0, qtf = explicit(t0=0, tf=1, mesh=mesh, **kwargs)\n",
    "# # update_edge_configuration(edge_list, q)"
   ]
  },
  {
   "cell_type": "code",
   "execution_count": null,
   "metadata": {
    "ExecuteTime": {
     "end_time": "2020-10-06T17:47:38.910392Z",
     "start_time": "2020-10-06T17:47:38.889978Z"
    },
    "hidden": true
   },
   "outputs": [],
   "source": []
  },
  {
   "cell_type": "code",
   "execution_count": 279,
   "metadata": {
    "ExecuteTime": {
     "end_time": "2020-10-07T16:27:28.762541Z",
     "start_time": "2020-10-07T16:27:28.745311Z"
    },
    "hidden": true
   },
   "outputs": [],
   "source": [
    "# # @njit\n",
    "# def _compute_dVdx(K, t0, edge_element_a):\n",
    "#     pass\n",
    "    \n"
   ]
  },
  {
   "cell_type": "code",
   "execution_count": 278,
   "metadata": {
    "ExecuteTime": {
     "end_time": "2020-10-07T16:27:26.909629Z",
     "start_time": "2020-10-07T16:27:26.890776Z"
    },
    "hidden": true
   },
   "outputs": [],
   "source": [
    "# #pass args to explicit and fix errors!\n",
    "# kwargs = {}\n",
    "# explicit(t0=0, tf=1, mesh=Mesh(), **kwargs)"
   ]
  },
  {
   "cell_type": "markdown",
   "metadata": {
    "heading_collapsed": true,
    "hidden": true
   },
   "source": [
    "### (~deprecated) Mesh environment "
   ]
  },
  {
   "cell_type": "code",
   "execution_count": 191,
   "metadata": {
    "ExecuteTime": {
     "end_time": "2020-09-24T01:40:21.290222Z",
     "start_time": "2020-09-24T01:40:21.240103Z"
    },
    "hidden": true
   },
   "outputs": [],
   "source": [
    "class Mesh(object):\n",
    "    def __init__(self, iterable_elements, iterable_nodes, **kwargs):\n",
    "        '''initial_displacement is an object comparable to iterable_nodes.\n",
    "        sets motion at rest.'''\n",
    "        self.iterable_elements = iterable_elements\n",
    "        self.iterable_nodes    = iterable_nodes\n",
    "        # compute_x1\n",
    "        self.x1 = np.array(self.iterable_nodes)\n",
    "        initial_displacement = 0.*x1\n",
    "        self.x32dot = -1 * initial_displacement\n",
    "    def __repr__(self):\n",
    "        mass = self.get_sum_mass()\n",
    "        return f\"Mesh of {self.get_num_elements():d} Elements with total mass = {mass:f}.\"\n",
    "    def set_velocity(self, displacement):\n",
    "        self.x32dot = -1 * displacement\n",
    "    def get_sum_mass(self):\n",
    "        return sum ( [s.mass for s in self.iterable_elements] )\n",
    "    def get_num_elements(self):\n",
    "        return len ( [s.mass for s in self.iterable_elements] )\n",
    "    def set_sum_mass(self, mass_total=1.):\n",
    "        '''define masses of nodes so the whole mesh has unit mass'''\n",
    "        N = selfget_num_elements()\n",
    "        m = mass_total/N\n",
    "        M = m + 0.*q[:,0]\n",
    "        "
   ]
  },
  {
   "cell_type": "code",
   "execution_count": 277,
   "metadata": {
    "ExecuteTime": {
     "end_time": "2020-10-07T16:27:02.336263Z",
     "start_time": "2020-10-07T16:27:02.318787Z"
    },
    "hidden": true
   },
   "outputs": [],
   "source": [
    "# #mash out a simplest mesh\n",
    "# iterable_nodes    = np.array(q)\n",
    "# iterable_elements = edge_list\n",
    "# Mesh(iterable_elements, iterable_nodes, **kwargs)\n",
    "    \n",
    "    \n",
    "# #the problem is that iterable_nodes has no mass property, \n",
    "# # since it is a numpy array.\n",
    "# #TODO: use iterable_elements.masses to get the required \n",
    "# #     mass in get_sum_mass()"
   ]
  },
  {
   "cell_type": "code",
   "execution_count": 178,
   "metadata": {
    "ExecuteTime": {
     "end_time": "2020-09-24T00:57:40.299448Z",
     "start_time": "2020-09-24T00:57:40.264655Z"
    },
    "hidden": true
   },
   "outputs": [],
   "source": [
    "# def _compute_time(K, t0, stepsize, num_steps):\n",
    "# \t\"\"\"compute the time steps of the element\"\"\"\n",
    "# \ttf = t0 + num_steps*stepsize\n",
    "# \treturn np.arange(t0,tf+stepsize,stepsize)"
   ]
  },
  {
   "cell_type": "code",
   "execution_count": 276,
   "metadata": {
    "ExecuteTime": {
     "end_time": "2020-10-07T16:26:57.991737Z",
     "start_time": "2020-10-07T16:26:57.973785Z"
    },
    "hidden": true
   },
   "outputs": [],
   "source": [
    "# # _compute_time(K=None, t0=0, stepsize=1, num_steps=10)\n",
    "# q = np.array(points_in_circum(r,n=100))[:-1]  #initialize 100 points on a circle\n",
    "# v = q*0. #initialize nodal velocity to zero\n",
    "# N = q.shape[0] #apparent number of points\n",
    "# M_total = 1.   #total mass units\n",
    "# M = v + M_total/N  #matrix of nodal masses\n",
    "# nodes = list(range(N))"
   ]
  },
  {
   "cell_type": "code",
   "execution_count": 275,
   "metadata": {
    "ExecuteTime": {
     "end_time": "2020-10-07T16:26:55.706253Z",
     "start_time": "2020-10-07T16:26:55.689601Z"
    },
    "hidden": true
   },
   "outputs": [],
   "source": [
    "# #input data\n",
    "# M = mesh.M # tuple of node masses\n",
    "# # elements = edge_list#mesh.elements\n",
    "# nodes = mesh.nodes\n",
    "\n",
    "# #initialization of nodes, elements and queue of times\n",
    "# q   = list(nodes)\n",
    "# v   = list(nodes)\n",
    "# tau = list(nodes)\n",
    "\n",
    "# for a in nodes:\n",
    "# \tx    = mesh.x1[a]\n",
    "# \txdot = mesh.x32dot[a]\n",
    "# \tq[a] = x\n",
    "# \tv[a] = xdot\n",
    "# \ttau[a] = t0  # initialize node time to t0\n"
   ]
  },
  {
   "cell_type": "code",
   "execution_count": 274,
   "metadata": {
    "ExecuteTime": {
     "end_time": "2020-10-07T16:26:53.600212Z",
     "start_time": "2020-10-07T16:26:53.582378Z"
    },
    "hidden": true
   },
   "outputs": [],
   "source": [
    "# # mesh.nodes should be a list of indices for the np.array's mesh.x1 and such\n",
    "# nodes = range(len(iterable_nodes))"
   ]
  },
  {
   "cell_type": "code",
   "execution_count": 273,
   "metadata": {
    "ExecuteTime": {
     "end_time": "2020-10-07T16:26:51.947647Z",
     "start_time": "2020-10-07T16:26:51.929470Z"
    },
    "hidden": true
   },
   "outputs": [],
   "source": [
    "# # mesh.elements should be a list of indices for the np.array's mesh.x1 and such\n",
    "# elements = range(len(iterable_elements))"
   ]
  },
  {
   "cell_type": "code",
   "execution_count": 272,
   "metadata": {
    "ExecuteTime": {
     "end_time": "2020-10-07T16:26:47.324212Z",
     "start_time": "2020-10-07T16:26:47.306541Z"
    },
    "hidden": true,
    "scrolled": true
   },
   "outputs": [],
   "source": [
    "# # TODO:# @njit\n",
    "# def _compute_dVdx(K,a,qK,t):\n",
    "#     '''compute the gradient of the potential energy at time t.\n",
    "#     qK is the mean position of the nodes'''\n",
    "\n",
    "#     pass\n",
    "\n"
   ]
  },
  {
   "cell_type": "code",
   "execution_count": 271,
   "metadata": {
    "ExecuteTime": {
     "end_time": "2020-10-07T16:26:44.047818Z",
     "start_time": "2020-10-07T16:26:44.029412Z"
    },
    "hidden": true
   },
   "outputs": [],
   "source": [
    "# #DONE: replace K.nodes with the list of indicies of nodes that element K has\n",
    "# elements = range(len(iterable_elements))\n",
    "# a = list(elements)\n",
    "# b = list(elements)\n",
    "# for K in elements:\n",
    "#     a[K] = a_mat[K][0]\n",
    "#     b[K] = a_mat[K][1]\n",
    "# # a[K] is the nodal_index_1 of the K^th element\n",
    "# # b[K] is the nodal_index_2 of the K^th element"
   ]
  },
  {
   "cell_type": "code",
   "execution_count": null,
   "metadata": {
    "ExecuteTime": {
     "end_time": "2020-09-24T02:44:57.528568Z",
     "start_time": "2020-09-24T02:44:57.487381Z"
    },
    "hidden": true
   },
   "outputs": [],
   "source": []
  },
  {
   "cell_type": "code",
   "execution_count": 230,
   "metadata": {
    "ExecuteTime": {
     "end_time": "2020-09-24T02:36:50.837065Z",
     "start_time": "2020-09-24T02:36:50.796858Z"
    },
    "hidden": true
   },
   "outputs": [],
   "source": [
    "from lib.explicit import *"
   ]
  },
  {
   "cell_type": "code",
   "execution_count": 269,
   "metadata": {
    "ExecuteTime": {
     "end_time": "2020-10-07T16:26:32.716275Z",
     "start_time": "2020-10-07T16:26:32.698397Z"
    },
    "hidden": true
   },
   "outputs": [],
   "source": [
    "# def compute_nodal_spring_forces(x,X,a,b,k=1.):\n",
    "#     '''compute the net forces on each nodal position\n",
    "#     x = current nodal configuration array\n",
    "#     X = ideally precomputed initial nodal configuration array\n",
    "#     '''\n",
    "#     F  = 0.*x.copy()  #nodal forces\n",
    "#     for K in list(elements):\n",
    "        \n",
    "#         ia = a[K]\n",
    "#         ib = b[K]\n",
    "#         x1 = x[ia]\n",
    "#         X1 = X[ia]\n",
    "#         x2 = x[ib]\n",
    "#         X2 = X[ib]\n",
    "#         F = spring_force(X1,X2,x1,x2, k=k)\n",
    "#         F[ia] = F[ia] + F\n",
    "#         F[ib] = F[ib] - F\n",
    "#     return F\n",
    "    "
   ]
  },
  {
   "cell_type": "code",
   "execution_count": 267,
   "metadata": {
    "ExecuteTime": {
     "end_time": "2020-10-07T16:26:19.367757Z",
     "start_time": "2020-10-07T16:26:19.349212Z"
    },
    "hidden": true
   },
   "outputs": [],
   "source": [
    "# x  = q.copy() \n",
    "# X  = q.copy() \n",
    "# F = compute_nodal_spring_forces(x,X,k=1.)"
   ]
  },
  {
   "cell_type": "code",
   "execution_count": 270,
   "metadata": {
    "ExecuteTime": {
     "end_time": "2020-10-07T16:26:35.578530Z",
     "start_time": "2020-10-07T16:26:35.560005Z"
    },
    "hidden": true
   },
   "outputs": [],
   "source": [
    "# #DONE: compute the spring force\n",
    "# a_lst = [[j,j+1] for j in range(N-1)]\n",
    "# a_lst.append([int(N)-1,0])\n",
    "# a_mat = np.array(a_lst)\n",
    "# # edge_list = []\n",
    "# # for j in range(N-1):\n",
    "# #     edge_list.append( Edge(Node(q[j], a=j), Node(q[j+1], a=j+1)))\n"
   ]
  },
  {
   "cell_type": "markdown",
   "metadata": {
    "heading_collapsed": true
   },
   "source": [
    "# Note from reading on AVI's"
   ]
  },
  {
   "cell_type": "markdown",
   "metadata": {
    "hidden": true
   },
   "source": [
    "Consider the local nodal energy of node $a$ to be $E_a(t_i)$ at time $t_i$ to be the Hamiltonian for a particle moving in a local potential, $V(q_a, Xi_a)$, where $Xi_a$ is the collection of nodal positions sharing an edge with node $a$."
   ]
  },
  {
   "cell_type": "markdown",
   "metadata": {
    "heading_collapsed": true
   },
   "source": [
    "# the simplest synchronous implementation of a variational integrator\n",
    "DONE: test/develop a onestep method using explicit.py on a simplest use case a 1D chain of springs with their volume conserved"
   ]
  },
  {
   "cell_type": "markdown",
   "metadata": {
    "heading_collapsed": true,
    "hidden": true
   },
   "source": [
    "## initialize a ball and spring model of a circle in 2D at rest and at equilibrium"
   ]
  },
  {
   "cell_type": "code",
   "execution_count": 5,
   "metadata": {
    "ExecuteTime": {
     "end_time": "2020-10-08T02:07:24.177216Z",
     "start_time": "2020-10-08T02:07:24.154009Z"
    },
    "hidden": true
   },
   "outputs": [],
   "source": [
    "#initialize mesh in a ground state position\n",
    "pi = math.pi\n",
    "r  = 1 # length unit \n",
    "def points_in_circum(r,n=100):\n",
    "    return [(math.cos(2*pi/n*x)*r,math.sin(2*pi/n*x)*r) for x in range(0,n+1)]"
   ]
  },
  {
   "cell_type": "code",
   "execution_count": 7,
   "metadata": {
    "ExecuteTime": {
     "end_time": "2020-10-08T02:07:32.448949Z",
     "start_time": "2020-10-08T02:07:32.430637Z"
    },
    "hidden": true
   },
   "outputs": [],
   "source": [
    "#a list of elements, where each entry is a list of nodal indexes corresponding to each element\n",
    "edge_list = []\n",
    "for j in range(N-1):\n",
    "    edge_list.append( (j,j+1) )\n",
    "#impose periodic boundary conditions\n",
    "edge_list.append((N-1,0))\n",
    "\n",
    "elements = np.array(edge_list)"
   ]
  },
  {
   "cell_type": "code",
   "execution_count": 8,
   "metadata": {
    "ExecuteTime": {
     "end_time": "2020-10-08T02:07:33.373853Z",
     "start_time": "2020-10-08T02:07:33.355026Z"
    },
    "hidden": true
   },
   "outputs": [],
   "source": [
    "#define equilibrium configuration explicitely\n",
    "N = 20\n",
    "X = np.array(points_in_circum(r,n=N))[:-1]  #initialize 100 points on a circle\n",
    "V = X*0. #initialize nodal velocity to zero\n",
    "\n",
    "# N = Q.shape[0] #apparent number of points\n",
    "M_total = 1.   #total mass units\n",
    "#create nodal mass matrix\n",
    "M = V[:,0] + M_total/N\n",
    "#note the matrix of equal nodal masses is equiv. here to giving half of the mass of each edge to each of its nodes, for uniform mass-length density\n",
    "NK = elements.shape[0]"
   ]
  },
  {
   "cell_type": "code",
   "execution_count": 9,
   "metadata": {
    "ExecuteTime": {
     "end_time": "2020-10-08T02:07:36.309953Z",
     "start_time": "2020-10-08T02:07:36.054724Z"
    },
    "hidden": true
   },
   "outputs": [
    {
     "data": {
      "image/png": "[encoded data removed]",
      "text/plain": [
       "<Figure size 288x288 with 1 Axes>"
      ]
     },
     "metadata": {
      "needs_background": "light"
     },
     "output_type": "display_data"
    }
   ],
   "source": [
    "Q = X.copy()\n",
    "# plot nodes with matplotlib\n",
    "plt.subplots(figsize=(4,4))\n",
    "plt.scatter(x=Q[:,0],y=Q[:,1], c='k', s=10)\n",
    "\n",
    "# plot edges with matplotlib\n",
    "for K in range(NK):\n",
    "    nxl = []; nyl = [];\n",
    "    for a in elements[K]:\n",
    "        nxl.append(Q[a,0])\n",
    "        nyl.append(Q[a,1])\n",
    "        plt.plot(nxl,nyl, c='gray')\n",
    "plt.xlabel('x coord.')\n",
    "plt.ylabel('y coord.')\n",
    "plt.show()"
   ]
  },
  {
   "cell_type": "markdown",
   "metadata": {
    "ExecuteTime": {
     "end_time": "2020-10-06T18:20:36.784643Z",
     "start_time": "2020-10-06T18:20:36.770072Z"
    },
    "heading_collapsed": true,
    "hidden": true
   },
   "source": [
    "## define an explicit synchronous variational integrator (ESVI)"
   ]
  },
  {
   "cell_type": "code",
   "execution_count": 2,
   "metadata": {
    "ExecuteTime": {
     "end_time": "2020-10-08T02:07:15.979981Z",
     "start_time": "2020-10-08T02:07:15.961679Z"
    },
    "hidden": true
   },
   "outputs": [],
   "source": [
    "def spring_force(q1,q2,x0, k=1.):\n",
    "    '''hookean spring force from position 1 to position 2'''\n",
    "    d  = q2-q1\n",
    "    x  = np.linalg.norm(d)\n",
    "    hat= d/x\n",
    "    return -1.*k * (x-x0) * hat"
   ]
  },
  {
   "cell_type": "code",
   "execution_count": 3,
   "metadata": {
    "ExecuteTime": {
     "end_time": "2020-10-08T02:07:16.301636Z",
     "start_time": "2020-10-08T02:07:16.283623Z"
    },
    "hidden": true
   },
   "outputs": [],
   "source": [
    "def pop(time_list):\n",
    "    value = time_list[0]\n",
    "    time_list.remove(value)\n",
    "    return value\n",
    "\n",
    "def _compute_next_time(K, t, stepsize):\n",
    "    '''compute next time for element's evaluation'''\n",
    "    return t + stepsize"
   ]
  },
  {
   "cell_type": "code",
   "execution_count": 4,
   "metadata": {
    "ExecuteTime": {
     "end_time": "2020-10-08T02:07:16.811819Z",
     "start_time": "2020-10-08T02:07:16.782046Z"
    },
    "hidden": true
   },
   "outputs": [],
   "source": [
    "def explicit_synchronous(Q, V, M, elements, X0, t0, tf, stepsize):\n",
    "    #push all K finite elements into the queue at initial time t0\n",
    "    queue = list()\n",
    "    NK = elements.shape[0]\n",
    "    tauK = M.copy()  \n",
    "    for K in list(range(NK)):\n",
    "        tauK[K] = t0\n",
    "        queue.append((t0, K))\n",
    "        # tK2     = t0 # _compute_time(K, t0, stepsize, num_steps)\n",
    "\n",
    "    # initialize nodal times to initial time t0\n",
    "    N = Q.shape[0]\n",
    "    tau = t0+0.*Q[:,0]\n",
    "\n",
    "    #iterate over the elements in time.  \n",
    "    #do until priority queue is empty\n",
    "    while len(queue) > 0:\n",
    "        #extract next element\n",
    "        t, K = pop(queue)\n",
    "        if t<=tf:\n",
    "            #synchronous time updates\n",
    "            #update node positions\n",
    "            Ka = elements[K]\n",
    "            for a in Ka:\n",
    "                Q[a] = Q[a] + V[a]*(t-tau[a])\n",
    "            #update node times\n",
    "            for a in Ka:\n",
    "                tau[a] = t\n",
    "        \n",
    "            #compute the nodal force of the edge element\n",
    "            x0 = X0[K]\n",
    "            a1 = Ka[0]; a2 = Ka[1];\n",
    "            q1 = Q[a1]; q2 = Q[a2];\n",
    "            force = spring_force(q1,q2,x0, k=1.)\n",
    "            #update node velocities\n",
    "            V[a1] = V[a1] - ((t-tauK[K])/M[a1]) * force\n",
    "            V[a2] = V[a2] + ((t-tauK[K])/M[a2]) * force\n",
    "            #update element's time\n",
    "            tauK[K] = t\n",
    "            #compute next time for element's evaluation\n",
    "            tKnext = t + stepsize #_compute_next_time(K, t, stepsize)\n",
    "            #Schedule K for next update\n",
    "            push( queue, (tKnext, K) )\n",
    "    return Q, V, tau"
   ]
  },
  {
   "cell_type": "markdown",
   "metadata": {
    "heading_collapsed": true,
    "hidden": true
   },
   "source": [
    "##  perturbing with isotropic dilation"
   ]
  },
  {
   "cell_type": "code",
   "execution_count": 10,
   "metadata": {
    "ExecuteTime": {
     "end_time": "2020-10-08T02:07:47.920286Z",
     "start_time": "2020-10-08T02:07:47.902930Z"
    },
    "hidden": true
   },
   "outputs": [],
   "source": [
    "#reset the simulation to the initial perturbation\n",
    "Q = 1.1*X\n",
    "V = 0.*X"
   ]
  },
  {
   "cell_type": "code",
   "execution_count": 11,
   "metadata": {
    "ExecuteTime": {
     "end_time": "2020-10-08T02:07:48.341060Z",
     "start_time": "2020-10-08T02:07:48.321013Z"
    },
    "hidden": true
   },
   "outputs": [],
   "source": [
    "#precompute equilibrium config in terms of initial edge lengths, X0\n",
    "X0 = 0.*np.array(range(NK), dtype=np.float)\n",
    "for K in range(NK):\n",
    "    al = elements[K]\n",
    "    q  = X[al]\n",
    "    q1 = q[0] #the first nodal coordinate of the edge\n",
    "    q2 = q[1] #the second nodal coordinate of the edge\n",
    "    d = q2-q1\n",
    "    X0[K] = np.linalg.norm(d)"
   ]
  },
  {
   "cell_type": "code",
   "execution_count": 12,
   "metadata": {
    "ExecuteTime": {
     "end_time": "2020-10-08T02:07:49.062837Z",
     "start_time": "2020-10-08T02:07:49.043940Z"
    },
    "hidden": true
   },
   "outputs": [],
   "source": [
    "# #DONE: for each edge element, compute the nodal forces\n",
    "# K = 12\n",
    "# x0 = X0[K]\n",
    "# Ka = elements[K]\n",
    "# a1 = Ka[0]; a2 = Ka[1];\n",
    "# q1 = Q[a1]; q2 = Q[a2]; \n",
    "# # q  = Q[al]\n",
    "# # q1 = q[0] #the first nodal coordinate of the edge\n",
    "# # q2 = q[1] #the second nodal coordinate of the edge\n",
    "# force = spring_force(q1,q2,x0, k=1.)\n",
    "# #update node velocities \n",
    "# # V[a] = V[a] - ((t-tauK[K])/M[a])"
   ]
  },
  {
   "cell_type": "code",
   "execution_count": 13,
   "metadata": {
    "ExecuteTime": {
     "end_time": "2020-10-08T02:07:49.489181Z",
     "start_time": "2020-10-08T02:07:49.456020Z"
    },
    "hidden": true
   },
   "outputs": [
    {
     "name": "stdout",
     "output_type": "stream",
     "text": [
      "nodal times are = \n",
      "[1. 1. 1. 1. 1. 1. 1. 1. 1. 1. 1. 1. 1. 1. 1. 1. 1. 1. 1. 1.]\n"
     ]
    }
   ],
   "source": [
    "#TODO: simplify the explicit AVI algorithm for here\n",
    "t0 = 0.\n",
    "tf = 1.\n",
    "stepsize = 0.1\n",
    "#more args\n",
    "#elements, Q, V, M, stepsize\n",
    "Q, V, tau = explicit_synchronous(Q, V, M, elements, X0, t0, tf, stepsize)\n",
    "print('nodal times are = ')\n",
    "print(tau)\n",
    "#assert all nodes ended up at time tf\n",
    "assert ( np.isclose(tau,tf, rtol=1e-05, atol=1e-08).all() ) "
   ]
  },
  {
   "cell_type": "code",
   "execution_count": null,
   "metadata": {
    "ExecuteTime": {
     "end_time": "2020-10-07T17:07:31.542032Z",
     "start_time": "2020-10-07T17:07:31.521641Z"
    },
    "hidden": true
   },
   "outputs": [],
   "source": []
  },
  {
   "cell_type": "code",
   "execution_count": 14,
   "metadata": {
    "ExecuteTime": {
     "end_time": "2020-10-08T02:07:50.614246Z",
     "start_time": "2020-10-08T02:07:50.342930Z"
    },
    "hidden": true
   },
   "outputs": [
    {
     "data": {
      "image/png": "[encoded data removed]",
      "text/plain": [
       "<Figure size 288x288 with 1 Axes>"
      ]
     },
     "metadata": {
      "needs_background": "light"
     },
     "output_type": "display_data"
    }
   ],
   "source": [
    "#plot the results of time integration\n",
    "# plot nodes with matplotlib\n",
    "plt.subplots(figsize=(4,4))\n",
    "plt.scatter(x=X[:,0],y=X[:,1], c='k', s=10)\n",
    "plt.scatter(x=Q[:,0],y=Q[:,1], c='purple', s=10)\n",
    "\n",
    "# plot edges with matplotlib\n",
    "for K in range(NK):\n",
    "    nxl = []; nyl = [];\n",
    "    for a in elements[K]:\n",
    "        nxl.append(Q[a,0])\n",
    "        nyl.append(Q[a,1])\n",
    "        plt.plot(nxl,nyl, c='gray')\n",
    "plt.xlabel('x coord.')\n",
    "plt.ylabel('y coord.')\n",
    "plt.show()"
   ]
  },
  {
   "cell_type": "markdown",
   "metadata": {
    "ExecuteTime": {
     "end_time": "2020-10-06T19:23:22.932508Z",
     "start_time": "2020-10-06T19:23:22.916670Z"
    },
    "heading_collapsed": true
   },
   "source": [
    "# define measures of instantaneous volume and energy "
   ]
  },
  {
   "cell_type": "code",
   "execution_count": 15,
   "metadata": {
    "ExecuteTime": {
     "end_time": "2020-10-08T02:07:51.230602Z",
     "start_time": "2020-10-08T02:07:51.208817Z"
    },
    "hidden": true
   },
   "outputs": [
    {
     "data": {
      "text/plain": [
       "0.1619743750072717"
      ]
     },
     "execution_count": 15,
     "metadata": {},
     "output_type": "execute_result"
    }
   ],
   "source": [
    "#measure the area of one element\n",
    "origin = np.array([0.,0.])\n",
    "\n",
    "K  = 12\n",
    "Ka = elements[K]\n",
    "a1 = Ka[0]; a2 = Ka[1];\n",
    "q1 = Q[a1]; q2 = Q[a2]; \n",
    "\n",
    "def area_of_triangle(q1,q2,origin):\n",
    "    return np.cross(q1-origin,q2-origin)/2.\n",
    "    #     return np.linalg.norm(np.cross(q1-origin,q2-origin))/2.\n",
    "\n",
    "area_of_triangle(q1,q2,origin)"
   ]
  },
  {
   "cell_type": "code",
   "execution_count": 16,
   "metadata": {
    "ExecuteTime": {
     "end_time": "2020-10-08T02:07:51.651336Z",
     "start_time": "2020-10-08T02:07:51.629393Z"
    },
    "hidden": true
   },
   "outputs": [
    {
     "name": "stdout",
     "output_type": "stream",
     "text": [
      "the area of the mesh is currently 3.2394875001454353.\n"
     ]
    }
   ],
   "source": [
    "#compute the area of the mesh\n",
    "area = 0.\n",
    "for K in range(NK):\n",
    "    Ka = elements[K]\n",
    "    a1 = Ka[0]; a2 = Ka[1];\n",
    "    q1 = Q[a1]; q2 = Q[a2]; \n",
    "    area += area_of_triangle(q1,q2,origin)\n",
    "print(f'the area of the mesh is currently {area}.')"
   ]
  },
  {
   "cell_type": "code",
   "execution_count": 17,
   "metadata": {
    "ExecuteTime": {
     "end_time": "2020-10-08T02:07:52.048444Z",
     "start_time": "2020-10-08T02:07:52.029608Z"
    },
    "hidden": true
   },
   "outputs": [],
   "source": [
    "def energy_of_edge(q1,q2,v1,v2,m1,m2,x0,k=1.):\n",
    "    '''define the energy of a single edge element to be the sum of half of the energy of either of its two nodes.'''\n",
    "    energy = 0.\n",
    "    # kinetic energy of nodes\n",
    "    energy += np.dot(v1,v1) * m1 / 2.\n",
    "    energy += np.dot(v2,v2) * m2 / 2.\n",
    "    # potential energy of nodes\n",
    "    energy += 2. * (np.linalg.norm(q2-q1)-x0) ** 2 * k / 2.\n",
    "    energy /= 2.\n",
    "    return energy"
   ]
  },
  {
   "cell_type": "code",
   "execution_count": 18,
   "metadata": {
    "ExecuteTime": {
     "end_time": "2020-10-08T02:07:52.577668Z",
     "start_time": "2020-10-08T02:07:52.551498Z"
    },
    "hidden": true
   },
   "outputs": [
    {
     "data": {
      "text/plain": [
       "0.0005055874267719474"
      ]
     },
     "execution_count": 18,
     "metadata": {},
     "output_type": "execute_result"
    }
   ],
   "source": [
    "#measure the total mechanical energy of one element\n",
    "K  = 12\n",
    "Ka = elements[K]\n",
    "a1 = Ka[0]; a2 = Ka[1];\n",
    "q1 = Q[a1]; q2 = Q[a2]; \n",
    "v1 = V[a1]; v2 = V[a2]; \n",
    "m1 = M[a1]; m2 = M[a2]; \n",
    "x0 = X0[K]\n",
    "energy_of_edge(q1,q2,v1,v2,m1,m2,x0,k=1.)"
   ]
  },
  {
   "cell_type": "code",
   "execution_count": 19,
   "metadata": {
    "ExecuteTime": {
     "end_time": "2020-10-08T02:07:53.020778Z",
     "start_time": "2020-10-08T02:07:52.998851Z"
    },
    "hidden": true
   },
   "outputs": [
    {
     "name": "stdout",
     "output_type": "stream",
     "text": [
      "the energy of the mesh is currently 0.010111748535438976.\n"
     ]
    }
   ],
   "source": [
    "#measure the total mechanical energy of the entire mesh\n",
    "energy = 0.\n",
    "for K in range(NK):\n",
    "    Ka = elements[K]\n",
    "    a1 = Ka[0]; a2 = Ka[1];\n",
    "    q1 = Q[a1]; q2 = Q[a2]; \n",
    "    v1 = V[a1]; v2 = V[a2]; \n",
    "    m1 = M[a1]; m2 = M[a2]; \n",
    "    x0 = X0[K]\n",
    "    energy += energy_of_edge(q1,q2,v1,v2,m1,m2,x0,k=1.)\n",
    "print(f'the energy of the mesh is currently {energy}.')"
   ]
  },
  {
   "cell_type": "code",
   "execution_count": 20,
   "metadata": {
    "ExecuteTime": {
     "end_time": "2020-10-08T02:07:53.682867Z",
     "start_time": "2020-10-08T02:07:53.659437Z"
    },
    "hidden": true
   },
   "outputs": [
    {
     "name": "stdout",
     "output_type": "stream",
     "text": [
      "the perimeter of the mesh is currently 6.406774006620596.\n"
     ]
    }
   ],
   "source": [
    "#measure the perimeter of the mesh\n",
    "perimeter = 0.\n",
    "for K in range(NK):\n",
    "    al = elements[K]\n",
    "    q  = Q[al]\n",
    "    q1 = q[0] #the first nodal coordinate of the edge\n",
    "    q2 = q[1] #the second nodal coordinate of the edge\n",
    "    perimeter += np.linalg.norm(q2-q1)\n",
    "print(f'the perimeter of the mesh is currently {perimeter}.')    "
   ]
  },
  {
   "cell_type": "code",
   "execution_count": 21,
   "metadata": {
    "ExecuteTime": {
     "end_time": "2020-10-08T02:07:54.266068Z",
     "start_time": "2020-10-08T02:07:54.243074Z"
    },
    "hidden": true
   },
   "outputs": [
    {
     "name": "stdout",
     "output_type": "stream",
     "text": [
      "the perimeter_to_area_ratio of the mesh is currently 1.9777122172358952.\n",
      "the perimeter_to_area_ratio of the mesh is currently 12.670755225962917.\n",
      "compare to 4π = 12.566370614359172.\n"
     ]
    }
   ],
   "source": [
    "perimeter_to_area_ratio = perimeter/area\n",
    "print(f'the perimeter_to_area_ratio of the mesh is currently {perimeter_to_area_ratio}.')  \n",
    "\n",
    "square_perimeter_to_area_ratio = perimeter**2/area\n",
    "print(f'the perimeter_to_area_ratio of the mesh is currently {square_perimeter_to_area_ratio}.')  \n",
    "print(f'compare to 4π = {4*np.pi}.')  "
   ]
  },
  {
   "cell_type": "code",
   "execution_count": 22,
   "metadata": {
    "ExecuteTime": {
     "end_time": "2020-10-08T02:07:54.799406Z",
     "start_time": "2020-10-08T02:07:54.776078Z"
    },
    "hidden": true
   },
   "outputs": [],
   "source": [
    "def get_measures(Q, V, M, elements, X0, k=1.):\n",
    "    '''returns the total mechanical energy, perimeter, and area of the entire 2D mesh\n",
    "    energy, area, perimeter = get_measures(elements, Q, V, M, X0, k=1.)\n",
    "    '''\n",
    "    origin = np.array([0.,0.])\n",
    "    perimeter = 0.\n",
    "    energy = 0.\n",
    "    area = 0.\n",
    "    NK = elements.shape[0]\n",
    "    for K in range(NK):\n",
    "        Ka = elements[K]\n",
    "        a1 = Ka[0]; a2 = Ka[1];\n",
    "        q1 = Q[a1]; q2 = Q[a2]; \n",
    "        v1 = V[a1]; v2 = V[a2]; \n",
    "        m1 = M[a1]; m2 = M[a2]; \n",
    "        x0 = X0[K]\n",
    "        energy    += energy_of_edge(q1,q2,v1,v2,m1,m2,x0,k=k)\n",
    "        area      += area_of_triangle(q1,q2,origin)\n",
    "        perimeter += np.linalg.norm(q2-q1)\n",
    "    return energy, area, perimeter"
   ]
  },
  {
   "cell_type": "code",
   "execution_count": 23,
   "metadata": {
    "ExecuteTime": {
     "end_time": "2020-10-08T02:07:55.239413Z",
     "start_time": "2020-10-08T02:07:55.215168Z"
    },
    "hidden": true
   },
   "outputs": [
    {
     "name": "stdout",
     "output_type": "stream",
     "text": [
      "the area of the mesh is currently 0.010111748535438976.\n",
      "the perimeter of the mesh is currently 6.406774006620596.\n",
      "the perimeter_to_area_ratio of the mesh is currently 1.9777122172358952.\n",
      "the perimeter_to_area_ratio of the mesh is currently 12.670755225962917.\n",
      "compare perimeter_to_area_ratio to that of a circle 4π = 12.566370614359172.\n"
     ]
    },
    {
     "data": {
      "text/plain": [
       "12.670755225962917"
      ]
     },
     "execution_count": 23,
     "metadata": {},
     "output_type": "execute_result"
    }
   ],
   "source": [
    "energy, area, perimeter = get_measures(Q, V, M, elements, X0, k=1.)\n",
    "\n",
    "def print_measures(energy, area, perimeter):\n",
    "    print(f'the area of the mesh is currently {energy}.')\n",
    "    print(f'the perimeter of the mesh is currently {perimeter}.')    \n",
    "    perimeter_to_area_ratio = perimeter/area\n",
    "    print(f'the perimeter_to_area_ratio of the mesh is currently {perimeter_to_area_ratio}.')  \n",
    "    square_perimeter_to_area_ratio = perimeter**2/area\n",
    "    print(f'the perimeter_to_area_ratio of the mesh is currently {square_perimeter_to_area_ratio}.')  \n",
    "    print(f'compare perimeter_to_area_ratio to that of a circle 4π = {4*np.pi}.')\n",
    "    return square_perimeter_to_area_ratio\n",
    "print_measures(energy, area, perimeter)"
   ]
  },
  {
   "cell_type": "markdown",
   "metadata": {
    "ExecuteTime": {
     "end_time": "2020-10-06T23:39:52.508268Z",
     "start_time": "2020-10-06T23:39:52.493169Z"
    },
    "heading_collapsed": true
   },
   "source": [
    "# visualize system measures over time for the ESVI perturbed with isotropic dilation"
   ]
  },
  {
   "cell_type": "markdown",
   "metadata": {
    "hidden": true
   },
   "source": [
    "consider taking the initial configuration to be a dilation of the equilibrium configuration.\n",
    "\n",
    "$$\\vec{x}_a(t=0,a) \\propto X_a $$\n",
    "\n",
    "\n",
    "also consider the initial system to be at rest\n",
    "$$\\vec{v}(t=0,a) = \\vec{0} $$\n",
    "\n",
    "**result**, energy is conserved to 2 significant figures, and buckling occurs at around time $t=60$ for a stepsize of $h = 0.01$\n",
    "\n",
    "- DONE: plot ^these measures over time.  Do they look reasonable?  For a brief time, year.  Can I make a nice Fig. 1B/C with them?  They could make a potential contribution...\n",
    "     - E should be constant for all perturbations. It's not for ESVI.\n",
    "     - P**2/A should also be constant for all isotropic perturbations\n",
    "     - A and/or P/A might provide an analytical check for \"nice\" perturbations.  P^2/A is well conserved numerically."
   ]
  },
  {
   "cell_type": "code",
   "execution_count": 24,
   "metadata": {
    "ExecuteTime": {
     "end_time": "2020-10-08T02:07:56.757276Z",
     "start_time": "2020-10-08T02:07:56.724100Z"
    },
    "hidden": true
   },
   "outputs": [],
   "source": [
    "#reset the simulation to the initial perturbation\n",
    "Q = 1.1*X\n",
    "V = 0.*X\n",
    "t = 0.\n",
    "\n",
    "#get initial measures\n",
    "energy0, area0, perimeter0 = get_measures(Q, V, M, elements, X0, k=1.)\n",
    "\n",
    "# define the constant synchronous stepsizes and the stopping time\n",
    "tf = 60.\n",
    "stepsize = 0.01"
   ]
  },
  {
   "cell_type": "code",
   "execution_count": 25,
   "metadata": {
    "ExecuteTime": {
     "end_time": "2020-10-08T02:08:10.493397Z",
     "start_time": "2020-10-08T02:07:57.040682Z"
    },
    "hidden": true
   },
   "outputs": [],
   "source": [
    "energy_lst = []; area_lst = []; perimeter_lst = []; t_lst = []\n",
    "while t<tf:\n",
    "    #forward integrate in time\n",
    "    Q, V, tau = explicit_synchronous(Q, V, M, elements, X0, t0=t, tf=t+stepsize, stepsize=stepsize)\n",
    "    #update time, rounding to 15 digits because of floating point error\n",
    "    t = np.around(np.mean(tau),15)\n",
    "    #measure/record extrinsic system values\n",
    "    energy, area, perimeter = get_measures(Q, V, M, elements, X0, k=1.)\n",
    "    energy_lst.append(energy)\n",
    "    area_lst.append(area)\n",
    "    perimeter_lst.append(perimeter)\n",
    "    t_lst.append(t)"
   ]
  },
  {
   "cell_type": "code",
   "execution_count": 26,
   "metadata": {
    "ExecuteTime": {
     "end_time": "2020-10-08T02:08:10.600492Z",
     "start_time": "2020-10-08T02:08:10.572007Z"
    },
    "hidden": true
   },
   "outputs": [],
   "source": [
    "#format results as a pandas.DataFrame\n",
    "df = pd.DataFrame({'t':t_lst, 'energy':energy_lst, 'area':area_lst, 'perimeter':perimeter_lst})\n",
    "#compute intrinsic measures\n",
    "df['perimeter_to_area_ratio']   = df['perimeter']/df['area']\n",
    "df['square_perimeter_to_area_ratio'] = df['perimeter']**2/df['area']"
   ]
  },
  {
   "cell_type": "code",
   "execution_count": 27,
   "metadata": {
    "ExecuteTime": {
     "end_time": "2020-10-08T02:08:11.204569Z",
     "start_time": "2020-10-08T02:08:10.706079Z"
    },
    "hidden": true
   },
   "outputs": [
    {
     "data": {
      "image/png": "[encoded data removed]",
      "text/plain": [
       "<Figure size 864x288 with 3 Axes>"
      ]
     },
     "metadata": {
      "needs_background": "light"
     },
     "output_type": "display_data"
    }
   ],
   "source": [
    "#plot the extrinsic measures\n",
    "fig, axs = plt.subplots(ncols = 3, figsize = (12,4))\n",
    "\n",
    "#plot energy versus time, t\n",
    "ax = axs[0]\n",
    "x_values = df['t']\n",
    "y_values = df['energy']\n",
    "ax.plot(x_values,y_values, 'b', label='ESVI')\n",
    "ax.plot(x_values,energy0+0.*y_values, 'k',label='theoretical')\n",
    "ax.set_xlabel('t')\n",
    "ax.legend()\n",
    "ax.set_ylabel('energy')\n",
    "\n",
    "#plot area versus time, t\n",
    "ax = axs[1]\n",
    "x_values = df['t']\n",
    "y_values = df['area']\n",
    "ax.plot(x_values,y_values)\n",
    "ax.set_xlabel('t')\n",
    "ax.set_ylabel('area')\n",
    "\n",
    "#plot perimeter versus time, t\n",
    "ax = axs[2]\n",
    "x_values = df['t']\n",
    "y_values = df['perimeter']\n",
    "ax.plot(x_values,y_values)\n",
    "ax.set_xlabel('t')\n",
    "ax.set_ylabel('perimeter')\n",
    "\n",
    "plt.tight_layout()\n",
    "plt.show()"
   ]
  },
  {
   "cell_type": "code",
   "execution_count": 488,
   "metadata": {
    "ExecuteTime": {
     "end_time": "2020-10-07T17:27:04.178090Z",
     "start_time": "2020-10-07T17:27:03.549326Z"
    },
    "hidden": true
   },
   "outputs": [
    {
     "data": {
      "image/png": "[encoded data removed]",
      "text/plain": [
       "<Figure size 1152x288 with 3 Axes>"
      ]
     },
     "metadata": {
      "needs_background": "light"
     },
     "output_type": "display_data"
    }
   ],
   "source": [
    "#plot the intrinsic measures\n",
    "fig, axs = plt.subplots(ncols = 3, figsize = (16,4))\n",
    "\n",
    "#plot  versus time, t\n",
    "ax = axs[0]\n",
    "x_values = df['t']\n",
    "y_values = df['perimeter_to_area_ratio']\n",
    "ax.plot(x_values,y_values)\n",
    "ax.set_xlabel('t')\n",
    "ax.set_ylabel('perimeter_to_area_ratio')\n",
    "\n",
    "#plot area versus time, t\n",
    "ax = axs[1]\n",
    "x_values = df['t']\n",
    "y_values = df['square_perimeter_to_area_ratio']\n",
    "ax.plot(x_values,y_values, 'b', label='ESVI')\n",
    "ax.plot(x_values,4*np.pi+0.*y_values, 'k',label='theoretical')\n",
    "ax.set_xlabel('t')\n",
    "ax.legend()\n",
    "ax.set_ylabel('square_perimeter_to_area_ratio')\n",
    "\n",
    "#plot perimeter versus time, t\n",
    "ax = axs[2]\n",
    "x_values = df['t']\n",
    "y_values = df['energy']/df['perimeter']#**2\n",
    "ax.plot(x_values,y_values)\n",
    "ax.set_xlabel('t')\n",
    "ax.set_ylabel('energy density')\n",
    "\n",
    "plt.tight_layout()\n",
    "plt.show()"
   ]
  },
  {
   "cell_type": "code",
   "execution_count": 489,
   "metadata": {
    "ExecuteTime": {
     "end_time": "2020-10-07T17:27:11.909978Z",
     "start_time": "2020-10-07T17:27:11.665863Z"
    },
    "hidden": true
   },
   "outputs": [
    {
     "data": {
      "image/png": "[encoded data removed]",
      "text/plain": [
       "<Figure size 288x288 with 1 Axes>"
      ]
     },
     "metadata": {
      "needs_background": "light"
     },
     "output_type": "display_data"
    }
   ],
   "source": [
    "#plot the results of time integration\n",
    "# plot nodes with matplotlib\n",
    "plt.subplots(figsize=(4,4))\n",
    "plt.scatter(x=X[:,0],y=X[:,1], c='k', s=10)\n",
    "plt.scatter(x=Q[:,0],y=Q[:,1], c='purple', s=10)\n",
    "\n",
    "# plot edges with matplotlib\n",
    "for K in range(NK):\n",
    "    nxl = []; nyl = [];\n",
    "    for a in elements[K]:\n",
    "        nxl.append(Q[a,0])\n",
    "        nyl.append(Q[a,1])\n",
    "        plt.plot(nxl,nyl, c='gray')\n",
    "plt.xlabel('x coord.')\n",
    "plt.ylabel('y coord.')\n",
    "plt.show()"
   ]
  },
  {
   "cell_type": "markdown",
   "metadata": {
    "ExecuteTime": {
     "end_time": "2020-10-07T17:18:01.736423Z",
     "start_time": "2020-10-07T17:18:01.716983Z"
    },
    "heading_collapsed": true
   },
   "source": [
    "# visualize system measures over time for the ESVI perturbed with a horizontal stretching"
   ]
  },
  {
   "cell_type": "markdown",
   "metadata": {
    "hidden": true
   },
   "source": [
    "consider taking the initial configuration to be the equilibrium configuration.\n",
    "$$\\vec{x}_a(t=0,a) = X_a $$\n",
    "\n",
    "consider the initial velocity in the x direction to be proportional to the initial x coordinate\n",
    "$$v_x(t=0,a) \\propto x(t=0,a)$$"
   ]
  },
  {
   "cell_type": "code",
   "execution_count": 539,
   "metadata": {
    "ExecuteTime": {
     "end_time": "2020-10-07T23:26:13.802029Z",
     "start_time": "2020-10-07T23:26:13.784009Z"
    },
    "hidden": true
   },
   "outputs": [],
   "source": [
    "#reset the simulation to the initial perturbation\n",
    "vscale = .1 #unit length / unit time\n",
    "Q = X.copy()\n",
    "V = 0.*X\n",
    "V[:,0] = vscale*Q[:,0]\n",
    "t = 0."
   ]
  },
  {
   "cell_type": "code",
   "execution_count": 540,
   "metadata": {
    "ExecuteTime": {
     "end_time": "2020-10-07T23:26:14.415752Z",
     "start_time": "2020-10-07T23:26:14.385641Z"
    },
    "hidden": true
   },
   "outputs": [],
   "source": [
    "#get initial measures\n",
    "energy0, area0, perimeter0 = get_measures(Q, V, M, elements, X0, k=1.)\n",
    "\n",
    "# define the constant synchronous stepsizes and the stopping time\n",
    "tf = 60.\n",
    "stepsize = 0.01"
   ]
  },
  {
   "cell_type": "code",
   "execution_count": 541,
   "metadata": {
    "ExecuteTime": {
     "end_time": "2020-10-07T23:26:27.560010Z",
     "start_time": "2020-10-07T23:26:14.860154Z"
    },
    "hidden": true
   },
   "outputs": [],
   "source": [
    "energy_lst = []; area_lst = []; perimeter_lst = []; t_lst = []\n",
    "while t<tf:\n",
    "    #forward integrate in time\n",
    "    Q, V, tau = explicit_synchronous(Q, V, M, elements, X0, t0=t, tf=t+stepsize, stepsize=stepsize)\n",
    "    #update time, rounding to 15 digits because of floating point error\n",
    "    t = np.around(np.mean(tau),15)\n",
    "    #measure/record extrinsic system values\n",
    "    energy, area, perimeter = get_measures(Q, V, M, elements, X0, k=1.)\n",
    "    energy_lst.append(energy)\n",
    "    area_lst.append(area)\n",
    "    perimeter_lst.append(perimeter)\n",
    "    t_lst.append(t)"
   ]
  },
  {
   "cell_type": "code",
   "execution_count": 542,
   "metadata": {
    "ExecuteTime": {
     "end_time": "2020-10-07T23:26:28.876934Z",
     "start_time": "2020-10-07T23:26:28.850243Z"
    },
    "hidden": true
   },
   "outputs": [],
   "source": [
    "#format results as a pandas.DataFrame\n",
    "df = pd.DataFrame({'t':t_lst, 'energy':energy_lst, 'area':area_lst, 'perimeter':perimeter_lst})\n",
    "#compute intrinsic measures\n",
    "df['perimeter_to_area_ratio']   = df['perimeter']/df['area']\n",
    "df['square_perimeter_to_area_ratio'] = df['perimeter']**2/df['area']"
   ]
  },
  {
   "cell_type": "code",
   "execution_count": 543,
   "metadata": {
    "ExecuteTime": {
     "end_time": "2020-10-07T23:26:29.953915Z",
     "start_time": "2020-10-07T23:26:29.412978Z"
    },
    "hidden": true,
    "scrolled": true
   },
   "outputs": [
    {
     "data": {
      "image/png": "[encoded data removed]",
      "text/plain": [
       "<Figure size 864x288 with 3 Axes>"
      ]
     },
     "metadata": {
      "needs_background": "light"
     },
     "output_type": "display_data"
    }
   ],
   "source": [
    "#plot the extrinsic measures\n",
    "fig, axs = plt.subplots(ncols = 3, figsize = (12,4))\n",
    "\n",
    "#plot energy versus time, t\n",
    "ax = axs[0]\n",
    "x_values = df['t']\n",
    "y_values = df['energy']\n",
    "ax.plot(x_values,y_values, 'b', label='ESVI')\n",
    "ax.plot(x_values,energy0+0.*y_values, 'k',label='theoretical')\n",
    "ax.set_xlabel('t')\n",
    "ax.legend()\n",
    "ax.set_ylabel('energy')\n",
    "\n",
    "#plot area versus time, t\n",
    "ax = axs[1]\n",
    "x_values = df['t']\n",
    "y_values = df['area']\n",
    "ax.plot(x_values,y_values)\n",
    "ax.set_xlabel('t')\n",
    "ax.set_ylabel('area')\n",
    "\n",
    "#plot perimeter versus time, t\n",
    "ax = axs[2]\n",
    "x_values = df['t']\n",
    "y_values = df['perimeter']\n",
    "ax.plot(x_values,y_values)\n",
    "ax.set_xlabel('t')\n",
    "ax.set_ylabel('perimeter')\n",
    "\n",
    "plt.tight_layout()\n",
    "plt.show()"
   ]
  },
  {
   "cell_type": "code",
   "execution_count": 508,
   "metadata": {
    "ExecuteTime": {
     "end_time": "2020-10-07T17:43:28.503981Z",
     "start_time": "2020-10-07T17:43:27.683267Z"
    },
    "hidden": true
   },
   "outputs": [
    {
     "data": {
      "image/png": "[encoded data removed]",
      "text/plain": [
       "<Figure size 1152x288 with 3 Axes>"
      ]
     },
     "metadata": {
      "needs_background": "light"
     },
     "output_type": "display_data"
    }
   ],
   "source": [
    "#plot the intrinsic measures\n",
    "fig, axs = plt.subplots(ncols = 3, figsize = (16,4))\n",
    "\n",
    "#plot  versus time, t\n",
    "ax = axs[0]\n",
    "x_values = df['t']\n",
    "y_values = df['perimeter_to_area_ratio']\n",
    "ax.plot(x_values,y_values)\n",
    "ax.set_xlabel('t')\n",
    "ax.set_ylabel('perimeter_to_area_ratio')\n",
    "\n",
    "#plot area versus time, t\n",
    "ax = axs[1]\n",
    "x_values = df['t']\n",
    "y_values = df['square_perimeter_to_area_ratio']\n",
    "ax.plot(x_values,y_values, 'b', label='ESVI')\n",
    "ax.plot(x_values,4*np.pi+0.*y_values, 'k',label='theoretical')\n",
    "ax.set_xlabel('t')\n",
    "ax.legend()\n",
    "ax.set_ylabel('square_perimeter_to_area_ratio')\n",
    "\n",
    "#plot perimeter versus time, t\n",
    "ax = axs[2]\n",
    "x_values = df['t']\n",
    "y_values = df['energy']/df['perimeter']#**2\n",
    "ax.plot(x_values,y_values)\n",
    "ax.set_xlabel('t')\n",
    "ax.set_ylabel('energy density')\n",
    "\n",
    "plt.tight_layout()\n",
    "plt.show()"
   ]
  },
  {
   "cell_type": "code",
   "execution_count": 509,
   "metadata": {
    "ExecuteTime": {
     "end_time": "2020-10-07T17:43:38.009864Z",
     "start_time": "2020-10-07T17:43:37.779551Z"
    },
    "hidden": true
   },
   "outputs": [
    {
     "data": {
      "image/png": "[encoded data removed]",
      "text/plain": [
       "<Figure size 288x288 with 1 Axes>"
      ]
     },
     "metadata": {
      "needs_background": "light"
     },
     "output_type": "display_data"
    }
   ],
   "source": [
    "#plot the results of time integration\n",
    "# plot nodes with matplotlib\n",
    "plt.subplots(figsize=(4,4))\n",
    "plt.scatter(x=X[:,0],y=X[:,1], c='k', s=10)\n",
    "plt.scatter(x=Q[:,0],y=Q[:,1], c='purple', s=10)\n",
    "\n",
    "# plot edges with matplotlib\n",
    "for K in range(NK):\n",
    "    nxl = []; nyl = [];\n",
    "    for a in elements[K]:\n",
    "        nxl.append(Q[a,0])\n",
    "        nyl.append(Q[a,1])\n",
    "        plt.plot(nxl,nyl, c='gray')\n",
    "plt.xlabel('x coord.')\n",
    "plt.ylabel('y coord.')\n",
    "plt.show()"
   ]
  },
  {
   "cell_type": "markdown",
   "metadata": {
    "heading_collapsed": true
   },
   "source": [
    "# measure the energy defect as a function of the constant stepsize"
   ]
  },
  {
   "cell_type": "code",
   "execution_count": 28,
   "metadata": {
    "ExecuteTime": {
     "end_time": "2020-10-08T02:08:20.288120Z",
     "start_time": "2020-10-08T02:08:20.270795Z"
    },
    "hidden": true
   },
   "outputs": [],
   "source": [
    "#reset the simulation to the initial perturbation\n",
    "vscale = 1.#.1 #unit length / unit time\n",
    "Q = X.copy()\n",
    "V = 0.*X\n",
    "V[:,0] = vscale*Q[:,0]\n",
    "t = 0."
   ]
  },
  {
   "cell_type": "code",
   "execution_count": 29,
   "metadata": {
    "ExecuteTime": {
     "end_time": "2020-10-08T02:08:21.311919Z",
     "start_time": "2020-10-08T02:08:21.293517Z"
    },
    "hidden": true
   },
   "outputs": [],
   "source": [
    "#get initial measures\n",
    "energy0, area0, perimeter0 = get_measures(Q, V, M, elements, X0, k=1.)\n",
    "\n",
    "# define the constant synchronous stepsizes and the stopping time\n",
    "tf = 60.\n",
    "stepsize = 0.01"
   ]
  },
  {
   "cell_type": "code",
   "execution_count": 30,
   "metadata": {
    "ExecuteTime": {
     "end_time": "2020-10-08T02:08:22.035056Z",
     "start_time": "2020-10-08T02:08:22.015300Z"
    },
    "hidden": true
   },
   "outputs": [],
   "source": [
    "#initialize EK as the list of initial energies where EK[K] is the Kth element\n",
    "EK = 0.*X0\n",
    "for K in range(NK):\n",
    "    #compute the energy of the Kth element\n",
    "    Ka = elements[K]\n",
    "    a1 = Ka[0]; a2 = Ka[1];\n",
    "    q1 = Q[a1]; q2 = Q[a2]; \n",
    "    v1 = V[a1]; v2 = V[a2]; \n",
    "    m1 = M[a1]; m2 = M[a2]; \n",
    "    x0 = X0[K]\n",
    "    EK[K] = energy_of_edge(q1,q2,v1,v2,m1,m2,x0,k=1.)\n",
    "#compute the total initial energy\n",
    "E_total = np.sum(EK)"
   ]
  },
  {
   "cell_type": "code",
   "execution_count": 31,
   "metadata": {
    "ExecuteTime": {
     "end_time": "2020-10-08T02:08:26.436930Z",
     "start_time": "2020-10-08T02:08:26.416370Z"
    },
    "hidden": true
   },
   "outputs": [],
   "source": [
    "def get_energies(Q, V, M, elements, X0, k=1.):\n",
    "    '''get energy of system.\n",
    "    functionally get the energy defect for a given change to the system = (Q, V, M, elements, X0)'''\n",
    "    EK_next = 0.*X0\n",
    "    for K in range(NK):\n",
    "        #compute the energy of the Kth element\n",
    "        Ka = elements[K]\n",
    "        a1 = Ka[0]; a2 = Ka[1];\n",
    "        q1 = Q[a1]; q2 = Q[a2]; \n",
    "        v1 = V[a1]; v2 = V[a2]; \n",
    "        m1 = M[a1]; m2 = M[a2]; \n",
    "        x0 = X0[K]\n",
    "        EK_next[K] = energy_of_edge(q1,q2,v1,v2,m1,m2,x0,k=1.)\n",
    "    return EK_next"
   ]
  },
  {
   "cell_type": "code",
   "execution_count": 32,
   "metadata": {
    "ExecuteTime": {
     "end_time": "2020-10-08T02:08:29.919302Z",
     "start_time": "2020-10-08T02:08:29.895656Z"
    },
    "hidden": true
   },
   "outputs": [
    {
     "name": "stdout",
     "output_type": "stream",
     "text": [
      "0.24999999999999997\n",
      "The mean change in energy per element is 0.0 ± 0.0 unit energy.\n"
     ]
    }
   ],
   "source": [
    "#integrate in time by one step of duration, stepsize\n",
    "Q_new, V_new, tau_new = explicit_synchronous(Q.copy(), V.copy(), M.copy(), elements, X0, t0=0, tf=stepsize, stepsize=stepsize)\n",
    "EK_next = get_energies(Q, V, M, elements, X0, k=1.)\n",
    "E_defect = np.abs(EK_next - EK)\n",
    "E_total_next = np.sum(EK_next)\n",
    "E_total_defect = E_defect\n",
    "#get energy defect\n",
    "E_defect = EK_next - EK\n",
    "var_E_defect = np.var(np.abs(E_defect))\n",
    "mean_E_defect = np.mean(np.abs(E_defect))\n",
    "\n",
    "#print energy defect measures\n",
    "print(E_total_next)\n",
    "# print(E_total_defect)\n",
    "print(f\"The mean change in energy per element is {mean_E_defect} ± {var_E_defect} unit energy.\")"
   ]
  },
  {
   "cell_type": "code",
   "execution_count": 33,
   "metadata": {
    "ExecuteTime": {
     "end_time": "2020-10-08T02:08:30.849634Z",
     "start_time": "2020-10-08T02:08:30.831833Z"
    },
    "hidden": true
   },
   "outputs": [],
   "source": [
    "#update the old values with the new values\n",
    "E_total = E_total_next\n",
    "Q = Q_new.copy()\n",
    "V = V_new.copy()\n",
    "tau = tau_new.copy()"
   ]
  },
  {
   "cell_type": "code",
   "execution_count": 34,
   "metadata": {
    "ExecuteTime": {
     "end_time": "2020-10-08T02:08:31.718528Z",
     "start_time": "2020-10-08T02:08:31.699377Z"
    },
    "hidden": true
   },
   "outputs": [],
   "source": [
    "def get_avg_energy_defect_for_one_step(stepsize, Q, V, M, elements, X0, k=1.):\n",
    "    '''compute the mean±var energy_defect for a given stepsize functionally.\n",
    "    returns mean_E_defect, var_E_defect.'''\n",
    "    #get the old energies\n",
    "    EK = get_energies(Q, V, M, elements, X0, k=1.)\n",
    "    #integrate in time by one step of duration, stepsize\n",
    "    Q_new, V_new, tau_new = explicit_synchronous(Q.copy(), V.copy(), M.copy(), elements, X0, t0=0, tf=stepsize, stepsize=stepsize)\n",
    "    #get the new energies\n",
    "    EK_next = get_energies(Q_new, V_new, M, elements, X0, k=1.)\n",
    "    E_defect = EK_next - EK\n",
    "    var_E_defect = np.var(np.abs(E_defect))\n",
    "    mean_E_defect = np.mean(np.abs(E_defect))\n",
    "    return mean_E_defect, var_E_defect"
   ]
  },
  {
   "cell_type": "markdown",
   "metadata": {
    "heading_collapsed": true,
    "hidden": true
   },
   "source": [
    "## compute/save/plot the energy defect, ∆E, versus stepsize, h for perturbations #1, #2, and #3"
   ]
  },
  {
   "cell_type": "code",
   "execution_count": 114,
   "metadata": {
    "ExecuteTime": {
     "end_time": "2020-10-08T02:54:29.543993Z",
     "start_time": "2020-10-08T02:54:11.357856Z"
    },
    "hidden": true
   },
   "outputs": [],
   "source": [
    "# #reset the simulation to the initial perturbation #1\n",
    "# vscale = 500\n",
    "# Q = vscale*X\n",
    "# V = 0.*X\n",
    "# t = 0.\n",
    "\n",
    "# #reset the simulation to the initial perturbation #2\n",
    "# vscale = .1#.1 #unit length / unit time\n",
    "# Q = X.copy()\n",
    "# V = 0.*X\n",
    "# V[:,0] = vscale*Q[:,0]\n",
    "# t = 0.\n",
    "\n",
    "#reset the simulation to the initial perturbation #3\n",
    "vscale = 0.001 #unit length / unit time\n",
    "Q = X.copy()\n",
    "V = 0.*X\n",
    "V[:,0] = vscale*Q[:,0]\n",
    "V[:,1] = -vscale*Q[:,1]\n",
    "t = 0.\n",
    "\n",
    "#define a range of stepsizes\n",
    "h_array = np.logspace(-5,1.,num = 10**4)\n",
    "\n",
    "#compute the mean±var energy_defect for a range of stepsizes\n",
    "mean_energy_defect_lst = []; var_energy_defect_lst = [];\n",
    "for stepsize in h_array:\n",
    "    #compute the mean±var energy_defect for a given stepsize functionally.\n",
    "    mean_E_defect, var_E_defect = get_avg_energy_defect_for_one_step(stepsize, Q, V, M, elements, X0, k=1.)\n",
    "    mean_energy_defect_lst.append(mean_E_defect)\n",
    "    var_energy_defect_lst.append(var_E_defect)\n",
    "    #     print((stepsize,mean_E_defect, var_E_defect))"
   ]
  },
  {
   "cell_type": "code",
   "execution_count": null,
   "metadata": {
    "ExecuteTime": {
     "end_time": "2020-10-08T02:52:45.554712Z",
     "start_time": "2020-10-08T02:52:45.536934Z"
    },
    "hidden": true
   },
   "outputs": [],
   "source": []
  },
  {
   "cell_type": "code",
   "execution_count": 115,
   "metadata": {
    "ExecuteTime": {
     "end_time": "2020-10-08T02:54:29.692204Z",
     "start_time": "2020-10-08T02:54:29.672995Z"
    },
    "hidden": true
   },
   "outputs": [],
   "source": [
    "#format results as a pandas.DataFrame\n",
    "df = pd.DataFrame({'h':h_array, 'mean_E_defect':mean_energy_defect_lst, 'var_E_defect':var_energy_defect_lst})"
   ]
  },
  {
   "cell_type": "code",
   "execution_count": 116,
   "metadata": {
    "ExecuteTime": {
     "end_time": "2020-10-08T02:54:30.596115Z",
     "start_time": "2020-10-08T02:54:29.829147Z"
    },
    "hidden": true
   },
   "outputs": [],
   "source": [
    "#save .csv for this vscale\n",
    "os.chdir(nb_dir.replace('/nb','/data'))\n",
    "df.to_csv(f'E_defect_versus_h_ESVI_vscale_{vscale}.csv',index=False)\n",
    "beep(3)\n",
    "\n",
    "#define values to be plotted\n",
    "x_values                = df['h'].values\n",
    "y_values =    df['mean_E_defect'].values\n",
    "y_err_values = df['var_E_defect'].values"
   ]
  },
  {
   "cell_type": "code",
   "execution_count": 117,
   "metadata": {
    "ExecuteTime": {
     "end_time": "2020-10-08T02:54:39.821391Z",
     "start_time": "2020-10-08T02:54:30.739564Z"
    },
    "hidden": true
   },
   "outputs": [
    {
     "data": {
      "image/png": "[encoded data removed]",
      "text/plain": [
       "<Figure size 432x288 with 1 Axes>"
      ]
     },
     "metadata": {
      "needs_background": "light"
     },
     "output_type": "display_data"
    }
   ],
   "source": [
    "#plot the extrinsic measures\n",
    "fig, ax = plt.subplots(ncols = 1, figsize = (6,4))\n",
    "\n",
    "#plot energy versus time, t\n",
    "ax.plot(x_values,y_values, '-', 'gray', label='ESVI')\n",
    "ax.fill_between(x_values,y_values - y_err_values, y_values + y_err_values,\n",
    "                 color='gray', alpha=0.2)\n",
    "\n",
    "# ax.plot(x_values,y_err_values, 'b')\n",
    "# ax.plot(x_values,energy0+0.*y_values, 'k',label='theoretical')\n",
    "ax.set_xlabel('h')\n",
    "# ax.legend()\n",
    "ax.set_ylabel('∆E')\n",
    "ax.set_xscale('log')\n",
    "ax.set_yscale('log')\n",
    "\n",
    "plt.tight_layout()\n",
    "plt.show()"
   ]
  },
  {
   "cell_type": "code",
   "execution_count": 120,
   "metadata": {
    "ExecuteTime": {
     "end_time": "2020-10-08T03:12:06.098537Z",
     "start_time": "2020-10-08T03:12:05.862878Z"
    },
    "hidden": true
   },
   "outputs": [
    {
     "data": {
      "image/png": "[encoded data removed]",
      "text/plain": [
       "<Figure size 288x288 with 1 Axes>"
      ]
     },
     "metadata": {
      "needs_background": "light"
     },
     "output_type": "display_data"
    }
   ],
   "source": [
    "#plot the results of time integration\n",
    "# plot nodes with matplotlib\n",
    "plt.subplots(figsize=(4,4))\n",
    "plt.scatter(x=X[:,0],y=X[:,1], c='k', s=10)\n",
    "plt.scatter(x=Q[:,0],y=Q[:,1], c='purple', s=10)\n",
    "\n",
    "# plot edges with matplotlib\n",
    "for K in range(NK):\n",
    "    nxl = []; nyl = [];\n",
    "    for a in elements[K]:\n",
    "        nxl.append(Q[a,0])\n",
    "        nyl.append(Q[a,1])\n",
    "        plt.plot(nxl,nyl, c='gray')\n",
    "plt.xlabel('x coord.')\n",
    "plt.ylabel('y coord.')\n",
    "plt.tight_layout()\n",
    "plt.show()"
   ]
  },
  {
   "cell_type": "code",
   "execution_count": 119,
   "metadata": {
    "ExecuteTime": {
     "end_time": "2020-10-08T02:56:06.060768Z",
     "start_time": "2020-10-08T02:56:06.043364Z"
    },
    "hidden": true
   },
   "outputs": [],
   "source": [
    "#DONE: format ^that plot to show the 1sigma error bars\n",
    "#DONE: define a range of perturbation magnitudes\n",
    "#DONE: compute ^this data for variable perturbation magnitude\n",
    "#DONE: repeat ^this analysis for perturbation #1\n",
    "#DONE: repeat ^this analysis for perturbation #3\n",
    "\n",
    "#TODO(later): vary the number of elements, NK"
   ]
  },
  {
   "cell_type": "markdown",
   "metadata": {
    "heading_collapsed": true
   },
   "source": [
    "# TODO: choose asynchronous time steps that explicitely conserve energy/momentum\n",
    "- is energy/momentum conserved?\n",
    "- does buckling still happen?\n",
    "- does buckling happen any less?"
   ]
  },
  {
   "cell_type": "markdown",
   "metadata": {
    "ExecuteTime": {
     "end_time": "2020-10-07T16:37:51.803786Z",
     "start_time": "2020-10-07T16:37:51.786501Z"
    },
    "hidden": true
   },
   "source": [
    "- TODO(pen and paper work): vary the world lines of particles to conserve both energy and momentum for each element update.\n",
    "\n",
    "- TODO: consider asynchronous time steps/more time steps/adaptive time steps\n",
    "- TODO: consider adding a pressure force meant to conserve area\n",
    "- TODO: consider adding dissapation\n",
    "- TODO(later): visualize the position/configuration time series\n",
    "- TODO(later): write a synchronize_system function that takes tau/tauK and returns the (Q, V) of the mesh interpolated to the desired time, t"
   ]
  },
  {
   "cell_type": "markdown",
   "metadata": {
    "heading_collapsed": true
   },
   "source": [
    "# TODO: simplest adaptive time stepping routine to conserve energy within a specified tolerance"
   ]
  },
  {
   "cell_type": "markdown",
   "metadata": {
    "hidden": true
   },
   "source": [
    "- first consider determining if ∆E/E_0 has all these curves landing on eachother\n",
    "    - TODO(will take at least 20 min of flow state work): compute the initial energies. record.  compute ∆E/E_0 for the yaxis. plot all values and see which trials land on comparable curves\n",
    "if ^that seems relatively universal, then consider the approximation\n",
    "\n",
    "$$ln(h)\\propto ln(\\Delta E/E_0)$$\n",
    "or \n",
    "$$h \\approx ln(\\Delta E/E_0)$$"
   ]
  },
  {
   "cell_type": "code",
   "execution_count": 121,
   "metadata": {
    "ExecuteTime": {
     "end_time": "2020-10-11T19:31:50.028627Z",
     "start_time": "2020-10-11T19:31:49.756007Z"
    },
    "hidden": true
   },
   "outputs": [],
   "source": [
    "#TODO: make a simplest adaptive time stepping routine.\n",
    "#TODO(maybe): consider perturbation #3 (which is loosely volume conserving?)\n",
    "#TODO(maybe): make a hypothesis/back-of-envelop-estimate on the energy versus time for some adaptive time stepping routine\n",
    "#TODO: observe the effects of some adaptive time stepping routine"
   ]
  },
  {
   "cell_type": "markdown",
   "metadata": {},
   "source": [
    "# TODO: simplest IMR for time stepping one element\n",
    "- some implicit solve is necessary to get quality results!\n",
    "<br><br><br>\n",
    "- is energy/momentum conserved?\n",
    "- does buckling still happen?\n",
    "- does buckling happen any less?"
   ]
  },
  {
   "cell_type": "markdown",
   "metadata": {},
   "source": [
    "## type down the equations for an implicit integrator from the papers here\n",
    "\n",
    "the discrete d'Alembert Labrange equation from `KamaOrWe2000.pdf` is (Eqn. 5.4)\n",
    "\n",
    "$$\n",
    "\\frac{1}{h}(-q_{k+2}+2q_{k+1}-q_{k}) + \\frac{h}{2}(1-\\alpha)a_{k+1+\\alpha} + \\frac{h}{2} \\alpha a_{k+2-\\alpha} + \\frac{h}{2}\\alpha a_{k+\\alpha} + \\frac{h}{2}(1-\\alpha)a_{k+1-\\alpha} + \\frac{h}{2}F\\Big(\\frac{q_{k+2}-q_{k+1}}{h}\\Big) + \\frac{h}{2}F\\Big(\\frac{q_{k+1}-q_k}{h}\\Big)=0\n",
    "$$\n",
    "\n",
    "^this integrator is second order accurate for all $\\alpha$.  It considers Lagrangians of the form $L = (1/2)\\dot{q}^TM\\dot{q}-V(q)$ with an arbitrary nonconservative force $F=F(\\dot{q})$.  It assumes constant time steps.\n",
    "\n",
    "Where $a_k = M^{-1}(-\\nabla V(q_k))$ and $q_{k+\\alpha} = (1-\\alpha)q_k + \\alpha q_{k+1}$.\n"
   ]
  },
  {
   "cell_type": "markdown",
   "metadata": {
    "heading_collapsed": true
   },
   "source": [
    "## the generalized explicit trapezoidal rule\n",
    "- does not assume constant step sizes\n",
    "- doesn't appear to need modicifaction to \n",
    "\n",
    "- but is it symplectic??"
   ]
  },
  {
   "cell_type": "code",
   "execution_count": 122,
   "metadata": {
    "ExecuteTime": {
     "end_time": "2020-10-11T22:49:50.148432Z",
     "start_time": "2020-10-11T22:49:49.519809Z"
    },
    "hidden": true
   },
   "outputs": [],
   "source": [
    "from scipy import optimize"
   ]
  },
  {
   "cell_type": "code",
   "execution_count": 128,
   "metadata": {
    "ExecuteTime": {
     "end_time": "2020-10-11T22:54:01.984439Z",
     "start_time": "2020-10-11T22:54:01.961865Z"
    },
    "hidden": true
   },
   "outputs": [],
   "source": [
    "# optimize.basinhopping?\n",
    "# optimize.brent?\n",
    "# optimize.fsolve?\n",
    "# optimize.minpack.fsolve?\n",
    "optimize.toms748?"
   ]
  },
  {
   "cell_type": "code",
   "execution_count": 130,
   "metadata": {
    "ExecuteTime": {
     "end_time": "2020-10-11T23:00:49.650188Z",
     "start_time": "2020-10-11T23:00:48.894054Z"
    },
    "hidden": true
   },
   "outputs": [],
   "source": [
    "import jax"
   ]
  },
  {
   "cell_type": "code",
   "execution_count": 141,
   "metadata": {
    "ExecuteTime": {
     "end_time": "2020-10-11T23:04:11.703448Z",
     "start_time": "2020-10-11T23:04:11.679912Z"
    },
    "hidden": true
   },
   "outputs": [],
   "source": [
    "# jax.value_and_grad?\n",
    "jax.remat?"
   ]
  },
  {
   "cell_type": "code",
   "execution_count": 142,
   "metadata": {
    "ExecuteTime": {
     "end_time": "2020-10-11T23:05:47.382092Z",
     "start_time": "2020-10-11T23:05:47.362701Z"
    },
    "hidden": true
   },
   "outputs": [],
   "source": [
    "jax.hessian?"
   ]
  },
  {
   "cell_type": "code",
   "execution_count": 154,
   "metadata": {
    "ExecuteTime": {
     "end_time": "2020-10-11T23:12:48.721922Z",
     "start_time": "2020-10-11T23:12:48.697753Z"
    },
    "hidden": true
   },
   "outputs": [],
   "source": [
    "jax.grad?"
   ]
  },
  {
   "cell_type": "code",
   "execution_count": null,
   "metadata": {
    "hidden": true
   },
   "outputs": [],
   "source": []
  }
 ],
 "metadata": {
  "kernelspec": {
   "display_name": "Python 3",
   "language": "python",
   "name": "python3"
  },
  "language_info": {
   "codemirror_mode": {
    "name": "ipython",
    "version": 3
   },
   "file_extension": ".py",
   "mimetype": "text/x-python",
   "name": "python",
   "nbconvert_exporter": "python",
   "pygments_lexer": "ipython3",
   "version": "3.8.6"
  },
  "toc": {
   "base_numbering": 1,
   "nav_menu": {},
   "number_sections": false,
   "sideBar": false,
   "skip_h1_title": false,
   "title_cell": "Table of Contents",
   "title_sidebar": "Contents",
   "toc_cell": false,
   "toc_position": {},
   "toc_section_display": false,
   "toc_window_display": false
  },
  "varInspector": {
   "cols": {
    "lenName": 16,
    "lenType": 16,
    "lenVar": 40
   },
   "kernels_config": {
    "python": {
     "delete_cmd_postfix": "",
     "delete_cmd_prefix": "del ",
     "library": "var_list.py",
     "varRefreshCmd": "print(var_dic_list())"
    },
    "r": {
     "delete_cmd_postfix": ") ",
     "delete_cmd_prefix": "rm(",
     "library": "var_list.r",
     "varRefreshCmd": "cat(var_dic_list()) "
    }
   },
   "types_to_exclude": [
    "module",
    "function",
    "builtin_function_or_method",
    "instance",
    "_Feature"
   ],
   "window_display": false
  }
 },
 "nbformat": 4,
 "nbformat_minor": 2
}
