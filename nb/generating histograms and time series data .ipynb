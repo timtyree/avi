{
 "cells": [
  {
   "cell_type": "markdown",
   "metadata": {
    "ExecuteTime": {
     "end_time": "2020-12-10T04:02:34.596708Z",
     "start_time": "2020-12-10T04:02:34.594697Z"
    }
   },
   "source": [
    "# neural time step evolution/generating histograms and time series data \n",
    "Tim Tyree<br>\n",
    "12.9.2020<br>"
   ]
  },
  {
   "cell_type": "code",
   "execution_count": 26,
   "metadata": {
    "ExecuteTime": {
     "end_time": "2020-12-11T06:01:46.491385Z",
     "start_time": "2020-12-11T06:01:46.463742Z"
    }
   },
   "outputs": [
    {
     "name": "stdout",
     "output_type": "stream",
     "text": [
      "Automatic calling is: Smart\n",
      "The autoreload extension is already loaded. To reload it, use:\n",
      "  %reload_ext autoreload\n"
     ]
    }
   ],
   "source": [
    "%matplotlib inline\n",
    "from lib.my_initialization import *\n",
    "from lib.controller.integrate_forward_dormand_prince_asynchronous import *\n",
    "from lib.controller.one_step_forward_euler import *\n",
    "from lib.controller.simple_explicit_time_adaptation import *\n",
    "\n",
    "%autocall 1\n",
    "%load_ext autoreload\n",
    "%autoreload 2"
   ]
  },
  {
   "cell_type": "code",
   "execution_count": 2,
   "metadata": {
    "ExecuteTime": {
     "end_time": "2020-12-11T06:00:43.675133Z",
     "start_time": "2020-12-11T06:00:43.654235Z"
    }
   },
   "outputs": [],
   "source": [
    "# # import os, re, sys, matplotlib.pyplot as plt, numpy as np, pandas as pd\n",
    "# from tkinter import filedialog, Tk\n",
    "# # from glob import glob\n",
    "# def search_for_file (currdir = os.getcwd()):\n",
    "# \t'''#make functions for save file name, input cell frames, and input cell trajectories'''\n",
    "# \t#TODO: eventually make this ^take cell trajectories or cell positions\n",
    "# \troot = Tk()\n",
    "# \ttempdir = filedialog.askopenfilename(parent=root, \n",
    "# \t\t\t\t\t\t\t\t\t\t initialdir=currdir, \n",
    "# \t\t\t\t\t\t\t\t\t\t title=\"Please select a file\")#, \n",
    "# \t\t\t\t\t\t\t\t\t\t # filetypes = ((\"all files\",\"*.*\")))\n",
    "# \troot.destroy()\n",
    "# \tif len(tempdir) > 0:\n",
    "# \t\tprint (\"File: %s\" % tempdir)\n",
    "# \treturn tempdir"
   ]
  },
  {
   "cell_type": "markdown",
   "metadata": {
    "ExecuteTime": {
     "end_time": "2020-12-10T05:45:23.044400Z",
     "start_time": "2020-12-10T05:45:23.022758Z"
    },
    "heading_collapsed": true
   },
   "source": [
    "# scratch"
   ]
  },
  {
   "cell_type": "code",
   "execution_count": 3,
   "metadata": {
    "ExecuteTime": {
     "end_time": "2020-12-11T06:00:43.699915Z",
     "start_time": "2020-12-11T06:00:43.676971Z"
    },
    "hidden": true
   },
   "outputs": [],
   "source": [
    "data_folder = nb_dir + '/../data/mov_csv/'\n",
    "os.chdir(data_folder)"
   ]
  },
  {
   "cell_type": "code",
   "execution_count": 4,
   "metadata": {
    "ExecuteTime": {
     "end_time": "2020-12-11T06:00:43.846985Z",
     "start_time": "2020-12-11T06:00:43.701414Z"
    },
    "hidden": true
   },
   "outputs": [
    {
     "name": "stdout",
     "output_type": "stream",
     "text": [
      "avi_es_counts_fixed_lr_a_equal_b_spherical_mesh_100_mu_1.0_lambda_10.0_gamma_0.0_vscale_1.0_stepsizeinit_0.0001_salience_2_atolx_0.0001.npy\r\n",
      "avi_es_counts_spherical_mesh_100_mu_1.0_lambda_10.0_gamma_0.0.npy.npz\r\n",
      "avi_es_fixed_lr_a_equal_b_spherical_mesh_1000_mu_1.0_lambda_10.0_gamma_0.05_vscale_2.0_stepsizeinit_0.005_salience_2_atolx_0.0001.csv\r\n",
      "avi_es_fixed_lr_a_equal_b_spherical_mesh_100_mu_1.0_lambda_10.0_gamma_0.0_vscale_1.0_stepsizeinit_0.0001_salience_2_atolx_0.0001.csv\r\n",
      "avi_es_fixed_lr_a_equal_b_spherical_mesh_100_mu_1.0_lambda_10.0_gamma_0.0_vscale_2.0_stepsizeinit_0.0001_salience_2_atolx_0.0001.csv\r\n",
      "avi_es_fixed_lr_a_equal_b_spherical_mesh_400_mu_1.0_lambda_10.0_gamma_0.05_vscale_2.0_stepsizeinit_0.005_salience_2_atolx_0.0001.csv\r\n",
      "avi_es_fixed_lr_a_equal_b_spherical_mesh_64_mu_1.0_lambda_10.0_gamma_0.05_vscale_2.0_stepsizeinit_0.005_salience_2_atolx_0.0001.csv\r\n",
      "avi_es_fixed_lr_a_equal_b_spherical_mesh_64_mu_1.0_lambda_10.0_gamma_0.05_vscale_2.0_stepsizeinit_0.01_salience_2_atolx_0.0001.csv\r\n",
      "avi_es_spherical_mesh_100_mu_1.0_lambda_10.0_gamma_0.0.csv\r\n",
      "avi_es_variable_lr_a_equal_b_spherical_mesh_400_mu_1.0_lambda_10.0_gamma_0.05_vscale_2.0_stepsizeinit_0.0025_salience_0.5_atolx_0.0001.csv\r\n",
      "avi_es_variable_lr_a_equal_b_spherical_mesh_400_mu_1.0_lambda_10.0_gamma_0.05_vscale_2.0_stepsizeinit_0.0025_salience_4_atolx_0.0001.csv\r\n",
      "avi_es_variable_lr_spherical_mesh_400_mu_1.0_lambda_10.0_gamma_0.05_vscale_2.0_salience_2_stepsizeinit_0.0025_atolx_0.0001_btolx_1e-05.csv\r\n",
      "avi_esynchronous_counts_fixed_lr_a_equal_b_spherical_mesh_100_mu_1.0_lambda_10.0_gamma_0.0_vscale_1.0_stepsizeinit_0.0001_salience_2_atolx_0.0001.npy\r\n",
      "avi_esynchronous_counts_fixed_lr_a_equal_b_spherical_mesh_400_mu_1.0_lambda_10.0_gamma_0.0_vscale_1.0_stepsizeinit_0.0001_salience_2_atolx_0.0001.npy\r\n",
      "avi_esynchronous_fixed_lr_a_equal_b_spherical_mesh_100_mu_1.0_lambda_10.0_gamma_0.0_vscale_1.0_stepsizeinit_0.0001_salience_2_atolx_0.0001.csv\r\n",
      "avi_esynchronous_fixed_lr_a_equal_b_spherical_mesh_400_mu_1.0_lambda_10.0_gamma_0.0_vscale_1.0_stepsizeinit_0.0001_salience_2_atolx_0.0001.csv\r\n",
      "avi_is_spherical_mesh_100.stl_mu_1.0_lambda_1.0_gamma_1.0.csv\r\n",
      "avi_is_spherical_mesh_100_mu_1.0_lambda_10.0_gamma_0.0.csv\r\n",
      "avi_is_spherical_mesh_400.stl_mu_1.0_lambda_1.0_gamma_0.0.csv\r\n",
      "avi_ns_a_equal_b_spherical_mesh_100_mu_1.0_lambda_1.0_gamma_0.0vscale_2.0_stepsizeinit_0.005.csv\r\n",
      "avi_ns_a_equal_b_spherical_mesh_100_mu_1.0_lambda_1.0_gamma_0.0vscale_2.0_stepsizeinit_0.005_salience_32.csv\r\n",
      "avi_ns_a_equal_b_spherical_mesh_100_mu_1.0_lambda_1.0_gamma_0.0vscale_2.0_stepsizeinit_0.005_salience_32_atolx_0.0001.csv\r\n",
      "avi_ns_a_equal_b_spherical_mesh_100_mu_1.0_lambda_1.0_gamma_0.0vscale_2.0_stepsizeinit_5e-05_salience_128_atolx_0.0001.csv\r\n",
      "avi_ns_a_equal_b_spherical_mesh_100_mu_1.0_lambda_10.0_gamma_0.0vscale_2.0_stepsizeinit_0.005.csv\r\n",
      "avi_ns_asynch_fixed_lr_spherical_mesh_400_mu_1.0_lambda_10.0_gamma_0.05vscale_2.0_stepsizeinit_0.0001_salience_2_atolx_0.0001.csv\r\n",
      "avi_ns_counts_a_equal_b_spherical_mesh_100_mu_1.0_lambda_1.0_gamma_0.0vscale_2.0_stepsizeinit_0.005.npy\r\n",
      "avi_ns_counts_a_equal_b_spherical_mesh_100_mu_1.0_lambda_1.0_gamma_0.0vscale_2.0_stepsizeinit_0.005_salience_32.npy\r\n",
      "avi_ns_counts_a_equal_b_spherical_mesh_100_mu_1.0_lambda_1.0_gamma_0.0vscale_2.0_stepsizeinit_0.005_salience_32_atolx_0.0001.npy\r\n",
      "avi_ns_counts_a_equal_b_spherical_mesh_100_mu_1.0_lambda_1.0_gamma_0.0vscale_2.0_stepsizeinit_5e-05_salience_128_atolx_0.0001.npy\r\n",
      "avi_ns_counts_a_equal_b_spherical_mesh_100_mu_1.0_lambda_1.0_gamma_0.0vscale_2.0_stepsizeinit_5e-05_salience_128_atolx_0.0001.npy copy\r\n",
      "avi_ns_counts_a_equal_b_spherical_mesh_100_mu_1.0_lambda_10.0_gamma_0.0.npz.npy\r\n",
      "avi_ns_counts_asynch_fixed_lr_spherical_mesh_400_mu_1.0_lambda_10.0_gamma_0.05vscale_2.0_stepsizeinit_0.0001_salience_2_atolx_0.0001.npy\r\n",
      "avi_ns_counts_spherical_mesh_100_mu_1.0_lambda_10.0_gamma_0.0.npz\r\n",
      "avi_ns_spherical_mesh_100_mu_1.0_lambda_10.0_gamma_0.0.csv\r\n",
      "esvi_sphere_100.csv\r\n",
      "squish_not_working.csv\r\n"
     ]
    }
   ],
   "source": [
    "!ls"
   ]
  },
  {
   "cell_type": "code",
   "execution_count": 5,
   "metadata": {
    "ExecuteTime": {
     "end_time": "2020-12-11T06:00:43.872676Z",
     "start_time": "2020-12-11T06:00:43.848609Z"
    },
    "hidden": true
   },
   "outputs": [],
   "source": [
    "# input_count_fn = 'avi_ns_counts_spherical_mesh_100_mu_1.0_lambda_10.0_gamma_0.0.npy.npz'\n",
    "# input_csv_fn = 'avi_ns_spherical_mesh_100_mu_1.0_lambda_10.0_gamma_0.0.csv'\n",
    "input_count_fn = \"avi_ns_counts_spherical_mesh_100_mu_1.0_lambda_10.0_gamma_0.0.npz\"\n",
    "input_csv_fn = \"avi_ns_spherical_mesh_100_mu_1.0_lambda_10.0_gamma_0.0.csv\""
   ]
  },
  {
   "cell_type": "markdown",
   "metadata": {
    "hidden": true
   },
   "source": [
    "## (not working) view a video"
   ]
  },
  {
   "cell_type": "code",
   "execution_count": 6,
   "metadata": {
    "ExecuteTime": {
     "end_time": "2020-12-11T06:00:43.896105Z",
     "start_time": "2020-12-11T06:00:43.875802Z"
    },
    "hidden": true
   },
   "outputs": [
    {
     "name": "stdout",
     "output_type": "stream",
     "text": [
      "/Users/timothytyree/Documents/GitHub/avi/vid/out.mp4\n"
     ]
    }
   ],
   "source": [
    "vid_folder = nb_dir + '/../vid'\n",
    "os.chdir(vid_folder)\n",
    "vid_fn = \"/Users/timothytyree/Documents/GitHub/avi/vid/out.mp4\"#search_for_file ()\n",
    "# vid_fn_avi = vid_fn.replace('.mov','.avi')\n",
    "print(vid_fn)"
   ]
  },
  {
   "cell_type": "code",
   "execution_count": 7,
   "metadata": {
    "ExecuteTime": {
     "end_time": "2020-12-11T06:00:43.919813Z",
     "start_time": "2020-12-11T06:00:43.898839Z"
    },
    "hidden": true
   },
   "outputs": [],
   "source": [
    "# !ffmpeg f\"{vid_fn}\" f\"{vid_fn_avi}\"\n",
    "# !ffmpeg -i vid_fn vid_fn_avi\n",
    "# !ls -l\n"
   ]
  },
  {
   "cell_type": "code",
   "execution_count": 8,
   "metadata": {
    "ExecuteTime": {
     "end_time": "2020-12-11T06:00:43.942988Z",
     "start_time": "2020-12-11T06:00:43.921262Z"
    },
    "hidden": true
   },
   "outputs": [],
   "source": [
    "# # from IPython.display import Video\n",
    "\n",
    "# # Video(vid_fn)\n",
    "# # # Video('out.webm')\n",
    "\n",
    "# from IPython.display import HTML\n",
    "\n",
    "# # HTML(f\"\"\"\n",
    "# #     <video alt=\"test\" controls>\n",
    "# #         <source src=\"{os.path.basename(vid_fn)}\" type=\"video/mp4\">\n",
    "# #     </video>\n",
    "# # \"\"\")\n",
    "\n",
    "# # HTML(f\"\"\"\n",
    "# # <video width=\"320\" height=\"240\" controls>\n",
    "# #   <source src=\"{os.path.basename(vid_fn)}\" type=\"video/mp4\">\n",
    "# # </video>\n",
    "# # \"\"\")"
   ]
  },
  {
   "cell_type": "markdown",
   "metadata": {
    "heading_collapsed": true,
    "hidden": true
   },
   "source": [
    "## plot measures "
   ]
  },
  {
   "cell_type": "code",
   "execution_count": 9,
   "metadata": {
    "ExecuteTime": {
     "end_time": "2020-12-11T06:00:44.166940Z",
     "start_time": "2020-12-11T06:00:43.945041Z"
    },
    "hidden": true
   },
   "outputs": [
    {
     "ename": "FileNotFoundError",
     "evalue": "[Errno 2] File avi_ns_spherical_mesh_100_mu_1.0_lambda_10.0_gamma_0.0.csv does not exist: 'avi_ns_spherical_mesh_100_mu_1.0_lambda_10.0_gamma_0.0.csv'",
     "output_type": "error",
     "traceback": [
      "\u001b[0;31m---------------------------------------------------------------------------\u001b[0m",
      "\u001b[0;31mFileNotFoundError\u001b[0m                         Traceback (most recent call last)",
      "\u001b[0;32m<ipython-input-9-564331d9a5b6>\u001b[0m in \u001b[0;36m<module>\u001b[0;34m\u001b[0m\n\u001b[0;32m----> 1\u001b[0;31m \u001b[0mdf\u001b[0m \u001b[0;34m=\u001b[0m \u001b[0mpd\u001b[0m\u001b[0;34m.\u001b[0m\u001b[0mread_csv\u001b[0m\u001b[0;34m(\u001b[0m\u001b[0minput_csv_fn\u001b[0m\u001b[0;34m)\u001b[0m\u001b[0;34m\u001b[0m\u001b[0;34m\u001b[0m\u001b[0m\n\u001b[0m",
      "\u001b[0;32m/usr/local/lib/python3.8/site-packages/pandas/io/parsers.py\u001b[0m in \u001b[0;36mparser_f\u001b[0;34m(filepath_or_buffer, sep, delimiter, header, names, index_col, usecols, squeeze, prefix, mangle_dupe_cols, dtype, engine, converters, true_values, false_values, skipinitialspace, skiprows, skipfooter, nrows, na_values, keep_default_na, na_filter, verbose, skip_blank_lines, parse_dates, infer_datetime_format, keep_date_col, date_parser, dayfirst, cache_dates, iterator, chunksize, compression, thousands, decimal, lineterminator, quotechar, quoting, doublequote, escapechar, comment, encoding, dialect, error_bad_lines, warn_bad_lines, delim_whitespace, low_memory, memory_map, float_precision)\u001b[0m\n\u001b[1;32m    674\u001b[0m         )\n\u001b[1;32m    675\u001b[0m \u001b[0;34m\u001b[0m\u001b[0m\n\u001b[0;32m--> 676\u001b[0;31m         \u001b[0;32mreturn\u001b[0m \u001b[0m_read\u001b[0m\u001b[0;34m(\u001b[0m\u001b[0mfilepath_or_buffer\u001b[0m\u001b[0;34m,\u001b[0m \u001b[0mkwds\u001b[0m\u001b[0;34m)\u001b[0m\u001b[0;34m\u001b[0m\u001b[0;34m\u001b[0m\u001b[0m\n\u001b[0m\u001b[1;32m    677\u001b[0m \u001b[0;34m\u001b[0m\u001b[0m\n\u001b[1;32m    678\u001b[0m     \u001b[0mparser_f\u001b[0m\u001b[0;34m.\u001b[0m\u001b[0m__name__\u001b[0m \u001b[0;34m=\u001b[0m \u001b[0mname\u001b[0m\u001b[0;34m\u001b[0m\u001b[0;34m\u001b[0m\u001b[0m\n",
      "\u001b[0;32m/usr/local/lib/python3.8/site-packages/pandas/io/parsers.py\u001b[0m in \u001b[0;36m_read\u001b[0;34m(filepath_or_buffer, kwds)\u001b[0m\n\u001b[1;32m    446\u001b[0m \u001b[0;34m\u001b[0m\u001b[0m\n\u001b[1;32m    447\u001b[0m     \u001b[0;31m# Create the parser.\u001b[0m\u001b[0;34m\u001b[0m\u001b[0;34m\u001b[0m\u001b[0;34m\u001b[0m\u001b[0m\n\u001b[0;32m--> 448\u001b[0;31m     \u001b[0mparser\u001b[0m \u001b[0;34m=\u001b[0m \u001b[0mTextFileReader\u001b[0m\u001b[0;34m(\u001b[0m\u001b[0mfp_or_buf\u001b[0m\u001b[0;34m,\u001b[0m \u001b[0;34m**\u001b[0m\u001b[0mkwds\u001b[0m\u001b[0;34m)\u001b[0m\u001b[0;34m\u001b[0m\u001b[0;34m\u001b[0m\u001b[0m\n\u001b[0m\u001b[1;32m    449\u001b[0m \u001b[0;34m\u001b[0m\u001b[0m\n\u001b[1;32m    450\u001b[0m     \u001b[0;32mif\u001b[0m \u001b[0mchunksize\u001b[0m \u001b[0;32mor\u001b[0m \u001b[0miterator\u001b[0m\u001b[0;34m:\u001b[0m\u001b[0;34m\u001b[0m\u001b[0;34m\u001b[0m\u001b[0m\n",
      "\u001b[0;32m/usr/local/lib/python3.8/site-packages/pandas/io/parsers.py\u001b[0m in \u001b[0;36m__init__\u001b[0;34m(self, f, engine, **kwds)\u001b[0m\n\u001b[1;32m    878\u001b[0m             \u001b[0mself\u001b[0m\u001b[0;34m.\u001b[0m\u001b[0moptions\u001b[0m\u001b[0;34m[\u001b[0m\u001b[0;34m\"has_index_names\"\u001b[0m\u001b[0;34m]\u001b[0m \u001b[0;34m=\u001b[0m \u001b[0mkwds\u001b[0m\u001b[0;34m[\u001b[0m\u001b[0;34m\"has_index_names\"\u001b[0m\u001b[0;34m]\u001b[0m\u001b[0;34m\u001b[0m\u001b[0;34m\u001b[0m\u001b[0m\n\u001b[1;32m    879\u001b[0m \u001b[0;34m\u001b[0m\u001b[0m\n\u001b[0;32m--> 880\u001b[0;31m         \u001b[0mself\u001b[0m\u001b[0;34m.\u001b[0m\u001b[0m_make_engine\u001b[0m\u001b[0;34m(\u001b[0m\u001b[0mself\u001b[0m\u001b[0;34m.\u001b[0m\u001b[0mengine\u001b[0m\u001b[0;34m)\u001b[0m\u001b[0;34m\u001b[0m\u001b[0;34m\u001b[0m\u001b[0m\n\u001b[0m\u001b[1;32m    881\u001b[0m \u001b[0;34m\u001b[0m\u001b[0m\n\u001b[1;32m    882\u001b[0m     \u001b[0;32mdef\u001b[0m \u001b[0mclose\u001b[0m\u001b[0;34m(\u001b[0m\u001b[0mself\u001b[0m\u001b[0;34m)\u001b[0m\u001b[0;34m:\u001b[0m\u001b[0;34m\u001b[0m\u001b[0;34m\u001b[0m\u001b[0m\n",
      "\u001b[0;32m/usr/local/lib/python3.8/site-packages/pandas/io/parsers.py\u001b[0m in \u001b[0;36m_make_engine\u001b[0;34m(self, engine)\u001b[0m\n\u001b[1;32m   1112\u001b[0m     \u001b[0;32mdef\u001b[0m \u001b[0m_make_engine\u001b[0m\u001b[0;34m(\u001b[0m\u001b[0mself\u001b[0m\u001b[0;34m,\u001b[0m \u001b[0mengine\u001b[0m\u001b[0;34m=\u001b[0m\u001b[0;34m\"c\"\u001b[0m\u001b[0;34m)\u001b[0m\u001b[0;34m:\u001b[0m\u001b[0;34m\u001b[0m\u001b[0;34m\u001b[0m\u001b[0m\n\u001b[1;32m   1113\u001b[0m         \u001b[0;32mif\u001b[0m \u001b[0mengine\u001b[0m \u001b[0;34m==\u001b[0m \u001b[0;34m\"c\"\u001b[0m\u001b[0;34m:\u001b[0m\u001b[0;34m\u001b[0m\u001b[0;34m\u001b[0m\u001b[0m\n\u001b[0;32m-> 1114\u001b[0;31m             \u001b[0mself\u001b[0m\u001b[0;34m.\u001b[0m\u001b[0m_engine\u001b[0m \u001b[0;34m=\u001b[0m \u001b[0mCParserWrapper\u001b[0m\u001b[0;34m(\u001b[0m\u001b[0mself\u001b[0m\u001b[0;34m.\u001b[0m\u001b[0mf\u001b[0m\u001b[0;34m,\u001b[0m \u001b[0;34m**\u001b[0m\u001b[0mself\u001b[0m\u001b[0;34m.\u001b[0m\u001b[0moptions\u001b[0m\u001b[0;34m)\u001b[0m\u001b[0;34m\u001b[0m\u001b[0;34m\u001b[0m\u001b[0m\n\u001b[0m\u001b[1;32m   1115\u001b[0m         \u001b[0;32melse\u001b[0m\u001b[0;34m:\u001b[0m\u001b[0;34m\u001b[0m\u001b[0;34m\u001b[0m\u001b[0m\n\u001b[1;32m   1116\u001b[0m             \u001b[0;32mif\u001b[0m \u001b[0mengine\u001b[0m \u001b[0;34m==\u001b[0m \u001b[0;34m\"python\"\u001b[0m\u001b[0;34m:\u001b[0m\u001b[0;34m\u001b[0m\u001b[0;34m\u001b[0m\u001b[0m\n",
      "\u001b[0;32m/usr/local/lib/python3.8/site-packages/pandas/io/parsers.py\u001b[0m in \u001b[0;36m__init__\u001b[0;34m(self, src, **kwds)\u001b[0m\n\u001b[1;32m   1889\u001b[0m         \u001b[0mkwds\u001b[0m\u001b[0;34m[\u001b[0m\u001b[0;34m\"usecols\"\u001b[0m\u001b[0;34m]\u001b[0m \u001b[0;34m=\u001b[0m \u001b[0mself\u001b[0m\u001b[0;34m.\u001b[0m\u001b[0musecols\u001b[0m\u001b[0;34m\u001b[0m\u001b[0;34m\u001b[0m\u001b[0m\n\u001b[1;32m   1890\u001b[0m \u001b[0;34m\u001b[0m\u001b[0m\n\u001b[0;32m-> 1891\u001b[0;31m         \u001b[0mself\u001b[0m\u001b[0;34m.\u001b[0m\u001b[0m_reader\u001b[0m \u001b[0;34m=\u001b[0m \u001b[0mparsers\u001b[0m\u001b[0;34m.\u001b[0m\u001b[0mTextReader\u001b[0m\u001b[0;34m(\u001b[0m\u001b[0msrc\u001b[0m\u001b[0;34m,\u001b[0m \u001b[0;34m**\u001b[0m\u001b[0mkwds\u001b[0m\u001b[0;34m)\u001b[0m\u001b[0;34m\u001b[0m\u001b[0;34m\u001b[0m\u001b[0m\n\u001b[0m\u001b[1;32m   1892\u001b[0m         \u001b[0mself\u001b[0m\u001b[0;34m.\u001b[0m\u001b[0munnamed_cols\u001b[0m \u001b[0;34m=\u001b[0m \u001b[0mself\u001b[0m\u001b[0;34m.\u001b[0m\u001b[0m_reader\u001b[0m\u001b[0;34m.\u001b[0m\u001b[0munnamed_cols\u001b[0m\u001b[0;34m\u001b[0m\u001b[0;34m\u001b[0m\u001b[0m\n\u001b[1;32m   1893\u001b[0m \u001b[0;34m\u001b[0m\u001b[0m\n",
      "\u001b[0;32mpandas/_libs/parsers.pyx\u001b[0m in \u001b[0;36mpandas._libs.parsers.TextReader.__cinit__\u001b[0;34m()\u001b[0m\n",
      "\u001b[0;32mpandas/_libs/parsers.pyx\u001b[0m in \u001b[0;36mpandas._libs.parsers.TextReader._setup_parser_source\u001b[0;34m()\u001b[0m\n",
      "\u001b[0;31mFileNotFoundError\u001b[0m: [Errno 2] File avi_ns_spherical_mesh_100_mu_1.0_lambda_10.0_gamma_0.0.csv does not exist: 'avi_ns_spherical_mesh_100_mu_1.0_lambda_10.0_gamma_0.0.csv'"
     ]
    }
   ],
   "source": [
    "df = pd.read_csv(input_csv_fn)"
   ]
  },
  {
   "cell_type": "code",
   "execution_count": null,
   "metadata": {
    "ExecuteTime": {
     "end_time": "2020-12-11T06:00:44.182640Z",
     "start_time": "2020-12-11T06:00:40.960Z"
    },
    "hidden": true
   },
   "outputs": [],
   "source": [
    "x_values = df['t'].values\n",
    "# y_values = df['volume'].values\n",
    "# y_values = df['energy'].values\n",
    "plt.plot(x_values, df['volume'].values/(4*np.pi*1.**3/3), label='volume/initial volume')\n",
    "plt.plot(x_values, df['energy'].values, label='energy')\n",
    "plt.legend()\n",
    "plt.xlabel('time')\n",
    "plt.ylabel('measurement value')\n",
    "plt.show()"
   ]
  },
  {
   "cell_type": "code",
   "execution_count": null,
   "metadata": {
    "ExecuteTime": {
     "end_time": "2020-12-11T06:00:44.183807Z",
     "start_time": "2020-12-11T06:00:40.961Z"
    },
    "hidden": true
   },
   "outputs": [],
   "source": [
    "x_values = df['t'].values\n",
    "# y_values = df['volume'].values\n",
    "# y_values = df['energy'].values\n",
    "plt.title('neural time steps evolve in time')\n",
    "plt.plot(x_values, df['stepsize_mean'].values, label='mean stepsize')\n",
    "plt.plot(x_values, df['stepsize_median'].values, label='median stepsize')\n",
    "plt.legend()\n",
    "plt.xlabel('time')\n",
    "plt.ylabel('step size')\n",
    "plt.yscale('log')\n",
    "plt.yticks([10**-4,10**-2])\n",
    "plt.show()"
   ]
  },
  {
   "cell_type": "code",
   "execution_count": null,
   "metadata": {
    "ExecuteTime": {
     "end_time": "2020-12-11T06:00:44.185319Z",
     "start_time": "2020-12-11T06:00:40.964Z"
    },
    "hidden": true
   },
   "outputs": [],
   "source": [
    "df['stepsize_std'].values"
   ]
  },
  {
   "cell_type": "code",
   "execution_count": null,
   "metadata": {
    "ExecuteTime": {
     "end_time": "2020-12-11T06:00:44.186552Z",
     "start_time": "2020-12-11T06:00:40.965Z"
    },
    "hidden": true
   },
   "outputs": [],
   "source": [
    "os.chdir(data_folder)\n",
    "element_array_stepsize_array = np.load(input_count_fn)"
   ]
  },
  {
   "cell_type": "code",
   "execution_count": null,
   "metadata": {
    "ExecuteTime": {
     "end_time": "2020-12-11T06:00:44.187926Z",
     "start_time": "2020-12-11T06:00:40.967Z"
    },
    "hidden": true
   },
   "outputs": [],
   "source": [
    "element_array_stepsize_array"
   ]
  },
  {
   "cell_type": "code",
   "execution_count": null,
   "metadata": {
    "ExecuteTime": {
     "end_time": "2020-12-11T06:00:44.189219Z",
     "start_time": "2020-12-11T06:00:40.970Z"
    },
    "hidden": true
   },
   "outputs": [],
   "source": [
    "plt.hist(element_array_stepsize_array[0][-1])\n",
    "plt.show()"
   ]
  },
  {
   "cell_type": "markdown",
   "metadata": {
    "heading_collapsed": true,
    "hidden": true
   },
   "source": [
    "## import mesh"
   ]
  },
  {
   "cell_type": "code",
   "execution_count": null,
   "metadata": {
    "ExecuteTime": {
     "end_time": "2020-12-11T06:00:44.190479Z",
     "start_time": "2020-12-11T06:00:40.976Z"
    },
    "hidden": true
   },
   "outputs": [],
   "source": [
    "#define Lamé parameters\n",
    "mu = 1.; lam = 10.; \n",
    "#define coefficient for Rayleigh damping\n",
    "gamma = .0#1.#1.;\n",
    "\n",
    "#define adaptive time stepping absolute tolerances\n",
    "salience = 2#128#32\n",
    "learning_rate = np.log(salience) #np.log(16) #np.log(2)\n",
    "lasso_fraction = 0.5\n",
    "v_scale = 2.\n",
    "mass_density=1.\n",
    "\n",
    "stepsize_init = 0.0001#0.0001\n",
    "atol_x = 0.0001#0.001#1e-7; \n",
    "atol_v = 0.0001#0.001#1e-7; \n",
    "btol_x = 0.0001#0.001#1e-10; \n",
    "btol_v = 0.0001#0.001#1e-10; \n",
    "\n",
    "\n",
    "#path to mesh\n",
    "input_file_name = f'../data/spherical_meshes/spherical_mesh_100.stl'\n",
    "#where to save results\n",
    "data_folder =  os.path.join(nb_dir,'../data/mov_csv')\n",
    "data_fn = f\"avi_es_fixed_lr_a_equal_b_{os.path.basename(input_file_name).replace('.stl',f'_mu_{mu}_lambda_{lam}_gamma_{gamma}_vscale_{v_scale}_stepsizeinit_{stepsize_init}')}_salience_{salience}_atolx_{atol_x}.csv\"\n",
    "# data_fn = f\"avi_ns_fixed_lr_a_equal_b_{os.path.basename(input_file_name).replace('.stl',f'_mu_{mu}_lambda_{lam}_gamma_{gamma}vscale_{v_scale}_stepsizeinit_{stepsize_init}')}_salience_{salience}_atolx_{atol_x}.csv\"\n",
    "save_folder_vid = '../vid/tmp'\n",
    "folder_vid = '../vid'\n",
    "# data_fn_counts = data_fn.replace(\"s_\",\"s_counts_\").replace('.csv','.npz')\n",
    "data_fn_counts = data_fn.replace(\"s_\",\"s_counts_\").replace('.csv','.npy')\n",
    "\n",
    "os.chdir(nb_dir)\n",
    "# input_file_name = f'../data/spherical_meshes/spherical_mesh_64.stl'input_file_name = f'../data/spherical_meshes/spherical_mesh_64.stl'\n",
    "# input_file_name = f'../data/spherical_meshes/spherical_mesh_1000.stl'\n",
    "input_file_name = os.path.join(nb_dir,input_file_name)\n",
    "tme = 0.\n",
    "dict_values_system = initialize_system(input_file_name, time_initial=tme, mass_density=mass_density)\n",
    "locals().update(dict_values_system)\n",
    "N_elements = element_array_index.shape[0]\n",
    "N_vertices = node_array_position.shape[0]\n",
    "print(list(dict_values_system.keys()))\n",
    "\n",
    "#header to start of video\n",
    "# TEXT = '''TEXT=$'Synchronous Variational Integrator\\nDamped Neohookean Model\\n(inward squish)''''\n",
    "TEXT = f\"\"\"\n",
    "TEXT=$'an inward squish\n",
    "        Synchronous Variational Integrator \n",
    "        Explicit Newmark Method\n",
    "        \n",
    "        Undamped Neohookean Model\n",
    "        mu {mu}  lambda {lam} gamma {gamma}\n",
    "        \n",
    "        Spherical Mesh\n",
    "        Num. Vertices {N_vertices}\n",
    "        Num. Elements {N_elements}\n",
    "'\"\"\"\n",
    "\n",
    "\n",
    "# TEXT = f\"\"\"\n",
    "# TEXT=$'an inward squish with neural time steps\n",
    "#         Asynchronous Variational Integrator \n",
    "#         Dormand–Prince Method\n",
    "        \n",
    "#         Undamped Neohookean Model\n",
    "#         mu {mu}  lambda {lam} gamma {gamma}\n",
    "        \n",
    "#         Spherical Mesh\n",
    "#         Num. Vertices {N_vertices}\n",
    "#         Num. Elements {N_elements}\n",
    "# '\"\"\"\n",
    "\n",
    "#write header to file\n",
    "# print(TEXT)\n",
    "# Dormand–Prince Method\n",
    "# Explicit Newmark Method\n",
    "# Implicit Midpoint Rule"
   ]
  },
  {
   "cell_type": "markdown",
   "metadata": {
    "heading_collapsed": true,
    "hidden": true
   },
   "source": [
    "## initialize\n",
    "- Mesh = solid sphere discretized by tetrahedra \n",
    "- Forces = neohookean hyperelastic material with rayleigh damping\n",
    "- Initialization = inward initial velocity by an amount proportional to the x coordinate."
   ]
  },
  {
   "cell_type": "code",
   "execution_count": null,
   "metadata": {
    "ExecuteTime": {
     "end_time": "2020-12-11T06:00:44.191826Z",
     "start_time": "2020-12-11T06:00:40.983Z"
    },
    "hidden": true
   },
   "outputs": [],
   "source": [
    "#initialize system\n",
    "tauK = element_array_time\n",
    "tau = node_array_time\n",
    "\n",
    "#get method of computing elastic forces \n",
    "zero_mat = np.zeros((4,3))\n",
    "# calc_P = get_calc_P(mu, lam)\n",
    "# compute_nodal_damping_forces  = get_compute_nodal_damping_forces(mu,lam,gamma)\n",
    "# comp_nodal_elastic_forces = get_comp_nodal_elastic_forces(mu, lam)\n",
    "\n",
    "elements = element_array_index\n",
    "vertices = node_array_position\n",
    "\n",
    "#initialize stepsizes of simulation\n",
    "element_array_stepsize = np.zeros_like(element_array_time) + stepsize_init\n",
    "element_array_count_calls_one_step = np.zeros_like(element_array_time,dtype=int)\n",
    "element_array_count_config_updates = np.zeros_like(element_array_time,dtype=int)\n",
    "momentum = node_array_momentum.copy()\n",
    "velocities = momentum.copy()\n",
    "for j in range(N_vertices):\n",
    "    velocities[j] /= node_array_mass[j]\n",
    "\n",
    "\n",
    "# #perturb momentum in the x direction and let it run overnight with a small timestep  \n",
    "velocities[:,0] = -v_scale * vertices[:,0].copy()\n",
    "\n",
    "#initialize containers of measures\n",
    "volume_lst = []\n",
    "energy_lst = []\n",
    "tme_lst    = []\n",
    "stepsize_mean_lst   = []\n",
    "stepsize_std_lst    = []\n",
    "stepsize_median_lst = []\n",
    "stepsize_count_lst = []\n",
    "frac_lb = lambda i: np.exp(learning_rate*i)  ##np.exp((i+.5)*learning_rate/10)\n",
    "learning_bins = np.array([stepsize_init*frac_lb(i) for i in np.arange(-15,15)])\n",
    "\n",
    "# #this looks nice. 30 bins\n",
    "# learning_bins = np.array([0.00480198, 0.00480886, 0.00481574, 0.00482262, 0.00482951,\n",
    "#         0.00483639, 0.00484327, 0.00485015, 0.00485703, 0.00486391,\n",
    "#         0.0048708 , 0.00487768, 0.00488456, 0.00489144, 0.00489832,\n",
    "#         0.0049052 , 0.00491209, 0.00491897, 0.00492585, 0.00493273,\n",
    "#         0.00493961, 0.00494649, 0.00495338, 0.00496026, 0.00496714,\n",
    "#         0.00497402, 0.0049809 , 0.00498778, 0.00499467, 0.00500155,\n",
    "#         0.00500843])\n",
    "\n",
    "# #let's try 100 bins\n",
    "# learning_bins = np.array([0.00477609, 0.00477838, 0.00478067, 0.00478296, 0.00478526,\n",
    "#         0.00478755, 0.00478984, 0.00479214, 0.00479443, 0.00479672,\n",
    "#         0.00479902, 0.00480131, 0.0048036 , 0.0048059 , 0.00480819,\n",
    "#         0.00481048, 0.00481277, 0.00481507, 0.00481736, 0.00481965,\n",
    "#         0.00482195, 0.00482424, 0.00482653, 0.00482883, 0.00483112,\n",
    "#         0.00483341, 0.00483571, 0.004838  , 0.00484029, 0.00484258,\n",
    "#         0.00484488, 0.00484717, 0.00484946, 0.00485176, 0.00485405,\n",
    "#         0.00485634, 0.00485864, 0.00486093, 0.00486322, 0.00486552,\n",
    "#         0.00486781, 0.0048701 , 0.0048724 , 0.00487469, 0.00487698,\n",
    "#         0.00487927, 0.00488157, 0.00488386, 0.00488615, 0.00488845,\n",
    "#         0.00489074, 0.00489303, 0.00489533, 0.00489762, 0.00489991,\n",
    "#         0.00490221, 0.0049045 , 0.00490679, 0.00490908, 0.00491138,\n",
    "#         0.00491367, 0.00491596, 0.00491826, 0.00492055, 0.00492284,\n",
    "#         0.00492514, 0.00492743, 0.00492972, 0.00493202, 0.00493431,\n",
    "#         0.0049366 , 0.0049389 , 0.00494119, 0.00494348, 0.00494577,\n",
    "#         0.00494807, 0.00495036, 0.00495265, 0.00495495, 0.00495724,\n",
    "#         0.00495953, 0.00496183, 0.00496412, 0.00496641, 0.00496871,\n",
    "#         0.004971  , 0.00497329, 0.00497558, 0.00497788, 0.00498017,\n",
    "#         0.00498246, 0.00498476, 0.00498705, 0.00498934, 0.00499164,\n",
    "#         0.00499393, 0.00499622, 0.00499852, 0.00500081, 0.0050031 ,\n",
    "#         0.00500539])\n",
    "\n",
    "# learning_bins = np.array([stepsize_init*np.exp((i+.5)*learning_rate) for i in np.arange(-3,3)])\n",
    "print(f\"learning_bins are {learning_bins}\")"
   ]
  },
  {
   "cell_type": "markdown",
   "metadata": {},
   "source": [
    "# generate a series of histograms with spreading out time steps using simple time adaptation"
   ]
  },
  {
   "cell_type": "markdown",
   "metadata": {},
   "source": [
    "## initialize"
   ]
  },
  {
   "cell_type": "code",
   "execution_count": 119,
   "metadata": {
    "ExecuteTime": {
     "end_time": "2020-12-11T06:54:03.103500Z",
     "start_time": "2020-12-11T06:54:02.985501Z"
    }
   },
   "outputs": [
    {
     "name": "stderr",
     "output_type": "stream",
     "text": [
      "face_normals all zero, ignoring!\n"
     ]
    },
    {
     "name": "stdout",
     "output_type": "stream",
     "text": [
      "['element_array_time', 'element_array_index', 'element_array_mass', 'element_array_volume', 'element_array_inverse_equilibrium_position', 'node_array_equilibrium_position', 'node_array_time', 'node_array_position', 'node_array_momentum', 'node_array_mass', 'node_array_volume']\n"
     ]
    }
   ],
   "source": [
    "#define Lamé parameters\n",
    "mu = 1.; lam = 10.; \n",
    "#define coefficient for Rayleigh damping\n",
    "gamma = .05#1.#1.;\n",
    "\n",
    "#define adaptive time stepping absolute tolerances\n",
    "salience = 2#128#32\n",
    "learning_rate = np.log(salience) #np.log(16) #np.log(2)\n",
    "lasso_fraction = 0.5\n",
    "v_scale = 2.\n",
    "mass_density=1.\n",
    "\n",
    "stepsize_init = 0.002#0.005#0.00001#0.0001\n",
    "atol_x = 0.00001#0.001#1e-7; \n",
    "atol_v = 0.00001#0.001#1e-7; \n",
    "btol_x = 0.000001#0.001#1e-10; \n",
    "btol_v = 0.000001#0.001#1e-10; \n",
    "# element volume versus equilibrium step size\n",
    "\n",
    "#path to mesh\n",
    "input_file_name = f'../data/spherical_meshes/spherical_mesh_64.stl'\n",
    "# input_file_name = f'../data/spherical_meshes/spherical_mesh_1000.stl'\n",
    "\n",
    "# input_file_name = f'../data/spherical_meshes/spherical_mesh_400.stl'\n",
    "#where to save results\n",
    "data_folder =  os.path.join(nb_dir,'../data/mov_csv')\n",
    "data_fn = f\"avi_es_fixed_lr_a_equal_b_{os.path.basename(input_file_name).replace('.stl',f'_mu_{mu}_lambda_{lam}_gamma_{gamma}_vscale_{v_scale}_stepsizeinit_{stepsize_init}')}_salience_{salience}_atolx_{atol_x}.csv\"\n",
    "# data_fn = f\"avi_ns_fixed_lr_a_equal_b_{os.path.basename(input_file_name).replace('.stl',f'_mu_{mu}_lambda_{lam}_gamma_{gamma}vscale_{v_scale}_stepsizeinit_{stepsize_init}')}_salience_{salience}_atolx_{atol_x}.csv\"\n",
    "save_folder_vid = '../vid/tmp'\n",
    "folder_vid = '../vid'\n",
    "# data_fn_counts = data_fn.replace(\"s_\",\"s_counts_\").replace('.csv','.npz')\n",
    "data_fn_counts = data_fn.replace(\"s_\",\"s_counts_\").replace('.csv','.npy')\n",
    "\n",
    "os.chdir(nb_dir)\n",
    "# input_file_name = f'../data/spherical_meshes/spherical_mesh_64.stl'input_file_name = f'../data/spherical_meshes/spherical_mesh_64.stl'\n",
    "# input_file_name = f'../data/spherical_meshes/spherical_mesh_1000.stl'\n",
    "input_file_name = os.path.join(nb_dir,input_file_name)\n",
    "tme = 0.\n",
    "dict_values_system = initialize_system(input_file_name, time_initial=tme, mass_density=mass_density)\n",
    "locals().update(dict_values_system)\n",
    "N_elements = element_array_index.shape[0]\n",
    "N_vertices = node_array_position.shape[0]\n",
    "print(list(dict_values_system.keys()))\n",
    "\n",
    "#header to start of video\n",
    "# TEXT = '''TEXT=$'Synchronous Variational Integrator\\nDamped Neohookean Model\\n(inward squish)''''\n",
    "TEXT = f\"\"\"\n",
    "TEXT=$'an inward squish\n",
    "        Asynchronous Variational Integrator \n",
    "        Explicit Newmark Method\n",
    "        \n",
    "        Undamped Neohookean Model\n",
    "        mu {mu}  lambda {lam} gamma {gamma}\n",
    "        \n",
    "        Spherical Mesh\n",
    "        Num. Vertices {N_vertices}\n",
    "        Num. Elements {N_elements}\n",
    "'\"\"\"\n",
    "\n",
    "\n",
    "# TEXT = f\"\"\"\n",
    "# TEXT=$'an inward squish with neural time steps\n",
    "#         Asynchronous Variational Integrator \n",
    "#         Dormand–Prince Method\n",
    "        \n",
    "#         Undamped Neohookean Model\n",
    "#         mu {mu}  lambda {lam} gamma {gamma}\n",
    "        \n",
    "#         Spherical Mesh\n",
    "#         Num. Vertices {N_vertices}\n",
    "#         Num. Elements {N_elements}\n",
    "# '\"\"\"\n",
    "\n",
    "#write header to file\n",
    "# print(TEXT)\n",
    "# Dormand–Prince Method\n",
    "# Explicit Newmark Method\n",
    "# Implicit Midpoint Rule"
   ]
  },
  {
   "cell_type": "code",
   "execution_count": 120,
   "metadata": {
    "ExecuteTime": {
     "end_time": "2020-12-11T06:54:03.891729Z",
     "start_time": "2020-12-11T06:54:03.819920Z"
    }
   },
   "outputs": [],
   "source": [
    "integrate_system_explicit_asynchronous = get_integrate_system_explicit_asynchronous(mu,lam,gamma)\n"
   ]
  },
  {
   "cell_type": "code",
   "execution_count": 121,
   "metadata": {
    "ExecuteTime": {
     "end_time": "2020-12-11T06:54:04.626887Z",
     "start_time": "2020-12-11T06:54:04.601144Z"
    },
    "scrolled": true
   },
   "outputs": [
    {
     "name": "stdout",
     "output_type": "stream",
     "text": [
      "learning_bins are [6.10351563e-08 1.22070313e-07 2.44140625e-07 4.88281250e-07\n",
      " 9.76562500e-07 1.95312500e-06 3.90625000e-06 7.81250000e-06\n",
      " 1.56250000e-05 3.12500000e-05 6.25000000e-05 1.25000000e-04\n",
      " 2.50000000e-04 5.00000000e-04 1.00000000e-03 2.00000000e-03\n",
      " 4.00000000e-03 8.00000000e-03 1.60000000e-02 3.20000000e-02\n",
      " 6.40000000e-02 1.28000000e-01 2.56000000e-01 5.12000000e-01\n",
      " 1.02400000e+00 2.04800000e+00 4.09600000e+00 8.19200000e+00\n",
      " 1.63840000e+01 3.27680000e+01]\n"
     ]
    }
   ],
   "source": [
    "#initialize system\n",
    "tauK = element_array_time\n",
    "tau = node_array_time\n",
    "\n",
    "#get method of computing elastic forces \n",
    "zero_mat = np.zeros((4,3))\n",
    "# calc_P = get_calc_P(mu, lam)\n",
    "# compute_nodal_damping_forces  = get_compute_nodal_damping_forces(mu,lam,gamma)\n",
    "# comp_nodal_elastic_forces = get_comp_nodal_elastic_forces(mu, lam)\n",
    "\n",
    "elements = element_array_index\n",
    "vertices = node_array_position\n",
    "\n",
    "#initialize stepsizes of simulation\n",
    "element_array_stepsize = np.zeros_like(element_array_time) + stepsize_init\n",
    "element_array_count_calls_one_step = np.zeros_like(element_array_time,dtype=int)\n",
    "element_array_count_config_updates = np.zeros_like(element_array_time,dtype=int)\n",
    "momentum = node_array_momentum.copy()\n",
    "velocities = momentum.copy()\n",
    "for j in range(N_vertices):\n",
    "    velocities[j] /= node_array_mass[j]\n",
    "\n",
    "\n",
    "# #perturb momentum in the x direction and let it run overnight with a small timestep  \n",
    "velocities[:,0] = -v_scale * vertices[:,0].copy()\n",
    "\n",
    "#initialize containers of measures\n",
    "volume_lst = []\n",
    "energy_lst = []\n",
    "tme_lst    = []\n",
    "stepsize_mean_lst   = []\n",
    "stepsize_std_lst    = []\n",
    "stepsize_median_lst = []\n",
    "stepsize_count_lst = []\n",
    "frac_lb = lambda i: np.exp(learning_rate*i)  ##np.exp((i+.5)*learning_rate/10)\n",
    "learning_bins = np.array([stepsize_init*frac_lb(i) for i in np.arange(-15,15)])\n",
    "\n",
    "# #this looks nice. 30 bins\n",
    "# learning_bins = np.array([0.00480198, 0.00480886, 0.00481574, 0.00482262, 0.00482951,\n",
    "#         0.00483639, 0.00484327, 0.00485015, 0.00485703, 0.00486391,\n",
    "#         0.0048708 , 0.00487768, 0.00488456, 0.00489144, 0.00489832,\n",
    "#         0.0049052 , 0.00491209, 0.00491897, 0.00492585, 0.00493273,\n",
    "#         0.00493961, 0.00494649, 0.00495338, 0.00496026, 0.00496714,\n",
    "#         0.00497402, 0.0049809 , 0.00498778, 0.00499467, 0.00500155,\n",
    "#         0.00500843])\n",
    "\n",
    "# #let's try 100 bins\n",
    "# learning_bins = np.array([0.00477609, 0.00477838, 0.00478067, 0.00478296, 0.00478526,\n",
    "#         0.00478755, 0.00478984, 0.00479214, 0.00479443, 0.00479672,\n",
    "#         0.00479902, 0.00480131, 0.0048036 , 0.0048059 , 0.00480819,\n",
    "#         0.00481048, 0.00481277, 0.00481507, 0.00481736, 0.00481965,\n",
    "#         0.00482195, 0.00482424, 0.00482653, 0.00482883, 0.00483112,\n",
    "#         0.00483341, 0.00483571, 0.004838  , 0.00484029, 0.00484258,\n",
    "#         0.00484488, 0.00484717, 0.00484946, 0.00485176, 0.00485405,\n",
    "#         0.00485634, 0.00485864, 0.00486093, 0.00486322, 0.00486552,\n",
    "#         0.00486781, 0.0048701 , 0.0048724 , 0.00487469, 0.00487698,\n",
    "#         0.00487927, 0.00488157, 0.00488386, 0.00488615, 0.00488845,\n",
    "#         0.00489074, 0.00489303, 0.00489533, 0.00489762, 0.00489991,\n",
    "#         0.00490221, 0.0049045 , 0.00490679, 0.00490908, 0.00491138,\n",
    "#         0.00491367, 0.00491596, 0.00491826, 0.00492055, 0.00492284,\n",
    "#         0.00492514, 0.00492743, 0.00492972, 0.00493202, 0.00493431,\n",
    "#         0.0049366 , 0.0049389 , 0.00494119, 0.00494348, 0.00494577,\n",
    "#         0.00494807, 0.00495036, 0.00495265, 0.00495495, 0.00495724,\n",
    "#         0.00495953, 0.00496183, 0.00496412, 0.00496641, 0.00496871,\n",
    "#         0.004971  , 0.00497329, 0.00497558, 0.00497788, 0.00498017,\n",
    "#         0.00498246, 0.00498476, 0.00498705, 0.00498934, 0.00499164,\n",
    "#         0.00499393, 0.00499622, 0.00499852, 0.00500081, 0.0050031 ,\n",
    "#         0.00500539])\n",
    "\n",
    "# learning_bins = np.array([stepsize_init*np.exp((i+.5)*learning_rate) for i in np.arange(-3,3)])\n",
    "print(f\"learning_bins are {learning_bins}\")"
   ]
  },
  {
   "cell_type": "markdown",
   "metadata": {},
   "source": [
    "## compute the initial spread and iterate"
   ]
  },
  {
   "cell_type": "code",
   "execution_count": 122,
   "metadata": {
    "ExecuteTime": {
     "end_time": "2020-12-11T06:54:05.377831Z",
     "start_time": "2020-12-11T06:54:05.356518Z"
    }
   },
   "outputs": [],
   "source": [
    "tA = 0.\n",
    "tB = .1\n",
    "tC = 0.2\n",
    "tD = .3\n",
    "tE = 0.5\n",
    "tF = 1.\n",
    "tG = 2.\n",
    "tH = 5."
   ]
  },
  {
   "cell_type": "code",
   "execution_count": 123,
   "metadata": {
    "ExecuteTime": {
     "end_time": "2020-12-11T06:54:06.227025Z",
     "start_time": "2020-12-11T06:54:06.082863Z"
    }
   },
   "outputs": [
    {
     "data": {
      "image/png": "[encoded data removed]",
      "text/plain": [
       "<Figure size 432x288 with 1 Axes>"
      ]
     },
     "metadata": {
      "needs_background": "light"
     },
     "output_type": "display_data"
    }
   ],
   "source": [
    "ssA = element_array_stepsize.copy()\n",
    "\n",
    "plt.hist(ssA)#, bins=30)\n",
    "plt.show()"
   ]
  },
  {
   "cell_type": "markdown",
   "metadata": {},
   "source": [
    "### step forward a reasonable amount and iterate"
   ]
  },
  {
   "cell_type": "code",
   "execution_count": 124,
   "metadata": {
    "ExecuteTime": {
     "end_time": "2020-12-11T06:54:49.998086Z",
     "start_time": "2020-12-11T06:54:06.940708Z"
    }
   },
   "outputs": [
    {
     "name": "stderr",
     "output_type": "stream",
     "text": [
      "/Users/timothytyree/Documents/GitHub/avi/nb/lib/controller/integrate_forward_explicit_asynchronous.py:45: NumbaPerformanceWarning: '@' is faster on contiguous arrays, called on (array(float64, 2d, C), array(float64, 2d, A))\n",
      "  next_stepsize, retval, madval = step_forward_and_learn_simple(K_index, t_given, node_array_time, element_array_time, vertices, velocities, element_array_index,\n"
     ]
    },
    {
     "name": "stdout",
     "output_type": "stream",
     "text": [
      "0.0006240238860817644 0.00028842889384834476 0.0005000000000000004\n"
     ]
    }
   ],
   "source": [
    "#prepare for video\n",
    "frameno = 1\n",
    "time_between_observations = 0.01\n",
    "time_end_recording = tB\n",
    "time_of_next_observation = tme + time_between_observations\n",
    "\n",
    "#ready... get set... GO!\n",
    "os.chdir(nb_dir)\n",
    "os.chdir(save_folder_vid)\n",
    "\n",
    "while time_of_next_observation <= time_end_recording:\n",
    "    tf = time_of_next_observation\n",
    "    #integrate forward to the next time of observation\n",
    "#     integrate_system_explicit_synchronous(tf, element_array_time, element_array_stepsize, node_array_time,\n",
    "#                                              element_array_index, vertices, velocities,node_array_mass, element_array_inverse_equilibrium_position)\n",
    "    #     integrate_system_implicit_synchronous(tf, element_array_time, element_array_stepsize, node_array_time,\n",
    "    #                                          element_array_index, vertices, velocities,node_array_mass, element_array_inverse_equilibrium_position)\n",
    "    #     integrate_system_dormand_prince_asynchronous(tf,element_array_time,element_array_stepsize,node_array_time,element_array_index,vertices,velocities,\n",
    "    #         node_array_mass,element_array_inverse_equilibrium_position,element_array_mass)\n",
    "    integrate_system_explicit_asynchronous(tf, element_array_time, element_array_stepsize, node_array_time,\n",
    "                                             element_array_index, vertices, velocities, node_array_mass, element_array_inverse_equilibrium_position, atol_x, atol_v, btol_x, btol_v, learning_rate)\n",
    "\n",
    "    #update a copy of all positions to the observation time using the current velocity\n",
    "    x = vertices.copy()\n",
    "    for a in range(N_vertices):\n",
    "        x[a] += velocities[a] * (tf - tau[a])\n",
    "    \n",
    "    #measure observables\n",
    "    ##mesh measures\n",
    "    net_volume = compute_net_volume(x, element_array_index)\n",
    "    net_energy = compute_net_energy(N_elements, element_array_mass, velocities, x, #vertices,\n",
    "                                  element_array_index, element_array_inverse_equilibrium_position, mu, lam)\n",
    "    ##stepsize measures\n",
    "    stepsize_mean = np.mean(element_array_stepsize)\n",
    "    stepsize_std = np.std(element_array_stepsize)\n",
    "    stepsize_median = np.median(element_array_stepsize)\n",
    "\n",
    "    #record observables\n",
    "    volume_lst.append(net_volume)\n",
    "    energy_lst.append(net_energy)\n",
    "    tme = tf\n",
    "    tme_lst.append(tme)\n",
    "    stepsize_mean_lst.append(stepsize_mean)\n",
    "    stepsize_std_lst.append(stepsize_std)\n",
    "    stepsize_median_lst.append(stepsize_median)\n",
    "    stepsize_count_lst.append(count_array(array = element_array_stepsize,bins=learning_bins))\n",
    "    #record image of system\n",
    "#     try:\n",
    "#         img = get_img_of_system(vertices, input_file_name, darkmode = False, text=f'time={tf:.2f}')\n",
    "#     except:\n",
    "#         pass\n",
    "#     save_fn_img = f'img{frameno:09}.png'\n",
    "#     frameno += 1\n",
    "#     Img = Image.fromarray(img)\n",
    "# #     Img.save(save_fn_img)\n",
    "\n",
    "\n",
    "#     del Img\n",
    "    #increment time_of_next_observation\n",
    "    time_of_next_observation += time_between_observations\n",
    "    #TODO(later): do something that makes a boring video less boring\n",
    "    #TODO(later): def element_array_count_calls_one_step to the call of integrate_system_.... i.e. Keep track of how many times each element is called to time step\n",
    "    #TODO(later): keep track of how many times each element config is updated with element_array_count_config_updates\n",
    "print(stepsize_mean, stepsize_std, stepsize_median)\n",
    "# beep(3)"
   ]
  },
  {
   "cell_type": "code",
   "execution_count": 125,
   "metadata": {
    "ExecuteTime": {
     "end_time": "2020-12-11T06:54:50.937807Z",
     "start_time": "2020-12-11T06:54:50.749046Z"
    }
   },
   "outputs": [
    {
     "data": {
      "image/png": "[encoded data removed]",
      "text/plain": [
       "<Figure size 432x288 with 1 Axes>"
      ]
     },
     "metadata": {
      "needs_background": "light"
     },
     "output_type": "display_data"
    }
   ],
   "source": [
    "ssB = element_array_stepsize.copy()\n",
    "\n",
    "plt.hist(ssB)#, bins=30)\n",
    "plt.show()"
   ]
  },
  {
   "cell_type": "code",
   "execution_count": 126,
   "metadata": {
    "ExecuteTime": {
     "end_time": "2020-12-11T06:55:09.486954Z",
     "start_time": "2020-12-11T06:54:51.673605Z"
    }
   },
   "outputs": [
    {
     "name": "stdout",
     "output_type": "stream",
     "text": [
      "0.001099793293523198 0.0006179754188265188 0.0010000000000000009\n"
     ]
    }
   ],
   "source": [
    "#prepare for video\n",
    "frameno = 1\n",
    "time_between_observations = 0.01\n",
    "time_end_recording = tC\n",
    "time_of_next_observation = tme + time_between_observations\n",
    "\n",
    "#ready... get set... GO!\n",
    "os.chdir(nb_dir)\n",
    "os.chdir(save_folder_vid)\n",
    "\n",
    "while time_of_next_observation <= time_end_recording:\n",
    "    tf = time_of_next_observation\n",
    "    #integrate forward to the next time of observation\n",
    "#     integrate_system_explicit_synchronous(tf, element_array_time, element_array_stepsize, node_array_time,\n",
    "#                                              element_array_index, vertices, velocities,node_array_mass, element_array_inverse_equilibrium_position)\n",
    "    #     integrate_system_implicit_synchronous(tf, element_array_time, element_array_stepsize, node_array_time,\n",
    "    #                                          element_array_index, vertices, velocities,node_array_mass, element_array_inverse_equilibrium_position)\n",
    "    #     integrate_system_dormand_prince_asynchronous(tf,element_array_time,element_array_stepsize,node_array_time,element_array_index,vertices,velocities,\n",
    "    #         node_array_mass,element_array_inverse_equilibrium_position,element_array_mass)\n",
    "    integrate_system_explicit_asynchronous(tf, element_array_time, element_array_stepsize, node_array_time,\n",
    "                                             element_array_index, vertices, velocities, node_array_mass, element_array_inverse_equilibrium_position, atol_x, atol_v, btol_x, btol_v, learning_rate)\n",
    "\n",
    "    #update a copy of all positions to the observation time using the current velocity\n",
    "    x = vertices.copy()\n",
    "    for a in range(N_vertices):\n",
    "        x[a] += velocities[a] * (tf - tau[a])\n",
    "    \n",
    "    #measure observables\n",
    "    ##mesh measures\n",
    "    net_volume = compute_net_volume(x, element_array_index)\n",
    "    net_energy = compute_net_energy(N_elements, element_array_mass, velocities, x, #vertices,\n",
    "                                  element_array_index, element_array_inverse_equilibrium_position, mu, lam)\n",
    "    ##stepsize measures\n",
    "    stepsize_mean = np.mean(element_array_stepsize)\n",
    "    stepsize_std = np.std(element_array_stepsize)\n",
    "    stepsize_median = np.median(element_array_stepsize)\n",
    "\n",
    "    #record observables\n",
    "    volume_lst.append(net_volume)\n",
    "    energy_lst.append(net_energy)\n",
    "    tme = tf\n",
    "    tme_lst.append(tme)\n",
    "    stepsize_mean_lst.append(stepsize_mean)\n",
    "    stepsize_std_lst.append(stepsize_std)\n",
    "    stepsize_median_lst.append(stepsize_median)\n",
    "    stepsize_count_lst.append(count_array(array = element_array_stepsize,bins=learning_bins))\n",
    "    #record image of system\n",
    "#     try:\n",
    "#         img = get_img_of_system(vertices, input_file_name, darkmode = False, text=f'time={tf:.2f}')\n",
    "#     except:\n",
    "#         pass\n",
    "#     save_fn_img = f'img{frameno:09}.png'\n",
    "#     frameno += 1\n",
    "#     Img = Image.fromarray(img)\n",
    "# #     Img.save(save_fn_img)\n",
    "\n",
    "\n",
    "#     del Img\n",
    "    #increment time_of_next_observation\n",
    "    time_of_next_observation += time_between_observations\n",
    "    #TODO(later): do something that makes a boring video less boring\n",
    "    #TODO(later): def element_array_count_calls_one_step to the call of integrate_system_.... i.e. Keep track of how many times each element is called to time step\n",
    "    #TODO(later): keep track of how many times each element config is updated with element_array_count_config_updates\n",
    "print(stepsize_mean, stepsize_std, stepsize_median)\n",
    "# beep(3)"
   ]
  },
  {
   "cell_type": "code",
   "execution_count": 127,
   "metadata": {
    "ExecuteTime": {
     "end_time": "2020-12-11T06:55:10.290791Z",
     "start_time": "2020-12-11T06:55:10.269686Z"
    }
   },
   "outputs": [
    {
     "data": {
      "text/plain": [
       "0.19000000000000003"
      ]
     },
     "execution_count": 127,
     "metadata": {},
     "output_type": "execute_result"
    }
   ],
   "source": [
    "tme"
   ]
  },
  {
   "cell_type": "code",
   "execution_count": 128,
   "metadata": {
    "ExecuteTime": {
     "end_time": "2020-12-11T06:55:11.359046Z",
     "start_time": "2020-12-11T06:55:11.169824Z"
    }
   },
   "outputs": [
    {
     "data": {
      "image/png": "[encoded data removed]",
      "text/plain": [
       "<Figure size 432x288 with 1 Axes>"
      ]
     },
     "metadata": {
      "needs_background": "light"
     },
     "output_type": "display_data"
    }
   ],
   "source": [
    "ssC = element_array_stepsize.copy()\n",
    "\n",
    "plt.hist(ssC)#, bins=30)\n",
    "plt.show()"
   ]
  },
  {
   "cell_type": "code",
   "execution_count": 129,
   "metadata": {
    "ExecuteTime": {
     "end_time": "2020-12-11T06:55:24.780271Z",
     "start_time": "2020-12-11T06:55:12.113852Z"
    }
   },
   "outputs": [
    {
     "name": "stdout",
     "output_type": "stream",
     "text": [
      "0.0011901699586587035 0.0004889780278972969 0.0010000000000000009\n"
     ]
    }
   ],
   "source": [
    "#prepare for video\n",
    "frameno = 1\n",
    "time_between_observations = 0.01\n",
    "time_end_recording = tD\n",
    "time_of_next_observation = tme + time_between_observations\n",
    "\n",
    "#ready... get set... GO!\n",
    "os.chdir(nb_dir)\n",
    "os.chdir(save_folder_vid)\n",
    "\n",
    "while time_of_next_observation <= time_end_recording:\n",
    "    tf = time_of_next_observation\n",
    "    #integrate forward to the next time of observation\n",
    "#     integrate_system_explicit_synchronous(tf, element_array_time, element_array_stepsize, node_array_time,\n",
    "#                                              element_array_index, vertices, velocities,node_array_mass, element_array_inverse_equilibrium_position)\n",
    "    #     integrate_system_implicit_synchronous(tf, element_array_time, element_array_stepsize, node_array_time,\n",
    "    #                                          element_array_index, vertices, velocities,node_array_mass, element_array_inverse_equilibrium_position)\n",
    "    #     integrate_system_dormand_prince_asynchronous(tf,element_array_time,element_array_stepsize,node_array_time,element_array_index,vertices,velocities,\n",
    "    #         node_array_mass,element_array_inverse_equilibrium_position,element_array_mass)\n",
    "    integrate_system_explicit_asynchronous(tf, element_array_time, element_array_stepsize, node_array_time,\n",
    "                                             element_array_index, vertices, velocities, node_array_mass, element_array_inverse_equilibrium_position, atol_x, atol_v, btol_x, btol_v, learning_rate)\n",
    "\n",
    "    #update a copy of all positions to the observation time using the current velocity\n",
    "    x = vertices.copy()\n",
    "    for a in range(N_vertices):\n",
    "        x[a] += velocities[a] * (tf - tau[a])\n",
    "    \n",
    "    #measure observables\n",
    "    ##mesh measures\n",
    "    net_volume = compute_net_volume(x, element_array_index)\n",
    "    net_energy = compute_net_energy(N_elements, element_array_mass, velocities, x, #vertices,\n",
    "                                  element_array_index, element_array_inverse_equilibrium_position, mu, lam)\n",
    "    ##stepsize measures\n",
    "    stepsize_mean = np.mean(element_array_stepsize)\n",
    "    stepsize_std = np.std(element_array_stepsize)\n",
    "    stepsize_median = np.median(element_array_stepsize)\n",
    "\n",
    "    #record observables\n",
    "    volume_lst.append(net_volume)\n",
    "    energy_lst.append(net_energy)\n",
    "    tme = tf\n",
    "    tme_lst.append(tme)\n",
    "    stepsize_mean_lst.append(stepsize_mean)\n",
    "    stepsize_std_lst.append(stepsize_std)\n",
    "    stepsize_median_lst.append(stepsize_median)\n",
    "    stepsize_count_lst.append(count_array(array = element_array_stepsize,bins=learning_bins))\n",
    "    #record image of system\n",
    "#     try:\n",
    "#         img = get_img_of_system(vertices, input_file_name, darkmode = False, text=f'time={tf:.2f}')\n",
    "#     except:\n",
    "#         pass\n",
    "#     save_fn_img = f'img{frameno:09}.png'\n",
    "#     frameno += 1\n",
    "#     Img = Image.fromarray(img)\n",
    "# #     Img.save(save_fn_img)\n",
    "\n",
    "\n",
    "#     del Img\n",
    "    #increment time_of_next_observation\n",
    "    time_of_next_observation += time_between_observations\n",
    "    #TODO(later): do something that makes a boring video less boring\n",
    "    #TODO(later): def element_array_count_calls_one_step to the call of integrate_system_.... i.e. Keep track of how many times each element is called to time step\n",
    "    #TODO(later): keep track of how many times each element config is updated with element_array_count_config_updates\n",
    "print(stepsize_mean, stepsize_std, stepsize_median)\n",
    "# beep(3)"
   ]
  },
  {
   "cell_type": "code",
   "execution_count": 130,
   "metadata": {
    "ExecuteTime": {
     "end_time": "2020-12-11T06:55:25.579167Z",
     "start_time": "2020-12-11T06:55:25.556580Z"
    }
   },
   "outputs": [
    {
     "data": {
      "text/plain": [
       "0.2900000000000001"
      ]
     },
     "execution_count": 130,
     "metadata": {},
     "output_type": "execute_result"
    }
   ],
   "source": [
    "tme"
   ]
  },
  {
   "cell_type": "code",
   "execution_count": 131,
   "metadata": {
    "ExecuteTime": {
     "end_time": "2020-12-11T06:55:26.552379Z",
     "start_time": "2020-12-11T06:55:26.360310Z"
    }
   },
   "outputs": [
    {
     "data": {
      "image/png": "[encoded data removed]",
      "text/plain": [
       "<Figure size 432x288 with 1 Axes>"
      ]
     },
     "metadata": {
      "needs_background": "light"
     },
     "output_type": "display_data"
    }
   ],
   "source": [
    "ssD = element_array_stepsize.copy()\n",
    "\n",
    "plt.hist(ssD, bins=10)\n",
    "plt.show()"
   ]
  },
  {
   "cell_type": "code",
   "execution_count": 132,
   "metadata": {
    "ExecuteTime": {
     "end_time": "2020-12-11T06:55:55.342729Z",
     "start_time": "2020-12-11T06:55:27.288264Z"
    }
   },
   "outputs": [
    {
     "name": "stdout",
     "output_type": "stream",
     "text": [
      "0.001338654111162149 0.0008432198053426251 0.0010000000000000009\n"
     ]
    }
   ],
   "source": [
    "#prepare for video\n",
    "frameno = 1\n",
    "time_between_observations = 0.01\n",
    "time_end_recording = tE\n",
    "time_of_next_observation = tme + time_between_observations\n",
    "\n",
    "#ready... get set... GO!\n",
    "os.chdir(nb_dir)\n",
    "os.chdir(save_folder_vid)\n",
    "\n",
    "while time_of_next_observation <= time_end_recording:\n",
    "    tf = time_of_next_observation\n",
    "    #integrate forward to the next time of observation\n",
    "#     integrate_system_explicit_synchronous(tf, element_array_time, element_array_stepsize, node_array_time,\n",
    "#                                              element_array_index, vertices, velocities,node_array_mass, element_array_inverse_equilibrium_position)\n",
    "    #     integrate_system_implicit_synchronous(tf, element_array_time, element_array_stepsize, node_array_time,\n",
    "    #                                          element_array_index, vertices, velocities,node_array_mass, element_array_inverse_equilibrium_position)\n",
    "    #     integrate_system_dormand_prince_asynchronous(tf,element_array_time,element_array_stepsize,node_array_time,element_array_index,vertices,velocities,\n",
    "    #         node_array_mass,element_array_inverse_equilibrium_position,element_array_mass)\n",
    "    integrate_system_explicit_asynchronous(tf, element_array_time, element_array_stepsize, node_array_time,\n",
    "                                             element_array_index, vertices, velocities, node_array_mass, element_array_inverse_equilibrium_position, atol_x, atol_v, btol_x, btol_v, learning_rate)\n",
    "\n",
    "    #update a copy of all positions to the observation time using the current velocity\n",
    "    x = vertices.copy()\n",
    "    for a in range(N_vertices):\n",
    "        x[a] += velocities[a] * (tf - tau[a])\n",
    "    \n",
    "    #measure observables\n",
    "    ##mesh measures\n",
    "    net_volume = compute_net_volume(x, element_array_index)\n",
    "    net_energy = compute_net_energy(N_elements, element_array_mass, velocities, x, #vertices,\n",
    "                                  element_array_index, element_array_inverse_equilibrium_position, mu, lam)\n",
    "    ##stepsize measures\n",
    "    stepsize_mean = np.mean(element_array_stepsize)\n",
    "    stepsize_std = np.std(element_array_stepsize)\n",
    "    stepsize_median = np.median(element_array_stepsize)\n",
    "\n",
    "    #record observables\n",
    "    volume_lst.append(net_volume)\n",
    "    energy_lst.append(net_energy)\n",
    "    tme = tf\n",
    "    tme_lst.append(tme)\n",
    "    stepsize_mean_lst.append(stepsize_mean)\n",
    "    stepsize_std_lst.append(stepsize_std)\n",
    "    stepsize_median_lst.append(stepsize_median)\n",
    "    stepsize_count_lst.append(count_array(array = element_array_stepsize,bins=learning_bins))\n",
    "    #record image of system\n",
    "#     try:\n",
    "#         img = get_img_of_system(vertices, input_file_name, darkmode = False, text=f'time={tf:.2f}')\n",
    "#     except:\n",
    "#         pass\n",
    "#     save_fn_img = f'img{frameno:09}.png'\n",
    "#     frameno += 1\n",
    "#     Img = Image.fromarray(img)\n",
    "# #     Img.save(save_fn_img)\n",
    "\n",
    "\n",
    "#     del Img\n",
    "    #increment time_of_next_observation\n",
    "    time_of_next_observation += time_between_observations\n",
    "    #TODO(later): do something that makes a boring video less boring\n",
    "    #TODO(later): def element_array_count_calls_one_step to the call of integrate_system_.... i.e. Keep track of how many times each element is called to time step\n",
    "    #TODO(later): keep track of how many times each element config is updated with element_array_count_config_updates\n",
    "print(stepsize_mean, stepsize_std, stepsize_median)\n",
    "# beep(3)"
   ]
  },
  {
   "cell_type": "code",
   "execution_count": 133,
   "metadata": {
    "ExecuteTime": {
     "end_time": "2020-12-11T06:55:56.355912Z",
     "start_time": "2020-12-11T06:55:56.141594Z"
    }
   },
   "outputs": [
    {
     "data": {
      "image/png": "[encoded data removed]",
      "text/plain": [
       "<Figure size 432x288 with 1 Axes>"
      ]
     },
     "metadata": {
      "needs_background": "light"
     },
     "output_type": "display_data"
    }
   ],
   "source": [
    "ssE = element_array_stepsize.copy()\n",
    "\n",
    "plt.hist(ssE, bins=10)\n",
    "plt.show()"
   ]
  },
  {
   "cell_type": "code",
   "execution_count": 134,
   "metadata": {
    "ExecuteTime": {
     "end_time": "2020-12-11T06:56:55.643516Z",
     "start_time": "2020-12-11T06:55:57.143155Z"
    }
   },
   "outputs": [
    {
     "name": "stdout",
     "output_type": "stream",
     "text": [
      "0.0019323610473127551 0.000976581003650598 0.0019999999999997797\n"
     ]
    }
   ],
   "source": [
    "#prepare for video\n",
    "frameno = 1\n",
    "time_between_observations = 0.01\n",
    "time_end_recording = tF\n",
    "time_of_next_observation = tme + time_between_observations\n",
    "\n",
    "#ready... get set... GO!\n",
    "os.chdir(nb_dir)\n",
    "os.chdir(save_folder_vid)\n",
    "\n",
    "while time_of_next_observation <= time_end_recording:\n",
    "    tf = time_of_next_observation\n",
    "    #integrate forward to the next time of observation\n",
    "#     integrate_system_explicit_synchronous(tf, element_array_time, element_array_stepsize, node_array_time,\n",
    "#                                              element_array_index, vertices, velocities,node_array_mass, element_array_inverse_equilibrium_position)\n",
    "    #     integrate_system_implicit_synchronous(tf, element_array_time, element_array_stepsize, node_array_time,\n",
    "    #                                          element_array_index, vertices, velocities,node_array_mass, element_array_inverse_equilibrium_position)\n",
    "    #     integrate_system_dormand_prince_asynchronous(tf,element_array_time,element_array_stepsize,node_array_time,element_array_index,vertices,velocities,\n",
    "    #         node_array_mass,element_array_inverse_equilibrium_position,element_array_mass)\n",
    "    integrate_system_explicit_asynchronous(tf, element_array_time, element_array_stepsize, node_array_time,\n",
    "                                             element_array_index, vertices, velocities, node_array_mass, element_array_inverse_equilibrium_position, atol_x, atol_v, btol_x, btol_v, learning_rate)\n",
    "\n",
    "    #update a copy of all positions to the observation time using the current velocity\n",
    "    x = vertices.copy()\n",
    "    for a in range(N_vertices):\n",
    "        x[a] += velocities[a] * (tf - tau[a])\n",
    "    \n",
    "    #measure observables\n",
    "    ##mesh measures\n",
    "    net_volume = compute_net_volume(x, element_array_index)\n",
    "    net_energy = compute_net_energy(N_elements, element_array_mass, velocities, x, #vertices,\n",
    "                                  element_array_index, element_array_inverse_equilibrium_position, mu, lam)\n",
    "    ##stepsize measures\n",
    "    stepsize_mean = np.mean(element_array_stepsize)\n",
    "    stepsize_std = np.std(element_array_stepsize)\n",
    "    stepsize_median = np.median(element_array_stepsize)\n",
    "\n",
    "    #record observables\n",
    "    volume_lst.append(net_volume)\n",
    "    energy_lst.append(net_energy)\n",
    "    tme = tf\n",
    "    tme_lst.append(tme)\n",
    "    stepsize_mean_lst.append(stepsize_mean)\n",
    "    stepsize_std_lst.append(stepsize_std)\n",
    "    stepsize_median_lst.append(stepsize_median)\n",
    "    stepsize_count_lst.append(count_array(array = element_array_stepsize,bins=learning_bins))\n",
    "    #record image of system\n",
    "#     try:\n",
    "#         img = get_img_of_system(vertices, input_file_name, darkmode = False, text=f'time={tf:.2f}')\n",
    "#     except:\n",
    "#         pass\n",
    "#     save_fn_img = f'img{frameno:09}.png'\n",
    "#     frameno += 1\n",
    "#     Img = Image.fromarray(img)\n",
    "# #     Img.save(save_fn_img)\n",
    "\n",
    "\n",
    "#     del Img\n",
    "    #increment time_of_next_observation\n",
    "    time_of_next_observation += time_between_observations\n",
    "    #TODO(later): do something that makes a boring video less boring\n",
    "    #TODO(later): def element_array_count_calls_one_step to the call of integrate_system_.... i.e. Keep track of how many times each element is called to time step\n",
    "    #TODO(later): keep track of how many times each element config is updated with element_array_count_config_updates\n",
    "print(stepsize_mean, stepsize_std, stepsize_median)\n",
    "# beep(3)"
   ]
  },
  {
   "cell_type": "code",
   "execution_count": 135,
   "metadata": {
    "ExecuteTime": {
     "end_time": "2020-12-11T06:56:56.626696Z",
     "start_time": "2020-12-11T06:56:56.453003Z"
    }
   },
   "outputs": [
    {
     "data": {
      "image/png": "[encoded data removed]",
      "text/plain": [
       "<Figure size 432x288 with 1 Axes>"
      ]
     },
     "metadata": {
      "needs_background": "light"
     },
     "output_type": "display_data"
    }
   ],
   "source": [
    "ssF = element_array_stepsize.copy()\n",
    "\n",
    "plt.hist(ssF, bins=10)\n",
    "plt.show()"
   ]
  },
  {
   "cell_type": "code",
   "execution_count": 136,
   "metadata": {
    "ExecuteTime": {
     "end_time": "2020-12-11T06:58:21.259187Z",
     "start_time": "2020-12-11T06:56:57.452053Z"
    }
   },
   "outputs": [
    {
     "name": "stdout",
     "output_type": "stream",
     "text": [
      "0.00249058337161219 0.0011866577513316664 0.0020000000000000018\n"
     ]
    }
   ],
   "source": [
    "#prepare for video\n",
    "frameno = 1\n",
    "time_between_observations = 0.01\n",
    "time_end_recording = tG\n",
    "time_of_next_observation = tme + time_between_observations\n",
    "\n",
    "#ready... get set... GO!\n",
    "os.chdir(nb_dir)\n",
    "os.chdir(save_folder_vid)\n",
    "\n",
    "while time_of_next_observation <= time_end_recording:\n",
    "    tf = time_of_next_observation\n",
    "    #integrate forward to the next time of observation\n",
    "#     integrate_system_explicit_synchronous(tf, element_array_time, element_array_stepsize, node_array_time,\n",
    "#                                              element_array_index, vertices, velocities,node_array_mass, element_array_inverse_equilibrium_position)\n",
    "    #     integrate_system_implicit_synchronous(tf, element_array_time, element_array_stepsize, node_array_time,\n",
    "    #                                          element_array_index, vertices, velocities,node_array_mass, element_array_inverse_equilibrium_position)\n",
    "    #     integrate_system_dormand_prince_asynchronous(tf,element_array_time,element_array_stepsize,node_array_time,element_array_index,vertices,velocities,\n",
    "    #         node_array_mass,element_array_inverse_equilibrium_position,element_array_mass)\n",
    "    integrate_system_explicit_asynchronous(tf, element_array_time, element_array_stepsize, node_array_time,\n",
    "                                             element_array_index, vertices, velocities, node_array_mass, element_array_inverse_equilibrium_position, atol_x, atol_v, btol_x, btol_v, learning_rate)\n",
    "\n",
    "    #update a copy of all positions to the observation time using the current velocity\n",
    "    x = vertices.copy()\n",
    "    for a in range(N_vertices):\n",
    "        x[a] += velocities[a] * (tf - tau[a])\n",
    "    \n",
    "    #measure observables\n",
    "    ##mesh measures\n",
    "    net_volume = compute_net_volume(x, element_array_index)\n",
    "    net_energy = compute_net_energy(N_elements, element_array_mass, velocities, x, #vertices,\n",
    "                                  element_array_index, element_array_inverse_equilibrium_position, mu, lam)\n",
    "    ##stepsize measures\n",
    "    stepsize_mean = np.mean(element_array_stepsize)\n",
    "    stepsize_std = np.std(element_array_stepsize)\n",
    "    stepsize_median = np.median(element_array_stepsize)\n",
    "\n",
    "    #record observables\n",
    "    volume_lst.append(net_volume)\n",
    "    energy_lst.append(net_energy)\n",
    "    tme = tf\n",
    "    tme_lst.append(tme)\n",
    "    stepsize_mean_lst.append(stepsize_mean)\n",
    "    stepsize_std_lst.append(stepsize_std)\n",
    "    stepsize_median_lst.append(stepsize_median)\n",
    "    stepsize_count_lst.append(count_array(array = element_array_stepsize,bins=learning_bins))\n",
    "    #record image of system\n",
    "#     try:\n",
    "#         img = get_img_of_system(vertices, input_file_name, darkmode = False, text=f'time={tf:.2f}')\n",
    "#     except:\n",
    "#         pass\n",
    "#     save_fn_img = f'img{frameno:09}.png'\n",
    "#     frameno += 1\n",
    "#     Img = Image.fromarray(img)\n",
    "# #     Img.save(save_fn_img)\n",
    "\n",
    "\n",
    "#     del Img\n",
    "    #increment time_of_next_observation\n",
    "    time_of_next_observation += time_between_observations\n",
    "    #TODO(later): do something that makes a boring video less boring\n",
    "    #TODO(later): def element_array_count_calls_one_step to the call of integrate_system_.... i.e. Keep track of how many times each element is called to time step\n",
    "    #TODO(later): keep track of how many times each element config is updated with element_array_count_config_updates\n",
    "print(stepsize_mean, stepsize_std, stepsize_median)\n",
    "# beep(3)"
   ]
  },
  {
   "cell_type": "code",
   "execution_count": 137,
   "metadata": {
    "ExecuteTime": {
     "end_time": "2020-12-11T06:58:22.328147Z",
     "start_time": "2020-12-11T06:58:22.156898Z"
    }
   },
   "outputs": [
    {
     "data": {
      "image/png": "[encoded data removed]",
      "text/plain": [
       "<Figure size 432x288 with 1 Axes>"
      ]
     },
     "metadata": {
      "needs_background": "light"
     },
     "output_type": "display_data"
    }
   ],
   "source": [
    "ssG = element_array_stepsize.copy()\n",
    "\n",
    "plt.hist(ssG, bins=10)\n",
    "plt.show()"
   ]
  },
  {
   "cell_type": "code",
   "execution_count": 138,
   "metadata": {
    "ExecuteTime": {
     "end_time": "2020-12-11T06:58:42.262066Z",
     "start_time": "2020-12-11T06:58:23.210131Z"
    }
   },
   "outputs": [
    {
     "ename": "KeyboardInterrupt",
     "evalue": "",
     "output_type": "error",
     "traceback": [
      "\u001b[0;31m---------------------------------------------------------------------------\u001b[0m",
      "\u001b[0;31mKeyboardInterrupt\u001b[0m                         Traceback (most recent call last)",
      "\u001b[0;32m<ipython-input-138-72aa030aaf87>\u001b[0m in \u001b[0;36m<module>\u001b[0;34m\u001b[0m\n\u001b[1;32m     18\u001b[0m     \u001b[0;31m#     integrate_system_dormand_prince_asynchronous(tf,element_array_time,element_array_stepsize,node_array_time,element_array_index,vertices,velocities,\u001b[0m\u001b[0;34m\u001b[0m\u001b[0;34m\u001b[0m\u001b[0;34m\u001b[0m\u001b[0m\n\u001b[1;32m     19\u001b[0m     \u001b[0;31m#         node_array_mass,element_array_inverse_equilibrium_position,element_array_mass)\u001b[0m\u001b[0;34m\u001b[0m\u001b[0;34m\u001b[0m\u001b[0;34m\u001b[0m\u001b[0m\n\u001b[0;32m---> 20\u001b[0;31m     integrate_system_explicit_asynchronous(tf, element_array_time, element_array_stepsize, node_array_time,\n\u001b[0m\u001b[1;32m     21\u001b[0m                                              element_array_index, vertices, velocities, node_array_mass, element_array_inverse_equilibrium_position, atol_x, atol_v, btol_x, btol_v, learning_rate)\n\u001b[1;32m     22\u001b[0m \u001b[0;34m\u001b[0m\u001b[0m\n",
      "\u001b[0;31mKeyboardInterrupt\u001b[0m: "
     ]
    }
   ],
   "source": [
    "#prepare for video\n",
    "frameno = 1\n",
    "time_between_observations = 0.01\n",
    "time_end_recording = tH\n",
    "time_of_next_observation = tme + time_between_observations\n",
    "\n",
    "#ready... get set... GO!\n",
    "os.chdir(nb_dir)\n",
    "os.chdir(save_folder_vid)\n",
    "\n",
    "while time_of_next_observation <= time_end_recording:\n",
    "    tf = time_of_next_observation\n",
    "    #integrate forward to the next time of observation\n",
    "#     integrate_system_explicit_synchronous(tf, element_array_time, element_array_stepsize, node_array_time,\n",
    "#                                              element_array_index, vertices, velocities,node_array_mass, element_array_inverse_equilibrium_position)\n",
    "    #     integrate_system_implicit_synchronous(tf, element_array_time, element_array_stepsize, node_array_time,\n",
    "    #                                          element_array_index, vertices, velocities,node_array_mass, element_array_inverse_equilibrium_position)\n",
    "    #     integrate_system_dormand_prince_asynchronous(tf,element_array_time,element_array_stepsize,node_array_time,element_array_index,vertices,velocities,\n",
    "    #         node_array_mass,element_array_inverse_equilibrium_position,element_array_mass)\n",
    "    integrate_system_explicit_asynchronous(tf, element_array_time, element_array_stepsize, node_array_time,\n",
    "                                             element_array_index, vertices, velocities, node_array_mass, element_array_inverse_equilibrium_position, atol_x, atol_v, btol_x, btol_v, learning_rate)\n",
    "\n",
    "    #update a copy of all positions to the observation time using the current velocity\n",
    "    x = vertices.copy()\n",
    "    for a in range(N_vertices):\n",
    "        x[a] += velocities[a] * (tf - tau[a])\n",
    "    \n",
    "    #measure observables\n",
    "    ##mesh measures\n",
    "    net_volume = compute_net_volume(x, element_array_index)\n",
    "    net_energy = compute_net_energy(N_elements, element_array_mass, velocities, x, #vertices,\n",
    "                                  element_array_index, element_array_inverse_equilibrium_position, mu, lam)\n",
    "    ##stepsize measures\n",
    "    stepsize_mean = np.mean(element_array_stepsize)\n",
    "    stepsize_std = np.std(element_array_stepsize)\n",
    "    stepsize_median = np.median(element_array_stepsize)\n",
    "\n",
    "    #record observables\n",
    "    volume_lst.append(net_volume)\n",
    "    energy_lst.append(net_energy)\n",
    "    tme = tf\n",
    "    tme_lst.append(tme)\n",
    "    stepsize_mean_lst.append(stepsize_mean)\n",
    "    stepsize_std_lst.append(stepsize_std)\n",
    "    stepsize_median_lst.append(stepsize_median)\n",
    "    stepsize_count_lst.append(count_array(array = element_array_stepsize,bins=learning_bins))\n",
    "    #record image of system\n",
    "#     try:\n",
    "#         img = get_img_of_system(vertices, input_file_name, darkmode = False, text=f'time={tf:.2f}')\n",
    "#     except:\n",
    "#         pass\n",
    "#     save_fn_img = f'img{frameno:09}.png'\n",
    "#     frameno += 1\n",
    "#     Img = Image.fromarray(img)\n",
    "# #     Img.save(save_fn_img)\n",
    "\n",
    "\n",
    "#     del Img\n",
    "    #increment time_of_next_observation\n",
    "    time_of_next_observation += time_between_observations\n",
    "    #TODO(later): do something that makes a boring video less boring\n",
    "    #TODO(later): def element_array_count_calls_one_step to the call of integrate_system_.... i.e. Keep track of how many times each element is called to time step\n",
    "    #TODO(later): keep track of how many times each element config is updated with element_array_count_config_updates\n",
    "print(stepsize_mean, stepsize_std, stepsize_median)\n",
    "beep(1)"
   ]
  },
  {
   "cell_type": "code",
   "execution_count": null,
   "metadata": {
    "ExecuteTime": {
     "end_time": "2020-12-11T06:58:42.279325Z",
     "start_time": "2020-12-11T06:54:07.515Z"
    }
   },
   "outputs": [],
   "source": [
    "ssH = element_array_stepsize.copy()\n",
    "\n",
    "plt.hist(ssH, bins=10)\n",
    "plt.show()"
   ]
  },
  {
   "cell_type": "markdown",
   "metadata": {},
   "source": [
    "# plot up these histograms"
   ]
  },
  {
   "cell_type": "code",
   "execution_count": null,
   "metadata": {
    "ExecuteTime": {
     "end_time": "2020-12-11T06:58:42.293191Z",
     "start_time": "2020-12-11T06:54:07.814Z"
    }
   },
   "outputs": [],
   "source": [
    "fig, axs = plt.subplots(figsize = (9,4), ncols = 2)\n",
    "ax = axs[0]\n",
    "bins = 30\n",
    "axkwargs = {\n",
    "    'fontsize':14,\n",
    "    \n",
    "}\n",
    "hkwargs = {\n",
    "    'color':'blue',#'orange',\n",
    "    'cumulative':False,\n",
    "    'stacked':True,\n",
    "    'log':False,\n",
    "    'density':False,\n",
    "    'bins':bins\n",
    "}\n",
    "# _bins,_,_ = \n",
    "ax.set_xlim([0,np.max(ssF)])\n",
    "ax.hist(ssA, alpha=0.05, label = f't={tA}', **hkwargs)#, color='Blues', c=1)\n",
    "# kwargs['bins']=_bins\n",
    "ax.hist(ssB, alpha=0.1, label = f't={tB}', **hkwargs)\n",
    "ax.hist(ssC, alpha=0.2, label = f't={tC}', **hkwargs)\n",
    "ax.hist(ssD, alpha=0.3, label = f't={tD}', **hkwargs)\n",
    "ax.hist(ssE, alpha=.7, label = f't={tE}', **hkwargs)\n",
    "# ax.hist(ssF, bins=bins, **hkwargs)\n",
    "# ax.hist(ssG, bins=bins, **hkwargs)\n",
    "# ax.hist(ssH, bins=bins, **hkwargs)\n",
    "ax.legend(**axkwargs)\n",
    "plt.xticks(**axkwargs)\n",
    "\n",
    "ax.set_ylim([0,3500])\n",
    "ax.set_ylabel('frequency',**axkwargs)\n",
    "ax.set_xlabel('step size',**axkwargs)\n",
    "ax.tick_params(labelsize=axkwargs['fontsize'])\n",
    "# ax.set_xticklabels(xlabels, Fontsize= )\n",
    "# ax.set_xticklabels(ax.get_xticklabels(),**axkwargs)\n",
    "\n",
    "ax = axs[1]\n",
    "x_values = np.array(tme_lst)\n",
    "y_values = np.array(stepsize_mean_lst)\n",
    "ax.plot(x_values, y_values)\n",
    "ax.fill_between(x_values, y_values-stepsize_std_lst,y_values+stepsize_std_lst, alpha=0.2)\n",
    "ax.set_xlabel('time',**axkwargs)\n",
    "ax.set_ylabel('average step size',**axkwargs)\n",
    "# plt.xticks(**axkwargs)\n",
    "ax.tick_params(labelsize=axkwargs['fontsize'])\n",
    "\n",
    "plt.tight_layout()\n",
    "plt.show()\n"
   ]
  },
  {
   "cell_type": "code",
   "execution_count": null,
   "metadata": {
    "ExecuteTime": {
     "end_time": "2020-12-11T06:58:42.306329Z",
     "start_time": "2020-12-11T06:54:07.971Z"
    }
   },
   "outputs": [],
   "source": [
    "np.cumsum(ssA)/N_elements"
   ]
  },
  {
   "cell_type": "code",
   "execution_count": null,
   "metadata": {
    "ExecuteTime": {
     "end_time": "2020-12-11T03:46:21.439446Z",
     "start_time": "2020-12-11T03:46:21.413430Z"
    }
   },
   "outputs": [],
   "source": []
  },
  {
   "cell_type": "code",
   "execution_count": 104,
   "metadata": {
    "ExecuteTime": {
     "end_time": "2020-12-11T06:13:04.245013Z",
     "start_time": "2020-12-11T06:13:03.843075Z"
    }
   },
   "outputs": [
    {
     "data": {
      "image/png": "[encoded data removed]",
      "text/plain": [
       "<Figure size 864x288 with 3 Axes>"
      ]
     },
     "metadata": {
      "needs_background": "light"
     },
     "output_type": "display_data"
    }
   ],
   "source": [
    "fig, axs = plt.subplots(figsize = (12,4), ncols = 3)\n",
    "\n",
    "ax = axs[0]\n",
    "x_values = np.array(tme_lst)\n",
    "y_values = np.array([s**2 for s in stepsize_std_lst])\n",
    "ax.plot(x_values, y_values)\n",
    "# ax.fill_between(x_values, y_values-stepsize_std_lst,y_values+stepsize_std_lst, alpha=0.2)\n",
    "ax.set_xlabel('time',**axkwargs)\n",
    "ax.set_ylabel('variance in step size',**axkwargs)\n",
    "ax.tick_params(labelsize=axkwargs['fontsize'])\n",
    "\n",
    "#mean is not equal to variance\n",
    "# ax = axs[1]\n",
    "# x_values = np.array(tme_lst)\n",
    "# y_values = np.array([s**2/m for s,m in zip(stepsize_std_lst,stepsize_mean_lst)])\n",
    "# ax.plot(x_values, y_values)\n",
    "# # ax.fill_between(x_values, y_values-stepsize_std_lst,y_values+stepsize_std_lst, alpha=0.2)\n",
    "# ax.set_xlabel('time',**axkwargs)\n",
    "# ax.set_ylabel('average step size',**axkwargs)\n",
    "\n",
    "\n",
    "ax = axs[1]\n",
    "x_values = np.array(tme_lst)\n",
    "y_values = np.array(energy_lst)/energy_lst[0]#[s**2/m for s,m in zip(stepsize_std_lst,stepsize_mean_lst)])\n",
    "ax.plot(x_values, y_values)\n",
    "# ax.fill_between(x_values, y_values-stepsize_std_lst,y_values+stepsize_std_lst, alpha=0.2)\n",
    "ax.set_xlabel('time',**axkwargs)\n",
    "ax.set_ylabel('energy / initial energy',**axkwargs)\n",
    "ax.tick_params(labelsize=axkwargs['fontsize'])\n",
    "\n",
    "\n",
    "ax = axs[2]\n",
    "x_values = np.array(tme_lst)\n",
    "y_values = np.array(volume_lst)/volume_lst[0]#[s**2/m for s,m in zip(stepsize_std_lst,stepsize_mean_lst)])\n",
    "ax.plot(x_values, y_values)\n",
    "# ax.fill_between(x_values, y_values-stepsize_std_lst,y_values+stepsize_std_lst, alpha=0.2)\n",
    "ax.set_xlabel('time',**axkwargs)\n",
    "ax.set_ylabel('volume / initial volume',**axkwargs)\n",
    "ax.tick_params(labelsize=axkwargs['fontsize'])\n",
    "\n",
    "plt.tight_layout()\n",
    "plt.show()"
   ]
  },
  {
   "cell_type": "markdown",
   "metadata": {},
   "source": [
    "# save csv\n",
    "TODO: now plot a comparable distribution from a neural set"
   ]
  },
  {
   "cell_type": "code",
   "execution_count": 105,
   "metadata": {
    "ExecuteTime": {
     "end_time": "2020-12-11T06:13:05.103015Z",
     "start_time": "2020-12-11T06:13:05.081848Z"
    }
   },
   "outputs": [],
   "source": [
    "df = pd.DataFrame({\n",
    "    't':tme_lst,\n",
    "    'volume':volume_lst,\n",
    "    'energy':energy_lst,\n",
    "    'stepsize_mean':stepsize_mean_lst,\n",
    "    'stepsize_std':stepsize_std_lst,\n",
    "    'stepsize_median':stepsize_median_lst,\n",
    "})"
   ]
  },
  {
   "cell_type": "code",
   "execution_count": 106,
   "metadata": {
    "ExecuteTime": {
     "end_time": "2020-12-11T06:13:05.960684Z",
     "start_time": "2020-12-11T06:13:05.926313Z"
    }
   },
   "outputs": [],
   "source": [
    "os.chdir(data_folder)\n",
    "df.to_csv(data_fn, index=False)"
   ]
  },
  {
   "cell_type": "code",
   "execution_count": 107,
   "metadata": {
    "ExecuteTime": {
     "end_time": "2020-12-11T06:13:07.880661Z",
     "start_time": "2020-12-11T06:13:06.836564Z"
    }
   },
   "outputs": [
    {
     "data": {
      "text/plain": [
       "0"
      ]
     },
     "execution_count": 107,
     "metadata": {},
     "output_type": "execute_result"
    }
   ],
   "source": [
    "# retval = !ls\n",
    "# print (retval ) \n",
    "beep(5)"
   ]
  },
  {
   "cell_type": "markdown",
   "metadata": {},
   "source": [
    "# "
   ]
  },
  {
   "cell_type": "code",
   "execution_count": 108,
   "metadata": {
    "ExecuteTime": {
     "end_time": "2020-12-11T06:51:43.533900Z",
     "start_time": "2020-12-11T06:51:43.356834Z"
    }
   },
   "outputs": [
    {
     "name": "stdout",
     "output_type": "stream",
     "text": [
      "total 3864\r\n",
      "-rw-r--r--  1 timothytyree  staff   69728 Dec 10 17:00 avi_es_counts_fixed_lr_a_equal_b_spherical_mesh_100_mu_1.0_lambda_10.0_gamma_0.0_vscale_1.0_stepsizeinit_0.0001_salience_2_atolx_0.0001.npy\r\n",
      "-rw-r--r--  1 timothytyree  staff      22 Dec  9 18:33 avi_es_counts_spherical_mesh_100_mu_1.0_lambda_10.0_gamma_0.0.npy.npz\r\n",
      "-rw-r--r--  1 timothytyree  staff   60145 Dec 10 21:55 avi_es_fixed_lr_a_equal_b_spherical_mesh_1000_mu_1.0_lambda_10.0_gamma_0.05_vscale_2.0_stepsizeinit_0.005_salience_2_atolx_0.0001.csv\r\n",
      "-rw-r--r--  1 timothytyree  staff   35726 Dec 10 17:00 avi_es_fixed_lr_a_equal_b_spherical_mesh_100_mu_1.0_lambda_10.0_gamma_0.0_vscale_1.0_stepsizeinit_0.0001_salience_2_atolx_0.0001.csv\r\n",
      "-rw-r--r--  1 timothytyree  staff   18587 Dec 10 15:25 avi_es_fixed_lr_a_equal_b_spherical_mesh_100_mu_1.0_lambda_10.0_gamma_0.0_vscale_2.0_stepsizeinit_0.0001_salience_2_atolx_0.0001.csv\r\n",
      "-rw-r--r--  1 timothytyree  staff   35900 Dec 10 21:04 avi_es_fixed_lr_a_equal_b_spherical_mesh_400_mu_1.0_lambda_10.0_gamma_0.05_vscale_2.0_stepsizeinit_0.005_salience_2_atolx_0.0001.csv\r\n",
      "-rw-r--r--  1 timothytyree  staff   59146 Dec 10 22:13 avi_es_fixed_lr_a_equal_b_spherical_mesh_400_mu_1.0_lambda_10.0_gamma_0.05_vscale_2.0_stepsizeinit_0.02_salience_2_atolx_0.001.csv\r\n",
      "-rw-r--r--  1 timothytyree  staff   60041 Dec 10 21:09 avi_es_fixed_lr_a_equal_b_spherical_mesh_64_mu_1.0_lambda_10.0_gamma_0.05_vscale_2.0_stepsizeinit_0.005_salience_2_atolx_0.0001.csv\r\n",
      "-rw-r--r--  1 timothytyree  staff   60041 Dec 10 21:59 avi_es_fixed_lr_a_equal_b_spherical_mesh_64_mu_1.0_lambda_10.0_gamma_0.05_vscale_2.0_stepsizeinit_0.01_salience_2_atolx_0.0001.csv\r\n",
      "-rw-r--r--  1 timothytyree  staff   60098 Dec 10 22:04 avi_es_fixed_lr_a_equal_b_spherical_mesh_64_mu_1.0_lambda_10.0_gamma_0.05_vscale_2.0_stepsizeinit_0.02_salience_2_atolx_0.0001.csv\r\n",
      "-rw-r--r--  1 timothytyree  staff   59363 Dec 10 22:08 avi_es_fixed_lr_a_equal_b_spherical_mesh_64_mu_1.0_lambda_10.0_gamma_0.05_vscale_2.0_stepsizeinit_0.02_salience_2_atolx_0.001.csv\r\n",
      "-rw-r--r--@ 1 timothytyree  staff   34037 Dec  9 18:31 avi_es_spherical_mesh_100_mu_1.0_lambda_10.0_gamma_0.0.csv\r\n",
      "-rw-r--r--  1 timothytyree  staff   11802 Dec 10 19:55 avi_es_variable_lr_a_equal_b_spherical_mesh_400_mu_1.0_lambda_10.0_gamma_0.05_vscale_2.0_stepsizeinit_0.0025_salience_0.5_atolx_0.0001.csv\r\n",
      "-rw-r--r--  1 timothytyree  staff   11917 Dec 10 19:49 avi_es_variable_lr_a_equal_b_spherical_mesh_400_mu_1.0_lambda_10.0_gamma_0.05_vscale_2.0_stepsizeinit_0.0025_salience_4_atolx_0.0001.csv\r\n",
      "-rw-r--r--  1 timothytyree  staff   11917 Dec 10 19:40 avi_es_variable_lr_spherical_mesh_400_mu_1.0_lambda_10.0_gamma_0.05_vscale_2.0_salience_2_stepsizeinit_0.0025_atolx_0.0001_btolx_1e-05.csv\r\n",
      "-rw-r--r--  1 timothytyree  staff   69728 Dec 10 17:34 avi_esynchronous_counts_fixed_lr_a_equal_b_spherical_mesh_100_mu_1.0_lambda_10.0_gamma_0.0_vscale_1.0_stepsizeinit_0.0001_salience_2_atolx_0.0001.npy\r\n",
      "-rw-r--r--  1 timothytyree  staff   69728 Dec 10 18:25 avi_esynchronous_counts_fixed_lr_a_equal_b_spherical_mesh_400_mu_1.0_lambda_10.0_gamma_0.0_vscale_1.0_stepsizeinit_0.0001_salience_2_atolx_0.0001.npy\r\n",
      "-rw-r--r--  1 timothytyree  staff   32735 Dec 10 17:34 avi_esynchronous_fixed_lr_a_equal_b_spherical_mesh_100_mu_1.0_lambda_10.0_gamma_0.0_vscale_1.0_stepsizeinit_0.0001_salience_2_atolx_0.0001.csv\r\n",
      "-rw-r--r--  1 timothytyree  staff   22182 Dec 10 18:25 avi_esynchronous_fixed_lr_a_equal_b_spherical_mesh_400_mu_1.0_lambda_10.0_gamma_0.0_vscale_1.0_stepsizeinit_0.0001_salience_2_atolx_0.0001.csv\r\n",
      "-rw-r--r--  1 timothytyree  staff   54369 Dec  8 17:32 avi_is_spherical_mesh_100.stl_mu_1.0_lambda_1.0_gamma_1.0.csv\r\n",
      "-rw-r--r--  1 timothytyree  staff   47008 Dec  9 16:39 avi_is_spherical_mesh_100_mu_1.0_lambda_10.0_gamma_0.0.csv\r\n",
      "-rw-r--r--@ 1 timothytyree  staff   53048 Dec  8 13:58 avi_is_spherical_mesh_400.stl_mu_1.0_lambda_1.0_gamma_0.0.csv\r\n",
      "-rw-r--r--  1 timothytyree  staff   35918 Dec  9 22:25 avi_ns_a_equal_b_spherical_mesh_100_mu_1.0_lambda_1.0_gamma_0.0vscale_2.0_stepsizeinit_0.005.csv\r\n",
      "-rw-r--r--  1 timothytyree  staff   36000 Dec  9 22:34 avi_ns_a_equal_b_spherical_mesh_100_mu_1.0_lambda_1.0_gamma_0.0vscale_2.0_stepsizeinit_0.005_salience_32.csv\r\n",
      "-rw-r--r--  1 timothytyree  staff   36017 Dec  9 23:43 avi_ns_a_equal_b_spherical_mesh_100_mu_1.0_lambda_1.0_gamma_0.0vscale_2.0_stepsizeinit_0.005_salience_32_atolx_0.0001.csv\r\n",
      "-rw-r--r--  1 timothytyree  staff   45090 Dec 10 10:26 avi_ns_a_equal_b_spherical_mesh_100_mu_1.0_lambda_1.0_gamma_0.0vscale_2.0_stepsizeinit_5e-05_salience_128_atolx_0.0001.csv\r\n",
      "-rw-r--r--  1 timothytyree  staff   36068 Dec  9 22:07 avi_ns_a_equal_b_spherical_mesh_100_mu_1.0_lambda_10.0_gamma_0.0vscale_2.0_stepsizeinit_0.005.csv\r\n",
      "-rw-r--r--  1 timothytyree  staff   14107 Dec 10 21:54 avi_ns_asynch_fixed_lr_spherical_mesh_400_mu_1.0_lambda_10.0_gamma_0.05vscale_2.0_stepsizeinit_0.0001_salience_2_atolx_0.0001.csv\r\n",
      "-rw-r--r--  1 timothytyree  staff   72128 Dec  9 22:25 avi_ns_counts_a_equal_b_spherical_mesh_100_mu_1.0_lambda_1.0_gamma_0.0vscale_2.0_stepsizeinit_0.005.npy\r\n",
      "-rw-r--r--  1 timothytyree  staff   72128 Dec  9 22:34 avi_ns_counts_a_equal_b_spherical_mesh_100_mu_1.0_lambda_1.0_gamma_0.0vscale_2.0_stepsizeinit_0.005_salience_32.npy\r\n",
      "-rw-r--r--  1 timothytyree  staff   72128 Dec  9 23:43 avi_ns_counts_a_equal_b_spherical_mesh_100_mu_1.0_lambda_1.0_gamma_0.0vscale_2.0_stepsizeinit_0.005_salience_32_atolx_0.0001.npy\r\n",
      "-rw-r--r--  1 timothytyree  staff   88448 Dec 10 10:26 avi_ns_counts_a_equal_b_spherical_mesh_100_mu_1.0_lambda_1.0_gamma_0.0vscale_2.0_stepsizeinit_5e-05_salience_128_atolx_0.0001.npy\r\n",
      "-rw-r--r--  1 timothytyree  staff   43568 Dec 10 03:07 avi_ns_counts_a_equal_b_spherical_mesh_100_mu_1.0_lambda_1.0_gamma_0.0vscale_2.0_stepsizeinit_5e-05_salience_128_atolx_0.0001.npy copy\r\n",
      "-rw-r--r--  1 timothytyree  staff  141728 Dec  9 22:07 avi_ns_counts_a_equal_b_spherical_mesh_100_mu_1.0_lambda_10.0_gamma_0.0.npz.npy\r\n",
      "-rw-r--r--  1 timothytyree  staff   92928 Dec 10 21:55 avi_ns_counts_asynch_fixed_lr_spherical_mesh_400_mu_1.0_lambda_10.0_gamma_0.05vscale_2.0_stepsizeinit_0.0001_salience_2_atolx_0.0001.npy\r\n",
      "-rw-r--r--  1 timothytyree  staff      22 Dec  9 20:59 avi_ns_counts_spherical_mesh_100_mu_1.0_lambda_10.0_gamma_0.0.npz\r\n",
      "-rw-r--r--@ 1 timothytyree  staff   36726 Dec  9 20:59 avi_ns_spherical_mesh_100_mu_1.0_lambda_10.0_gamma_0.0.csv\r\n",
      "-rw-r--r--  1 timothytyree  staff    8820 Dec  7 14:54 esvi_sphere_100.csv\r\n",
      "-rw-r--r--  1 timothytyree  staff   32009 Dec  7 14:24 squish_not_working.csv\r\n"
     ]
    }
   ],
   "source": [
    "ls -l"
   ]
  },
  {
   "cell_type": "markdown",
   "metadata": {},
   "source": [
    "# make a function that generates a given input kwargs"
   ]
  },
  {
   "cell_type": "code",
   "execution_count": null,
   "metadata": {
    "ExecuteTime": {
     "end_time": "2020-12-11T06:58:42.333290Z",
     "start_time": "2020-12-11T06:58:32.055Z"
    }
   },
   "outputs": [],
   "source": [
    "kwargs= {\n",
    "'mu' = 1., \n",
    "'lam' = 10.,\n",
    "'gamma' = .05,#1.#1.;\n",
    "'salience' = 2,#128#32\n",
    "'lasso_fraction' = 0.5,\n",
    "'v_scale' = 2.,\n",
    "'mass_density'=1.,\n",
    "'stepsize_init' = 0.002,#0.005#0.00001#0.0001\n",
    "'atol_x' = 0.00001,#0.001#1e-7; \n",
    "'atol_v' = 0.00001,#0.001#1e-7; \n",
    "'btol_x' = 0.000001,#0.001#1e-10; \n",
    "'btol_v' = 0.000001,#0.001#1e-10; \n",
    "'mesh_size' = 64,\n",
    "}\n",
    "\n",
    "\n",
    "def generate_timeseries(**kwargs):\n",
    "    learning_rate = np.log(salience)\n",
    "    #path to mesh\n",
    "    input_file_name = f'../data/spherical_meshes/spherical_mesh_{mesh_size}.stl'\n",
    "    # input_file_name = f'../data/spherical_meshes/spherical_mesh_1000.stl'\n",
    "\n",
    "    # input_file_name = f'../data/spherical_meshes/spherical_mesh_400.stl'\n",
    "    #where to save results\n",
    "    data_folder =  os.path.join(nb_dir,'../data/mov_csv')\n",
    "    data_fn = f\"avi_es_fixed_lr_a_equal_b_{os.path.basename(input_file_name).replace('.stl',f'_mu_{mu}_lambda_{lam}_gamma_{gamma}_vscale_{v_scale}_stepsizeinit_{stepsize_init}')}_salience_{salience}_atolx_{atol_x}.csv\"\n",
    "    # data_fn = f\"avi_ns_fixed_lr_a_equal_b_{os.path.basename(input_file_name).replace('.stl',f'_mu_{mu}_lambda_{lam}_gamma_{gamma}vscale_{v_scale}_stepsizeinit_{stepsize_init}')}_salience_{salience}_atolx_{atol_x}.csv\"\n",
    "    save_folder_vid = '../vid/tmp'\n",
    "    folder_vid = '../vid'\n",
    "    # data_fn_counts = data_fn.replace(\"s_\",\"s_counts_\").replace('.csv','.npz')\n",
    "    data_fn_counts = data_fn.replace(\"s_\",\"s_counts_\").replace('.csv','.npy')\n",
    "\n",
    "    os.chdir(nb_dir)\n",
    "    # input_file_name = f'../data/spherical_meshes/spherical_mesh_64.stl'input_file_name = f'../data/spherical_meshes/spherical_mesh_64.stl'\n",
    "    # input_file_name = f'../data/spherical_meshes/spherical_mesh_1000.stl'\n",
    "    input_file_name = os.path.join(nb_dir,input_file_name)\n",
    "    tme = 0.\n",
    "    dict_values_system = initialize_system(input_file_name, time_initial=tme, mass_density=mass_density)\n",
    "    locals().update(dict_values_system)\n",
    "    N_elements = element_array_index.shape[0]\n",
    "    N_vertices = node_array_position.shape[0]\n",
    "    print(list(dict_values_system.keys()))\n",
    "\n",
    "\n",
    "    integrate_system_explicit_asynchronous = get_integrate_system_explicit_asynchronous(mu,lam,gamma)\n",
    "\n",
    "\n",
    "\n",
    "    #initialize system\n",
    "    tauK = element_array_time\n",
    "    tau = node_array_time\n",
    "\n",
    "    #get method of computing elastic forces \n",
    "    zero_mat = np.zeros((4,3))\n",
    "    # calc_P = get_calc_P(mu, lam)\n",
    "    # compute_nodal_damping_forces  = get_compute_nodal_damping_forces(mu,lam,gamma)\n",
    "    # comp_nodal_elastic_forces = get_comp_nodal_elastic_forces(mu, lam)\n",
    "\n",
    "    elements = element_array_index\n",
    "    vertices = node_array_position\n",
    "\n",
    "    #initialize stepsizes of simulation\n",
    "    element_array_stepsize = np.zeros_like(element_array_time) + stepsize_init\n",
    "    element_array_count_calls_one_step = np.zeros_like(element_array_time,dtype=int)\n",
    "    element_array_count_config_updates = np.zeros_like(element_array_time,dtype=int)\n",
    "    momentum = node_array_momentum.copy()\n",
    "    velocities = momentum.copy()\n",
    "    for j in range(N_vertices):\n",
    "        velocities[j] /= node_array_mass[j]\n",
    "\n",
    "\n",
    "    # #perturb momentum in the x direction and let it run overnight with a small timestep  \n",
    "    velocities[:,0] = -v_scale * vertices[:,0].copy()\n",
    "\n",
    "    #initialize containers of measures\n",
    "    volume_lst = []\n",
    "    energy_lst = []\n",
    "    tme_lst    = []\n",
    "    stepsize_mean_lst   = []\n",
    "    stepsize_std_lst    = []\n",
    "    stepsize_median_lst = []\n",
    "    stepsize_count_lst = []\n",
    "    frac_lb = lambda i: np.exp(learning_rate*i)  ##np.exp((i+.5)*learning_rate/10)\n",
    "    learning_bins = np.array([stepsize_init*frac_lb(i) for i in np.arange(-15,15)])\n",
    "\n",
    "    # #this looks nice. 30 bins\n",
    "    # learning_bins = np.array([0.00480198, 0.00480886, 0.00481574, 0.00482262, 0.00482951,\n",
    "    #         0.00483639, 0.00484327, 0.00485015, 0.00485703, 0.00486391,\n",
    "    #         0.0048708 , 0.00487768, 0.00488456, 0.00489144, 0.00489832,\n",
    "    #         0.0049052 , 0.00491209, 0.00491897, 0.00492585, 0.00493273,\n",
    "    #         0.00493961, 0.00494649, 0.00495338, 0.00496026, 0.00496714,\n",
    "    #         0.00497402, 0.0049809 , 0.00498778, 0.00499467, 0.00500155,\n",
    "    #         0.00500843])\n",
    "\n",
    "    # #let's try 100 bins\n",
    "    # learning_bins = np.array([0.00477609, 0.00477838, 0.00478067, 0.00478296, 0.00478526,\n",
    "    #         0.00478755, 0.00478984, 0.00479214, 0.00479443, 0.00479672,\n",
    "    #         0.00479902, 0.00480131, 0.0048036 , 0.0048059 , 0.00480819,\n",
    "    #         0.00481048, 0.00481277, 0.00481507, 0.00481736, 0.00481965,\n",
    "    #         0.00482195, 0.00482424, 0.00482653, 0.00482883, 0.00483112,\n",
    "    #         0.00483341, 0.00483571, 0.004838  , 0.00484029, 0.00484258,\n",
    "    #         0.00484488, 0.00484717, 0.00484946, 0.00485176, 0.00485405,\n",
    "    #         0.00485634, 0.00485864, 0.00486093, 0.00486322, 0.00486552,\n",
    "    #         0.00486781, 0.0048701 , 0.0048724 , 0.00487469, 0.00487698,\n",
    "    #         0.00487927, 0.00488157, 0.00488386, 0.00488615, 0.00488845,\n",
    "    #         0.00489074, 0.00489303, 0.00489533, 0.00489762, 0.00489991,\n",
    "    #         0.00490221, 0.0049045 , 0.00490679, 0.00490908, 0.00491138,\n",
    "    #         0.00491367, 0.00491596, 0.00491826, 0.00492055, 0.00492284,\n",
    "    #         0.00492514, 0.00492743, 0.00492972, 0.00493202, 0.00493431,\n",
    "    #         0.0049366 , 0.0049389 , 0.00494119, 0.00494348, 0.00494577,\n",
    "    #         0.00494807, 0.00495036, 0.00495265, 0.00495495, 0.00495724,\n",
    "    #         0.00495953, 0.00496183, 0.00496412, 0.00496641, 0.00496871,\n",
    "    #         0.004971  , 0.00497329, 0.00497558, 0.00497788, 0.00498017,\n",
    "    #         0.00498246, 0.00498476, 0.00498705, 0.00498934, 0.00499164,\n",
    "    #         0.00499393, 0.00499622, 0.00499852, 0.00500081, 0.0050031 ,\n",
    "    #         0.00500539])\n",
    "\n",
    "    # learning_bins = np.array([stepsize_init*np.exp((i+.5)*learning_rate) for i in np.arange(-3,3)])\n",
    "    print(f\"learning_bins are {learning_bins}\")\n",
    "\n",
    "\n",
    "\n",
    "    #prepare for video\n",
    "    frameno = 1\n",
    "    time_between_observations = 0.01\n",
    "    time_end_recording = tB\n",
    "    time_of_next_observation = tme + time_between_observations\n",
    "\n",
    "    #ready... get set... GO!\n",
    "    os.chdir(nb_dir)\n",
    "    os.chdir(save_folder_vid)\n",
    "\n",
    "    while time_of_next_observation <= time_end_recording:\n",
    "        tf = time_of_next_observation\n",
    "        #integrate forward to the next time of observation\n",
    "    #     integrate_system_explicit_synchronous(tf, element_array_time, element_array_stepsize, node_array_time,\n",
    "    #                                              element_array_index, vertices, velocities,node_array_mass, element_array_inverse_equilibrium_position)\n",
    "        #     integrate_system_implicit_synchronous(tf, element_array_time, element_array_stepsize, node_array_time,\n",
    "        #                                          element_array_index, vertices, velocities,node_array_mass, element_array_inverse_equilibrium_position)\n",
    "        #     integrate_system_dormand_prince_asynchronous(tf,element_array_time,element_array_stepsize,node_array_time,element_array_index,vertices,velocities,\n",
    "        #         node_array_mass,element_array_inverse_equilibrium_position,element_array_mass)\n",
    "        integrate_system_explicit_asynchronous(tf, element_array_time, element_array_stepsize, node_array_time,\n",
    "                                                 element_array_index, vertices, velocities, node_array_mass, element_array_inverse_equilibrium_position, atol_x, atol_v, btol_x, btol_v, learning_rate)\n",
    "\n",
    "        #update a copy of all positions to the observation time using the current velocity\n",
    "        x = vertices.copy()\n",
    "        for a in range(N_vertices):\n",
    "            x[a] += velocities[a] * (tf - tau[a])\n",
    "\n",
    "        #measure observables\n",
    "        ##mesh measures\n",
    "        net_volume = compute_net_volume(x, element_array_index)\n",
    "        net_energy = compute_net_energy(N_elements, element_array_mass, velocities, x, #vertices,\n",
    "                                      element_array_index, element_array_inverse_equilibrium_position, mu, lam)\n",
    "        ##stepsize measures\n",
    "        stepsize_mean = np.mean(element_array_stepsize)\n",
    "        stepsize_std = np.std(element_array_stepsize)\n",
    "        stepsize_median = np.median(element_array_stepsize)\n",
    "\n",
    "        #record observables\n",
    "        volume_lst.append(net_volume)\n",
    "        energy_lst.append(net_energy)\n",
    "        tme = tf\n",
    "        tme_lst.append(tme)\n",
    "        stepsize_mean_lst.append(stepsize_mean)\n",
    "        stepsize_std_lst.append(stepsize_std)\n",
    "        stepsize_median_lst.append(stepsize_median)\n",
    "        stepsize_count_lst.append(count_array(array = element_array_stepsize,bins=learning_bins))\n",
    "        #record image of system\n",
    "    #     try:\n",
    "    #         img = get_img_of_system(vertices, input_file_name, darkmode = False, text=f'time={tf:.2f}')\n",
    "    #     except:\n",
    "    #         pass\n",
    "    #     save_fn_img = f'img{frameno:09}.png'\n",
    "    #     frameno += 1\n",
    "    #     Img = Image.fromarray(img)\n",
    "    # #     Img.save(save_fn_img)\n",
    "\n",
    "\n",
    "    #     del Img\n",
    "        #increment time_of_next_observation\n",
    "        time_of_next_observation += time_between_observations\n",
    "        #TODO(later): do something that makes a boring video less boring\n",
    "        #TODO(later): def element_array_count_calls_one_step to the call of integrate_system_.... i.e. Keep track of how many times each element is called to time step\n",
    "        #TODO(later): keep track of how many times each element config is updated with element_array_count_config_updates\n",
    "    print(stepsize_mean, stepsize_std, stepsize_median)\n",
    "    # beep(3)\n",
    "\n",
    "\n",
    "    df = pd.DataFrame({\n",
    "        't':tme_lst,\n",
    "        'volume':volume_lst,\n",
    "        'energy':energy_lst,\n",
    "        'stepsize_mean':stepsize_mean_lst,\n",
    "        'stepsize_std':stepsize_std_lst,\n",
    "        'stepsize_median':stepsize_median_lst,\n",
    "    })\n",
    "\n",
    "\n",
    "    os.chdir(data_folder)\n",
    "    df.to_csv(data_fn, index=False)\n",
    "    return data_fn"
   ]
  },
  {
   "cell_type": "code",
   "execution_count": null,
   "metadata": {},
   "outputs": [],
   "source": []
  },
  {
   "cell_type": "code",
   "execution_count": null,
   "metadata": {},
   "outputs": [],
   "source": []
  },
  {
   "cell_type": "code",
   "execution_count": 139,
   "metadata": {
    "ExecuteTime": {
     "end_time": "2020-12-11T07:00:24.402870Z",
     "start_time": "2020-12-11T07:00:24.380564Z"
    }
   },
   "outputs": [
    {
     "ename": "SyntaxError",
     "evalue": "invalid syntax (<ipython-input-139-2123e3536bf4>, line 2)",
     "output_type": "error",
     "traceback": [
      "\u001b[0;36m  File \u001b[0;32m\"<ipython-input-139-2123e3536bf4>\"\u001b[0;36m, line \u001b[0;32m2\u001b[0m\n\u001b[0;31m    'mu' = 1.,\u001b[0m\n\u001b[0m         ^\u001b[0m\n\u001b[0;31mSyntaxError\u001b[0m\u001b[0;31m:\u001b[0m invalid syntax\n"
     ]
    }
   ],
   "source": [
    "kwargs= {\n",
    "'' = 1., \n",
    "'' = 10.,\n",
    "'' = .05,#1.#1.;\n",
    "'' = 2,#128#32\n",
    "'' = 0.5,\n",
    "'' = 2.,\n",
    "''=1.,\n",
    "'' = 0.002,#0.005#0.00001#0.0001\n",
    "'' = 0.00001,#0.001#1e-7; \n",
    "'' = 0.00001,#0.001#1e-7; \n",
    "'' = 0.000001,#0.001#1e-10; \n",
    "'' = 0.000001,#0.001#1e-10; \n",
    "'' = 64,\n",
    "}"
   ]
  },
  {
   "cell_type": "code",
   "execution_count": 148,
   "metadata": {
    "ExecuteTime": {
     "end_time": "2020-12-11T07:08:42.242602Z",
     "start_time": "2020-12-11T07:08:42.208603Z"
    }
   },
   "outputs": [],
   "source": [
    "def generate_timeseries(mu,lam,gamma,salience,lasso_fraction,v_scale,mass_density,stepsize_init,atol_x,atol_v,btol_x,btol_v,mesh_size,tmax,**kwargs):\n",
    "\n",
    "    learning_rate = np.log(salience)\n",
    "    #path to mesh\n",
    "    input_file_name = f'../data/spherical_meshes/spherical_mesh_{mesh_size}.stl'\n",
    "    # input_file_name = f'../data/spherical_meshes/spherical_mesh_1000.stl'\n",
    "\n",
    "    # input_file_name = f'../data/spherical_meshes/spherical_mesh_400.stl'\n",
    "    #where to save results\n",
    "    data_folder =  os.path.join(nb_dir,'../data/mov_csv')\n",
    "    data_fn = f\"avi_es_fixed_lr_a_equal_b_{os.path.basename(input_file_name).replace('.stl',f'_mu_{mu}_lambda_{lam}_gamma_{gamma}_vscale_{v_scale}_stepsizeinit_{stepsize_init}')}_salience_{salience}_atolx_{atol_x}.csv\"\n",
    "    # data_fn = f\"avi_ns_fixed_lr_a_equal_b_{os.path.basename(input_file_name).replace('.stl',f'_mu_{mu}_lambda_{lam}_gamma_{gamma}vscale_{v_scale}_stepsizeinit_{stepsize_init}')}_salience_{salience}_atolx_{atol_x}.csv\"\n",
    "    save_folder_vid = '../vid/tmp'\n",
    "    folder_vid = '../vid'\n",
    "    # data_fn_counts = data_fn.replace(\"s_\",\"s_counts_\").replace('.csv','.npz')\n",
    "    data_fn_counts = data_fn.replace(\"s_\",\"s_counts_\").replace('.csv','.npy')\n",
    "\n",
    "    os.chdir(nb_dir)\n",
    "    # input_file_name = f'../data/spherical_meshes/spherical_mesh_64.stl'input_file_name = f'../data/spherical_meshes/spherical_mesh_64.stl'\n",
    "    # input_file_name = f'../data/spherical_meshes/spherical_mesh_1000.stl'\n",
    "    input_file_name = os.path.join(nb_dir,input_file_name)\n",
    "    tme = 0.\n",
    "    dict_values_system = initialize_system(input_file_name, time_initial=tme, mass_density=mass_density)\n",
    "    locals().update(dict_values_system)\n",
    "    N_elements = element_array_index.shape[0]\n",
    "    N_vertices = node_array_position.shape[0]\n",
    "    print(list(dict_values_system.keys()))\n",
    "\n",
    "\n",
    "    integrate_system_explicit_asynchronous = get_integrate_system_explicit_asynchronous(mu,lam,gamma)\n",
    "\n",
    "\n",
    "\n",
    "    #initialize system\n",
    "    tauK = element_array_time\n",
    "    tau = node_array_time\n",
    "\n",
    "    #get method of computing elastic forces \n",
    "    zero_mat = np.zeros((4,3))\n",
    "    # calc_P = get_calc_P(mu, lam)\n",
    "    # compute_nodal_damping_forces  = get_compute_nodal_damping_forces(mu,lam,gamma)\n",
    "    # comp_nodal_elastic_forces = get_comp_nodal_elastic_forces(mu, lam)\n",
    "\n",
    "    elements = element_array_index\n",
    "    vertices = node_array_position\n",
    "\n",
    "    #initialize stepsizes of simulation\n",
    "    element_array_stepsize = np.zeros_like(element_array_time) + stepsize_init\n",
    "    element_array_count_calls_one_step = np.zeros_like(element_array_time,dtype=int)\n",
    "    element_array_count_config_updates = np.zeros_like(element_array_time,dtype=int)\n",
    "    momentum = node_array_momentum.copy()\n",
    "    velocities = momentum.copy()\n",
    "    for j in range(N_vertices):\n",
    "        velocities[j] /= node_array_mass[j]\n",
    "\n",
    "\n",
    "    # #perturb momentum in the x direction and let it run overnight with a small timestep  \n",
    "    velocities[:,0] = -v_scale * vertices[:,0].copy()\n",
    "\n",
    "    #initialize containers of measures\n",
    "    volume_lst = []\n",
    "    energy_lst = []\n",
    "    tme_lst    = []\n",
    "    stepsize_mean_lst   = []\n",
    "    stepsize_std_lst    = []\n",
    "    stepsize_median_lst = []\n",
    "    stepsize_count_lst = []\n",
    "    frac_lb = lambda i: np.exp(learning_rate*i)  ##np.exp((i+.5)*learning_rate/10)\n",
    "    learning_bins = np.array([stepsize_init*frac_lb(i) for i in np.arange(-15,15)])\n",
    "\n",
    "    # learning_bins = np.array([stepsize_init*np.exp((i+.5)*learning_rate) for i in np.arange(-3,3)])\n",
    "    print(f\"learning_bins are {learning_bins}\")\n",
    "\n",
    "\n",
    "\n",
    "    #prepare for video\n",
    "    frameno = 1\n",
    "    time_between_observations = 0.01\n",
    "    time_end_recording = tmax\n",
    "    time_of_next_observation = tme + time_between_observations\n",
    "\n",
    "    #ready... get set... GO!\n",
    "    os.chdir(nb_dir)\n",
    "    os.chdir(save_folder_vid)\n",
    "\n",
    "    while time_of_next_observation <= time_end_recording:\n",
    "        tf = time_of_next_observation\n",
    "        #integrate forward to the next time of observation\n",
    "    #     integrate_system_explicit_synchronous(tf, element_array_time, element_array_stepsize, node_array_time,\n",
    "    #                                              element_array_index, vertices, velocities,node_array_mass, element_array_inverse_equilibrium_position)\n",
    "        #     integrate_system_implicit_synchronous(tf, element_array_time, element_array_stepsize, node_array_time,\n",
    "        #                                          element_array_index, vertices, velocities,node_array_mass, element_array_inverse_equilibrium_position)\n",
    "        #     integrate_system_dormand_prince_asynchronous(tf,element_array_time,element_array_stepsize,node_array_time,element_array_index,vertices,velocities,\n",
    "        #         node_array_mass,element_array_inverse_equilibrium_position,element_array_mass)\n",
    "        integrate_system_explicit_asynchronous(tf, element_array_time, element_array_stepsize, node_array_time,\n",
    "                                                 element_array_index, vertices, velocities, node_array_mass, element_array_inverse_equilibrium_position, atol_x, atol_v, btol_x, btol_v, learning_rate)\n",
    "\n",
    "        #update a copy of all positions to the observation time using the current velocity\n",
    "        x = vertices.copy()\n",
    "        for a in range(N_vertices):\n",
    "            x[a] += velocities[a] * (tf - tau[a])\n",
    "\n",
    "        #measure observables\n",
    "        ##mesh measures\n",
    "        net_volume = compute_net_volume(x, element_array_index)\n",
    "        net_energy = compute_net_energy(N_elements, element_array_mass, velocities, x, #vertices,\n",
    "                                      element_array_index, element_array_inverse_equilibrium_position, mu, lam)\n",
    "        ##stepsize measures\n",
    "        stepsize_mean   = np.mean(element_array_stepsize)\n",
    "        stepsize_std    = np.std(element_array_stepsize)\n",
    "        stepsize_median = np.median(element_array_stepsize)\n",
    "\n",
    "        #record observables\n",
    "        volume_lst.append(net_volume)\n",
    "        energy_lst.append(net_energy)\n",
    "        tme = tf\n",
    "        tme_lst.append(tme)\n",
    "        stepsize_mean_lst.append(stepsize_mean)\n",
    "        stepsize_std_lst.append(stepsize_std)\n",
    "        stepsize_median_lst.append(stepsize_median)\n",
    "        stepsize_count_lst.append(count_array(array = element_array_stepsize,bins=learning_bins))\n",
    "        #record image of system\n",
    "    #     try:\n",
    "    #         img = get_img_of_system(vertices, input_file_name, darkmode = False, text=f'time={tf:.2f}')\n",
    "    #     except:\n",
    "    #         pass\n",
    "    #     save_fn_img = f'img{frameno:09}.png'\n",
    "    #     frameno += 1\n",
    "    #     Img = Image.fromarray(img)\n",
    "    # #     Img.save(save_fn_img)\n",
    "\n",
    "\n",
    "    #     del Img\n",
    "        #increment time_of_next_observation\n",
    "        time_of_next_observation += time_between_observations\n",
    "        #TODO(later): do something that makes a boring video less boring\n",
    "        #TODO(later): def element_array_count_calls_one_step to the call of integrate_system_.... i.e. Keep track of how many times each element is called to time step\n",
    "        #TODO(later): keep track of how many times each element config is updated with element_array_count_config_updates\n",
    "    print(stepsize_mean, stepsize_std, stepsize_median)\n",
    "    # beep(3)\n",
    "\n",
    "\n",
    "    df = pd.DataFrame({\n",
    "        't':tme_lst,\n",
    "        'volume':volume_lst,\n",
    "        'energy':energy_lst,\n",
    "        'stepsize_mean':stepsize_mean_lst,\n",
    "        'stepsize_std':stepsize_std_lst,\n",
    "        'stepsize_median':stepsize_median_lst,\n",
    "    })\n",
    "\n",
    "\n",
    "    os.chdir(data_folder)\n",
    "    df.to_csv(data_fn, index=False)\n",
    "    return data_fn"
   ]
  },
  {
   "cell_type": "code",
   "execution_count": 150,
   "metadata": {
    "ExecuteTime": {
     "end_time": "2020-12-11T07:15:17.103179Z",
     "start_time": "2020-12-11T07:14:46.936865Z"
    }
   },
   "outputs": [
    {
     "name": "stderr",
     "output_type": "stream",
     "text": [
      "face_normals all zero, ignoring!\n"
     ]
    },
    {
     "name": "stdout",
     "output_type": "stream",
     "text": [
      "['element_array_time', 'element_array_index', 'element_array_mass', 'element_array_volume', 'element_array_inverse_equilibrium_position', 'node_array_equilibrium_position', 'node_array_time', 'node_array_position', 'node_array_momentum', 'node_array_mass', 'node_array_volume']\n",
      "learning_bins are [6.10351563e-08 1.22070313e-07 2.44140625e-07 4.88281250e-07\n",
      " 9.76562500e-07 1.95312500e-06 3.90625000e-06 7.81250000e-06\n",
      " 1.56250000e-05 3.12500000e-05 6.25000000e-05 1.25000000e-04\n",
      " 2.50000000e-04 5.00000000e-04 1.00000000e-03 2.00000000e-03\n",
      " 4.00000000e-03 8.00000000e-03 1.60000000e-02 3.20000000e-02\n",
      " 6.40000000e-02 1.28000000e-01 2.56000000e-01 5.12000000e-01\n",
      " 1.02400000e+00 2.04800000e+00 4.09600000e+00 8.19200000e+00\n",
      " 1.63840000e+01 3.27680000e+01]\n"
     ]
    },
    {
     "name": "stderr",
     "output_type": "stream",
     "text": [
      "/Users/timothytyree/Documents/GitHub/avi/nb/lib/controller/integrate_forward_explicit_asynchronous.py:45: NumbaPerformanceWarning: '@' is faster on contiguous arrays, called on (array(float64, 2d, C), array(float64, 2d, A))\n",
      "  next_stepsize, retval, madval = step_forward_and_learn_simple(K_index, t_given, node_array_time, element_array_time, vertices, velocities, element_array_index,\n"
     ]
    },
    {
     "name": "stdout",
     "output_type": "stream",
     "text": [
      "0.0018693155718879076 0.0003385846138635492 0.002\n"
     ]
    },
    {
     "data": {
      "text/plain": [
       "0"
      ]
     },
     "execution_count": 150,
     "metadata": {},
     "output_type": "execute_result"
    }
   ],
   "source": [
    "kwargs= {\n",
    "'mu' : 1., \n",
    "'lam' : 10.,\n",
    "'gamma' : .05,#1.#1.;\n",
    "'salience' : 2,#128#32\n",
    "'lasso_fraction' : 0.5,\n",
    "'v_scale' : 2.,\n",
    "'mass_density':1.,\n",
    "'stepsize_init' : 0.002,#0.005#0.00001#0.0001\n",
    "'atol_x' : 0.00001,#0.001#1e-7; \n",
    "'atol_v' : 0.00001,#0.001#1e-7; \n",
    "'btol_x' : 0.000001,#0.001#1e-10; \n",
    "'btol_v' : 0.000001,#0.001#1e-10; \n",
    "'mesh_size' : 64,\n",
    "    'tmax':5,\n",
    "}\n",
    "\n",
    "generate_timeseries(**kwargs)\n",
    "beep(1)"
   ]
  },
  {
   "cell_type": "code",
   "execution_count": 149,
   "metadata": {
    "ExecuteTime": {
     "end_time": "2020-12-11T07:14:45.869259Z",
     "start_time": "2020-12-11T07:09:30.983465Z"
    }
   },
   "outputs": [
    {
     "name": "stderr",
     "output_type": "stream",
     "text": [
      "face_normals all zero, ignoring!\n"
     ]
    },
    {
     "name": "stdout",
     "output_type": "stream",
     "text": [
      "['element_array_time', 'element_array_index', 'element_array_mass', 'element_array_volume', 'element_array_inverse_equilibrium_position', 'node_array_equilibrium_position', 'node_array_time', 'node_array_position', 'node_array_momentum', 'node_array_mass', 'node_array_volume']\n",
      "learning_bins are [6.10351563e-08 1.22070313e-07 2.44140625e-07 4.88281250e-07\n",
      " 9.76562500e-07 1.95312500e-06 3.90625000e-06 7.81250000e-06\n",
      " 1.56250000e-05 3.12500000e-05 6.25000000e-05 1.25000000e-04\n",
      " 2.50000000e-04 5.00000000e-04 1.00000000e-03 2.00000000e-03\n",
      " 4.00000000e-03 8.00000000e-03 1.60000000e-02 3.20000000e-02\n",
      " 6.40000000e-02 1.28000000e-01 2.56000000e-01 5.12000000e-01\n",
      " 1.02400000e+00 2.04800000e+00 4.09600000e+00 8.19200000e+00\n",
      " 1.63840000e+01 3.27680000e+01]\n"
     ]
    },
    {
     "name": "stderr",
     "output_type": "stream",
     "text": [
      "/Users/timothytyree/Documents/GitHub/avi/nb/lib/controller/integrate_forward_explicit_asynchronous.py:45: NumbaPerformanceWarning: '@' is faster on contiguous arrays, called on (array(float64, 2d, C), array(float64, 2d, A))\n",
      "  next_stepsize, retval, madval = step_forward_and_learn_simple(K_index, t_given, node_array_time, element_array_time, vertices, velocities, element_array_index,\n"
     ]
    },
    {
     "name": "stdout",
     "output_type": "stream",
     "text": [
      "0.002341410197520011 0.0011470207400818822 0.002000000000000668\n",
      "avi_es_fixed_lr_a_equal_b_spherical_mesh_64_mu_2.0_lambda_10.0_gamma_0.05_vscale_2.0_stepsizeinit_0.002_salience_2_atolx_1e-05.csv\n"
     ]
    },
    {
     "data": {
      "text/plain": [
       "0"
      ]
     },
     "execution_count": 149,
     "metadata": {},
     "output_type": "execute_result"
    }
   ],
   "source": [
    "kwargs= {\n",
    "'mu' : 2., \n",
    "'lam' : 10.,\n",
    "'gamma' : .05,#1.#1.;\n",
    "'salience' : 2,#128#32\n",
    "'lasso_fraction' : 0.5,\n",
    "'v_scale' : 2.,\n",
    "'mass_density':1.,\n",
    "'stepsize_init' : 0.002,#0.005#0.00001#0.0001\n",
    "'atol_x' : 0.00001,#0.001#1e-7; \n",
    "'atol_v' : 0.00001,#0.001#1e-7; \n",
    "'btol_x' : 0.000001,#0.001#1e-10; \n",
    "'btol_v' : 0.000001,#0.001#1e-10; \n",
    "'mesh_size' : 64,\n",
    "'tmax':5,\n",
    "    'fn':\n",
    "}\n",
    "\n",
    "retval = generate_timeseries(**kwargs)\n",
    "print(retval)\n",
    "beep(1)"
   ]
  },
  {
   "cell_type": "code",
   "execution_count": null,
   "metadata": {},
   "outputs": [],
   "source": []
  }
 ],
 "metadata": {
  "kernelspec": {
   "display_name": "Python 3",
   "language": "python",
   "name": "python3"
  },
  "language_info": {
   "codemirror_mode": {
    "name": "ipython",
    "version": 3
   },
   "file_extension": ".py",
   "mimetype": "text/x-python",
   "name": "python",
   "nbconvert_exporter": "python",
   "pygments_lexer": "ipython3",
   "version": "3.8.6"
  },
  "varInspector": {
   "cols": {
    "lenName": 16,
    "lenType": 16,
    "lenVar": 40
   },
   "kernels_config": {
    "python": {
     "delete_cmd_postfix": "",
     "delete_cmd_prefix": "del ",
     "library": "var_list.py",
     "varRefreshCmd": "print(var_dic_list())"
    },
    "r": {
     "delete_cmd_postfix": ") ",
     "delete_cmd_prefix": "rm(",
     "library": "var_list.r",
     "varRefreshCmd": "cat(var_dic_list()) "
    }
   },
   "types_to_exclude": [
    "module",
    "function",
    "builtin_function_or_method",
    "instance",
    "_Feature"
   ],
   "window_display": false
  }
 },
 "nbformat": 4,
 "nbformat_minor": 4
}
