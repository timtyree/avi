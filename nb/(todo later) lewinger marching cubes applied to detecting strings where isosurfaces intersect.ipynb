{
 "cells": [
  {
   "cell_type": "markdown",
   "metadata": {
    "ExecuteTime": {
     "end_time": "2020-10-19T18:35:40.173219Z",
     "start_time": "2020-10-19T18:35:40.095712Z"
    }
   },
   "source": [
    "# get lewinger marching cubes to work for spiral tip detection"
   ]
  },
  {
   "cell_type": "code",
   "execution_count": 7,
   "metadata": {
    "ExecuteTime": {
     "end_time": "2020-10-19T19:08:12.104470Z",
     "start_time": "2020-10-19T19:08:12.095718Z"
    }
   },
   "outputs": [
    {
     "ename": "NameError",
     "evalue": "name 'myvolume' is not defined",
     "output_type": "error",
     "traceback": [
      "\u001b[0;31m---------------------------------------------------------------------------\u001b[0m",
      "\u001b[0;31mNameError\u001b[0m                                 Traceback (most recent call last)",
      "\u001b[0;32m<ipython-input-7-95574a7841e1>\u001b[0m in \u001b[0;36m<module>\u001b[0;34m\u001b[0m\n\u001b[0;32m----> 1\u001b[0;31m \u001b[0mmyvolume\u001b[0m\u001b[0;34m\u001b[0m\u001b[0;34m\u001b[0m\u001b[0m\n\u001b[0m",
      "\u001b[0;31mNameError\u001b[0m: name 'myvolume' is not defined"
     ]
    }
   ],
   "source": [
    "#TODO: import an example myvolume"
   ]
  },
  {
   "cell_type": "code",
   "execution_count": 8,
   "metadata": {
    "ExecuteTime": {
     "end_time": "2020-10-19T19:09:00.774940Z",
     "start_time": "2020-10-19T19:09:00.772657Z"
    }
   },
   "outputs": [],
   "source": [
    "# !pip install bpy\n",
    "#TODO: get bpy using conda?\n",
    "# import bpy"
   ]
  },
  {
   "cell_type": "code",
   "execution_count": 9,
   "metadata": {
    "ExecuteTime": {
     "end_time": "2020-10-19T19:09:03.165628Z",
     "start_time": "2020-10-19T19:09:03.163456Z"
    }
   },
   "outputs": [],
   "source": [
    "# !pip install visvis"
   ]
  },
  {
   "cell_type": "code",
   "execution_count": 10,
   "metadata": {
    "ExecuteTime": {
     "end_time": "2020-10-19T19:09:05.435558Z",
     "start_time": "2020-10-19T19:09:05.425634Z"
    }
   },
   "outputs": [
    {
     "ename": "NameError",
     "evalue": "name 'myvolume' is not defined",
     "output_type": "error",
     "traceback": [
      "\u001b[0;31m---------------------------------------------------------------------------\u001b[0m",
      "\u001b[0;31mNameError\u001b[0m                                 Traceback (most recent call last)",
      "\u001b[0;32m<ipython-input-10-00065d53ab34>\u001b[0m in \u001b[0;36m<module>\u001b[0;34m\u001b[0m\n\u001b[1;32m      1\u001b[0m \u001b[0;32mimport\u001b[0m \u001b[0mvisvis\u001b[0m \u001b[0;32mas\u001b[0m \u001b[0mvv\u001b[0m \u001b[0;31m# doctest: +SKIP\u001b[0m\u001b[0;34m\u001b[0m\u001b[0;34m\u001b[0m\u001b[0m\n\u001b[1;32m      2\u001b[0m \u001b[0;32mfrom\u001b[0m \u001b[0mskimage\u001b[0m\u001b[0;34m.\u001b[0m\u001b[0mmeasure\u001b[0m \u001b[0;32mimport\u001b[0m \u001b[0mmarching_cubes_lewiner\u001b[0m\u001b[0;34m\u001b[0m\u001b[0;34m\u001b[0m\u001b[0m\n\u001b[0;32m----> 3\u001b[0;31m \u001b[0mverts\u001b[0m\u001b[0;34m,\u001b[0m \u001b[0mfaces\u001b[0m\u001b[0;34m,\u001b[0m \u001b[0mnormals\u001b[0m\u001b[0;34m,\u001b[0m \u001b[0mvalues\u001b[0m \u001b[0;34m=\u001b[0m \u001b[0mmarching_cubes_lewiner\u001b[0m\u001b[0;34m(\u001b[0m\u001b[0mmyvolume\u001b[0m\u001b[0;34m,\u001b[0m \u001b[0;36m0.0\u001b[0m\u001b[0;34m)\u001b[0m \u001b[0;31m# doctest: +SKIP\u001b[0m\u001b[0;34m\u001b[0m\u001b[0;34m\u001b[0m\u001b[0m\n\u001b[0m\u001b[1;32m      4\u001b[0m \u001b[0mvv\u001b[0m\u001b[0;34m.\u001b[0m\u001b[0mmesh\u001b[0m\u001b[0;34m(\u001b[0m\u001b[0mnp\u001b[0m\u001b[0;34m.\u001b[0m\u001b[0mfliplr\u001b[0m\u001b[0;34m(\u001b[0m\u001b[0mverts\u001b[0m\u001b[0;34m)\u001b[0m\u001b[0;34m,\u001b[0m \u001b[0mfaces\u001b[0m\u001b[0;34m,\u001b[0m \u001b[0mnormals\u001b[0m\u001b[0;34m,\u001b[0m \u001b[0mvalues\u001b[0m\u001b[0;34m)\u001b[0m \u001b[0;31m# doctest: +SKIP\u001b[0m\u001b[0;34m\u001b[0m\u001b[0;34m\u001b[0m\u001b[0m\n\u001b[1;32m      5\u001b[0m \u001b[0mvv\u001b[0m\u001b[0;34m.\u001b[0m\u001b[0muse\u001b[0m\u001b[0;34m(\u001b[0m\u001b[0;34m)\u001b[0m\u001b[0;34m.\u001b[0m\u001b[0mRun\u001b[0m\u001b[0;34m(\u001b[0m\u001b[0;34m)\u001b[0m \u001b[0;31m# doctest: +SKIP\u001b[0m\u001b[0;34m\u001b[0m\u001b[0;34m\u001b[0m\u001b[0m\n",
      "\u001b[0;31mNameError\u001b[0m: name 'myvolume' is not defined"
     ]
    }
   ],
   "source": [
    "import visvis as vv # doctest: +SKIP\n",
    "from skimage.measure import marching_cubes_lewiner\n",
    "verts, faces, normals, values = marching_cubes_lewiner(myvolume, 0.0) # doctest: +SKIP\n",
    "vv.mesh(np.fliplr(verts), faces, normals, values) # doctest: +SKIP\n",
    "vv.use().Run() # doctest: +SKIP"
   ]
  },
  {
   "cell_type": "code",
   "execution_count": 26,
   "metadata": {
    "ExecuteTime": {
     "end_time": "2020-10-19T19:14:19.589690Z",
     "start_time": "2020-10-19T19:14:19.586807Z"
    }
   },
   "outputs": [],
   "source": [
    "from skimage import measure\n",
    "import inspect"
   ]
  },
  {
   "cell_type": "code",
   "execution_count": 23,
   "metadata": {
    "ExecuteTime": {
     "end_time": "2020-10-19T19:11:36.420085Z",
     "start_time": "2020-10-19T19:11:36.415518Z"
    }
   },
   "outputs": [
    {
     "name": "stdout",
     "output_type": "stream",
     "text": [
      "def marching_cubes_lewiner(volume, level=None, spacing=(1., 1., 1.),\n",
      "                           gradient_direction='descent', step_size=1,\n",
      "                           allow_degenerate=True, use_classic=False, mask=None):\n",
      "    \"\"\"\n",
      "    Lewiner marching cubes algorithm to find surfaces in 3d volumetric data.\n",
      "\n",
      "    In contrast to ``marching_cubes_classic()``, this algorithm is faster,\n",
      "    resolves ambiguities, and guarantees topologically correct results.\n",
      "    Therefore, this algorithm generally a better choice, unless there\n",
      "    is a specific need for the classic algorithm.\n",
      "\n",
      "    Parameters\n",
      "    ----------\n",
      "    volume : (M, N, P) array\n",
      "        Input data volume to find isosurfaces. Will internally be\n",
      "        converted to float32 if necessary.\n",
      "    level : float\n",
      "        Contour value to search for isosurfaces in `volume`. If not\n",
      "        given or None, the average of the min and max of vol is used.\n",
      "    spacing : length-3 tuple of floats\n",
      "        Voxel spacing in spatial dimensions corresponding to numpy array\n",
      "        indexing dimensions (M, N, P) as in `volume`.\n",
      "    gradient_direction : string\n",
      "        Controls if the mesh was generated from an isosurface with gradient\n",
      "        descent toward objects of interest (the default), or the opposite,\n",
      "        considering the *left-hand* rule.\n",
      "        The two options are:\n",
      "        * descent : Object was greater than exterior\n",
      "        * ascent : Exterior was greater than object\n",
      "    step_size : int\n",
      "        Step size in voxels. Default 1. Larger steps yield faster but\n",
      "        coarser results. The result will always be topologically correct\n",
      "        though.\n",
      "    allow_degenerate : bool\n",
      "        Whether to allow degenerate (i.e. zero-area) triangles in the\n",
      "        end-result. Default True. If False, degenerate triangles are\n",
      "        removed, at the cost of making the algorithm slower.\n",
      "    use_classic : bool\n",
      "        If given and True, the classic marching cubes by Lorensen (1987)\n",
      "        is used. This option is included for reference purposes. Note\n",
      "        that this algorithm has ambiguities and is not guaranteed to\n",
      "        produce a topologically correct result. The results with using\n",
      "        this option are *not* generally the same as the\n",
      "        ``marching_cubes_classic()`` function.\n",
      "    mask : (M, N, P) array\n",
      "        Boolean array. The marching cube algorithm will be computed only on\n",
      "        True elements. This will save computational time when interfaces\n",
      "        are located within certain region of the volume M, N, P-e.g. the top\n",
      "        half of the cube-and also allow to compute finite surfaces-i.e. open\n",
      "        surfaces that do not end at the border of the cube.\n",
      "\n",
      "    Returns\n",
      "    -------\n",
      "    verts : (V, 3) array\n",
      "        Spatial coordinates for V unique mesh vertices. Coordinate order\n",
      "        matches input `volume` (M, N, P).\n",
      "    faces : (F, 3) array\n",
      "        Define triangular faces via referencing vertex indices from ``verts``.\n",
      "        This algorithm specifically outputs triangles, so each face has\n",
      "        exactly three indices.\n",
      "    normals : (V, 3) array\n",
      "        The normal direction at each vertex, as calculated from the\n",
      "        data.\n",
      "    values : (V, ) array\n",
      "        Gives a measure for the maximum value of the data in the local region\n",
      "        near each vertex. This can be used by visualization tools to apply\n",
      "        a colormap to the mesh.\n",
      "\n",
      "    Notes\n",
      "    -----\n",
      "    The algorithm [1] is an improved version of Chernyaev's Marching\n",
      "    Cubes 33 algorithm. It is an efficient algorithm that relies on\n",
      "    heavy use of lookup tables to handle the many different cases,\n",
      "    keeping the algorithm relatively easy. This implementation is\n",
      "    written in Cython, ported from Lewiner's C++ implementation.\n",
      "\n",
      "    To quantify the area of an isosurface generated by this algorithm, pass\n",
      "    verts and faces to `skimage.measure.mesh_surface_area`.\n",
      "\n",
      "    Regarding visualization of algorithm output, to contour a volume\n",
      "    named `myvolume` about the level 0.0, using the ``mayavi`` package::\n",
      "\n",
      "      >>> from mayavi import mlab # doctest: +SKIP\n",
      "      >>> verts, faces, normals, values = marching_cubes_lewiner(myvolume, 0.0) # doctest: +SKIP\n",
      "      >>> mlab.triangular_mesh([vert[0] for vert in verts],\n",
      "      ...                      [vert[1] for vert in verts],\n",
      "      ...                      [vert[2] for vert in verts],\n",
      "      ...                      faces) # doctest: +SKIP\n",
      "      >>> mlab.show() # doctest: +SKIP\n",
      "\n",
      "    Similarly using the ``visvis`` package::\n",
      "\n",
      "      >>> import visvis as vv # doctest: +SKIP\n",
      "      >>> verts, faces, normals, values = marching_cubes_lewiner(myvolume, 0.0) # doctest: +SKIP\n",
      "      >>> vv.mesh(np.fliplr(verts), faces, normals, values) # doctest: +SKIP\n",
      "      >>> vv.use().Run() # doctest: +SKIP\n",
      "\n",
      "    References\n",
      "    ----------\n",
      "    .. [1] Thomas Lewiner, Helio Lopes, Antonio Wilson Vieira and Geovan\n",
      "           Tavares. Efficient implementation of Marching Cubes' cases with\n",
      "           topological guarantees. Journal of Graphics Tools 8(2)\n",
      "           pp. 1-15 (december 2003).\n",
      "           :DOI:`10.1080/10867651.2003.10487582`\n",
      "\n",
      "    See Also\n",
      "    --------\n",
      "    skimage.measure.marching_cubes\n",
      "    skimage.measure.mesh_surface_area\n",
      "\n",
      "    \"\"\"\n",
      "\n",
      "    # Deprecate the function in favor of marching_cubes\n",
      "    warnings.warn(\"marching_cubes_lewiner is deprecated in favor of \"\n",
      "                  \"marching_cubes. marching_cubes_lewiner will \"\n",
      "                  \"be removed in version 0.19\",\n",
      "                  FutureWarning, stacklevel=2)\n",
      "\n",
      "    return _marching_cubes_lewiner(volume, level, spacing, gradient_direction,\n",
      "                                   step_size, allow_degenerate, use_classic, mask)\n",
      "\n"
     ]
    }
   ],
   "source": [
    "print(inspect.getsource(marching_cubes_lewiner))"
   ]
  },
  {
   "cell_type": "code",
   "execution_count": 29,
   "metadata": {
    "ExecuteTime": {
     "end_time": "2020-10-19T19:15:30.039991Z",
     "start_time": "2020-10-19T19:15:30.034845Z"
    }
   },
   "outputs": [],
   "source": [
    "measure.find_contours?"
   ]
  },
  {
   "cell_type": "code",
   "execution_count": 16,
   "metadata": {
    "ExecuteTime": {
     "end_time": "2020-10-19T19:10:59.162951Z",
     "start_time": "2020-10-19T19:10:59.160456Z"
    }
   },
   "outputs": [],
   "source": [
    "\n"
   ]
  }
 ],
 "metadata": {
  "kernelspec": {
   "display_name": "Python 3",
   "language": "python",
   "name": "python3"
  },
  "language_info": {
   "codemirror_mode": {
    "name": "ipython",
    "version": 3
   },
   "file_extension": ".py",
   "mimetype": "text/x-python",
   "name": "python",
   "nbconvert_exporter": "python",
   "pygments_lexer": "ipython3",
   "version": "3.8.6"
  },
  "varInspector": {
   "cols": {
    "lenName": 16,
    "lenType": 16,
    "lenVar": 40
   },
   "kernels_config": {
    "python": {
     "delete_cmd_postfix": "",
     "delete_cmd_prefix": "del ",
     "library": "var_list.py",
     "varRefreshCmd": "print(var_dic_list())"
    },
    "r": {
     "delete_cmd_postfix": ") ",
     "delete_cmd_prefix": "rm(",
     "library": "var_list.r",
     "varRefreshCmd": "cat(var_dic_list()) "
    }
   },
   "types_to_exclude": [
    "module",
    "function",
    "builtin_function_or_method",
    "instance",
    "_Feature"
   ],
   "window_display": false
  }
 },
 "nbformat": 4,
 "nbformat_minor": 4
}
