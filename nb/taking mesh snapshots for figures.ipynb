{
 "cells": [
  {
   "cell_type": "markdown",
   "metadata": {},
   "source": [
    "# taking mesh snapshots for figures"
   ]
  },
  {
   "cell_type": "code",
   "execution_count": 1,
   "metadata": {
    "ExecuteTime": {
     "end_time": "2020-12-10T21:08:39.283556Z",
     "start_time": "2020-12-10T21:08:34.276690Z"
    }
   },
   "outputs": [
    {
     "name": "stdout",
     "output_type": "stream",
     "text": [
      "Automatic calling is: Smart\n"
     ]
    }
   ],
   "source": [
    "%matplotlib inline\n",
    "from lib.my_initialization import *\n",
    "# from lib.controller.one_step_forward_euler import *\n",
    "%autocall 1\n",
    "%load_ext autoreload\n",
    "%autoreload 2"
   ]
  },
  {
   "cell_type": "code",
   "execution_count": 2,
   "metadata": {
    "ExecuteTime": {
     "end_time": "2020-12-10T21:08:42.683344Z",
     "start_time": "2020-12-10T21:08:39.290120Z"
    }
   },
   "outputs": [
    {
     "name": "stderr",
     "output_type": "stream",
     "text": [
      "face_normals all zero, ignoring!\n"
     ]
    },
    {
     "name": "stdout",
     "output_type": "stream",
     "text": [
      "['element_array_time', 'element_array_index', 'element_array_mass', 'element_array_volume', 'element_array_inverse_equilibrium_position', 'node_array_equilibrium_position', 'node_array_time', 'node_array_position', 'node_array_momentum', 'node_array_mass', 'node_array_volume']\n"
     ]
    }
   ],
   "source": [
    "#define Lamé parameters\n",
    "mu = 1.; lam = 10.; \n",
    "#define coefficient for Rayleigh damping\n",
    "gamma = 0.0#1.#1.;\n",
    "\n",
    "#define adaptive time stepping absolute tolerances\n",
    "salience = 2#128#32\n",
    "learning_rate = np.log(salience) #np.log(16) #np.log(2)\n",
    "lasso_fraction = 0.5\n",
    "v_scale = 3.\n",
    "mass_density=1.\n",
    "\n",
    "stepsize_init = 0.001#0.00005#0.0001\n",
    "atol_x = 0.0001#0.001#1e-7; \n",
    "atol_v = 0.0001#0.001#1e-7; \n",
    "btol_x = 0.0001#0.001#1e-10; \n",
    "btol_v = 0.0001#0.001#1e-10; \n",
    "\n",
    "#path to mesh\n",
    "input_file_name = f'../data/spherical_meshes/spherical_mesh_1000.stl'\n",
    "#where to save results\n",
    "data_folder =  os.path.join(nb_dir,'../data/mov_csv')\n",
    "data_fn = f\"avi_ns_a_equal_b_{os.path.basename(input_file_name).replace('.stl',f'_mu_{mu}_lambda_{lam}_gamma_{gamma}vscale_{v_scale}_stepsizeinit_{stepsize_init}')}_salience_{salience}_atolx_{atol_x}.csv\"\n",
    "save_folder_vid = '../vid/tmp'\n",
    "folder_vid = '../vid'\n",
    "# data_fn_counts = data_fn.replace(\"s_\",\"s_counts_\").replace('.csv','.npz')\n",
    "data_fn_counts = data_fn.replace(\"s_\",\"s_counts_\").replace('.csv','.npy')\n",
    "\n",
    "os.chdir(nb_dir)\n",
    "# input_file_name = f'../data/spherical_meshes/spherical_mesh_64.stl'input_file_name = f'../data/spherical_meshes/spherical_mesh_64.stl'\n",
    "# input_file_name = f'../data/spherical_meshes/spherical_mesh_1000.stl'\n",
    "input_file_name = os.path.join(nb_dir,input_file_name)\n",
    "tme = 0.\n",
    "dict_values_system = initialize_system(input_file_name, time_initial=tme, mass_density=mass_density)\n",
    "locals().update(dict_values_system)\n",
    "N_elements = element_array_index.shape[0]\n",
    "N_vertices = node_array_position.shape[0]\n",
    "print(list(dict_values_system.keys()))\n",
    "\n",
    "#header to start of video\n",
    "# TEXT = '''TEXT=$'Synchronous Variational Integrator\\nDamped Neohookean Model\\n(inward squish)''''\n",
    "TEXT = f\"\"\"\n",
    "TEXT=$'an inward squish with neural time steps\n",
    "        Asynchronous Variational Integrator \n",
    "        Dormand–Prince Method\n",
    "        \n",
    "        Undamped Neohookean Model\n",
    "        mu {mu}  lambda {lam} gamma {gamma}\n",
    "        \n",
    "        Spherical Mesh\n",
    "        Num. Vertices {N_vertices}\n",
    "        Num. Elements {N_elements}\n",
    "'\"\"\""
   ]
  },
  {
   "cell_type": "code",
   "execution_count": 3,
   "metadata": {
    "ExecuteTime": {
     "end_time": "2020-12-10T21:08:42.762413Z",
     "start_time": "2020-12-10T21:08:42.687013Z"
    }
   },
   "outputs": [
    {
     "name": "stdout",
     "output_type": "stream",
     "text": [
      "learning_bins are [0.00480198 0.00480886 0.00481574 0.00482262 0.00482951 0.00483639\n",
      " 0.00484327 0.00485015 0.00485703 0.00486391 0.0048708  0.00487768\n",
      " 0.00488456 0.00489144 0.00489832 0.0049052  0.00491209 0.00491897\n",
      " 0.00492585 0.00493273 0.00493961 0.00494649 0.00495338 0.00496026\n",
      " 0.00496714 0.00497402 0.0049809  0.00498778 0.00499467 0.00500155\n",
      " 0.00500843]\n"
     ]
    }
   ],
   "source": [
    "#initialize system\n",
    "tauK = element_array_time\n",
    "tau = node_array_time\n",
    "\n",
    "#get method of computing elastic forces \n",
    "zero_mat = np.zeros((4,3))\n",
    "# calc_P = get_calc_P(mu, lam)\n",
    "# compute_nodal_damping_forces  = get_compute_nodal_damping_forces(mu,lam,gamma)\n",
    "# comp_nodal_elastic_forces = get_comp_nodal_elastic_forces(mu, lam)\n",
    "\n",
    "elements = element_array_index\n",
    "vertices = node_array_position\n",
    "\n",
    "#initialize stepsizes of simulation\n",
    "element_array_stepsize = np.zeros_like(element_array_time) + stepsize_init\n",
    "element_array_count_calls_one_step = np.zeros_like(element_array_time,dtype=int)\n",
    "element_array_count_config_updates = np.zeros_like(element_array_time,dtype=int)\n",
    "momentum = node_array_momentum.copy()\n",
    "velocities = momentum.copy()\n",
    "for j in range(N_vertices):\n",
    "    velocities[j] /= node_array_mass[j]\n",
    "\n",
    "\n",
    "# #perturb momentum in the x direction and let it run overnight with a small timestep  \n",
    "velocities[:,0] = -v_scale * vertices[:,0].copy()\n",
    "\n",
    "#initialize containers of measures\n",
    "volume_lst = []\n",
    "energy_lst = []\n",
    "tme_lst    = []\n",
    "stepsize_mean_lst   = []\n",
    "stepsize_std_lst    = []\n",
    "stepsize_median_lst = []\n",
    "stepsize_count_lst = []\n",
    "frac_lg = lambda i: 2**i  ##np.exp((i+.5)*learning_rate/10)\n",
    "# learning_bins = np.array([stepsize_init*frac_lb(i) for i in np.arange(-30,30)])\n",
    "\n",
    "#this looks nice. 30 bins\n",
    "learning_bins = np.array([0.00480198, 0.00480886, 0.00481574, 0.00482262, 0.00482951,\n",
    "        0.00483639, 0.00484327, 0.00485015, 0.00485703, 0.00486391,\n",
    "        0.0048708 , 0.00487768, 0.00488456, 0.00489144, 0.00489832,\n",
    "        0.0049052 , 0.00491209, 0.00491897, 0.00492585, 0.00493273,\n",
    "        0.00493961, 0.00494649, 0.00495338, 0.00496026, 0.00496714,\n",
    "        0.00497402, 0.0049809 , 0.00498778, 0.00499467, 0.00500155,\n",
    "        0.00500843])\n",
    "\n",
    "# #let's try 100 bins\n",
    "# learning_bins = np.array([0.00477609, 0.00477838, 0.00478067, 0.00478296, 0.00478526,\n",
    "#         0.00478755, 0.00478984, 0.00479214, 0.00479443, 0.00479672,\n",
    "#         0.00479902, 0.00480131, 0.0048036 , 0.0048059 , 0.00480819,\n",
    "#         0.00481048, 0.00481277, 0.00481507, 0.00481736, 0.00481965,\n",
    "#         0.00482195, 0.00482424, 0.00482653, 0.00482883, 0.00483112,\n",
    "#         0.00483341, 0.00483571, 0.004838  , 0.00484029, 0.00484258,\n",
    "#         0.00484488, 0.00484717, 0.00484946, 0.00485176, 0.00485405,\n",
    "#         0.00485634, 0.00485864, 0.00486093, 0.00486322, 0.00486552,\n",
    "#         0.00486781, 0.0048701 , 0.0048724 , 0.00487469, 0.00487698,\n",
    "#         0.00487927, 0.00488157, 0.00488386, 0.00488615, 0.00488845,\n",
    "#         0.00489074, 0.00489303, 0.00489533, 0.00489762, 0.00489991,\n",
    "#         0.00490221, 0.0049045 , 0.00490679, 0.00490908, 0.00491138,\n",
    "#         0.00491367, 0.00491596, 0.00491826, 0.00492055, 0.00492284,\n",
    "#         0.00492514, 0.00492743, 0.00492972, 0.00493202, 0.00493431,\n",
    "#         0.0049366 , 0.0049389 , 0.00494119, 0.00494348, 0.00494577,\n",
    "#         0.00494807, 0.00495036, 0.00495265, 0.00495495, 0.00495724,\n",
    "#         0.00495953, 0.00496183, 0.00496412, 0.00496641, 0.00496871,\n",
    "#         0.004971  , 0.00497329, 0.00497558, 0.00497788, 0.00498017,\n",
    "#         0.00498246, 0.00498476, 0.00498705, 0.00498934, 0.00499164,\n",
    "#         0.00499393, 0.00499622, 0.00499852, 0.00500081, 0.0050031 ,\n",
    "#         0.00500539])\n",
    "\n",
    "# learning_bins = np.array([stepsize_init*np.exp((i+.5)*learning_rate) for i in np.arange(-3,3)])\n",
    "print(f\"learning_bins are {learning_bins}\")"
   ]
  },
  {
   "cell_type": "code",
   "execution_count": 4,
   "metadata": {
    "ExecuteTime": {
     "end_time": "2020-12-10T21:08:42.822940Z",
     "start_time": "2020-12-10T21:08:42.766805Z"
    }
   },
   "outputs": [],
   "source": [
    "#choose your fighter\n",
    "# integrate_system_explicit_synchronous = get_integrate_system_explicit_synchronous(mu,lam,gamma)\n",
    "# integrate_system_implicit_synchronous = get_integrate_system_implicit_synchronous(mu,lam,gamma,num_iter=30)\n",
    "# integrate_system_dormand_prince_synchronous = get_integrate_system_dormand_prince_synchronous(mu,lam,gamma)\n",
    "integrate_system_dormand_prince_asynchronous = get_integrate_system_dormand_prince_asynchronous(mu,lam,gamma,atol_x, atol_v, btol_x, btol_v,learning_rate, lasso_fraction)\n",
    "#(optional) #view the mesh\n",
    "# plot_mesh(vertices, input_file_name=input_file_name, darkmode=True)"
   ]
  },
  {
   "cell_type": "code",
   "execution_count": 5,
   "metadata": {
    "ExecuteTime": {
     "end_time": "2020-12-10T21:08:42.872699Z",
     "start_time": "2020-12-10T21:08:42.828729Z"
    }
   },
   "outputs": [],
   "source": [
    "#prepare for video\n",
    "frameno = 1\n",
    "time_between_observations = 0.01\n",
    "time_of_next_observation = tme + time_between_observations\n",
    "\n",
    "# #empty the temporary folder, vid/tmp\n",
    "# os.chdir(nb_dir)\n",
    "# os.chdir(folder_vid)\n",
    "# !rm -r tmp\n",
    "# os.mkdir('tmp')\n",
    "\n",
    "# #write header to file\n",
    "# # print(TEXT)\n",
    "# # Dormand–Prince Method\n",
    "# # Explicit Newmark Method\n",
    "# # Implicit Midpoint Rule\n",
    "# with open(\"mov/text.txt\", \"w\") as file:\n",
    "#     file.write(TEXT)\n",
    "#     file.close()"
   ]
  },
  {
   "cell_type": "code",
   "execution_count": 6,
   "metadata": {
    "ExecuteTime": {
     "end_time": "2020-12-10T21:08:45.433100Z",
     "start_time": "2020-12-10T21:08:42.876301Z"
    }
   },
   "outputs": [
    {
     "data": {
      "image/png": "[encoded data removed]",
      "text/plain": [
       "<Figure size 432x288 with 1 Axes>"
      ]
     },
     "metadata": {
      "needs_background": "light"
     },
     "output_type": "display_data"
    }
   ],
   "source": [
    "img = get_img_of_system(vertices, input_file_name, darkmode = False, text=f'time=0.00')\n",
    "\n",
    "# img = get_img_of_system(vertices, input_file_name, darkmode = False, text=f'time={time_of_next_observation:.2f}')\n",
    "Img = Image.fromarray(img)\n",
    "save_fn_img = nb_dir + \"/../fig/s_time_0.png\"\n",
    "Img.save(save_fn_img)\n",
    "# Img\n",
    "plt.hist(element_array_stepsize, bins=100)\n",
    "plt.show()"
   ]
  },
  {
   "cell_type": "code",
   "execution_count": 7,
   "metadata": {
    "ExecuteTime": {
     "end_time": "2020-12-10T21:09:49.029118Z",
     "start_time": "2020-12-10T21:08:45.438274Z"
    }
   },
   "outputs": [
    {
     "name": "stderr",
     "output_type": "stream",
     "text": [
      "/Users/timothytyree/Documents/GitHub/avi/nb/lib/controller/integrate_forward_dormand_prince_asynchronous.py:94: NumbaPerformanceWarning: '@' is faster on contiguous arrays, called on (array(float64, 2d, C), array(float64, 2d, A))\n",
      "  energy_prev = comp_element_energy ( mass_of_K, v, W, Bm, Ds, mu, lam)\n",
      "/Users/timothytyree/Documents/GitHub/avi/nb/lib/controller/integrate_forward_dormand_prince_asynchronous.py:97: NumbaPerformanceWarning: '@' is faster on contiguous arrays, called on (array(float64, 2d, C), array(float64, 2d, A))\n",
      "  max_err, mav_err, x_out,v_out = one_step_explicit_dormand_prince_method(h,x,v,K_masses,K_tau,tau_of_K,Bm)\n"
     ]
    },
    {
     "name": "stdout",
     "output_type": "stream",
     "text": [
      "0.32 0.0 0.32\n"
     ]
    }
   ],
   "source": [
    "#ready... get set... GO!\n",
    "os.chdir(nb_dir)\n",
    "os.chdir(save_folder_vid)\n",
    "time_end_recording = 0.05#.2\n",
    "while time_of_next_observation <= time_end_recording:\n",
    "    tf = time_of_next_observation\n",
    "    #integrate forward to the next time of observation\n",
    "    #     integrate_system_explicit_synchronous(tf, element_array_time, element_array_stepsize, node_array_time,\n",
    "    #                                          element_array_index, vertices, velocities,node_array_mass, element_array_inverse_equilibrium_position)\n",
    "    #     integrate_system_implicit_synchronous(tf, element_array_time, element_array_stepsize, node_array_time,\n",
    "    #                                          element_array_index, vertices, velocities,node_array_mass, element_array_inverse_equilibrium_position)\n",
    "    integrate_system_dormand_prince_asynchronous(\n",
    "        tf,\n",
    "        element_array_time,\n",
    "        element_array_stepsize,\n",
    "        node_array_time,\n",
    "        element_array_index,\n",
    "        vertices,\n",
    "        velocities,\n",
    "        node_array_mass,\n",
    "        element_array_inverse_equilibrium_position,\n",
    "        element_array_mass\n",
    "    )\n",
    "    \n",
    "    #update a copy of all positions to the observation time using the current velocity\n",
    "    x = vertices.copy()\n",
    "    for a in range(N_vertices):\n",
    "        x[a] += velocities[a] * (tf - tau[a])\n",
    "    \n",
    "    #measure observables\n",
    "    ##mesh measures\n",
    "    net_volume = compute_net_volume(x, element_array_index)\n",
    "    net_energy = compute_net_energy(N_elements, element_array_mass, velocities, x, #vertices,\n",
    "                                  element_array_index, element_array_inverse_equilibrium_position, mu, lam)\n",
    "    ##stepsize measures\n",
    "    stepsize_mean = np.mean(element_array_stepsize)\n",
    "    stepsize_std = np.std(element_array_stepsize)\n",
    "    stepsize_median = np.median(element_array_stepsize)\n",
    "\n",
    "    #record observables\n",
    "    volume_lst.append(net_volume)\n",
    "    energy_lst.append(net_energy)\n",
    "    tme = tf\n",
    "    tme_lst.append(tme)\n",
    "    stepsize_mean_lst.append(stepsize_mean)\n",
    "    stepsize_std_lst.append(stepsize_std)\n",
    "    stepsize_median_lst.append(stepsize_median)\n",
    "    stepsize_count_lst.append(count_array(array = element_array_stepsize,bins=learning_bins))\n",
    "    #record image of system\n",
    "    try:\n",
    "        pass\n",
    "#         img = get_img_of_system(vertices, input_file_name, darkmode = True, text=f'time={tf:.2f}')\n",
    "    except:\n",
    "        pass\n",
    "#     save_fn_img = f'img{frameno:09}.png'\n",
    "#     frameno += 1\n",
    "#     Img = Image.fromarray(img)\n",
    "#     Img.save(save_fn_img)\n",
    "    \n",
    "    #increment time_of_next_observation\n",
    "    time_of_next_observation += time_between_observations\n",
    "    #TODO(later): do something that makes a boring video less boring\n",
    "    #TODO(later): def element_array_count_calls_one_step to the call of integrate_system_.... i.e. Keep track of how many times each element is called to time step\n",
    "    #TODO(later): keep track of how many times each element config is updated with element_array_count_config_updates\n",
    "print(stepsize_mean, stepsize_std, stepsize_median)\n",
    "# beep(3)"
   ]
  },
  {
   "cell_type": "code",
   "execution_count": 8,
   "metadata": {
    "ExecuteTime": {
     "end_time": "2020-12-10T21:09:50.493351Z",
     "start_time": "2020-12-10T21:09:49.033832Z"
    }
   },
   "outputs": [
    {
     "data": {
      "image/png": "[encoded data removed]",
      "text/plain": [
       "<Figure size 432x288 with 1 Axes>"
      ]
     },
     "metadata": {
      "needs_background": "light"
     },
     "output_type": "display_data"
    }
   ],
   "source": [
    "img = get_img_of_system(vertices, input_file_name, darkmode = False, text=f'time={time_of_next_observation:.2f}')\n",
    "Img = Image.fromarray(img)\n",
    "save_fn_img = nb_dir + \"/../fig/s_time_0.05.png\"\n",
    "Img.save(save_fn_img)\n",
    "# Img\n",
    "plt.hist(element_array_stepsize, bins=100)\n",
    "plt.show()"
   ]
  },
  {
   "cell_type": "code",
   "execution_count": 9,
   "metadata": {
    "ExecuteTime": {
     "end_time": "2020-12-10T21:10:09.801152Z",
     "start_time": "2020-12-10T21:09:50.496585Z"
    }
   },
   "outputs": [
    {
     "name": "stdout",
     "output_type": "stream",
     "text": [
      "10.24 0.0 10.24\n"
     ]
    }
   ],
   "source": [
    "#ready... get set... GO!\n",
    "os.chdir(nb_dir)\n",
    "os.chdir(save_folder_vid)\n",
    "time_end_recording = 0.1#.2\n",
    "while time_of_next_observation <= time_end_recording:\n",
    "    tf = time_of_next_observation\n",
    "    #integrate forward to the next time of observation\n",
    "    #     integrate_system_explicit_synchronous(tf, element_array_time, element_array_stepsize, node_array_time,\n",
    "    #                                          element_array_index, vertices, velocities,node_array_mass, element_array_inverse_equilibrium_position)\n",
    "    #     integrate_system_implicit_synchronous(tf, element_array_time, element_array_stepsize, node_array_time,\n",
    "    #                                          element_array_index, vertices, velocities,node_array_mass, element_array_inverse_equilibrium_position)\n",
    "    integrate_system_dormand_prince_asynchronous(\n",
    "        tf,\n",
    "        element_array_time,\n",
    "        element_array_stepsize,\n",
    "        node_array_time,\n",
    "        element_array_index,\n",
    "        vertices,\n",
    "        velocities,\n",
    "        node_array_mass,\n",
    "        element_array_inverse_equilibrium_position,\n",
    "        element_array_mass\n",
    "    )\n",
    "    \n",
    "    #update a copy of all positions to the observation time using the current velocity\n",
    "    x = vertices.copy()\n",
    "    for a in range(N_vertices):\n",
    "        x[a] += velocities[a] * (tf - tau[a])\n",
    "    \n",
    "    #measure observables\n",
    "    ##mesh measures\n",
    "    net_volume = compute_net_volume(x, element_array_index)\n",
    "    net_energy = compute_net_energy(N_elements, element_array_mass, velocities, x, #vertices,\n",
    "                                  element_array_index, element_array_inverse_equilibrium_position, mu, lam)\n",
    "    ##stepsize measures\n",
    "    stepsize_mean = np.mean(element_array_stepsize)\n",
    "    stepsize_std = np.std(element_array_stepsize)\n",
    "    stepsize_median = np.median(element_array_stepsize)\n",
    "\n",
    "    #record observables\n",
    "    volume_lst.append(net_volume)\n",
    "    energy_lst.append(net_energy)\n",
    "    tme = tf\n",
    "    tme_lst.append(tme)\n",
    "    stepsize_mean_lst.append(stepsize_mean)\n",
    "    stepsize_std_lst.append(stepsize_std)\n",
    "    stepsize_median_lst.append(stepsize_median)\n",
    "    stepsize_count_lst.append(count_array(array = element_array_stepsize,bins=learning_bins))\n",
    "    #record image of system\n",
    "    try:\n",
    "        pass\n",
    "#         img = get_img_of_system(vertices, input_file_name, darkmode = True, text=f'time={tf:.2f}')\n",
    "    except:\n",
    "        pass\n",
    "#     save_fn_img = f'img{frameno:09}.png'\n",
    "#     frameno += 1\n",
    "#     Img = Image.fromarray(img)\n",
    "#     Img.save(save_fn_img)\n",
    "    \n",
    "    #increment time_of_next_observation\n",
    "    time_of_next_observation += time_between_observations\n",
    "    #TODO(later): do something that makes a boring video less boring\n",
    "    #TODO(later): def element_array_count_calls_one_step to the call of integrate_system_.... i.e. Keep track of how many times each element is called to time step\n",
    "    #TODO(later): keep track of how many times each element config is updated with element_array_count_config_updates\n",
    "print(stepsize_mean, stepsize_std, stepsize_median)\n",
    "# beep(3)"
   ]
  },
  {
   "cell_type": "code",
   "execution_count": 10,
   "metadata": {
    "ExecuteTime": {
     "end_time": "2020-12-10T21:10:10.334719Z",
     "start_time": "2020-12-10T21:10:09.803640Z"
    }
   },
   "outputs": [],
   "source": [
    "img = get_img_of_system(vertices, input_file_name, darkmode = False, text=f'time={time_of_next_observation:.2f}')\n",
    "Img = Image.fromarray(img)\n",
    "save_fn_img = nb_dir + \"/../fig/s_time_0.1.png\"\n",
    "Img.save(save_fn_img)\n",
    "# Img\n"
   ]
  },
  {
   "cell_type": "code",
   "execution_count": 11,
   "metadata": {
    "ExecuteTime": {
     "end_time": "2020-12-10T21:10:10.371964Z",
     "start_time": "2020-12-10T21:10:10.336940Z"
    }
   },
   "outputs": [
    {
     "data": {
      "text/plain": [
       "array([10.24, 10.24, 10.24, ..., 10.24, 10.24, 10.24])"
      ]
     },
     "execution_count": 11,
     "metadata": {},
     "output_type": "execute_result"
    }
   ],
   "source": [
    "element_array_stepsize"
   ]
  },
  {
   "cell_type": "code",
   "execution_count": 12,
   "metadata": {
    "ExecuteTime": {
     "end_time": "2020-12-10T21:10:10.662872Z",
     "start_time": "2020-12-10T21:10:10.374922Z"
    }
   },
   "outputs": [
    {
     "data": {
      "text/plain": [
       "(array([    0.,     0.,     0.,     0.,     0., 19375.,     0.,     0.,\n",
       "            0.,     0.]),\n",
       " array([ 9.74,  9.84,  9.94, 10.04, 10.14, 10.24, 10.34, 10.44, 10.54,\n",
       "        10.64, 10.74]),\n",
       " <BarContainer object of 10 artists>)"
      ]
     },
     "execution_count": 12,
     "metadata": {},
     "output_type": "execute_result"
    },
    {
     "data": {
      "image/png": "[encoded data removed]",
      "text/plain": [
       "<Figure size 432x288 with 1 Axes>"
      ]
     },
     "metadata": {
      "needs_background": "light"
     },
     "output_type": "display_data"
    }
   ],
   "source": [
    "plt.hist(element_array_stepsize.T)#, bins=100)\n",
    "# plt.show()\n",
    "# element_array_stepsize"
   ]
  },
  {
   "cell_type": "code",
   "execution_count": 13,
   "metadata": {
    "ExecuteTime": {
     "end_time": "2020-12-10T21:10:47.582273Z",
     "start_time": "2020-12-10T21:10:10.665349Z"
    }
   },
   "outputs": [
    {
     "name": "stdout",
     "output_type": "stream",
     "text": [
      "5242.88 0.0 5242.88\n"
     ]
    }
   ],
   "source": [
    "#ready... get set... GO!\n",
    "os.chdir(nb_dir)\n",
    "os.chdir(save_folder_vid)\n",
    "time_end_recording = 0.2\n",
    "while time_of_next_observation <= time_end_recording:\n",
    "    tf = time_of_next_observation\n",
    "    #integrate forward to the next time of observation\n",
    "    #     integrate_system_explicit_synchronous(tf, element_array_time, element_array_stepsize, node_array_time,\n",
    "    #                                          element_array_index, vertices, velocities,node_array_mass, element_array_inverse_equilibrium_position)\n",
    "    #     integrate_system_implicit_synchronous(tf, element_array_time, element_array_stepsize, node_array_time,\n",
    "    #                                          element_array_index, vertices, velocities,node_array_mass, element_array_inverse_equilibrium_position)\n",
    "    integrate_system_dormand_prince_asynchronous(\n",
    "        tf,\n",
    "        element_array_time,\n",
    "        element_array_stepsize,\n",
    "        node_array_time,\n",
    "        element_array_index,\n",
    "        vertices,\n",
    "        velocities,\n",
    "        node_array_mass,\n",
    "        element_array_inverse_equilibrium_position,\n",
    "        element_array_mass\n",
    "    )\n",
    "    \n",
    "    #update a copy of all positions to the observation time using the current velocity\n",
    "    x = vertices.copy()\n",
    "    for a in range(N_vertices):\n",
    "        x[a] += velocities[a] * (tf - tau[a])\n",
    "    \n",
    "    #measure observables\n",
    "    ##mesh measures\n",
    "    net_volume = compute_net_volume(x, element_array_index)\n",
    "    net_energy = compute_net_energy(N_elements, element_array_mass, velocities, x, #vertices,\n",
    "                                  element_array_index, element_array_inverse_equilibrium_position, mu, lam)\n",
    "    ##stepsize measures\n",
    "    stepsize_mean = np.mean(element_array_stepsize)\n",
    "    stepsize_std = np.std(element_array_stepsize)\n",
    "    stepsize_median = np.median(element_array_stepsize)\n",
    "\n",
    "    #record observables\n",
    "    volume_lst.append(net_volume)\n",
    "    energy_lst.append(net_energy)\n",
    "    tme = tf\n",
    "    tme_lst.append(tme)\n",
    "    stepsize_mean_lst.append(stepsize_mean)\n",
    "    stepsize_std_lst.append(stepsize_std)\n",
    "    stepsize_median_lst.append(stepsize_median)\n",
    "    stepsize_count_lst.append(count_array(array = element_array_stepsize,bins=learning_bins))\n",
    "    #record image of system\n",
    "    try:\n",
    "        pass\n",
    "#         img = get_img_of_system(vertices, input_file_name, darkmode = True, text=f'time={tf:.2f}')\n",
    "    except:\n",
    "        pass\n",
    "#     save_fn_img = f'img{frameno:09}.png'\n",
    "#     frameno += 1\n",
    "#     Img = Image.fromarray(img)\n",
    "#     Img.save(save_fn_img)\n",
    "    \n",
    "    #increment time_of_next_observation\n",
    "    time_of_next_observation += time_between_observations\n",
    "    #TODO(later): do something that makes a boring video less boring\n",
    "    #TODO(later): def element_array_count_calls_one_step to the call of integrate_system_.... i.e. Keep track of how many times each element is called to time step\n",
    "    #TODO(later): keep track of how many times each element config is updated with element_array_count_config_updates\n",
    "print(stepsize_mean, stepsize_std, stepsize_median)\n",
    "# beep(3)"
   ]
  },
  {
   "cell_type": "code",
   "execution_count": 14,
   "metadata": {
    "ExecuteTime": {
     "end_time": "2020-12-10T21:10:49.257556Z",
     "start_time": "2020-12-10T21:10:47.585429Z"
    }
   },
   "outputs": [
    {
     "data": {
      "image/png": "[encoded data removed]",
      "text/plain": [
       "<Figure size 432x288 with 1 Axes>"
      ]
     },
     "metadata": {
      "needs_background": "light"
     },
     "output_type": "display_data"
    }
   ],
   "source": [
    "img = get_img_of_system(vertices, input_file_name, darkmode = False, text=f'time={time_of_next_observation:.2f}')\n",
    "Img = Image.fromarray(img)\n",
    "save_fn_img = nb_dir + \"/../fig/s_time_0.2.png\"\n",
    "Img.save(save_fn_img)\n",
    "# Img\n",
    "plt.hist(element_array_stepsize, bins=100)\n",
    "plt.show()"
   ]
  },
  {
   "cell_type": "code",
   "execution_count": 15,
   "metadata": {
    "ExecuteTime": {
     "end_time": "2020-12-10T21:11:30.490209Z",
     "start_time": "2020-12-10T21:10:49.260439Z"
    }
   },
   "outputs": [
    {
     "name": "stdout",
     "output_type": "stream",
     "text": [
      "5368709.12 0.0 5368709.12\n"
     ]
    }
   ],
   "source": [
    "#ready... get set... GO!\n",
    "os.chdir(nb_dir)\n",
    "os.chdir(save_folder_vid)\n",
    "time_end_recording = 0.3\n",
    "while time_of_next_observation <= time_end_recording:\n",
    "    tf = time_of_next_observation\n",
    "    #integrate forward to the next time of observation\n",
    "    #     integrate_system_explicit_synchronous(tf, element_array_time, element_array_stepsize, node_array_time,\n",
    "    #                                          element_array_index, vertices, velocities,node_array_mass, element_array_inverse_equilibrium_position)\n",
    "    #     integrate_system_implicit_synchronous(tf, element_array_time, element_array_stepsize, node_array_time,\n",
    "    #                                          element_array_index, vertices, velocities,node_array_mass, element_array_inverse_equilibrium_position)\n",
    "    integrate_system_dormand_prince_asynchronous(\n",
    "        tf,\n",
    "        element_array_time,\n",
    "        element_array_stepsize,\n",
    "        node_array_time,\n",
    "        element_array_index,\n",
    "        vertices,\n",
    "        velocities,\n",
    "        node_array_mass,\n",
    "        element_array_inverse_equilibrium_position,\n",
    "        element_array_mass\n",
    "    )\n",
    "    \n",
    "    #update a copy of all positions to the observation time using the current velocity\n",
    "    x = vertices.copy()\n",
    "    for a in range(N_vertices):\n",
    "        x[a] += velocities[a] * (tf - tau[a])\n",
    "    \n",
    "    #measure observables\n",
    "    ##mesh measures\n",
    "    net_volume = compute_net_volume(x, element_array_index)\n",
    "    net_energy = compute_net_energy(N_elements, element_array_mass, velocities, x, #vertices,\n",
    "                                  element_array_index, element_array_inverse_equilibrium_position, mu, lam)\n",
    "    ##stepsize measures\n",
    "    stepsize_mean = np.mean(element_array_stepsize)\n",
    "    stepsize_std = np.std(element_array_stepsize)\n",
    "    stepsize_median = np.median(element_array_stepsize)\n",
    "\n",
    "    #record observables\n",
    "    volume_lst.append(net_volume)\n",
    "    energy_lst.append(net_energy)\n",
    "    tme = tf\n",
    "    tme_lst.append(tme)\n",
    "    stepsize_mean_lst.append(stepsize_mean)\n",
    "    stepsize_std_lst.append(stepsize_std)\n",
    "    stepsize_median_lst.append(stepsize_median)\n",
    "    stepsize_count_lst.append(count_array(array = element_array_stepsize,bins=learning_bins))\n",
    "    #record image of system\n",
    "    try:\n",
    "        pass\n",
    "#         img = get_img_of_system(vertices, input_file_name, darkmode = True, text=f'time={tf:.2f}')\n",
    "    except:\n",
    "        pass\n",
    "#     save_fn_img = f'img{frameno:09}.png'\n",
    "#     frameno += 1\n",
    "#     Img = Image.fromarray(img)\n",
    "#     Img.save(save_fn_img)\n",
    "    \n",
    "    #increment time_of_next_observation\n",
    "    time_of_next_observation += time_between_observations\n",
    "    #TODO(later): do something that makes a boring video less boring\n",
    "    #TODO(later): def element_array_count_calls_one_step to the call of integrate_system_.... i.e. Keep track of how many times each element is called to time step\n",
    "    #TODO(later): keep track of how many times each element config is updated with element_array_count_config_updates\n",
    "print(stepsize_mean, stepsize_std, stepsize_median)\n",
    "# beep(3)"
   ]
  },
  {
   "cell_type": "code",
   "execution_count": 16,
   "metadata": {
    "ExecuteTime": {
     "end_time": "2020-12-10T21:11:31.735172Z",
     "start_time": "2020-12-10T21:11:30.493521Z"
    }
   },
   "outputs": [
    {
     "data": {
      "image/png": "[encoded data removed]",
      "text/plain": [
       "<Figure size 432x288 with 1 Axes>"
      ]
     },
     "metadata": {
      "needs_background": "light"
     },
     "output_type": "display_data"
    }
   ],
   "source": [
    "img = get_img_of_system(vertices, input_file_name, darkmode = False, text=f'time={time_of_next_observation:.2f}')\n",
    "Img = Image.fromarray(img)\n",
    "save_fn_img = nb_dir + \"/../fig/s_time_0.3.png\"\n",
    "Img.save(save_fn_img)\n",
    "# Img\n",
    "plt.hist(element_array_stepsize, bins=100)\n",
    "plt.show()"
   ]
  },
  {
   "cell_type": "code",
   "execution_count": 17,
   "metadata": {
    "ExecuteTime": {
     "end_time": "2020-12-10T21:12:07.416137Z",
     "start_time": "2020-12-10T21:11:31.738734Z"
    }
   },
   "outputs": [
    {
     "name": "stdout",
     "output_type": "stream",
     "text": [
      "5497558138.88 0.0 5497558138.88\n"
     ]
    }
   ],
   "source": [
    "#ready... get set... GO!\n",
    "os.chdir(nb_dir)\n",
    "os.chdir(save_folder_vid)\n",
    "time_end_recording = 0.4\n",
    "while time_of_next_observation <= time_end_recording:\n",
    "    tf = time_of_next_observation\n",
    "    #integrate forward to the next time of observation\n",
    "    #     integrate_system_explicit_synchronous(tf, element_array_time, element_array_stepsize, node_array_time,\n",
    "    #                                          element_array_index, vertices, velocities,node_array_mass, element_array_inverse_equilibrium_position)\n",
    "    #     integrate_system_implicit_synchronous(tf, element_array_time, element_array_stepsize, node_array_time,\n",
    "    #                                          element_array_index, vertices, velocities,node_array_mass, element_array_inverse_equilibrium_position)\n",
    "    integrate_system_dormand_prince_asynchronous(\n",
    "        tf,\n",
    "        element_array_time,\n",
    "        element_array_stepsize,\n",
    "        node_array_time,\n",
    "        element_array_index,\n",
    "        vertices,\n",
    "        velocities,\n",
    "        node_array_mass,\n",
    "        element_array_inverse_equilibrium_position,\n",
    "        element_array_mass\n",
    "    )\n",
    "    \n",
    "    #update a copy of all positions to the observation time using the current velocity\n",
    "    x = vertices.copy()\n",
    "    for a in range(N_vertices):\n",
    "        x[a] += velocities[a] * (tf - tau[a])\n",
    "    \n",
    "    #measure observables\n",
    "    ##mesh measures\n",
    "    net_volume = compute_net_volume(x, element_array_index)\n",
    "    net_energy = compute_net_energy(N_elements, element_array_mass, velocities, x, #vertices,\n",
    "                                  element_array_index, element_array_inverse_equilibrium_position, mu, lam)\n",
    "    ##stepsize measures\n",
    "    stepsize_mean = np.mean(element_array_stepsize)\n",
    "    stepsize_std = np.std(element_array_stepsize)\n",
    "    stepsize_median = np.median(element_array_stepsize)\n",
    "\n",
    "    #record observables\n",
    "    volume_lst.append(net_volume)\n",
    "    energy_lst.append(net_energy)\n",
    "    tme = tf\n",
    "    tme_lst.append(tme)\n",
    "    stepsize_mean_lst.append(stepsize_mean)\n",
    "    stepsize_std_lst.append(stepsize_std)\n",
    "    stepsize_median_lst.append(stepsize_median)\n",
    "    stepsize_count_lst.append(count_array(array = element_array_stepsize,bins=learning_bins))\n",
    "    #record image of system\n",
    "    try:\n",
    "        pass\n",
    "#         img = get_img_of_system(vertices, input_file_name, darkmode = True, text=f'time={tf:.2f}')\n",
    "    except:\n",
    "        pass\n",
    "#     save_fn_img = f'img{frameno:09}.png'\n",
    "#     frameno += 1\n",
    "#     Img = Image.fromarray(img)\n",
    "#     Img.save(save_fn_img)\n",
    "    \n",
    "    #increment time_of_next_observation\n",
    "    time_of_next_observation += time_between_observations\n",
    "    #TODO(later): do something that makes a boring video less boring\n",
    "    #TODO(later): def element_array_count_calls_one_step to the call of integrate_system_.... i.e. Keep track of how many times each element is called to time step\n",
    "    #TODO(later): keep track of how many times each element config is updated with element_array_count_config_updates\n",
    "print(stepsize_mean, stepsize_std, stepsize_median)\n",
    "# beep(3)"
   ]
  },
  {
   "cell_type": "code",
   "execution_count": 18,
   "metadata": {
    "ExecuteTime": {
     "end_time": "2020-12-10T21:12:08.986081Z",
     "start_time": "2020-12-10T21:12:07.419366Z"
    }
   },
   "outputs": [
    {
     "data": {
      "image/png": "[encoded data removed]",
      "text/plain": [
       "<Figure size 432x288 with 1 Axes>"
      ]
     },
     "metadata": {
      "needs_background": "light"
     },
     "output_type": "display_data"
    }
   ],
   "source": [
    "img = get_img_of_system(vertices, input_file_name, darkmode = False, text=f'time={time_of_next_observation:.2f}')\n",
    "Img = Image.fromarray(img)\n",
    "save_fn_img = nb_dir + \"/../fig/s_time_0.4.png\"\n",
    "Img.save(save_fn_img)\n",
    "# Img\n",
    "plt.hist(element_array_stepsize, bins=100)\n",
    "plt.show()"
   ]
  },
  {
   "cell_type": "code",
   "execution_count": 19,
   "metadata": {
    "ExecuteTime": {
     "end_time": "2020-12-10T21:12:46.741722Z",
     "start_time": "2020-12-10T21:12:08.988759Z"
    }
   },
   "outputs": [
    {
     "name": "stdout",
     "output_type": "stream",
     "text": [
      "5629499534213.12 0.0 5629499534213.12\n"
     ]
    }
   ],
   "source": [
    "#ready... get set... GO!\n",
    "os.chdir(nb_dir)\n",
    "os.chdir(save_folder_vid)\n",
    "time_end_recording = 0.5\n",
    "while time_of_next_observation <= time_end_recording:\n",
    "    tf = time_of_next_observation\n",
    "    #integrate forward to the next time of observation\n",
    "    #     integrate_system_explicit_synchronous(tf, element_array_time, element_array_stepsize, node_array_time,\n",
    "    #                                          element_array_index, vertices, velocities,node_array_mass, element_array_inverse_equilibrium_position)\n",
    "    #     integrate_system_implicit_synchronous(tf, element_array_time, element_array_stepsize, node_array_time,\n",
    "    #                                          element_array_index, vertices, velocities,node_array_mass, element_array_inverse_equilibrium_position)\n",
    "    integrate_system_dormand_prince_asynchronous(\n",
    "        tf,\n",
    "        element_array_time,\n",
    "        element_array_stepsize,\n",
    "        node_array_time,\n",
    "        element_array_index,\n",
    "        vertices,\n",
    "        velocities,\n",
    "        node_array_mass,\n",
    "        element_array_inverse_equilibrium_position,\n",
    "        element_array_mass\n",
    "    )\n",
    "    \n",
    "    #update a copy of all positions to the observation time using the current velocity\n",
    "    x = vertices.copy()\n",
    "    for a in range(N_vertices):\n",
    "        x[a] += velocities[a] * (tf - tau[a])\n",
    "    \n",
    "    #measure observables\n",
    "    ##mesh measures\n",
    "    net_volume = compute_net_volume(x, element_array_index)\n",
    "    net_energy = compute_net_energy(N_elements, element_array_mass, velocities, x, #vertices,\n",
    "                                  element_array_index, element_array_inverse_equilibrium_position, mu, lam)\n",
    "    ##stepsize measures\n",
    "    stepsize_mean = np.mean(element_array_stepsize)\n",
    "    stepsize_std = np.std(element_array_stepsize)\n",
    "    stepsize_median = np.median(element_array_stepsize)\n",
    "\n",
    "    #record observables\n",
    "    volume_lst.append(net_volume)\n",
    "    energy_lst.append(net_energy)\n",
    "    tme = tf\n",
    "    tme_lst.append(tme)\n",
    "    stepsize_mean_lst.append(stepsize_mean)\n",
    "    stepsize_std_lst.append(stepsize_std)\n",
    "    stepsize_median_lst.append(stepsize_median)\n",
    "    stepsize_count_lst.append(count_array(array = element_array_stepsize,bins=learning_bins))\n",
    "    #record image of system\n",
    "    try:\n",
    "        pass\n",
    "#         img = get_img_of_system(vertices, input_file_name, darkmode = True, text=f'time={tf:.2f}')\n",
    "    except:\n",
    "        pass\n",
    "#     save_fn_img = f'img{frameno:09}.png'\n",
    "#     frameno += 1\n",
    "#     Img = Image.fromarray(img)\n",
    "#     Img.save(save_fn_img)\n",
    "    \n",
    "    #increment time_of_next_observation\n",
    "    time_of_next_observation += time_between_observations\n",
    "    #TODO(later): do something that makes a boring video less boring\n",
    "    #TODO(later): def element_array_count_calls_one_step to the call of integrate_system_.... i.e. Keep track of how many times each element is called to time step\n",
    "    #TODO(later): keep track of how many times each element config is updated with element_array_count_config_updates\n",
    "print(stepsize_mean, stepsize_std, stepsize_median)\n",
    "# beep(3)"
   ]
  },
  {
   "cell_type": "code",
   "execution_count": 20,
   "metadata": {
    "ExecuteTime": {
     "end_time": "2020-12-10T21:12:48.312419Z",
     "start_time": "2020-12-10T21:12:46.744458Z"
    }
   },
   "outputs": [
    {
     "data": {
      "image/png": "[encoded data removed]",
      "text/plain": [
       "<Figure size 432x288 with 1 Axes>"
      ]
     },
     "metadata": {
      "needs_background": "light"
     },
     "output_type": "display_data"
    }
   ],
   "source": [
    "img = get_img_of_system(vertices, input_file_name, darkmode = False, text=f'time={time_of_next_observation:.2f}')\n",
    "Img = Image.fromarray(img)\n",
    "save_fn_img = nb_dir + \"/../fig/s_time_0.5.png\"\n",
    "Img.save(save_fn_img)\n",
    "# Img\n",
    "plt.hist(element_array_stepsize, bins=100)\n",
    "plt.show()"
   ]
  },
  {
   "cell_type": "code",
   "execution_count": 21,
   "metadata": {
    "ExecuteTime": {
     "end_time": "2020-12-10T21:15:57.726972Z",
     "start_time": "2020-12-10T21:12:48.315298Z"
    }
   },
   "outputs": [
    {
     "name": "stdout",
     "output_type": "stream",
     "text": [
      "6.338253001141147e+27 0.0 6.338253001141147e+27\n"
     ]
    }
   ],
   "source": [
    "#ready... get set... GO!\n",
    "os.chdir(nb_dir)\n",
    "os.chdir(save_folder_vid)\n",
    "time_end_recording = 1.#\n",
    "while time_of_next_observation <= time_end_recording:\n",
    "    tf = time_of_next_observation\n",
    "    #integrate forward to the next time of observation\n",
    "    #     integrate_system_explicit_synchronous(tf, element_array_time, element_array_stepsize, node_array_time,\n",
    "    #                                          element_array_index, vertices, velocities,node_array_mass, element_array_inverse_equilibrium_position)\n",
    "    #     integrate_system_implicit_synchronous(tf, element_array_time, element_array_stepsize, node_array_time,\n",
    "    #                                          element_array_index, vertices, velocities,node_array_mass, element_array_inverse_equilibrium_position)\n",
    "    integrate_system_dormand_prince_asynchronous(\n",
    "        tf,\n",
    "        element_array_time,\n",
    "        element_array_stepsize,\n",
    "        node_array_time,\n",
    "        element_array_index,\n",
    "        vertices,\n",
    "        velocities,\n",
    "        node_array_mass,\n",
    "        element_array_inverse_equilibrium_position,\n",
    "        element_array_mass\n",
    "    )\n",
    "    \n",
    "    #update a copy of all positions to the observation time using the current velocity\n",
    "    x = vertices.copy()\n",
    "    for a in range(N_vertices):\n",
    "        x[a] += velocities[a] * (tf - tau[a])\n",
    "    \n",
    "    #measure observables\n",
    "    ##mesh measures\n",
    "    net_volume = compute_net_volume(x, element_array_index)\n",
    "    net_energy = compute_net_energy(N_elements, element_array_mass, velocities, x, #vertices,\n",
    "                                  element_array_index, element_array_inverse_equilibrium_position, mu, lam)\n",
    "    ##stepsize measures\n",
    "    stepsize_mean = np.mean(element_array_stepsize)\n",
    "    stepsize_std = np.std(element_array_stepsize)\n",
    "    stepsize_median = np.median(element_array_stepsize)\n",
    "\n",
    "    #record observables\n",
    "    volume_lst.append(net_volume)\n",
    "    energy_lst.append(net_energy)\n",
    "    tme = tf\n",
    "    tme_lst.append(tme)\n",
    "    stepsize_mean_lst.append(stepsize_mean)\n",
    "    stepsize_std_lst.append(stepsize_std)\n",
    "    stepsize_median_lst.append(stepsize_median)\n",
    "    stepsize_count_lst.append(count_array(array = element_array_stepsize,bins=learning_bins))\n",
    "    #record image of system\n",
    "    try:\n",
    "        pass\n",
    "#         img = get_img_of_system(vertices, input_file_name, darkmode = True, text=f'time={tf:.2f}')\n",
    "    except:\n",
    "        pass\n",
    "#     save_fn_img = f'img{frameno:09}.png'\n",
    "#     frameno += 1\n",
    "#     Img = Image.fromarray(img)\n",
    "#     Img.save(save_fn_img)\n",
    "    \n",
    "    #increment time_of_next_observation\n",
    "    time_of_next_observation += time_between_observations\n",
    "    #TODO(later): do something that makes a boring video less boring\n",
    "    #TODO(later): def element_array_count_calls_one_step to the call of integrate_system_.... i.e. Keep track of how many times each element is called to time step\n",
    "    #TODO(later): keep track of how many times each element config is updated with element_array_count_config_updates\n",
    "print(stepsize_mean, stepsize_std, stepsize_median)\n",
    "# beep(3)"
   ]
  },
  {
   "cell_type": "code",
   "execution_count": 22,
   "metadata": {
    "ExecuteTime": {
     "end_time": "2020-12-10T21:15:59.103128Z",
     "start_time": "2020-12-10T21:15:57.729464Z"
    }
   },
   "outputs": [
    {
     "name": "stderr",
     "output_type": "stream",
     "text": [
      "/usr/local/lib/python3.8/site-packages/numpy/lib/histograms.py:822: RuntimeWarning: divide by zero encountered in double_scalars\n",
      "  norm = n_equal_bins / _unsigned_subtract(last_edge, first_edge)\n",
      "/usr/local/lib/python3.8/site-packages/numpy/lib/histograms.py:850: RuntimeWarning: invalid value encountered in multiply\n",
      "  f_indices = _unsigned_subtract(tmp_a, first_edge) * norm\n"
     ]
    },
    {
     "ename": "IndexError",
     "evalue": "index -9223372036854775808 is out of bounds for axis 0 with size 101",
     "output_type": "error",
     "traceback": [
      "\u001b[0;31m---------------------------------------------------------------------------\u001b[0m",
      "\u001b[0;31mIndexError\u001b[0m                                Traceback (most recent call last)",
      "\u001b[0;32m<ipython-input-22-2d4822c4da18>\u001b[0m in \u001b[0;36m<module>\u001b[0;34m\u001b[0m\n\u001b[1;32m      4\u001b[0m \u001b[0mImg\u001b[0m\u001b[0;34m.\u001b[0m\u001b[0msave\u001b[0m\u001b[0;34m(\u001b[0m\u001b[0msave_fn_img\u001b[0m\u001b[0;34m)\u001b[0m\u001b[0;34m\u001b[0m\u001b[0;34m\u001b[0m\u001b[0m\n\u001b[1;32m      5\u001b[0m \u001b[0;31m# Img\u001b[0m\u001b[0;34m\u001b[0m\u001b[0;34m\u001b[0m\u001b[0;34m\u001b[0m\u001b[0m\n\u001b[0;32m----> 6\u001b[0;31m \u001b[0mplt\u001b[0m\u001b[0;34m.\u001b[0m\u001b[0mhist\u001b[0m\u001b[0;34m(\u001b[0m\u001b[0melement_array_stepsize\u001b[0m\u001b[0;34m,\u001b[0m \u001b[0mbins\u001b[0m\u001b[0;34m=\u001b[0m\u001b[0;36m100\u001b[0m\u001b[0;34m)\u001b[0m\u001b[0;34m\u001b[0m\u001b[0;34m\u001b[0m\u001b[0m\n\u001b[0m\u001b[1;32m      7\u001b[0m \u001b[0mplt\u001b[0m\u001b[0;34m.\u001b[0m\u001b[0mshow\u001b[0m\u001b[0;34m(\u001b[0m\u001b[0;34m)\u001b[0m\u001b[0;34m\u001b[0m\u001b[0;34m\u001b[0m\u001b[0m\n",
      "\u001b[0;32m/usr/local/lib/python3.8/site-packages/matplotlib/pyplot.py\u001b[0m in \u001b[0;36mhist\u001b[0;34m(x, bins, range, density, weights, cumulative, bottom, histtype, align, orientation, rwidth, log, color, label, stacked, data, **kwargs)\u001b[0m\n\u001b[1;32m   2666\u001b[0m         \u001b[0morientation\u001b[0m\u001b[0;34m=\u001b[0m\u001b[0;34m'vertical'\u001b[0m\u001b[0;34m,\u001b[0m \u001b[0mrwidth\u001b[0m\u001b[0;34m=\u001b[0m\u001b[0;32mNone\u001b[0m\u001b[0;34m,\u001b[0m \u001b[0mlog\u001b[0m\u001b[0;34m=\u001b[0m\u001b[0;32mFalse\u001b[0m\u001b[0;34m,\u001b[0m \u001b[0mcolor\u001b[0m\u001b[0;34m=\u001b[0m\u001b[0;32mNone\u001b[0m\u001b[0;34m,\u001b[0m\u001b[0;34m\u001b[0m\u001b[0;34m\u001b[0m\u001b[0m\n\u001b[1;32m   2667\u001b[0m         label=None, stacked=False, *, data=None, **kwargs):\n\u001b[0;32m-> 2668\u001b[0;31m     return gca().hist(\n\u001b[0m\u001b[1;32m   2669\u001b[0m         \u001b[0mx\u001b[0m\u001b[0;34m,\u001b[0m \u001b[0mbins\u001b[0m\u001b[0;34m=\u001b[0m\u001b[0mbins\u001b[0m\u001b[0;34m,\u001b[0m \u001b[0mrange\u001b[0m\u001b[0;34m=\u001b[0m\u001b[0mrange\u001b[0m\u001b[0;34m,\u001b[0m \u001b[0mdensity\u001b[0m\u001b[0;34m=\u001b[0m\u001b[0mdensity\u001b[0m\u001b[0;34m,\u001b[0m \u001b[0mweights\u001b[0m\u001b[0;34m=\u001b[0m\u001b[0mweights\u001b[0m\u001b[0;34m,\u001b[0m\u001b[0;34m\u001b[0m\u001b[0;34m\u001b[0m\u001b[0m\n\u001b[1;32m   2670\u001b[0m         \u001b[0mcumulative\u001b[0m\u001b[0;34m=\u001b[0m\u001b[0mcumulative\u001b[0m\u001b[0;34m,\u001b[0m \u001b[0mbottom\u001b[0m\u001b[0;34m=\u001b[0m\u001b[0mbottom\u001b[0m\u001b[0;34m,\u001b[0m \u001b[0mhisttype\u001b[0m\u001b[0;34m=\u001b[0m\u001b[0mhisttype\u001b[0m\u001b[0;34m,\u001b[0m\u001b[0;34m\u001b[0m\u001b[0;34m\u001b[0m\u001b[0m\n",
      "\u001b[0;32m/usr/local/lib/python3.8/site-packages/matplotlib/__init__.py\u001b[0m in \u001b[0;36minner\u001b[0;34m(ax, data, *args, **kwargs)\u001b[0m\n\u001b[1;32m   1429\u001b[0m     \u001b[0;32mdef\u001b[0m \u001b[0minner\u001b[0m\u001b[0;34m(\u001b[0m\u001b[0max\u001b[0m\u001b[0;34m,\u001b[0m \u001b[0;34m*\u001b[0m\u001b[0margs\u001b[0m\u001b[0;34m,\u001b[0m \u001b[0mdata\u001b[0m\u001b[0;34m=\u001b[0m\u001b[0;32mNone\u001b[0m\u001b[0;34m,\u001b[0m \u001b[0;34m**\u001b[0m\u001b[0mkwargs\u001b[0m\u001b[0;34m)\u001b[0m\u001b[0;34m:\u001b[0m\u001b[0;34m\u001b[0m\u001b[0;34m\u001b[0m\u001b[0m\n\u001b[1;32m   1430\u001b[0m         \u001b[0;32mif\u001b[0m \u001b[0mdata\u001b[0m \u001b[0;32mis\u001b[0m \u001b[0;32mNone\u001b[0m\u001b[0;34m:\u001b[0m\u001b[0;34m\u001b[0m\u001b[0;34m\u001b[0m\u001b[0m\n\u001b[0;32m-> 1431\u001b[0;31m             \u001b[0;32mreturn\u001b[0m \u001b[0mfunc\u001b[0m\u001b[0;34m(\u001b[0m\u001b[0max\u001b[0m\u001b[0;34m,\u001b[0m \u001b[0;34m*\u001b[0m\u001b[0mmap\u001b[0m\u001b[0;34m(\u001b[0m\u001b[0msanitize_sequence\u001b[0m\u001b[0;34m,\u001b[0m \u001b[0margs\u001b[0m\u001b[0;34m)\u001b[0m\u001b[0;34m,\u001b[0m \u001b[0;34m**\u001b[0m\u001b[0mkwargs\u001b[0m\u001b[0;34m)\u001b[0m\u001b[0;34m\u001b[0m\u001b[0;34m\u001b[0m\u001b[0m\n\u001b[0m\u001b[1;32m   1432\u001b[0m \u001b[0;34m\u001b[0m\u001b[0m\n\u001b[1;32m   1433\u001b[0m         \u001b[0mbound\u001b[0m \u001b[0;34m=\u001b[0m \u001b[0mnew_sig\u001b[0m\u001b[0;34m.\u001b[0m\u001b[0mbind\u001b[0m\u001b[0;34m(\u001b[0m\u001b[0max\u001b[0m\u001b[0;34m,\u001b[0m \u001b[0;34m*\u001b[0m\u001b[0margs\u001b[0m\u001b[0;34m,\u001b[0m \u001b[0;34m**\u001b[0m\u001b[0mkwargs\u001b[0m\u001b[0;34m)\u001b[0m\u001b[0;34m\u001b[0m\u001b[0;34m\u001b[0m\u001b[0m\n",
      "\u001b[0;32m/usr/local/lib/python3.8/site-packages/matplotlib/axes/_axes.py\u001b[0m in \u001b[0;36mhist\u001b[0;34m(self, x, bins, range, density, weights, cumulative, bottom, histtype, align, orientation, rwidth, log, color, label, stacked, **kwargs)\u001b[0m\n\u001b[1;32m   6633\u001b[0m             \u001b[0;31m# this will automatically overwrite bins,\u001b[0m\u001b[0;34m\u001b[0m\u001b[0;34m\u001b[0m\u001b[0;34m\u001b[0m\u001b[0m\n\u001b[1;32m   6634\u001b[0m             \u001b[0;31m# so that each histogram uses the same bins\u001b[0m\u001b[0;34m\u001b[0m\u001b[0;34m\u001b[0m\u001b[0;34m\u001b[0m\u001b[0m\n\u001b[0;32m-> 6635\u001b[0;31m             \u001b[0mm\u001b[0m\u001b[0;34m,\u001b[0m \u001b[0mbins\u001b[0m \u001b[0;34m=\u001b[0m \u001b[0mnp\u001b[0m\u001b[0;34m.\u001b[0m\u001b[0mhistogram\u001b[0m\u001b[0;34m(\u001b[0m\u001b[0mx\u001b[0m\u001b[0;34m[\u001b[0m\u001b[0mi\u001b[0m\u001b[0;34m]\u001b[0m\u001b[0;34m,\u001b[0m \u001b[0mbins\u001b[0m\u001b[0;34m,\u001b[0m \u001b[0mweights\u001b[0m\u001b[0;34m=\u001b[0m\u001b[0mw\u001b[0m\u001b[0;34m[\u001b[0m\u001b[0mi\u001b[0m\u001b[0;34m]\u001b[0m\u001b[0;34m,\u001b[0m \u001b[0;34m**\u001b[0m\u001b[0mhist_kwargs\u001b[0m\u001b[0;34m)\u001b[0m\u001b[0;34m\u001b[0m\u001b[0;34m\u001b[0m\u001b[0m\n\u001b[0m\u001b[1;32m   6636\u001b[0m             \u001b[0mtops\u001b[0m\u001b[0;34m.\u001b[0m\u001b[0mappend\u001b[0m\u001b[0;34m(\u001b[0m\u001b[0mm\u001b[0m\u001b[0;34m)\u001b[0m\u001b[0;34m\u001b[0m\u001b[0;34m\u001b[0m\u001b[0m\n\u001b[1;32m   6637\u001b[0m         \u001b[0mtops\u001b[0m \u001b[0;34m=\u001b[0m \u001b[0mnp\u001b[0m\u001b[0;34m.\u001b[0m\u001b[0marray\u001b[0m\u001b[0;34m(\u001b[0m\u001b[0mtops\u001b[0m\u001b[0;34m,\u001b[0m \u001b[0mfloat\u001b[0m\u001b[0;34m)\u001b[0m  \u001b[0;31m# causes problems later if it's an int\u001b[0m\u001b[0;34m\u001b[0m\u001b[0;34m\u001b[0m\u001b[0m\n",
      "\u001b[0;32m<__array_function__ internals>\u001b[0m in \u001b[0;36mhistogram\u001b[0;34m(*args, **kwargs)\u001b[0m\n",
      "\u001b[0;32m/usr/local/lib/python3.8/site-packages/numpy/lib/histograms.py\u001b[0m in \u001b[0;36mhistogram\u001b[0;34m(a, bins, range, normed, weights, density)\u001b[0m\n\u001b[1;32m    854\u001b[0m             \u001b[0;31m# The index computation is not guaranteed to give exactly\u001b[0m\u001b[0;34m\u001b[0m\u001b[0;34m\u001b[0m\u001b[0;34m\u001b[0m\u001b[0m\n\u001b[1;32m    855\u001b[0m             \u001b[0;31m# consistent results within ~1 ULP of the bin edges.\u001b[0m\u001b[0;34m\u001b[0m\u001b[0;34m\u001b[0m\u001b[0;34m\u001b[0m\u001b[0m\n\u001b[0;32m--> 856\u001b[0;31m             \u001b[0mdecrement\u001b[0m \u001b[0;34m=\u001b[0m \u001b[0mtmp_a\u001b[0m \u001b[0;34m<\u001b[0m \u001b[0mbin_edges\u001b[0m\u001b[0;34m[\u001b[0m\u001b[0mindices\u001b[0m\u001b[0;34m]\u001b[0m\u001b[0;34m\u001b[0m\u001b[0;34m\u001b[0m\u001b[0m\n\u001b[0m\u001b[1;32m    857\u001b[0m             \u001b[0mindices\u001b[0m\u001b[0;34m[\u001b[0m\u001b[0mdecrement\u001b[0m\u001b[0;34m]\u001b[0m \u001b[0;34m-=\u001b[0m \u001b[0;36m1\u001b[0m\u001b[0;34m\u001b[0m\u001b[0;34m\u001b[0m\u001b[0m\n\u001b[1;32m    858\u001b[0m             \u001b[0;31m# The last bin includes the right edge. The other bins do not.\u001b[0m\u001b[0;34m\u001b[0m\u001b[0;34m\u001b[0m\u001b[0;34m\u001b[0m\u001b[0m\n",
      "\u001b[0;31mIndexError\u001b[0m: index -9223372036854775808 is out of bounds for axis 0 with size 101"
     ]
    },
    {
     "data": {
      "image/png": "[encoded data removed]",
      "text/plain": [
       "<Figure size 432x288 with 1 Axes>"
      ]
     },
     "metadata": {
      "needs_background": "light"
     },
     "output_type": "display_data"
    }
   ],
   "source": [
    "img = get_img_of_system(vertices, input_file_name, darkmode = False, text=f'time={time_of_next_observation:.2f}')\n",
    "Img = Image.fromarray(img)\n",
    "save_fn_img = nb_dir + \"/../fig/s_time_1.png\"\n",
    "Img.save(save_fn_img)\n",
    "# Img\n",
    "plt.hist(element_array_stepsize, bins=100)\n",
    "plt.show()"
   ]
  },
  {
   "cell_type": "code",
   "execution_count": null,
   "metadata": {
    "ExecuteTime": {
     "end_time": "2020-12-10T21:15:59.129331Z",
     "start_time": "2020-12-10T21:08:33.390Z"
    }
   },
   "outputs": [],
   "source": [
    "#ready... get set... GO!\n",
    "os.chdir(nb_dir)\n",
    "os.chdir(save_folder_vid)\n",
    "time_end_recording = 2.#\n",
    "while time_of_next_observation <= time_end_recording:\n",
    "    tf = time_of_next_observation\n",
    "    #integrate forward to the next time of observation\n",
    "    #     integrate_system_explicit_synchronous(tf, element_array_time, element_array_stepsize, node_array_time,\n",
    "    #                                          element_array_index, vertices, velocities,node_array_mass, element_array_inverse_equilibrium_position)\n",
    "    #     integrate_system_implicit_synchronous(tf, element_array_time, element_array_stepsize, node_array_time,\n",
    "    #                                          element_array_index, vertices, velocities,node_array_mass, element_array_inverse_equilibrium_position)\n",
    "    integrate_system_dormand_prince_asynchronous(\n",
    "        tf,\n",
    "        element_array_time,\n",
    "        element_array_stepsize,\n",
    "        node_array_time,\n",
    "        element_array_index,\n",
    "        vertices,\n",
    "        velocities,\n",
    "        node_array_mass,\n",
    "        element_array_inverse_equilibrium_position,\n",
    "        element_array_mass\n",
    "    )\n",
    "    \n",
    "    #update a copy of all positions to the observation time using the current velocity\n",
    "    x = vertices.copy()\n",
    "    for a in range(N_vertices):\n",
    "        x[a] += velocities[a] * (tf - tau[a])\n",
    "    \n",
    "    #measure observables\n",
    "    ##mesh measures\n",
    "    net_volume = compute_net_volume(x, element_array_index)\n",
    "    net_energy = compute_net_energy(N_elements, element_array_mass, velocities, x, #vertices,\n",
    "                                  element_array_index, element_array_inverse_equilibrium_position, mu, lam)\n",
    "    ##stepsize measures\n",
    "    stepsize_mean = np.mean(element_array_stepsize)\n",
    "    stepsize_std = np.std(element_array_stepsize)\n",
    "    stepsize_median = np.median(element_array_stepsize)\n",
    "\n",
    "    #record observables\n",
    "    volume_lst.append(net_volume)\n",
    "    energy_lst.append(net_energy)\n",
    "    tme = tf\n",
    "    tme_lst.append(tme)\n",
    "    stepsize_mean_lst.append(stepsize_mean)\n",
    "    stepsize_std_lst.append(stepsize_std)\n",
    "    stepsize_median_lst.append(stepsize_median)\n",
    "    stepsize_count_lst.append(count_array(array = element_array_stepsize,bins=learning_bins))\n",
    "    #record image of system\n",
    "    try:\n",
    "        pass\n",
    "#         img = get_img_of_system(vertices, input_file_name, darkmode = True, text=f'time={tf:.2f}')\n",
    "    except:\n",
    "        pass\n",
    "#     save_fn_img = f'img{frameno:09}.png'\n",
    "#     frameno += 1\n",
    "#     Img = Image.fromarray(img)\n",
    "#     Img.save(save_fn_img)\n",
    "    \n",
    "    #increment time_of_next_observation\n",
    "    time_of_next_observation += time_between_observations\n",
    "    #TODO(later): do something that makes a boring video less boring\n",
    "    #TODO(later): def element_array_count_calls_one_step to the call of integrate_system_.... i.e. Keep track of how many times each element is called to time step\n",
    "    #TODO(later): keep track of how many times each element config is updated with element_array_count_config_updates\n",
    "print(stepsize_mean, stepsize_std, stepsize_median)\n",
    "beep(3)"
   ]
  },
  {
   "cell_type": "code",
   "execution_count": null,
   "metadata": {
    "ExecuteTime": {
     "end_time": "2020-12-10T21:15:59.130975Z",
     "start_time": "2020-12-10T21:08:33.391Z"
    }
   },
   "outputs": [],
   "source": [
    "img = get_img_of_system(vertices, input_file_name, darkmode = False, text=f'time={time_of_next_observation:.2f}')\n",
    "Img = Image.fromarray(img)\n",
    "save_fn_img = nb_dir + \"/../fig/s_time_2.png\"\n",
    "Img.save(save_fn_img)\n",
    "# Img\n",
    "plt.hist(element_array_stepsize, bins=100)\n",
    "plt.show()"
   ]
  },
  {
   "cell_type": "code",
   "execution_count": null,
   "metadata": {
    "ExecuteTime": {
     "end_time": "2020-12-10T21:03:12.831717Z",
     "start_time": "2020-12-10T21:03:12.664636Z"
    }
   },
   "outputs": [],
   "source": []
  },
  {
   "cell_type": "code",
   "execution_count": null,
   "metadata": {
    "ExecuteTime": {
     "end_time": "2020-12-10T21:02:41.267402Z",
     "start_time": "2020-12-10T21:02:41.227785Z"
    }
   },
   "outputs": [],
   "source": []
  },
  {
   "cell_type": "code",
   "execution_count": null,
   "metadata": {},
   "outputs": [],
   "source": []
  }
 ],
 "metadata": {
  "kernelspec": {
   "display_name": "Python 3",
   "language": "python",
   "name": "python3"
  },
  "language_info": {
   "codemirror_mode": {
    "name": "ipython",
    "version": 3
   },
   "file_extension": ".py",
   "mimetype": "text/x-python",
   "name": "python",
   "nbconvert_exporter": "python",
   "pygments_lexer": "ipython3",
   "version": "3.8.6"
  },
  "varInspector": {
   "cols": {
    "lenName": 16,
    "lenType": 16,
    "lenVar": 40
   },
   "kernels_config": {
    "python": {
     "delete_cmd_postfix": "",
     "delete_cmd_prefix": "del ",
     "library": "var_list.py",
     "varRefreshCmd": "print(var_dic_list())"
    },
    "r": {
     "delete_cmd_postfix": ") ",
     "delete_cmd_prefix": "rm(",
     "library": "var_list.r",
     "varRefreshCmd": "cat(var_dic_list()) "
    }
   },
   "types_to_exclude": [
    "module",
    "function",
    "builtin_function_or_method",
    "instance",
    "_Feature"
   ],
   "window_display": false
  }
 },
 "nbformat": 4,
 "nbformat_minor": 4
}
