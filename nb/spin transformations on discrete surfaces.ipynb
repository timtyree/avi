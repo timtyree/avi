{
 "cells": [
  {
   "cell_type": "markdown",
   "id": "96c7007b",
   "metadata": {},
   "source": [
    "# spin transformations on discrete surfaces\n",
    "Tim Tyree<br>\n",
    "12.30.2022"
   ]
  },
  {
   "cell_type": "markdown",
   "id": "40c4eb3a",
   "metadata": {},
   "source": [
    "This notebook works along with the paper of the same name by Crane, Pinkall, and Schröder (2011)."
   ]
  },
  {
   "cell_type": "code",
   "execution_count": null,
   "id": "9c26aafb",
   "metadata": {
    "ExecuteTime": {
     "end_time": "2023-01-14T00:56:02.707820Z",
     "start_time": "2023-01-14T00:55:56.423442Z"
    }
   },
   "outputs": [],
   "source": [
    "from lib.my_initialization import *"
   ]
  },
  {
   "cell_type": "code",
   "execution_count": null,
   "id": "202d1ee3",
   "metadata": {
    "ExecuteTime": {
     "end_time": "2023-01-14T00:56:02.793700Z",
     "start_time": "2023-01-14T00:56:02.710584Z"
    }
   },
   "outputs": [],
   "source": [
    "plt.plot([4]*3)\n",
    "plt.close()\n",
    "#reset matplotlib\n",
    "import matplotlib as mpl\n",
    "sns.reset_orig()\n",
    "mpl.rc_file_defaults()\n",
    "#set randomization seed\n",
    "np.random.seed(42)\n",
    "#consider darkmode\n",
    "darkmode=False\n",
    "if darkmode:\n",
    "    # For darkmode plots\n",
    "    from jupyterthemes import jtplot\n",
    "    jtplot.style(theme='monokai', context='notebook', ticks=True, grid=False)\n",
    "    \n",
    "%load_ext autoreload\n",
    "%autoreload 2"
   ]
  },
  {
   "cell_type": "code",
   "execution_count": null,
   "id": "3b5dd661",
   "metadata": {
    "ExecuteTime": {
     "end_time": "2023-01-14T00:56:03.319073Z",
     "start_time": "2023-01-14T00:56:03.260203Z"
    }
   },
   "outputs": [],
   "source": [
    "import scipy.io as sio\n",
    "from IPython.display import IFrame"
   ]
  },
  {
   "cell_type": "code",
   "execution_count": null,
   "id": "bc62f202",
   "metadata": {
    "ExecuteTime": {
     "end_time": "2023-01-14T00:56:03.644044Z",
     "start_time": "2023-01-14T00:56:03.600144Z"
    }
   },
   "outputs": [],
   "source": [
    "import scipy\n",
    "from scipy.sparse import csc_matrix\n",
    "from scipy.sparse.linalg import lsqr"
   ]
  },
  {
   "cell_type": "markdown",
   "id": "98af72df",
   "metadata": {
    "ExecuteTime": {
     "end_time": "2023-01-12T06:25:49.143621Z",
     "start_time": "2023-01-12T06:25:49.052072Z"
    },
    "heading_collapsed": true
   },
   "source": [
    "## scratchwerk"
   ]
  },
  {
   "cell_type": "code",
   "execution_count": null,
   "id": "404216ff",
   "metadata": {
    "ExecuteTime": {
     "end_time": "2023-01-13T02:57:16.446927Z",
     "start_time": "2023-01-13T02:57:16.414296Z"
    },
    "hidden": true
   },
   "outputs": [],
   "source": [
    "#TODO(later): try getting pyrenderer working on macintosh with the supposed OpenGL support "
   ]
  },
  {
   "cell_type": "code",
   "execution_count": null,
   "id": "3c94caea",
   "metadata": {
    "ExecuteTime": {
     "end_time": "2023-01-13T02:57:16.480691Z",
     "start_time": "2023-01-13T02:57:16.449168Z"
    },
    "hidden": true
   },
   "outputs": [],
   "source": [
    "# fullName = '/System/Library/Frameworks/OpenGL.framework/OpenGL'\n",
    "# #TODO: try to use this? does ^this help?"
   ]
  },
  {
   "cell_type": "code",
   "execution_count": null,
   "id": "e9ed9051",
   "metadata": {
    "ExecuteTime": {
     "end_time": "2023-01-13T02:57:16.513542Z",
     "start_time": "2023-01-13T02:57:16.482535Z"
    },
    "hidden": true
   },
   "outputs": [],
   "source": [
    "# import os\n",
    "# # switch to \"osmesa\" or \"egl\" before loading pyrender\n",
    "# # os.environ[\"PYOPENGL_PLATFORM\"] = \"egl\"\n",
    "# os.environ[\"PYOPENGL_PLATFORM\"] = \"osmesa\"\n",
    "\n",
    "# import numpy as np\n",
    "# import pyrender\n",
    "# import trimesh\n",
    "# import matplotlib.pyplot as plt"
   ]
  },
  {
   "cell_type": "code",
   "execution_count": null,
   "id": "7e6473a0",
   "metadata": {
    "hidden": true
   },
   "outputs": [],
   "source": []
  },
  {
   "cell_type": "code",
   "execution_count": null,
   "id": "e061c094",
   "metadata": {
    "ExecuteTime": {
     "end_time": "2023-01-13T02:57:16.547033Z",
     "start_time": "2023-01-13T02:57:16.515544Z"
    },
    "hidden": true
   },
   "outputs": [],
   "source": [
    "\n",
    "# # generate mesh\n",
    "# sphere = trimesh.creation.icosphere(subdivisions=4, radius=0.8)\n",
    "# sphere.vertices+=1e-2*np.random.randn(*sphere.vertices.shape)\n",
    "# mesh = pyrender.Mesh.from_trimesh(sphere, smooth=False)\n",
    "\n",
    "# # compose scene\n",
    "# scene = pyrender.Scene(ambient_light=[.1, .1, .3], bg_color=[0, 0, 0])\n",
    "# camera = pyrender.PerspectiveCamera( yfov=np.pi / 3.0)\n",
    "# light = pyrender.DirectionalLight(color=[1,1,1], intensity=2e3)\n",
    "\n",
    "# scene.add(mesh, pose=  np.eye(4))\n",
    "# scene.add(light, pose=  np.eye(4))\n",
    "\n",
    "# c = 2**-0.5\n",
    "# scene.add(camera, pose=[[ 1,  0,  0,  0],\n",
    "#                         [ 0,  c, -c, -2],\n",
    "#                         [ 0,  c,  c,  2],\n",
    "#                         [ 0,  0,  0,  1]])\n",
    "\n",
    "# # render scene\n",
    "# r = pyrender.OffscreenRenderer(512, 512)\n",
    "# color, _ = r.render(scene)\n",
    "\n",
    "# plt.figure(figsize=(8,8)), plt.imshow(color);"
   ]
  },
  {
   "cell_type": "markdown",
   "id": "075a5911",
   "metadata": {},
   "source": [
    "# define module"
   ]
  },
  {
   "cell_type": "code",
   "execution_count": null,
   "id": "3c9aa862",
   "metadata": {
    "ExecuteTime": {
     "end_time": "2023-01-14T03:33:32.904821Z",
     "start_time": "2023-01-14T03:33:32.799253Z"
    }
   },
   "outputs": [],
   "source": [
    "from PIL import Image\n",
    "import trimesh\n",
    "def save_scene_to_png_trimesh(save_fn_img, scene, \n",
    "                              resolution = (1280,720), \n",
    "                              visible=False, \n",
    "                              format_str='PNG',\n",
    "                              start_loop=False,\n",
    "                              **kwargs):\n",
    "    \"\"\"saves trimesh.Scene instance to .png.\n",
    "    kwargs are passed to scene.save_image.\n",
    "    start_loop=True will launch an ipython kernel, which might not be desired.\n",
    "    \n",
    "    Example Usage:\n",
    "camera_angle=(-90-45,0,45)\n",
    "scene = trimesh.scene.Scene(mesh_current)\n",
    "scene.set_camera(angles=camera_angle)\n",
    "save_scene_to_png_trimesh(save_fn_img, scene, \n",
    "                          resolution = (1280,720),visible=False, format='PNG',\n",
    "                          start_loop=False,background='dark')#,**kwargs)\n",
    "print(f\"open {os.path.abspath(save_fn_img)}\")\n",
    "    \"\"\"\n",
    "    #save scene as .png\n",
    "    rendered = Image.open(\n",
    "        trimesh.util.wrap_as_stream(\n",
    "            scene.save_image(\n",
    "                resolution=resolution, visible=visible,\n",
    "                start_loop=start_loop,\n",
    "                **kwargs)))\n",
    "    rendered.save(save_fn_img, format=format_str)\n",
    "    del rendered\n",
    "    #TODO(later): figure out how to make scene.save_image() stop launching an ipykernel\n",
    "    # \tplotter.deep_clean()\n",
    "    # \tdel plotter\n",
    "    # \tpv.close_all()\n",
    "    return True\n",
    "\n",
    "def get_colors_trimesh(inp, colormap=None, vmin=None, vmax=None):\n",
    "    \"\"\"inp is a 1D numpy array that is mapped to a plt.cm.jet if colormap is None.\n",
    "    \n",
    "    Example Usage:\n",
    "colors = get_colors_trimesh(rho, plt.cm.jet)\n",
    "mesh = trimesh.Trimesh(vertices=vert,faces=tria,face_colors=colors)\n",
    "    \"\"\"\n",
    "    \n",
    "    if colormap is None:\n",
    "        colormap = plt.cm.jet\n",
    "    # norm = plt.Normalize()\n",
    "    # colors = plt.cm.jet(norm(rho))\n",
    "    # colors = plt.cm.jet(np.linspace(0,1,len(dz)))\n",
    "    norm = plt.Normalize(vmin, vmax)\n",
    "    colors = colormap(norm(inp))\n",
    "    return (255*colors/np.max(colors)).astype('uint8')#[:,0,:]\n",
    "\n",
    "def save_trimesh_to_png(scene,save_fn_img,\n",
    "                        format_str='PNG',\n",
    "                        resolution = (1280,720), \n",
    "                        visible=True,\n",
    "                        start_loop=False,\n",
    "                        use_dispatch_events_extra=True,\n",
    "#                         use_wireframe=True,\n",
    "                        **kwargs):\n",
    "    \"\"\"\"\n",
    "    save_trimesh_to_png saves scene to save_fn_img in format_str format.\n",
    "    scene is a trimesh.scene.scene.Scene instance.\n",
    "    additional kwargs are passed to trimesh.viewer.windowed.SceneViewer.\n",
    "    \n",
    "    Example Usage:\n",
    "save_trimesh_to_png(scene,save_fn_img,format_str='PNG')\n",
    "print(f\"open {os.path.abspath(save_fn_img)}\")\n",
    "    \"\"\"\n",
    "    #initialize the window\n",
    "    window = trimesh.viewer.windowed.SceneViewer(scene, resolution = resolution, format=format_str,\n",
    "                                                 visible=visible,start_loop=start_loop,**kwargs)\n",
    "#     if use_wireframe:\n",
    "#         window.toggle_wireframe()\n",
    "#didn't help...\n",
    "#     @window.event\n",
    "#     def on_draw():\n",
    "#         window.scene.render()\n",
    "#         #window.render()\n",
    "        \n",
    "    if use_dispatch_events_extra:\n",
    "        #is this fixed?\n",
    "        window.dispatch_events() #<<< first of three calls will liklely send the warning messages\n",
    "\n",
    "        # need to run loop twice to display anything\n",
    "        for save in [False, False, True]:\n",
    "            window.dispatch_events() #needed #src of warning messages\n",
    "            window.dispatch_event('on_draw') #needed\n",
    "            if save:\n",
    "                # save the color buffer data to memory\n",
    "                file_obj = trimesh.viewer.windowed.util.BytesIO()\n",
    "                window.save_image(file_obj)\n",
    "                file_obj.seek(0)\n",
    "                png = file_obj.read()\n",
    "        window.close()\n",
    "        rendered = Image.open(trimesh.util.wrap_as_stream(png))\n",
    "        #save rendered scene as .png\n",
    "        rendered.save(save_fn_img, format=format_str)\n",
    "        del rendered, file_obj, png\n",
    "        return True"
   ]
  },
  {
   "cell_type": "code",
   "execution_count": null,
   "id": "bbd30b53",
   "metadata": {
    "ExecuteTime": {
     "end_time": "2023-01-14T00:56:08.724147Z",
     "start_time": "2023-01-14T00:56:08.680965Z"
    }
   },
   "outputs": [],
   "source": [
    "# rendered = Image.open(\n",
    "#     trimesh.util.wrap_as_stream(\n",
    "#         scene.save_image()#resolution=resolution, visible=visible,**kwargs)))"
   ]
  },
  {
   "cell_type": "code",
   "execution_count": null,
   "id": "c230c73b",
   "metadata": {
    "ExecuteTime": {
     "end_time": "2023-01-14T00:56:09.262869Z",
     "start_time": "2023-01-14T00:56:09.230342Z"
    }
   },
   "outputs": [],
   "source": [
    "@njit\n",
    "def jiH(pnt):\n",
    "    \"\"\"jiH castes a cartesion point, pnt, to a real quaternionic representation.\"\"\"\n",
    "    a=pnt[0]; b=pnt[1]; c=pnt[2]; d=pnt[3];\n",
    "    h = np.array([\n",
    "        [a, -b, -c, -d],\n",
    "        [b,  a, -d,  c],\n",
    "        [c,  d,  a, -b],\n",
    "        [d, -c,  b,  a]])\n",
    "    return h\n"
   ]
  },
  {
   "cell_type": "code",
   "execution_count": null,
   "id": "d84fb4bf",
   "metadata": {
    "ExecuteTime": {
     "end_time": "2023-01-14T00:56:09.817581Z",
     "start_time": "2023-01-14T00:56:09.780477Z"
    }
   },
   "outputs": [],
   "source": [
    "def map_lam_real(lam,V,T,printing=True,**kwargs):\n",
    "    \"\"\"map_lam_real maps the (eigen)vector, lam, from the real representation of vector-quaternions to \n",
    "    vetex representation of map, L,ome.\n",
    "    \n",
    "    Example Usage:\n",
    "L,ome=map_lam_real(lam,V,T,printing=True)#,**kwargs)\n",
    "    \"\"\"\n",
    "    #input: V,T,lam\n",
    "    #output: L,ome\n",
    "    nT=T.shape[0]\n",
    "    nV=V.shape[0]\n",
    "    #transcribe eigensolution to output mesh.\n",
    "    ome=np.zeros(4*nV)\n",
    "    # L  =scipy.sparse.csc_matrix(4*nV,4*nV) #<<Q: is this sparse faster?\n",
    "    L  =np.zeros((4*nV,4*nV))\n",
    "    # L  =sparse(4*nV,4*nV);\n",
    "    num_steps=nT-1\n",
    "    update_printbar_every=int(np.around(nT/20))\n",
    "    step=0\n",
    "    # for c1 in range(1,nT): # for c1=1:nT\n",
    "    # for c1 in range(nT+1): # for c1=1:nT #<<< Index Error\n",
    "    # for c1 in range(nT-1): # for c1=1:nT\n",
    "    # #Q: is ^this the problem?\n",
    "    # #A: it appears not...\n",
    "    for c1 in range(nT): # for c1=1:nT\n",
    "        for c2 in range(3): #for c2=1:3\n",
    "            k0 = T[c1,(c2-1)%3]\n",
    "            k1 = T[c1,(c2+0)%3]\n",
    "            k2 = T[c1,(c2+1)%3]\n",
    "            u1=V[k1]-V[k0]\n",
    "            u2=V[k2]-V[k0]\n",
    "            cta = np.dot (u1,u2) / np.linalg.norm (np.cross (u1,u2) )\n",
    "            h=jiH(np.array([0.5*cta, 0, 0, 0]));\n",
    "            # write to global vertex representation\n",
    "            ooow = np.hstack([np.concatenate([h, -h]),\n",
    "                              np.concatenate([-h, h])]) # [[h -h],-[h h]]\n",
    "            ini=np.hstack([k1*4+plc,  k2*4+plc])\n",
    "            # #ini=np.hstack([k2*4+plc,  k1*4+plc]) #global swap?\n",
    "            L[np.ix_(ini,ini)] += ooow  # L(ini,ini) = L(ini,ini) + [[h -h],-[h h]]\n",
    "            # ooow_= np.concatenate([ooow[1],ooow[2],ooow[0]],axis=2)\n",
    "            # oooow = np.vstack([ooow_[1],ooow_[2],ooow_[0]])\n",
    "            #L[np.ix_(ini,ini)] += oooow\n",
    "            if k1>k2: #swap s.t. k3 is tmp\n",
    "                k3=k1; k1=k2; k2=k3;\n",
    "            lm1=jiH(lam[k1*4+plc])\n",
    "            lm2=jiH(lam[k2*4+plc])\n",
    "            edv=jiH(np.concatenate([np.array([0]),V[k2]-V[k1]]))\n",
    "    #         ti1 = (lm1*edv)@lm1/3.   + (lm2*edv)@lm2/3.   + (lm1*edv)@lm2/6. + (lm2*edv)@lm1/6.\n",
    "    #         ti1 = lm1*edv@lm1/3.   + lm2*edv@lm2/3.   + lm1*edv@lm2/6. + lm2*edv@lm1/6.\n",
    "    #         ti1 = lm1*(edv@lm1)/3. + lm2*(edv@lm2)/3. + lm1*(edv@lm2)/6. + lm2*(edv@lm1)/6.\n",
    "    #         ti1 = lm1@edv@lm1/3. + lm2@edv@lm2/3. + lm1@edv@lm2/6. + lm2@edv@lm1/6.\n",
    "            #ti1 = (lm1@edv)@lm1/3.   + (lm2@edv)@lm2/3.   + (lm1@edv)@lm2/6. + (lm2@edv)@lm1/6.# <<< clearly wrong\n",
    "            ti1 = (lm1.T@edv)@lm1/3.   + (lm2.T@edv)@lm2/3.   + (lm1.T@edv)@lm2/6. + (lm2.T@edv)@lm1/6.\n",
    "            ti1 *= -1.\n",
    "            #Q: which of ^these is right?\n",
    "            #A: left to right, * and then @\n",
    "            # til=lm1'*edv*lm1/3 + lm1'*edv*lm2/6 + lm2'*edv*lm1/6 + lm2'*edv*lm2/3;\n",
    "    #         ome[k1*4+plc] = ome[k1*4+plc]-0.5*cta*ti1[0] #<<<wrong sign for rotations\n",
    "            ome[k1*4+plc] = ome[k1*4+plc]-0.5*cta*ti1[:,0]  #<<< this one agrees with matlab? it looks like it gives the wrong sign to rotation\n",
    "            #Q: which of ^these is right?\n",
    "            # ome(k1*4+plc,1)=ome(k1*4+plc,1)-cta*til(:,1)/2;\n",
    "    #         ome[k2*4+plc] = ome[k2*4+plc]+0.5*cta*ti1[0]#<<<wrong sign for rotations\n",
    "            ome[k2*4+plc] = ome[k2*4+plc]+0.5*cta*ti1[:,0]  #<<< this one agrees with matlab? it looks like it gives the wrong sign to rotation\n",
    "            #Q: which of ^these is right?\n",
    "            # ome(k2*4+plc,1)=ome(k2*4+plc,1)+cta*til(:,1)/2;\n",
    "            #Q: am I certain that i use ome[k2*4+plc] and not ome[k2*4+plc,0]??\n",
    "        #print progress bar\n",
    "        if printing:\n",
    "            step+=1\n",
    "            if step%update_printbar_every==0:\n",
    "                printProgressBar(step+1, num_steps, prefix = 'Progress:', suffix = 'Complete', length = 50)\n",
    "    return L,ome"
   ]
  },
  {
   "cell_type": "code",
   "execution_count": null,
   "id": "a115dcad",
   "metadata": {
    "ExecuteTime": {
     "end_time": "2023-01-14T00:56:10.919805Z",
     "start_time": "2023-01-14T00:56:10.885427Z"
    }
   },
   "outputs": [],
   "source": [
    "def map_real_lam_to_vertices(lam,V,T,printing=True,use_return_Lp=True,**kwargs):\n",
    "    \"\"\"map_real_lam_to_vertices does essentially a linear algebra solve to \n",
    "    - compute the linear map of the solution vector, lam,\n",
    "    - on triangular mesh with \n",
    "        - vertices, V (N,3 numpy.array), and\n",
    "        - faces, T (N,3, numpy.array)   \n",
    "    is this really 2 seconds per linear algebra solve? yes. \n",
    "    UNLESS if you're out of virtual memory stored in swap ram.\n",
    "\n",
    "    minimizes the least square of $ | Lp . x - ome | ^ 2 $\n",
    "    \n",
    "    kwargs are passed to scipy.sparse.linalg.lsqr\n",
    "\n",
    "    Example Usage:\n",
    "x,Lp,ome = map_real_lam_to_vertices(lam,V,T)#,printing=True,use_return_Lp=True,**kwargs)\n",
    "    \"\"\"\n",
    "    L,ome=map_lam_real(lam,V,T,printing=printing)#,**kwargs)\n",
    "    # print(f\"{np.around(L[:10,:10],2)=}\")\n",
    "    # print(f\"{ome[:6]=}\")\n",
    "    Lp=np.roll(np.roll(L,3,axis=0),3,axis=1) #bc of plc indexing...\n",
    "    omep=np.roll(ome,3) #bc of plc indexing...\n",
    "    #center input\n",
    "    ome = omep.reshape((nV,4))\n",
    "    ome = ome - np.broadcast_to(np.mean(ome,axis=0), shape=(nV,4), subok=False) #note subok=True would be needed for numpy-quaternion entries in ome.\n",
    "    ome = ome.flatten()\n",
    "    A = csc_matrix(Lp, dtype=float) #<<< looks fastest for demo rho\n",
    "    # A = scipy.sparse.bsr_matrix(Lp, dtype=float) #<<< alternative sparse repr\n",
    "    # A = scipy.sparse.csr_matrix(Lp, dtype=float) #<<< alternative sparse repr\n",
    "    #solve the linear system in the least square\n",
    "    b = np.array(ome, dtype=float)\n",
    "    if printing:\n",
    "        print(f\"\\nPerforming linear algebra solve...\")\n",
    "    x, istop, itn, normr = scipy.sparse.linalg.lsqr(A, b, **kwargs)[:4]\n",
    "    if use_return_Lp:\n",
    "        if printing:\n",
    "            print(f\"linear solve complete!\\nthe number of iterations used for linear algebra solve: {istop=}\")\n",
    "            print(f\"returning Lp,ome: {Lp.shape=}, {ome.shape=}\")\n",
    "            print(f\"{np.min(L)=:7f},{np.max(L)=:7f}\")\n",
    "            print(f\"{np.min(ome)=:7f},{np.max(ome)=:7f}\")\n",
    "        return x,Lp,ome\n",
    "    else:\n",
    "        return x,None,None\n",
    "    "
   ]
  },
  {
   "cell_type": "code",
   "execution_count": null,
   "id": "35dc6a44",
   "metadata": {
    "ExecuteTime": {
     "end_time": "2023-01-14T00:56:11.570552Z",
     "start_time": "2023-01-14T00:56:11.539557Z"
    }
   },
   "outputs": [],
   "source": [
    "def comp_groundstate_eigenvector_sparse(E):\n",
    "    \"\"\"comp_groundstate_eigenvector_sparse \n",
    "    appears faster than banded solvers...\n",
    "    \n",
    "    Example Usage:\n",
    "lam,cnv = comp_groundstate_eigenvector_sparse(E)\n",
    "    \n",
    "    \"\"\"\n",
    "    # Eab = decomp_banded_matrix(E)\n",
    "    E_sparse=scipy.sparse.csc_matrix(E,dtype=float)\n",
    "    lam=np.zeros(4*nV)\n",
    "    lam[::4]=1.\n",
    "    b=lam\n",
    "    # num_steps=11\n",
    "    # for step in range(num_steps):\n",
    "    #     cnv=lam\n",
    "    #Q: what's the fastest way to compute x vs. x2 or x3\n",
    "    x2 =scipy.sparse.linalg.lsqr(E_sparse,b)[0] #lam=lam/E\n",
    "    # x3 =solveh_banded(Eab,b)#,lower=False)#,**kwargs) #lam =mldivide(lam,ab)\n",
    "    #Q: what's the fastest way to compute x vs. x2 or x3\n",
    "    # A: x2\n",
    "    lam=x2.copy()\n",
    "    # lam=x3.copy()\n",
    "    cnv=b.copy()\n",
    "    return lam,cnv"
   ]
  },
  {
   "cell_type": "code",
   "execution_count": null,
   "id": "c3b72710",
   "metadata": {
    "ExecuteTime": {
     "end_time": "2023-01-14T00:56:12.075639Z",
     "start_time": "2023-01-14T00:56:12.041786Z"
    }
   },
   "outputs": [],
   "source": [
    "def comp_groundstate_eigenvector_inverse(E,num_steps=11,printing=True):\n",
    "    \"\"\"computes lam = lam . Einv num_steps times.\n",
    "    comp_groundstate_eigenvector_inverse has a relatively slow run time...\n",
    "    \n",
    "    Example Usage:\n",
    "lam,cnv,Einv = comp_groundstate_eigenvector_inverse(E)\n",
    "res=(lam@E)/lam; \n",
    "print(f'mean: {np.mean(res):e}, var:  {np.var(res):e}, delta: {np.linalg.norm(cnv-lam):e}')\n",
    "    \"\"\"\n",
    "    #sparse soln:\n",
    "    # mean: -1.825385e-04, var:  1.688050e-04, delta: 2.156203e+05\n",
    "    # Q: how does lam look?\n",
    "    # A: great! \n",
    "    #banded soln: ?? second run time.... does it crash the kernel?\n",
    "    # mean: ??\n",
    "    # Q: how does lam look?\n",
    "    # A: ??\n",
    "    #omverse soln:\n",
    "    #3 minute runtime for 11 epochs\n",
    "    #isn't this supposed to be faster\n",
    "    #input: E,nV=E.shape[0]/4\n",
    "    #output: lam\n",
    "    lam=np.zeros(4*nV)\n",
    "    lam[::4]=1.\n",
    "    # lam[1::4]=1.\n",
    "    # lam[-1::4]=1.\n",
    "    # lam[3::4]=1.\n",
    "    # lam/=np.linalg.norm(lam)\n",
    "    # lam+=1.\n",
    "    #Q: is ^this right?\n",
    "    #Q is this better? \n",
    "    # ab = decomp_banded_matrix(E)\n",
    "    # ab = decomp_banded_matrix(E)\n",
    "    # E_sparse=scipy.sparse.csc_matrix(E,dtype=float)\n",
    "    Einv=np.linalg.inv(E)\n",
    "    for step in range(num_steps):\n",
    "        cnv=lam\n",
    "\n",
    "        lam = lam@Einv\n",
    "        #lam =scipy.sparse.linalg.lsqr(E_sparse,lam)[0] #lam=lam/E\n",
    "        #lam =solveh_banded(ab,lam)#,lower=False)#,**kwargs) #lam =mldivide(lam,ab)\n",
    "        lam/=np.linalg.norm(lam);\n",
    "        #print progress bar\n",
    "        if printing:\n",
    "            step+=1\n",
    "            if step%update_printbar_every==0:\n",
    "                printProgressBar(step+1, num_steps, prefix = 'Progress:', suffix = 'Complete', length = 50)\n",
    "    return lam,cnv,Einv"
   ]
  },
  {
   "cell_type": "code",
   "execution_count": null,
   "id": "50de10eb",
   "metadata": {},
   "outputs": [],
   "source": []
  },
  {
   "cell_type": "code",
   "execution_count": null,
   "id": "397318a5",
   "metadata": {},
   "outputs": [],
   "source": []
  },
  {
   "cell_type": "code",
   "execution_count": null,
   "id": "4ce5b921",
   "metadata": {
    "ExecuteTime": {
     "end_time": "2023-01-14T00:56:13.529206Z",
     "start_time": "2023-01-14T00:56:13.487719Z"
    }
   },
   "outputs": [],
   "source": [
    "#Q: is this the general identity map? \n",
    "#A: yes! yes, it is.\n",
    "def comp_trimesh_curvature(mesh,radius=1./(2.*np.pi)):\n",
    "    \"\"\"\n",
    "    Example Usage:\n",
    "rho = comp_trimesh_curvature(mesh,radius=1./(2.*np.pi))\n",
    "    \"\"\"\n",
    "    tria=mesh.faces\n",
    "    mean_curvature_values = trimesh.curvature.\\\n",
    "                            discrete_mean_curvature_measure(mesh, \n",
    "                                                            points=mesh.vertices, \n",
    "                                                            radius=radius)\n",
    "    # rho_vertex_values = mean_curvature_values/radius**2\n",
    "    rho_vertex_values = mean_curvature_values/radius**2/2\n",
    "    rho_vertex_values[tria].shape\n",
    "    #is this the identity map?\n",
    "    rho = np.mean(rho_vertex_values[tria],axis=1)\n",
    "    return rho"
   ]
  },
  {
   "cell_type": "code",
   "execution_count": null,
   "id": "ae8b47af",
   "metadata": {},
   "outputs": [],
   "source": []
  },
  {
   "cell_type": "code",
   "execution_count": null,
   "id": "8e68e758",
   "metadata": {
    "ExecuteTime": {
     "end_time": "2023-01-14T00:56:14.577171Z",
     "start_time": "2023-01-14T00:56:14.537679Z"
    }
   },
   "outputs": [],
   "source": [
    "##############################################\n",
    "# note directly used in final implentation\n",
    "##############################################"
   ]
  },
  {
   "cell_type": "code",
   "execution_count": null,
   "id": "61b7b495",
   "metadata": {
    "ExecuteTime": {
     "end_time": "2023-01-14T00:56:15.262180Z",
     "start_time": "2023-01-14T00:56:15.217612Z"
    }
   },
   "outputs": [],
   "source": [
    "from scipy.linalg import solveh_banded\n",
    "\n",
    "def decomp_banded_matrix(A):\n",
    "    \"\"\"A is an NxN matrix as a 2D numpy array. entries may be objects.\n",
    "    decomp_banded_matrix returns a 2D numpy array instance with D=the number of nontrivial bands.\n",
    "    \n",
    "    Example Usage:\n",
    "ab = decomp_banded_matrix(A)\n",
    "ab.shape\n",
    "    \"\"\"\n",
    "    D=np.max(np.count_nonzero(A,axis=1))\n",
    "    ab = np.zeros((D,A.shape[0]))\n",
    "    for i in np.arange(1,D):\n",
    "        ab[i,:] = np.concatenate((np.diag(A,k=i),np.zeros(i,)),axis=None)\n",
    "    ab[0,:] = np.diag(A,k=0)\n",
    "    return ab\n",
    "\n",
    "def mldivide_banded(ab,x,lower=True,**kwargs):\n",
    "    \"\"\"\n",
    "    Example Usage:\n",
    "#input: E,nV=E.shape[0]/4\n",
    "lam=np.zeros(4*nV)\n",
    "lam[::4]=1.\n",
    "# lam[1::4]=1.\n",
    "# lam[-1::4]=1.\n",
    "# lam[3::4]=1.\n",
    "lam/=np.linalg.norm(lam)\n",
    "# lam+=1.\n",
    "#Q: is ^this right?\n",
    "#Q is this better? \n",
    "ab = decomp_banded_matrix(E)\n",
    "for c1 in range(11):\n",
    "    cnv=lam\n",
    "    #lam=lam/E as ab\n",
    "    lam =solveh_banded(ab,lam,lower=lower,**kwargs) #lam =mldivide(lam,ab)\n",
    "    lam/=np.linalg.norm(lam);\n",
    "res=(lam@E)/lam; \n",
    "print(f'mean: {np.mean(res):e}, var:  {np.var(res):e}, delta: {np.linalg.norm(cnv-lam):e}')\n",
    "\n",
    "\n",
    "\n",
    "    \"\"\"\n",
    "    return solveh_banded(ab,x,lower=lower,**kwargs)\n",
    "\n",
    "def invh_banded(A, x):\n",
    "    N = np.shape(A)[0]\n",
    "    D = np.count_nonzero(A[0,:])\n",
    "    ab = np.zeros((D,N))\n",
    "    for i in np.arange(1,D):\n",
    "        ab[i,:] = np.concatenate((np.diag(A,k=i),np.zeros(i,)),axis=None)\n",
    "    ab[0,:] = np.diag(A,k=0)\n",
    "    y = solveh_banded(ab,x,lower=True)\n",
    "    return y\n",
    "\n",
    "# y=invh_banded(E, np.ones())\n",
    "\n",
    "# def invh_banded_simple(A, x):\n",
    "#     N = np.shape(A)[0]\n",
    "#     D = np.count_nonzero(A[0,:])\n",
    "#     ab = np.zeros((D,N))\n",
    "#     for i in np.arange(1,D):\n",
    "#         ab[i,:] = np.concatenate((np.diag(A,k=i),np.zeros(i,)),axis=None)\n",
    "#     ab[0,:] = np.diag(A,k=0)\n",
    "#     y = solveh_banded(ab,x,lower=True)\n",
    "#     return y"
   ]
  },
  {
   "cell_type": "code",
   "execution_count": null,
   "id": "6795a189",
   "metadata": {
    "ExecuteTime": {
     "start_time": "2023-01-12T01:10:31.138Z"
    }
   },
   "outputs": [],
   "source": []
  },
  {
   "cell_type": "code",
   "execution_count": null,
   "id": "b897440c",
   "metadata": {},
   "outputs": [],
   "source": []
  },
  {
   "cell_type": "code",
   "execution_count": null,
   "id": "292e7fc2",
   "metadata": {},
   "outputs": [],
   "source": []
  },
  {
   "cell_type": "code",
   "execution_count": null,
   "id": "344b54a5",
   "metadata": {
    "ExecuteTime": {
     "end_time": "2023-01-14T00:56:16.795627Z",
     "start_time": "2023-01-14T00:56:16.751020Z"
    }
   },
   "outputs": [],
   "source": [
    "def AddLegend(ax=None,xy = (1.04,1.04),fontsize=15,loc='upper left',frameon=False,**kwargs):\n",
    "    \"\"\"AddLegend adds a legend to a matplotlib plot.\n",
    "\n",
    "    Example Usage:\n",
    "ax = AddLegend()#ax=None,xy = (1.04,1.04),fontsize=15,loc='upper left',frameon=False,**kwargs)\n",
    "\n",
    "    Example Usage:\n",
    "#format_plot\n",
    "format_plot(xlabel='n',ylabel='Probability')\n",
    "ax = AddLegend(ax,fontsize=fontsize-3,xy = (0.96,0.96), loc='upper right',frameon=False)#,**kwargs)\n",
    "    \"\"\"\n",
    "    if ax is None:\n",
    "        ax = plt.gca()\n",
    "    return ax.legend(fontsize=fontsize,loc=loc, bbox_to_anchor = xy, frameon=frameon, **kwargs)\n",
    "\n",
    "def format_plot(ax=None,xlabel=None,ylabel=None,fontsize=20,use_loglog=False,xlim=None,ylim=None,use_bigticks=True,**kwargs):\n",
    "    '''format plot formats the matplotlib axis instance, ax,\n",
    "    performing routine formatting to the plot,\n",
    "    labeling the x axis by the string, xlabel and\n",
    "    labeling the y axis by the string, ylabel\n",
    "    '''\n",
    "    if not ax:\n",
    "        ax=plt.gca()\n",
    "    if use_loglog:\n",
    "        ax.set_xscale('log')\n",
    "        ax.set_yscale('log')\n",
    "    if xlabel:\n",
    "        ax.set_xlabel(xlabel,fontsize=fontsize,**kwargs)\n",
    "    if ylabel:\n",
    "        ax.set_ylabel(ylabel,fontsize=fontsize,**kwargs)\n",
    "    if use_bigticks:\n",
    "        ax.tick_params(axis='both', which='major', labelsize=fontsize,**kwargs)\n",
    "        ax.tick_params(axis='both', which='minor', labelsize=0,**kwargs)\n",
    "    if xlim:\n",
    "        ax.set_xlim(xlim)\n",
    "    if ylim:\n",
    "        ax.set_xlim(ylim)\n",
    "    return True"
   ]
  },
  {
   "cell_type": "markdown",
   "id": "3b9ba848",
   "metadata": {
    "heading_collapsed": true
   },
   "source": [
    "# deriving the half mean curvature density of the sphere\n",
    "then,\n",
    "- TODO: use trimesh to estimate the half mean curvature density of a triangular mesh in the shape of a sphere.\n",
    "- HINT: use the known spherical case as numerical reference point.\n"
   ]
  },
  {
   "cell_type": "markdown",
   "id": "a6e66b68",
   "metadata": {
    "hidden": true
   },
   "source": [
    "$$\\rho(x) =? 2*H_f(x;V,T) =? 2/r =? 2$$"
   ]
  },
  {
   "cell_type": "markdown",
   "id": "aed8700e",
   "metadata": {
    "hidden": true
   },
   "source": [
    "$1+1$"
   ]
  },
  {
   "cell_type": "code",
   "execution_count": null,
   "id": "2a051843",
   "metadata": {
    "ExecuteTime": {
     "end_time": "2023-01-13T04:34:56.867858Z",
     "start_time": "2023-01-13T04:34:56.825938Z"
    },
    "hidden": true
   },
   "outputs": [],
   "source": [
    "# mesh.crc\n",
    "# mesh.edges_unique_inverse\n",
    "mesh"
   ]
  },
  {
   "cell_type": "code",
   "execution_count": null,
   "id": "50864d1c",
   "metadata": {
    "ExecuteTime": {
     "end_time": "2023-01-13T04:40:10.325037Z",
     "start_time": "2023-01-13T04:40:06.791737Z"
    },
    "hidden": true
   },
   "outputs": [],
   "source": [
    "# !pip install rtree"
   ]
  },
  {
   "cell_type": "code",
   "execution_count": null,
   "id": "5f4471ec",
   "metadata": {
    "ExecuteTime": {
     "end_time": "2023-01-14T00:32:52.923705Z",
     "start_time": "2023-01-14T00:32:52.615846Z"
    },
    "hidden": true
   },
   "outputs": [],
   "source": [
    "step=0\n",
    "printing=True\n",
    "update_printbar_every=2\n",
    "radius_set_values=np.arange(1e-3,1,5e-3)\n",
    "num_steps = radius_set_values.shape[0]\n",
    "mean_curvature_values_lst=[]\n",
    "for radius in radius_set_values:\n",
    "    mean_curvature_values = trimesh.curvature.\\\n",
    "                        discrete_mean_curvature_measure(mesh, \n",
    "                                                        points=mesh.vertices, \n",
    "                                                        radius=radius)\n",
    "    #record\n",
    "    mean_curvature_values_lst.append(mean_curvature_values)\n",
    "    #print progress bar\n",
    "    if printing:\n",
    "        step+=1\n",
    "        if step%update_printbar_every==0:\n",
    "            printProgressBar(step+1, num_steps, prefix = 'Progress:', suffix = 'Complete', length = 50)\n",
    "mean_curvature_values.shape,len(mean_curvature_values_lst)"
   ]
  },
  {
   "cell_type": "code",
   "execution_count": null,
   "id": "1fadbc39",
   "metadata": {
    "ExecuteTime": {
     "end_time": "2023-01-13T05:09:15.056845Z",
     "start_time": "2023-01-13T05:09:15.005842Z"
    },
    "hidden": true
   },
   "outputs": [],
   "source": [
    "# H_lst = [np.mean(X) for X in mean_curvature_values_lst]\n",
    "H_values = np.array([np.mean(X) for X in mean_curvature_values_lst])"
   ]
  },
  {
   "cell_type": "code",
   "execution_count": null,
   "id": "0334dd44",
   "metadata": {
    "ExecuteTime": {
     "end_time": "2023-01-13T05:12:59.905561Z",
     "start_time": "2023-01-13T05:12:59.705461Z"
    },
    "hidden": true
   },
   "outputs": [],
   "source": [
    "plt.plot(2*H_values,2*np.pi*radius_set_values**2)\n",
    "format_plot(xlabel=r\"$rho=2H_{mean}$\",ylabel=r'$2\\pi R^2_{sphere}$')\n",
    "plt.xlim([0,6])\n",
    "plt.ylim([0,6])\n",
    "plt.show()"
   ]
  },
  {
   "cell_type": "code",
   "execution_count": null,
   "id": "996f1794",
   "metadata": {
    "hidden": true
   },
   "outputs": [],
   "source": []
  },
  {
   "cell_type": "code",
   "execution_count": null,
   "id": "b29a45ec",
   "metadata": {
    "ExecuteTime": {
     "end_time": "2023-01-13T05:19:20.051574Z",
     "start_time": "2023-01-13T05:19:19.999014Z"
    },
    "hidden": true
   },
   "outputs": [],
   "source": [
    "mesh.vertices -= mesh.center_mass\n",
    "R = np.linalg.norm(np.mean(mesh.vertices**2,axis=0))\n",
    "rhobar = np.pi*R**2/2\n",
    "print(f\"{rhobar=}\")\n",
    "#likely more stable and generalizes\n",
    "rho = 0.5*H_values # (2.*np.pi*R**2)\n",
    "print(f\"{np.mean(rho)=}\")"
   ]
  },
  {
   "cell_type": "code",
   "execution_count": null,
   "id": "77414866",
   "metadata": {
    "ExecuteTime": {
     "end_time": "2023-01-13T05:39:58.824670Z",
     "start_time": "2023-01-13T05:39:55.997265Z"
    },
    "hidden": true
   },
   "outputs": [],
   "source": [
    "#is this the general identity map? \n",
    "radius=1./(2.*np.pi)\n",
    "mean_curvature_values = trimesh.curvature.\\\n",
    "                        discrete_mean_curvature_measure(mesh, \n",
    "                                                        points=mesh.vertices, \n",
    "                                                        radius=radius)\n",
    "rho = mean_curvature_values/radius**2"
   ]
  },
  {
   "cell_type": "code",
   "execution_count": null,
   "id": "dce429de",
   "metadata": {
    "ExecuteTime": {
     "end_time": "2023-01-13T04:30:55.420243Z",
     "start_time": "2023-01-13T04:30:55.377853Z"
    },
    "hidden": true
   },
   "outputs": [],
   "source": [
    "# mesh.mass_properties"
   ]
  },
  {
   "cell_type": "code",
   "execution_count": null,
   "id": "8d79b83c",
   "metadata": {
    "hidden": true
   },
   "outputs": [],
   "source": []
  },
  {
   "cell_type": "code",
   "execution_count": null,
   "id": "3e5631b7",
   "metadata": {
    "hidden": true
   },
   "outputs": [],
   "source": []
  },
  {
   "cell_type": "code",
   "execution_count": null,
   "id": "63739a40",
   "metadata": {
    "hidden": true
   },
   "outputs": [],
   "source": []
  },
  {
   "cell_type": "code",
   "execution_count": null,
   "id": "0ef8ba54",
   "metadata": {
    "ExecuteTime": {
     "end_time": "2023-01-13T02:57:16.952655Z",
     "start_time": "2023-01-13T02:57:16.920927Z"
    },
    "hidden": true
   },
   "outputs": [],
   "source": [
    "# np.shape(E)"
   ]
  },
  {
   "cell_type": "markdown",
   "id": "096c9e5c",
   "metadata": {},
   "source": [
    "# load example triangle mesh endowed with scalar curvture field"
   ]
  },
  {
   "cell_type": "code",
   "execution_count": null,
   "id": "072a1491",
   "metadata": {
    "ExecuteTime": {
     "end_time": "2023-01-14T00:56:27.883827Z",
     "start_time": "2023-01-14T00:56:27.832675Z"
    }
   },
   "outputs": [],
   "source": [
    "root_dir = '/'.join(nb_dir.split('/')[:3])\n",
    "# mesh_folder = f\"{root_dir}/Documents/MATLAB/spin/res\"\n",
    "mesh_folder = f\"{root_dir}/Documents/meshes/res\"\n",
    "os.chdir(mesh_folder)\n",
    "for fn in sorted(os.listdir()):\n",
    "    pass\n",
    "fn"
   ]
  },
  {
   "cell_type": "code",
   "execution_count": null,
   "id": "018a81a2",
   "metadata": {
    "ExecuteTime": {
     "end_time": "2023-01-14T00:56:28.527380Z",
     "start_time": "2023-01-14T00:56:28.486723Z"
    },
    "run_control": {
     "marked": true
    }
   },
   "outputs": [],
   "source": [
    "fn='sphere.mat'"
   ]
  },
  {
   "cell_type": "code",
   "execution_count": null,
   "id": "b0fcfb0d",
   "metadata": {
    "ExecuteTime": {
     "end_time": "2023-01-10T20:14:14.792040Z",
     "start_time": "2023-01-10T20:14:14.772042Z"
    }
   },
   "outputs": [],
   "source": []
  },
  {
   "cell_type": "code",
   "execution_count": null,
   "id": "fe16f32f",
   "metadata": {
    "ExecuteTime": {
     "end_time": "2023-01-14T00:56:29.641640Z",
     "start_time": "2023-01-14T00:56:29.588840Z"
    }
   },
   "outputs": [],
   "source": [
    "#load example mesh with custom curvature field\n",
    "mat = sio.loadmat(fn)\n",
    "# tria,vert,rho = mat['model'][0,0]\n",
    "vert,tria,rho = mat['model'][0,0]\n",
    "rho = rho.T.flatten()\n",
    "dtype='float64'\n",
    "# dtype='float128' #does not support np.linalg.inv...\n",
    "#use more expensive data types\n",
    "#(~5 min run time with '<f8')\n",
    "vert=vert.astype(dtype)\n",
    "rho=rho.astype(dtype)\n",
    "\n",
    "\n",
    "rho*=4.\n",
    "# rho0=rho.copy()\n",
    "\n",
    "np.min(tria),np.max(tria),tria.shape,rho.shape"
   ]
  },
  {
   "cell_type": "code",
   "execution_count": null,
   "id": "d2522573",
   "metadata": {
    "ExecuteTime": {
     "end_time": "2023-01-14T00:56:30.436677Z",
     "start_time": "2023-01-14T00:56:30.398830Z"
    }
   },
   "outputs": [],
   "source": [
    "# rho*=0.\n",
    "# # rho+=0.5"
   ]
  },
  {
   "cell_type": "code",
   "execution_count": null,
   "id": "70bcad90",
   "metadata": {
    "ExecuteTime": {
     "end_time": "2023-01-14T00:56:30.988558Z",
     "start_time": "2023-01-14T00:56:30.948436Z"
    }
   },
   "outputs": [],
   "source": [
    "# rho=0.5*H_values\n",
    "# rho.shape"
   ]
  },
  {
   "cell_type": "code",
   "execution_count": null,
   "id": "ccccfa8d",
   "metadata": {
    "ExecuteTime": {
     "end_time": "2023-01-14T00:56:31.602441Z",
     "start_time": "2023-01-14T00:56:31.347870Z"
    }
   },
   "outputs": [],
   "source": [
    "\n",
    "# vert = vert.T.copy()-1 #correct for matlab's 1 indexing\n",
    "# tria = tria.T.copy()\n",
    "tria = tria.T.copy()-1 #correct for matlab's 1 indexing\n",
    "vert = vert.T.copy()\n",
    "use_whiten_mesh=False\n",
    "if use_whiten_mesh:\n",
    "    #optionally whiten the mesh\n",
    "    vert -= np.mean(vert,axis=0)\n",
    "    vert /= np.std(vert,axis=0)#.show()\n",
    "# plt.scatter(x=tria[:,0],y=tria[:,1])\n",
    "plt.scatter(x=vert[:,0],y=vert[:,2])#,c=rho,cmap='jet')\n",
    "plt.show()\n",
    "# vert.shape,tria.shape,rho.shape,np.max(vert)\n",
    "tria.shape,rho.shape,vert.shape"
   ]
  },
  {
   "cell_type": "code",
   "execution_count": null,
   "id": "955a7356",
   "metadata": {
    "ExecuteTime": {
     "end_time": "2023-01-14T00:33:16.898037Z",
     "start_time": "2023-01-14T00:33:16.857391Z"
    }
   },
   "outputs": [],
   "source": []
  },
  {
   "cell_type": "code",
   "execution_count": null,
   "id": "a14cbd08",
   "metadata": {},
   "outputs": [],
   "source": []
  },
  {
   "cell_type": "code",
   "execution_count": null,
   "id": "928f0870",
   "metadata": {
    "ExecuteTime": {
     "end_time": "2023-01-14T00:56:33.609302Z",
     "start_time": "2023-01-14T00:56:33.567400Z"
    }
   },
   "outputs": [],
   "source": [
    "colors = get_colors_trimesh(rho, plt.cm.jet)\n",
    "\n",
    "\n",
    "# # if colormap is None:\n",
    "# colormap = plt.cm.jet\n",
    "# norm = plt.Normalize(vmin=None, vmax=None)\n",
    "# colors = colormap(norm(rho))\n",
    "# # (255*colors/np.max(colors)).astype('uint8')[:,0,:]\n",
    "# colors = (255*colors/np.max(colors)).astype('uint8')#[:,0:]\n"
   ]
  },
  {
   "cell_type": "code",
   "execution_count": null,
   "id": "1ceb36f8",
   "metadata": {},
   "outputs": [],
   "source": []
  },
  {
   "cell_type": "code",
   "execution_count": null,
   "id": "024d97c6",
   "metadata": {
    "ExecuteTime": {
     "end_time": "2023-01-03T17:22:52.582636Z",
     "start_time": "2023-01-03T17:22:52.541230Z"
    }
   },
   "outputs": [],
   "source": []
  },
  {
   "cell_type": "code",
   "execution_count": null,
   "id": "10350519",
   "metadata": {
    "ExecuteTime": {
     "end_time": "2023-01-14T00:56:35.731320Z",
     "start_time": "2023-01-14T00:56:35.686862Z"
    }
   },
   "outputs": [],
   "source": [
    "# initialize mesh colored by rho\n",
    "mesh = trimesh.Trimesh(vertices=vert,faces=tria,\n",
    "                       face_colors=colors,\n",
    "                       face_attributes={'rho':rho})"
   ]
  },
  {
   "cell_type": "code",
   "execution_count": null,
   "id": "9d9bdace",
   "metadata": {
    "ExecuteTime": {
     "end_time": "2023-01-14T00:56:45.603154Z",
     "start_time": "2023-01-14T00:56:45.495206Z"
    }
   },
   "outputs": [],
   "source": [
    "# the convex hull is another Trimesh object that is available as a property\n",
    "# lets compare the volume of our mesh with the volume of its convex hull\n",
    "print(f\"{mesh.volume / mesh.convex_hull.volume=:.7f}\")\n",
    "# # since the mesh is watertight, it means there is a\n",
    "# # volumetric center of mass which we can set as the origin for our mesh\n",
    "print(f\"{mesh.center_mass=}\")\n",
    "# mesh.vertices -= mesh.center_mass\n",
    "print(f\"{mesh.center_mass=}\")\n",
    "# what's the moment of inertia for the mesh?\n",
    "print(f\"{mesh.moment_inertia=}\")\n",
    "\n",
    "# # if there are multiple bodies in the mesh we can split the mesh by\n",
    "# # connected components of face adjacency\n",
    "# # since this example mesh is a single watertight body we get a list of one mesh\n",
    "# mesh.split()\n",
    "\n",
    "# axis aligned bounding box is available\n",
    "print(f\"{mesh.bounding_box.extents=}\")"
   ]
  },
  {
   "cell_type": "code",
   "execution_count": null,
   "id": "7cfc0507",
   "metadata": {
    "ExecuteTime": {
     "end_time": "2023-01-14T00:58:59.099344Z",
     "start_time": "2023-01-14T00:58:56.504486Z"
    }
   },
   "outputs": [],
   "source": [
    "rho0 = comp_trimesh_curvature(mesh,radius=1./(2.*np.pi))\n"
   ]
  },
  {
   "cell_type": "code",
   "execution_count": null,
   "id": "de37439e",
   "metadata": {
    "ExecuteTime": {
     "end_time": "2023-01-14T00:58:59.149165Z",
     "start_time": "2023-01-14T00:58:59.101184Z"
    }
   },
   "outputs": [],
   "source": [
    "# trivial setting:\n",
    "rho = rho0"
   ]
  },
  {
   "cell_type": "code",
   "execution_count": null,
   "id": "e1fca7c8",
   "metadata": {
    "ExecuteTime": {
     "end_time": "2023-01-14T00:36:20.880877Z",
     "start_time": "2023-01-14T00:36:20.836623Z"
    }
   },
   "outputs": [],
   "source": [
    "# #Q: does dividing rho by the identity rho0 change the shape of the result?\n",
    "# #A: no. also, it has the same percent contraction as the original rho\n",
    "# rho /= rho0\n",
    "# rho.shape"
   ]
  },
  {
   "cell_type": "code",
   "execution_count": null,
   "id": "7bd473d0",
   "metadata": {
    "ExecuteTime": {
     "end_time": "2023-01-13T06:00:32.508451Z",
     "start_time": "2023-01-13T06:00:32.468441Z"
    },
    "run_control": {
     "marked": true
    }
   },
   "outputs": [],
   "source": [
    "# # #color vertices manually\n",
    "# # for i,c in enumerate(vertex_colors):\n",
    "# #     mesh.visual.vertex_colors[i]=c\n",
    "# # mesh.visual.vertex_colors\n",
    "# # #randomize face colors\n",
    "# for face in mesh.faces:\n",
    "#     mesh.visual.vertex_colors[face] = colors[face]\n",
    "# for facet in mesh.facets:\n",
    "#     mesh.visual.vertex_colors[facet] = trimesh.visual.random_color()\n",
    "# mesh.show()"
   ]
  },
  {
   "cell_type": "code",
   "execution_count": null,
   "id": "847ae3ff",
   "metadata": {
    "ExecuteTime": {
     "end_time": "2023-01-13T06:00:32.991122Z",
     "start_time": "2023-01-13T06:00:32.950971Z"
    }
   },
   "outputs": [],
   "source": [
    "# #plot an image on the mesh\n",
    "# m = mesh\n",
    "# uv = np.random.rand(m.vertices.shape[0], 2)\n",
    "# # im = np.random.rand(m.vertices.shape[0], m.vertices.shape[0])\n",
    "# im = np.random.rand(200,200)\n",
    "# material = trimesh.visual.texture.SimpleMaterial(image=im)\n",
    "# color_visuals = trimesh.visual.TextureVisuals(uv=uv, image=im, material=material)\n",
    "# mesh=trimesh.Trimesh(vertices=m.vertices, faces=m.faces, visual=color_visuals, validate=True, process=False)\n",
    "# mesh.show()"
   ]
  },
  {
   "cell_type": "code",
   "execution_count": null,
   "id": "3745fddb",
   "metadata": {
    "ExecuteTime": {
     "end_time": "2023-01-13T06:00:33.434686Z",
     "start_time": "2023-01-13T06:00:33.390182Z"
    }
   },
   "outputs": [],
   "source": [
    "# # transform method can be passed a (4, 4) matrix and will cleanly apply the transform\n",
    "# mesh.apply_transform(trimesh.transformations.random_rotation_matrix())\n",
    "\n",
    "# # a minimum volume oriented bounding box also available\n",
    "# # primitives are subclasses of Trimesh objects which automatically generate\n",
    "# # faces and vertices from data stored in the 'primitive' attribute\n",
    "# print(f\"{mesh.bounding_box_oriented.primitive.extents=}\")\n",
    "# print(f\"{mesh.bounding_box_oriented.primitive.transform=}\")\n",
    "\n",
    "# # bounding spheres and bounding cylinders of meshes are also\n",
    "# # available, and will be the minimum volume version of each\n",
    "# # except in certain degenerate cases, where they will be no worse\n",
    "# # than a least squares fit version of the primitive.\n",
    "# print(f\"\"\"{mesh.bounding_box_oriented.volume=},\n",
    "#       {mesh.bounding_cylinder.volume=},\n",
    "#       {mesh.bounding_sphere.volume=}\"\"\")\n",
    "\n",
    "# # show the mesh appended with its oriented bounding box\n",
    "# # the bounding box is a trimesh.primitives.Box object, which subclasses\n",
    "# # Trimesh and lazily evaluates to fill in vertices and faces when requested\n",
    "# # (press w in viewer to see triangles)\n",
    "# # (mesh + mesh.bounding_box_oriented).show()\n",
    "# mesh.show()\n"
   ]
  },
  {
   "cell_type": "code",
   "execution_count": null,
   "id": "fa6b397a",
   "metadata": {
    "ExecuteTime": {
     "end_time": "2023-01-13T06:00:33.896092Z",
     "start_time": "2023-01-13T06:00:33.854214Z"
    }
   },
   "outputs": [],
   "source": [
    "#view the mesh\n",
    "# mesh.show()\n",
    "\n",
    "#view the mesh\n",
    "# scene = trimesh.scene.Scene(mesh)\n",
    "# trimesh.viewer.notebook.scene_to_notebook(scene=scene, height=200)"
   ]
  },
  {
   "cell_type": "code",
   "execution_count": null,
   "id": "66abb01a",
   "metadata": {
    "ExecuteTime": {
     "end_time": "2023-01-14T00:40:33.273877Z",
     "start_time": "2023-01-14T00:40:33.221051Z"
    }
   },
   "outputs": [],
   "source": [
    "#print mesh bluf\n",
    "print(f\"{mesh.volume=}\")\n",
    "print(f\"{mesh.center_mass=}\")\n",
    "print(f\"{mesh.is_watertight=} (is the current mesh watertight?)\")\n",
    "print(f\"{mesh.euler_number=} (what's the euler number for the mesh?)\")"
   ]
  },
  {
   "cell_type": "code",
   "execution_count": null,
   "id": "eb492952",
   "metadata": {
    "ExecuteTime": {
     "end_time": "2023-01-14T00:40:33.868684Z",
     "start_time": "2023-01-14T00:40:33.824762Z"
    }
   },
   "outputs": [],
   "source": [
    "volume_initial = mesh.volume#=4.182994798204928\n",
    "print(f\"{volume_initial=} voxels\")"
   ]
  },
  {
   "cell_type": "markdown",
   "id": "e94d40da",
   "metadata": {},
   "source": [
    "# scratchwerk?"
   ]
  },
  {
   "cell_type": "markdown",
   "id": "0b7f8aef",
   "metadata": {
    "heading_collapsed": true
   },
   "source": [
    "## DONT: generate smaller mesh for dev of real eigensolving\n",
    "- note: this mesh is singular..."
   ]
  },
  {
   "cell_type": "code",
   "execution_count": null,
   "id": "0c3b8c0a",
   "metadata": {
    "ExecuteTime": {
     "end_time": "2023-01-13T06:00:36.265178Z",
     "start_time": "2023-01-13T06:00:36.222452Z"
    },
    "hidden": true
   },
   "outputs": [],
   "source": [
    "# # vert = trimesh.sample.sample_surface_sphere(100)\n",
    "\n",
    "# radius=1.0\n",
    "# mesh = trimesh.creation.uv_sphere(\n",
    "#     radius=radius,\n",
    "#     count=[5, 5],)\n",
    "# #     count=[10, 10],)\n",
    "# #     count=[32, 32],)\n",
    "# mesh.center_mass\n",
    "\n",
    "# cscale=5\n",
    "# #caste discrete unit sphere to numpy\n",
    "# vert = np.array(mesh.vertices)\n",
    "# tria = np.array(mesh.faces)\n",
    "# rho  = tria[:,0]*0.+1./(2.*radius)\n",
    "# #randomize the target curvatrue\n",
    "# np.random.seed(42)\n",
    "# rho *= cscale*np.random.rand(*rho.shape)\n",
    "# rho.shape\n",
    "\n",
    "# colors = get_colors_trimesh(rho, plt.cm.jet)\n",
    "# # colors[colors==0]=1\n",
    "\n",
    "# # initialize mesh colored by rho\n",
    "# mesh = trimesh.Trimesh(vertices=vert,faces=tria,\n",
    "#                        face_colors=colors,\n",
    "#                        face_attributes={'rho':rho})\n",
    "\n",
    "# # mesh.show()"
   ]
  },
  {
   "cell_type": "markdown",
   "id": "04d1fadb",
   "metadata": {
    "heading_collapsed": true
   },
   "source": [
    "## DONT(later, after mvp): dev implementation using numpy-quaternion package\n",
    "- it is difficult to do this with numpy-quaternion?\n",
    "- Q: does quaternionic package handle matrix inverses?"
   ]
  },
  {
   "cell_type": "code",
   "execution_count": null,
   "id": "3ea0be2c",
   "metadata": {
    "ExecuteTime": {
     "end_time": "2023-01-13T02:57:18.315121Z",
     "start_time": "2023-01-13T02:57:18.282880Z"
    },
    "hidden": true
   },
   "outputs": [],
   "source": [
    "# import quaternionic\n",
    "# import quaternion"
   ]
  },
  {
   "cell_type": "code",
   "execution_count": null,
   "id": "16e7c186",
   "metadata": {
    "ExecuteTime": {
     "end_time": "2023-01-13T02:57:18.444776Z",
     "start_time": "2023-01-13T02:57:18.397726Z"
    },
    "hidden": true
   },
   "outputs": [],
   "source": [
    "# # function V=spin(T,V,rho)\n",
    "# # % input: T (3xN) and V (3xM) so that\n",
    "# # %  trimesh(T',V(1,:),V(2,:),V(3,:)) plots the triangular mesh,\n",
    "# # %  rho (1xN) values of conformal scaling\n",
    "# # % output: V (3xM) vertices of transformed mesh\n",
    "# #input: T,V,rho\n",
    "\n",
    "# T = tria\n",
    "# V = vert\n",
    "# #input: T,V,rho\n",
    "# #output: V or V_out,ome_out\n",
    "\n",
    "# nT=T.shape[0]\n",
    "# nV=V.shape[0]\n",
    "# # plc=list(range(-3,1))\n",
    "# # plc=np.array(list(range(-3,1)))\n",
    "# #initialize virtual memory\n",
    "# # E = scipy.sparse.csc_matrix((4*nV,4*nV), dtype=V.dtype)\n",
    "# # E = scipy.sparse.csr_matrix((4*nV,4*nV), dtype=V.dtype)\n",
    "# # E = scipy.sparse.bsr_matrix((4*nV,4*nV), dtype=V.dtype)\n",
    "# # E = np.zeros((4*nV,4*nV), dtype=V.dtype)\n",
    "# #Q: which is faster? csr or bsr or csc?\n",
    "# # E = np.zeros((nV,nV), dtype=V.dtype)\n",
    "# # E = np.zeros((nV,nV,4), dtype=np.quaternion)\n",
    "# E = np.zeros((nV,nV), dtype=np.quaternion)\n",
    "\n",
    "# edg=np.zeros(shape=(3,4))\n",
    "# # pnty = np.zeros(4)\n",
    "# pntz = np.zeros(4)\n",
    "# # ini=np.zeros(shape=(3,4),dtype='int64')\n",
    "# # ini=np.zeros(shape=(4,3),dtype='int64')\n",
    "# edgy=np.zeros(shape=(3,4),dtype=V.dtype)\n",
    "# E.dtype,edg.dtype,pnty,pntz,edgy.shape,edgy.dtype"
   ]
  },
  {
   "cell_type": "code",
   "execution_count": null,
   "id": "587b589c",
   "metadata": {
    "ExecuteTime": {
     "end_time": "2023-01-13T02:57:18.579064Z",
     "start_time": "2023-01-13T02:57:18.534060Z"
    },
    "hidden": true
   },
   "outputs": [],
   "source": [
    "# for c1 in range(nT):\n",
    "#     tri = T[c1]\n",
    "#     pnt=V[tri]\n",
    "#     #compute triangle area\n",
    "#     A = 0.5*np.linalg.norm(np.cross(pnt[1]-pnt[0], pnt[2]-pnt[0]))\n",
    "#     a = -0.25/A  # a=-1/(4*A)\n",
    "#     #compute target curvature component\n",
    "#     r = rho[c1]\n",
    "#     b = r/6. #  b=rho(c1)/6;\n",
    "#     # pnty[0]=A*r**2/9.\n",
    "#     # c = jiH(pnty) #c=jiH([A*rho(c1)*rho(c1)/9 0 0 0]);\n",
    "#     # c = np.quaternion(pnty)\n",
    "#     c = np.quaternion(A*r**2/9.)\n",
    "#     for c2 in range(3):\n",
    "#         #Q: is this value right?\n",
    "#         # V[tri[(c2+1)%3+1]] - V[tri[(c2+0)%3+1]]\n",
    "#         pntz[1:] = V[tri[(c2+1)%3]] - V[tri[(c2+0)%3]]\n",
    "#         edg[c2]  = pntz.copy()\n",
    "#         # edg[c2]  = [0;V(:, tri(mod(c2+1,3)+1) )-V(:, tri(mod(c2+0,3)+1) )]\n",
    "#     wooo = np.array([[\n",
    "#         np.quaternion(*(a*jiH(edg[0])@edg[0]))+c, \n",
    "#         np.quaternion(*(a*jiH(edg[0])@edg[1]  + b*(edg[1]-edg[0])))+c, \n",
    "#         np.quaternion(*(a*jiH(edg[0])@edg[2]  + b*(edg[2]-edg[0])))+c], [\n",
    "#         np.quaternion(*(a*jiH(edg[1])@edg[0]  + b*(edg[0]-edg[1])))+c, \n",
    "#         np.quaternion(*(a*jiH(edg[1])@edg[1]))+c,\n",
    "#         np.quaternion(*(a*jiH(edg[1])@edg[2]  + b*(edg[2]-edg[1])))+c], [\n",
    "#         np.quaternion(*(a*jiH(edg[2])@edg[0]  + b*(edg[0]-edg[2])))+c, \n",
    "#         np.quaternion(*(a*jiH(edg[2])@edg[1]  + b*(edg[1]-edg[2])))+c, \n",
    "#         np.quaternion(*(a*jiH(edg[2])@edg[2]))+c\n",
    "#     ]])\n",
    "#     E[np.ix_(tri,tri)] = E[np.ix_(tri,tri)] + wooo"
   ]
  },
  {
   "cell_type": "code",
   "execution_count": null,
   "id": "cd80203c",
   "metadata": {
    "ExecuteTime": {
     "end_time": "2023-01-13T02:57:18.699247Z",
     "start_time": "2023-01-13T02:57:18.658723Z"
    },
    "hidden": true
   },
   "outputs": [],
   "source": [
    "# q^{-1}=q'/(q*q')\n"
   ]
  },
  {
   "cell_type": "code",
   "execution_count": null,
   "id": "a284ca1d",
   "metadata": {
    "ExecuteTime": {
     "end_time": "2023-01-13T02:57:18.808031Z",
     "start_time": "2023-01-13T02:57:18.765125Z"
    },
    "hidden": true
   },
   "outputs": [],
   "source": [
    "# (E.T*E)"
   ]
  },
  {
   "cell_type": "code",
   "execution_count": null,
   "id": "539f5adf",
   "metadata": {
    "ExecuteTime": {
     "end_time": "2023-01-13T02:57:18.923704Z",
     "start_time": "2023-01-13T02:57:18.881418Z"
    },
    "hidden": true
   },
   "outputs": [],
   "source": [
    "# quaternion.quaternion."
   ]
  },
  {
   "cell_type": "code",
   "execution_count": null,
   "id": "a0e8e24a",
   "metadata": {
    "ExecuteTime": {
     "end_time": "2023-01-13T02:57:19.042585Z",
     "start_time": "2023-01-13T02:57:18.996391Z"
    },
    "hidden": true
   },
   "outputs": [],
   "source": [
    "# quaternion.quaternion_time_series.\n",
    "# quaternion.means?"
   ]
  },
  {
   "cell_type": "code",
   "execution_count": null,
   "id": "9b97cc01",
   "metadata": {
    "ExecuteTime": {
     "end_time": "2023-01-13T02:57:19.176566Z",
     "start_time": "2023-01-13T02:57:19.123190Z"
    },
    "hidden": true
   },
   "outputs": [],
   "source": [
    "# # quaternion.quaternion.inverse(E)\n",
    "# (quaternion.as_spinor_array(np.quaternion(1,0,0,0)),\n",
    "#     quaternion.as_spinor_array(np.quaternion(0,1,0,0)),\n",
    "#     quaternion.as_spinor_array(np.quaternion(0,0,1,0)),\n",
    "#     quaternion.as_spinor_array(np.quaternion(0,0,0,1)))"
   ]
  },
  {
   "cell_type": "code",
   "execution_count": null,
   "id": "a14d17e7",
   "metadata": {
    "ExecuteTime": {
     "end_time": "2023-01-13T02:57:19.300908Z",
     "start_time": "2023-01-13T02:57:19.252498Z"
    },
    "hidden": true
   },
   "outputs": [],
   "source": [
    "#TODO: get the real case working...\n",
    "#TODO: map float array to nV*2xnV*2 complex array and take the eigen decomposition.\n",
    "# quaternion.as_float_array(E)"
   ]
  },
  {
   "cell_type": "code",
   "execution_count": null,
   "id": "34914e55",
   "metadata": {
    "ExecuteTime": {
     "end_time": "2023-01-02T23:26:21.580523Z",
     "start_time": "2023-01-02T23:26:21.532235Z"
    },
    "hidden": true
   },
   "outputs": [],
   "source": []
  },
  {
   "cell_type": "code",
   "execution_count": null,
   "id": "99d5eaa5",
   "metadata": {
    "ExecuteTime": {
     "end_time": "2023-01-13T02:57:19.554035Z",
     "start_time": "2023-01-13T02:57:19.507616Z"
    },
    "hidden": true
   },
   "outputs": [],
   "source": [
    "# E.astype(np.complex64)"
   ]
  },
  {
   "cell_type": "code",
   "execution_count": null,
   "id": "4a58234d",
   "metadata": {
    "ExecuteTime": {
     "end_time": "2023-01-13T02:57:19.671755Z",
     "start_time": "2023-01-13T02:57:19.629077Z"
    },
    "hidden": true
   },
   "outputs": [],
   "source": [
    "# quaternion.as_spinor_array(E).shape"
   ]
  },
  {
   "cell_type": "code",
   "execution_count": null,
   "id": "0133e7bf",
   "metadata": {
    "ExecuteTime": {
     "end_time": "2023-01-13T02:57:19.790378Z",
     "start_time": "2023-01-13T02:57:19.748102Z"
    },
    "hidden": true
   },
   "outputs": [],
   "source": [
    "# np.linalg.inv(quaternion.as_spinor_array(E))"
   ]
  },
  {
   "cell_type": "code",
   "execution_count": null,
   "id": "56327eda",
   "metadata": {
    "ExecuteTime": {
     "end_time": "2023-01-13T02:57:19.910379Z",
     "start_time": "2023-01-13T02:57:19.865502Z"
    },
    "hidden": true
   },
   "outputs": [],
   "source": [
    "# (E/E).shape"
   ]
  },
  {
   "cell_type": "code",
   "execution_count": null,
   "id": "c9506dc3",
   "metadata": {
    "ExecuteTime": {
     "end_time": "2023-01-13T02:57:20.038177Z",
     "start_time": "2023-01-13T02:57:19.993083Z"
    },
    "hidden": true
   },
   "outputs": [],
   "source": [
    "# #Q: does this work as a fast matrix inverse?\n",
    "# q_identity = E/E\n",
    "# boon=np.isnan(q_identity)\n",
    "# q_identity[boon]=0*E[boon]\n",
    "# q_identity[0][:3]"
   ]
  },
  {
   "cell_type": "code",
   "execution_count": null,
   "id": "57839bea",
   "metadata": {
    "ExecuteTime": {
     "end_time": "2023-01-13T02:57:20.169233Z",
     "start_time": "2023-01-13T02:57:20.124403Z"
    },
    "hidden": true
   },
   "outputs": [],
   "source": [
    "# # boo_nan = np.isnan(q_identity[0][3:])\n",
    "# boo_nan = np.isnan(q_identity[100])\n",
    "# np.argwhere(boo_nan).all()"
   ]
  },
  {
   "cell_type": "code",
   "execution_count": null,
   "id": "89077567",
   "metadata": {
    "hidden": true
   },
   "outputs": [],
   "source": []
  },
  {
   "cell_type": "code",
   "execution_count": null,
   "id": "297ceded",
   "metadata": {
    "ExecuteTime": {
     "end_time": "2023-01-13T02:57:20.403023Z",
     "start_time": "2023-01-13T02:57:20.371353Z"
    },
    "hidden": true
   },
   "outputs": [],
   "source": [
    "# lam=np.zeros(nV,dtype=np.quaternion)+1\n",
    "# # lam=zeros(4*nV,1);\n",
    "# # lam(1:4:end)=1;  \n",
    "# lam.shape"
   ]
  },
  {
   "cell_type": "code",
   "execution_count": null,
   "id": "7a763eba",
   "metadata": {
    "hidden": true
   },
   "outputs": [],
   "source": []
  },
  {
   "cell_type": "code",
   "execution_count": null,
   "id": "f79ac47b",
   "metadata": {
    "ExecuteTime": {
     "end_time": "2023-01-13T02:57:20.592625Z",
     "start_time": "2023-01-13T02:57:20.560016Z"
    },
    "hidden": true
   },
   "outputs": [],
   "source": [
    "# for c1 in range(11):\n",
    "#     pass\n",
    "\n",
    "# cnv=lam\n",
    "# lam=lam/E\n",
    "# lam.shape"
   ]
  },
  {
   "cell_type": "code",
   "execution_count": null,
   "id": "4d0e37b5",
   "metadata": {
    "ExecuteTime": {
     "end_time": "2023-01-13T02:57:20.688205Z",
     "start_time": "2023-01-13T02:57:20.656833Z"
    },
    "hidden": true
   },
   "outputs": [],
   "source": [
    "# boon=np.isnan(lam)\n",
    "# boon.shape"
   ]
  },
  {
   "cell_type": "code",
   "execution_count": null,
   "id": "86b27315",
   "metadata": {
    "hidden": true
   },
   "outputs": [],
   "source": []
  },
  {
   "cell_type": "code",
   "execution_count": null,
   "id": "dc914ee0",
   "metadata": {
    "ExecuteTime": {
     "end_time": "2023-01-13T02:57:20.851813Z",
     "start_time": "2023-01-13T02:57:20.821347Z"
    },
    "hidden": true
   },
   "outputs": [],
   "source": [
    "# q_identity[boon]=0*E[boon]"
   ]
  },
  {
   "cell_type": "code",
   "execution_count": null,
   "id": "4c45847a",
   "metadata": {
    "ExecuteTime": {
     "end_time": "2023-01-13T02:57:20.939484Z",
     "start_time": "2023-01-13T02:57:20.909259Z"
    },
    "hidden": true
   },
   "outputs": [],
   "source": [
    "\n",
    "# lam=lam/np.norm(lam)"
   ]
  },
  {
   "cell_type": "code",
   "execution_count": null,
   "id": "c7e63dbc",
   "metadata": {
    "ExecuteTime": {
     "end_time": "2023-01-13T02:57:21.030685Z",
     "start_time": "2023-01-13T02:57:20.997329Z"
    },
    "hidden": true
   },
   "outputs": [],
   "source": [
    "# for c1=1:11\n",
    "#   cnv=lam;\n",
    "#   lam=E\\lam;\n",
    "#   lam=lam/norm(lam);\n",
    "# end"
   ]
  },
  {
   "cell_type": "code",
   "execution_count": null,
   "id": "8e79e0fd",
   "metadata": {
    "hidden": true
   },
   "outputs": [],
   "source": []
  },
  {
   "cell_type": "code",
   "execution_count": null,
   "id": "50e223e3",
   "metadata": {
    "ExecuteTime": {
     "end_time": "2023-01-13T02:57:21.223316Z",
     "start_time": "2023-01-13T02:57:21.190823Z"
    },
    "hidden": true
   },
   "outputs": [],
   "source": [
    "\n",
    "\n",
    "# res=(E*lam)./lam;  \n",
    "# fprintf('mean %e, var %e, delta %e\\n',mean(res),var(res),norm(cnv-lam))\n"
   ]
  },
  {
   "cell_type": "code",
   "execution_count": null,
   "id": "5e830fdb",
   "metadata": {
    "hidden": true
   },
   "outputs": [],
   "source": []
  },
  {
   "cell_type": "code",
   "execution_count": null,
   "id": "736b89f8",
   "metadata": {
    "ExecuteTime": {
     "end_time": "2023-01-13T02:57:21.424003Z",
     "start_time": "2023-01-13T02:57:21.391228Z"
    },
    "hidden": true
   },
   "outputs": [],
   "source": [
    "\n",
    "# L  =sparse(4*nV,4*nV);\n",
    "# ome=zeros(4*nV,1);\n",
    "# for c1=1:nT\n",
    "#   for c2=1:3\n",
    "#     k0=T(mod(c2-1,3)+1,c1);\n",
    "#     k1=T(mod(c2+0,3)+1,c1);\n",
    "#     k2=T(mod(c2+1,3)+1,c1);\n",
    "#     u1=V(:,k1)-V(:,k0);\n",
    "#     u2=V(:,k2)-V(:,k0);\n",
    "#     cta=dot(u1,u2) / norm( cross(u1,u2) );\n",
    "#     h=jiH([cta*0.5 0 0 0]);\n",
    "#     ini=[k1*4+plc  k2*4+plc];\n",
    "#     L(ini,ini)=L(ini,ini)+[ h -h;-h h];\n",
    "#     if k1>k2\n",
    "#       k3=k1; k1=k2; k2=k3; % swap\n",
    "#     end\n",
    "#     lm1=jiH(lam(k1*4+plc));\n",
    "#     lm2=jiH(lam(k2*4+plc));\n",
    "#     edv=jiH([0;V(:,k2)-V(:,k1)]);\n",
    "#     til=lm1'*edv*lm1/3 + lm1'*edv*lm2/6 + lm2'*edv*lm1/6 + lm2'*edv*lm2/3;\n",
    "#     ome(k1*4+plc,1)=ome(k1*4+plc,1)-cta*til(:,1)/2;\n",
    "#     ome(k2*4+plc,1)=ome(k2*4+plc,1)+cta*til(:,1)/2;\n",
    "#   end\n",
    "#   if ~mod(c1,500); fprintf('.'); end\n",
    "# end\n",
    "# fprintf('\\n')\n",
    "\n",
    "# ome=reshape(ome,[4 nV]);\n",
    "# ome=ome-repmat(mean(ome,2),[1 nV]);\n",
    "# ome=reshape(ome,[4*nV 1]);\n",
    "# ome=L\\ome;\n",
    "# ome=reshape(ome,[4 nV]);\n",
    "# ome=ome-repmat(mean(ome,2),[1 nV]);\n",
    "# nrm=sum(ome.*ome,1);\n",
    "# ome=ome/sqrt(max(nrm));\n",
    "# V=ome(2:end,:);\n"
   ]
  },
  {
   "cell_type": "code",
   "execution_count": null,
   "id": "dcf4f025",
   "metadata": {
    "ExecuteTime": {
     "end_time": "2023-01-13T02:57:21.525234Z",
     "start_time": "2023-01-13T02:57:21.493040Z"
    },
    "hidden": true
   },
   "outputs": [],
   "source": [
    "# # import numpy-quaternion\n",
    "# !conda install -c conda-forge quaternion"
   ]
  },
  {
   "cell_type": "code",
   "execution_count": null,
   "id": "8214cd3a",
   "metadata": {
    "ExecuteTime": {
     "end_time": "2023-01-13T02:57:21.631895Z",
     "start_time": "2023-01-13T02:57:21.598926Z"
    },
    "hidden": true
   },
   "outputs": [],
   "source": [
    "# # function h=jiH(pnt)\n",
    "# # a=pnt(1); b=pnt(2); c=pnt(3); d=pnt(4);\n",
    "# # h=[ a -b -c -d\n",
    "# #     b  a -d  c\n",
    "# #     c  d  a -b\n",
    "# #     d -c  b  a];\n",
    "\n",
    "# # @np.vectorize\n",
    "# @njit\n",
    "# def jiH(pnt):\n",
    "#     \"\"\"jiH castes a cartesion point, pnt, to a real quaternionic representation.\"\"\"\n",
    "#     a=pnt[0]; b=pnt[1]; c=pnt[2]; d=pnt[3];\n",
    "#     h = np.array([\n",
    "#         [a, -b, -c, -d],\n",
    "#         [b,  a, -d,  c],\n",
    "#         [c,  d,  a, -b],\n",
    "#         [d, -c,  b,  a]])\n",
    "#     return h\n",
    "\n",
    "# # @njit\n",
    "# # def jiH_vectorized(pnt_array):\n",
    "# #     \"\"\"jiH_vectorized complexifies an array of quaterions.\n",
    "    \n",
    "# #     Example Usage:\n",
    "# # jiH_vectorized(a*jiH(edg[0]*edg[0]))\n",
    "# #     \"\"\"\n",
    "# #     #h = np.array([jiH(x) for x in pnt_array]) #numba does not support this it seems...\n",
    "# #     num = pnt_array.shape[0]\n",
    "# #     h=np.empty(shape=(num,4,4))\n",
    "# #     for i in range(num):\n",
    "# #         h[i]=jiH(pnt_array[i])\n",
    "# #     return h\n",
    "    "
   ]
  },
  {
   "cell_type": "code",
   "execution_count": null,
   "id": "e0aa843d",
   "metadata": {
    "ExecuteTime": {
     "end_time": "2023-01-13T02:57:21.794457Z",
     "start_time": "2023-01-13T02:57:21.742713Z"
    },
    "hidden": true
   },
   "outputs": [],
   "source": [
    "# #test jiH runs reasonably fast\n",
    "# arr = np.reshape([0,1,2,3]*300,(300,4))\n",
    "# a_lst=[]\n",
    "# for pnt in arr:\n",
    "#     a = jiH(pnt)\n",
    "#     a_lst.append(a)\n",
    "# #test jiH_vectorized runs reasonably fast\n",
    "# # jiH_vectorized(np.concatenate(a_lst)).shape"
   ]
  },
  {
   "cell_type": "markdown",
   "id": "77380243",
   "metadata": {},
   "source": [
    "# Step 1) represent the deformation as a matrix of real quaternions"
   ]
  },
  {
   "cell_type": "code",
   "execution_count": null,
   "id": "dac780f4",
   "metadata": {
    "ExecuteTime": {
     "end_time": "2023-01-14T00:59:05.006035Z",
     "start_time": "2023-01-14T00:59:04.971933Z"
    }
   },
   "outputs": [],
   "source": [
    "#heretim \n",
    "#def deform_mesh_conformally_real_simple(T,V,rho):\n",
    "T = tria\n",
    "V = vert\n",
    "V.shape,V.dtype,rho.dtype"
   ]
  },
  {
   "cell_type": "code",
   "execution_count": null,
   "id": "754b841e",
   "metadata": {
    "ExecuteTime": {
     "end_time": "2023-01-14T00:59:05.810001Z",
     "start_time": "2023-01-14T00:59:05.778730Z"
    }
   },
   "outputs": [],
   "source": [
    "tria.shape,vert.shape,rho.shape,np.max(rho)"
   ]
  },
  {
   "cell_type": "code",
   "execution_count": null,
   "id": "4cb16e78",
   "metadata": {
    "ExecuteTime": {
     "end_time": "2023-01-14T00:59:09.605789Z",
     "start_time": "2023-01-14T00:59:07.090019Z"
    }
   },
   "outputs": [],
   "source": [
    "####################################\n",
    "# Generate the Ensemble Matrix (E)\n",
    "####################################\n",
    "# function V=spin(T,V,rho)\n",
    "# % input: T (3xN) and V (3xM) so that\n",
    "# %  trimesh(T',V(1,:),V(2,:),V(3,:)) plots the triangular mesh,\n",
    "# %  rho (1xN) values of conformal scaling\n",
    "# % output: V (3xM) vertices of transformed mesh\n",
    "#input: T,V,rho\n",
    "#output: E\n",
    "printing=True\n",
    "nT=T.shape[0]\n",
    "nV=V.shape[0]\n",
    "# plc=list(range(-3,1))\n",
    "plc=np.array(list(range(-3,1)))\n",
    "step=0\n",
    "num_steps=nT-1\n",
    "update_printbar_every=int(np.around(nT/20))\n",
    "#initialize virtual memory\n",
    "# E = scipy.sparse.csc_matrix((4*nV,4*nV), dtype=V.dtype)\n",
    "# E = scipy.sparse.csr_matrix((4*nV,4*nV), dtype=V.dtype)\n",
    "# E = scipy.sparse.bsr_matrix((4*nV,4*nV), dtype=V.dtype)\n",
    "E = np.zeros((4*nV,4*nV), dtype=V.dtype)\n",
    "#Q: which is faster? csr or bsr or csc? I can caste to dense for solveh_banded later\n",
    "edg=np.zeros(shape=(3,4))\n",
    "pnty = np.zeros(4)\n",
    "pntz = np.zeros(4)\n",
    "ini=np.zeros(shape=(3,4),dtype=tria.dtype)\n",
    "ini=np.zeros(shape=(3,4),dtype='int64')\n",
    "# ini=np.zeros(shape=(4,3),dtype='int64')\n",
    "# edgy=np.zeros(shape=(3,4),dtype=V.dtype)\n",
    "# E.dtype,edg.dtype,pnty,pntz,edgy.shape,edgy.dtype\n",
    "\n",
    "# for c1 in range(-1,nT):\n",
    "# for c1 in range(1,nT):\n",
    "for c1 in range(nT):\n",
    "    tri = T[c1]\n",
    "    pnt=V[tri]\n",
    "    #pnt=V[tri].T #nope. \n",
    "    #compute triangle area\n",
    "    A = 0.5*np.linalg.norm(np.cross(pnt[1]-pnt[0], pnt[2]-pnt[0]))\n",
    "    a = -0.25/A  # a=-1/(4*A)\n",
    "    #compute target curvature component\n",
    "    r = rho[c1]\n",
    "    b = r/6. #  b=rho[c1]/6;\n",
    "    pnty[0]=A*r**2/9.\n",
    "    c = jiH(pnty) #c=jiH([A*rho[c1]*rho[c1]/9 0 0 0]);\n",
    "\n",
    "    for c2 in range(3):\n",
    "#     for c2 in range(1,4):\n",
    "        #Q: is this value right?\n",
    "        # V[tri[(c2+1)%3+1]] - V[tri[(c2+0)%3+1]]\n",
    "#         pntz[1:] = V[tri[(c2+1)%3]] - V[tri[(c2+0)%3]]\n",
    "        pntz[1:] = V[tri[(c2+1)%3]] - V[tri[(c2+0)%3]]\n",
    "        #pntz[1:] = -V[tri[(c2+1)%3]] + V[tri[(c2+0)%3]]\n",
    "        #pntz[1:] = V[tri[(c2)%3]] - V[tri[(c2-1)%3]]\n",
    "#         edg[(c2-2)%3]  = pntz.copy()\n",
    "        edg[(c2-1)%3]  = pntz.copy()\n",
    "#         edg[c2]  = pntz.copy()\n",
    "#         edg[(c2+1)%3]  = pntz.copy()\n",
    "        # edg[c2]  = [0;V(:, tri(mod(c2+1,3)+1) )-V(:, tri(mod(c2+0,3)+1) )]\n",
    "\n",
    "    # signature of ini: 0ijk of triangle vertex 1,2,3\n",
    "    # pseudo-signature of ini: vertex index as axis 0 & quaternion index as axis 1\n",
    "    # signature of wooo: vertex index as axis 0,1 & quaternion index as axis 2,3\n",
    "    #result: in matlab, \n",
    "    # E(ini,ini) indexes from the 0ijk fields of each triangle vertex \n",
    "    # to the 0ijk fields of each triangle vertex of that same triangle.\n",
    "    ini[0] = tri[0]*4+plc\n",
    "    ini[1] = tri[1]*4+plc\n",
    "    ini[2] = tri[2]*4+plc \n",
    "#     ini[0] = (tri[0]+1)*4+plc \n",
    "#     ini[1] = (tri[1]+1)*4+plc\n",
    "#     ini[2] = (tri[2]+1)*4+plc\n",
    "    # ini=np.array([tri[0]*4+plc, tri[1]*4+plc, tri[2]*4+plc])\n",
    "    # ini=[tri(1)*4+plc tri(2)*4+plc tri(3)*4+plc];\n",
    "    # wo1 = np.array((jiH(a*jiH(edg[0])@edg[0])+c, \n",
    "    #     jiH(a*jiH(edg[0])@edg[1]  + b*(edg[1]-edg[0]))+c, \n",
    "    #     jiH(a*jiH(edg[0])@edg[2]  + b*(edg[2]-edg[0]))+c))\n",
    "    # wo1.shape #(3, 4, 4)\n",
    "    # wo2 = np.array((jiH(a*jiH(edg[1])@edg[0]  + b*(edg[0]-edg[1]))+c, \n",
    "    #     jiH(a*jiH(edg[1])@edg[1])+c,\n",
    "    #     jiH(a*jiH(edg[1])@edg[2]  + b*(edg[2]-edg[1]))+c))\n",
    "    # wo2.shape #(3, 4, 4)\n",
    "    # wo3 = np.array((jiH(a*jiH(edg[2])@edg[0]  + b*(edg[0]-edg[2]))+c, \n",
    "    #     jiH(a*jiH(edg[2])@edg[1]  + b*(edg[1]-edg[2]))+c, \n",
    "    #     jiH(a*jiH(edg[2])@edg[2])+c))\n",
    "    # wo3.shape #(3, 4, 4)\n",
    "    # Q: does casting E to a sparse bsc matrix speed up any expensive linear algebra operations?\n",
    "    wooo = np.array([[\n",
    "        jiH(a*jiH(edg[0])@edg[0])+c, \n",
    "        jiH(a*jiH(edg[0])@edg[1]  + b*(edg[1]-edg[0]))+c, \n",
    "        jiH(a*jiH(edg[0])@edg[2]  + b*(edg[2]-edg[0]))+c], \n",
    "        [jiH(a*jiH(edg[1])@edg[0] + b*(edg[0]-edg[1]))+c, \n",
    "        jiH(a*jiH(edg[1])@edg[1])+c,\n",
    "        jiH(a*jiH(edg[1])@edg[2]  + b*(edg[2]-edg[1]))+c], \n",
    "        [jiH(a*jiH(edg[2])@edg[0] + b*(edg[0]-edg[2]))+c, \n",
    "        jiH(a*jiH(edg[2])@edg[1]  + b*(edg[1]-edg[2]))+c, \n",
    "        jiH(a*jiH(edg[2])@edg[2])+c] \n",
    "    ])\n",
    "#     wooo = np.array([[\n",
    "#         jiH(a*jiH(edg[0])@edg[0])+c, \n",
    "#         jiH(a*jiH(edg[0])@edg[1]  + b*(edg[1]-edg[0]))+c, \n",
    "#         jiH(a*jiH(edg[0])@edg[2]  + b*(edg[2]-edg[0]))+c], \n",
    "#         [jiH(a*jiH(edg[1])@edg[0] + b*(edg[0]-edg[1]))+c, \n",
    "#         jiH(a*jiH(edg[1])@edg[1])+c,\n",
    "#         jiH(a*jiH(edg[1])@edg[2]  + b*(edg[2]-edg[1]))+c], \n",
    "#         [jiH(a*jiH(edg[2])@edg[0] + b*(edg[0]-edg[2]))+c, \n",
    "#         jiH(a*jiH(edg[2])@edg[1]  + b*(edg[1]-edg[2]))+c, \n",
    "#         jiH(a*jiH(edg[2])@edg[2])+c] \n",
    "#     ])\n",
    "#     ])\n",
    "#Q: does transposing the output of jiH everywhere make the update to E agree with demo?\n",
    "# #A: nope.?\n",
    "#     wooo = np.array([[\n",
    "#         jiH(a*jiH(edg[0]).T@edg[0])+c, \n",
    "#         jiH(a*jiH(edg[0]).T@edg[1]  + b*(edg[1]-edg[0]))+c, \n",
    "#         jiH(a*jiH(edg[0]).T@edg[2]  + b*(edg[2]-edg[0]))+c], \n",
    "#         [jiH(a*jiH(edg[1]).T@edg[0] + b*(edg[0]-edg[1]))+c, \n",
    "#         jiH(a*jiH(edg[1]).T@edg[1])+c,\n",
    "#         jiH(a*jiH(edg[1]).T@edg[2]  + b*(edg[2]-edg[1]))+c], \n",
    "#         [jiH(a*jiH(edg[2]).T@edg[0] + b*(edg[0]-edg[2]))+c, \n",
    "#         jiH(a*jiH(edg[2]).T@edg[1]  + b*(edg[1]-edg[2]))+c, \n",
    "#         jiH(a*jiH(edg[2]).T@edg[2])+c] \n",
    "#     ])\n",
    "    #woooo = wooo.reshape((12, 12))\n",
    "#     #is ^this mucking it up?\n",
    "# # #     wooo_= np.concatenate([wooo[2],wooo[1],wooo[0]],axis=1)\n",
    "# # #     woooo = np.hstack([wooo_[2],wooo_[1],wooo_[0]])\n",
    "# # #     wooo_= np.concatenate([wooo[2],wooo[0],wooo[1]],axis=1)\n",
    "# # #     woooo = np.hstack([wooo_[2],wooo_[0],wooo_[1]])\n",
    "#     wooo_= np.concatenate([wooo[1],wooo[2],wooo[0]],axis=1)\n",
    "#     woooo = np.hstack([wooo_[1],wooo_[2],wooo_[0]])\n",
    "\n",
    "#     #DONE: find the correct reshaping snippet\n",
    "#     #reshape to square matrix local vertex representation\n",
    "#     wooo_= np.concatenate([wooo[0],wooo[1],wooo[2]],axis=1)\n",
    "#     woooo = np.hstack([wooo_[0],wooo_[1],wooo_[2]])\n",
    "#     wooo_= np.concatenate([wooo[0],wooo[1],wooo[2]],axis=2)\n",
    "#     woooo = np.vstack([wooo_[0],wooo_[1],wooo_[2]])\n",
    "#     woooo=np.hstack([\n",
    "#         np.concatenate([wooo[0,0], wooo[0,1], wooo[0,2]]),\n",
    "#         np.concatenate([wooo[1,0], wooo[1,1], wooo[1,2]]),\n",
    "#         np.concatenate([wooo[2,0], wooo[2,1], wooo[2,2]])])\n",
    "\n",
    "#     woooo=np.hstack([\n",
    "#         np.concatenate([wooo[0,0].T, wooo[0,1].T, wooo[0,2].T]),\n",
    "#         np.concatenate([wooo[1,0].T, wooo[1,1].T, wooo[1,2].T]),\n",
    "#         np.concatenate([wooo[2,0].T, wooo[2,1].T, wooo[2,2].T])]).T\n",
    "#     woooo=np.hstack([\n",
    "#         np.concatenate([wooo[0,0].T, wooo[1,0].T, wooo[2,0].T]),\n",
    "#         np.concatenate([wooo[0,1].T, wooo[1,1].T, wooo[2,1].T]),\n",
    "#         np.concatenate([wooo[0,2].T, wooo[1,2].T, wooo[2,2].T])]).T\n",
    "    #reshape to square matrix local vertex representation\n",
    "    woooo=np.hstack([\n",
    "        np.concatenate([wooo[0,0], wooo[1,0], wooo[2,0]]),\n",
    "        np.concatenate([wooo[0,1], wooo[1,1], wooo[2,1]]),\n",
    "        np.concatenate([wooo[0,2], wooo[1,2], wooo[2,2]])]).T\n",
    "    \n",
    "#perturbing of ibid\n",
    "#     woooo=np.hstack([\n",
    "#         np.concatenate([wooo[0,0], wooo[1,0], wooo[2,1]]),\n",
    "#         np.concatenate([wooo[0,1], wooo[1,1], wooo[2,0]]),\n",
    "#         np.concatenate([wooo[1,2], wooo[0,2], wooo[2,2]])]).T\n",
    "\n",
    "    \n",
    "#     woooo=np.hstack([\n",
    "#         np.concatenate([wooo[0,0].T, wooo[1,0].T, wooo[2,0].T]),\n",
    "#         np.concatenate([wooo[0,1].T, wooo[1,1].T, wooo[2,1].T]),\n",
    "#         np.concatenate([wooo[0,2].T, wooo[1,2].T, wooo[2,2].T])])\n",
    "\n",
    "#     woooo=np.hstack([\n",
    "#         np.concatenate([wooo[0,0], wooo[1,0], wooo[2,0]]),\n",
    "#         np.concatenate([wooo[0,1], wooo[1,1], wooo[2,1]]),\n",
    "#         np.concatenate([wooo[0,2], wooo[1,2], wooo[2,2]]),\n",
    "#     ])\n",
    "#obviously wrong\n",
    "#     woooo=np.hstack([\n",
    "#         np.concatenate([wooo[0,0].T, wooo[0,1].T, wooo[0,2].T]),\n",
    "#         np.concatenate([wooo[1,0], wooo[1,1].T, wooo[1,2].T]),\n",
    "#         np.concatenate([wooo[2,0], wooo[2,1], wooo[2,2].T])]).T\n",
    "\n",
    "#     wooo_= np.concatenate([wooo[1],wooo[2],wooo[0]],axis=2)\n",
    "#     woooo = np.vstack([wooo_[1],wooo_[2],wooo_[0]])\n",
    "#     wooo_= np.concatenate([wooo[2],wooo[1],wooo[0]],axis=2)\n",
    "#     woooo = np.vstack([wooo_[2],wooo_[1],wooo_[0]])\n",
    "    #write to global vertex representation\n",
    "    inii=ini.flatten()\n",
    "    E[np.ix_(inii, inii)] += woooo\n",
    "    #print progress bar\n",
    "    if printing:\n",
    "        step+=1\n",
    "        if step%update_printbar_every==0:\n",
    "            printProgressBar(step+1, num_steps, prefix = 'Progress:', suffix = 'Complete', length = 50)"
   ]
  },
  {
   "cell_type": "code",
   "execution_count": null,
   "id": "60d53613",
   "metadata": {
    "ExecuteTime": {
     "end_time": "2023-01-14T00:59:09.651753Z",
     "start_time": "2023-01-14T00:59:09.608047Z"
    }
   },
   "outputs": [],
   "source": [
    "np.trace(E),E.dtype"
   ]
  },
  {
   "cell_type": "markdown",
   "id": "2a4aba33",
   "metadata": {},
   "source": [
    "- trace(E_identity): 56226.868111081465\n",
    "- trace(E): 56100??"
   ]
  },
  {
   "cell_type": "code",
   "execution_count": null,
   "id": "20f29284",
   "metadata": {},
   "outputs": [],
   "source": []
  },
  {
   "cell_type": "code",
   "execution_count": null,
   "id": "62753e80",
   "metadata": {
    "ExecuteTime": {
     "end_time": "2023-01-14T00:59:10.040612Z",
     "start_time": "2023-01-14T00:59:09.995263Z"
    },
    "scrolled": true
   },
   "outputs": [],
   "source": [
    "print(np.around(E[np.ix_(inii, inii)],2))\n",
    "# print(np.around(E[np.ix_(inii, inii)],3))\n",
    "#DONE: try transposing the offdiagonal entries as they are written to E\n",
    "# [[ 3.55  0.    0.    0.   -0.72 -0.07 -0.01  0.01 -0.33 -0.02 -0.06  0.02]\n",
    "#  [ 0.    3.55  0.   -0.    0.07 -0.72  0.01  0.01  0.02 -0.33  0.02  0.06]\n",
    "#  [-0.   -0.    3.55  0.    0.01 -0.01 -0.72 -0.07  0.06 -0.02 -0.33 -0.02]\n",
    "#  [-0.    0.    0.    3.55 -0.01 -0.01  0.07 -0.72 \n",
    "#DONE: make E(ini,ini) match the matlab demo exactly.\n"
   ]
  },
  {
   "cell_type": "markdown",
   "id": "c17e2bf6",
   "metadata": {},
   "source": [
    "- ROOT CAUSE OF L DISAGREEMENT IDENTIFIED: E DISAGREES. \n",
    "- ROOT CAUSE RESOLVED.  it appears so, yes.\n",
    "- DONE: verified all the entries of E agree in sign and magnitude"
   ]
  },
  {
   "cell_type": "code",
   "execution_count": null,
   "id": "f3a08c07",
   "metadata": {
    "ExecuteTime": {
     "end_time": "2023-01-14T00:36:40.178074Z",
     "start_time": "2023-01-14T00:36:40.131727Z"
    }
   },
   "outputs": [],
   "source": [
    "# print(np.around(woooo,2))\n",
    "# print(np.around(E[:9,:9],2))\n",
    "print(np.around(E[1:6,1:6],2))\n",
    "# print(np.around(E[1:10,1:10],2))"
   ]
  },
  {
   "cell_type": "code",
   "execution_count": null,
   "id": "4ed99d09",
   "metadata": {
    "ExecuteTime": {
     "end_time": "2023-01-13T06:19:01.385483Z",
     "start_time": "2023-01-13T06:19:01.341037Z"
    }
   },
   "outputs": [],
   "source": [
    "print(np.around(E[-9:,-9:],2))"
   ]
  },
  {
   "cell_type": "code",
   "execution_count": null,
   "id": "3febc426",
   "metadata": {
    "ExecuteTime": {
     "end_time": "2023-01-13T06:19:02.012306Z",
     "start_time": "2023-01-13T06:19:01.968837Z"
    }
   },
   "outputs": [],
   "source": [
    "# E_csc = scipy.sparse.csc_matrix(E)\n",
    "# # #>3.5 minute runtime\n",
    "# Einv_csc = scipy.sparse.linalg.inv(E_csc)\n",
    "# Einv_ = Einv_csc.todense()\n",
    "\n",
    "# E_bsr = scipy.sparse.bsr_matrix(E)\n",
    "# # #3.5 min runtime\n",
    "# Einv_bsr = scipy.sparse.linalg.inv(E_bsr)\n",
    "##  SparseEfficiencyWarning: spsolve is more efficient when sparse b is in the CSC matrix format\n",
    "#Einv_ = Einv_bsr.todense()\n",
    "\n",
    "# #DONE: checked block inverse equals inverse to 13 significant digits\n",
    "# np.max(Einv_-Einv)"
   ]
  },
  {
   "cell_type": "code",
   "execution_count": null,
   "id": "dc0d1c1a",
   "metadata": {
    "ExecuteTime": {
     "end_time": "2023-01-14T00:41:02.366081Z",
     "start_time": "2023-01-14T00:40:44.437690Z"
    }
   },
   "outputs": [],
   "source": [
    "#plot E as a heatmap\n",
    "# atol=1e-1\n",
    "# atol=1e-3\n",
    "atol=1e-5\n",
    "# atol=1e-10\n",
    "atol=1e-13\n",
    "vmax=np.max((-np.min(E),np.max(E)))\n",
    "vmax=-np.min(E)\n",
    "# vmax=-np.min(E)/1000\n",
    "boo=np.isclose(E,0.,atol=atol)\n",
    "frac_nonzero = (~boo).sum()/np.sum(boo)\n",
    "print(f\"percent of matrix elements that are nonzero: {frac_nonzero:.4%}\")\n",
    "\n",
    "# vmax=0.01\n",
    "# vmax=0.001\n",
    "vmax=0.0001\n",
    "figsize=(4,4)\n",
    "# figsize=(7,7)\n",
    "fig,ax=plt.subplots(figsize=(7,7))\n",
    "ax.imshow(E,\n",
    "    cmap='bwr',\n",
    "# #     norm=None,\n",
    "# #     aspect=None,\n",
    "# #     interpolation=None,\n",
    "# #     alpha=None,\n",
    "    vmin=-vmax,\n",
    "    vmax=vmax)\n",
    "# format_plot\n",
    "# format_plot(ax=ax,xlabel=r'n (1/cm$^2$)',ylabel=r'w (Hz/cm$^2$)',fontsize=fontsize)#,use_loglog=True)\n",
    "ax.set_xticklabels([])\n",
    "ax.set_yticklabels([])\n",
    "ax.tick_params(top=True, right=True,direction='in',which='both')\n",
    "plt.tight_layout()\n",
    "plt.show()"
   ]
  },
  {
   "cell_type": "code",
   "execution_count": null,
   "id": "c97653f2",
   "metadata": {
    "ExecuteTime": {
     "end_time": "2023-01-14T00:37:41.216453Z",
     "start_time": "2023-01-14T00:37:30.038284Z"
    }
   },
   "outputs": [],
   "source": [
    "#test that E is symmetric #~6-15 second run time\n",
    "assert np.isclose(E.T,E,5).all()\n",
    "printing=True"
   ]
  },
  {
   "cell_type": "code",
   "execution_count": null,
   "id": "62857d97",
   "metadata": {
    "ExecuteTime": {
     "end_time": "2023-01-13T06:19:29.625804Z",
     "start_time": "2023-01-13T06:19:29.584314Z"
    }
   },
   "outputs": [],
   "source": [
    "#done again below.\n",
    "# #sparse soln: <20 second run time \n",
    "# if printing:\n",
    "#     print(f\"\\nPerforming linear algebra solve...\")\n",
    "# lam,cnv = comp_groundstate_eigenvector_sparse(E)\n",
    "# if printing:\n",
    "#     print(f\"linear solve complete!\")\n",
    "# res=(lam@E)/lam; \n",
    "# print(f'mean: {np.mean(res):e}, var:  {np.var(res):e}, delta: {np.linalg.norm(cnv-lam):e}')\n",
    "# # mean: -1.825385e-04, var:  1.688050e-04, delta: 2.156203e+05\n",
    "# # Q: how does lam look?\n",
    "# # A: great! \n",
    "# #banded soln: ?? second run time.... does it crash the kernel?\n",
    "# # mean: ??\n",
    "# # Q: how does lam look?\n"
   ]
  },
  {
   "cell_type": "code",
   "execution_count": null,
   "id": "5a59034a",
   "metadata": {
    "ExecuteTime": {
     "end_time": "2023-01-13T06:19:29.671548Z",
     "start_time": "2023-01-13T06:19:29.628037Z"
    }
   },
   "outputs": [],
   "source": [
    "# # Eab = decomp_banded_matrix(E)\n",
    "# E_sparse=scipy.sparse.csc_matrix(E,dtype=float)\n",
    "# lam=np.zeros(4*nV)\n",
    "# lam[::4]=1.\n",
    "# b=lam\n",
    "# # num_steps=11\n",
    "# # for step in range(num_steps):\n",
    "# #     cnv=lam\n",
    "# #Q: what's the fastest way to compute x vs. x2 or x3\n",
    "# x2 =scipy.sparse.linalg.lsqr(E_sparse,b)[0] #lam=lam/E\n",
    "# # x3 =solveh_banded(Eab,b)#,lower=False)#,**kwargs) #lam =mldivide(lam,ab)\n",
    "# #Q: what's the fastest way to compute x vs. x2 or x3\n",
    "# # A: x2\n",
    "# lam=x2.copy()\n",
    "# # lam=x3.copy()"
   ]
  },
  {
   "cell_type": "code",
   "execution_count": null,
   "id": "b9d6b6ce",
   "metadata": {
    "ExecuteTime": {
     "end_time": "2023-01-14T00:37:00.657204Z",
     "start_time": "2023-01-14T00:37:00.657183Z"
    }
   },
   "outputs": [],
   "source": [
    "use_inverse_method=False\n",
    "if use_inverse_method:\n",
    "    #Warning: 3 minute runtime for 11 epochs\n",
    "    lam,cnv,Einv = comp_groundstate_eigenvector_inverse(E)\n",
    "    res=(lam@E)/lam; \n",
    "    print(f'mean: {np.mean(res):e}, var:  {np.var(res):e}, delta: {np.linalg.norm(cnv-lam):e}')"
   ]
  },
  {
   "cell_type": "code",
   "execution_count": null,
   "id": "fc1e6e77",
   "metadata": {
    "ExecuteTime": {
     "end_time": "2023-01-13T06:19:29.765739Z",
     "start_time": "2023-01-13T06:19:29.720277Z"
    }
   },
   "outputs": [],
   "source": [
    "# Q: is Einv really needed?\n",
    "# A: no."
   ]
  },
  {
   "cell_type": "code",
   "execution_count": null,
   "id": "10fbc05f",
   "metadata": {},
   "outputs": [],
   "source": []
  },
  {
   "cell_type": "markdown",
   "id": "fbaf70c9",
   "metadata": {
    "ExecuteTime": {
     "end_time": "2023-01-12T01:37:56.754224Z",
     "start_time": "2023-01-12T01:37:56.628257Z"
    },
    "heading_collapsed": true
   },
   "source": [
    "## scratchwerk"
   ]
  },
  {
   "cell_type": "code",
   "execution_count": null,
   "id": "2bf21b38",
   "metadata": {
    "ExecuteTime": {
     "end_time": "2023-01-13T02:58:08.932806Z",
     "start_time": "2023-01-13T02:58:08.900039Z"
    },
    "hidden": true
   },
   "outputs": [],
   "source": [
    "# #>4.5 minute runtime\n",
    "# Einv=scipy.linalg.inv(E)"
   ]
  },
  {
   "cell_type": "code",
   "execution_count": null,
   "id": "74e3543b",
   "metadata": {
    "ExecuteTime": {
     "end_time": "2023-01-13T02:58:08.969302Z",
     "start_time": "2023-01-13T02:58:08.935136Z"
    },
    "hidden": true
   },
   "outputs": [],
   "source": [
    "# #~2 minute runtime\n",
    "# Einv=np.linalg.inv(E)"
   ]
  },
  {
   "cell_type": "code",
   "execution_count": null,
   "id": "67d766d6",
   "metadata": {
    "ExecuteTime": {
     "end_time": "2023-01-13T02:58:09.009477Z",
     "start_time": "2023-01-13T02:58:08.971800Z"
    },
    "hidden": true
   },
   "outputs": [],
   "source": [
    "# #>7 minute runtime\n",
    "# Einvp=np.linalg.pinv(E, rcond=1e-15, hermitian=True)\n",
    "\n",
    "# #probably also >7 minute runtime\n",
    "# Einvp=np.linalg.pinv(E, rcond=1e-15, hermitian=False)\n",
    "# #heretim\n",
    "# # Q: which matrix inversion methods work?\n",
    "# # Q: of them, which are fastest?\n",
    "# 16*11/60"
   ]
  },
  {
   "cell_type": "code",
   "execution_count": null,
   "id": "98a5a1fa",
   "metadata": {
    "ExecuteTime": {
     "end_time": "2023-01-13T02:58:09.047360Z",
     "start_time": "2023-01-13T02:58:09.011932Z"
    },
    "hidden": true
   },
   "outputs": [],
   "source": [
    "# np.mean(np.abs(Lp))"
   ]
  },
  {
   "cell_type": "code",
   "execution_count": null,
   "id": "c1abd006",
   "metadata": {
    "ExecuteTime": {
     "end_time": "2023-01-13T02:58:09.084014Z",
     "start_time": "2023-01-13T02:58:09.050590Z"
    },
    "hidden": true
   },
   "outputs": [],
   "source": [
    "# # ME=Einv_.copy()\n",
    "# # ME=Einv.copy()\n",
    "# ME=Lp.copy()\n",
    "# # ME=Linv.copy() #<<<> not a useful quantity\n",
    "# # vmax=1\n",
    "# # vmax=0.00000000000001\n",
    "# vmax=0.0001\n",
    "# figsize=(4,4)\n",
    "# # figsize=(7,7)\n",
    "# fig,ax=plt.subplots(figsize=(7,7))\n",
    "# print(f\"{vmax=}\")\n",
    "# ax.imshow(ME,\n",
    "#     cmap='bwr',\n",
    "# # #     norm=None,\n",
    "# # #     aspect=None,\n",
    "# # #     interpolation=None,\n",
    "# # #     alpha=None,\n",
    "#     vmin=-vmax,\n",
    "#     vmax=vmax)\n",
    "# # format_plot\n",
    "# ax.set_xticklabels([])\n",
    "# ax.set_yticklabels([])\n",
    "# ax.tick_params(top=True, right=True,direction='in',which='both')\n",
    "# plt.tight_layout()\n",
    "# plt.show()"
   ]
  },
  {
   "cell_type": "code",
   "execution_count": null,
   "id": "3bca57bf",
   "metadata": {
    "ExecuteTime": {
     "end_time": "2023-01-13T02:58:09.121125Z",
     "start_time": "2023-01-13T02:58:09.088482Z"
    },
    "hidden": true
   },
   "outputs": [],
   "source": [
    "# Einv__ = scipy.linalg.pinvh(E) #<<<crashed the kernel...\n",
    "# print(np.allclose(a, a @ B @ a))\n",
    "# print(np.allclose(B, B @ a @ B))"
   ]
  },
  {
   "cell_type": "code",
   "execution_count": null,
   "id": "685e681d",
   "metadata": {
    "ExecuteTime": {
     "end_time": "2023-01-13T02:58:09.156129Z",
     "start_time": "2023-01-13T02:58:09.123241Z"
    },
    "hidden": true
   },
   "outputs": [],
   "source": [
    "# 1"
   ]
  },
  {
   "cell_type": "code",
   "execution_count": null,
   "id": "2c8d05fb",
   "metadata": {
    "ExecuteTime": {
     "end_time": "2023-01-13T02:58:09.192235Z",
     "start_time": "2023-01-13T02:58:09.158628Z"
    },
    "hidden": true
   },
   "outputs": [],
   "source": [
    "# # Einv\n",
    "# Einv=np.outer(y,y)\n",
    "# Einv.shape"
   ]
  },
  {
   "cell_type": "code",
   "execution_count": null,
   "id": "50a170af",
   "metadata": {
    "ExecuteTime": {
     "end_time": "2023-01-13T02:58:09.226553Z",
     "start_time": "2023-01-13T02:58:09.194362Z"
    },
    "hidden": true
   },
   "outputs": [],
   "source": [
    "# #2 min runtime\n",
    "# #NOTE: it took 1.5 - 2 minutes to invert E in the real representation for the demo\n",
    "# Einv = np.linalg.inv(E)"
   ]
  },
  {
   "cell_type": "code",
   "execution_count": null,
   "id": "6a51eedd",
   "metadata": {
    "ExecuteTime": {
     "end_time": "2023-01-13T02:58:09.265638Z",
     "start_time": "2023-01-13T02:58:09.228767Z"
    },
    "hidden": true
   },
   "outputs": [],
   "source": [
    "# # Einv.shape\n",
    "# #test the inverted matrix has only valid entries\n",
    "# assert not np.isnan(Einv).any()\n",
    "# assert not np.isinf(Einv).any()"
   ]
  },
  {
   "cell_type": "code",
   "execution_count": null,
   "id": "f216fc1e",
   "metadata": {
    "ExecuteTime": {
     "end_time": "2023-01-13T02:58:09.301970Z",
     "start_time": "2023-01-13T02:58:09.267540Z"
    },
    "hidden": true
   },
   "outputs": [],
   "source": [
    "# #~2 minute runtime\n",
    "# #test the inverse matrix works with left multiplication\n",
    "# roo = np.abs( (Einv@E) - np.eye(E.shape[0]))\n",
    "# print(roo[:3,:3])\n",
    "# print(np.min(roo),np.max(roo)) #13 sig figs of agreement\n",
    "# # [[3.78586051e-14 1.76031711e-14 1.90380781e-14]\n",
    "# #  [1.00960100e-15 4.44089210e-16 8.99237282e-16]\n",
    "# #  [1.76510237e-14 4.79217360e-17 4.44089210e-16]]\n",
    "# # (0.0, 2.656980762521612e-13)\n",
    "\n",
    "# #test the inverse matrix works with right multiplication\n",
    "# roo = np.abs( (E@Einv) - np.eye(E.shape[0]))\n",
    "# print(roo[:3,:3])\n",
    "# print(np.min(roo),np.max(roo)) #14 sig figs of agreement\n",
    "\n",
    "# # [[2.22044605e-16 8.06007486e-21 4.38189731e-19]\n",
    "# #  [4.90931521e-18 2.22044605e-16 1.08420217e-18]\n",
    "# #  [3.81132037e-18 2.16840434e-19 0.00000000e+00]]\n",
    "# # (0.0, 1.4262223312566984e-14)"
   ]
  },
  {
   "cell_type": "code",
   "execution_count": null,
   "id": "456aad18",
   "metadata": {
    "ExecuteTime": {
     "end_time": "2023-01-13T02:58:09.336226Z",
     "start_time": "2023-01-13T02:58:09.304223Z"
    },
    "hidden": true
   },
   "outputs": [],
   "source": [
    "# Q: should inverse be right multiplied or left multiplied everywhere?\n",
    "# A: doesn't seem to matter up to a transpose.?"
   ]
  },
  {
   "cell_type": "code",
   "execution_count": null,
   "id": "5a9bfbca",
   "metadata": {
    "ExecuteTime": {
     "end_time": "2023-01-11T23:38:37.635900Z",
     "start_time": "2023-01-11T23:38:37.635881Z"
    },
    "hidden": true
   },
   "outputs": [],
   "source": []
  },
  {
   "cell_type": "code",
   "execution_count": null,
   "id": "74c2baa8",
   "metadata": {
    "ExecuteTime": {
     "end_time": "2023-01-13T02:58:09.376001Z",
     "start_time": "2023-01-13T02:58:09.338506Z"
    },
    "hidden": true
   },
   "outputs": [],
   "source": [
    "# y=invh_banded(A=E,x=np.ones(E.shape[0]))\n",
    "# y=invh_banded(A=E,x=np.zeros(E.shape[0]))"
   ]
  },
  {
   "cell_type": "code",
   "execution_count": null,
   "id": "e9f119ae",
   "metadata": {
    "ExecuteTime": {
     "end_time": "2023-01-13T02:58:09.410168Z",
     "start_time": "2023-01-13T02:58:09.377994Z"
    },
    "hidden": true
   },
   "outputs": [],
   "source": [
    "# #>4 minute runtime\n",
    "# wb,vb=scipy.linalg.eig_banded(ab)#, lower=False, eigvals_only=False, overwrite_a_band=False, select='a', select_range=None, max_ev=0, check_finite=True)"
   ]
  },
  {
   "cell_type": "markdown",
   "id": "805a0603",
   "metadata": {
    "ExecuteTime": {
     "start_time": "2023-01-12T00:34:29.518Z"
    },
    "hidden": true
   },
   "source": [
    "__Inverting E via LU Decomposition works, but it is not clearly going to be faster (it's $O(N^2)$)__\n",
    "\n",
    "$$E = P L U$$\n",
    "\n",
    "where $P$ is a permutation matrix, $L$ lower triangular with unit diagonal elements, and $U$ upper triangular."
   ]
  },
  {
   "cell_type": "code",
   "execution_count": null,
   "id": "fadb8bfb",
   "metadata": {
    "ExecuteTime": {
     "end_time": "2023-01-13T02:58:09.470853Z",
     "start_time": "2023-01-13T02:58:09.428306Z"
    },
    "hidden": true
   },
   "outputs": [],
   "source": [
    "# #<4 minute runtime\n",
    "# A=E.copy()\n",
    "# # from scipy.linalg import lu\n",
    "# p,l,u = scipy.linalg.lu(A, permute_l = False)\n",
    "\n",
    "# l = np.dot(p,l) \n",
    "\n",
    "# l,u = scipy.linalg.lu(A, permute_l = True)\n",
    "\n",
    "# l_inv = np.linalg.inv(l)\n",
    "\n",
    "# u_inv = np.linalg.inv(u)\n",
    "\n",
    "# A_inv = np.dot(u_inv,l_inv)\n",
    "\n",
    "# # plt.plot(u_inv)\n",
    "# # plt.plot(l_inv)\n",
    "\n",
    "# # Q: can I use scipy.linalg.solveh_banded to furth speedup the leastsquare solve?  It's already <30 seconds...\n",
    "#A: it appears <100ms per solve. let's gooo...! \n",
    "# Einv_=A_inv\n",
    "\n",
    "# # np.dot(Einv_,E)\n",
    "# eye=Einv_@E\n",
    "# eye[:5,:5]"
   ]
  },
  {
   "cell_type": "code",
   "execution_count": null,
   "id": "839f5d22",
   "metadata": {
    "hidden": true
   },
   "outputs": [],
   "source": []
  },
  {
   "cell_type": "code",
   "execution_count": null,
   "id": "d66b2571",
   "metadata": {
    "hidden": true
   },
   "outputs": [],
   "source": []
  },
  {
   "cell_type": "code",
   "execution_count": null,
   "id": "c0f2a51e",
   "metadata": {
    "ExecuteTime": {
     "end_time": "2023-01-13T02:58:09.509303Z",
     "start_time": "2023-01-13T02:58:09.472731Z"
    },
    "hidden": true
   },
   "outputs": [],
   "source": [
    "# Fast method would be the Gauss-Jordan method"
   ]
  },
  {
   "cell_type": "code",
   "execution_count": null,
   "id": "19912474",
   "metadata": {
    "ExecuteTime": {
     "end_time": "2023-01-13T02:58:09.546485Z",
     "start_time": "2023-01-13T02:58:09.512279Z"
    },
    "hidden": true
   },
   "outputs": [],
   "source": [
    "# a = np.array([[1,2,0,0], [-1,2,1,0], [0,1,3,1], [0,0,1,2]])\n",
    "# x = np.array([1,2,3,4])\n",
    "# b = np.dot(a,x)\n",
    "# ab = np.empty((3,4))\n",
    "# ab[0,1:] = np.diag(a,1)\n",
    "# ab[1,:] = np.diag(a,0)\n",
    "# ab[2,:-1] = np.diag(a,-1) \n",
    "# yy =  scipy.linalg.solve_banded((1,1),ab,b)\n",
    "# print (yy)"
   ]
  },
  {
   "cell_type": "code",
   "execution_count": null,
   "id": "b2383720",
   "metadata": {
    "ExecuteTime": {
     "end_time": "2023-01-13T02:58:09.580892Z",
     "start_time": "2023-01-13T02:58:09.547667Z"
    },
    "hidden": true
   },
   "outputs": [],
   "source": [
    "# Einv\n",
    "# Q: can i use lu decomp to estimate Einv?"
   ]
  },
  {
   "cell_type": "code",
   "execution_count": null,
   "id": "18d78973",
   "metadata": {
    "ExecuteTime": {
     "end_time": "2023-01-13T02:58:09.615141Z",
     "start_time": "2023-01-13T02:58:09.582571Z"
    },
    "hidden": true
   },
   "outputs": [],
   "source": [
    "# Einv_=np.outer(y,y)#nope\n",
    "# Einv_=np.outer(y.T,y)#nope\n",
    "# Einv_=np.outer(y,y.T)#nope\n",
    "# Einv_.shape,E.shape"
   ]
  },
  {
   "cell_type": "code",
   "execution_count": null,
   "id": "217583b9",
   "metadata": {
    "hidden": true
   },
   "outputs": [],
   "source": []
  },
  {
   "cell_type": "code",
   "execution_count": null,
   "id": "554fb3b7",
   "metadata": {
    "ExecuteTime": {
     "end_time": "2023-01-13T02:58:09.649815Z",
     "start_time": "2023-01-13T02:58:09.616772Z"
    },
    "hidden": true
   },
   "outputs": [],
   "source": [
    "# plt.plot(y)"
   ]
  },
  {
   "cell_type": "code",
   "execution_count": null,
   "id": "dcffd84a",
   "metadata": {
    "ExecuteTime": {
     "end_time": "2023-01-13T02:58:09.685115Z",
     "start_time": "2023-01-13T02:58:09.651374Z"
    },
    "hidden": true
   },
   "outputs": [],
   "source": [
    "# #heretim\n",
    "# # vmax=0.01\n",
    "# # vmax=0.001\n",
    "# vmax=0.0001\n",
    "# figsize=(4,4)\n",
    "# # figsize=(7,7)\n",
    "# fig,ax=plt.subplots(figsize=(7,7))\n",
    "# ax.imshow(Einv,\n",
    "#     cmap='bwr',\n",
    "# # #     norm=None,\n",
    "# # #     aspect=None,\n",
    "# # #     interpolation=None,\n",
    "# # #     alpha=None,\n",
    "#     vmin=-vmax,\n",
    "#     vmax=vmax)\n",
    "# # format_plot\n",
    "# # format_plot(ax=ax,xlabel=r'n (1/cm$^2$)',ylabel=r'w (Hz/cm$^2$)',fontsize=fontsize)#,use_loglog=True)\n",
    "# ax.set_xticklabels([])\n",
    "# ax.set_yticklabels([])\n",
    "# ax.tick_params(top=True, right=True,direction='in',which='both')\n",
    "# plt.tight_layout()\n",
    "# plt.show()"
   ]
  },
  {
   "cell_type": "code",
   "execution_count": null,
   "id": "bb87451e",
   "metadata": {
    "hidden": true
   },
   "outputs": [],
   "source": []
  },
  {
   "cell_type": "code",
   "execution_count": null,
   "id": "ed0d173b",
   "metadata": {
    "ExecuteTime": {
     "end_time": "2023-01-13T02:58:09.721973Z",
     "start_time": "2023-01-13T02:58:09.686711Z"
    },
    "hidden": true
   },
   "outputs": [],
   "source": [
    "# #warning: these pythonic eigensolvers give different answers for the basic test case...\n",
    "# # >>> don't assume hermiticity! return to the canned eigen pseudosolver!\n",
    "# # >>> caution! i could be casting this into a real representation incorrectly!\n",
    "# #warning: #>16 minutes run time\n",
    "# #53-37 = >16 \n",
    "# w, v = np.linalg.eig(E)\n",
    "# w.shape,v.shape,np.min(w),np.max(w) \n",
    "# #for simplest unit sphere example:\n",
    "# # ((264,),\n",
    "# #  (264, 264),\n",
    "# #  (-6.216318184123621-3.508736056987371j),\n",
    "# #  (10.372886477259154+0j))\n",
    "\n",
    "# #warning >7 minutes run time\n",
    "# wh, vh = np.linalg.eigh(E)\n",
    "# wh.shape,vh.shape,np.min(wh),np.max(wh)\n",
    "# #for simplest unit sphere example:\n",
    "# # ((264,), (264, 264), -13.124313869577566, 12.598788742101325)"
   ]
  },
  {
   "cell_type": "code",
   "execution_count": null,
   "id": "86a786dc",
   "metadata": {
    "ExecuteTime": {
     "end_time": "2023-01-13T02:58:09.756629Z",
     "start_time": "2023-01-13T02:58:09.723623Z"
    },
    "hidden": true,
    "run_control": {
     "marked": true
    }
   },
   "outputs": [],
   "source": [
    "# E_bsr = scipy.sparse.bsr_matrix(E)#, dtype=V.dtype)\n",
    "# E_bsr\n",
    "\n",
    "\n",
    "# #4 min runtime\n",
    "# Einv_bsr = scipy.sparse.linalg.inv(E_bsr)\n",
    "\n",
    "# E_csc = scipy.sparse.csc_matrix(E)#, dtype=V.dtype)\n",
    "\n",
    "# #>2 minute runtime\n",
    "# Einv_csc = scipy.sparse.linalg.inv(E_csc)"
   ]
  },
  {
   "cell_type": "code",
   "execution_count": null,
   "id": "b8b7c302",
   "metadata": {
    "ExecuteTime": {
     "end_time": "2023-01-13T02:58:09.791711Z",
     "start_time": "2023-01-13T02:58:09.759304Z"
    },
    "hidden": true
   },
   "outputs": [],
   "source": [
    "# # vals, vecs = scipy.sparse.linalg.eigs(E_bsr, k=6)\n",
    "# vals, vecs = scipy.sparse.linalg.eigs(E_bsr, k=30)\n",
    "# print(*vals)\n",
    "# vals.shape, vecs.shape"
   ]
  },
  {
   "cell_type": "code",
   "execution_count": null,
   "id": "00e7cacf",
   "metadata": {
    "ExecuteTime": {
     "end_time": "2023-01-13T02:58:09.825436Z",
     "start_time": "2023-01-13T02:58:09.794176Z"
    },
    "hidden": true
   },
   "outputs": [],
   "source": [
    "# E_bsr = scipy.sparse.bsr_matrix(E)#, dtype=V.dtype)\n",
    "# E_bsr\n",
    "# # vals, vecs = scipy.sparse.linalg.eigs(E_bsr, k=6)\n",
    "# vals, vecs = scipy.sparse.linalg.eigs(E_bsr, k=30)\n",
    "# print(*vals)\n",
    "# vals.shape, vecs.shape"
   ]
  },
  {
   "cell_type": "code",
   "execution_count": null,
   "id": "d2e1d2a4",
   "metadata": {
    "ExecuteTime": {
     "end_time": "2023-01-13T02:58:09.859475Z",
     "start_time": "2023-01-13T02:58:09.827150Z"
    },
    "hidden": true
   },
   "outputs": [],
   "source": [
    "# print(np.min(E),np.max(E))\n",
    "# print(np.min(Einv),np.max(Einv))\n",
    "# # -0.7250259143115632 3.5552214831079576\n",
    "# # -1.3519086938558618 2.7442374749979765"
   ]
  },
  {
   "cell_type": "code",
   "execution_count": null,
   "id": "0fb65aa1",
   "metadata": {
    "ExecuteTime": {
     "end_time": "2023-01-13T02:58:09.947412Z",
     "start_time": "2023-01-13T02:58:09.861971Z"
    },
    "hidden": true
   },
   "outputs": [],
   "source": [
    "#input: Einv,V,T\n",
    "#output: ome"
   ]
  },
  {
   "cell_type": "code",
   "execution_count": null,
   "id": "c91b519e",
   "metadata": {
    "ExecuteTime": {
     "end_time": "2023-01-13T02:58:10.123582Z",
     "start_time": "2023-01-13T02:58:09.958782Z"
    },
    "hidden": true
   },
   "outputs": [],
   "source": [
    "# #input: Einv\n",
    "# #output: lam approximating the groundstate eigenvector\n",
    "# lam=np.zeros(4*nV)\n",
    "# # lam[1::4]=1.\n",
    "# # lam[-1::4]=1.\n",
    "# # lam[::4]=1.\n",
    "# lam[3::4]=1.\n",
    "# lam/=np.linalg.norm(lam)\n",
    "# # lam+=1.\n",
    "# #Q: is ^this right?\n",
    "# #Q is this better? lam[3::4]=1.\n",
    "# ## lam(1:4:end)=1;  \n",
    "# print(lam.shape)\n",
    "# # for c1 in range(11):\n",
    "# # for c1 in range(111):\n",
    "# # for c1 in range(11):\n",
    "# # for c1 in range(12):\n",
    "# for c1 in range(11):\n",
    "#     cnv=lam\n",
    "#     #lam=lam/E\n",
    "#     lam =lam@Einv\n",
    "# #     lam =Einv@lam\n",
    "#     #Q: left multiply instead or right multiply?\n",
    "#     #heretim\n",
    "#     lam/=np.linalg.norm(lam);\n",
    "# print(lam.shape)\n",
    "# # np.min(lam),np.max(lam)\n",
    "# # res=(E@lam)/lam; \n",
    "# res=(lam@E)/lam; \n",
    "# # print(f'mean: {np.mean(res):.4f}, var:  {np.var(res):.4f}, delta: {np.linalg.norm(cnv-lam):.4f}')\n",
    "# print(f'mean: {np.mean(res):e}, var:  {np.var(res):e}, delta: {np.linalg.norm(cnv-lam):e}')\n",
    "# # fprintf('mean %e, var %e, delta %e\\n',mean(res),var(res),norm(cnv-lam))\n",
    "# # mean: 0.0002, var:  0.0000, delta: 0.0000\n",
    "# #reproduced here (right divide):\n",
    "# # mean: 2.904111e-05, var:  7.868836e-25, delta: 8.198954e-14\n",
    "# #reproduced here (left divide):\n",
    "# # mean: 2.904111e-05, var:  1.888099e-27, delta: 8.550921e-14\n",
    "# #expected from matlab:\n",
    "# # mean 9.446027e-05, var 5.570631e-28, delta 1.018211e-12\n",
    "# # mean: 6.156186e-04, var:  6.571099e-04, delta: 4.380033e-01\n",
    "# # mean: 6.670979e-18, var:  5.166021e-26, delta: 1.526158e-16\n",
    "# # mean: -2.961917e-04, var:  5.994400e-24, delta: 2.000000e+00\n",
    "# # mean: 9.446027e-05, var:  3.590215e-26, delta: 5.604947e-14\n",
    "\n",
    "# #DONT: #adjust indexing  \n",
    "# # lam = np.roll(lam,1) #<<< looks wrong\n",
    "# # lam = np.roll(lam,-1) #<<< looks nearly plausible\n",
    "# # #heretim\n",
    "\n",
    "# # lam_=list(lam[:10])\n",
    "# lam_=list(lam[:6])\n",
    "# # lam_=list(lam[:6])\n",
    "# # lam_=list(np.roll(lam[::-1],1)[:6])\n",
    "# # lam_=list(np.roll(lam,3)[:6])\n",
    "# print(f\"\\nlam_:\")\n",
    "# print(f\"{lam_}\")\n",
    "# res.shape,res.dtype"
   ]
  },
  {
   "cell_type": "code",
   "execution_count": null,
   "id": "424375ec",
   "metadata": {
    "ExecuteTime": {
     "end_time": "2023-01-13T02:58:10.183119Z",
     "start_time": "2023-01-13T02:58:10.125822Z"
    },
    "hidden": true
   },
   "outputs": [],
   "source": [
    "# L,ome=map_lam_real(lam,V,T,printing=True)#,**kwargs)\n",
    "# print(f\"\\n{L.shape=}, {ome.shape=}\")\n",
    "# print(f\"{np.min(L)=},{np.max(L)=}\")\n",
    "# print(f\"{np.min(ome)=},{np.max(ome)=}\")\n",
    "# # print(f\"{np.around(L[:10,:10],2)=}\")\n",
    "# # print(f\"{ome[:6]=}\")\n",
    "# Lp=np.roll(np.roll(L,3,axis=0),3,axis=1)\n",
    "# omep=np.roll(ome,3)\n",
    "\n",
    "# #center input\n",
    "# ome = omep.reshape((nV,4))\n",
    "# ome = ome - np.broadcast_to(np.mean(ome,axis=0), shape=(nV,4), subok=False)\n",
    "# ome = ome.flatten()\n",
    "# A = csc_matrix(Lp, dtype=float) #<<< looks fastest for demo rho\n",
    "# # A = scipy.sparse.bsr_matrix(Lp, dtype=float)\n",
    "# # A = scipy.sparse.csr_matrix(Lp, dtype=float)\n",
    "# #solve the linear system in the least square\n",
    "# b = np.array(ome, dtype=float)\n",
    "# x, istop, itn, normr = lsqr(A, b)[:4]\n",
    "# print(f\"{istop=}\")"
   ]
  },
  {
   "cell_type": "code",
   "execution_count": null,
   "id": "b5268ff4",
   "metadata": {
    "ExecuteTime": {
     "end_time": "2023-01-13T02:58:10.258419Z",
     "start_time": "2023-01-13T02:58:10.189179Z"
    },
    "hidden": true
   },
   "outputs": [],
   "source": [
    "# #Q: what's the fastest way to compute x vs. x2 or x3\n",
    "# #A: it appears Lp_sparse is fastest\n",
    "# Lp_sparse=scipy.sparse.csc_matrix(Lp,dtype=float)\n",
    "# x2 =scipy.sparse.linalg.lsqr(Lp_sparse,b)[0] #lam=lam/E"
   ]
  },
  {
   "cell_type": "code",
   "execution_count": null,
   "id": "6b26ad0d",
   "metadata": {
    "ExecuteTime": {
     "end_time": "2023-01-13T02:58:10.312959Z",
     "start_time": "2023-01-13T02:58:10.262896Z"
    },
    "hidden": true
   },
   "outputs": [],
   "source": [
    "# Lpab = decomp_banded_matrix(Lp)\n",
    "# Lp_sparse=scipy.sparse.csc_matrix(Lp,dtype=float)\n",
    "# # num_steps=11\n",
    "# # for step in range(num_steps):\n",
    "# #     cnv=lam\n"
   ]
  },
  {
   "cell_type": "code",
   "execution_count": null,
   "id": "7ea31f55",
   "metadata": {
    "ExecuteTime": {
     "end_time": "2023-01-13T02:58:10.355301Z",
     "start_time": "2023-01-13T02:58:10.315775Z"
    },
    "hidden": true
   },
   "outputs": [],
   "source": [
    "# Eab = decomp_banded_matrix(E)\n"
   ]
  },
  {
   "cell_type": "code",
   "execution_count": null,
   "id": "9efc372b",
   "metadata": {
    "ExecuteTime": {
     "end_time": "2023-01-13T02:58:10.429231Z",
     "start_time": "2023-01-13T02:58:10.357527Z"
    },
    "hidden": true
   },
   "outputs": [],
   "source": [
    "# np.min(b),np.max(b)"
   ]
  },
  {
   "cell_type": "code",
   "execution_count": null,
   "id": "58c79519",
   "metadata": {
    "ExecuteTime": {
     "end_time": "2023-01-13T02:58:10.506257Z",
     "start_time": "2023-01-13T02:58:10.431763Z"
    },
    "hidden": true
   },
   "outputs": [],
   "source": [
    "# np.min(lam),np.max(lam)"
   ]
  },
  {
   "cell_type": "code",
   "execution_count": null,
   "id": "985b9d94",
   "metadata": {
    "ExecuteTime": {
     "end_time": "2023-01-13T02:58:10.559980Z",
     "start_time": "2023-01-13T02:58:10.509208Z"
    },
    "hidden": true
   },
   "outputs": [],
   "source": [
    "\n",
    "# # LinAlgError: 1th leading minor not positive definite \n",
    "# x3 =solveh_banded(Lpab,b)#,lower=False)#,**kwargs) #lam =mldivide(lam,ab)\n",
    "# x3 =solveh_banded(Eab,b)#,lower=False)#,**kwargs) #lam =mldivide(lam,ab)\n",
    "#  LinAlgError: 1th leading minor not positive definite \n",
    "# x3 =solveh_banded(Eab,lam)#,lower=False)#,**kwargs) #lam =mldivide(lam,ab)\n",
    "#  LinAlgError: 1th leading minor not positive definite "
   ]
  },
  {
   "cell_type": "code",
   "execution_count": null,
   "id": "f46b2375",
   "metadata": {
    "ExecuteTime": {
     "end_time": "2023-01-12T03:10:44.705439Z",
     "start_time": "2023-01-12T03:10:43.414080Z"
    },
    "hidden": true
   },
   "outputs": [],
   "source": []
  },
  {
   "cell_type": "code",
   "execution_count": null,
   "id": "b521baf2",
   "metadata": {
    "ExecuteTime": {
     "end_time": "2023-01-13T02:58:10.596727Z",
     "start_time": "2023-01-13T02:58:10.562552Z"
    },
    "hidden": true
   },
   "outputs": [],
   "source": [
    "#Q: do lm1,lm2at the end of the for loop match?\n",
    "#A: yes!\n"
   ]
  },
  {
   "cell_type": "code",
   "execution_count": null,
   "id": "dca18607",
   "metadata": {
    "ExecuteTime": {
     "end_time": "2023-01-13T02:58:10.644494Z",
     "start_time": "2023-01-13T02:58:10.599316Z"
    },
    "hidden": true
   },
   "outputs": [],
   "source": [
    "# # Einv_=scipy.sparse.inv(E)\n",
    "# E_sparse=scipy.sparse.csc_matrix(E,dtype=float)"
   ]
  },
  {
   "cell_type": "code",
   "execution_count": null,
   "id": "e32fa7e6",
   "metadata": {
    "ExecuteTime": {
     "end_time": "2023-01-13T02:58:10.684629Z",
     "start_time": "2023-01-13T02:58:10.646796Z"
    },
    "hidden": true
   },
   "outputs": [],
   "source": [
    "# #5 minutes using the float64\n",
    "# Einv_sparse=scipy.sparse.linalg.inv(E_sparse)\n",
    "# # scipy.sparse.linalg.isolve"
   ]
  },
  {
   "cell_type": "code",
   "execution_count": null,
   "id": "61be4521",
   "metadata": {
    "ExecuteTime": {
     "end_time": "2023-01-13T02:58:10.778742Z",
     "start_time": "2023-01-13T02:58:10.686855Z"
    },
    "hidden": true
   },
   "outputs": [],
   "source": [
    "# Einv_sparse.dtype"
   ]
  },
  {
   "cell_type": "code",
   "execution_count": null,
   "id": "4d80ce21",
   "metadata": {
    "ExecuteTime": {
     "end_time": "2023-01-13T02:58:10.839144Z",
     "start_time": "2023-01-13T02:58:10.783388Z"
    },
    "hidden": true
   },
   "outputs": [],
   "source": [
    "# E_bsr=scipy.sparse.bsr_matrix(E,dtype=float)"
   ]
  },
  {
   "cell_type": "code",
   "execution_count": null,
   "id": "aefeb4b0",
   "metadata": {
    "ExecuteTime": {
     "end_time": "2023-01-13T02:58:10.888033Z",
     "start_time": "2023-01-13T02:58:10.843885Z"
    },
    "hidden": true
   },
   "outputs": [],
   "source": [
    "# #6 minute runtime\n",
    "# Einv_sparse2=scipy.sparse.linalg.inv(E_bsr)"
   ]
  },
  {
   "cell_type": "code",
   "execution_count": null,
   "id": "a88a0ee4",
   "metadata": {
    "ExecuteTime": {
     "end_time": "2023-01-13T02:58:10.948804Z",
     "start_time": "2023-01-13T02:58:10.891174Z"
    },
    "hidden": true
   },
   "outputs": [],
   "source": [
    "# Einv_sparse2.dtype"
   ]
  },
  {
   "cell_type": "code",
   "execution_count": null,
   "id": "1a682fbc",
   "metadata": {
    "ExecuteTime": {
     "end_time": "2023-01-13T02:58:10.989599Z",
     "start_time": "2023-01-13T02:58:10.951106Z"
    },
    "hidden": true
   },
   "outputs": [],
   "source": [
    "#TODO: wrap map from V,T to E,lam,Einv # run time <3 minutes bc matrix inversion\n",
    "#TODO: wrap map from V,T,E,lam,?? to V_out # run time <10 seconds\n",
    "#TODO: wrap map from V,T,E,lam to V_out"
   ]
  },
  {
   "cell_type": "code",
   "execution_count": null,
   "id": "97460e16",
   "metadata": {
    "ExecuteTime": {
     "end_time": "2023-01-13T02:58:11.025692Z",
     "start_time": "2023-01-13T02:58:10.991908Z"
    },
    "hidden": true
   },
   "outputs": [],
   "source": [
    "#WARNING: numpy slow here \n",
    "# # np.linalg.lstsq?\n",
    "# np.linalg.lstsq(a, b, rcond='warn')\n",
    "# Docstring:\n",
    "# Return the least-squares solution to a linear matrix equation."
   ]
  },
  {
   "cell_type": "markdown",
   "id": "92d74ad2",
   "metadata": {
    "heading_collapsed": true
   },
   "source": [
    "## DONE: visualize the least-square solution "
   ]
  },
  {
   "cell_type": "code",
   "execution_count": null,
   "id": "f7360fe0",
   "metadata": {
    "ExecuteTime": {
     "end_time": "2023-01-13T02:58:11.062631Z",
     "start_time": "2023-01-13T02:58:11.027439Z"
    },
    "hidden": true
   },
   "outputs": [],
   "source": [
    "# np.max(lam),np.linalg.norm(lam)\n",
    "# # (0.0191443592787548, 1.0)\n",
    "\n",
    "# L,ome=map_lam_real(lam,V,T,printing=True)#,**kwargs)\n",
    "# print(f\"\\n{L.shape=}, {ome.shape=}\")\n",
    "# print(f\"{np.min(L)=},{np.max(L)=}\")\n",
    "# print(f\"{np.min(ome)=},{np.max(ome)=}\")\n",
    "# # print(f\"{np.around(L[:10,:10],2)=}\")\n",
    "# # print(f\"{ome[:6]=}\")\n",
    "\n",
    "# Lp=np.roll(np.roll(L,3,axis=0),3,axis=1)\n",
    "# omep=np.roll(ome,3)"
   ]
  },
  {
   "cell_type": "code",
   "execution_count": null,
   "id": "304ea431",
   "metadata": {
    "ExecuteTime": {
     "end_time": "2023-01-13T02:58:11.097982Z",
     "start_time": "2023-01-13T02:58:11.064228Z"
    },
    "hidden": true
   },
   "outputs": [],
   "source": [
    "# print(f\"Q: do these agree with the matlab readout?\")\n",
    "# print(f\"A: for L, yes! for ome, no...\")\n",
    "# # Lp=np.roll(L,(3,-3))\n",
    "# # Lp=np.roll(L,(-3,3))\n",
    "# # Lp=np.roll(L,-3)\n",
    "# # Lstart=np.around(L[:9,:9],3)\n",
    "# Lstart=np.around(Lp[:10,:10],3)\n",
    "# omestart=list(omep[:6]*1e5)\n",
    "# print(f\"Lstart:\")\n",
    "# print(f\"{Lstart}\")\n",
    "# print(f\"\\nome_start:\")\n",
    "# print(f\"{omestart}\")\n",
    "# # [-1.287227454169968e-17, -0.014770930578963743, 0.056678765468954485, -0.0033788113455863788, 5.4603064682953105e-18, -0.01652640834011626]\n",
    "# # [-1.287227454169968e-17, 0.014770930578963785, -0.05667876546895455, 0.0033788113455863996, 5.4603064682953105e-18, 0.01652640834011626]\n"
   ]
  },
  {
   "cell_type": "code",
   "execution_count": null,
   "id": "761856db",
   "metadata": {
    "ExecuteTime": {
     "end_time": "2023-01-13T02:58:11.140644Z",
     "start_time": "2023-01-13T02:58:11.099693Z"
    },
    "hidden": true
   },
   "outputs": [],
   "source": [
    "# list(omep[:10])"
   ]
  },
  {
   "cell_type": "code",
   "execution_count": null,
   "id": "3d97a68c",
   "metadata": {
    "ExecuteTime": {
     "end_time": "2023-01-13T02:58:11.177798Z",
     "start_time": "2023-01-13T02:58:11.142687Z"
    },
    "hidden": true
   },
   "outputs": [],
   "source": [
    "# FIXED: - it looks like some vector components are switched in the solution start, ome_start:\n",
    "#             - i:j, j:k, k:i \n",
    "#             - x:y, y:z, z:x"
   ]
  },
  {
   "cell_type": "code",
   "execution_count": null,
   "id": "16fba242",
   "metadata": {
    "ExecuteTime": {
     "end_time": "2023-01-13T02:58:11.218546Z",
     "start_time": "2023-01-13T02:58:11.180110Z"
    },
    "hidden": true
   },
   "outputs": [],
   "source": [
    "# # L_=np.around(Lp[:9,:9],3)\n",
    "# L_=np.around(Lp[-9:,-9:],3)\n",
    "# ome_=list(omep[:6]*1e5)\n",
    "# print(f\"L_:\")\n",
    "# print(f\"{L_}\")\n",
    "# print(f\"\\nome_:\")\n",
    "# print(f\"{ome_}\")\n",
    "\n",
    "# #DONE: checked L agrees at its head and tail\n",
    "# #PROBLEM IDENTIFIED #the z component is wrong... in ome"
   ]
  },
  {
   "cell_type": "code",
   "execution_count": null,
   "id": "13509340",
   "metadata": {
    "ExecuteTime": {
     "end_time": "2023-01-13T02:58:11.262737Z",
     "start_time": "2023-01-13T02:58:11.222347Z"
    },
    "hidden": true
   },
   "outputs": [],
   "source": [
    "# #plot the computed groundstate\n",
    "# plt.plot(lam[::4])\n",
    "# plt.plot(lam[1::4])\n",
    "# plt.plot(lam[2::4])\n",
    "# plt.plot(lam[3::4])"
   ]
  },
  {
   "cell_type": "code",
   "execution_count": null,
   "id": "74892b04",
   "metadata": {
    "ExecuteTime": {
     "end_time": "2023-01-13T02:58:11.297988Z",
     "start_time": "2023-01-13T02:58:11.264796Z"
    },
    "hidden": true
   },
   "outputs": [],
   "source": [
    "#>12 minute run time (might overestimate bc swap_ram=95%\n",
    "# # Q: can I get a given state of eigenspectrum this way?\n",
    "# #get the first two eigenvectors\n",
    "# Ab = decomp_banded_matrix(A=E)\n",
    "# w, v = scipy.linalg.eig_banded(Ab, lower=True, select='v', select_range=[0,1])\n",
    "# lamv=v[0]\n",
    "# lamv.shape\n"
   ]
  },
  {
   "cell_type": "code",
   "execution_count": null,
   "id": "592a926d",
   "metadata": {
    "ExecuteTime": {
     "end_time": "2023-01-13T02:58:11.332386Z",
     "start_time": "2023-01-13T02:58:11.300253Z"
    },
    "hidden": true
   },
   "outputs": [],
   "source": [
    "#DONE: dev/test mldivide_banded\n",
    "#DONE: replace all matrix inversions with mldivide_banded iterated 11 times\n",
    "#DONE: test equivalence with incumbant solution. it's slower..."
   ]
  },
  {
   "cell_type": "markdown",
   "id": "391081dc",
   "metadata": {
    "hidden": true
   },
   "source": [
    "ROOT CAUSE IDENTIFIED:\n",
    "- there are differences in L\n",
    "- there are differences in ome\n",
    "- Q: can i shift L,ome in a way that make the difference go away? \n",
    "- A: yes.  there are still differences in ome, however..."
   ]
  },
  {
   "cell_type": "markdown",
   "id": "29334358",
   "metadata": {
    "ExecuteTime": {
     "end_time": "2023-01-12T01:32:21.953390Z",
     "start_time": "2023-01-12T01:32:19.684854Z"
    }
   },
   "source": [
    "# Step 2) visualize the least-square approximate to the desired deformation"
   ]
  },
  {
   "cell_type": "code",
   "execution_count": null,
   "id": "64d0e0a0",
   "metadata": {
    "ExecuteTime": {
     "end_time": "2023-01-14T00:59:19.433850Z",
     "start_time": "2023-01-14T00:59:16.139219Z"
    }
   },
   "outputs": [],
   "source": [
    "printing=True\n",
    "#sparse soln: <20 second run time \n",
    "print(f\"estimating groundstate eigenvector (estimated run time <20 seconds)... \")\n",
    "#sparse soln: <20 second run time \n",
    "if printing:\n",
    "    print(f\"\\nPerforming linear algebra solve...\")\n",
    "lam,cnv = comp_groundstate_eigenvector_sparse(E)\n",
    "if printing:\n",
    "    print(f\"linear solve complete!\")\n",
    "res=(lam@E)/lam; \n",
    "print(f'mean: {np.mean(res):e}, var:  {np.var(res):e}, delta: {np.linalg.norm(cnv-lam):e}')"
   ]
  },
  {
   "cell_type": "code",
   "execution_count": null,
   "id": "ceee9b7b",
   "metadata": {
    "ExecuteTime": {
     "end_time": "2023-01-14T00:59:19.663180Z",
     "start_time": "2023-01-14T00:59:19.439269Z"
    }
   },
   "outputs": [],
   "source": [
    "# from scipy.sparse import csc_matrix\n",
    "# from scipy.sparse.linalg import lsqr\n",
    "#plot the computed groundstate\n",
    "plt.plot(lam[::4])\n",
    "plt.plot(lam[1::4])\n",
    "plt.plot(lam[2::4])\n",
    "plt.plot(lam[3::4])\n",
    "print(np.max(lam),np.linalg.norm(lam))\n",
    "plt.show()"
   ]
  },
  {
   "cell_type": "code",
   "execution_count": null,
   "id": "e79cef51",
   "metadata": {
    "ExecuteTime": {
     "end_time": "2023-01-14T00:59:32.279163Z",
     "start_time": "2023-01-14T00:59:19.666383Z"
    }
   },
   "outputs": [],
   "source": [
    "#heretim\n",
    "#DONE: wrap from here to V_out\n",
    "#DONE: wrap all this in a routine\n",
    "#DONE: make it as fast as possible (first)\n",
    "x,Lp,ome = map_real_lam_to_vertices(lam,V,T,printing=True,use_return_Lp=True)#,**kwargs)"
   ]
  },
  {
   "cell_type": "code",
   "execution_count": null,
   "id": "69dfe8be",
   "metadata": {
    "ExecuteTime": {
     "end_time": "2023-01-14T00:59:33.524494Z",
     "start_time": "2023-01-14T00:59:32.282770Z"
    }
   },
   "outputs": [],
   "source": [
    "lam0=lam.copy() #initial (trivial) state\n",
    "Lp0=Lp.copy()\n",
    "ome0=ome.copy()\n",
    "# lam1=lam.copy()  #final state\n",
    "# Lp1=Lp.copy()\n",
    "# ome1=ome.copy()"
   ]
  },
  {
   "cell_type": "code",
   "execution_count": null,
   "id": "e75412dc",
   "metadata": {
    "ExecuteTime": {
     "end_time": "2023-01-14T01:00:37.575868Z",
     "start_time": "2023-01-14T01:00:37.533667Z"
    }
   },
   "outputs": [],
   "source": [
    "lam0.shape,lam1.shape"
   ]
  },
  {
   "cell_type": "code",
   "execution_count": null,
   "id": "4baa1432",
   "metadata": {
    "ExecuteTime": {
     "end_time": "2023-01-14T01:00:45.197675Z",
     "start_time": "2023-01-14T01:00:45.137974Z"
    }
   },
   "outputs": [],
   "source": [
    "#save lam0,lam1 as numpy arrays\n",
    "lam_dir = '/Users/timothytyree/Documents/meshes/res/rho_grnd_state.npz'\n",
    "np.savez_compressed(lam_dir, rho=rho, lam0=lam0, lam1=lam1, tria=tria)#, vert=vert)\n",
    "assert os.path.exists(lam_dir)"
   ]
  },
  {
   "cell_type": "code",
   "execution_count": null,
   "id": "7f1a02d8",
   "metadata": {},
   "outputs": [],
   "source": []
  },
  {
   "cell_type": "code",
   "execution_count": null,
   "id": "d4cc0259",
   "metadata": {
    "ExecuteTime": {
     "end_time": "2023-01-14T00:35:16.289223Z",
     "start_time": "2023-01-14T00:35:16.248659Z"
    }
   },
   "outputs": [],
   "source": [
    "# dict_arr=dict(\n",
    "#     lam0\n",
    "#     Lp0=Lp0,\n",
    "#     ome0=ome0,\n",
    "#     Lp1\n",
    "# )\n",
    "# ome0.shape"
   ]
  },
  {
   "cell_type": "code",
   "execution_count": null,
   "id": "83ca81f5",
   "metadata": {},
   "outputs": [],
   "source": []
  },
  {
   "cell_type": "code",
   "execution_count": null,
   "id": "cc52b446",
   "metadata": {
    "ExecuteTime": {
     "end_time": "2023-01-13T06:19:37.185589Z",
     "start_time": "2023-01-13T06:19:37.142437Z"
    }
   },
   "outputs": [],
   "source": [
    "# #test lam0 is not to be zero to machine precision\n",
    "# assert np.isclose(lam0,0).sum()==np.isclose(lam0,0).shape[0]"
   ]
  },
  {
   "cell_type": "code",
   "execution_count": null,
   "id": "724dd1dc",
   "metadata": {
    "ExecuteTime": {
     "end_time": "2023-01-14T00:44:43.989178Z",
     "start_time": "2023-01-14T00:44:43.880573Z"
    }
   },
   "outputs": [],
   "source": [
    "om=x.copy()\n",
    "#center result\n",
    "om = om.reshape((nV,4))\n",
    "om = om - np.broadcast_to(np.mean(om,axis=0), shape=(nV,4), subok=False)\n",
    "#normalize output mesh\n",
    "nrm = np.sum(om*om,axis=0)\n",
    "# nrm=sum(ome.*ome,1);\n",
    "ome_out=om/np.sqrt(np.max(nrm))\n",
    "# ome_out=om#/np.sqrt(np.max(nrm))\n",
    "# ome=ome/sqrt(max(nrm));\n",
    "V_out = ome_out[:,1:]\n",
    "scalar_out = ome_out[:,0]\n",
    "# V=ome(2:end,:);\n",
    "print(f\"\\nQ: is the smallest value in the first index?\\m\")\n",
    "print(f\"*** Norm: {list(nrm)} ***\")\n",
    "# np.min(scalar_out),np.max(scalar_out)\n",
    "assert vert.shape==V_out.shape\n",
    "assert not np.isnan(V_out).any()\n",
    "# np.max(np.abs(V_out)),np.mean(np.abs(V_out))\n",
    "V_out.dtype,V_out.shape"
   ]
  },
  {
   "cell_type": "code",
   "execution_count": null,
   "id": "f4b88860",
   "metadata": {
    "ExecuteTime": {
     "end_time": "2023-01-14T00:44:45.406895Z",
     "start_time": "2023-01-14T00:44:45.364509Z"
    }
   },
   "outputs": [],
   "source": [
    "#normalize output mesh\n",
    "nrm = np.sum(ome_out*ome_out,axis=0)\n",
    "# # nrm=sum(ome.*ome,1);\n",
    "# ome_out=om/np.sqrt(np.max(nrm))\n",
    "# # ome_out=om#/np.sqrt(np.max(nrm))\n",
    "# # ome=ome/sqrt(max(nrm));\n",
    "# V_out = ome_out[:,1:]\n",
    "# scalar_out = ome_out[:,0]\n",
    "# # V=ome(2:end,:);\n",
    "print(f\"\\nQ: is the smallest value in the first index?\\m\")\n",
    "print(f\"*** Norm: {list(nrm)} ***\")\n",
    "# V_out = om[:,1:]\n",
    "# scalar_out = om[:,0]\n",
    "# np.min(scalar_out),np.max(scalar_out)\n",
    "# np.max(np.abs(V_out)),np.mean(np.abs(V_out))"
   ]
  },
  {
   "cell_type": "code",
   "execution_count": null,
   "id": "9452af09",
   "metadata": {
    "ExecuteTime": {
     "end_time": "2023-01-14T00:44:50.958624Z",
     "start_time": "2023-01-14T00:44:46.828740Z"
    },
    "scrolled": false
   },
   "outputs": [],
   "source": [
    "#visualize the output mesh\n",
    "# initialize mesh colored by rho\n",
    "mesh_out = trimesh.Trimesh(vertices=V_out,faces=tria,\n",
    "                       face_colors=colors,\n",
    "                       face_attributes={'rho':rho})\n",
    "mesh_out.vertices-=mesh_out.center_mass\n",
    "#normalize output mesh\n",
    "# mesh_out.vertices/=np.sign(mesh_out.volume)*np.abs(mesh_out.volume)**0.33\n",
    "mesh_out.vertices*=np.sign(mesh_out.volume) #account for double cover edge case from quaternionic representation\n",
    "mesh_out.vertices/=np.abs(mesh_out.bounding_sphere.volume)**0.33\n",
    "nrm = np.sum(mesh_out.vertices*mesh_out.vertices,axis=0)\n",
    "\n",
    "# mesh_out.vertices/=np.abs(mesh_out.bounding_sphere.volume)**0.33\n",
    "\n",
    "# #(unecessary?) repair mesh\n",
    "# trimesh.repair.fix_inversion(mesh_out)\n",
    "# trimesh.repair.fix_normals(mesh_out)\n",
    "# trimesh.repair.fix_winding(mesh_out)\n",
    "\n",
    "#print mesh bluf\n",
    "print(f\"{mesh_out.is_watertight=}\")\n",
    "print(f\"{mesh_out.volume=}\")\n",
    "print(f\"{(mesh_out.volume/mesh_out.bounding_sphere.volume)=} (volume relative to smallest bounding sphere)\")\n",
    "print(f\"{mesh_out.center_mass=}\")\n",
    "print(f\"rms norm of mesh vertices: {list(np.sqrt(nrm))} pixels\")\n",
    "print(f\"{mesh_out.is_watertight=} (is the current mesh watertight?)\")\n",
    "print(f\"{mesh_out.euler_number=} (what's the euler number for the mesh?)\")\n",
    "print(f\"volume relative to smallest bounding sphere: {(mesh_out.volume/mesh_out.bounding_sphere.volume)=}\")\n",
    "beep(3)"
   ]
  },
  {
   "cell_type": "code",
   "execution_count": null,
   "id": "84e94183",
   "metadata": {
    "ExecuteTime": {
     "end_time": "2023-01-14T00:44:51.041885Z",
     "start_time": "2023-01-14T00:44:50.961164Z"
    }
   },
   "outputs": [],
   "source": [
    "mesh_out.show()"
   ]
  },
  {
   "cell_type": "code",
   "execution_count": null,
   "id": "55959b3b",
   "metadata": {
    "ExecuteTime": {
     "end_time": "2023-01-14T00:45:00.000102Z",
     "start_time": "2023-01-14T00:44:59.943152Z"
    }
   },
   "outputs": [],
   "source": [
    "volume_initial = mesh.volume#=4.182994798204928\n",
    "volume_final = mesh_out.volume#=4.182994798204928\n",
    "print(f\"{volume_initial=:.4f} voxels, {volume_final=:.4f} voxels\")\n",
    "print(f\"{mesh.bounding_sphere.volume=:.4f} voxels, {mesh_out.bounding_sphere.volume=:.4f} voxels\")\n",
    "print(f\"{volume_initial/mesh.bounding_sphere.volume=:.4f} voxels, {volume_final/mesh_out.bounding_sphere.volume=:.4f} voxels\")\n",
    "#compute the percent change in relative volume\n",
    "relative_volume_initial = volume_initial/mesh.bounding_sphere.volume\n",
    "change_in_relative_volume = volume_final/mesh_out.bounding_sphere.volume - volume_initial/mesh.bounding_sphere.volume\n",
    "relative_change_in_relative_volume = change_in_relative_volume / relative_volume_initial\n",
    "print(f\"percent change in relative volume: {relative_change_in_relative_volume:.4%}\")"
   ]
  },
  {
   "cell_type": "code",
   "execution_count": null,
   "id": "b5ef7942",
   "metadata": {
    "ExecuteTime": {
     "end_time": "2023-01-14T00:45:05.790742Z",
     "start_time": "2023-01-14T00:45:05.568903Z"
    }
   },
   "outputs": [],
   "source": [
    "#plot the computed groundstate\n",
    "# plt.plot(x[::4])\n",
    "# plt.plot(x[1::4])\n",
    "# plt.plot(x[2::4])\n",
    "# plt.plot(x[3::4])\n",
    "# plt.show()\n",
    "#plot the computed vertex representation of the transformation\n",
    "plt.plot(om[:,0])\n",
    "plt.plot(om[:,1])\n",
    "plt.plot(om[:,2])\n",
    "plt.plot(om[:,3])\n",
    "plt.show()"
   ]
  },
  {
   "cell_type": "code",
   "execution_count": null,
   "id": "0cbd4158",
   "metadata": {
    "ExecuteTime": {
     "end_time": "2023-01-13T02:58:35.523897Z",
     "start_time": "2023-01-13T02:58:35.121854Z"
    }
   },
   "outputs": [],
   "source": []
  },
  {
   "cell_type": "markdown",
   "id": "14974624",
   "metadata": {},
   "source": [
    "# TODO(later): dev interpolating map video\n",
    "\n",
    "\n",
    "\n",
    "\n"
   ]
  },
  {
   "cell_type": "markdown",
   "id": "b7c9b510",
   "metadata": {},
   "source": [
    "## TODO: Simplest case) linear interpolation\n",
    "then view it and decide if anything more complicated is really necessary "
   ]
  },
  {
   "cell_type": "code",
   "execution_count": null,
   "id": "08e7b6a5",
   "metadata": {
    "ExecuteTime": {
     "end_time": "2023-01-14T01:00:51.251975Z",
     "start_time": "2023-01-14T01:00:51.205969Z"
    }
   },
   "outputs": [],
   "source": [
    "lam_dir = '/Users/timothytyree/Documents/meshes/res/rho_grnd_state.npz'\n",
    "arr=np.load(lam_dir)\n",
    "# print(arr.keys())\n",
    "lam0=arr['lam0']\n",
    "lam1=arr['lam1']\n",
    "tria=arr['tria']\n",
    "rho=arr['rho']\n",
    "T=tria\n",
    "V=vert"
   ]
  },
  {
   "cell_type": "code",
   "execution_count": null,
   "id": "4fa26ca1",
   "metadata": {},
   "outputs": [],
   "source": []
  },
  {
   "cell_type": "code",
   "execution_count": null,
   "id": "1ff5c963",
   "metadata": {
    "ExecuteTime": {
     "end_time": "2023-01-13T23:20:52.630005Z",
     "start_time": "2023-01-13T23:20:52.596864Z"
    }
   },
   "outputs": [],
   "source": [
    "#DONE: verify eye is the identity\n",
    "#DONE: caste eye to quaternion dtype as q0\n",
    "#DONE: caste Lp to quaternion dtype as q1\n",
    "#DONE: use quaternion dtype's slerp interpolation method\n",
    "#DONE: caste interpolated q back to same representation as L\n",
    "# Q: does ^this need to be done for ome, too?\n",
    "# A: it looks like i can just slerp x0 to x1\n",
    "#DONT(?): do that <30 second linear solve to get om"
   ]
  },
  {
   "cell_type": "code",
   "execution_count": null,
   "id": "755a69f2",
   "metadata": {
    "ExecuteTime": {
     "end_time": "2023-01-14T01:00:55.516089Z",
     "start_time": "2023-01-14T01:00:55.454450Z"
    }
   },
   "outputs": [],
   "source": [
    "import quaternion\n",
    "\n",
    "def map_to_quaternion_matrix(Lp):\n",
    "    #map from Lp to q1\n",
    "    wm=Lp[::4,::4]\n",
    "    wx=Lp[1::4,1::4]\n",
    "    wy=Lp[2::4,2::4]\n",
    "    wz=Lp[3::4,3::4]\n",
    "    W = np.stack([wm,wx,wy,wz],axis=2)\n",
    "    q1 = quaternion.from_float_array(W)\n",
    "    return q1\n",
    "\n",
    "def map_from_quaternion_matrix(qm):\n",
    "    WT = quaternion.as_float_array(qm).T\n",
    "    nV = qm.shape[0]\n",
    "    Lq = np.zeros((4*nV,4*nV))\n",
    "    Lq[::4,::4]   = WT[0]\n",
    "    Lq[1::4,1::4] = WT[1]\n",
    "    Lq[2::4,2::4] = WT[2]\n",
    "    Lq[3::4,3::4] = WT[3]\n",
    "    return Lq\n",
    "\n",
    "#DONE: dev similar maps for vectors of quaternions\n",
    "def map_to_quaternion_vector(v):\n",
    "    #map from Lp to q1\n",
    "    wm=v[::4]\n",
    "    wx=v[1::4]\n",
    "    wy=v[2::4]\n",
    "    wz=v[3::4]\n",
    "    W = np.stack([wm,wx,wy,wz],axis=1)\n",
    "    qv = quaternion.from_float_array(W)\n",
    "    return qv\n",
    "\n",
    "def map_from_quaternion_vector(qv):\n",
    "    WT = quaternion.as_float_array(qv).T\n",
    "    nV = qv.shape[0]\n",
    "    wv = np.zeros(4*nV)\n",
    "    wv[::4]   = WT[0]\n",
    "    wv[1::4] = WT[1]\n",
    "    wv[2::4] = WT[2]\n",
    "    wv[3::4] = WT[3]\n",
    "    return wv"
   ]
  },
  {
   "cell_type": "code",
   "execution_count": null,
   "id": "814bd2d9",
   "metadata": {
    "ExecuteTime": {
     "end_time": "2023-01-14T01:00:56.026306Z",
     "start_time": "2023-01-14T01:00:55.988885Z"
    }
   },
   "outputs": [],
   "source": [
    "def map_quaternions_to_trimesh(qstar,tria,colors,face_attributes,**kwargs):\n",
    "    \"\"\"map_quaternions_to_trimesh maps qstar to mesh_current.\n",
    "    qstar is a 1D numpy.array of quaternion dtype with a length of the number of vertices.\n",
    "    additional kwargs are passed to trimesh.Trimesh.\n",
    "    \n",
    "    Example Usage:\n",
    "face_attributes={'rho':rho}\n",
    "mesh_current = map_quaternions_to_trimesh(qstar,tria,colors,face_attributes)\n",
    "    \"\"\"\n",
    "    om=quaternion.as_float_array(qstar).copy()\n",
    "    nV=om.shape[0]\n",
    "    #center result\n",
    "    om = om.reshape((nV,4))\n",
    "    om = om - np.broadcast_to(np.mean(om,axis=0), shape=(nV,4), subok=False)\n",
    "    #normalize output mesh\n",
    "    nrm = np.sum(om*om,axis=0)\n",
    "    ome_current=om/np.sqrt(np.max(nrm))\n",
    "    V_current = ome_current[:,1:]\n",
    "    # initialize mesh colored by face_attributes\n",
    "    mesh_current = trimesh.Trimesh(vertices=V_current,faces=tria,\n",
    "                           face_colors=colors,\n",
    "                           face_attributes=face_attributes,**kwargs)\n",
    "    mesh_current.vertices-=mesh_current.center_mass\n",
    "    #normalize output mesh\n",
    "    mesh_current.vertices*=np.sign(mesh_current.volume) #accounts for double cover edge case from quaternionic representation\n",
    "    mesh_current.vertices/=np.abs(mesh_current.bounding_sphere.volume)**(1./3.) #without bounding sphere\n",
    "    # mesh_current.vertices/=np.sign(mesh_current.volume)*np.abs(mesh_current.volume)**0.33 #without bounding sphere\n",
    "    return mesh_current\n",
    "\n",
    "\n",
    "def update_quaternions_to_trimesh_vertices(qstar,mesh_current,\n",
    "                                           center_result=True,\n",
    "                                           normalize_result=True,\n",
    "                                           center_result_again=True,\n",
    "                                           normalize_by_bounding_sphere=True,\n",
    "                                           **kwargs):\n",
    "    \"\"\"update_quaternions_to_trimesh_vertices updates the vertices of mesh_current with qstar.\n",
    "    qstar is a 1D numpy.array of quaternion dtype with a length of the number of vertices.\n",
    "    \n",
    "    Example Usage:\n",
    "update_quaternions_to_trimesh_vertices(qstar,mesh_current,center_result=True,\n",
    "                                           normalize_result=True,center_result_again=True,\n",
    "                                           normalize_by_bounding_sphere=True)#,**kwargs)\n",
    "    \"\"\"\n",
    "    om=quaternion.as_float_array(qstar).copy()\n",
    "    if center_result:\n",
    "        nV=om.shape[0]\n",
    "        #center result\n",
    "        om = om.reshape((nV,4))\n",
    "        om = om - np.broadcast_to(np.mean(om,axis=0), shape=(nV,4), subok=False)\n",
    "    if normalize_result:\n",
    "        #normalize output mesh\n",
    "        nrm = np.sum(om*om,axis=0)\n",
    "        ome_current=om/np.sqrt(np.max(nrm))\n",
    "    else:\n",
    "        ome_current=om\n",
    "    if center_result_again:\n",
    "        mesh_current.vertices =ome_current[:,1:]\n",
    "        mesh_current.vertices-=mesh_current.center_mass\n",
    "    if normalize_by_bounding_sphere:\n",
    "        #normalize output mesh\n",
    "        mesh_current.vertices*=np.sign(mesh_current.volume) #accounts for double cover edge case from quaternionic representation\n",
    "        mesh_current.vertices/=np.abs(mesh_current.bounding_sphere.volume)**(1./3.) #without bounding sphere\n",
    "        # mesh_current.vertices/=np.sign(mesh_current.volume)*np.abs(mesh_current.volume)**0.33 #without bounding sphere\n",
    "    return mesh_current\n"
   ]
  },
  {
   "cell_type": "code",
   "execution_count": null,
   "id": "d501ffe3",
   "metadata": {
    "ExecuteTime": {
     "end_time": "2023-01-14T01:01:11.591074Z",
     "start_time": "2023-01-14T01:00:56.697065Z"
    }
   },
   "outputs": [],
   "source": [
    "x,Lp,ome = map_real_lam_to_vertices(lam,V,T,printing=True,use_return_Lp=True)#,**kwargs)\n",
    "Lp.shape,x.shape,ome.shape"
   ]
  },
  {
   "cell_type": "code",
   "execution_count": null,
   "id": "0560b507",
   "metadata": {
    "ExecuteTime": {
     "end_time": "2023-01-14T01:01:11.677302Z",
     "start_time": "2023-01-14T01:01:11.594097Z"
    }
   },
   "outputs": [],
   "source": [
    "v = ome.copy()\n",
    "v = x.copy()"
   ]
  },
  {
   "cell_type": "code",
   "execution_count": null,
   "id": "cfa02e9b",
   "metadata": {
    "ExecuteTime": {
     "end_time": "2023-01-14T01:01:14.659854Z",
     "start_time": "2023-01-14T01:01:11.679682Z"
    }
   },
   "outputs": [],
   "source": [
    "#map from Lp to q1\n",
    "q1 = map_to_quaternion_matrix(Lp)\n",
    "#map from q1 to Lq\n",
    "Lq = map_from_quaternion_matrix(q1)\n",
    "#test equivalence between Lp and Lq\n",
    "assert (Lp==Lq).all()\n",
    "\n",
    "qv = map_to_quaternion_vector(v)\n",
    "wv = map_from_quaternion_vector(qv)\n",
    "#test equivalence between v and wv\n",
    "assert (wv==v).all()"
   ]
  },
  {
   "cell_type": "markdown",
   "id": "2a41ee90",
   "metadata": {},
   "source": [
    "## DONE: dev slerp\n",
    "Q: can I use the quaternionic vector solutions directly?"
   ]
  },
  {
   "cell_type": "code",
   "execution_count": null,
   "id": "809ad1e7",
   "metadata": {
    "ExecuteTime": {
     "end_time": "2023-01-14T00:45:33.624731Z",
     "start_time": "2023-01-14T00:45:33.318968Z"
    }
   },
   "outputs": [],
   "source": [
    "fig,axs=plt.subplots(ncols=2,figsize=(12,4))\n",
    "# #plot the initial/final states\n",
    "plt.sca(axs[0])\n",
    "plt.plot(lam0[::4])\n",
    "plt.plot(lam0[1::4])\n",
    "plt.plot(lam0[2::4])\n",
    "plt.plot(lam0[3::4])\n",
    "plt.sca(axs[1])\n",
    "plt.plot(lam1[::4])\n",
    "plt.plot(lam1[1::4])\n",
    "plt.plot(lam1[2::4])\n",
    "plt.plot(lam1[3::4])\n",
    "plt.show()"
   ]
  },
  {
   "cell_type": "code",
   "execution_count": null,
   "id": "64f95d20",
   "metadata": {
    "ExecuteTime": {
     "end_time": "2023-01-14T01:01:45.790466Z",
     "start_time": "2023-01-14T01:01:31.285492Z"
    }
   },
   "outputs": [],
   "source": [
    "#generate initial state\n",
    "x0,Lp0,ome0 = map_real_lam_to_vertices(lam0,V,T,printing=True,use_return_Lp=True)#,**kwargs)\n",
    "q0 = map_to_quaternion_vector(x0)"
   ]
  },
  {
   "cell_type": "code",
   "execution_count": null,
   "id": "ae2d50f0",
   "metadata": {
    "ExecuteTime": {
     "end_time": "2023-01-14T01:01:59.922020Z",
     "start_time": "2023-01-14T01:01:45.794518Z"
    }
   },
   "outputs": [],
   "source": [
    "#generate final state\n",
    "x1,Lp,ome = map_real_lam_to_vertices(lam1,V,T,printing=True,use_return_Lp=True)#,**kwargs)\n",
    "q1 = map_to_quaternion_vector(x1)\n"
   ]
  },
  {
   "cell_type": "code",
   "execution_count": null,
   "id": "c65eaa47",
   "metadata": {
    "ExecuteTime": {
     "end_time": "2023-01-13T20:14:50.610436Z",
     "start_time": "2023-01-13T20:14:50.569872Z"
    }
   },
   "outputs": [],
   "source": [
    "# # Calculate slerp from arrays of (q_1, q_2, tau)\n",
    "#slerp_vectorized signature:\n",
    "# np.slerp_vectorized(x1, x2, x3, /, out=None, *, where=True, casting='same_kind', order='K', dtype=None, subok=True[, signature, extobj])\n",
    "#squad_vectorized signature takes a list of states, potentially from ibid\n",
    "# np.squad_vectorized"
   ]
  },
  {
   "cell_type": "code",
   "execution_count": null,
   "id": "746554f0",
   "metadata": {
    "ExecuteTime": {
     "end_time": "2023-01-14T00:46:36.308616Z",
     "start_time": "2023-01-14T00:46:36.266469Z"
    }
   },
   "outputs": [],
   "source": [
    "# # Calculate slerp from arrays of (q_1, q_2, tau)\n",
    "# #DONE: test slerp reproduces the endpoints of interpolation for a given element\n",
    "# q = np.slerp_vectorized(q00,q11.conjugate(),0)\n",
    "# assert q==q00\n",
    "# q = np.slerp_vectorized(q00,q11.conjugate(),1)\n",
    "# assert np.isclose(q,q11)"
   ]
  },
  {
   "cell_type": "code",
   "execution_count": null,
   "id": "8f51ec6c",
   "metadata": {
    "ExecuteTime": {
     "end_time": "2023-01-14T01:02:00.015914Z",
     "start_time": "2023-01-14T01:01:59.924286Z"
    }
   },
   "outputs": [],
   "source": [
    "#test slerp reproduces the endpoints of interpolation for whole arrays of quaternions\n",
    "qstar = np.slerp_vectorized(q0,q1.conjugate(),0)\n",
    "assert (quaternion.as_float_array(qstar-q0)==0.).all() #<<< passed with demo\n",
    "qstar = np.slerp_vectorized(q0,q1.conjugate(),1)\n",
    "assert np.isclose(quaternion.as_float_array(qstar-q1),0.,atol=1e-6).all() #<<< passed with demo\n",
    "# assert np.isclose(quaternion.as_float_array(qstar-q1),0.,atol=1e-7).all() #<<< failed with demo\n",
    "\n",
    "# qstar==q00\n",
    "# np.isclose(qstar,q0)\n",
    "# assert q==q00\n",
    "# q = -np.slerp_vectorized(q00,q11,1)\n",
    "# assert np.isclose(q,q11)\n",
    "qstar.shape,q1.shape"
   ]
  },
  {
   "cell_type": "code",
   "execution_count": null,
   "id": "e8c3a9c2",
   "metadata": {
    "ExecuteTime": {
     "end_time": "2023-01-14T01:02:00.059085Z",
     "start_time": "2023-01-14T01:02:00.020240Z"
    }
   },
   "outputs": [],
   "source": [
    "q1c=q1.conjugate()\n",
    "N=q1.shape[0]\n",
    "mesh_current=None"
   ]
  },
  {
   "cell_type": "code",
   "execution_count": null,
   "id": "35a2a129",
   "metadata": {
    "ExecuteTime": {
     "end_time": "2023-01-13T20:17:46.828086Z",
     "start_time": "2023-01-13T20:17:46.785262Z"
    }
   },
   "outputs": [],
   "source": [
    "# iterate over tau"
   ]
  },
  {
   "cell_type": "code",
   "execution_count": null,
   "id": "bbb14554",
   "metadata": {
    "ExecuteTime": {
     "end_time": "2023-01-13T22:44:46.165697Z",
     "start_time": "2023-01-13T22:43:00.943523Z"
    }
   },
   "outputs": [],
   "source": [
    "#TODO: figure out how to make this continuous at tau=0\n",
    "#NOTE: there's a flip of sign at tau=0...\n",
    "#NOTE: who cares if the other end has a rotation flip?\n",
    "qstar_lst=[]\n",
    "dict_qstar_lst=[]\n",
    "N=q1.shape[0]\n",
    "mesh_current=None\n",
    "for tau in tau_values:\n",
    "    #map to vertex representation\n",
    "    qstar = np.slerp_vectorized(q0,q1c,tau) #continuous at 0\n",
    "    face_attributes={'rho':rho} #optionally, update local face attributes <<< FVM access point! (useful!) \n",
    "    if mesh_current is None:\n",
    "        mesh_current = map_quaternions_to_trimesh(qstar,tria,colors,face_attributes)\n",
    "    else:\n",
    "        update_quaternions_to_trimesh_vertices(qstar,mesh_current,center_result=True,\n",
    "                                           normalize_result=True,center_result_again=True,\n",
    "                                           normalize_by_bounding_sphere=True)#,**kwargs)\n",
    "    V=float(mesh_current.volume)\n",
    "#     #mesh_current.vertices = mesh_current.vertices.astype(dtype='float32') ##<<< any effect on curvature runtime?\n",
    "\n",
    "    #isovolemic constraint\n",
    "    vscale = float(V0/V)**(1./3.)\n",
    "    mesh_current.vertices *= vscale\n",
    "    qstar*= vscale #<<< any effect on mean displacement traces?\n",
    "#     qstar[::4]*= float(V0/V) #<<< any effect on mean displacement traces?\n",
    "#     qstar*= float(V0/V) #<<< any effect on mean displacement traces?\n",
    "    q1scaled = q1 * vscale\n",
    "    D0=quaternion.as_float_array(qstar-q0)\n",
    "    D1=quaternion.as_float_array(qstar-q1scaled)\n",
    "    D0*=D0.conjugate()\n",
    "    D1*=D1.conjugate()\n",
    "    delta0 = float(D0.mean())\n",
    "    delta1 = float(D1.mean())\n",
    "    Delta_delta0 = 1.96*D0.std()/np.sqrt(N) #95% confidence interval\n",
    "    Delta_delta1 = 1.96*D1.std()/np.sqrt(N) #95% confidence interval\n",
    "    dict_qstar=dict(\n",
    "        tau=tau,\n",
    "        delta0=delta0,\n",
    "        delta1=2*delta1,\n",
    "        Delta_delta0=Delta_delta0,\n",
    "        Delta_delta1=Delta_delta1,\n",
    "        V=\n",
    "    )\n",
    "    #record\n",
    "    dict_qstar_lst.append(dict_qstar)\n",
    "    qstar_lst.append(qstar)\n",
    "    \n",
    "    #print progress bar\n",
    "    if printing:\n",
    "        step+=1\n",
    "        if step%update_printbar_every==0:\n",
    "            printProgressBar(step+1, num_steps, prefix = 'Progress:', suffix = 'Complete', length = 50)\n",
    "    \n",
    "df_qstar=pd.DataFrame(dict_qstar_lst)\n",
    "del dict_qstar_lst\n",
    "df_qstar.shape,qstar.shape"
   ]
  },
  {
   "cell_type": "code",
   "execution_count": null,
   "id": "f8d8acbe",
   "metadata": {
    "ExecuteTime": {
     "end_time": "2023-01-13T22:42:08.899281Z",
     "start_time": "2023-01-13T22:42:08.857012Z"
    }
   },
   "outputs": [],
   "source": [
    "delta1,delta0"
   ]
  },
  {
   "cell_type": "code",
   "execution_count": null,
   "id": "009a8936",
   "metadata": {
    "ExecuteTime": {
     "end_time": "2023-01-13T22:53:25.058688Z",
     "start_time": "2023-01-13T22:53:24.823419Z"
    }
   },
   "outputs": [],
   "source": [
    "#Q: does q1.conjugate() remove the flip disagreement at the end?\n",
    "#A: not anymore. ;)\n",
    "fontsize=14\n",
    "fig,ax = plt.subplots(figsize=(6,4))\n",
    "df_qstar.plot(x='tau',y='delta0',label=r'$\\delta_0$',ax=ax)\n",
    "df_qstar.plot(x='tau',y='delta1',label=r'$\\delta_1$',ax=ax)\n",
    "AddLegend(ax=ax,fontsize=fontsize)\n",
    "format_plot(ax=ax,xlabel=r'$\\tau$',ylabel=r'Mean Displacement',fontsize=fontsize)\n",
    "# plt.yscale('log')\n",
    "plt.show()"
   ]
  },
  {
   "cell_type": "code",
   "execution_count": null,
   "id": "f81e07c6",
   "metadata": {
    "ExecuteTime": {
     "end_time": "2023-01-13T22:55:14.110176Z",
     "start_time": "2023-01-13T22:55:13.191763Z"
    }
   },
   "outputs": [],
   "source": [
    "#TODO: dev map from qstar to vertex representation\n",
    "# input: qstar\n",
    "# output: mesh\n",
    "beep(4)"
   ]
  },
  {
   "cell_type": "code",
   "execution_count": null,
   "id": "2f9645ff",
   "metadata": {
    "ExecuteTime": {
     "end_time": "2023-01-13T23:20:52.153916Z",
     "start_time": "2023-01-13T23:20:52.044249Z"
    }
   },
   "outputs": [],
   "source": [
    "# tau_values = np.arange(0,1+1e-2,1e-2)\n",
    "tau_values = df_qstar['tau'].values\n",
    "tau_values.shape"
   ]
  },
  {
   "cell_type": "code",
   "execution_count": null,
   "id": "d33723ce",
   "metadata": {
    "ExecuteTime": {
     "end_time": "2023-01-13T21:50:35.932537Z",
     "start_time": "2023-01-13T21:50:35.889318Z"
    }
   },
   "outputs": [],
   "source": [
    "# comp_trimesh_curvature(mesh_current)"
   ]
  },
  {
   "cell_type": "code",
   "execution_count": null,
   "id": "48e1626c",
   "metadata": {
    "ExecuteTime": {
     "end_time": "2023-01-13T23:20:52.041739Z",
     "start_time": "2023-01-13T23:02:21.298668Z"
    }
   },
   "outputs": [],
   "source": [
    "#TODO: estimate mesh volume versus tau\n",
    "#TODO: estimate mesh mean curvature, rhobar, versus tau\n",
    "# use_compute_curvature=False\n",
    "V_lst=[]\n",
    "rhobar_lst=[]\n",
    "# for i,tau in enumerate(df_qstar.tau.values):\n",
    "step=0\n",
    "num_steps=tau_values.shape[0]\n",
    "print(f\"{num_steps=}\")\n",
    "update_printbar_every=2\n",
    "# tau_values = np.arange(0,1+1e-3,1e-3):\n",
    "V0=float(mesh.volume)\n",
    "# mesh_current=None\n",
    "for tau in tau_values:\n",
    "    #map to vertex representation\n",
    "    qstar = np.slerp_vectorized(q0,q1c,tau) #continuous at 0\n",
    "    face_attributes={'rho':rho} #optionally, update local face attributes <<< FVM access point! (useful!) \n",
    "    if mesh_current is None:\n",
    "        mesh_current = map_quaternions_to_trimesh(qstar,tria,colors,face_attributes)\n",
    "    else:\n",
    "        update_quaternions_to_trimesh_vertices(qstar,mesh_current,center_result=True,\n",
    "                                           normalize_result=True,center_result_again=True,\n",
    "                                           normalize_by_bounding_sphere=True)#,**kwargs)\n",
    "    V=float(mesh_current.volume)\n",
    "    mesh_current.vertices = mesh_current.vertices.astype(dtype='float16') ##<<< any effect on curvature runtime? 18 minutes runtime...\n",
    "    #mesh_current.vertices = mesh_current.vertices.astype(dtype='float32') ##<<< any effect on curvature runtime?\n",
    "    \n",
    "    #isovolemic constraint\n",
    "    vscale = float(V0/V)**(1./3.)\n",
    "    mesh_current.vertices *= vscale\n",
    "    qstar*= vscale #<<< any effect on mean displacement traces?\n",
    "    \n",
    "#     #map to vertex representation\n",
    "#     qstar = np.slerp_vectorized(q0,q1c,tau) #continuous at 0\n",
    "#     face_attributes={'rho':rho}\n",
    "#     mesh_current = map_quaternions_to_trimesh(qstar,tria,colors,face_attributes)\n",
    "#     V=float(mesh_current.volume)\n",
    "#     #mesh_current.vertices = mesh_current.vertices.astype(dtype='float32') #saved 4 minutes off 100 iterations\n",
    "#     mesh_current.vertices = mesh_current.vertices.astype(dtype='float16') #saved 4 minutes off 100 iterations\n",
    "#     #isovolemic constraint\n",
    "#     mesh_current.vertices *= float(V0/V)**(1./3.)\n",
    "    #compute curvature (expensive!)\n",
    "    rho_ = comp_trimesh_curvature(mesh_current)#,radius=1./(2.*np.pi))\n",
    "    rhobar=float(np.mean(rho_))\n",
    "    #record\n",
    "    V_lst.append(V)\n",
    "    rhobar_lst.append(rhobar)\n",
    "    #print progress bar\n",
    "    if printing:\n",
    "        step+=1\n",
    "        if step%update_printbar_every==0:\n",
    "            printProgressBar(step+1, num_steps, prefix = 'Progress:', suffix = 'Complete', length = 50)"
   ]
  },
  {
   "cell_type": "code",
   "execution_count": null,
   "id": "cb433f43",
   "metadata": {
    "ExecuteTime": {
     "end_time": "2023-01-13T21:38:02.055918Z",
     "start_time": "2023-01-13T21:38:01.177001Z"
    }
   },
   "outputs": [],
   "source": [
    "# TODO: figure out MemoryError\n",
    "# Q: does a smaller dtype work?    \n",
    "# A: nope.\n",
    "# Q: does a smaller dtype run faster than ~9 minutes?    \n",
    "# A: yes. 5 minutes\n",
    "beep(4)"
   ]
  },
  {
   "cell_type": "code",
   "execution_count": null,
   "id": "b3125d52",
   "metadata": {
    "ExecuteTime": {
     "end_time": "2023-01-13T23:20:52.230601Z",
     "start_time": "2023-01-13T23:20:52.191864Z"
    }
   },
   "outputs": [],
   "source": [
    "mesh_current.volume"
   ]
  },
  {
   "cell_type": "code",
   "execution_count": null,
   "id": "c2ee12d3",
   "metadata": {},
   "outputs": [],
   "source": []
  },
  {
   "cell_type": "code",
   "execution_count": null,
   "id": "c1e9271a",
   "metadata": {},
   "outputs": [],
   "source": []
  },
  {
   "cell_type": "code",
   "execution_count": null,
   "id": "82fdeb33",
   "metadata": {
    "ExecuteTime": {
     "end_time": "2023-01-13T23:20:52.270451Z",
     "start_time": "2023-01-13T23:20:52.232284Z"
    }
   },
   "outputs": [],
   "source": [
    "df_qstar = pd.DataFrame({\n",
    "    'tau':tau_values,\n",
    "    'V':V_lst,\n",
    "    'rhobar':rhobar_lst\n",
    "})\n",
    "df_qstar.shape"
   ]
  },
  {
   "cell_type": "code",
   "execution_count": null,
   "id": "fce48ae8",
   "metadata": {
    "ExecuteTime": {
     "end_time": "2023-01-13T23:20:52.412679Z",
     "start_time": "2023-01-13T23:20:52.272236Z"
    }
   },
   "outputs": [],
   "source": [
    "#plot mesh volume versus tau\n",
    "fontsize=14\n",
    "fig,ax = plt.subplots(figsize=(6,4))\n",
    "df_qstar.plot(x='tau',y='V',ax=ax,color='k')#,label=r'$\\delta_0$'\n",
    "# AddLegend(ax=ax,fontsize=fontsize)\n",
    "format_plot(ax=ax,xlabel=r'$\\tau$',ylabel=r'Volume',fontsize=fontsize)\n",
    "ax.legend().remove()\n",
    "# plt.yscale('log')\n",
    "plt.show()"
   ]
  },
  {
   "cell_type": "code",
   "execution_count": null,
   "id": "7cf580e6",
   "metadata": {
    "ExecuteTime": {
     "end_time": "2023-01-13T23:20:52.555726Z",
     "start_time": "2023-01-13T23:20:52.414434Z"
    }
   },
   "outputs": [],
   "source": [
    "#mesh volume versus tau\n",
    "fontsize=14\n",
    "fig,ax = plt.subplots(figsize=(6,4))\n",
    "df_qstar.plot(x='tau',y='rhobar',ax=ax,color='k')#,label=r'$\\delta_0$'\n",
    "# AddLegend(ax=ax,fontsize=fontsize)\n",
    "format_plot(ax=ax,xlabel=r'$\\tau$',ylabel=r'Half Mean Curvature',fontsize=fontsize)\n",
    "# plt.yscale('log')\n",
    "ax.legend().remove()\n",
    "plt.show()"
   ]
  },
  {
   "cell_type": "code",
   "execution_count": null,
   "id": "9782db32",
   "metadata": {
    "ExecuteTime": {
     "end_time": "2023-01-13T23:23:18.166153Z",
     "start_time": "2023-01-13T23:23:18.123249Z"
    }
   },
   "outputs": [],
   "source": [
    "#heretim\n",
    "#TODO: attempt to solve the isovolemic constraint problem\n",
    "tau"
   ]
  },
  {
   "cell_type": "code",
   "execution_count": null,
   "id": "26b13573",
   "metadata": {
    "ExecuteTime": {
     "end_time": "2023-01-13T23:45:57.566607Z",
     "start_time": "2023-01-13T23:45:57.474761Z"
    }
   },
   "outputs": [],
   "source": [
    "tau=1\n",
    "qstar = np.slerp_vectorized(q0,q1c,tau) #continuous at 0\n",
    "face_attributes={'rho':rho} #optionally, update local face attributes <<< FVM access point! (useful!) \n",
    "# if mesh_current is None:\n",
    "mesh_current = map_quaternions_to_trimesh(qstar,tria,colors,face_attributes)\n",
    "# mesh_current.show()"
   ]
  },
  {
   "cell_type": "code",
   "execution_count": null,
   "id": "e5d73e18",
   "metadata": {
    "ExecuteTime": {
     "end_time": "2023-01-13T23:45:54.585614Z",
     "start_time": "2023-01-13T23:45:54.467908Z"
    }
   },
   "outputs": [],
   "source": [
    "m=mesh_current.copy()\n",
    "# mask = m.vertices[:,2] > m.center_mass[2]\n",
    "mask = (m.vertices[:,2] > m.center_mass[2])|(m.vertices[:,2] <= m.center_mass[2]) #tracked array of True booleans\n",
    "face_mask = mask[m.faces].all(axis=1)\n",
    "num_faces_selected = int(face_mask.sum())\n",
    "num_faces_total    = int(face_mask.shape[0])\n",
    "print(f\"selected {num_faces_selected} out of {num_faces_total} faces ({num_faces_selected/num_faces_total:.1%})\")\n",
    "# # m.update_faces(face_mask)\n",
    "# m.show()"
   ]
  },
  {
   "cell_type": "code",
   "execution_count": null,
   "id": "24f2e393",
   "metadata": {
    "ExecuteTime": {
     "end_time": "2023-01-13T23:46:12.133906Z",
     "start_time": "2023-01-13T23:46:12.088124Z"
    }
   },
   "outputs": [],
   "source": [
    "#this breaks it...\n",
    "# #Q: does this update mesh vertices quickly without raising a MemoryError?\n",
    "# #A: yes. but it appears to shuffle the mesh...\n",
    "# #inputs: m,qstar,face_mask\n",
    "# center_result=False\n",
    "# normalize_result=True\n",
    "# for step in range(100):\n",
    "#     pass\n",
    "# om=quaternion.as_float_array(qstar).copy()\n",
    "# om = om.reshape((nV,4))\n",
    "# if center_result:\n",
    "#     nV=om.shape[0]\n",
    "#     #center result\n",
    "#     om = om - np.broadcast_to(np.mean(om,axis=0), shape=(nV,4), subok=False)\n",
    "# if normalize_result:\n",
    "#     #normalize output mesh\n",
    "#     nrm = np.sum(om*om,axis=0)\n",
    "#     ome_current=om/np.sqrt(np.max(nrm))\n",
    "# else:\n",
    "#     ome_current=om\n",
    "\n",
    "# # m.vertices=ome_current[:,1:]\n",
    "\n",
    "# # m.vertices-=m.center_mass\n",
    "# # #normalize output mesh\n",
    "# # m.vertices*=np.sign(m.volume) #accounts for double cover edge case from quaternionic representation\n",
    "# # m.vertices/=np.abs(m.bounding_sphere.volume)**0.33 #without bounding sphere\n",
    "\n",
    "# # m.update_faces(face_mask)\n",
    "# # m.vertices*=(1./m.bounding_sphere.volume)**(1./3.)\n",
    "# # m.vertices*=(V0/m.bounding_sphere.volume)**(1./3.)\n",
    "# #100 updates in 79 ms. no errors other than the obvious one...\n",
    "\n",
    "# # m.show()"
   ]
  },
  {
   "cell_type": "code",
   "execution_count": null,
   "id": "37e39d6b",
   "metadata": {
    "ExecuteTime": {
     "end_time": "2023-01-13T23:46:05.049450Z",
     "start_time": "2023-01-13T23:46:05.008217Z"
    }
   },
   "outputs": [],
   "source": [
    "# m.is_watertight"
   ]
  },
  {
   "cell_type": "code",
   "execution_count": null,
   "id": "0514c086",
   "metadata": {
    "ExecuteTime": {
     "end_time": "2023-01-13T21:28:13.617621Z",
     "start_time": "2023-01-13T21:28:13.573454Z"
    }
   },
   "outputs": [],
   "source": [
    "#DONT: look for a faster way to compute overall curvature\n",
    "#NOTE: i can't find an overall measure of curvature that can be quickly accessed...\n",
    "# trimesh.curvature.coo_matrix(mesh_current)\n",
    "# # trimesh.curvature.coo_matrix?"
   ]
  },
  {
   "cell_type": "code",
   "execution_count": null,
   "id": "e47e0aca",
   "metadata": {
    "ExecuteTime": {
     "end_time": "2023-01-13T19:48:56.382452Z",
     "start_time": "2023-01-13T19:48:56.207346Z"
    }
   },
   "outputs": [],
   "source": [
    "#TODO: show a mesh of q at an intermediate state at time tau\n",
    "#Q: does it look reasonable at tau=0.5? if not, what about other tau?"
   ]
  },
  {
   "cell_type": "code",
   "execution_count": null,
   "id": "03f42f51",
   "metadata": {},
   "outputs": [],
   "source": [
    "#TODO: graph 1 quaternion's wxyz values on the tau axis using slerp\n",
    "#TODO: generate ^this from the vector of quaternion representation\n",
    "# - initial to final quaternions, q0 to q1.\n",
    "#TODO: generate a video from ^this using ffmpeg and a for loop\n",
    "#TODO: repeat, generating another video of squad interpolating for qm=[q0 q1],tm=[0 1]\n"
   ]
  },
  {
   "cell_type": "code",
   "execution_count": null,
   "id": "288ed41a",
   "metadata": {},
   "outputs": [],
   "source": []
  },
  {
   "cell_type": "code",
   "execution_count": null,
   "id": "73bb3486",
   "metadata": {
    "ExecuteTime": {
     "end_time": "2023-01-13T18:23:31.770172Z",
     "start_time": "2023-01-13T18:23:31.723309Z"
    }
   },
   "outputs": [],
   "source": [
    "# who = quaternion.as_float_array(qstar-q1)[0]\n",
    "# who,np.isclose(who,0.,atol=1e-7)"
   ]
  },
  {
   "cell_type": "code",
   "execution_count": null,
   "id": "3aa97c83",
   "metadata": {
    "ExecuteTime": {
     "end_time": "2023-01-13T20:33:02.071736Z",
     "start_time": "2023-01-13T20:33:02.023528Z"
    }
   },
   "outputs": [],
   "source": [
    "# np.isclose(qstar[0]-q1[0],0.)"
   ]
  },
  {
   "cell_type": "code",
   "execution_count": null,
   "id": "93c929d8",
   "metadata": {
    "ExecuteTime": {
     "end_time": "2023-01-13T18:17:51.699174Z",
     "start_time": "2023-01-13T18:17:51.655121Z"
    }
   },
   "outputs": [],
   "source": [
    "# q0 = map_to_quaternion_vector(x0)\n"
   ]
  },
  {
   "cell_type": "code",
   "execution_count": null,
   "id": "1b4a4682",
   "metadata": {
    "ExecuteTime": {
     "end_time": "2023-01-13T20:33:29.025088Z",
     "start_time": "2023-01-13T20:33:28.983451Z"
    }
   },
   "outputs": [],
   "source": []
  },
  {
   "cell_type": "code",
   "execution_count": null,
   "id": "72975c96",
   "metadata": {
    "ExecuteTime": {
     "end_time": "2023-01-13T23:46:16.364699Z",
     "start_time": "2023-01-13T23:46:16.322479Z"
    }
   },
   "outputs": [],
   "source": [
    "# qstar.shape,qstar.dtype"
   ]
  },
  {
   "cell_type": "code",
   "execution_count": null,
   "id": "9cc10824",
   "metadata": {
    "ExecuteTime": {
     "end_time": "2023-01-14T00:47:18.178032Z",
     "start_time": "2023-01-14T00:47:17.938995Z"
    }
   },
   "outputs": [],
   "source": [
    "face_attributes={'rho':rho}\n",
    "mesh_current = map_quaternions_to_trimesh(qstar,tria,colors,face_attributes)"
   ]
  },
  {
   "cell_type": "code",
   "execution_count": null,
   "id": "42cdde7a",
   "metadata": {
    "ExecuteTime": {
     "end_time": "2023-01-13T22:50:50.834649Z",
     "start_time": "2023-01-13T22:50:50.792930Z"
    }
   },
   "outputs": [],
   "source": [
    "# tau"
   ]
  },
  {
   "cell_type": "code",
   "execution_count": null,
   "id": "5c343fa7",
   "metadata": {
    "ExecuteTime": {
     "end_time": "2023-01-13T22:50:58.077947Z",
     "start_time": "2023-01-13T22:50:58.031498Z"
    }
   },
   "outputs": [],
   "source": [
    "# mesh_current.show()"
   ]
  },
  {
   "cell_type": "code",
   "execution_count": null,
   "id": "a63f4e37",
   "metadata": {
    "ExecuteTime": {
     "end_time": "2023-01-14T00:47:27.247329Z",
     "start_time": "2023-01-14T00:47:27.120555Z"
    }
   },
   "outputs": [],
   "source": [
    "#print mesh bluf\n",
    "print(f\"{mesh_current.is_watertight=}\")\n",
    "print(f\"{mesh_current.volume=}\")\n",
    "print(f\"{(mesh_current.volume/mesh_current.bounding_sphere.volume)=} (volume relative to smallest bounding sphere)\")\n",
    "print(f\"{mesh_current.center_mass=}\")\n",
    "nrm = np.sum(mesh_current.vertices*mesh_current.vertices,axis=0)\n",
    "print(f\"rms norm of mesh vertices: {list(np.sqrt(nrm))} pixels\")\n",
    "print(f\"{mesh_current.is_watertight=} (is the current mesh watertight?)\")\n",
    "print(f\"{mesh_current.euler_number=} (what's the euler number for the mesh?)\")\n",
    "print(f\"volume relative to smallest bounding sphere: {(mesh_current.volume/mesh_current.bounding_sphere.volume)=}\")\n",
    "# beep(3)\n",
    "\n",
    "volume_initial = mesh.volume#=4.182994798204928\n",
    "volume_final = mesh_current.volume\n",
    "# volume_final = mesh_out.volume\n",
    "print(f\"{volume_initial=:.4f} voxels, {volume_final=:.4f} voxels\")\n",
    "print(f\"{mesh.bounding_sphere.volume=:.4f} voxels, {mesh_current.bounding_sphere.volume=:.4f} voxels\")\n",
    "print(f\"{volume_initial/mesh.bounding_sphere.volume=:.4f} voxels, {volume_final/mesh_current.bounding_sphere.volume=:.4f} voxels\")\n",
    "#compute the percent change in relative volume\n",
    "relative_volume_initial = volume_initial/mesh.bounding_sphere.volume\n",
    "change_in_relative_volume = volume_final/mesh_current.bounding_sphere.volume - volume_initial/mesh.bounding_sphere.volume\n",
    "relative_change_in_relative_volume = change_in_relative_volume / relative_volume_initial\n",
    "print(f\"percent change in relative volume: {relative_change_in_relative_volume:.4%}\")"
   ]
  },
  {
   "cell_type": "code",
   "execution_count": null,
   "id": "2107efab",
   "metadata": {
    "ExecuteTime": {
     "end_time": "2023-01-13T03:00:56.598922Z",
     "start_time": "2023-01-13T03:00:56.557207Z"
    }
   },
   "outputs": [],
   "source": [
    "# mesh_current.show()"
   ]
  },
  {
   "cell_type": "code",
   "execution_count": null,
   "id": "e1faac27",
   "metadata": {
    "ExecuteTime": {
     "end_time": "2023-01-13T03:01:02.812718Z",
     "start_time": "2023-01-13T03:01:02.772822Z"
    }
   },
   "outputs": [],
   "source": []
  },
  {
   "cell_type": "code",
   "execution_count": null,
   "id": "bdec034e",
   "metadata": {
    "ExecuteTime": {
     "end_time": "2023-01-13T02:58:35.578290Z",
     "start_time": "2023-01-13T02:58:35.578270Z"
    }
   },
   "outputs": [],
   "source": [
    "# Q: can I use slerp directly on x and get a convincing transformation?\n",
    "# TODO(failing ^that): perform slerp on Lp,ome and repeat the expensive least squares solve."
   ]
  },
  {
   "cell_type": "markdown",
   "id": "a1505ee4",
   "metadata": {
    "heading_collapsed": true
   },
   "source": [
    "# dev viewer for quickly saving 1 .png from mesh_current"
   ]
  },
  {
   "cell_type": "code",
   "execution_count": null,
   "id": "74bb23f2",
   "metadata": {
    "ExecuteTime": {
     "end_time": "2023-01-14T00:47:35.139460Z",
     "start_time": "2023-01-14T00:47:35.100098Z"
    },
    "hidden": true
   },
   "outputs": [],
   "source": [
    "# from trimesh.util import BytesIO\n",
    "import pyglet"
   ]
  },
  {
   "cell_type": "code",
   "execution_count": null,
   "id": "3d1fcbba",
   "metadata": {
    "ExecuteTime": {
     "end_time": "2023-01-14T00:47:35.564991Z",
     "start_time": "2023-01-14T00:47:35.522674Z"
    },
    "hidden": true
   },
   "outputs": [],
   "source": [
    "import tempfile\n",
    "from PIL import Image\n",
    "#requirements for png generation (i thiiink with OpenGL backend)\n",
    "# import pyglet\n",
    "# trimesh.__version__ #'3.9.43'\n",
    "# pyglet.version #'1.5.11'"
   ]
  },
  {
   "cell_type": "code",
   "execution_count": null,
   "id": "63aa7804",
   "metadata": {
    "ExecuteTime": {
     "end_time": "2023-01-13T03:01:06.233648Z",
     "start_time": "2023-01-13T03:01:06.193396Z"
    },
    "hidden": true
   },
   "outputs": [],
   "source": [
    "# For $t\\in[0,1]$, we may linearly interpolate a conformal map, $L_p$, according to\n",
    "# $$L^*(t) = tL_p + (1-t)I_p$$\n",
    "# where $I_p$ is the trivial identity transformation."
   ]
  },
  {
   "cell_type": "code",
   "execution_count": null,
   "id": "42cf632f",
   "metadata": {
    "ExecuteTime": {
     "end_time": "2023-01-14T00:47:38.147276Z",
     "start_time": "2023-01-14T00:47:38.070721Z"
    },
    "hidden": true
   },
   "outputs": [],
   "source": [
    "#handle local file system\n",
    "# mesh_folder = f\"{root_dir}/Documents/meshes/res\"\n",
    "folder_vid=os.path.join(mesh_folder,'..')\n",
    "folder_vid=os.path.join(folder_vid,'vid_000')\n",
    "\n",
    "if not os.path.exists(folder_vid):\n",
    "    os.mkdir(folder_vid)\n",
    "TEXTfoo = lambda N_vertices,N_elements: f\"\"\"\n",
    "TEXT=$'spherical deformation:\n",
    "      - num. vertices {N_vertices}\n",
    "      - num. elements {N_elements}\n",
    "'\"\"\"\n",
    "N_vertices=mesh_out.vertices.shape[0]\n",
    "N_elements=mesh_out.faces.shape[0]\n",
    "TEXT = TEXTfoo(N_vertices,N_elements)\n",
    "print(TEXT)\n",
    "\n",
    "save_folder_vid=os.path.join(folder_vid,'tmp_000')\n",
    "if not os.path.exists(save_folder_vid):\n",
    "    os.mkdir(save_folder_vid)\n",
    "else:\n",
    "    shutil.rmtree(save_folder_vid)\n",
    "    os.mkdir(save_folder_vid)\n",
    "    \n",
    "# folnm = os.path.basename(save_folder_vid)\n",
    "# shutil.rmtree(folnm)\n",
    "# os.chdir(folnm)\n",
    "save_folder_vid"
   ]
  },
  {
   "cell_type": "code",
   "execution_count": null,
   "id": "cf1219a4",
   "metadata": {
    "ExecuteTime": {
     "end_time": "2023-01-14T00:47:39.058512Z",
     "start_time": "2023-01-14T00:47:39.009505Z"
    },
    "hidden": true
   },
   "outputs": [],
   "source": [
    "#TODO: test the save function on mesh_out as t=1\n",
    "#TODO: add wireframe to png\n",
    "# DONT: average the vertices of the input/output mesh\n",
    "# mesh_current=0.5*(mesh_out + mesh) #\n",
    "# mesh_out+mesh,mesh  #<this overlays the meshes, it doesn't average their vertices.\n",
    "mesh_current = mesh_out.copy()"
   ]
  },
  {
   "cell_type": "code",
   "execution_count": null,
   "id": "d2ce8197",
   "metadata": {
    "ExecuteTime": {
     "end_time": "2023-01-14T00:47:39.605874Z",
     "start_time": "2023-01-14T00:47:39.562168Z"
    },
    "hidden": true
   },
   "outputs": [],
   "source": [
    "assert os.path.exists(save_folder_vid)\n",
    "# os.path.exists(folnm)\n",
    "os.chdir(save_folder_vid)"
   ]
  },
  {
   "cell_type": "code",
   "execution_count": null,
   "id": "9383ac5f",
   "metadata": {
    "ExecuteTime": {
     "end_time": "2023-01-14T00:47:40.933380Z",
     "start_time": "2023-01-14T00:47:40.886723Z"
    },
    "hidden": true
   },
   "outputs": [],
   "source": [
    "frameno=-1\n",
    "save_fn_img = f'img{frameno:09}.png'\n",
    "# frameno += 1\n",
    "\n",
    "#generate scene from mesh_current and save scene to .png\n",
    "camera_angle=(4.2,0.2,3.23) #in radians\n",
    "scene = mesh_current.scene()\n",
    "# scene = trimesh.scene.Scene(mesh_current)\n",
    "scene.set_camera(angles=camera_angle)"
   ]
  },
  {
   "cell_type": "code",
   "execution_count": null,
   "id": "5144969c",
   "metadata": {
    "ExecuteTime": {
     "end_time": "2023-01-14T00:47:48.572404Z",
     "start_time": "2023-01-14T00:47:48.525424Z"
    },
    "hidden": true
   },
   "outputs": [],
   "source": [
    "#view the scene\n",
    "trimesh.viewer.notebook.scene_to_notebook(scene,height=200)"
   ]
  },
  {
   "cell_type": "code",
   "execution_count": null,
   "id": "43e395f7",
   "metadata": {
    "ExecuteTime": {
     "end_time": "2023-01-13T03:01:26.407975Z",
     "start_time": "2023-01-13T03:01:26.362553Z"
    },
    "hidden": true
   },
   "outputs": [],
   "source": [
    "#TODO: wrap as saving foo\n",
    "# input: scene\n",
    "# output: scene saved as .png\n",
    "# kwargs={}\n",
    "\n",
    "\n",
    "\n",
    "# input: scene\n",
    "# output: window\n",
    "#kwargs are passed to trimesh.viewer.windowed.SceneViewer, which takes <100ms to run.\n",
    "# kwargs={}"
   ]
  },
  {
   "cell_type": "code",
   "execution_count": null,
   "id": "0b444d40",
   "metadata": {
    "ExecuteTime": {
     "end_time": "2023-01-13T03:01:27.732551Z",
     "start_time": "2023-01-13T03:01:27.689282Z"
    },
    "hidden": true
   },
   "outputs": [],
   "source": [
    "type(scene)"
   ]
  },
  {
   "cell_type": "code",
   "execution_count": null,
   "id": "800dbf30",
   "metadata": {
    "ExecuteTime": {
     "end_time": "2023-01-13T02:51:50.470418Z",
     "start_time": "2023-01-13T02:51:50.425801Z"
    },
    "hidden": true
   },
   "outputs": [],
   "source": []
  },
  {
   "cell_type": "code",
   "execution_count": null,
   "id": "f7552ccd",
   "metadata": {
    "ExecuteTime": {
     "end_time": "2023-01-13T03:01:33.610693Z",
     "start_time": "2023-01-13T03:01:29.464945Z"
    },
    "hidden": true
   },
   "outputs": [],
   "source": [
    "#save to .png\n",
    "save_trimesh_to_png(scene,save_fn_img,format_str='PNG')\n",
    "print(f\"open {os.path.abspath(save_fn_img)}\")"
   ]
  },
  {
   "cell_type": "code",
   "execution_count": null,
   "id": "2ece2107",
   "metadata": {
    "ExecuteTime": {
     "end_time": "2023-01-13T03:01:34.055304Z",
     "start_time": "2023-01-13T03:01:33.612705Z"
    },
    "hidden": true
   },
   "outputs": [],
   "source": [
    "!open /Users/timothytyree/Documents/meshes/vid_000/tmp_000/img-00000001.png"
   ]
  },
  {
   "cell_type": "code",
   "execution_count": null,
   "id": "4ac74e0c",
   "metadata": {
    "hidden": true
   },
   "outputs": [],
   "source": [
    "breakhere"
   ]
  },
  {
   "cell_type": "markdown",
   "id": "b202e7e4",
   "metadata": {},
   "source": [
    "# TODO: generate a minimalist video\n",
    "- TODO(optional prereq): dev slerp interpolation"
   ]
  },
  {
   "cell_type": "code",
   "execution_count": null,
   "id": "59900e28",
   "metadata": {
    "ExecuteTime": {
     "end_time": "2023-01-14T03:24:43.749534Z",
     "start_time": "2023-01-14T03:24:43.693311Z"
    }
   },
   "outputs": [],
   "source": [
    "#handle local file system\n",
    "# mesh_folder = f\"{root_dir}/Documents/meshes/res\"\n",
    "folder_vid=os.path.join(mesh_folder,'..')\n",
    "folder_vid=os.path.join(folder_vid,'vid_000')\n",
    "\n",
    "if not os.path.exists(folder_vid):\n",
    "    os.mkdir(folder_vid)\n",
    "TEXTfoo = lambda N_vertices,N_elements: f\"\"\"\n",
    "    spherical deformation:\n",
    "      - num. vertices {N_vertices}\n",
    "      - num. elements {N_elements}\n",
    "\"\"\"\n",
    "# TEXT=$'spherical deformation:\n",
    "#       - num. vertices {N_vertices}\n",
    "#       - num. elements {N_elements}\n",
    "# '\"\"\"\n",
    "N_vertices=mesh.vertices.shape[0]\n",
    "N_elements=mesh.faces.shape[0]\n",
    "TEXT = TEXTfoo(N_vertices,N_elements)\n",
    "print(TEXT)\n",
    "\n",
    "save_folder_vid=os.path.join(folder_vid,'tmp_000')\n",
    "if not os.path.exists(save_folder_vid):\n",
    "    os.mkdir(save_folder_vid)\n",
    "else:\n",
    "    shutil.rmtree(save_folder_vid)\n",
    "    os.mkdir(save_folder_vid)\n",
    "    \n",
    "# folnm = os.path.basename(save_folder_vid)\n",
    "# shutil.rmtree(folnm)\n",
    "# os.chdir(folnm)\n",
    "\n",
    "assert os.path.exists(save_folder_vid)\n",
    "# os.path.exists(folnm)\n",
    "os.chdir(save_folder_vid)"
   ]
  },
  {
   "cell_type": "code",
   "execution_count": null,
   "id": "2ed42f6e",
   "metadata": {
    "ExecuteTime": {
     "end_time": "2023-01-14T03:24:44.493804Z",
     "start_time": "2023-01-14T03:24:44.452999Z"
    }
   },
   "outputs": [],
   "source": [
    "#input: tau_values,q0,q1c,tria,colors,face_attributes={}\n",
    "#output: .mov that boomerangs over tau_values"
   ]
  },
  {
   "cell_type": "code",
   "execution_count": null,
   "id": "c697a6a5",
   "metadata": {},
   "outputs": [],
   "source": []
  },
  {
   "cell_type": "code",
   "execution_count": null,
   "id": "b0ec2498",
   "metadata": {
    "ExecuteTime": {
     "end_time": "2023-01-14T03:24:45.656875Z",
     "start_time": "2023-01-14T03:24:45.606798Z"
    }
   },
   "outputs": [],
   "source": [
    "#heretimheretim\n",
    "#prepare for video\n",
    "###CAUTION WHEN RUNNING IN PARALLEL\n",
    "frameno = 1\n",
    "# time_between_observations = 0.01\n",
    "time_between_observations = 0.1\n",
    "time_final = 1.\n",
    "tme=0.\n",
    "time_of_next_observation = tme + time_between_observations\n",
    "# os.chdir(nb_dir)\n",
    "os.chdir(folder_vid)\n",
    "if not os.path.exists('mov'):\n",
    "    os.mkdir('mov')\n",
    "with open(\"mov/text.txt\", \"w\") as file:\n",
    "    file.write(TEXT)\n",
    "    file.close()\n",
    "    "
   ]
  },
  {
   "cell_type": "code",
   "execution_count": null,
   "id": "50cf7de6",
   "metadata": {
    "ExecuteTime": {
     "end_time": "2023-01-14T03:25:22.489331Z",
     "start_time": "2023-01-14T03:25:22.171909Z"
    }
   },
   "outputs": [],
   "source": [
    "assert os.path.exists(save_folder_vid)\n",
    "os.chdir(save_folder_vid)\n",
    "!pwd"
   ]
  },
  {
   "cell_type": "code",
   "execution_count": null,
   "id": "57d026e3",
   "metadata": {
    "ExecuteTime": {
     "end_time": "2023-01-14T03:25:24.581109Z",
     "start_time": "2023-01-14T03:25:24.532754Z"
    }
   },
   "outputs": [],
   "source": [
    "import trimesh.viewer"
   ]
  },
  {
   "cell_type": "code",
   "execution_count": null,
   "id": "f5e4a6b6",
   "metadata": {
    "ExecuteTime": {
     "end_time": "2023-01-14T03:25:25.308506Z",
     "start_time": "2023-01-14T03:25:25.265743Z"
    }
   },
   "outputs": [],
   "source": [
    "def moving_average(a, n=3) :\n",
    "    ret = np.cumsum(a, dtype=float)\n",
    "    ret[n:] = ret[n:] - ret[:-n]\n",
    "    return ret[n - 1:] / n"
   ]
  },
  {
   "cell_type": "code",
   "execution_count": null,
   "id": "b65b7e39",
   "metadata": {
    "ExecuteTime": {
     "end_time": "2023-01-14T03:26:09.053304Z",
     "start_time": "2023-01-14T03:26:08.881886Z"
    }
   },
   "outputs": [],
   "source": [
    "# tau_values = np.arange(0,1+1e-2,1e-1) # 2 seconds per frame. works!\n",
    "# tau_values = np.arange(0,1+1e-2,1e-2) # higher-res\n",
    "tau_values = np.arange(0,1+1e-2,2e-2) # faster visualization = fewer frames\n",
    "tau_values = np.concatenate((tau_values,tau_values[::-1]))# plus boomerang effect yields roughly 4 minutes of runtime\n",
    "tau_values = moving_average(tau_values, n=15)\n",
    "plt.plot(tau_values)\n",
    "plt.show()\n",
    "tau_values.shape"
   ]
  },
  {
   "cell_type": "code",
   "execution_count": null,
   "id": "5af281b3",
   "metadata": {},
   "outputs": [],
   "source": []
  },
  {
   "cell_type": "code",
   "execution_count": null,
   "id": "2d26ab0c",
   "metadata": {
    "ExecuteTime": {
     "end_time": "2023-01-14T03:38:14.206076Z",
     "start_time": "2023-01-14T03:35:53.155176Z"
    }
   },
   "outputs": [],
   "source": [
    "#ready... get set... GO!\n",
    "# vscale=1.05# scaleup vertex coordinates at 5% return per epoch\n",
    "frameno=0\n",
    "num_steps=tau_values.shape[0]\n",
    "step=0\n",
    "# mesh_current=None\n",
    "os.chdir('/Users/timothytyree/Documents/meshes/res/../vid_000/tmp_000')\n",
    "for tau in tau_values:\n",
    "    #map to vertex representation\n",
    "    qstar = np.slerp_vectorized(q0,q1c,tau) #continuous at 0\n",
    "    camera_angle=(4.2,0.2,3.23) #in radians\n",
    "    face_attributes={'rho':rho} #optionally, update local face attributes <<< FVM access point! (useful!) \n",
    "    #TODO: wrap png generator into a shell script\n",
    "    #inputs: args=qstar, camera_angle, face_attributes\n",
    "    #output: .png file saved by save_script(*args) if __name__=='_main__':\n",
    "    #TODO: run ^that script with os.system('save_trimesh_to_png.py') # or 'save_trimesh_to_png.sh')\n",
    "    mesh_current = map_quaternions_to_trimesh(qstar,tria,colors,face_attributes)\n",
    "#     if mesh_current is None:\n",
    "#         mesh_current = map_quaternions_to_trimesh(qstar,tria,colors,face_attributes)\n",
    "#     else:\n",
    "#         update_quaternions_to_trimesh_vertices(qstar,mesh_current,center_result=True,\n",
    "#                                            normalize_result=True,center_result_again=True,\n",
    "#                                            normalize_by_bounding_sphere=True)#,**kwargs)\n",
    "    #get image of system\n",
    "    \n",
    "    #mesh_current.vertices*=vscale\n",
    "    scene = mesh_current.scene()\n",
    "    scene.set_camera(angles=camera_angle)\n",
    "    #save image of system to .png\n",
    "    save_fn_img = f'img{frameno:09}.png'\n",
    "    frameno += 1\n",
    "    save_trimesh_to_png(scene,save_fn_img,format_str='PNG',flags={'wireframe':True})\n",
    "    #print progress bar\n",
    "    if printing:\n",
    "        step+=1\n",
    "        if step%update_printbar_every==0:\n",
    "            printProgressBar(step+1, num_steps, prefix = 'Progress:', suffix = 'Complete', length = 50)\n",
    "\n",
    "# print(stepsize_mean, stepsize_std, stepsize_median)\n",
    "beep(3)"
   ]
  },
  {
   "cell_type": "code",
   "execution_count": null,
   "id": "9243e920",
   "metadata": {
    "ExecuteTime": {
     "end_time": "2023-01-14T02:36:02.877352Z",
     "start_time": "2023-01-14T02:36:02.837007Z"
    }
   },
   "outputs": [],
   "source": []
  },
  {
   "cell_type": "code",
   "execution_count": null,
   "id": "0b45e945",
   "metadata": {
    "ExecuteTime": {
     "end_time": "2023-01-14T02:45:45.253025Z",
     "start_time": "2023-01-14T02:45:45.204217Z"
    }
   },
   "outputs": [],
   "source": [
    "from trimesh.visual import texture, TextureVisuals\n",
    "from trimesh import Trimesh"
   ]
  },
  {
   "cell_type": "code",
   "execution_count": null,
   "id": "37a2ca91",
   "metadata": {
    "ExecuteTime": {
     "end_time": "2023-01-14T02:52:55.781067Z",
     "start_time": "2023-01-14T02:52:55.673965Z"
    }
   },
   "outputs": [],
   "source": [
    "# texture.SimpleMaterial?\n",
    "# figsize=512,512\n",
    "# figsize=(2,2)\n",
    "figsize=(4,4)\n",
    "# figsize=(8,8)\n",
    "fig,ax=plt.subplots(figsize=figsize)\n",
    "ax.set_xlim([0,1])\n",
    "ax.set_ylim([0,1])\n",
    "ax.axis('off')\n",
    "# ax.grid('on')\n",
    "# for delta in np.arange(0.05,1,0.1):\n",
    "for delta in np.arange(0.05,1,0.1):\n",
    "    ax.plot([0,1],[0+delta,0+delta],'k',lw=1)\n",
    "    ax.plot([0+delta,0+delta],[0,1],'k',lw=1)\n",
    "plt.tight_layout()\n",
    "plt.show()"
   ]
  },
  {
   "cell_type": "code",
   "execution_count": null,
   "id": "e6c11ced",
   "metadata": {
    "ExecuteTime": {
     "end_time": "2023-01-14T02:54:31.850063Z",
     "start_time": "2023-01-14T02:54:31.780331Z"
    }
   },
   "outputs": [],
   "source": [
    "texture_dir = '/Users/timothytyree/Documents/meshes/vid_000/mov/grid.png'\n"
   ]
  },
  {
   "cell_type": "code",
   "execution_count": null,
   "id": "2608ec94",
   "metadata": {
    "ExecuteTime": {
     "end_time": "2023-01-14T02:55:18.294205Z",
     "start_time": "2023-01-14T02:55:18.247962Z"
    }
   },
   "outputs": [],
   "source": []
  },
  {
   "cell_type": "code",
   "execution_count": null,
   "id": "cade36a4",
   "metadata": {
    "ExecuteTime": {
     "end_time": "2023-01-14T02:57:13.544909Z",
     "start_time": "2023-01-14T02:57:13.503735Z"
    }
   },
   "outputs": [],
   "source": [
    "mesh_current.visual.defaults['material_shine']=100.0\n",
    "mesh_current.visual.defaults['material_specular']= np.array([250, 250, 250, 255])\n",
    "# 'material_diffuse': array([102, 102, 102, 255], dtype=uint8),\n",
    "#  'material_ambient': array([ 64,  64,  64, 255], dtype=uint8),\n",
    "#  'material_specular': array([197, 197, 197, 255], dtype=uint8),\n",
    "\n",
    "material = texture.SimpleMaterial(image=texture_dir)\n",
    "material.diffuse\n",
    "material.ambient\n",
    "material.specular = np.array([250, 250, 250, 255]) #array([102, 102, 102, 255], dtype=uint8)\n",
    "material.glossiness=255. #default 1.\n"
   ]
  },
  {
   "cell_type": "code",
   "execution_count": null,
   "id": "3b231139",
   "metadata": {
    "ExecuteTime": {
     "end_time": "2023-01-14T03:13:05.905328Z",
     "start_time": "2023-01-14T03:13:05.859888Z"
    }
   },
   "outputs": [],
   "source": [
    "# trimesh.creation.uv_sphere?"
   ]
  },
  {
   "cell_type": "code",
   "execution_count": null,
   "id": "ef2d29eb",
   "metadata": {
    "ExecuteTime": {
     "end_time": "2023-01-14T03:16:24.964051Z",
     "start_time": "2023-01-14T03:16:24.916547Z"
    }
   },
   "outputs": [],
   "source": [
    "# trimesh.visual.texture.util.generate_basis? \n",
    "#Generate an arbitrary basis (also known as a coordinate frame)\n",
    "\n",
    "# trimesh.visual.texture.util.grid_arange(bounds, step)\n",
    "# Return a grid from an (2,dimension) bounds with samples step distance apart.\n",
    "# trimesh.visual.texture.util.grid_linspace(bounds, count)"
   ]
  },
  {
   "cell_type": "code",
   "execution_count": null,
   "id": "bcee019e",
   "metadata": {},
   "outputs": [],
   "source": [
    "trimesh"
   ]
  },
  {
   "cell_type": "code",
   "execution_count": null,
   "id": "2cd1b6db",
   "metadata": {},
   "outputs": [],
   "source": [
    "#NOTE: UV is hard.  just generate a video with a wireframe"
   ]
  },
  {
   "cell_type": "code",
   "execution_count": null,
   "id": "c2a5efa0",
   "metadata": {
    "ExecuteTime": {
     "end_time": "2023-01-14T03:18:10.151029Z",
     "start_time": "2023-01-14T03:18:10.043202Z"
    }
   },
   "outputs": [],
   "source": [
    "#this doesn't create a uv sphere...\n",
    "# uv_sphere = trimesh.creation.uv_sphere(radius=1.0, count=[32, 32])\n",
    "# uv_sphere.visual."
   ]
  },
  {
   "cell_type": "code",
   "execution_count": null,
   "id": "499a3275",
   "metadata": {
    "ExecuteTime": {
     "end_time": "2023-01-14T03:12:12.892927Z",
     "start_time": "2023-01-14T03:12:12.847506Z"
    }
   },
   "outputs": [],
   "source": [
    "# trimesh.convex.triangles."
   ]
  },
  {
   "cell_type": "code",
   "execution_count": null,
   "id": "a681e2ce",
   "metadata": {
    "ExecuteTime": {
     "end_time": "2023-01-14T03:10:21.466546Z",
     "start_time": "2023-01-14T03:10:21.432042Z"
    }
   },
   "outputs": [],
   "source": [
    "Rbar = float(np.sqrt(np.mean(np.sum((mesh.vertices-mesh.center_mass)**2,0))))\n",
    "Rbar"
   ]
  },
  {
   "cell_type": "code",
   "execution_count": null,
   "id": "93051d73",
   "metadata": {},
   "outputs": [],
   "source": [
    "mesh.visual."
   ]
  },
  {
   "cell_type": "code",
   "execution_count": null,
   "id": "db8438f8",
   "metadata": {},
   "outputs": [],
   "source": [
    "uv="
   ]
  },
  {
   "cell_type": "code",
   "execution_count": null,
   "id": "7320de19",
   "metadata": {},
   "outputs": [],
   "source": [
    "texture = TextureVisuals(uv=uvs, image=img, material=material)\n",
    "mesh.visual = TextureVisuals(**kwargs)"
   ]
  },
  {
   "cell_type": "code",
   "execution_count": null,
   "id": "eb98817f",
   "metadata": {
    "ExecuteTime": {
     "end_time": "2023-01-14T02:43:36.566418Z",
     "start_time": "2023-01-14T02:43:36.531692Z"
    }
   },
   "outputs": [],
   "source": [
    "#TODO: turn on wireframe\n",
    "#TODO: generate new frames with half as many frames\n",
    "# mesh.visual.to_texture() #<< is this the easiest way to get a grid on this surface?\n",
    "\n",
    "\n",
    "# def get_texture(my_uvs, img):\n",
    "#     # img is PIL Image\n",
    "#     uvs = my_uvs\n",
    "#     material = texture.SimpleMaterial(image=img)    \n",
    "\n",
    "\n",
    "my_uvs = [....] # 2d array list\n",
    "vertices = [....] # 3d array list\n",
    "faces = [....] # indices list\n",
    "face_normals = [....] # 3d array list\n",
    "texture_visual = get_texture(my_uvs, img)\n",
    "mesh = Trimesh(\n",
    "            vertices=vertices,\n",
    "            faces=faces,\n",
    "            face_normals=face_normals,\n",
    "            visual=texture_visual,\n",
    "            validate=True,\n",
    "            process=False\n",
    "        )"
   ]
  },
  {
   "cell_type": "code",
   "execution_count": null,
   "id": "4072d3ab",
   "metadata": {},
   "outputs": [],
   "source": []
  },
  {
   "cell_type": "code",
   "execution_count": null,
   "id": "bbf0f2ee",
   "metadata": {
    "ExecuteTime": {
     "end_time": "2023-01-14T02:42:29.682824Z",
     "start_time": "2023-01-14T02:42:29.629648Z"
    }
   },
   "outputs": [],
   "source": [
    "scene = mesh_current.scene(flags='wireframe')\n",
    "# scene.toggle_wireframe()\n",
    "trimesh.viewer.notebook.scene_to_notebook(scene=scene, height=200)"
   ]
  },
  {
   "cell_type": "code",
   "execution_count": null,
   "id": "b2047d36",
   "metadata": {
    "ExecuteTime": {
     "end_time": "2023-01-14T03:29:47.557948Z",
     "start_time": "2023-01-14T03:29:47.508245Z"
    }
   },
   "outputs": [],
   "source": [
    "# mesh_current.show(flags={'wireframe': True})\n",
    "# mesh_current.show(flags={'wireframe': True, 'axis': True})\n",
    "# mesh_current.show(flags='wireframe')"
   ]
  },
  {
   "cell_type": "code",
   "execution_count": null,
   "id": "546c30de",
   "metadata": {
    "ExecuteTime": {
     "end_time": "2023-01-14T01:29:56.067517Z",
     "start_time": "2023-01-14T01:29:56.027518Z"
    }
   },
   "outputs": [],
   "source": [
    "print(f\"{frameno=}\")\n",
    "#^this averages 2 seconds per frame\n",
    "os.mkdir(f\"../mov/tmp\")"
   ]
  },
  {
   "cell_type": "code",
   "execution_count": null,
   "id": "bbc58920",
   "metadata": {
    "ExecuteTime": {
     "end_time": "2023-01-14T03:19:34.719065Z",
     "start_time": "2023-01-14T03:19:34.684389Z"
    }
   },
   "outputs": [],
   "source": [
    "# scene = mesh.scene()\n",
    "# #TODO: toggle wireframe\n",
    "# # searching for \"window\"\n",
    "# # (flags='wireframe')"
   ]
  },
  {
   "cell_type": "code",
   "execution_count": null,
   "id": "490fea12",
   "metadata": {
    "ExecuteTime": {
     "end_time": "2023-01-14T03:20:02.975302Z",
     "start_time": "2023-01-14T03:20:02.935702Z"
    }
   },
   "outputs": [],
   "source": [
    "# scene.metadata\n",
    "# scene.geometry."
   ]
  },
  {
   "cell_type": "code",
   "execution_count": null,
   "id": "1b50ca50",
   "metadata": {
    "ExecuteTime": {
     "end_time": "2023-01-14T01:33:48.386106Z",
     "start_time": "2023-01-14T01:33:48.113139Z"
    }
   },
   "outputs": [],
   "source": [
    "os.chdir('..')\n",
    "!pwd"
   ]
  },
  {
   "cell_type": "code",
   "execution_count": null,
   "id": "df08dc93",
   "metadata": {
    "ExecuteTime": {
     "end_time": "2023-01-14T01:34:39.059054Z",
     "start_time": "2023-01-14T01:34:38.570205Z"
    }
   },
   "outputs": [],
   "source": [
    "# os.chdir('/Users/timothytyree/Documents/meshes/vid_000')\n",
    "os.chdir('mov')\n",
    "!pwd\n",
    "!ls"
   ]
  },
  {
   "cell_type": "code",
   "execution_count": null,
   "id": "ad0429aa",
   "metadata": {
    "ExecuteTime": {
     "end_time": "2023-01-14T01:40:39.963922Z",
     "start_time": "2023-01-14T01:40:39.695434Z"
    }
   },
   "outputs": [],
   "source": [
    "!echo {save_folder_vid}"
   ]
  },
  {
   "cell_type": "code",
   "execution_count": null,
   "id": "26ca8c14",
   "metadata": {
    "ExecuteTime": {
     "end_time": "2023-01-14T03:38:26.210302Z",
     "start_time": "2023-01-14T03:38:26.097388Z"
    }
   },
   "outputs": [],
   "source": [
    "# !cp -r src dst\n",
    "# os.chdir('/Users/timothytyree/Documents/meshes/res/../vid_000/tmp_000')\n",
    "os.chdir('/Users/timothytyree/Documents/meshes/res/../vid_000/mov')"
   ]
  },
  {
   "cell_type": "code",
   "execution_count": null,
   "id": "60f4add7",
   "metadata": {
    "ExecuteTime": {
     "end_time": "2023-01-14T03:38:28.836138Z",
     "start_time": "2023-01-14T03:38:28.248392Z"
    }
   },
   "outputs": [],
   "source": [
    "!ls /Users/timothytyree/Documents/meshes/res/../vid_000/mov"
   ]
  },
  {
   "cell_type": "code",
   "execution_count": null,
   "id": "ddc77c4b",
   "metadata": {
    "ExecuteTime": {
     "end_time": "2023-01-14T03:40:52.988218Z",
     "start_time": "2023-01-14T03:40:46.220285Z"
    }
   },
   "outputs": [],
   "source": [
    "!./concat_folder_png.sh"
   ]
  },
  {
   "cell_type": "code",
   "execution_count": null,
   "id": "5aad68b2",
   "metadata": {
    "ExecuteTime": {
     "end_time": "2023-01-14T03:30:09.948181Z",
     "start_time": "2023-01-14T03:30:09.501312Z"
    }
   },
   "outputs": [],
   "source": [
    "#DONE: concatenate_folder\n",
    "# !./concat_folder_png.sh#todo copy to here\n",
    "# !./concat_folder_png.sh\n",
    "!open out.mov"
   ]
  },
  {
   "cell_type": "markdown",
   "id": "9d08b7f2",
   "metadata": {},
   "source": [
    "\n",
    "    spherical deformation:\n",
    "      - num. vertices 4002\n",
    "      - num. elements 8000\n"
   ]
  },
  {
   "cell_type": "code",
   "execution_count": null,
   "id": "9c870d69",
   "metadata": {
    "ExecuteTime": {
     "end_time": "2023-01-14T02:16:11.840007Z",
     "start_time": "2023-01-14T02:16:11.792106Z"
    }
   },
   "outputs": [],
   "source": [
    "# !ls ../mov/"
   ]
  },
  {
   "cell_type": "code",
   "execution_count": null,
   "id": "d514d616",
   "metadata": {},
   "outputs": [],
   "source": []
  },
  {
   "cell_type": "code",
   "execution_count": null,
   "id": "f5d8d8ad",
   "metadata": {
    "ExecuteTime": {
     "end_time": "2023-01-13T23:59:20.889267Z",
     "start_time": "2023-01-13T23:59:20.837634Z"
    }
   },
   "outputs": [],
   "source": [
    "###################################################\n",
    "# old video generation script using mechanical FVM\n",
    "###################################################\n",
    "# time_end_recording = 3#.2\n",
    "# fps=40\n",
    "# time_between_observations=1/fps\n",
    "# vertices=mesh.vertices\n",
    "# while time_of_next_observation <= time_end_recording:\n",
    "#     tf = time_of_next_observation\n",
    "    #integrate forward to the next time of observatiiion\n",
    "    #     integrate_system_explicit_synchronous(tf, element_array_time, element_array_stepsize, node_array_time,element_array_index, vertices, velocities,node_array_mass, element_array_inverse_equilibrium_position)\n",
    "#     integrate_system_explicit_asynchronous(tf, element_array_time, element_array_stepsize, node_array_time,element_array_index, vertices, velocities, node_array_mass, element_array_inverse_equilibrium_position, atol_x, atol_v, btol_x, btol_v, learning_rate)\n",
    "    #     integrate_system_implicit_synchronous(tf, element_array_time, element_array_stepsize, node_array_time,element_array_index, vertices, velocities,node_array_mass, element_array_inverse_equilibrium_position)\n",
    "    #     integrate_system_implicit_asynchronous(tf, element_array_time, element_array_stepsize, node_array_time,      element_array_index, vertices, velocities, node_array_mass, element_array_inverse_equilibrium_position, atol_x, atol_v, btol_x, btol_v, learning_rate)\n",
    "    #     integrate_system_dormand_prince_synchronous(tf,element_array_time,element_array_stepsize,node_array_time,element_array_index,vertices,velocities, node_array_mass,element_array_inverse_equilibrium_position,element_array_mass)\n",
    "    #     integrate_system_dormand_prince_asynchronous(tf,element_array_time,element_array_stepsize,node_array_time,element_array_index,vertices,velocities, node_array_mass,element_array_inverse_equilibrium_position,element_array_mass)\n",
    "\n",
    "#     #update a copy of all positions to the observation time using the current velocity\n",
    "#     x = vertices.copy()\n",
    "#     for a in range(N_vertices):\n",
    "#         x[a] += velocities[a] * (tf - tau[a])\n",
    "    \n",
    "#     #measure observables\n",
    "#     ##mesh measures\n",
    "#     net_volume = compute_net_volume(x, element_array_index)\n",
    "#     net_energy = compute_net_energy(N_elements, element_array_mass, velocities, x, #vertices,\n",
    "#                                   element_array_index, element_array_inverse_equilibrium_position, mu, lam)\n",
    "#     ##stepsize measures\n",
    "#     stepsize_mean = np.mean(element_array_stepsize)\n",
    "#     stepsize_std = np.std(element_array_stepsize)\n",
    "#     stepsize_median = np.median(element_array_stepsize)\n",
    "\n",
    "#     #record observables\n",
    "#     volume_lst.append(net_volume)\n",
    "#     energy_lst.append(net_energy)\n",
    "#     tme = tf\n",
    "#     tme_lst.append(tme)\n",
    "#     stepsize_mean_lst.append(stepsize_mean)\n",
    "#     stepsize_std_lst.append(stepsize_std)\n",
    "#     stepsize_median_lst.append(stepsize_median)\n",
    "#     stepsize_count_lst.append(count_array(array = element_array_stepsize,bins=learning_bins))"
   ]
  },
  {
   "cell_type": "markdown",
   "id": "d8b0cc4e",
   "metadata": {},
   "source": [
    "## feable attempts to get the ` Warning: Expected min height of view:` messages to go away."
   ]
  },
  {
   "cell_type": "code",
   "execution_count": null,
   "id": "cefd6bf7",
   "metadata": {},
   "outputs": [],
   "source": []
  },
  {
   "cell_type": "code",
   "execution_count": null,
   "id": "3eca64f8",
   "metadata": {
    "ExecuteTime": {
     "end_time": "2023-01-13T02:58:35.604272Z",
     "start_time": "2023-01-13T02:58:35.604240Z"
    }
   },
   "outputs": [],
   "source": [
    "# from ctypes import *\n",
    "\n",
    "# import pyglet\n",
    "# from pyglet import gl\n",
    "# from pyglet.window import BaseWindow, WindowException\n",
    "# from pyglet.window import MouseCursor, DefaultMouseCursor\n",
    "\n",
    "# from pyglet.canvas.cocoa import CocoaCanvas\n",
    "\n",
    "# from pyglet.libs.darwin import cocoapy, CGPoint\n",
    "\n",
    "# from .systemcursor import SystemCursor\n",
    "# from .pyglet_delegate import PygletDelegate\n",
    "# from .pyglet_textview import PygletTextView\n",
    "# from .pyglet_window import PygletWindow, PygletToolWindow\n",
    "# from .pyglet_view import PygletView\n",
    "\n",
    "# NSApplication = cocoapy.ObjCClass('NSApplication')\n",
    "# NSCursor = cocoapy.ObjCClass('NSCursor')\n",
    "# NSAutoreleasePool = cocoapy.ObjCClass('NSAutoreleasePool')\n",
    "# NSColor = cocoapy.ObjCClass('NSColor')\n",
    "# NSEvent = cocoapy.ObjCClass('NSEvent')\n",
    "# NSImage = cocoapy.ObjCClass('NSImage')\n",
    "\n",
    "# quartz = cocoapy.quartz\n",
    "# cf = cocoapy.cf"
   ]
  },
  {
   "cell_type": "code",
   "execution_count": null,
   "id": "a95d566b",
   "metadata": {
    "ExecuteTime": {
     "end_time": "2023-01-13T02:58:35.606866Z",
     "start_time": "2023-01-13T02:58:35.606844Z"
    }
   },
   "outputs": [],
   "source": [
    "# from pyglet.libs.darwin import cocoapy, CGPoint\n",
    "# NSCursor = cocoapy.ObjCClass('NSCursor')\n",
    "# NSColor = cocoapy.ObjCClass('NSColor')\n",
    "# NSEvent = cocoapy.ObjCClass('NSEvent')\n",
    "# NSImage = cocoapy.ObjCClass('NSImage')\n",
    "\n",
    "\n"
   ]
  },
  {
   "cell_type": "code",
   "execution_count": null,
   "id": "bceb5b14",
   "metadata": {
    "ExecuteTime": {
     "end_time": "2023-01-13T02:58:35.608878Z",
     "start_time": "2023-01-13T02:58:35.608858Z"
    }
   },
   "outputs": [],
   "source": [
    "######################################################################\n",
    "# THE PROBLEM WITH THE WARNINGS APPEARS TO BE DEEPER IN MY MACINTOSH\n",
    "####################s##################################################\n",
    "#OPTION 1: DO NOTHING\n",
    "#OPTION 2: SKETCHY FORCE REINSTALL MACVIM\n",
    "#src: https://stackoverflow.com/questions/64862562/updated-to-mac-os-big-sur-and-getting-warning-expected-min-height-of-view-err"
   ]
  },
  {
   "cell_type": "code",
   "execution_count": null,
   "id": "88742455",
   "metadata": {
    "ExecuteTime": {
     "end_time": "2023-01-13T02:58:35.610445Z",
     "start_time": "2023-01-13T02:58:35.610425Z"
    }
   },
   "outputs": [],
   "source": [
    "#needed for rendering\n",
    "from pyglet.libs.darwin import cocoapy\n",
    "from pyglet.event import EventDispatcher\n",
    "NSApplication = cocoapy.ObjCClass('NSApplication')\n",
    "NSAutoreleasePool = cocoapy.ObjCClass('NSAutoreleasePool')"
   ]
  },
  {
   "cell_type": "code",
   "execution_count": null,
   "id": "74efebac",
   "metadata": {
    "ExecuteTime": {
     "end_time": "2023-01-13T02:58:35.612176Z",
     "start_time": "2023-01-13T02:58:35.612156Z"
    }
   },
   "outputs": [],
   "source": [
    "def dispatch_events(window):\n",
    "#     window._allow_dispatch_event = True\n",
    "#     # Process all pyglet events.\n",
    "#     window.dispatch_pending_events()\n",
    "    event = True\n",
    "    # Dequeue and process all of the pending Cocoa events.\n",
    "    pool = NSAutoreleasePool.new()\n",
    "    NSApp = NSApplication.sharedApplication()\n",
    "    step=0\n",
    "    while event and window._nswindow and window._context:\n",
    "        print(f\"{step=}\");step+=1\n",
    "        event = NSApp.nextEventMatchingMask_untilDate_inMode_dequeue_(\n",
    "            cocoapy.NSAnyEventMask, None, cocoapy.NSEventTrackingRunLoopMode, True)\n",
    "        if event:\n",
    "            event_type = event.type()\n",
    "            # Pass on all events.\n",
    "            NSApp.sendEvent_(event)\n",
    "#             # And resend key events to special handlers.\n",
    "#             if event_type == cocoapy.NSKeyDown and not event.isARepeat():\n",
    "#                 NSApp.sendAction_to_from_(cocoapy.get_selector('pygletKeyDown:'), None, event)\n",
    "#             elif event_type == cocoapy.NSKeyUp:\n",
    "#                 NSApp.sendAction_to_from_(cocoapy.get_selector('pygletKeyUp:'), None, event)\n",
    "#             elif event_type == cocoapy.NSFlagsChanged:\n",
    "#                 NSApp.sendAction_to_from_(cocoapy.get_selector('pygletFlagsChanged:'), None, event)\n",
    "            NSApp.updateWindows()\n",
    "    return pool\n",
    "#     pool.drain()\n",
    "#     window._allow_dispatch_event = False\n",
    "\n",
    "def dispatch_event(window, *args):\n",
    "    if not window._enable_event_queue or window._allow_dispatch_event:\n",
    "        if EventDispatcher.dispatch_event(window, *args) != False:\n",
    "            window._legacy_invalid = True\n",
    "    else:\n",
    "        window._event_queue.append(args)"
   ]
  },
  {
   "cell_type": "code",
   "execution_count": null,
   "id": "bbffbfc7",
   "metadata": {
    "ExecuteTime": {
     "end_time": "2023-01-13T02:58:35.613522Z",
     "start_time": "2023-01-13T02:58:35.613501Z"
    }
   },
   "outputs": [],
   "source": [
    "#TODO: wrap as saving foo\n",
    "# input: scene\n",
    "# output: scene saved as .png\n",
    "#kwargs are passed to trimesh.viewer.windowed.SceneViewer, which takes <100ms to run.\n",
    "kwargs={}\n",
    "\n",
    "window = trimesh.viewer.windowed.SceneViewer(scene, resolution = (1280,720), format='PNG',\n",
    "                                             visible=True,start_loop=False,**kwargs)"
   ]
  },
  {
   "cell_type": "code",
   "execution_count": null,
   "id": "4581fcda",
   "metadata": {
    "ExecuteTime": {
     "end_time": "2023-01-13T02:58:35.615124Z",
     "start_time": "2023-01-13T02:58:35.615106Z"
    }
   },
   "outputs": [],
   "source": [
    "window._allow_dispatch_event = True\n",
    "# Process all pyglet events.\n",
    "window.dispatch_pending_events()"
   ]
  },
  {
   "cell_type": "code",
   "execution_count": null,
   "id": "ea2e7e22",
   "metadata": {
    "ExecuteTime": {
     "end_time": "2023-01-13T02:58:35.616833Z",
     "start_time": "2023-01-13T02:58:35.616812Z"
    }
   },
   "outputs": [],
   "source": [
    "cocoapy.ObjCClass?"
   ]
  },
  {
   "cell_type": "code",
   "execution_count": null,
   "id": "f5f4a4ef",
   "metadata": {
    "ExecuteTime": {
     "end_time": "2023-01-13T02:58:35.618508Z",
     "start_time": "2023-01-13T02:58:35.618462Z"
    }
   },
   "outputs": [],
   "source": [
    "NSApplication = cocoapy.ObjCClass('NSApplication')"
   ]
  },
  {
   "cell_type": "code",
   "execution_count": null,
   "id": "d8fa3d67",
   "metadata": {
    "ExecuteTime": {
     "end_time": "2023-01-13T02:58:35.620499Z",
     "start_time": "2023-01-13T02:58:35.620480Z"
    }
   },
   "outputs": [],
   "source": [
    "event = True\n",
    "# Dequeue and process all of the pending Cocoa events.\n",
    "pool = NSAutoreleasePool.new()\n",
    "NSApp = NSApplication.sharedApplication()\n",
    "step=0"
   ]
  },
  {
   "cell_type": "code",
   "execution_count": null,
   "id": "b737571d",
   "metadata": {
    "ExecuteTime": {
     "end_time": "2023-01-13T02:58:35.622551Z",
     "start_time": "2023-01-13T02:58:35.622511Z"
    }
   },
   "outputs": [],
   "source": [
    "NSApplication.sharedApplication?"
   ]
  },
  {
   "cell_type": "code",
   "execution_count": null,
   "id": "e4c64367",
   "metadata": {
    "ExecuteTime": {
     "end_time": "2023-01-13T02:58:35.624572Z",
     "start_time": "2023-01-13T02:58:35.624552Z"
    }
   },
   "outputs": [],
   "source": [
    "\n",
    "# while event and window._nswindow and window._context:\n",
    "event , window._nswindow , window._context"
   ]
  },
  {
   "cell_type": "code",
   "execution_count": null,
   "id": "b372cee2",
   "metadata": {
    "ExecuteTime": {
     "end_time": "2023-01-13T02:58:35.626276Z",
     "start_time": "2023-01-13T02:58:35.626256Z"
    }
   },
   "outputs": [],
   "source": [
    "# NSApp.objc_class."
   ]
  },
  {
   "cell_type": "code",
   "execution_count": null,
   "id": "2c5d0562",
   "metadata": {},
   "outputs": [],
   "source": []
  },
  {
   "cell_type": "code",
   "execution_count": null,
   "id": "4d014bf8",
   "metadata": {
    "ExecuteTime": {
     "end_time": "2023-01-13T02:58:35.628195Z",
     "start_time": "2023-01-13T02:58:35.628166Z"
    }
   },
   "outputs": [],
   "source": [
    "NSApp.nextEventMatchingMask_untilDate_inMode_dequeue_?\n",
    "# File:           ~/opt/miniconda3/envs/pyenv/lib/python3.9/site-packages/pyglet/libs/darwin/cocoapy/runtime.py\n",
    "# This represents an Objective-C method (an IMP) which has been bound\n",
    "# to some id which will be passed as the first parameter to the method."
   ]
  },
  {
   "cell_type": "code",
   "execution_count": null,
   "id": "a37f12cc",
   "metadata": {
    "ExecuteTime": {
     "end_time": "2023-01-13T02:58:35.630042Z",
     "start_time": "2023-01-13T02:58:35.630014Z"
    }
   },
   "outputs": [],
   "source": [
    "print(f\"{step=}\");step+=1\n",
    "event = NSApp.nextEventMatchingMask_untilDate_inMode_dequeue_(\n",
    "    cocoapy.NSAnyEventMask, None, cocoapy.NSEventTrackingRunLoopMode, True)\n",
    "#CONFIRMED: NSApp.nextEventMatchingMask_untilDate_inMode_dequeue_ is throwing the annoying warning messages.\n",
    "event"
   ]
  },
  {
   "cell_type": "code",
   "execution_count": null,
   "id": "533c870c",
   "metadata": {
    "ExecuteTime": {
     "end_time": "2023-01-13T02:58:35.631738Z",
     "start_time": "2023-01-13T02:58:35.631712Z"
    }
   },
   "outputs": [],
   "source": [
    "#heretimlater\n",
    "#DONE(when brew update is done): try fixing the \"Warning: Expected min height of view\"\n",
    "#POSSIBLE ROOT CAUSE: my macintosh's touchbar doesn't jive.\n",
    "#POSSIBLE FIX #1: brew reinstall macvim\n",
    "#POSSIBLE FIX #2: something more violent..."
   ]
  },
  {
   "cell_type": "code",
   "execution_count": null,
   "id": "3e155e26",
   "metadata": {
    "ExecuteTime": {
     "end_time": "2023-01-13T02:58:35.633221Z",
     "start_time": "2023-01-13T02:58:35.633201Z"
    }
   },
   "outputs": [],
   "source": [
    "event.type()"
   ]
  },
  {
   "cell_type": "code",
   "execution_count": null,
   "id": "feb26613",
   "metadata": {
    "ExecuteTime": {
     "end_time": "2023-01-13T02:58:35.634986Z",
     "start_time": "2023-01-13T02:58:35.634963Z"
    }
   },
   "outputs": [],
   "source": [
    "if event:\n",
    "    event_type = event.type()\n",
    "    # Pass on all events.\n",
    "    NSApp.sendEvent_(event)\n",
    "    NSApp.updateWindows()\n"
   ]
  },
  {
   "cell_type": "code",
   "execution_count": null,
   "id": "7ad8e185",
   "metadata": {},
   "outputs": [],
   "source": []
  },
  {
   "cell_type": "code",
   "execution_count": null,
   "id": "c75e358e",
   "metadata": {
    "ExecuteTime": {
     "end_time": "2023-01-13T02:58:35.637765Z",
     "start_time": "2023-01-13T02:58:35.637740Z"
    }
   },
   "outputs": [],
   "source": [
    "# print(getsource(window.dispatch_event))\n",
    "# window._allow_dispatch_event = True\n",
    "pool = dispatch_events(window)"
   ]
  },
  {
   "cell_type": "code",
   "execution_count": null,
   "id": "ee568049",
   "metadata": {
    "ExecuteTime": {
     "end_time": "2023-01-13T02:58:35.640342Z",
     "start_time": "2023-01-13T02:58:35.640320Z"
    }
   },
   "outputs": [],
   "source": [
    "pool.drain()\n",
    "window._allow_dispatch_event = False"
   ]
  },
  {
   "cell_type": "code",
   "execution_count": null,
   "id": "4eab9b0a",
   "metadata": {},
   "outputs": [],
   "source": []
  },
  {
   "cell_type": "code",
   "execution_count": null,
   "id": "1bf45c2c",
   "metadata": {
    "ExecuteTime": {
     "end_time": "2023-01-13T02:58:35.641768Z",
     "start_time": "2023-01-13T02:58:35.641749Z"
    }
   },
   "outputs": [],
   "source": [
    "import inspect\n",
    "\n",
    "print(os.path.abspath(inspect.getfile(window.dispatch_events)))\n"
   ]
  },
  {
   "cell_type": "code",
   "execution_count": null,
   "id": "c9873b28",
   "metadata": {},
   "outputs": [],
   "source": []
  },
  {
   "cell_type": "code",
   "execution_count": null,
   "id": "8472b58c",
   "metadata": {},
   "outputs": [],
   "source": []
  },
  {
   "cell_type": "code",
   "execution_count": null,
   "id": "f3ac2934",
   "metadata": {},
   "outputs": [],
   "source": []
  },
  {
   "cell_type": "code",
   "execution_count": null,
   "id": "c81e0e94",
   "metadata": {
    "ExecuteTime": {
     "end_time": "2023-01-13T02:58:35.645975Z",
     "start_time": "2023-01-13T02:58:35.645954Z"
    }
   },
   "outputs": [],
   "source": [
    "\n",
    "# # need to run loop twice to display anything\n",
    "# for save in [False, False, True]:\n",
    "#     pyglet.clock.tick()\n",
    "#     window.switch_to()\n",
    "#     window.dispatch_events()\n",
    "#     window.dispatch_event('on_draw')\n",
    "#     window.flip()\n",
    "#     if save:\n",
    "#         # save the color buffer data to memory\n",
    "#         file_obj = trimesh.viewer.windowed.util.BytesIO()\n",
    "#         #file_obj = BytesIO()\n",
    "#         window.save_image(file_obj)\n",
    "#         file_obj.seek(0)\n",
    "#         png = file_obj.read()\n",
    "# window.close()\n",
    "# rendered = Image.open(trimesh.util.wrap_as_stream(png))\n",
    "# format_str='PNG'\n",
    "# #save rendered scene as .png\n",
    "# rendered.save(save_fn_img, format=format_str)\n",
    "# del rendered, file_obj, png\n",
    "# print(f\"open {os.path.abspath(save_fn_img)}\")"
   ]
  },
  {
   "cell_type": "code",
   "execution_count": null,
   "id": "4f74c9ff",
   "metadata": {
    "ExecuteTime": {
     "end_time": "2023-01-13T02:58:35.647526Z",
     "start_time": "2023-01-13T02:58:35.647508Z"
    }
   },
   "outputs": [],
   "source": [
    "#TODO: wrap as saving foo\n",
    "# input: scene\n",
    "# output: scene saved as .png\n",
    "#kwargs are passed to trimesh.viewer.windowed.SceneViewer, which takes <100ms to run.\n",
    "# kwargs={}\n",
    "# window = trimesh.viewer.windowed.SceneViewer(scene, resolution = (1280,720), format='PNG',\n",
    "#                                              visible=True,start_loop=False,**kwargs)\n",
    "# need to run loop twice to display anything\n",
    "# for save in [True]: #broke it\n",
    "# for save in [False, True]:#broke it too\n",
    "for save in [False, False, True]:\n",
    "    #pyglet.clock.tick() #still works without\n",
    "#     window.switch_to() #still works without\n",
    "    window.dispatch_events() #needed #src of warning messages\n",
    "    window.dispatch_event('on_draw') #needed\n",
    "#     window.dispatch_event('on_draw') #needed\n",
    "#     window.flip()#still works without\n",
    "    if save:\n",
    "        # save the color buffer data to memory\n",
    "        file_obj = trimesh.viewer.windowed.util.BytesIO()\n",
    "        #file_obj = BytesIO()\n",
    "        window.save_image(file_obj)\n",
    "        file_obj.seek(0)\n",
    "        png = file_obj.read()\n",
    "window.close()\n",
    "rendered = Image.open(trimesh.util.wrap_as_stream(png))\n",
    "format_str='PNG'\n",
    "#save rendered scene as .png\n",
    "rendered.save(save_fn_img, format=format_str)\n",
    "del rendered, file_obj, png\n",
    "# del file_obj, png\n",
    "print(f\"open {os.path.abspath(save_fn_img)}\")"
   ]
  },
  {
   "cell_type": "code",
   "execution_count": null,
   "id": "853bdc0a",
   "metadata": {
    "ExecuteTime": {
     "end_time": "2023-01-13T02:58:35.648955Z",
     "start_time": "2023-01-13T02:58:35.648936Z"
    }
   },
   "outputs": [],
   "source": [
    "!open /Users/timothytyree/Documents/meshes/vid_000/tmp_000/img-00000001.png\n",
    "# ERROR: ^this is blank and red uniformly\n",
    "# Q: is the root cause from scene to scene_viewer or scene_viewer to png?\n",
    "# A: from scene_viewer to png... scene_viwer renders right in .ipynb."
   ]
  },
  {
   "cell_type": "code",
   "execution_count": null,
   "id": "9527f567",
   "metadata": {
    "ExecuteTime": {
     "end_time": "2023-01-13T02:58:35.650513Z",
     "start_time": "2023-01-13T02:58:35.650496Z"
    }
   },
   "outputs": [],
   "source": [
    "#TODO(bonus): annotate scene directly with f\"{t=}\"\n",
    "#TODO(failing ^that, bonus): annotate rendered?\n",
    "type(rendered)"
   ]
  },
  {
   "cell_type": "code",
   "execution_count": null,
   "id": "415b8de4",
   "metadata": {},
   "outputs": [],
   "source": []
  },
  {
   "cell_type": "code",
   "execution_count": null,
   "id": "34de7ee2",
   "metadata": {
    "ExecuteTime": {
     "end_time": "2023-01-13T02:58:35.652164Z",
     "start_time": "2023-01-13T02:58:35.652147Z"
    }
   },
   "outputs": [],
   "source": [
    "!rm /Users/timothytyree/Documents/meshes/vid_000/tmp_000/img-00000001.png"
   ]
  },
  {
   "cell_type": "code",
   "execution_count": null,
   "id": "65578f62",
   "metadata": {
    "ExecuteTime": {
     "end_time": "2023-01-13T02:58:35.653840Z",
     "start_time": "2023-01-13T02:58:35.653818Z"
    }
   },
   "outputs": [],
   "source": [
    "#DONE: attempt to spruce up the rendering using trimesh.viewer.windowed.SceneViewer kwargs\n",
    "#                                              smooth=False)  #thisa badbad.\n",
    "#                                              background='black') #TypeError\n",
    "#                                              caption='testy') #did nothing\n",
    "#                                              flags=dict(#\n",
    "#                                                  axis=True#doesn't seem to work...\n",
    "#                                                  #grid=True#ModuleNotFoundError: No module named 'shapely'\n",
    "#                                                  #cull=False, unknown effect\n",
    "#                                                  #wireframe=True # not filled in\n",
    "#                                                   ))\n",
    "# # flags (dict) – If passed apply keys to self.view: [‘cull’, ‘wireframe’, etc]\n",
    "# 'cull': True, 'axis': False, 'grid': False, 'fullscreen': False, 'wireframe': False\n",
    "#defaults"
   ]
  },
  {
   "cell_type": "code",
   "execution_count": null,
   "id": "3d7f796d",
   "metadata": {
    "ExecuteTime": {
     "end_time": "2023-01-13T02:58:35.656038Z",
     "start_time": "2023-01-13T02:58:35.656000Z"
    }
   },
   "outputs": [],
   "source": [
    "# from ..viewer.windowed import render_scene\n",
    "#         png = render_scene(\n",
    "#             scene=self, resolution=resolution, **kwargs)"
   ]
  },
  {
   "cell_type": "code",
   "execution_count": null,
   "id": "89859152",
   "metadata": {
    "ExecuteTime": {
     "end_time": "2023-01-13T02:58:35.657882Z",
     "start_time": "2023-01-13T02:58:35.657857Z"
    }
   },
   "outputs": [],
   "source": [
    "# # TODO(failling start_loop=False): try modifying kwarg window_conf (None, or gl.Config) – Passed to window init\n",
    "\n",
    "# # TODO(failling start_loop=False): profile (bool) – If set will run a pyinstrument profile for every call to on_draw and print the output.\n",
    "# # Q: could this kwarg be useful? record (bool) – If True, will save a list of png bytes to a list located in scene.metadata[‘recording’]\n",
    "# # Q: can i pass background='black' or 'dark'? not clearly...\n",
    "# # NOTE: calling scene_viewer.flip() before saving it might magically solve the problem\n",
    "# scene_viewer = trimesh.viewer.windowed.SceneViewer(scene, resolution = (1280,720), visible=False,  \n",
    "#                                                    start_loop=False,#,True\n",
    "#                                                    format='PNG')#,background='w')#,\n",
    "# # #                           start_loop=False,background='dark'\n",
    "# #                                                    smooth=True, flags=None, visible=True, resolution=None, \n",
    "# #                                                    start_loop=False,#,True \n",
    "# #                                                    callback=None, callback_period=None, caption=None, fixed=None, \n",
    "# #                                                 offset_lines=True, line_settings=None, background=None, window_conf=None, \n",
    "# #                                                    profile=False, record=False)#, **kwargs)\n",
    "\n",
    "# scene_viewer.flip()"
   ]
  },
  {
   "cell_type": "code",
   "execution_count": null,
   "id": "4b7634f8",
   "metadata": {
    "ExecuteTime": {
     "end_time": "2023-01-13T02:58:35.659434Z",
     "start_time": "2023-01-13T02:58:35.659416Z"
    }
   },
   "outputs": [],
   "source": [
    "# from inspect import getsource\n",
    "# # print(getsource(scene.save_image))\n",
    "# print(getsource(trimesh.viewer.windowed.render_scene))"
   ]
  },
  {
   "cell_type": "code",
   "execution_count": null,
   "id": "445196cf",
   "metadata": {
    "ExecuteTime": {
     "end_time": "2023-01-13T02:58:35.661213Z",
     "start_time": "2023-01-13T02:58:35.661193Z"
    }
   },
   "outputs": [],
   "source": [
    "#heretimheretim\n",
    "#TODO: get this working and wrap it to foo\n",
    "# save_scene_to_png_trimesh(save_fn_img, scene, \n",
    "#                           resolution = (1280,720),visible=False, format='PNG',\n",
    "#                           start_loop=False,background='dark')#,**kwargs)"
   ]
  },
  {
   "cell_type": "markdown",
   "id": "3d325908",
   "metadata": {
    "ExecuteTime": {
     "end_time": "2023-01-13T00:08:21.003853Z",
     "start_time": "2023-01-13T00:08:20.960243Z"
    }
   },
   "source": [
    "## scratchwerk"
   ]
  },
  {
   "cell_type": "code",
   "execution_count": null,
   "id": "16de2039",
   "metadata": {
    "ExecuteTime": {
     "end_time": "2023-01-13T02:58:35.662295Z",
     "start_time": "2023-01-13T02:58:35.662277Z"
    }
   },
   "outputs": [],
   "source": [
    "# png = scene.save_image(resolution=resolution, visible=visible,start_loop=start_loop)#,**kwargs)"
   ]
  },
  {
   "cell_type": "code",
   "execution_count": null,
   "id": "155e9ae5",
   "metadata": {},
   "outputs": [],
   "source": []
  },
  {
   "cell_type": "code",
   "execution_count": null,
   "id": "5f621a36",
   "metadata": {
    "ExecuteTime": {
     "end_time": "2023-01-13T02:58:35.663794Z",
     "start_time": "2023-01-13T02:58:35.663776Z"
    }
   },
   "outputs": [],
   "source": [
    "# #save scene as .png\n",
    "# rendered = Image.open(\n",
    "#     trimesh.util.wrap_as_stream(png))\n",
    "# rendered.save(save_fn_img, format=format_str)\n",
    "# del rendered"
   ]
  },
  {
   "cell_type": "code",
   "execution_count": null,
   "id": "8100ef80",
   "metadata": {
    "ExecuteTime": {
     "end_time": "2023-01-13T02:58:35.665232Z",
     "start_time": "2023-01-13T02:58:35.665211Z"
    }
   },
   "outputs": [],
   "source": [
    "# # window_conf\n",
    "# gl.Config"
   ]
  },
  {
   "cell_type": "code",
   "execution_count": null,
   "id": "cbd13e48",
   "metadata": {
    "ExecuteTime": {
     "end_time": "2023-01-13T02:58:35.666665Z",
     "start_time": "2023-01-13T02:58:35.666640Z"
    }
   },
   "outputs": [],
   "source": [
    "# scene_viewer.background='black'"
   ]
  },
  {
   "cell_type": "code",
   "execution_count": null,
   "id": "841bfc43",
   "metadata": {
    "ExecuteTime": {
     "end_time": "2023-01-13T02:58:35.669253Z",
     "start_time": "2023-01-13T02:58:35.669222Z"
    }
   },
   "outputs": [],
   "source": [
    "# scene_viewer.background"
   ]
  },
  {
   "cell_type": "code",
   "execution_count": null,
   "id": "958adc58",
   "metadata": {
    "ExecuteTime": {
     "end_time": "2023-01-13T02:58:35.671481Z",
     "start_time": "2023-01-13T02:58:35.671451Z"
    }
   },
   "outputs": [],
   "source": [
    "# trimesh.viewer.notebook.scene_to_notebook(scene_viewer.scene,height=200)\n",
    "# trimesh.viewer.notebook.scene_to_notebook(scene_viewer.scene,height=480)\n",
    "# trimesh.viewer.notebook.scene_to_notebook(scene_viewer.scene)"
   ]
  },
  {
   "cell_type": "code",
   "execution_count": null,
   "id": "ca09412a",
   "metadata": {
    "ExecuteTime": {
     "end_time": "2023-01-13T02:58:35.673456Z",
     "start_time": "2023-01-13T02:58:35.673436Z"
    }
   },
   "outputs": [],
   "source": [
    "# trimesh.viewer.render_scene?\n",
    "# ^that's slow..."
   ]
  },
  {
   "cell_type": "code",
   "execution_count": null,
   "id": "ff95096f",
   "metadata": {
    "ExecuteTime": {
     "end_time": "2023-01-13T02:58:35.674912Z",
     "start_time": "2023-01-13T02:58:35.674891Z"
    }
   },
   "outputs": [],
   "source": [
    "# # with tempfile.NamedTemporaryFile(suffix='.png') as file_obj:\n",
    "# with tempfile.TemporaryFile() as file_obj:\n",
    "#     file_obj = scene_viewer.save_image(file_obj)\n",
    "#     file_obj.seek(0)\n",
    "#     data = file_obj.read()\n",
    "#     rendered = Image.open(trimesh.util.wrap_as_stream(data))\n",
    "#     del data\n",
    "\n",
    "# format_str='PNG'\n",
    "# #save rendered scene as .png\n",
    "# rendered.save(save_fn_img, format=format_str)\n",
    "# del rendered\n",
    "# print(f\"open {os.path.abspath(save_fn_img)}\")\n",
    "\n",
    "# !open /Users/timothytyree/Documents/meshes/vid_000/tmp_000/img-00000001.png\n",
    "# # ERROR: ^this is blank and red uniformly\n",
    "# # Q: is the root cause from scene to scene_viewer or scene_viewer to png?\n",
    "# # A: from scene_viewer to png... scene_viwer renders right in .ipynb."
   ]
  },
  {
   "cell_type": "code",
   "execution_count": null,
   "id": "786af325",
   "metadata": {
    "ExecuteTime": {
     "end_time": "2023-01-13T02:58:35.676738Z",
     "start_time": "2023-01-13T02:58:35.676712Z"
    }
   },
   "outputs": [],
   "source": [
    "# # trimesh.viewer.notebook.scene_to_notebook(scene=scene, height=480)#,camera=camera,lights=None,camera_transform=None)#720)#1080)\n",
    "#don't use this. it's slow.\n",
    "# png = trimesh.viewer.render_scene(scene, resolution=(1280,720), visible=False)#, **kwargs)\n",
    "# # start_loop=False,#,True\n",
    "# #                                                    format='PNG')\n",
    "# type(png)"
   ]
  },
  {
   "cell_type": "code",
   "execution_count": null,
   "id": "4efd110f",
   "metadata": {},
   "outputs": [],
   "source": []
  },
  {
   "cell_type": "code",
   "execution_count": null,
   "id": "d40c767a",
   "metadata": {},
   "outputs": [],
   "source": []
  },
  {
   "cell_type": "code",
   "execution_count": null,
   "id": "d55e4253",
   "metadata": {
    "ExecuteTime": {
     "end_time": "2023-01-13T02:58:35.678791Z",
     "start_time": "2023-01-13T02:58:35.678771Z"
    }
   },
   "outputs": [],
   "source": [
    "# scene_viewer.visible"
   ]
  },
  {
   "cell_type": "code",
   "execution_count": null,
   "id": "ce4cf0e3",
   "metadata": {
    "ExecuteTime": {
     "end_time": "2023-01-12T23:40:32.791311Z",
     "start_time": "2023-01-12T23:40:32.749737Z"
    }
   },
   "outputs": [],
   "source": []
  },
  {
   "cell_type": "code",
   "execution_count": null,
   "id": "4a4976e7",
   "metadata": {
    "ExecuteTime": {
     "end_time": "2023-01-13T02:58:35.680467Z",
     "start_time": "2023-01-13T02:58:35.680447Z"
    }
   },
   "outputs": [],
   "source": [
    "# scene.show()"
   ]
  },
  {
   "cell_type": "code",
   "execution_count": null,
   "id": "b90e2c78",
   "metadata": {
    "ExecuteTime": {
     "end_time": "2023-01-13T02:58:35.681908Z",
     "start_time": "2023-01-13T02:58:35.681871Z"
    }
   },
   "outputs": [],
   "source": [
    "# # it appears to work!\n",
    "# # png = \n",
    "# scene_viewer.save_image()\n",
    "# start_loop=False) #stop launching an ipykernel"
   ]
  },
  {
   "cell_type": "code",
   "execution_count": null,
   "id": "56c93a3b",
   "metadata": {
    "ExecuteTime": {
     "end_time": "2023-01-13T02:58:35.683230Z",
     "start_time": "2023-01-13T02:58:35.683210Z"
    }
   },
   "outputs": [],
   "source": [
    "# print(f\"open {os.path.abspath(save_fn_img)}\")"
   ]
  },
  {
   "cell_type": "code",
   "execution_count": null,
   "id": "1ea02c02",
   "metadata": {
    "ExecuteTime": {
     "end_time": "2023-01-13T02:58:35.685261Z",
     "start_time": "2023-01-13T02:58:35.685240Z"
    }
   },
   "outputs": [],
   "source": [
    "# scene.save_image(start_loop=False) #stop launching an ipykernel? no."
   ]
  },
  {
   "cell_type": "code",
   "execution_count": null,
   "id": "08e6c1fd",
   "metadata": {},
   "outputs": [],
   "source": []
  },
  {
   "cell_type": "code",
   "execution_count": null,
   "id": "c35b6471",
   "metadata": {},
   "outputs": [],
   "source": []
  },
  {
   "cell_type": "code",
   "execution_count": null,
   "id": "2b63a3ce",
   "metadata": {
    "ExecuteTime": {
     "end_time": "2023-01-13T02:58:35.686857Z",
     "start_time": "2023-01-13T02:58:35.686830Z"
    }
   },
   "outputs": [],
   "source": [
    "# #Q: is save_image launching ipykernel?\n",
    "# A: yes.\n",
    "# scene.save_image(start_loop=False) #stop launching an ipykernel"
   ]
  },
  {
   "cell_type": "code",
   "execution_count": null,
   "id": "05ac9af9",
   "metadata": {
    "ExecuteTime": {
     "end_time": "2023-01-13T02:58:35.689350Z",
     "start_time": "2023-01-13T02:58:35.689317Z"
    }
   },
   "outputs": [],
   "source": [
    "# #input: scene\n",
    "# #output: saved png without opening a separate ipykernel window\n",
    "# with tempfile.TemporaryFile() as file_obj:\n",
    "#     print(file_obj.name)"
   ]
  },
  {
   "cell_type": "code",
   "execution_count": null,
   "id": "720abae9",
   "metadata": {
    "ExecuteTime": {
     "end_time": "2023-01-13T02:58:35.691578Z",
     "start_time": "2023-01-13T02:58:35.691559Z"
    }
   },
   "outputs": [],
   "source": [
    "# png = scene.render_scene()\n",
    "\n",
    "# #TODO: pass flags kwarg for wireframe\n",
    "# # flags (dict) – If passed apply keys to self.view: [‘cull’, ‘wireframe’, etc]\n",
    "# type(png)"
   ]
  },
  {
   "cell_type": "code",
   "execution_count": null,
   "id": "0598a7ba",
   "metadata": {
    "ExecuteTime": {
     "end_time": "2023-01-12T23:15:21.115433Z",
     "start_time": "2023-01-12T23:15:21.115415Z"
    }
   },
   "outputs": [],
   "source": []
  },
  {
   "cell_type": "code",
   "execution_count": null,
   "id": "d1494fb5",
   "metadata": {
    "ExecuteTime": {
     "end_time": "2023-01-13T02:58:35.693788Z",
     "start_time": "2023-01-13T02:58:35.693763Z"
    }
   },
   "outputs": [],
   "source": [
    "# scene_viewer"
   ]
  },
  {
   "cell_type": "code",
   "execution_count": null,
   "id": "56b636f5",
   "metadata": {
    "ExecuteTime": {
     "end_time": "2023-01-13T02:58:35.695639Z",
     "start_time": "2023-01-13T02:58:35.695618Z"
    }
   },
   "outputs": [],
   "source": [
    "# png = trimesh.viewer.windowed.render_scene(scene=scene)\n",
    "# type(png)"
   ]
  },
  {
   "cell_type": "code",
   "execution_count": null,
   "id": "a90f1344",
   "metadata": {},
   "outputs": [],
   "source": []
  },
  {
   "cell_type": "code",
   "execution_count": null,
   "id": "e3db21b9",
   "metadata": {
    "ExecuteTime": {
     "end_time": "2023-01-12T23:15:21.119831Z",
     "start_time": "2023-01-12T23:15:21.119812Z"
    }
   },
   "outputs": [],
   "source": []
  },
  {
   "cell_type": "code",
   "execution_count": null,
   "id": "8d54e2bb",
   "metadata": {
    "ExecuteTime": {
     "end_time": "2023-01-13T02:58:35.697140Z",
     "start_time": "2023-01-13T02:58:35.697116Z"
    }
   },
   "outputs": [],
   "source": [
    "# scene.save_image?"
   ]
  },
  {
   "cell_type": "code",
   "execution_count": null,
   "id": "bf4be24e",
   "metadata": {},
   "outputs": [],
   "source": []
  },
  {
   "cell_type": "code",
   "execution_count": null,
   "id": "c7d37b0a",
   "metadata": {
    "ExecuteTime": {
     "end_time": "2023-01-13T02:58:35.698840Z",
     "start_time": "2023-01-13T02:58:35.698819Z"
    }
   },
   "outputs": [],
   "source": [
    "# #generate png from mesh_current\n",
    "# resolution = (1280,720)\n",
    "# camera_angle=(-3*45,0,0)\n",
    "# # scene = trimesh.scene.Scene(mesh_current)\n",
    "# scene = mesh_current.scene()\n",
    "# scene.set_camera(angles=camera_angle)\n",
    "# # #save scene to .png\n",
    "# # save_scene_to_png_trimesh(save_fn_img, scene, \n",
    "# #                           resolution = (1280,720),visible=True, format='PNG')#,**kwargs)\n",
    "# print(f\"open {os.path.abspath(save_fn_img)}\")\n",
    "# # scene.show()"
   ]
  },
  {
   "cell_type": "code",
   "execution_count": null,
   "id": "189cf7ca",
   "metadata": {
    "ExecuteTime": {
     "end_time": "2023-01-13T02:58:35.700180Z",
     "start_time": "2023-01-13T02:58:35.700154Z"
    }
   },
   "outputs": [],
   "source": [
    "# !open /Users/timothytyree/Documents/meshes/vid_000/tmp_000/img-00000001.png\n"
   ]
  },
  {
   "cell_type": "code",
   "execution_count": null,
   "id": "166a04e4",
   "metadata": {
    "ExecuteTime": {
     "end_time": "2023-01-13T02:58:35.701829Z",
     "start_time": "2023-01-13T02:58:35.701808Z"
    }
   },
   "outputs": [],
   "source": [
    "# mesh = trimesh.primitives.Sphere()\n",
    "# scene = mesh.scene()\n",
    "\n",
    "# data = scene.save_image()\n",
    "# # if this doesn't work, try it with a visible window:\n",
    "# # data = scene.save_image(visible=True)\n",
    "\n",
    "\n",
    "# from PIL import Image\n",
    "# rendered = Image.open(trimesh.util.wrap_as_stream(png))\n",
    "# # rendered.show()"
   ]
  },
  {
   "cell_type": "code",
   "execution_count": null,
   "id": "bcae0fa4",
   "metadata": {
    "ExecuteTime": {
     "end_time": "2023-01-13T02:58:35.703332Z",
     "start_time": "2023-01-13T02:58:35.703309Z"
    }
   },
   "outputs": [],
   "source": [
    "# scene.save_image?"
   ]
  },
  {
   "cell_type": "code",
   "execution_count": null,
   "id": "0be98af8",
   "metadata": {
    "ExecuteTime": {
     "end_time": "2023-01-13T02:58:35.706071Z",
     "start_time": "2023-01-13T02:58:35.706018Z"
    }
   },
   "outputs": [],
   "source": [
    "#heretim\n",
    "#TODO: dev identity map in Lp representation, Ip\n",
    "#TODO: see if Ip=np.eye(x.shape[0]) works\n",
    "#TODO(failing ^that): figure out what a constant (or zero) rho setting does.  record this as Ip if apparent identity."
   ]
  },
  {
   "cell_type": "code",
   "execution_count": null,
   "id": "6bacbde9",
   "metadata": {
    "ExecuteTime": {
     "end_time": "2023-01-13T02:58:35.708139Z",
     "start_time": "2023-01-13T02:58:35.708119Z"
    }
   },
   "outputs": [],
   "source": [
    "# from inspect import getsource\n",
    "# print(getsource(trimesh.viewer.windowed.SceneViewer))\n"
   ]
  },
  {
   "cell_type": "code",
   "execution_count": null,
   "id": "aadfca0a",
   "metadata": {
    "ExecuteTime": {
     "end_time": "2023-01-13T02:58:35.710056Z",
     "start_time": "2023-01-13T02:58:35.710010Z"
    }
   },
   "outputs": [],
   "source": [
    "# manager = pyglet.image.get_buffer_manager()\n",
    "# colorbuffer = manager.get_color_buffer()\n",
    "# # if passed a string save by name\n",
    "# if hasattr(file_obj, 'write'):\n",
    "#     colorbuffer.save(file=file_obj)\n",
    "# else:\n",
    "#     colorbuffer.save(filename=file_obj)\n",
    "# # return file_obj"
   ]
  },
  {
   "cell_type": "code",
   "execution_count": null,
   "id": "4b260502",
   "metadata": {
    "ExecuteTime": {
     "end_time": "2023-01-13T02:58:35.711826Z",
     "start_time": "2023-01-13T02:58:35.711805Z"
    }
   },
   "outputs": [],
   "source": [
    "# import tempfile\n",
    "# # mesh = trimesh.primitives.Sphere()\n",
    "# scene = mesh.scene()\n",
    "# with tempfile.TemporaryFile() as file_obj:\n",
    "#     scene.save_image(file_obj, visible=True)#, resolution=(480,480))\n",
    "#     file_obj.seek(0)\n",
    "#     data = file_obj.read()\n",
    "# # scene.show()\n",
    "# from PIL import Image\n",
    "# rendered = Image.open(trimesh.util.wrap_as_stream(data))\n",
    "# # rendered.show()"
   ]
  },
  {
   "cell_type": "code",
   "execution_count": null,
   "id": "53ff0fc9",
   "metadata": {
    "ExecuteTime": {
     "end_time": "2023-01-13T02:58:35.713302Z",
     "start_time": "2023-01-13T02:58:35.713276Z"
    }
   },
   "outputs": [],
   "source": [
    "# # plt.imshow(png)\n",
    "# # bytes(png)\n",
    "# from PIL import Image\n",
    "# import io\n",
    "# img_byte_arr = io.BytesIO()\n",
    "# # png.save(img_byte_arr, format='PNG')\n",
    "# scene.save_image(img_byte_arr, format='PNG')\n",
    "# img_byte_array = img_byte_arr.getvalue()\n",
    "# type(img_byte_array)"
   ]
  },
  {
   "cell_type": "code",
   "execution_count": null,
   "id": "1e2d9107",
   "metadata": {},
   "outputs": [],
   "source": []
  },
  {
   "cell_type": "code",
   "execution_count": null,
   "id": "930b95e8",
   "metadata": {
    "ExecuteTime": {
     "end_time": "2023-01-13T02:58:35.715027Z",
     "start_time": "2023-01-13T02:58:35.715007Z"
    }
   },
   "outputs": [],
   "source": [
    "# # scene.save_image?\n",
    "# img = Image.Image(png)\n",
    "# Img = Image.fromarray(png)\n",
    "# # Img.save(save_fn_img)\n",
    "# # del Img\n",
    "\n",
    "# # type(img)"
   ]
  },
  {
   "cell_type": "code",
   "execution_count": null,
   "id": "3311b7ff",
   "metadata": {
    "ExecuteTime": {
     "end_time": "2023-01-13T02:58:35.716473Z",
     "start_time": "2023-01-13T02:58:35.716453Z"
    }
   },
   "outputs": [],
   "source": [
    "# # IFrame\n",
    "# points=mesh_current.vertices\n",
    "# # scene.camera_transform = scene.camera.look_at(2*points)\n",
    "# scene.set_camera(angles=(-90-45,0,45))\n",
    "# # trimesh.viewer.notebook.scene_to_notebook(scene=scene, height=480)#,camera=camera,lights=None,camera_transform=None)#720)#1080)\n",
    "# png = scene.save_image(resolution=None)#, **kwargs)\n",
    "# # Passed to SceneViewer constructor"
   ]
  },
  {
   "cell_type": "code",
   "execution_count": null,
   "id": "bb2af0f8",
   "metadata": {
    "ExecuteTime": {
     "end_time": "2023-01-12T23:58:07.885016Z",
     "start_time": "2023-01-12T23:58:07.884997Z"
    }
   },
   "outputs": [],
   "source": []
  },
  {
   "cell_type": "code",
   "execution_count": null,
   "id": "4e7f7d4b",
   "metadata": {},
   "outputs": [],
   "source": []
  },
  {
   "cell_type": "markdown",
   "id": "759e8251",
   "metadata": {},
   "source": [
    "# DONE: fork from previous video generation script"
   ]
  },
  {
   "cell_type": "code",
   "execution_count": null,
   "id": "25745505",
   "metadata": {
    "ExecuteTime": {
     "end_time": "2023-01-12T23:58:07.883084Z",
     "start_time": "2023-01-12T23:58:07.883055Z"
    }
   },
   "outputs": [],
   "source": [
    "# TODO: fork old video creation method\n",
    "\n",
    "#heretim\n",
    "#TODO: find input fn\n",
    "\n",
    "# # mesh_folder = f\"{root_dir}/Documents/meshes/res\"\n",
    "# folder_vid=os.path.join(mesh_folder,'..')\n",
    "# folder_vid=os.path.join(folder_vid,'vid_000')\n"
   ]
  },
  {
   "cell_type": "code",
   "execution_count": null,
   "id": "75b561b5",
   "metadata": {
    "ExecuteTime": {
     "end_time": "2023-01-12T23:58:07.886961Z",
     "start_time": "2023-01-12T23:58:07.886933Z"
    }
   },
   "outputs": [],
   "source": [
    "# from PIL import Image\n",
    "# import trimesh, tetgen, pyvista as pv\n",
    "# from IPython.utils import io"
   ]
  },
  {
   "cell_type": "code",
   "execution_count": null,
   "id": "873444cb",
   "metadata": {
    "ExecuteTime": {
     "end_time": "2023-01-12T06:58:51.309825Z",
     "start_time": "2023-01-12T06:58:51.268566Z"
    }
   },
   "outputs": [],
   "source": []
  },
  {
   "cell_type": "code",
   "execution_count": null,
   "id": "c47108da",
   "metadata": {
    "ExecuteTime": {
     "end_time": "2023-01-12T23:58:07.889147Z",
     "start_time": "2023-01-12T23:58:07.889128Z"
    }
   },
   "outputs": [],
   "source": [
    "# #visualize the mesh surface\n",
    "# \tpv.set_plot_theme('document')\n",
    "\n",
    "# \t#get the vtk object (wrapped by pyvista from withing tetgen.  Faces recorded by trimesh))\n",
    "# \tif faces is None:\n",
    "# \t\tif input_file_name is None:\n",
    "# \t\t\tException('either faces or input_file_name must be specified')\n",
    "# \t\tmesh_trimesh = trimesh.load(input_file_name)\n",
    "# \t\tfaces = mesh_trimesh.faces\n",
    "\n",
    "# \ttet = tetgen.TetGen(vertices, faces)\n",
    "# \t# #fault tolerant tetrahedralization\n",
    "# \tvertices_tet, elements_tet = tet.tetrahedralize(order=1, mindihedral=0., minratio=10., nobisect=False, steinerleft=100000)#\n",
    "# \ttet.make_manifold()\n",
    "# \tgrid = tet.grid\n",
    "\n",
    "# \t# advanced plotting\n",
    "# \tplotter = pv.Plotter()\n",
    "# \tif darkmode:\n",
    "# \t\tplotter.set_background(background_color)\n",
    "# \t\tplotter.add_mesh(grid, 'lightgrey', lighting=True)\n",
    "# \t\t#looks like tron plotter.add_mesh(grid, 'r', 'wireframe')\n",
    "# \telse:\n",
    "# \t\tplotter.add_mesh(grid, 'lightgrey', lighting=True)\n",
    "# \t\tfont_color = 'k'\n",
    "# \tif text is not None:\t\n",
    "# \t\tplotter.add_text(\n",
    "# \t\t    text,\n",
    "# \t\t    position='upper_left',\n",
    "# \t\t    font_size=24,\n",
    "# \t\t    color=font_color,\n",
    "# \t\t    font='times')\n",
    "# \t#font options\n",
    "# \t# FONT_KEYS = {'arial': vtk.VTK_ARIAL,\n",
    "# \t#              'courier': vtk.VTK_COURIER,\n",
    "# \t#              'times': vtk.VTK_TIMES}\n",
    "\n",
    "# \t#cpos is (camera position, focal point, and view up)\n",
    "# \t#for movies, just set the camera position to some constant value.\n",
    "\n",
    "# \t_cpos, img = plotter.show(title=None, return_img=True, cpos=cpos, window_size=window_size, use_ipyvtk = False, interactive=False, auto_close=True);\n",
    "# \tplotter.deep_clean()\n",
    "# \tdel plotter\n",
    "# \tpv.close_all()\n",
    "# \treturn img"
   ]
  },
  {
   "cell_type": "code",
   "execution_count": null,
   "id": "78dddaff",
   "metadata": {
    "ExecuteTime": {
     "end_time": "2023-01-12T23:58:07.890885Z",
     "start_time": "2023-01-12T23:58:07.890864Z"
    }
   },
   "outputs": [],
   "source": [
    "# darkmode = True; background_color = 'k'; text=None;\n",
    "# window_size = [1280,720]; font_color = 'w'\n",
    "cpos = [(3.77, 3.77, 3.77),(0.0069, -0.0045, 0.0),(0.0, 0.0, 1.0)]"
   ]
  },
  {
   "cell_type": "code",
   "execution_count": null,
   "id": "98940795",
   "metadata": {
    "ExecuteTime": {
     "end_time": "2023-01-12T23:58:07.892711Z",
     "start_time": "2023-01-12T23:58:07.892690Z"
    }
   },
   "outputs": [],
   "source": [
    "faces = mesh_out.faces"
   ]
  },
  {
   "cell_type": "code",
   "execution_count": null,
   "id": "2478528e",
   "metadata": {
    "ExecuteTime": {
     "end_time": "2023-01-12T23:58:07.894309Z",
     "start_time": "2023-01-12T23:58:07.894264Z"
    }
   },
   "outputs": [],
   "source": [
    "#This method is very slow! another is needed!\n",
    "img = get_img_of_system(vertices, faces=faces, \n",
    "                        input_file_name=None, darkmode = False, text=f'time={tf:.2f}',cpos=cpos)\n"
   ]
  },
  {
   "cell_type": "code",
   "execution_count": null,
   "id": "5491d8f4",
   "metadata": {
    "ExecuteTime": {
     "end_time": "2023-01-12T23:58:07.896696Z",
     "start_time": "2023-01-12T23:58:07.896674Z"
    }
   },
   "outputs": [],
   "source": []
  },
  {
   "cell_type": "code",
   "execution_count": null,
   "id": "fe3978e2",
   "metadata": {},
   "outputs": [],
   "source": []
  },
  {
   "cell_type": "markdown",
   "id": "9087b449",
   "metadata": {},
   "source": [
    "# GOAL: dev viewer for a given mesh"
   ]
  },
  {
   "cell_type": "code",
   "execution_count": null,
   "id": "dd5cb975",
   "metadata": {
    "ExecuteTime": {
     "end_time": "2023-01-12T23:58:07.898226Z",
     "start_time": "2023-01-12T23:58:07.898207Z"
    }
   },
   "outputs": [],
   "source": [
    "scene = trimesh.scene.Scene(mesh)"
   ]
  },
  {
   "cell_type": "code",
   "execution_count": null,
   "id": "73ecd329",
   "metadata": {
    "ExecuteTime": {
     "end_time": "2023-01-12T23:58:07.899990Z",
     "start_time": "2023-01-12T23:58:07.899964Z"
    }
   },
   "outputs": [],
   "source": [
    "# mesh_out.show()\n",
    "# /Users/timothytyree/opt/miniconda3/envs/pyenv/lib/python3.9/site-packages/IPython/core/display.py:724: UserWarning: Consider using IPython.display.IFrame instead\n",
    "#   warnings.warn(\"Consider using IPython.display.IFrame instead\")\n",
    "# camera : Camera or None\n",
    "#   A passed camera to use\n",
    "# lights : [trimesh.scene.lighting.Light] or None\n",
    "#   A passed lights to use\n",
    "# camera_transform : (4, 4) float or None\n",
    "#   Camera transform in the base frame\n",
    "points=mesh_out.vertices\n",
    "# scene.camera_transform = scene.camera.look_at(2*points)\n",
    "scene.set_camera(angles=(-90-45,0,45))\n",
    "trimesh.viewer.notebook.scene_to_notebook(scene=scene, height=480)#,camera=camera,lights=None,camera_transform=None)#720)#1080)\n"
   ]
  },
  {
   "cell_type": "code",
   "execution_count": null,
   "id": "48535488",
   "metadata": {
    "ExecuteTime": {
     "end_time": "2023-01-12T06:06:59.536610Z",
     "start_time": "2023-01-12T06:06:59.443795Z"
    }
   },
   "outputs": [],
   "source": [
    "\n"
   ]
  },
  {
   "cell_type": "code",
   "execution_count": null,
   "id": "ea1bf932",
   "metadata": {
    "ExecuteTime": {
     "end_time": "2023-01-12T23:58:07.901812Z",
     "start_time": "2023-01-12T23:58:07.901787Z"
    }
   },
   "outputs": [],
   "source": [
    "#optionally play with action\n"
   ]
  },
  {
   "cell_type": "code",
   "execution_count": null,
   "id": "e0d54999",
   "metadata": {},
   "outputs": [],
   "source": []
  },
  {
   "cell_type": "code",
   "execution_count": null,
   "id": "8213ef90",
   "metadata": {},
   "outputs": [],
   "source": []
  },
  {
   "cell_type": "code",
   "execution_count": null,
   "id": "fe2df0cd",
   "metadata": {
    "ExecuteTime": {
     "end_time": "2023-01-12T23:58:07.903716Z",
     "start_time": "2023-01-12T23:58:07.903687Z"
    }
   },
   "outputs": [],
   "source": [
    "#optionally play with camera\n",
    "scene.camera = trimesh.scene.cameras.Camera(name='camera_instance', resolution=(100,480), focal=(1,1), fov=None, z_near=0.01, z_far=1000.0)\n",
    "scene.camera"
   ]
  },
  {
   "cell_type": "code",
   "execution_count": null,
   "id": "258e2161",
   "metadata": {
    "ExecuteTime": {
     "end_time": "2023-01-12T23:58:07.905993Z",
     "start_time": "2023-01-12T23:58:07.905968Z"
    }
   },
   "outputs": [],
   "source": [
    "#optionally play with lights\n",
    "scene.lights"
   ]
  },
  {
   "cell_type": "code",
   "execution_count": null,
   "id": "012e3b7c",
   "metadata": {
    "ExecuteTime": {
     "end_time": "2023-01-12T23:58:07.907400Z",
     "start_time": "2023-01-12T23:58:07.907379Z"
    }
   },
   "outputs": [],
   "source": [
    "scene.set_camera(angles=(-90-45,0,45))\n",
    "# trimesh.viewer.notebook.scene_to_notebook(scene=scene, height=480,lights=None)#720)#1080)"
   ]
  },
  {
   "cell_type": "code",
   "execution_count": null,
   "id": "829ff24e",
   "metadata": {
    "ExecuteTime": {
     "end_time": "2023-01-12T06:19:04.376713Z",
     "start_time": "2023-01-12T06:19:03.999471Z"
    }
   },
   "outputs": [],
   "source": []
  },
  {
   "cell_type": "code",
   "execution_count": null,
   "id": "3b35f909",
   "metadata": {
    "ExecuteTime": {
     "end_time": "2023-01-12T06:19:25.300752Z",
     "start_time": "2023-01-12T06:19:25.211740Z"
    }
   },
   "outputs": [],
   "source": []
  },
  {
   "cell_type": "code",
   "execution_count": null,
   "id": "b9157467",
   "metadata": {
    "ExecuteTime": {
     "end_time": "2023-01-12T23:58:07.909386Z",
     "start_time": "2023-01-12T23:58:07.909361Z"
    }
   },
   "outputs": [],
   "source": [
    "# compose scene\n",
    "scene = pyrender.Scene(ambient_light=[.1, .1, .3], bg_color=[0, 0, 0])\n",
    "camera = pyrender.PerspectiveCamera( yfov=np.pi / 3.0)\n",
    "light = pyrender.DirectionalLight(color=[1,1,1], intensity=2e3)\n",
    "\n",
    "scene.add(mesh, pose=  np.eye(4))\n",
    "scene.add(light, pose=  np.eye(4))\n",
    "\n",
    "c = 2**-0.5\n",
    "scene.add(camera, pose=[[ 1,  0,  0,  0],\n",
    "                        [ 0,  c, -c, -2],\n",
    "                        [ 0,  c,  c,  2],\n",
    "                        [ 0,  0,  0,  1]])\n",
    "\n",
    "# render scene\n",
    "r = pyrender.OffscreenRenderer(512, 512)\n",
    "rcolor, _ = r.render(scene)\n",
    "\n",
    "plt.figure(figsize=(8,8)), plt.imshow(rcolor);"
   ]
  },
  {
   "cell_type": "code",
   "execution_count": null,
   "id": "fc742ade",
   "metadata": {
    "ExecuteTime": {
     "end_time": "2023-01-12T06:21:05.042852Z",
     "start_time": "2023-01-12T06:21:04.988384Z"
    }
   },
   "outputs": [],
   "source": []
  },
  {
   "cell_type": "code",
   "execution_count": null,
   "id": "d81a778a",
   "metadata": {
    "ExecuteTime": {
     "end_time": "2023-01-12T23:58:07.910920Z",
     "start_time": "2023-01-12T23:58:07.910895Z"
    }
   },
   "outputs": [],
   "source": [
    "# trimesh.viewer.render_scene(*args, **kwargs)\n",
    "# trimesh.viewer.notebook.in_notebook()"
   ]
  },
  {
   "cell_type": "code",
   "execution_count": null,
   "id": "eb166eb3",
   "metadata": {
    "ExecuteTime": {
     "end_time": "2023-01-12T23:58:07.912514Z",
     "start_time": "2023-01-12T23:58:07.912486Z"
    }
   },
   "outputs": [],
   "source": [
    "#heretim\n",
    "#GOAL: dev viewer\n",
    "#TODO: dev .png generator\n",
    "# Lp.shape,x.shape\n",
    "# HINT: use the IPython.Frame thingy\n",
    "#TDOO: generate a folder of .png files\n",
    "#TODO: dev ffmpg wrapper script, as before"
   ]
  },
  {
   "cell_type": "code",
   "execution_count": null,
   "id": "78da4dea",
   "metadata": {},
   "outputs": [],
   "source": []
  },
  {
   "cell_type": "markdown",
   "id": "e3b0d4a5",
   "metadata": {},
   "source": [
    "# scratchwerk"
   ]
  },
  {
   "cell_type": "markdown",
   "id": "d43ae7cd",
   "metadata": {},
   "source": [
    "## scratchwerk"
   ]
  },
  {
   "cell_type": "code",
   "execution_count": null,
   "id": "882dc547",
   "metadata": {},
   "outputs": [],
   "source": []
  },
  {
   "cell_type": "code",
   "execution_count": null,
   "id": "c5f629b2",
   "metadata": {},
   "outputs": [],
   "source": []
  },
  {
   "cell_type": "code",
   "execution_count": null,
   "id": "efde5c41",
   "metadata": {
    "ExecuteTime": {
     "end_time": "2023-01-12T23:58:07.914106Z",
     "start_time": "2023-01-12T23:58:07.914089Z"
    }
   },
   "outputs": [],
   "source": [
    "# #>10 minute run time...\n",
    "# Linv = np.linalg.pinv(L)\n",
    "#DONE: try the pseudo inverse L instead"
   ]
  },
  {
   "cell_type": "code",
   "execution_count": null,
   "id": "177ef6bd",
   "metadata": {
    "ExecuteTime": {
     "end_time": "2023-01-12T23:58:07.916292Z",
     "start_time": "2023-01-12T23:58:07.916272Z"
    }
   },
   "outputs": [],
   "source": [
    "#test the inverted matrix has only valid entries\n",
    "assert not np.isnan(Linv).any()\n",
    "assert not np.isinf(Linv).any()"
   ]
  },
  {
   "cell_type": "code",
   "execution_count": null,
   "id": "9fbc3d0b",
   "metadata": {
    "ExecuteTime": {
     "end_time": "2023-01-12T23:58:07.918249Z",
     "start_time": "2023-01-12T23:58:07.918228Z"
    }
   },
   "outputs": [],
   "source": [
    "#run time >10 minutes\n",
    "# # print(np.around((Linv[-9:,-9:]),3))\n",
    "# # print(np.around((Linv[:9,:9]),1))\n",
    "# U, S, V = np.linalg.svd(L, full_matrices=False)\n",
    "# U.shape, S.shape, V.shape "
   ]
  },
  {
   "cell_type": "code",
   "execution_count": null,
   "id": "9cfe10a1",
   "metadata": {
    "ExecuteTime": {
     "end_time": "2023-01-12T23:58:07.919685Z",
     "start_time": "2023-01-12T23:58:07.919665Z"
    }
   },
   "outputs": [],
   "source": [
    "# vmax=0.01\n",
    "# vmax=0.001\n",
    "vmax=0.0001\n",
    "figsize=(4,4)\n",
    "# figsize=(7,7)\n",
    "fig,ax=plt.subplots(figsize=(7,7))\n",
    "ax.imshow(Lp,\n",
    "    cmap='bwr',\n",
    "# #     norm=None,\n",
    "# #     aspect=None,\n",
    "# #     interpolation=None,\n",
    "# #     alpha=None,\n",
    "    vmin=-vmax,\n",
    "    vmax=vmax)\n",
    "# format_plot\n",
    "# format_plot(ax=ax,xlabel=r'n (1/cm$^2$)',ylabel=r'w (Hz/cm$^2$)',fontsize=fontsize)#,use_loglog=True)\n",
    "ax.set_xticklabels([])\n",
    "ax.set_yticklabels([])\n",
    "ax.tick_params(top=True, right=True,direction='in',which='both')\n",
    "plt.tight_layout()\n",
    "plt.show()"
   ]
  },
  {
   "cell_type": "code",
   "execution_count": null,
   "id": "5bbde15b",
   "metadata": {
    "ExecuteTime": {
     "end_time": "2023-01-12T23:58:07.921710Z",
     "start_time": "2023-01-12T23:58:07.921680Z"
    }
   },
   "outputs": [],
   "source": [
    "print(np.min(L),np.max(L))\n",
    "print(np.min(Linv),np.max(Linv))\n",
    "# -0.7261430355213236 3.630588505800929\n",
    "# -42089716143649.945 0.0\n",
    "\n",
    "# from here in python:\n",
    "# print(np.min(L),np.max(L))\n",
    "# -0.7261430355213236 3.630588505800929\n",
    "#from matlab:\n",
    "# min(L): -7.261430e-01, max(L): 3.630589e+00"
   ]
  },
  {
   "cell_type": "code",
   "execution_count": null,
   "id": "163f3940",
   "metadata": {
    "ExecuteTime": {
     "end_time": "2023-01-12T23:58:07.923045Z",
     "start_time": "2023-01-12T23:58:07.923025Z"
    }
   },
   "outputs": [],
   "source": [
    "#DONE: visualize the pointcloud of ome_raw@Linv\n",
    "#DONE: visualize the pointcloud of Linv@ome_raw\n",
    "#NOTE: none of them look right"
   ]
  },
  {
   "cell_type": "code",
   "execution_count": null,
   "id": "2221606e",
   "metadata": {
    "ExecuteTime": {
     "end_time": "2023-01-12T23:58:07.924637Z",
     "start_time": "2023-01-12T23:58:07.924609Z"
    }
   },
   "outputs": [],
   "source": [
    "# # #test the inverse matrix works with right multiplication\n",
    "# roo = np.abs( (L@Linv) - np.eye(L.shape[0]))\n",
    "# print(roo[:3,:3])\n",
    "# np.min(roo),np.max(roo) #1?? sig figs of agreement (17% error)\n",
    "# # # [[0.00097656 0.         0.        ]\n",
    "# # #  [0.         0.0078125  0.        ]\n",
    "# # #  [0.         0.         0.0078125 ]]\n",
    "# # # (0.0, 0.171875)\n",
    "# # [[0.00585938 0.         0.        ]\n",
    "# #  [0.         0.046875   0.        ]\n",
    "# #  [0.         0.         0.046875  ]]"
   ]
  },
  {
   "cell_type": "code",
   "execution_count": null,
   "id": "c0a787c2",
   "metadata": {
    "ExecuteTime": {
     "end_time": "2023-01-12T23:58:07.926062Z",
     "start_time": "2023-01-12T23:58:07.926045Z"
    }
   },
   "outputs": [],
   "source": [
    "# # #test the inverse matrix works with right multiplication\n",
    "# roo = np.abs( (Linv@L) - np.eye(L.shape[0]))\n",
    "# print(roo[:3,:3])\n",
    "# np.min(roo),np.max(roo) #14?? sig figs of agreement (17% error)\n",
    "# # # [[0.01855469 0.         0.        ]\n",
    "# # #  [0.         0.08984375 0.        ]\n",
    "# # #  [0.         0.         0.08984375]]\n",
    "# # # (0.0, 0.2578125)\n",
    "# # [[0.02148438 0.         0.        ]\n",
    "# #  [0.         0.1015625  0.        ]\n",
    "# #  [0.         0.         0.1015625 ]]"
   ]
  },
  {
   "cell_type": "code",
   "execution_count": null,
   "id": "46ed7f6b",
   "metadata": {
    "ExecuteTime": {
     "end_time": "2023-01-12T23:58:07.927479Z",
     "start_time": "2023-01-12T23:58:07.927460Z"
    }
   },
   "outputs": [],
   "source": [
    "#OBSERVATION: precomputing Linv doesn't work perfectly\n",
    "#~1 minute run time and off by ~ 6 %...\n",
    "# L@Linv\n",
    "#~1 minute run time and off by ~ 10 %...\n",
    "# Linv@L"
   ]
  },
  {
   "cell_type": "code",
   "execution_count": null,
   "id": "3c913c94",
   "metadata": {
    "ExecuteTime": {
     "end_time": "2023-01-12T23:58:07.929511Z",
     "start_time": "2023-01-12T23:58:07.929471Z"
    }
   },
   "outputs": [],
   "source": [
    "# #ROOT CAUSE DETECTED? constant shift from 1 indexing...\n",
    "# #SOLVED\n",
    "# # - in matlab the first element is 1,2,3\n",
    "# # - in python the first element is 0,-1,-2,\n",
    "# # (...)>> try shifting ome_raw before reshaping it\n",
    "# # ome_raw==ome_raw.T\n",
    "# np.mean(ome_raw.reshape((nV,4)),axis=0)\n",
    "# #Q: which axis has the smallest mean value? shift so that goes to 0 some way or another."
   ]
  },
  {
   "cell_type": "code",
   "execution_count": null,
   "id": "e9d1c6a3",
   "metadata": {
    "ExecuteTime": {
     "end_time": "2023-01-12T23:58:07.931416Z",
     "start_time": "2023-01-12T23:58:07.931398Z"
    }
   },
   "outputs": [],
   "source": [
    "# #DONE: checked swap isn't incorrect...\n",
    "# k1=0;k2=1;k3=2\n",
    "# print(f\"{k1=}, {k2=}, {k3=}\")\n",
    "# k3=k1; k1=k2; k2=k3; #% swap\n",
    "# print(f\"{k1=}, {k2=}, {k3=}\")\n"
   ]
  },
  {
   "cell_type": "code",
   "execution_count": null,
   "id": "840056f8",
   "metadata": {
    "ExecuteTime": {
     "end_time": "2023-01-12T23:58:07.933033Z",
     "start_time": "2023-01-12T23:58:07.933016Z"
    }
   },
   "outputs": [],
   "source": [
    "#DONE: check that I'm not using x/L (pointwise division) anywhere..."
   ]
  },
  {
   "cell_type": "code",
   "execution_count": null,
   "id": "bc8df0b5",
   "metadata": {
    "ExecuteTime": {
     "end_time": "2023-01-12T23:58:07.934273Z",
     "start_time": "2023-01-12T23:58:07.934256Z"
    }
   },
   "outputs": [],
   "source": [
    "# np.min(ome),np.max(ome),np.mean(ome),np.var(ome)"
   ]
  },
  {
   "cell_type": "code",
   "execution_count": null,
   "id": "d20e0a05",
   "metadata": {
    "ExecuteTime": {
     "end_time": "2023-01-12T23:58:07.936301Z",
     "start_time": "2023-01-12T23:58:07.936281Z"
    }
   },
   "outputs": [],
   "source": [
    "# # Potential ROOT CAUSE: \n",
    "# # Q: Am I casting from quaternion to cartesian incorrectly?\n",
    "# #NOTE: om is in the basis of 1ijk\n",
    "# #NOTE: ome is in the basis of 1ijk\n",
    "# #NOTE: L is in the basis of quaternions\n",
    "# # om = om.reshape((nV,4))\n",
    "# ome_l.shape,ome_r.shape,Linv.shape,L.shape,om.shape\n",
    "\n",
    "# #maxabs percent difference of 42% between left and right division suggests which one i use really matters...\n",
    "# #maxabs percent difference of 13% between left and right division suggests which one i use really matters...\n",
    "# np.max(np.abs(ome_r-ome_l))/np.max(np.abs(ome_r))"
   ]
  },
  {
   "cell_type": "code",
   "execution_count": null,
   "id": "89b41524",
   "metadata": {
    "ExecuteTime": {
     "end_time": "2023-01-12T23:58:07.938174Z",
     "start_time": "2023-01-12T23:58:07.938152Z"
    }
   },
   "outputs": [],
   "source": [
    "#>10 minutes of run time\n",
    "# # divisor=np.roll(Linv,(12,12))\n",
    "# divisor=np.roll(L,(12,12))\n",
    "# om = np.linalg.lstsq(divisor.T, ome.T)[0].T\n",
    "# om.shape"
   ]
  },
  {
   "cell_type": "code",
   "execution_count": null,
   "id": "62971904",
   "metadata": {},
   "outputs": [],
   "source": []
  },
  {
   "cell_type": "code",
   "execution_count": null,
   "id": "24917a95",
   "metadata": {
    "ExecuteTime": {
     "end_time": "2023-01-12T23:58:07.939617Z",
     "start_time": "2023-01-12T23:58:07.939598Z"
    }
   },
   "outputs": [],
   "source": [
    "#center result\n",
    "ome = ome_raw.reshape((nV,4))\n",
    "# ome = ome_raw.T.reshape((nV,4)) #<<<same thing\n",
    "# Q: which one of ^these is correct?\n",
    "# ome = ome_raw.reshape((4,nV))\n",
    "ome = ome - np.broadcast_to(np.mean(ome,axis=0), shape=(nV,4), subok=False)\n",
    "# ome.reshape((4,nV))\n",
    "# ome=reshape(ome,[4 nV]);\n",
    "# ome=ome-repmat(mean(ome,2),[1 nV]);\n",
    "ome = ome.flatten()\n",
    "# ome=reshape(ome,[4*nV 1]);\n",
    "# om = ome@Linv\n",
    "om = Linv@ome\n",
    "# om = Linv.T@ome\n",
    "print(om.shape)\n",
    "# np.divide?\n",
    "om1=om.copy()"
   ]
  },
  {
   "cell_type": "code",
   "execution_count": null,
   "id": "63f73866",
   "metadata": {
    "ExecuteTime": {
     "end_time": "2023-01-12T23:58:07.940847Z",
     "start_time": "2023-01-12T23:58:07.940831Z"
    }
   },
   "outputs": [],
   "source": [
    "#compute the vector `x` that approximately solves the equation\n",
    "# ``a @ x = b``.\n",
    "\n",
    "#this will take 17-22 minutes to rerun...\n",
    "# om = Linv@ome #the incumbant\n",
    "om2 = np.linalg.lstsq(Lp, ome)[0]    # not under-determined"
   ]
  },
  {
   "cell_type": "code",
   "execution_count": null,
   "id": "31472360",
   "metadata": {
    "ExecuteTime": {
     "end_time": "2023-01-12T23:58:07.942549Z",
     "start_time": "2023-01-12T23:58:07.942528Z"
    }
   },
   "outputs": [],
   "source": [
    "#plot the computed groundstate\n",
    "plt.plot(om2[::4])\n",
    "plt.plot(om2[1::4])\n",
    "plt.plot(om2[2::4])\n",
    "plt.plot(om2[3::4])"
   ]
  },
  {
   "cell_type": "code",
   "execution_count": null,
   "id": "bcafd9cc",
   "metadata": {
    "ExecuteTime": {
     "end_time": "2023-01-12T23:58:07.944279Z",
     "start_time": "2023-01-12T23:58:07.944260Z"
    }
   },
   "outputs": [],
   "source": [
    "# cp.sparse.cupyx.optimizing.optimize?\n",
    "# cholesky decomposition doesn't explicitely solve least-squares. \n",
    "# cp.sparse.cupyx.linalg.sparse.lschol(A,b)\n",
    "# cp.sparse.cupyx.linalg.invh?\n",
    "# cp.sparse.cupyx.linalg.sparse.lschol?"
   ]
  },
  {
   "cell_type": "code",
   "execution_count": null,
   "id": "0f643ba2",
   "metadata": {
    "ExecuteTime": {
     "end_time": "2023-01-12T23:58:07.945705Z",
     "start_time": "2023-01-12T23:58:07.945663Z"
    }
   },
   "outputs": [],
   "source": [
    "# a=Lp.copy()\n",
    "# b=ome.copy()\n",
    "# x0=Linv@b"
   ]
  },
  {
   "cell_type": "code",
   "execution_count": null,
   "id": "bca44871",
   "metadata": {
    "ExecuteTime": {
     "end_time": "2023-01-12T01:18:09.250436Z",
     "start_time": "2023-01-12T01:18:09.250424Z"
    }
   },
   "outputs": [],
   "source": []
  },
  {
   "cell_type": "code",
   "execution_count": null,
   "id": "30ba80fc",
   "metadata": {
    "ExecuteTime": {
     "end_time": "2023-01-12T23:58:07.947293Z",
     "start_time": "2023-01-12T23:58:07.947270Z"
    }
   },
   "outputs": [],
   "source": [
    "\n",
    "#DONE: try scipy.sparse or something lstsq in scipy\n",
    "#DONT: block-solve upper-triangular / lu decomposition or something to make it go faster"
   ]
  },
  {
   "cell_type": "code",
   "execution_count": null,
   "id": "622d275d",
   "metadata": {},
   "outputs": [],
   "source": []
  },
  {
   "cell_type": "code",
   "execution_count": null,
   "id": "77913113",
   "metadata": {
    "ExecuteTime": {
     "end_time": "2023-01-12T01:18:09.253611Z",
     "start_time": "2023-01-12T01:18:09.253599Z"
    }
   },
   "outputs": [],
   "source": []
  },
  {
   "cell_type": "code",
   "execution_count": null,
   "id": "e4df6e11",
   "metadata": {
    "ExecuteTime": {
     "end_time": "2023-01-12T23:58:07.948895Z",
     "start_time": "2023-01-12T23:58:07.948876Z"
    }
   },
   "outputs": [],
   "source": [
    "#GOAL: dev map Linv,ome,Lp to ome_refined=x\n",
    "# <--->  x minimizes the Euclidean 2-norm `|| b - a x ||^2`\n",
    "# def lsq_solve_pytorch(a,x0,b):\n",
    "#     pass\n",
    "# <--->  x minimizes the Euclidean 2-norm `|| b - a x ||^2`\n",
    "# def lsq_solve_scipy(a,x0,b):\n",
    "#     pass\n",
    "#TODO: implement gradient-descent approach to map Linv,ome,Lp to Linv_refined in numpy/cupy?\n",
    "#TODO: implement gradient-descent approach to map Linv,ome,Lp to Linv_refined in pytorch\n",
    "#TODO: try using the iterative method from before to find the groundstate eigensolution lam, to E*lam = res*lam"
   ]
  },
  {
   "cell_type": "code",
   "execution_count": null,
   "id": "50a246b1",
   "metadata": {},
   "outputs": [],
   "source": []
  },
  {
   "cell_type": "code",
   "execution_count": null,
   "id": "b13d6803",
   "metadata": {},
   "outputs": [],
   "source": []
  },
  {
   "cell_type": "code",
   "execution_count": null,
   "id": "438ea27a",
   "metadata": {
    "ExecuteTime": {
     "end_time": "2023-01-12T23:58:07.950397Z",
     "start_time": "2023-01-12T23:58:07.950379Z"
    }
   },
   "outputs": [],
   "source": [
    "# np.linalg.norm(x)"
   ]
  },
  {
   "cell_type": "code",
   "execution_count": null,
   "id": "ad75aeda",
   "metadata": {
    "ExecuteTime": {
     "end_time": "2023-01-12T23:58:07.951673Z",
     "start_time": "2023-01-12T23:58:07.951650Z"
    }
   },
   "outputs": [],
   "source": [
    "print(f\"Root-Mean-Square-Error between numpy and scipy least-square solutions: {rmse=:.4f}\")\n",
    "rmse = np.sqrt(np.linalg.norm(x-om2))\n",
    "print(f\"Solution Norms: (scipy soln, numpy soln)\")\n",
    "print(f\"- {np.linalg.norm(x)=:.6f}, {np.linalg.norm(om2)=:.6f}\")\n",
    "print(f\"- {np.linalg.norm(x**2)=:.10f}, {np.linalg.norm(om2**2)=:.10f}\")\n",
    "# mpe=np.mean(np.abs(x-om2)/x)\n",
    "# print(f\"{mpe=:}\")"
   ]
  },
  {
   "cell_type": "code",
   "execution_count": null,
   "id": "28ce3e71",
   "metadata": {
    "ExecuteTime": {
     "end_time": "2023-01-12T23:58:07.953614Z",
     "start_time": "2023-01-12T23:58:07.953583Z"
    }
   },
   "outputs": [],
   "source": [
    "\n",
    "# cp.sparse.cupyx.lapack.gesv?"
   ]
  },
  {
   "cell_type": "code",
   "execution_count": null,
   "id": "cb13dfc3",
   "metadata": {
    "ExecuteTime": {
     "end_time": "2023-01-12T23:58:07.956052Z",
     "start_time": "2023-01-12T23:58:07.956031Z"
    }
   },
   "outputs": [],
   "source": [
    "# Lpc=cp.array(Lp)\n",
    "# Lpc.shape"
   ]
  },
  {
   "cell_type": "code",
   "execution_count": null,
   "id": "a5e74a25",
   "metadata": {
    "ExecuteTime": {
     "end_time": "2023-01-12T23:58:07.957477Z",
     "start_time": "2023-01-12T23:58:07.957456Z"
    }
   },
   "outputs": [],
   "source": [
    "# omec=cp.array(ome)"
   ]
  },
  {
   "cell_type": "code",
   "execution_count": null,
   "id": "0184896b",
   "metadata": {
    "ExecuteTime": {
     "end_time": "2023-01-12T23:58:07.959115Z",
     "start_time": "2023-01-12T23:58:07.959095Z"
    }
   },
   "outputs": [],
   "source": [
    "# #speed-up this step in cp\n",
    "# retval_c = cp.linalg.lstsq(Lpc, omec)    # not under-determined\n",
    "# (om2c, residuals, rank, s) = retval_c\n",
    "# #  OutOfMemoryError: Out of memory allocating 2,067,344,896 bytes (allocated so far: 6,150,403,072 bytes). "
   ]
  },
  {
   "cell_type": "code",
   "execution_count": null,
   "id": "fe98d0ac",
   "metadata": {
    "ExecuteTime": {
     "end_time": "2023-01-12T23:58:07.961507Z",
     "start_time": "2023-01-12T23:58:07.961485Z"
    }
   },
   "outputs": [],
   "source": [
    "# om2=om2c.get()"
   ]
  },
  {
   "cell_type": "code",
   "execution_count": null,
   "id": "e713838b",
   "metadata": {},
   "outputs": [],
   "source": []
  },
  {
   "cell_type": "code",
   "execution_count": null,
   "id": "7503b48a",
   "metadata": {
    "ExecuteTime": {
     "end_time": "2023-01-12T23:58:07.963666Z",
     "start_time": "2023-01-12T23:58:07.963644Z"
    }
   },
   "outputs": [],
   "source": [
    "\n",
    "# # om2,residuals2,rank2,singular_value_array2=retval_\n",
    "# # om2,residuals2,rank2=retval_\n",
    "# # om2,residuals2=retval_\n",
    "# om2=retval_\n",
    "# om2.shape"
   ]
  },
  {
   "cell_type": "code",
   "execution_count": null,
   "id": "f16d1b27",
   "metadata": {
    "ExecuteTime": {
     "end_time": "2023-01-12T23:58:07.964982Z",
     "start_time": "2023-01-12T23:58:07.964963Z"
    }
   },
   "outputs": [],
   "source": [
    "# beep(7)"
   ]
  },
  {
   "cell_type": "code",
   "execution_count": null,
   "id": "57e3e890",
   "metadata": {
    "ExecuteTime": {
     "end_time": "2023-01-12T23:58:07.973492Z",
     "start_time": "2023-01-12T23:58:07.973463Z"
    }
   },
   "outputs": [],
   "source": [
    "# # om = ome@Linv #the transpose. not the same as solving ``a @ x = b``.\n",
    "# om3,residuals3,rank3,singular_value_array3 = np.linalg.lstsq(Lp.T, ome)[0]    # not under-determined\n",
    "# om3.shape"
   ]
  },
  {
   "cell_type": "markdown",
   "id": "68d7158b",
   "metadata": {
    "ExecuteTime": {
     "end_time": "2023-01-12T01:18:09.267256Z",
     "start_time": "2023-01-12T01:18:09.267244Z"
    }
   },
   "source": [
    "## DONE: Plot V_out / more scratchwerk"
   ]
  },
  {
   "cell_type": "code",
   "execution_count": null,
   "id": "0208d4fb",
   "metadata": {
    "ExecuteTime": {
     "end_time": "2023-01-12T23:58:07.975431Z",
     "start_time": "2023-01-12T23:58:07.975413Z"
    }
   },
   "outputs": [],
   "source": [
    "V_out.dtype"
   ]
  },
  {
   "cell_type": "code",
   "execution_count": null,
   "id": "95ab4d53",
   "metadata": {
    "ExecuteTime": {
     "end_time": "2023-01-12T23:58:07.976785Z",
     "start_time": "2023-01-12T23:58:07.976766Z"
    }
   },
   "outputs": [],
   "source": [
    "#visualize the output mesh\n",
    "# initialize mesh colored by rho\n",
    "mesh_out = trimesh.Trimesh(vertices=V_out,faces=tria,\n",
    "                       face_colors=colors,\n",
    "                       face_attributes={'rho':rho})\n",
    "\n",
    "print(f\"{mesh_out.is_watertight=}\")\n",
    "# mesh_out.show()\n",
    "# ****\n",
    "#print mesh bluf\n",
    "print(f\"{mesh_out.volume=}\")\n",
    "print(f\"{mesh_out.center_mass=}\")\n",
    "print(f\"{mesh_out.is_watertight=} (is the current mesh watertight?)\")\n",
    "print(f\"{mesh_out.euler_number=} (what's the euler number for the mesh?)\")"
   ]
  },
  {
   "cell_type": "code",
   "execution_count": null,
   "id": "1d45ea7c",
   "metadata": {
    "ExecuteTime": {
     "end_time": "2023-01-12T23:58:07.978768Z",
     "start_time": "2023-01-12T23:58:07.978748Z"
    }
   },
   "outputs": [],
   "source": [
    "beep(3)\n",
    "#Q: does adding/subtracting 1 from every vertex index in tria help?\n",
    "# A: no.\n",
    "# HINT: \n",
    "# tria_=tria-1\n",
    "# tria_=tria+1\n"
   ]
  },
  {
   "cell_type": "code",
   "execution_count": null,
   "id": "cf41d0f0",
   "metadata": {
    "ExecuteTime": {
     "end_time": "2023-01-12T23:58:07.980718Z",
     "start_time": "2023-01-12T23:58:07.980697Z"
    }
   },
   "outputs": [],
   "source": [
    "# #caution really slow...\n",
    "# #Q: does slerp use something like exponential interpolation?\n",
    "# dt=1e-2\n",
    "# dlp=scipy.linalg.logm(Lp)\n",
    "# Lp_next = scipy.linalg.expm(dt*dlp)\n",
    "# rmsd = np.sqrt(((Lp_next-Lp)[:,0]**2).mean())\n",
    "# print(f\"exponentially rotating the deformation matrix by {dt=}: {rmsd=}\")"
   ]
  },
  {
   "cell_type": "code",
   "execution_count": null,
   "id": "5a42da00",
   "metadata": {
    "ExecuteTime": {
     "end_time": "2023-01-12T23:58:07.982283Z",
     "start_time": "2023-01-12T23:58:07.982260Z"
    }
   },
   "outputs": [],
   "source": [
    "# # Q: can I get a given state of eigenspectrum this way?\n",
    "# #get the first two eigenvectors\n",
    "# Ab = decomp_banded_matrix(A=E)\n",
    "# w, v = scipy.linalg.eig_banded(Ab, lower=True, select='v', select_range=[0,1])\n",
    "\n",
    "# #>3 minute runtime...\n",
    "# #get all eigenvectors\n",
    "# # w, v = eig_banded(E, lower=True)"
   ]
  },
  {
   "cell_type": "code",
   "execution_count": null,
   "id": "0b16ee89",
   "metadata": {},
   "outputs": [],
   "source": []
  },
  {
   "cell_type": "code",
   "execution_count": null,
   "id": "0b5eb3f7",
   "metadata": {},
   "outputs": [],
   "source": []
  },
  {
   "cell_type": "code",
   "execution_count": null,
   "id": "56f5af71",
   "metadata": {
    "ExecuteTime": {
     "end_time": "2023-01-12T23:58:07.983831Z",
     "start_time": "2023-01-12T23:58:07.983815Z"
    }
   },
   "outputs": [],
   "source": [
    "# import numpy as np\n",
    "# from scipy.linalg import eig_banded\n",
    "# A = np.array([[1, 5, 2, 0], [5, 2, 5, 2], [2, 5, 3, 5], [0, 2, 5, 4]])\n",
    "# Ab = np.array([[1, 2, 3, 4], [5, 5, 5, 0], [2, 2, 0, 0]])\n",
    "# w, v = eig_banded(Ab, lower=True)\n",
    "# np.allclose(A @ v - v @ np.diag(w), np.zeros((4, 4)))\n",
    "# True\n",
    "# w = eig_banded(Ab, lower=True, eigvals_only=True)\n",
    "# w\n",
    "\n",
    "# w, v = eig_banded(Ab, lower=True, select='v', select_range=[-3, 4])\n",
    "# w.shape,v.shape,Ab.shape\n",
    "\n"
   ]
  },
  {
   "cell_type": "code",
   "execution_count": null,
   "id": "58ac2c38",
   "metadata": {
    "ExecuteTime": {
     "end_time": "2023-01-12T23:58:07.985337Z",
     "start_time": "2023-01-12T23:58:07.985318Z"
    }
   },
   "outputs": [],
   "source": [
    "# import numpy as np\n",
    "# from scipy.linalg import cholesky_banded, cho_solve_banded\n",
    "# Ab = np.array([[0, 0, 1j, 2, 3j], [0, -1, -2, 3, 4], [9, 8, 7, 6, 9]])\n",
    "# A = np.diag(Ab[0,2:], k=2) + np.diag(Ab[1,1:], k=1)\n",
    "# A = A + A.conj().T + np.diag(Ab[2, :])\n",
    "# c = cholesky_banded(Ab)\n",
    "# x = cho_solve_banded((c, False), np.ones(5))"
   ]
  },
  {
   "cell_type": "code",
   "execution_count": null,
   "id": "302630dd",
   "metadata": {
    "ExecuteTime": {
     "end_time": "2023-01-12T23:58:07.987207Z",
     "start_time": "2023-01-12T23:58:07.987180Z"
    }
   },
   "outputs": [],
   "source": [
    "#Eco_ = cho_solve_banded((cholesky_banded(E), False), lower=True)"
   ]
  },
  {
   "cell_type": "code",
   "execution_count": null,
   "id": "9b9c410b",
   "metadata": {
    "ExecuteTime": {
     "end_time": "2023-01-12T23:58:07.989697Z",
     "start_time": "2023-01-12T23:58:07.989676Z"
    }
   },
   "outputs": [],
   "source": [
    "#Eco_.shape"
   ]
  },
  {
   "cell_type": "code",
   "execution_count": null,
   "id": "fc2db5dc",
   "metadata": {
    "ExecuteTime": {
     "end_time": "2023-01-12T23:58:07.991365Z",
     "start_time": "2023-01-12T23:58:07.991349Z"
    }
   },
   "outputs": [],
   "source": [
    "#Eco___"
   ]
  },
  {
   "cell_type": "code",
   "execution_count": null,
   "id": "e19cf310",
   "metadata": {
    "ExecuteTime": {
     "end_time": "2023-01-12T23:58:07.993529Z",
     "start_time": "2023-01-12T23:58:07.993508Z"
    },
    "scrolled": false
   },
   "outputs": [],
   "source": [
    "# # i=0\n",
    "# i=-1\n",
    "# # ome = vh[int(i)].reshape((nV,4))\n",
    "# # ome = vh[int(i)].reshape((nV,4))\n",
    "# ome = ome_raw.reshape((nV,4))\n",
    "\n",
    "# #center result\n",
    "# ome = ome - np.broadcast_to(np.mean(ome,axis=0), shape=(nV,4), subok=False)\n",
    "# ome = ome.flatten()\n",
    "# #map result\n",
    "# # om = ome.copy()\n",
    "# # om = ome@Linv\n",
    "# om = Linv@ome#@Linv\n",
    "# # om = Linv@ome\n",
    "# # om = Linv.T@ome\n",
    "# #center result\n",
    "# om = om.reshape((nV,4))\n",
    "# om = om - np.broadcast_to(np.mean(om,axis=0), shape=(nV,4), subok=False)\n",
    "# #normalize output mesh\n",
    "# nrm = np.sum(om*om,axis=0)\n",
    "# ome_out=om/np.sqrt(np.max(nrm))\n",
    "# # ome_out=om\n",
    "# V_out = ome_out[:,1:]\n",
    "# scalar_out = ome_out[:,0]\n",
    "# # V_out=ome(2:end,:);\n",
    "# print(f\"\\nQ: is the smallest value in the first index?\\m\")\n",
    "# print(f\"*** Norm: {list(nrm)} ***\")\n",
    "# print(np.min(scalar_out),np.max(scalar_out))\n",
    "# assert vert.shape==V_out.shape\n",
    "# assert not np.isnan(V_out).any()\n",
    "# print(np.max(np.abs(V_out)),np.mean(np.abs(V_out)))\n",
    "# print(f\"{V_out.dtype=}\")\n",
    "\n",
    "# #Q: does permuting triangles by +/- 1-3 fix make it smooth?\n",
    "# #A: no. however, it does shift the colors while not affecting the geometry...\n",
    "\n",
    "#shift the colors\n",
    "# tria_=tria.copy()\n",
    "# # tria_=tria.copy()\n",
    "# tria_=np.roll(tria,-1,axis=1)  \n",
    " \n",
    "\n",
    "# # tria_=np.roll(tria,1,axis=0)  #<< makes funny color streaks\n",
    "# # tria_=np.roll(tria,100,axis=0) #<< roughly shuffled colors\n",
    "# # V_out = V_out[:,(0,1,2)].copy() #\n",
    "# #  V_out = V_out[:,(0,2,1)].copy() #*\n",
    "# # V_out = V_out[:,(1,0,2)].copy() #*\n",
    "# # V_out = V_out[:,(1,2,0)].copy() #*\n",
    "# # V_out = V_out[:,(2,1,0)].copy()\n",
    "# # V_out = V_out[:,(2,0,1)].copy()\n",
    "# #visualize the output mesh\n",
    "# # initialize mesh colored by rho\n",
    "# # mesh_out = trimesh.Trimesh(vertices=V_out,faces=tria,\n",
    "# mesh_out = trimesh.Trimesh(vertices=V_out,faces=tria_,\n",
    "#                        face_colors=colors,\n",
    "#                        face_attributes={'rho':rho},alpha=0.5)\n",
    "\n",
    "# print(f\"{mesh_out.is_watertight=}\")\n",
    "# mesh_out.show()\n",
    "# # ****\n",
    "# # is the current mesh watertight?"
   ]
  },
  {
   "cell_type": "code",
   "execution_count": null,
   "id": "b87854f9",
   "metadata": {},
   "outputs": [],
   "source": []
  },
  {
   "cell_type": "code",
   "execution_count": null,
   "id": "4998dc9a",
   "metadata": {},
   "outputs": [],
   "source": []
  },
  {
   "cell_type": "code",
   "execution_count": null,
   "id": "992bca6f",
   "metadata": {
    "ExecuteTime": {
     "end_time": "2023-01-12T23:58:07.995724Z",
     "start_time": "2023-01-12T23:58:07.995706Z"
    }
   },
   "outputs": [],
   "source": [
    "#<12 minute runtime\n",
    "wh, vh = np.linalg.eigh(Lp)\n",
    "wh.shape,vh.shape"
   ]
  },
  {
   "cell_type": "code",
   "execution_count": null,
   "id": "ee805c1c",
   "metadata": {
    "ExecuteTime": {
     "end_time": "2023-01-12T23:58:07.997166Z",
     "start_time": "2023-01-12T23:58:07.997147Z"
    }
   },
   "outputs": [],
   "source": [
    "# print(np.isclose(wh,1,atol=5e-3).sum(),wh.shape[0])\n",
    "print(f'{np.isclose(wh,1,atol=5e-3).sum():d} out of {wh.shape[0]:d} linearly independent dimensions has an eigenvalue very close to unity...')"
   ]
  },
  {
   "cell_type": "code",
   "execution_count": null,
   "id": "5ef26f4a",
   "metadata": {
    "ExecuteTime": {
     "end_time": "2023-01-12T23:58:07.999047Z",
     "start_time": "2023-01-12T23:58:07.998978Z"
    }
   },
   "outputs": [],
   "source": [
    "# lamh = vh[np.argmin(wh)]\n",
    "lamh = vh[wh==1]\n",
    "lamh.shape"
   ]
  },
  {
   "cell_type": "code",
   "execution_count": null,
   "id": "406016a7",
   "metadata": {
    "ExecuteTime": {
     "end_time": "2023-01-12T23:58:08.000645Z",
     "start_time": "2023-01-12T23:58:08.000625Z"
    }
   },
   "outputs": [],
   "source": [
    "for i in np.argwhere(np.isclose(wh,1,atol=5e-3)):\n",
    "    print(f\"{i=}\")"
   ]
  },
  {
   "cell_type": "code",
   "execution_count": null,
   "id": "10a153af",
   "metadata": {
    "ExecuteTime": {
     "end_time": "2023-01-12T23:58:08.001914Z",
     "start_time": "2023-01-12T23:58:08.001896Z"
    }
   },
   "outputs": [],
   "source": [
    "# # i=0\n",
    "# i=-1\n",
    "# # ome = vh[int(i)].reshape((nV,4))\n",
    "# ome = vh[int(i)].reshape((nV,4))\n",
    "# ome = ome_raw.reshape((nV,4))\n",
    "\n",
    "# #center result\n",
    "# ome = ome - np.broadcast_to(np.mean(ome,axis=0), shape=(nV,4), subok=False)\n",
    "# ome = ome.flatten()\n",
    "# #map result\n",
    "# # om = ome.copy()\n",
    "# # om = ome@Linv\n",
    "# om = Linv@ome#@Linv\n",
    "# # om = Linv@ome\n",
    "# # om = Linv.T@ome\n",
    "# #center result\n",
    "# om = om.reshape((nV,4))\n",
    "# om = om - np.broadcast_to(np.mean(om,axis=0), shape=(nV,4), subok=False)\n",
    "# #normalize output mesh\n",
    "# nrm = np.sum(om*om,axis=0)\n",
    "# ome_out=om/np.sqrt(np.max(nrm))\n",
    "# # ome_out=om\n",
    "# V_out = ome_out[:,1:]\n",
    "# scalar_out = ome_out[:,0]\n",
    "# # V_out=ome(2:end,:);\n",
    "# print(f\"\\nQ: is the smallest value in the first index?\\m\")\n",
    "# print(f\"*** Norm: {list(nrm)} ***\")\n",
    "# print(np.min(scalar_out),np.max(scalar_out))\n",
    "# assert vert.shape==V_out.shape\n",
    "# assert not np.isnan(V_out).any()\n",
    "# print(np.max(np.abs(V_out)),np.mean(np.abs(V_out)))\n",
    "# print(f\"{V_out.dtype=}\")\n",
    "\n",
    "# #Q: does permuting triangles by +/- 1-3 fix make it smooth?\n",
    "# #A: no. however, it does shift the colors while not affecting the geometry...\n",
    "# tria_=tria.copy()\n",
    "# # tria_=np.roll(tria,1,axis=0)  #<< makes funny color streaks\n",
    "# # tria_=np.roll(tria,100,axis=0) #<< roughly shuffled colors\n",
    "# # V_out = V_out[:,(0,1,2)].copy() #\n",
    "# #  V_out = V_out[:,(0,2,1)].copy() #*\n",
    "# # V_out = V_out[:,(1,0,2)].copy() #*\n",
    "# # V_out = V_out[:,(1,2,0)].copy() #*\n",
    "# # V_out = V_out[:,(2,1,0)].copy()\n",
    "# # V_out = V_out[:,(2,0,1)].copy()\n",
    "# #visualize the output mesh\n",
    "# # initialize mesh colored by rho\n",
    "# # mesh_out = trimesh.Trimesh(vertices=V_out,faces=tria,\n",
    "# mesh_out = trimesh.Trimesh(vertices=V_out,faces=tria_,\n",
    "#                        face_colors=colors,\n",
    "#                        face_attributes={'rho':rho},alpha=0.5)\n",
    "\n",
    "# print(f\"{mesh_out.is_watertight=}\")\n",
    "# mesh_out.show()\n",
    "# # ****\n",
    "# # is the current mesh watertight?"
   ]
  },
  {
   "cell_type": "code",
   "execution_count": null,
   "id": "2c7f167a",
   "metadata": {
    "ExecuteTime": {
     "end_time": "2023-01-11T01:57:32.941376Z",
     "start_time": "2023-01-11T01:57:32.919027Z"
    }
   },
   "outputs": [],
   "source": []
  },
  {
   "cell_type": "code",
   "execution_count": null,
   "id": "c8c96c9e",
   "metadata": {
    "ExecuteTime": {
     "end_time": "2023-01-12T23:58:08.003412Z",
     "start_time": "2023-01-12T23:58:08.003392Z"
    }
   },
   "outputs": [],
   "source": [
    "# np.outer(Lp@vh[i],vh[i])#.shape,(Lp@vh[i]).shape"
   ]
  },
  {
   "cell_type": "code",
   "execution_count": null,
   "id": "5cd050db",
   "metadata": {
    "ExecuteTime": {
     "end_time": "2023-01-12T23:58:08.006200Z",
     "start_time": "2023-01-12T23:58:08.006171Z"
    }
   },
   "outputs": [],
   "source": [
    "# np.dot(Lp,vh[i]).sum(),wh[i],np.linalg.norm(vh[i])"
   ]
  },
  {
   "cell_type": "code",
   "execution_count": null,
   "id": "924d75f5",
   "metadata": {
    "ExecuteTime": {
     "end_time": "2023-01-12T23:58:08.007964Z",
     "start_time": "2023-01-12T23:58:08.007944Z"
    }
   },
   "outputs": [],
   "source": [
    "# wh[i]"
   ]
  },
  {
   "cell_type": "code",
   "execution_count": null,
   "id": "3d2d29c5",
   "metadata": {
    "ExecuteTime": {
     "end_time": "2023-01-12T23:58:08.009527Z",
     "start_time": "2023-01-12T23:58:08.009507Z"
    }
   },
   "outputs": [],
   "source": [
    "# #plot the computed groundstate\n",
    "# plt.plot(lam[::4])\n",
    "# plt.plot(lam[1::4])\n",
    "# plt.plot(lam[2::4])\n",
    "# plt.plot(lam[3::4])\n",
    "\n",
    "#plot the eigensolution for the groundstate\n",
    "plt.plot(lamh[::4])\n",
    "plt.plot(lamh[1::4])\n",
    "plt.plot(lamh[2::4])\n",
    "plt.plot(lamh[3::4])"
   ]
  },
  {
   "cell_type": "code",
   "execution_count": null,
   "id": "73c5194f",
   "metadata": {
    "ExecuteTime": {
     "end_time": "2023-01-12T23:58:08.010837Z",
     "start_time": "2023-01-12T23:58:08.010813Z"
    }
   },
   "outputs": [],
   "source": [
    "plt.plot(wh)"
   ]
  },
  {
   "cell_type": "code",
   "execution_count": null,
   "id": "26df8217",
   "metadata": {
    "ExecuteTime": {
     "end_time": "2023-01-12T23:58:08.012493Z",
     "start_time": "2023-01-12T23:58:08.012471Z"
    }
   },
   "outputs": [],
   "source": [
    "#intentionally cause an error to avoice noming gpu memory\n",
    "Lpcinv"
   ]
  },
  {
   "cell_type": "code",
   "execution_count": null,
   "id": "631d0a9f",
   "metadata": {
    "ExecuteTime": {
     "end_time": "2023-01-12T23:58:08.014216Z",
     "start_time": "2023-01-12T23:58:08.014190Z"
    }
   },
   "outputs": [],
   "source": [
    "#visualize ^this eigensolution using trimesh, as before\n",
    "#TODO: wrap this to foo"
   ]
  },
  {
   "cell_type": "code",
   "execution_count": null,
   "id": "e7885a92",
   "metadata": {
    "ExecuteTime": {
     "end_time": "2023-01-12T23:58:08.016155Z",
     "start_time": "2023-01-12T23:58:08.016135Z"
    }
   },
   "outputs": [],
   "source": [
    "Lpc=cp.array(Lp)\n",
    "Lpc.shape"
   ]
  },
  {
   "cell_type": "code",
   "execution_count": null,
   "id": "76aa4f03",
   "metadata": {
    "ExecuteTime": {
     "end_time": "2023-01-12T23:58:08.017935Z",
     "start_time": "2023-01-12T23:58:08.017916Z"
    }
   },
   "outputs": [],
   "source": [
    "#TODO: compute w,v using cupy\n",
    "wg,vg = cp.linalg.eigvalsh(Lpc)\n",
    "wg.shape"
   ]
  },
  {
   "cell_type": "code",
   "execution_count": null,
   "id": "cb57a10c",
   "metadata": {
    "ExecuteTime": {
     "end_time": "2023-01-12T23:58:08.019281Z",
     "start_time": "2023-01-12T23:58:08.019260Z"
    }
   },
   "outputs": [],
   "source": [
    "# Lpcinv = cupyx.linalg.invh(Lpc)"
   ]
  },
  {
   "cell_type": "code",
   "execution_count": null,
   "id": "2f6b1dbc",
   "metadata": {
    "ExecuteTime": {
     "end_time": "2023-01-12T23:58:08.021201Z",
     "start_time": "2023-01-12T23:58:08.021171Z"
    }
   },
   "outputs": [],
   "source": [
    "# import cupy\n",
    "mempool = cupy.get_default_memory_pool()\n",
    "pinned_mempool = cupy.get_default_pinned_memory_pool()"
   ]
  },
  {
   "cell_type": "code",
   "execution_count": null,
   "id": "5881e616",
   "metadata": {},
   "outputs": [],
   "source": []
  },
  {
   "cell_type": "code",
   "execution_count": null,
   "id": "244b957e",
   "metadata": {
    "ExecuteTime": {
     "end_time": "2023-01-12T23:58:08.022626Z",
     "start_time": "2023-01-12T23:58:08.022609Z"
    }
   },
   "outputs": [],
   "source": [
    "print(mempool.used_bytes())              \n",
    "print(mempool.total_bytes())             \n",
    "print(pinned_mempool.n_free_blocks())"
   ]
  },
  {
   "cell_type": "code",
   "execution_count": null,
   "id": "9aed6303",
   "metadata": {
    "ExecuteTime": {
     "end_time": "2023-01-12T23:58:08.024334Z",
     "start_time": "2023-01-12T23:58:08.024316Z"
    }
   },
   "outputs": [],
   "source": [
    "#run gpu cleanup\n",
    "# del Lpc,wg,vg#Lpcinv\n",
    "mempool.free_all_blocks()\n",
    "\n",
    "print(mempool.used_bytes())              \n",
    "print(mempool.total_bytes())             \n",
    "print(pinned_mempool.n_free_blocks())"
   ]
  },
  {
   "cell_type": "code",
   "execution_count": null,
   "id": "12d52689",
   "metadata": {
    "ExecuteTime": {
     "end_time": "2023-01-12T23:58:08.025694Z",
     "start_time": "2023-01-12T23:58:08.025676Z"
    }
   },
   "outputs": [],
   "source": [
    "#TODO: compute w,v using cupy\n",
    "# HINT: use solve\n",
    "#solve ax=b\n",
    "# cupy.linalg.solve?\n",
    "#note: this took <11 seconds to run\n",
    "x_soln = cp.linalg.solve(a=Lpc, b=cp.zeros(Lp.shape[0]))\n",
    "x_soln.shape"
   ]
  },
  {
   "cell_type": "code",
   "execution_count": null,
   "id": "e85dae37",
   "metadata": {
    "ExecuteTime": {
     "end_time": "2023-01-12T23:58:08.027134Z",
     "start_time": "2023-01-12T23:58:08.027110Z"
    }
   },
   "outputs": [],
   "source": [
    "# lamg = x_soln.get()\n",
    "# type(lamg)\n",
    "# # #plot the computed groundstate\n",
    "# # plt.plot(lam[::4])\n",
    "# # plt.plot(lam[1::4])\n",
    "# # plt.plot(lam[2::4])\n",
    "# # plt.plot(lam[3::4])\n",
    "\n",
    "# # #plot the eigensolution for the groundstate\n",
    "# # plt.plot(lamh[::4])\n",
    "# # plt.plot(lamh[1::4])\n",
    "# # plt.plot(lamh[2::4])\n",
    "# # plt.plot(lamh[3::4])\n",
    "\n",
    "# #plot the eigensolution for the groundstate\n",
    "# plt.plot(lamg[::4])\n",
    "# plt.plot(lamg[1::4])\n",
    "# plt.plot(lamg[2::4])\n",
    "# plt.plot(lamg[3::4])"
   ]
  },
  {
   "cell_type": "code",
   "execution_count": null,
   "id": "b895169e",
   "metadata": {
    "ExecuteTime": {
     "end_time": "2023-01-12T23:58:08.028988Z",
     "start_time": "2023-01-12T23:58:08.028968Z"
    }
   },
   "outputs": [],
   "source": [
    "lamg"
   ]
  },
  {
   "cell_type": "code",
   "execution_count": null,
   "id": "3ca5efd3",
   "metadata": {},
   "outputs": [],
   "source": []
  },
  {
   "cell_type": "code",
   "execution_count": null,
   "id": "031757d9",
   "metadata": {
    "ExecuteTime": {
     "end_time": "2023-01-12T23:58:08.030580Z",
     "start_time": "2023-01-12T23:58:08.030562Z"
    }
   },
   "outputs": [],
   "source": [
    "# import cupyx"
   ]
  },
  {
   "cell_type": "code",
   "execution_count": null,
   "id": "30c11a27",
   "metadata": {
    "ExecuteTime": {
     "end_time": "2023-01-12T23:58:08.032919Z",
     "start_time": "2023-01-12T23:58:08.032900Z"
    }
   },
   "outputs": [],
   "source": [
    "# cupyx.scipy.sparse.linalg.lsqr"
   ]
  },
  {
   "cell_type": "code",
   "execution_count": null,
   "id": "af2719a8",
   "metadata": {
    "ExecuteTime": {
     "end_time": "2023-01-12T23:58:08.034455Z",
     "start_time": "2023-01-12T23:58:08.034434Z"
    }
   },
   "outputs": [],
   "source": [
    "# cupyx.scipy.sparse.csr_matrix\n",
    "# cupyx"
   ]
  },
  {
   "cell_type": "code",
   "execution_count": null,
   "id": "483db345",
   "metadata": {
    "ExecuteTime": {
     "end_time": "2023-01-12T23:58:08.035656Z",
     "start_time": "2023-01-12T23:58:08.035637Z"
    }
   },
   "outputs": [],
   "source": [
    "# Q: why is my mesh so noisier than the demo solution from matlab?"
   ]
  },
  {
   "cell_type": "code",
   "execution_count": null,
   "id": "8527bb8b",
   "metadata": {},
   "outputs": [],
   "source": []
  },
  {
   "cell_type": "code",
   "execution_count": null,
   "id": "f45c0e21",
   "metadata": {},
   "outputs": [],
   "source": []
  },
  {
   "cell_type": "code",
   "execution_count": null,
   "id": "68cc4056",
   "metadata": {
    "ExecuteTime": {
     "end_time": "2023-01-12T23:58:08.037739Z",
     "start_time": "2023-01-12T23:58:08.037718Z"
    }
   },
   "outputs": [],
   "source": [
    "# #warning: #>16 minutes run time\n",
    "# #53-37 = >16 \n",
    "# w, v = np.linalg.eig(E)\n",
    "# w.shape,v.shape,np.min(w),np.max(w) \n",
    "# #for simplest unit sphere example:\n",
    "# # ((264,),\n",
    "# #  (264, 264),\n",
    "# #  (-6.216318184123621-3.508736056987371j),\n",
    "# #  (10.372886477259154+0j))\n",
    "\n",
    "# #warning >7 minutes run time\n",
    "# wh, vh = np.linalg.eigh(E)\n",
    "# wh.shape,vh.shape,np.min(wh),np.max(wh)"
   ]
  },
  {
   "cell_type": "code",
   "execution_count": null,
   "id": "a8a5e2d6",
   "metadata": {
    "ExecuteTime": {
     "end_time": "2023-01-12T23:58:08.039529Z",
     "start_time": "2023-01-12T23:58:08.039507Z"
    }
   },
   "outputs": [],
   "source": [
    "#TODO: test that changing E's dtype to float 64 doesn't make everything immediately better\n",
    "#TODO: improve this method\n",
    "#Option 1: keep looking for mistakes somewhere...\n",
    "#Option 2: improve estimation of lam. get a better solution bc >10% error in ground state eigenvector would explain the numerical noise...\n",
    "#   - 2.A: try canned response from cupy.linalg\n",
    "#   - 2.A: try simplest possible pytorch routine\n",
    "#   - 2.C: try pycuda\n"
   ]
  },
  {
   "cell_type": "code",
   "execution_count": null,
   "id": "c2f2a24c",
   "metadata": {
    "ExecuteTime": {
     "end_time": "2023-01-12T23:58:08.041308Z",
     "start_time": "2023-01-12T23:58:08.041288Z"
    }
   },
   "outputs": [],
   "source": [
    "# import cupy as cp"
   ]
  },
  {
   "cell_type": "code",
   "execution_count": null,
   "id": "097c4291",
   "metadata": {
    "ExecuteTime": {
     "end_time": "2023-01-12T23:58:08.042822Z",
     "start_time": "2023-01-12T23:58:08.042802Z"
    }
   },
   "outputs": [],
   "source": [
    "# E.dtype"
   ]
  },
  {
   "cell_type": "code",
   "execution_count": null,
   "id": "02f9dded",
   "metadata": {},
   "outputs": [],
   "source": []
  },
  {
   "cell_type": "code",
   "execution_count": null,
   "id": "e5e90ee0",
   "metadata": {},
   "outputs": [],
   "source": []
  },
  {
   "cell_type": "code",
   "execution_count": null,
   "id": "852540f1",
   "metadata": {
    "ExecuteTime": {
     "end_time": "2023-01-12T23:58:08.044656Z",
     "start_time": "2023-01-12T23:58:08.044638Z"
    }
   },
   "outputs": [],
   "source": [
    "#TODO: get the demo working to machine precision\n",
    "#HINT: check the matlab code to see if i'm missing any [plc] reindexing...\n",
    "#TODO: attempt to solve the linear system of equations more explicitely       \n",
    "#HINT: try adding res to rho\n",
    "#TODO: set rho to a constant value everywhere and see if i get a sphere coming out\n",
    "#TODO: can i get dirac spheres at the harmonics (n>1)"
   ]
  },
  {
   "cell_type": "code",
   "execution_count": null,
   "id": "5115f98e",
   "metadata": {},
   "outputs": [],
   "source": []
  },
  {
   "cell_type": "code",
   "execution_count": null,
   "id": "54580203",
   "metadata": {
    "ExecuteTime": {
     "end_time": "2023-01-12T23:58:08.046416Z",
     "start_time": "2023-01-12T23:58:08.046396Z"
    }
   },
   "outputs": [],
   "source": [
    "#Q: did shifting the other direction help?\n",
    "#A: no.\n",
    "#Q: does permuting tria help?\n",
    "#A: unlikely to be watertight...\n",
    "# #Q: does settingrho=0 return the identity morphism?\n",
    "# #A: no.\n",
    "# #DONE: figure out why I'm not able to get the identity morphism. \n",
    "# A: simply use the discrete half mean curvature density of the original mesh!"
   ]
  },
  {
   "cell_type": "code",
   "execution_count": null,
   "id": "92d62423",
   "metadata": {},
   "outputs": [],
   "source": []
  },
  {
   "cell_type": "code",
   "execution_count": null,
   "id": "ba660357",
   "metadata": {
    "ExecuteTime": {
     "end_time": "2023-01-12T23:58:08.048254Z",
     "start_time": "2023-01-12T23:58:08.048237Z"
    }
   },
   "outputs": [],
   "source": [
    "# plt.plot(lam) #<<< lam appears to agree with matlab"
   ]
  },
  {
   "cell_type": "code",
   "execution_count": null,
   "id": "f6daced7",
   "metadata": {
    "ExecuteTime": {
     "end_time": "2023-01-12T23:58:08.049804Z",
     "start_time": "2023-01-12T23:58:08.049784Z"
    }
   },
   "outputs": [],
   "source": [
    "# #heretim\n",
    "# #TODO: visualize the pointcloud of ome_raw\n",
    "# x_values = ome_raw[1::4]\n",
    "# y_values = ome_raw[2::4]\n",
    "# z_values = ome_raw[3::4]\n",
    "# c_values = ome_raw[0::4]\n",
    "\n",
    "\n",
    "# x_values = (Linv@ome_raw)[1::4]\n",
    "# y_values = (Linv@ome_raw)[2::4]\n",
    "# z_values = (Linv@ome_raw)[3::4]\n",
    "# c_values = (Linv@ome_raw)[0::4]\n",
    "\n",
    "# x_values = (ome_raw@Linv)[1::4]\n",
    "# y_values = (ome_raw@Linv)[2::4]\n",
    "# z_values = (ome_raw@Linv)[3::4]\n",
    "# c_values = (ome_raw@Linv)[0::4]\n",
    "\n",
    "# x_values = V[:,0]\n",
    "# y_values = V[:,1]\n",
    "# z_values = V[:,2]\n",
    "# c_values = 0.*x_values\n",
    "\n",
    "# fig = plt.figure()\n",
    "# ax = fig.add_subplot(projection='3d')\n",
    "# ax.scatter(xs=x_values,ys=y_values,zs=z_values,c=c_values,alpha=0.7,s=10)\n",
    "# plt.show()"
   ]
  },
  {
   "cell_type": "code",
   "execution_count": null,
   "id": "1a198891",
   "metadata": {
    "ExecuteTime": {
     "end_time": "2023-01-12T23:58:08.051453Z",
     "start_time": "2023-01-12T23:58:08.051432Z"
    }
   },
   "outputs": [],
   "source": [
    "V_out = ome_out[:,1:]\n",
    "# V_out = ome_out[:,:3]\n",
    "# V_out = ome_out[:,:3]\n",
    "\n",
    "#TODO: plot the resultant point cloud\n",
    "# x_values = V[:,0]\n",
    "# y_values = V[:,1]\n",
    "# z_values = V[:,2]\n",
    "x_values = V_out[:,0]\n",
    "y_values = V_out[:,1]\n",
    "z_values = V_out[:,2]\n",
    "\n",
    "c_values = 0.*x_values\n",
    "fig = plt.figure()\n",
    "ax = fig.add_subplot(projection='3d')\n",
    "ax.scatter(xs=x_values,ys=y_values,zs=z_values,c=c_values,alpha=0.3,s=10)\n",
    "plt.show()\n",
    "V_out.shape"
   ]
  },
  {
   "cell_type": "code",
   "execution_count": null,
   "id": "19a76c1e",
   "metadata": {},
   "outputs": [],
   "source": []
  },
  {
   "cell_type": "code",
   "execution_count": null,
   "id": "cc85e3c2",
   "metadata": {
    "ExecuteTime": {
     "end_time": "2023-01-12T23:58:08.053119Z",
     "start_time": "2023-01-12T23:58:08.053099Z"
    }
   },
   "outputs": [],
   "source": [
    "# is the current mesh watertight?\n",
    "print(f\"{mesh_out.is_watertight=}\")\n",
    "# what's the euler number for the mesh?\n",
    "print(f\"{mesh_out.euler_number=}\")\n",
    "# the convex hull is another Trimesh object that is available as a property\n",
    "# lets compare the volume of our mesh with the volume of its convex hull\n",
    "print(f\"{mesh_out.volume / mesh_out.convex_hull.volume=:.7f}\")\n",
    "# # since the mesh is watertight, it means there is a\n",
    "# # volumetric center of mass which we can set as the origin for our mesh\n",
    "print(f\"{mesh_out.center_mass=}\")\n",
    "# mesh.vertices -= mesh.center_mass\n",
    "# print(f\"{mesh.center_mass=}\")\n",
    "# what's the moment of inertia for the mesh?\n",
    "print(f\"{mesh_out.moment_inertia=}\")\n",
    "\n",
    "# axis aligned bounding box is available\n",
    "print(f\"{mesh_out.bounding_box.extents=}\")"
   ]
  },
  {
   "cell_type": "code",
   "execution_count": null,
   "id": "c1994aaf",
   "metadata": {
    "ExecuteTime": {
     "end_time": "2023-01-12T23:58:08.055539Z",
     "start_time": "2023-01-12T23:58:08.055518Z"
    }
   },
   "outputs": [],
   "source": [
    "########################################\n",
    "# Option #1: do what WJ asked me to do\n",
    "########################################\n",
    "# - update uncertainties for simulated annealing fits using 10X epochs instead of 10X more epochs\n",
    "# - add bigger domain sizes to Figure S3 for the FK model\n",
    "# - add dotted exponential fit to fig. S2C-D showing tau(N0) scales exponentially with A for N0=2,2s0.\n"
   ]
  },
  {
   "cell_type": "code",
   "execution_count": null,
   "id": "369b2deb",
   "metadata": {
    "ExecuteTime": {
     "end_time": "2023-01-12T23:58:08.057112Z",
     "start_time": "2023-01-12T23:58:08.057092Z"
    }
   },
   "outputs": [],
   "source": [
    "# # Option #2: aimlessly look for a bug between *** and **** on ub using cupy to do np.linalg.inv\n",
    "# # TODO: debug mesh_out showing wrong\n",
    "# # HINT: add more print statements to spin.m and look for the values that do not agree\n",
    "# # TODO(later): use cupy.linalg.inv\n",
    "# # - link to doc on ibid: https://docs.cupy.dev/en/stable/reference/generated/cupy.linalg.inv.html\n",
    "# # HINT: before debugging aimlessly between *** and ****, try np.dot everywhere\n",
    "# # hint(ub): if doing Option #2, then gpu accelrerate any matrix inversions (only) \n",
    "# #TODO(later?): compute matrix a_inv from n-dimensional regular matrix a such that dot(a, a_inv) == eye(n).\n",
    "# a = cp.array(E)\n",
    "# a = cp.array(L)\n",
    "# a_inv = cp.linalg.inv (a)\n",
    "# n=a_inv.shape[0]\n",
    "# assert n==a.shape[0]\n",
    "# assert n==a.shape[1]\n",
    "# assert (cp.dot(a, a_inv) == eye(n)).get().all()\n",
    "# Einv = a_inv.get()\n",
    "# Linv = L_inv.get()"
   ]
  },
  {
   "cell_type": "code",
   "execution_count": null,
   "id": "a44738c5",
   "metadata": {
    "ExecuteTime": {
     "end_time": "2023-01-12T23:58:08.058721Z",
     "start_time": "2023-01-12T23:58:08.058702Z"
    }
   },
   "outputs": [],
   "source": [
    "# invh_banded\n",
    "A=E\n",
    "N = np.shape(A)[0]\n",
    "# D = np.count_nonzero(A[0,:])\n",
    "D=np.max(np.count_nonzero(A,axis=1))\n",
    "ab = np.zeros((D,A.shape[0]))\n",
    "for i in np.arange(1,D):\n",
    "    ab[i,:] = np.concatenate((np.diag(A,k=i),np.zeros(i,)),axis=None)\n",
    "ab[0,:] = np.diag(A,k=0)\n",
    "ab.shape,ab.dtype\n",
    "\n",
    "# plt.plot(np.count_nonzero(A,axis=1))\n",
    "for i in np.arange(1,D):\n",
    "    plt.plot(ab[i],lw=0.5,alpha=0.4,label=f'band #{i}')\n",
    "# AddLegend()\n",
    "format_plot(xlabel='Vertex Coordinate',ylabel='Matrix Element')\n",
    "ax.tick_params(top=True, right=True,direction='in',which='both')\n",
    "plt.tight_layout()\n",
    "plt.show()\n",
    "\n",
    "# plt.plot(np.count_nonzero(A,axis=1))\n",
    "for i in np.arange(1,D):\n",
    "    plt.plot(ab[i]**2,lw=0.5,alpha=0.4,label=f'band #{i}')\n",
    "format_plot(xlabel='Vertex Coordinate',ylabel='Matrix Element Squared')\n",
    "ax.tick_params(top=True, right=True,direction='in',which='both')\n",
    "plt.tight_layout()\n",
    "plt.show()\n",
    "\n",
    "plt.plot(np.sqrt(np.sum(ab**2,axis=0)), c='k',alpha=0.7,label=\"(Band-Avg.)\")\n",
    "format_plot(xlabel='Vertex Coordinate',ylabel='RMS Matrix Element')\n",
    "ax.tick_params(top=True, right=True,direction='in',which='both')\n",
    "plt.tight_layout()\n",
    "plt.show()\n",
    "\n",
    "rmsme = np.sqrt(np.sum(ab**2,axis=0))\n",
    "\n",
    "# rmsme.shape\n",
    "\n",
    "alpha=0.5\n",
    "fontsize=16\n",
    "fig,ax=plt.subplots(figsize=(9,4))\n",
    "ax.plot(rmsme[::4], alpha=alpha)#c='k',alpha=0.7)\n",
    "ax.plot(rmsme[1::4], alpha=alpha)#\n",
    "ax.plot(rmsme[2::4], alpha=alpha)#\n",
    "ax.plot(rmsme[3::4], alpha=alpha)#\n",
    "format_plot(ax=ax,xlabel='Vertex Index',ylabel=r'Band Avg.',fontsize=fontsize)\n",
    "# ax.set_title(\"Equal Band Averages in Each Dimension\\n\"+'\\n',fontsize=16)\n",
    "ax.tick_params(top=True, right=True,direction='in',which='both')\n",
    "plt.tight_layout()\n",
    "plt.show()\n",
    "\n",
    "alpha=0.8\n",
    "fontsize=16\n",
    "fig,ax=plt.subplots(figsize=(4,4))\n",
    "ax.plot(rmsme[::4], alpha=alpha)#c='k',alpha=0.7)\n",
    "ax.plot(rmsme[1::4]+1, alpha=alpha)#\n",
    "ax.plot(rmsme[2::4]+2, alpha=alpha)#\n",
    "ax.plot(rmsme[3::4]+3, alpha=alpha)#\n",
    "format_plot(ax=ax,xlabel='Vertex Index',ylabel=r'Band Avg. $+ d$',fontsize=fontsize)\n",
    "ax.set_title(\"Equal Band Averages in Each Dimension\\n\"+r\"( for $d=0,1,2,3$;  $1:x,2:y,3:z$ )\"+'\\n',fontsize=16)\n",
    "ax.tick_params(top=True, right=True,direction='in',which='both')\n",
    "plt.tight_layout()\n",
    "plt.show()"
   ]
  },
  {
   "cell_type": "code",
   "execution_count": null,
   "id": "21c98c00",
   "metadata": {
    "ExecuteTime": {
     "end_time": "2023-01-12T23:58:08.060196Z",
     "start_time": "2023-01-12T23:58:08.060179Z"
    }
   },
   "outputs": [],
   "source": [
    "#DONE(failing ^this): try computing L \n",
    "#   with right multiplying to get lam\n",
    "# Q: did ^that work?\n",
    "# A: not immediately..."
   ]
  },
  {
   "cell_type": "code",
   "execution_count": null,
   "id": "90d2a44c",
   "metadata": {
    "ExecuteTime": {
     "end_time": "2023-01-12T23:58:08.062320Z",
     "start_time": "2023-01-12T23:58:08.062296Z"
    }
   },
   "outputs": [],
   "source": [
    "#TODO(failing ^this): make sure E is being constructed correctly?\n",
    "# Q: are the data points being caste like how L is constructed?\n",
    "#TODO(am I indexing everyting consistently?)"
   ]
  },
  {
   "cell_type": "code",
   "execution_count": null,
   "id": "13d9a968",
   "metadata": {
    "ExecuteTime": {
     "end_time": "2023-01-12T23:58:08.063974Z",
     "start_time": "2023-01-12T23:58:08.063948Z"
    }
   },
   "outputs": [],
   "source": [
    "#TODO(if ^this works): speed up matrix inversion with scipy.sparse.linalg\n",
    "#"
   ]
  },
  {
   "cell_type": "code",
   "execution_count": null,
   "id": "0f46c22f",
   "metadata": {
    "ExecuteTime": {
     "end_time": "2023-01-12T23:58:08.066610Z",
     "start_time": "2023-01-12T23:58:08.066589Z"
    }
   },
   "outputs": [],
   "source": [
    "#TODO(failing ^this): consider reimplementing using another method\n",
    "# numpy-quaternion lacks linear algebra solving\n",
    "# quaternionic may lack linear algebra solving\n",
    "# complex matrix representation is straightforward and probably faster than the real representation\n",
    "#note: it's hard to implement quaternions in low-level cuda... but not complex matrix linear algebra..."
   ]
  },
  {
   "cell_type": "code",
   "execution_count": null,
   "id": "581a0b58",
   "metadata": {
    "ExecuteTime": {
     "end_time": "2023-01-12T23:58:08.068184Z",
     "start_time": "2023-01-12T23:58:08.068163Z"
    }
   },
   "outputs": [],
   "source": [
    "#TODO(later): take eigenvalue decomposition of a working example\n",
    "#TODO: plot the ground state\n",
    "#TODO: plot the excited states\n",
    "# boo_real = np.around(np.imag(vals),7)==0\n",
    "# lam_grnd = np.real(np.min(vals[boo_real]))\n",
    "# vec_grnd = vecs[:,lam_grnd==vals]\n",
    "# print(f\"{lam_grnd=}\")\n",
    "# # vec_grnd = vecs[:,2]\n",
    "# assert (np.imag(vec_grnd)==0).all()\n",
    "# vec_grnd = np.real(vec_grnd)\n",
    "# plt.plot(vec_grnd)\n",
    "\n",
    "\n",
    "\n",
    "# scipy.linalg.eig?\n",
    "# scipy.linalg.eigh?\n",
    "# scipy.linalg.schur\n",
    "\n",
    "# # scipy.sparse.linalg.eigs?\n",
    "# # maxiter =    Maximum number of Arnoldi update iterations allowed\n",
    "# Notes\n",
    "# -----\n",
    "# This function is a wrapper to the ARPACK [1]_ SNEUPD, DNEUPD, CNEUPD,\n",
    "# ZNEUPD, functions which use the Implicitly Restarted Arnoldi Method to\n",
    "# find the eigenvalues and eigenvectors [2]_.\n",
    "\n",
    "# References\n",
    "# ----------\n",
    "# .. [1] ARPACK Software, http://www.caam.rice.edu/software/ARPACK/\n",
    "# .. [2] R. B. Lehoucq, D. C. Sorensen, and C. Yang,  ARPACK USERS GUIDE:\n",
    "#    Solution of Large Scale Eigenvalue Problems by Implicitly Restarted\n",
    "#    Arnoldi Methods. SIAM, Philadelphia, PA, 1998.\n",
    "\n",
    "# # scipy.sparse.linalg.svds\n",
    "# # scipy.sparse.linalg.eigsh\n",
    "# vals, vecs = scipy.sparse.linalg.eigs(np.eye(13), k=6)\n",
    "# print(*vals)\n",
    "# vals.shape, vecs.shape\n",
    "\n",
    "# eigvals : eigenvalues of a non-symmetric array.\n",
    "#^that's not what I want\n",
    "# eigh : eigenvalues and eigenvectors of a real symmetric or complex\n",
    "#        Hermitian (conjugate symmetric) array.\n",
    "#^that's what I want\n",
    "#eigvalsh : eigenvalues of a real symmetric or complex Hermitian\n",
    "#            (conjugate symmetric) array.\n",
    "#^that's not what I want\n",
    "# scipy.linalg.eig : Similar function in SciPy that also solves the\n",
    "#                    generalized eigenvalue problem.\n",
    "#^that's probably slow\n",
    "# scipy.linalg.schur : Best choice for unitary and other non-Hermitian\n",
    "#                      normal matrices.\n",
    "#^that's probably slow\n",
    "\n",
    "#TODO: find the ground state\n",
    "# lam_grnd\n",
    "\n"
   ]
  },
  {
   "cell_type": "markdown",
   "id": "e5097f74",
   "metadata": {},
   "source": [
    "# TODO(later): determine fastest way to invert a 10000x10000 matrix of quaternions on 1 cpu\n",
    "- better, TODO: speed up by using complex quaternion representation."
   ]
  },
  {
   "cell_type": "code",
   "execution_count": null,
   "id": "2028e504",
   "metadata": {
    "ExecuteTime": {
     "end_time": "2023-01-12T23:58:08.069953Z",
     "start_time": "2023-01-12T23:58:08.069933Z"
    }
   },
   "outputs": [],
   "source": [
    "import quaternion"
   ]
  },
  {
   "cell_type": "code",
   "execution_count": null,
   "id": "009fa0ea",
   "metadata": {
    "ExecuteTime": {
     "end_time": "2023-01-12T23:58:08.072053Z",
     "start_time": "2023-01-12T23:58:08.072032Z"
    }
   },
   "outputs": [],
   "source": [
    "# import quaternionic"
   ]
  },
  {
   "cell_type": "code",
   "execution_count": null,
   "id": "2cae872b",
   "metadata": {
    "ExecuteTime": {
     "end_time": "2023-01-12T23:58:08.073623Z",
     "start_time": "2023-01-12T23:58:08.073603Z"
    }
   },
   "outputs": [],
   "source": [
    "# a.shape\n",
    "\n",
    "# a = np.random.rand(10000, 10000,4)\n",
    "# qs = np.quaternion(a)\n",
    "# qs\n",
    "\n",
    "# qs = a.astype(dtype=np.quaternion)\n",
    "\n",
    "\n",
    "\n",
    "# a = np.random.rand(10000, 10000*4)\n",
    "# # a\n",
    "# # array([[ 0.93138726,  0.46972279,  0.18706385,  0.86605021],\n",
    "# #        [ 0.70633523,  0.69982741,  0.93303559,  0.61440879],\n",
    "# #        [ 0.79334456,  0.65912598,  0.0711557 ,  0.46622885],\n",
    "# #        [ 0.88185987,  0.9391296 ,  0.73670503,  0.27115149],\n",
    "# #        [ 0.49176628,  0.56688076,  0.13216632,  0.33309146],\n",
    "# #        [ 0.11951624,  0.86804078,  0.77968826,  0.37229404],\n",
    "# #        [ 0.33187593,  0.53391165,  0.8577846 ,  0.18336855]])\n",
    "# qs = quaternion.as_quat_array(a)\n",
    "# # array([ quaternion(0.931387262880247, 0.469722787598354, 0.187063852060487, 0.866050210100621),\n",
    "# #        quaternion(0.706335233363319, 0.69982740767353, 0.933035590130247, 0.614408786768725),\n",
    "# #        quaternion(0.793344561317281, 0.659125976566815, 0.0711557025000925, 0.466228847713644),\n",
    "# #        quaternion(0.881859869074069, 0.939129602918467, 0.736705031709562, 0.271151494174001),\n",
    "# #        quaternion(0.491766284854505, 0.566880763189927, 0.132166320200012, 0.333091463422536),\n",
    "# #        quaternion(0.119516238634238, 0.86804077992676, 0.779688263524229, 0.372294043850009),\n",
    "# #        quaternion(0.331875925159073, 0.533911652483908, 0.857784598617977, 0.183368547490701)], dtype=quaternion)\n",
    "# # qsi\n",
    "\n",
    "# qsi = np.linalg.inv(qs)\n",
    "# qsi.shape\n",
    "\n",
    "# # note: quaternion inverted a 10,000x10,000 matrix of quaternions in 3.5 seconds\n",
    "# # note: quaternion crashes the kernel with 100,000x100,000 matrix\n",
    "# qsi = 1/qs\n",
    "\n",
    "# del qsi,qs,a\n",
    "\n",
    "# a = np.random.rand(10000, 10000,4)\n",
    "# # a = np.random.normal(size=(17, 11, 4))  # Just some random numbers; last dimension is 4\n",
    "# q1 = quaternionic.array(a)  # Reinterpret an existing array\n",
    "# # q2 = quaternionic.array([1.2, 2.3, 3.4, 4.5])  # Create a new array\n",
    "\n",
    "# # # note: quaternionic inverted a 10,000x10,000 matrix of quaternions in 7 seconds\n",
    "# # 1/q1\n",
    "# del q1\n",
    "\n",
    "# a = np.random.rand(10000*2, 10000*2)\n",
    "\n",
    "# # # # note: numpy inverted a 20,000x20,000 matrix of real numbers in more than several minutes...\n",
    "# # np.linalg.inv(a)\n",
    "\n",
    "# #note: quaternion package crashed the kernel.  does quaternionic crash the kernel?\n",
    "\n",
    "# np.max(E)\n",
    "\n",
    "\n",
    "# for c1=1:11\n",
    "#   cnv=lam;\n",
    "#   lam=E\\lam;\n",
    "#   lam=lam/norm(lam);\n",
    "# end"
   ]
  },
  {
   "cell_type": "code",
   "execution_count": null,
   "id": "88991157",
   "metadata": {},
   "outputs": [],
   "source": []
  },
  {
   "cell_type": "code",
   "execution_count": null,
   "id": "56410b8d",
   "metadata": {
    "ExecuteTime": {
     "end_time": "2023-01-12T23:58:08.074939Z",
     "start_time": "2023-01-12T23:58:08.074919Z"
    }
   },
   "outputs": [],
   "source": [
    "\n",
    "# res=(E*lam)./lam;  \n",
    "# fprintf('mean %e, var %e, delta %e\\n',mean(res),var(res),norm(cnv-lam))\n",
    "\n",
    "# L  =sparse(4*nV,4*nV);\n",
    "# ome=zeros(4*nV,1);\n",
    "# for c1=1:nT\n",
    "#   for c2=1:3\n",
    "#     k0=T(mod(c2-1,3)+1,c1);\n",
    "#     k1=T(mod(c2+0,3)+1,c1);\n",
    "#     k2=T(mod(c2+1,3)+1,c1);\n",
    "#     u1=V(:,k1)-V(:,k0);\n",
    "#     u2=V(:,k2)-V(:,k0);\n",
    "#     cta=dot(u1,u2) / norm( cross(u1,u2) );\n",
    "#     h=jiH([cta*0.5 0 0 0]);\n",
    "#     ini=[k1*4+plc  k2*4+plc];\n",
    "#     L(ini,ini)=L(ini,ini)+[ h -h;-h h];\n",
    "#     if k1>k2\n",
    "#       k3=k1; k1=k2; k2=k3; % swap\n",
    "#     end\n",
    "#     lm1=jiH(lam(k1*4+plc));\n",
    "#     lm2=jiH(lam(k2*4+plc));\n",
    "#     edv=jiH([0;V(:,k2)-V(:,k1)]);\n",
    "#     til=lm1'*edv*lm1/3 + lm1'*edv*lm2/6 + lm2'*edv*lm1/6 + lm2'*edv*lm2/3;\n",
    "#     ome(k1*4+plc,1)=ome(k1*4+plc,1)-cta*til(:,1)/2;\n",
    "#     ome(k2*4+plc,1)=ome(k2*4+plc,1)+cta*til(:,1)/2;\n",
    "#   end\n",
    "#   if ~mod(c1,500); fprintf('.'); end\n",
    "# end\n",
    "# fprintf('\\n')\n",
    "\n",
    "# ome=reshape(ome,[4 nV]);\n",
    "# ome=ome-repmat(mean(ome,2),[1 nV]);\n",
    "# ome=reshape(ome,[4*nV 1]);\n",
    "# ome=L\\ome;\n",
    "# ome=reshape(ome,[4 nV]);\n",
    "# ome=ome-repmat(mean(ome,2),[1 nV]);\n",
    "# nrm=sum(ome.*ome,1);\n",
    "# ome=ome/sqrt(max(nrm));\n",
    "# V=ome(2:end,:);"
   ]
  },
  {
   "cell_type": "markdown",
   "id": "44230a87",
   "metadata": {},
   "source": [
    "# Visualizing solution matrices as heatmaps"
   ]
  },
  {
   "cell_type": "code",
   "execution_count": null,
   "id": "a1ce700f",
   "metadata": {
    "ExecuteTime": {
     "end_time": "2023-01-12T23:58:08.076376Z",
     "start_time": "2023-01-12T23:58:08.076355Z"
    }
   },
   "outputs": [],
   "source": [
    "# #4 minutes...\n",
    "# sns.heatmap(E)"
   ]
  },
  {
   "cell_type": "code",
   "execution_count": null,
   "id": "bd8f3f11",
   "metadata": {
    "ExecuteTime": {
     "end_time": "2023-01-12T23:58:08.078239Z",
     "start_time": "2023-01-12T23:58:08.078218Z"
    }
   },
   "outputs": [],
   "source": [
    "atol=1e-3\n",
    "# atol=1e-5\n",
    "# atol=1e-10\n",
    "vmax=np.max((-np.min(E),np.max(E)))\n",
    "boo=np.isclose(E,0.,atol=atol)\n",
    "frac_nonzero = (~boo).sum()/np.sum(boo)\n",
    "print(f\"percent of matrix elements that are nonzero: {frac_nonzero:.4%}\")"
   ]
  },
  {
   "cell_type": "code",
   "execution_count": null,
   "id": "9bf876e3",
   "metadata": {
    "ExecuteTime": {
     "end_time": "2023-01-12T23:58:08.080217Z",
     "start_time": "2023-01-12T23:58:08.080187Z"
    }
   },
   "outputs": [],
   "source": [
    "# E[~boo].shape\n",
    "x,y=boo.nonzero()\n",
    "\n",
    "np.mean(E[x[::100000],y[::100000]]**2)\n",
    "# np.mean(E[x[::100000],y[::100000]]*E[x[::100000],y[::100000]])\n",
    "\n",
    "x[:30]\n",
    "255857216,\n",
    "# 100000\n",
    "x[::100000],y[::100000]\n",
    "\n",
    "# x,y = k.nonzero()\n",
    "# fig,ax=plt.s\n",
    "plt.scatter(x[::100000],y[::100000],s=100,c=E[x[::100000],y[::100000]],vmin=-vmax,vmax=vmax,cmap='bwr') #color as the values in k matrix\n",
    "# plt.scatter(x,y,s=100,c=E[x,y],vmin=-vmax,vmax=vmax,cmap='bwr') #color as the values in k matrix"
   ]
  },
  {
   "cell_type": "code",
   "execution_count": null,
   "id": "ef025189",
   "metadata": {},
   "outputs": [],
   "source": []
  },
  {
   "cell_type": "code",
   "execution_count": null,
   "id": "1a49d71a",
   "metadata": {},
   "outputs": [],
   "source": []
  },
  {
   "cell_type": "code",
   "execution_count": null,
   "id": "95dc2fb9",
   "metadata": {
    "ExecuteTime": {
     "end_time": "2023-01-12T23:58:08.081884Z",
     "start_time": "2023-01-12T23:58:08.081866Z"
    }
   },
   "outputs": [],
   "source": [
    "k=E.copy()\n",
    "k[boo]=np.nan\n",
    "plt.matshow(k,aspect='auto')"
   ]
  },
  {
   "cell_type": "code",
   "execution_count": null,
   "id": "55b404d8",
   "metadata": {
    "ExecuteTime": {
     "end_time": "2023-01-12T23:58:08.083385Z",
     "start_time": "2023-01-12T23:58:08.083367Z"
    }
   },
   "outputs": [],
   "source": [
    "plt.figure(figsize=(20,15))\n",
    "ax=subplot(111)\n",
    "# sns.heatmap(corr,ax=ax)"
   ]
  },
  {
   "cell_type": "code",
   "execution_count": null,
   "id": "f841ecf7",
   "metadata": {
    "ExecuteTime": {
     "end_time": "2023-01-12T23:58:08.085098Z",
     "start_time": "2023-01-12T23:58:08.085079Z"
    }
   },
   "outputs": [],
   "source": [
    "# sns.heatmap(L)?"
   ]
  },
  {
   "cell_type": "code",
   "execution_count": null,
   "id": "7bb9574e",
   "metadata": {
    "ExecuteTime": {
     "end_time": "2023-01-12T23:58:08.086398Z",
     "start_time": "2023-01-12T23:58:08.086372Z"
    }
   },
   "outputs": [],
   "source": [
    "L.shape"
   ]
  },
  {
   "cell_type": "code",
   "execution_count": null,
   "id": "2e2448e9",
   "metadata": {
    "ExecuteTime": {
     "end_time": "2023-01-12T23:58:08.088599Z",
     "start_time": "2023-01-12T23:58:08.088577Z"
    }
   },
   "outputs": [],
   "source": [
    "k[k==0.0]=np.nan\n",
    "plt.matshow(k,aspect='auto')"
   ]
  },
  {
   "cell_type": "code",
   "execution_count": null,
   "id": "f427ee32",
   "metadata": {
    "ExecuteTime": {
     "end_time": "2023-01-12T23:58:08.089954Z",
     "start_time": "2023-01-12T23:58:08.089931Z"
    }
   },
   "outputs": [],
   "source": [
    "x,y = k.nonzero()\n",
    "plt.scatter(x,y,s=100,c=k[x,y]) #color as the values in k matrix"
   ]
  },
  {
   "cell_type": "code",
   "execution_count": null,
   "id": "6a5b1856",
   "metadata": {},
   "outputs": [],
   "source": []
  },
  {
   "cell_type": "code",
   "execution_count": null,
   "id": "2f8a2636",
   "metadata": {
    "ExecuteTime": {
     "end_time": "2023-01-12T23:58:08.091573Z",
     "start_time": "2023-01-12T23:58:08.091556Z"
    }
   },
   "outputs": [],
   "source": [
    "sns.heatmap(\n",
    "    E,,L\n",
    "    vmin=None,\n",
    "    vmax=None,\n",
    "    cmap=None,\n",
    "    center=None,\n",
    "    robust=False,\n",
    "    annot=None,\n",
    "    fmt='.2g',\n",
    "    annot_kws=None,\n",
    "    linewidths=0,\n",
    "    linecolor='white',\n",
    "    cbar=True,\n",
    "    cbar_kws=None,\n",
    "    cbar_ax=None,\n",
    "    square=False,\n",
    "    xticklabels='auto',\n",
    "    yticklabels='auto',\n",
    "    mask=None,\n",
    "    ax=None,\n",
    "    **kwargs,\n",
    ")"
   ]
  },
  {
   "cell_type": "code",
   "execution_count": null,
   "id": "9829a66c",
   "metadata": {},
   "outputs": [],
   "source": []
  }
 ],
 "metadata": {
  "hide_input": false,
  "kernelspec": {
   "display_name": "Python 3 (ipykernel)",
   "language": "python",
   "name": "python3"
  },
  "language_info": {
   "codemirror_mode": {
    "name": "ipython",
    "version": 3
   },
   "file_extension": ".py",
   "mimetype": "text/x-python",
   "name": "python",
   "nbconvert_exporter": "python",
   "pygments_lexer": "ipython3",
   "version": "3.9.5"
  },
  "latex_envs": {
   "LaTeX_envs_menu_present": true,
   "autoclose": true,
   "autocomplete": false,
   "bibliofile": "biblio.bib",
   "cite_by": "apalike",
   "current_citInitial": 1,
   "eqLabelWithNumbers": false,
   "eqNumInitial": 1,
   "hotkeys": {
    "equation": "Ctrl-E",
    "itemize": "Ctrl-I"
   },
   "labels_anchors": false,
   "latex_user_defs": false,
   "report_style_numbering": false,
   "user_envs_cfg": false
  },
  "nbTranslate": {
   "displayLangs": [
    "*"
   ],
   "hotkey": "alt-t",
   "langInMainMenu": true,
   "sourceLang": "en",
   "targetLang": "fr",
   "useGoogleTranslate": true
  },
  "toc": {
   "base_numbering": 1,
   "nav_menu": {},
   "number_sections": true,
   "sideBar": true,
   "skip_h1_title": false,
   "title_cell": "Table of Contents",
   "title_sidebar": "Contents",
   "toc_cell": false,
   "toc_position": {
    "height": "calc(100% - 180px)",
    "left": "10px",
    "top": "150px",
    "width": "341.333px"
   },
   "toc_section_display": true,
   "toc_window_display": false
  }
 },
 "nbformat": 4,
 "nbformat_minor": 5
}
