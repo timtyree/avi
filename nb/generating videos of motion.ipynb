{
 "cells": [
  {
   "cell_type": "markdown",
   "metadata": {},
   "source": [
    "# generating videos of motion\n",
    "Tim Tyree<br>\n",
    "12.6.2020"
   ]
  },
  {
   "cell_type": "code",
   "execution_count": 1,
   "metadata": {
    "ExecuteTime": {
     "end_time": "2020-12-11T04:05:24.721501Z",
     "start_time": "2020-12-11T04:05:22.908140Z"
    }
   },
   "outputs": [
    {
     "name": "stdout",
     "output_type": "stream",
     "text": [
      "Automatic calling is: Smart\n"
     ]
    }
   ],
   "source": [
    "%matplotlib inline\n",
    "from lib.my_initialization import *\n",
    "from lib.controller.integrate_forward_dormand_prince_asynchronous import *\n",
    "%autocall 1\n",
    "%load_ext autoreload\n",
    "%autoreload 2"
   ]
  },
  {
   "cell_type": "markdown",
   "metadata": {},
   "source": [
    "# import mesh"
   ]
  },
  {
   "cell_type": "code",
   "execution_count": 22,
   "metadata": {
    "ExecuteTime": {
     "end_time": "2020-12-11T05:55:30.200546Z",
     "start_time": "2020-12-11T05:55:30.087143Z"
    }
   },
   "outputs": [
    {
     "name": "stderr",
     "output_type": "stream",
     "text": [
      "face_normals all zero, ignoring!\n"
     ]
    },
    {
     "name": "stdout",
     "output_type": "stream",
     "text": [
      "['element_array_time', 'element_array_index', 'element_array_mass', 'element_array_volume', 'element_array_inverse_equilibrium_position', 'node_array_equilibrium_position', 'node_array_time', 'node_array_position', 'node_array_momentum', 'node_array_mass', 'node_array_volume']\n"
     ]
    }
   ],
   "source": [
    "#define Lamé parameters\n",
    "mu = 1.; lam = 10.; \n",
    "#define coefficient for Rayleigh damping\n",
    "gamma = .05#1.#1.;\n",
    "\n",
    "#define adaptive time stepping absolute tolerances\n",
    "salience = 2#128#32\n",
    "learning_rate = np.log(salience) #np.log(16) #np.log(2)\n",
    "lasso_fraction = 0.5#0.5\n",
    "v_scale = 2.\n",
    "mass_density=1.\n",
    "\n",
    "stepsize_init = 0.0001#0.00001  #0.0001\n",
    "atol_x = 0.0001#0.001#1e-7; \n",
    "atol_v = 0.0001#0.001#1e-7; \n",
    "btol_x = 0.00001#0.001#1e-10; \n",
    "btol_v = 0.00001#0.001#1e-10; \n",
    "\n",
    "\n",
    "#path to mesh\n",
    "input_file_name = f'../data/spherical_meshes/spherical_mesh_64.stl'\n",
    "#where to save results\n",
    "data_folder =  os.path.join(nb_dir,'../data/mov_csv')\n",
    "# data_fn = f\"avi_esynchronous_fixed_lr_a_equal_b_{os.path.basename(input_file_name).replace('.stl',f'_mu_{mu}_lambda_{lam}_gamma_{gamma}_vscale_{v_scale}_stepsizeinit_{stepsize_init}')}_salience_{salience}_atolx_{atol_x}.csv\"\n",
    "# data_fn = f\"avi_ns_fixed_lr_a_equal_b_{os.path.basename(input_file_name).replace('.stl',f'_mu_{mu}_lambda_{lam}_gamma_{gamma}vscale_{v_scale}_stepsizeinit_{stepsize_init}')}_salience_{salience}_atolx_{atol_x}.csv\"\n",
    "data_fn = f\"avi_ns_asynch_fixed_lr_{os.path.basename(input_file_name).replace('.stl',f'_mu_{mu}_lambda_{lam}_gamma_{gamma}vscale_{v_scale}_stepsizeinit_{stepsize_init}')}_salience_{salience}_atolx_{atol_x}.csv\"\n",
    "save_folder_vid = '../vid/tmp'\n",
    "folder_vid = '../vid'\n",
    "# data_fn_counts = data_fn.replace(\"s_\",\"s_counts_\").replace('.csv','.npz')\n",
    "data_fn_counts = data_fn.replace(\"s_\",\"s_counts_\").replace('.csv','.npy')\n",
    "\n",
    "os.chdir(nb_dir)\n",
    "# input_file_name = f'../data/spherical_meshes/spherical_mesh_64.stl'input_file_name = f'../data/spherical_meshes/spherical_mesh_64.stl'\n",
    "# input_file_name = f'../data/spherical_meshes/spherical_mesh_1000.stl'\n",
    "input_file_name = os.path.join(nb_dir,input_file_name)\n",
    "tme = 0.\n",
    "dict_values_system = initialize_system(input_file_name, time_initial=tme, mass_density=mass_density)\n",
    "locals().update(dict_values_system)\n",
    "N_elements = element_array_index.shape[0]\n",
    "N_vertices = node_array_position.shape[0]\n",
    "print(list(dict_values_system.keys()))\n",
    "\n",
    "#header to start of video\n",
    "# TEXT = '''TEXT=$'Synchronous Variational Integrator\\nDamped Neohookean Model\\n(inward squish)''''\n",
    "# TEXT = f\"\"\"\n",
    "# TEXT=$'an inward squish\n",
    "#         Synchronous Variational Integrator \n",
    "#         Explicit Newmark Method\n",
    "        \n",
    "#         Undamped Neohookean Model\n",
    "#         mu {mu}  lambda {lam} gamma {gamma}\n",
    "        \n",
    "#         Spherical Mesh\n",
    "#         Num. Vertices {N_vertices}\n",
    "#         Num. Elements {N_elements}\n",
    "# '\"\"\"\n",
    "\n",
    "\n",
    "TEXT = f\"\"\"\n",
    "TEXT=$'an inward squish\n",
    "        Asynchronous Variational Integrator \n",
    "        Dormand–Prince Method\n",
    "        \n",
    "        Undamped Neohookean Model\n",
    "        mu {mu}  lambda {lam} gamma {gamma}\n",
    "        \n",
    "        Spherical Mesh\n",
    "        Num. Vertices {N_vertices}\n",
    "        Num. Elements {N_elements}\n",
    "'\"\"\"\n",
    "\n",
    "#write header to file\n",
    "# print(TEXT)\n",
    "# Dormand–Prince Method\n",
    "# Explicit Newmark Method\n",
    "# Implicit Midpoint Rule"
   ]
  },
  {
   "cell_type": "markdown",
   "metadata": {},
   "source": [
    "# Explicit/Implicit Synchronous/Asynchronous Variational Integrator\n",
    "- Mesh = solid sphere discretized by tetrahedra \n",
    "- Forces = neohookean hyperelastic material with rayleigh damping\n",
    "- Initialization = inward initial velocity by an amount proportional to the x coordinate."
   ]
  },
  {
   "cell_type": "code",
   "execution_count": 23,
   "metadata": {
    "ExecuteTime": {
     "end_time": "2020-12-11T05:55:31.706821Z",
     "start_time": "2020-12-11T05:55:31.673321Z"
    }
   },
   "outputs": [
    {
     "name": "stdout",
     "output_type": "stream",
     "text": [
      "learning_bins are [0.00477609 0.00477838 0.00478067 0.00478296 0.00478526 0.00478755\n",
      " 0.00478984 0.00479214 0.00479443 0.00479672 0.00479902 0.00480131\n",
      " 0.0048036  0.0048059  0.00480819 0.00481048 0.00481277 0.00481507\n",
      " 0.00481736 0.00481965 0.00482195 0.00482424 0.00482653 0.00482883\n",
      " 0.00483112 0.00483341 0.00483571 0.004838   0.00484029 0.00484258\n",
      " 0.00484488 0.00484717 0.00484946 0.00485176 0.00485405 0.00485634\n",
      " 0.00485864 0.00486093 0.00486322 0.00486552 0.00486781 0.0048701\n",
      " 0.0048724  0.00487469 0.00487698 0.00487927 0.00488157 0.00488386\n",
      " 0.00488615 0.00488845 0.00489074 0.00489303 0.00489533 0.00489762\n",
      " 0.00489991 0.00490221 0.0049045  0.00490679 0.00490908 0.00491138\n",
      " 0.00491367 0.00491596 0.00491826 0.00492055 0.00492284 0.00492514\n",
      " 0.00492743 0.00492972 0.00493202 0.00493431 0.0049366  0.0049389\n",
      " 0.00494119 0.00494348 0.00494577 0.00494807 0.00495036 0.00495265\n",
      " 0.00495495 0.00495724 0.00495953 0.00496183 0.00496412 0.00496641\n",
      " 0.00496871 0.004971   0.00497329 0.00497558 0.00497788 0.00498017\n",
      " 0.00498246 0.00498476 0.00498705 0.00498934 0.00499164 0.00499393\n",
      " 0.00499622 0.00499852 0.00500081 0.0050031  0.00500539]\n"
     ]
    }
   ],
   "source": [
    "#initialize system\n",
    "tauK = element_array_time\n",
    "tau = node_array_time\n",
    "\n",
    "#get method of computing elastic forces \n",
    "zero_mat = np.zeros((4,3))\n",
    "# calc_P = get_calc_P(mu, lam)\n",
    "# compute_nodal_damping_forces  = get_compute_nodal_damping_forces(mu,lam,gamma)\n",
    "# comp_nodal_elastic_forces = get_comp_nodal_elastic_forces(mu, lam)\n",
    "\n",
    "elements = element_array_index\n",
    "vertices = node_array_position\n",
    "\n",
    "#initialize stepsizes of simulation\n",
    "element_array_stepsize = np.zeros_like(element_array_time) + stepsize_init\n",
    "element_array_count_calls_one_step = np.zeros_like(element_array_time,dtype=int)\n",
    "element_array_count_config_updates = np.zeros_like(element_array_time,dtype=int)\n",
    "momentum = node_array_momentum.copy()\n",
    "velocities = momentum.copy()\n",
    "for j in range(N_vertices):\n",
    "    velocities[j] /= node_array_mass[j]\n",
    "\n",
    "\n",
    "# #perturb momentum in the x direction and let it run overnight with a small timestep  \n",
    "velocities[:,0] = -v_scale * vertices[:,0].copy()\n",
    "\n",
    "#initialize containers of measures\n",
    "volume_lst = []\n",
    "energy_lst = []\n",
    "tme_lst    = []\n",
    "stepsize_mean_lst   = []\n",
    "stepsize_std_lst    = []\n",
    "stepsize_median_lst = []\n",
    "stepsize_count_lst = []\n",
    "frac_lb = lambda i: np.exp(learning_rate*i)  ##np.exp((i+.5)*learning_rate/10)\n",
    "learning_bins = np.array([stepsize_init*frac_lb(i) for i in np.arange(-15,15)])\n",
    "\n",
    "# #this looks nice. 30 bins\n",
    "# learning_bins = np.array([0.00480198, 0.00480886, 0.00481574, 0.00482262, 0.00482951,\n",
    "#         0.00483639, 0.00484327, 0.00485015, 0.00485703, 0.00486391,\n",
    "#         0.0048708 , 0.00487768, 0.00488456, 0.00489144, 0.00489832,\n",
    "#         0.0049052 , 0.00491209, 0.00491897, 0.00492585, 0.00493273,\n",
    "#         0.00493961, 0.00494649, 0.00495338, 0.00496026, 0.00496714,\n",
    "#         0.00497402, 0.0049809 , 0.00498778, 0.00499467, 0.00500155,\n",
    "#         0.00500843])\n",
    "\n",
    "# #let's try 100 bins\n",
    "learning_bins = np.array([0.00477609, 0.00477838, 0.00478067, 0.00478296, 0.00478526,\n",
    "        0.00478755, 0.00478984, 0.00479214, 0.00479443, 0.00479672,\n",
    "        0.00479902, 0.00480131, 0.0048036 , 0.0048059 , 0.00480819,\n",
    "        0.00481048, 0.00481277, 0.00481507, 0.00481736, 0.00481965,\n",
    "        0.00482195, 0.00482424, 0.00482653, 0.00482883, 0.00483112,\n",
    "        0.00483341, 0.00483571, 0.004838  , 0.00484029, 0.00484258,\n",
    "        0.00484488, 0.00484717, 0.00484946, 0.00485176, 0.00485405,\n",
    "        0.00485634, 0.00485864, 0.00486093, 0.00486322, 0.00486552,\n",
    "        0.00486781, 0.0048701 , 0.0048724 , 0.00487469, 0.00487698,\n",
    "        0.00487927, 0.00488157, 0.00488386, 0.00488615, 0.00488845,\n",
    "        0.00489074, 0.00489303, 0.00489533, 0.00489762, 0.00489991,\n",
    "        0.00490221, 0.0049045 , 0.00490679, 0.00490908, 0.00491138,\n",
    "        0.00491367, 0.00491596, 0.00491826, 0.00492055, 0.00492284,\n",
    "        0.00492514, 0.00492743, 0.00492972, 0.00493202, 0.00493431,\n",
    "        0.0049366 , 0.0049389 , 0.00494119, 0.00494348, 0.00494577,\n",
    "        0.00494807, 0.00495036, 0.00495265, 0.00495495, 0.00495724,\n",
    "        0.00495953, 0.00496183, 0.00496412, 0.00496641, 0.00496871,\n",
    "        0.004971  , 0.00497329, 0.00497558, 0.00497788, 0.00498017,\n",
    "        0.00498246, 0.00498476, 0.00498705, 0.00498934, 0.00499164,\n",
    "        0.00499393, 0.00499622, 0.00499852, 0.00500081, 0.0050031 ,\n",
    "        0.00500539])\n",
    "\n",
    "# learning_bins = np.array([stepsize_init*np.exp((i+.5)*learning_rate) for i in np.arange(-3,3)])\n",
    "print(f\"learning_bins are {learning_bins}\")"
   ]
  },
  {
   "cell_type": "code",
   "execution_count": null,
   "metadata": {
    "ExecuteTime": {
     "end_time": "2020-12-11T01:03:19.566826Z",
     "start_time": "2020-12-11T01:03:19.536770Z"
    }
   },
   "outputs": [],
   "source": []
  },
  {
   "cell_type": "code",
   "execution_count": 24,
   "metadata": {
    "ExecuteTime": {
     "end_time": "2020-12-11T05:55:33.856560Z",
     "start_time": "2020-12-11T05:55:33.721721Z"
    }
   },
   "outputs": [],
   "source": [
    "#choose your fighter\n",
    "# integrate_system_explicit_synchronous = get_integrate_system_explicit_synchronous(mu,lam,gamma)\n",
    "# integrate_system_implicit_synchronous = get_integrate_system_implicit_synchronous(mu,lam,gamma,num_iter=30)\n",
    "# integrate_system_dormand_prince_synchronous = get_integrate_system_dormand_prince_synchronous(mu,lam,gamma)\n",
    "integrate_system_dormand_prince_asynchronous = get_integrate_system_dormand_prince_asynchronous(mu,lam,gamma,atol_x, atol_v, btol_x, btol_v,learning_rate, lasso_fraction)\n",
    "# integrate_system_explicit_asynchronous = get_integrate_system_explicit_asynchronous(mu,lam,gamma)\n",
    "\n",
    "#(optional) #view the mesh\n",
    "# plot_mesh(vertices, input_file_name=input_file_name, darkmode=True)"
   ]
  },
  {
   "cell_type": "code",
   "execution_count": 25,
   "metadata": {
    "ExecuteTime": {
     "end_time": "2020-12-11T05:55:34.624244Z",
     "start_time": "2020-12-11T05:55:34.449585Z"
    }
   },
   "outputs": [],
   "source": [
    "#prepare for video\n",
    "frameno = 1\n",
    "time_between_observations = 0.01\n",
    "time_of_next_observation = tme + time_between_observations\n",
    "\n",
    "#empty the temporary folder, vid/tmp\n",
    "os.chdir(nb_dir)\n",
    "os.chdir(folder_vid)\n",
    "!rm -r tmp\n",
    "os.mkdir('tmp')\n",
    "\n",
    "with open(\"mov/text.txt\", \"w\") as file:\n",
    "    file.write(TEXT)\n",
    "    file.close()"
   ]
  },
  {
   "cell_type": "code",
   "execution_count": 26,
   "metadata": {
    "ExecuteTime": {
     "end_time": "2020-12-11T07:15:23.958451Z",
     "start_time": "2020-12-11T05:55:38.641981Z"
    }
   },
   "outputs": [
    {
     "name": "stderr",
     "output_type": "stream",
     "text": [
      "/Users/timothytyree/Documents/GitHub/avi/nb/lib/controller/integrate_forward_dormand_prince_asynchronous.py:97: NumbaPerformanceWarning: '@' is faster on contiguous arrays, called on (array(float64, 2d, C), array(float64, 2d, A))\n",
      "  max_err, mav_err, x_out,v_out = one_step_explicit_dormand_prince_method(h,x,v,K_masses,K_tau,tau_of_K,Bm)\n"
     ]
    },
    {
     "ename": "KeyboardInterrupt",
     "evalue": "",
     "output_type": "error",
     "traceback": [
      "\u001b[0;31m---------------------------------------------------------------------------\u001b[0m",
      "\u001b[0;31mKeyboardInterrupt\u001b[0m                         Traceback (most recent call last)",
      "\u001b[0;32m<ipython-input-26-258332c1ed73>\u001b[0m in \u001b[0;36m<module>\u001b[0;34m\u001b[0m\n\u001b[1;32m     10\u001b[0m     \u001b[0;31m#     integrate_system_implicit_synchronous(tf, element_array_time, element_array_stepsize, node_array_time,\u001b[0m\u001b[0;34m\u001b[0m\u001b[0;34m\u001b[0m\u001b[0;34m\u001b[0m\u001b[0m\n\u001b[1;32m     11\u001b[0m     \u001b[0;31m#                                          element_array_index, vertices, velocities,node_array_mass, element_array_inverse_equilibrium_position)\u001b[0m\u001b[0;34m\u001b[0m\u001b[0;34m\u001b[0m\u001b[0;34m\u001b[0m\u001b[0m\n\u001b[0;32m---> 12\u001b[0;31m     integrate_system_dormand_prince_asynchronous(tf,element_array_time,element_array_stepsize,node_array_time,element_array_index,vertices,velocities,\n\u001b[0m\u001b[1;32m     13\u001b[0m             node_array_mass,element_array_inverse_equilibrium_position,element_array_mass)\n\u001b[1;32m     14\u001b[0m \u001b[0;31m#     integrate_system_explicit_asynchronous(tf, element_array_time, element_array_stepsize, node_array_time,\u001b[0m\u001b[0;34m\u001b[0m\u001b[0;34m\u001b[0m\u001b[0;34m\u001b[0m\u001b[0m\n",
      "\u001b[0;31mKeyboardInterrupt\u001b[0m: "
     ]
    }
   ],
   "source": [
    "#ready... get set... GO!\n",
    "os.chdir(nb_dir)\n",
    "os.chdir(save_folder_vid)\n",
    "time_end_recording = 3#.2\n",
    "while time_of_next_observation <= time_end_recording:\n",
    "    tf = time_of_next_observation\n",
    "    #integrate forward to the next time of observation\n",
    "#     integrate_system_explicit_synchronous(tf, element_array_time, element_array_stepsize, node_array_time,\n",
    "#                                              element_array_index, vertices, velocities,node_array_mass, element_array_inverse_equilibrium_position)\n",
    "    #     integrate_system_implicit_synchronous(tf, element_array_time, element_array_stepsize, node_array_time,\n",
    "    #                                          element_array_index, vertices, velocities,node_array_mass, element_array_inverse_equilibrium_position)\n",
    "    integrate_system_dormand_prince_asynchronous(tf,element_array_time,element_array_stepsize,node_array_time,element_array_index,vertices,velocities,\n",
    "            node_array_mass,element_array_inverse_equilibrium_position,element_array_mass)\n",
    "#     integrate_system_explicit_asynchronous(tf, element_array_time, element_array_stepsize, node_array_time,\n",
    "#                                              element_array_index, vertices, velocities, node_array_mass, element_array_inverse_equilibrium_position, atol_x, atol_v, btol_x, btol_v, learning_rate)\n",
    "\n",
    "    #update a copy of all positions to the observation time using the current velocity\n",
    "    x = vertices.copy()\n",
    "    for a in range(N_vertices):\n",
    "        x[a] += velocities[a] * (tf - tau[a])\n",
    "    \n",
    "    #measure observables\n",
    "    ##mesh measures\n",
    "    net_volume = compute_net_volume(x, element_array_index)\n",
    "    net_energy = compute_net_energy(N_elements, element_array_mass, velocities, x, #vertices,\n",
    "                                  element_array_index, element_array_inverse_equilibrium_position, mu, lam)\n",
    "    ##stepsize measures\n",
    "    stepsize_mean = np.mean(element_array_stepsize)\n",
    "    stepsize_std = np.std(element_array_stepsize)\n",
    "    stepsize_median = np.median(element_array_stepsize)\n",
    "\n",
    "    #record observables\n",
    "    volume_lst.append(net_volume)\n",
    "    energy_lst.append(net_energy)\n",
    "    tme = tf\n",
    "    tme_lst.append(tme)\n",
    "    stepsize_mean_lst.append(stepsize_mean)\n",
    "    stepsize_std_lst.append(stepsize_std)\n",
    "    stepsize_median_lst.append(stepsize_median)\n",
    "    stepsize_count_lst.append(count_array(array = element_array_stepsize,bins=learning_bins))\n",
    "    #record image of system\n",
    "    try:\n",
    "        img = get_img_of_system(vertices, input_file_name, darkmode = False, text=f'time={tf:.2f}')\n",
    "    except:\n",
    "        pass\n",
    "    save_fn_img = f'img{frameno:09}.png'\n",
    "    frameno += 1\n",
    "    Img = Image.fromarray(img)\n",
    "    Img.save(save_fn_img)\n",
    "    del Img\n",
    "    #increment time_of_next_observation\n",
    "    time_of_next_observation += time_between_observations\n",
    "    #TODO(later): do something that makes a boring video less boring\n",
    "    #TODO(later): def element_array_count_calls_one_step to the call of integrate_system_.... i.e. Keep track of how many times each element is called to time step\n",
    "    #TODO(later): keep track of how many times each element config is updated with element_array_count_config_updates\n",
    "print(stepsize_mean, stepsize_std, stepsize_median)\n",
    "beep(3)"
   ]
  },
  {
   "cell_type": "code",
   "execution_count": 27,
   "metadata": {
    "ExecuteTime": {
     "end_time": "2020-12-11T07:18:40.847369Z",
     "start_time": "2020-12-11T07:18:40.818626Z"
    }
   },
   "outputs": [
    {
     "name": "stdout",
     "output_type": "stream",
     "text": [
      "1.9600000000000015\n",
      "9.999159564889666e-05\n"
     ]
    }
   ],
   "source": [
    "print(time_of_next_observation)\n",
    "from scipy.stats.mstats import gmean\n",
    "# print(np.hmean(element_array_stepsize), gmean(element_array_stepsize))\n",
    "print(gmean(element_array_stepsize))"
   ]
  },
  {
   "cell_type": "code",
   "execution_count": 28,
   "metadata": {
    "ExecuteTime": {
     "end_time": "2020-12-11T07:18:41.787040Z",
     "start_time": "2020-12-11T07:18:41.385228Z"
    }
   },
   "outputs": [
    {
     "data": {
      "image/png": "[encoded data removed]",
      "text/plain": [
       "<Figure size 432x288 with 1 Axes>"
      ]
     },
     "metadata": {
      "needs_background": "light"
     },
     "output_type": "display_data"
    }
   ],
   "source": [
    "plt.hist(element_array_stepsize, bins=100)\n",
    "plt.show()"
   ]
  },
  {
   "cell_type": "code",
   "execution_count": 29,
   "metadata": {
    "ExecuteTime": {
     "end_time": "2020-12-11T07:18:44.218865Z",
     "start_time": "2020-12-11T07:18:44.193381Z"
    }
   },
   "outputs": [
    {
     "data": {
      "text/plain": [
       "0.0001"
      ]
     },
     "execution_count": 29,
     "metadata": {},
     "output_type": "execute_result"
    }
   ],
   "source": [
    "# img = get_img_of_system(vertices, input_file_name, darkmode = True, text=f'time={tf:.2f}')\n",
    "# img\n",
    "stepsize_init"
   ]
  },
  {
   "cell_type": "markdown",
   "metadata": {
    "ExecuteTime": {
     "end_time": "2020-12-11T05:53:24.418106Z",
     "start_time": "2020-12-11T04:05:22.777Z"
    }
   },
   "source": [
    "__problem/bug confirmed__ integrate_system_dormand_prince_asynchronous is only decreasing the stepsize values."
   ]
  },
  {
   "cell_type": "markdown",
   "metadata": {},
   "source": [
    "## Verified that all variables are changed by the integrator"
   ]
  },
  {
   "cell_type": "markdown",
   "metadata": {},
   "source": [
    "__time is now being updated at the nodes__"
   ]
  },
  {
   "cell_type": "markdown",
   "metadata": {},
   "source": [
    "# save csv of results"
   ]
  },
  {
   "cell_type": "code",
   "execution_count": 30,
   "metadata": {
    "ExecuteTime": {
     "end_time": "2020-12-11T07:18:47.419326Z",
     "start_time": "2020-12-11T07:18:47.392251Z"
    }
   },
   "outputs": [],
   "source": [
    "df = pd.DataFrame({\n",
    "    't':tme_lst,\n",
    "    'volume':volume_lst,\n",
    "    'energy':energy_lst,\n",
    "    'stepsize_mean':stepsize_mean_lst,\n",
    "    'stepsize_std':stepsize_std_lst,\n",
    "    'stepsize_median':stepsize_median_lst,\n",
    "})"
   ]
  },
  {
   "cell_type": "code",
   "execution_count": 31,
   "metadata": {
    "ExecuteTime": {
     "end_time": "2020-12-11T07:18:47.864168Z",
     "start_time": "2020-12-11T07:18:47.837047Z"
    }
   },
   "outputs": [
    {
     "data": {
      "text/html": [
       "<div>\n",
       "<style scoped>\n",
       "    .dataframe tbody tr th:only-of-type {\n",
       "        vertical-align: middle;\n",
       "    }\n",
       "\n",
       "    .dataframe tbody tr th {\n",
       "        vertical-align: top;\n",
       "    }\n",
       "\n",
       "    .dataframe thead th {\n",
       "        text-align: right;\n",
       "    }\n",
       "</style>\n",
       "<table border=\"1\" class=\"dataframe\">\n",
       "  <thead>\n",
       "    <tr style=\"text-align: right;\">\n",
       "      <th></th>\n",
       "      <th>t</th>\n",
       "      <th>volume</th>\n",
       "      <th>energy</th>\n",
       "      <th>stepsize_mean</th>\n",
       "      <th>stepsize_std</th>\n",
       "      <th>stepsize_median</th>\n",
       "    </tr>\n",
       "  </thead>\n",
       "  <tbody>\n",
       "    <tr>\n",
       "      <th>0</th>\n",
       "      <td>0.01</td>\n",
       "      <td>3.746652</td>\n",
       "      <td>1.283282</td>\n",
       "      <td>0.0001</td>\n",
       "      <td>1.117040e-09</td>\n",
       "      <td>0.0001</td>\n",
       "    </tr>\n",
       "    <tr>\n",
       "      <th>1</th>\n",
       "      <td>0.02</td>\n",
       "      <td>3.707442</td>\n",
       "      <td>1.144023</td>\n",
       "      <td>0.0001</td>\n",
       "      <td>1.930056e-09</td>\n",
       "      <td>0.0001</td>\n",
       "    </tr>\n",
       "    <tr>\n",
       "      <th>2</th>\n",
       "      <td>0.03</td>\n",
       "      <td>3.682417</td>\n",
       "      <td>1.054085</td>\n",
       "      <td>0.0001</td>\n",
       "      <td>2.614296e-09</td>\n",
       "      <td>0.0001</td>\n",
       "    </tr>\n",
       "    <tr>\n",
       "      <th>3</th>\n",
       "      <td>0.04</td>\n",
       "      <td>3.667982</td>\n",
       "      <td>0.992274</td>\n",
       "      <td>0.0001</td>\n",
       "      <td>3.198742e-09</td>\n",
       "      <td>0.0001</td>\n",
       "    </tr>\n",
       "    <tr>\n",
       "      <th>4</th>\n",
       "      <td>0.05</td>\n",
       "      <td>3.661667</td>\n",
       "      <td>0.944847</td>\n",
       "      <td>0.0001</td>\n",
       "      <td>3.708373e-09</td>\n",
       "      <td>0.0001</td>\n",
       "    </tr>\n",
       "  </tbody>\n",
       "</table>\n",
       "</div>"
      ],
      "text/plain": [
       "      t    volume    energy  stepsize_mean  stepsize_std  stepsize_median\n",
       "0  0.01  3.746652  1.283282         0.0001  1.117040e-09           0.0001\n",
       "1  0.02  3.707442  1.144023         0.0001  1.930056e-09           0.0001\n",
       "2  0.03  3.682417  1.054085         0.0001  2.614296e-09           0.0001\n",
       "3  0.04  3.667982  0.992274         0.0001  3.198742e-09           0.0001\n",
       "4  0.05  3.661667  0.944847         0.0001  3.708373e-09           0.0001"
      ]
     },
     "execution_count": 31,
     "metadata": {},
     "output_type": "execute_result"
    }
   ],
   "source": [
    "df.head()"
   ]
  },
  {
   "cell_type": "code",
   "execution_count": 32,
   "metadata": {
    "ExecuteTime": {
     "end_time": "2020-12-11T07:18:48.350988Z",
     "start_time": "2020-12-11T07:18:48.328262Z"
    }
   },
   "outputs": [],
   "source": [
    "# x_values = df['t'].values\n",
    "# # y_values = df['volume'].values\n",
    "# y_values = df['energy'].values\n",
    "# plt.plot(x_values, y_values)"
   ]
  },
  {
   "cell_type": "code",
   "execution_count": 33,
   "metadata": {
    "ExecuteTime": {
     "end_time": "2020-12-11T07:18:48.962637Z",
     "start_time": "2020-12-11T07:18:48.780748Z"
    }
   },
   "outputs": [
    {
     "data": {
      "image/png": "[encoded data removed]",
      "text/plain": [
       "<Figure size 432x288 with 1 Axes>"
      ]
     },
     "metadata": {
      "needs_background": "light"
     },
     "output_type": "display_data"
    }
   ],
   "source": [
    "x_values = df['t'].values\n",
    "# y_values = df['volume'].values\n",
    "# y_values = df['energy'].values\n",
    "plt.plot(x_values, df['volume'].values/(4*np.pi*1.**3/3), label='volume/initial volume')\n",
    "plt.plot(x_values, df['energy'].values, label='energy')\n",
    "plt.legend()\n",
    "plt.xlabel('time')\n",
    "plt.ylabel('measurement value')\n",
    "plt.show()"
   ]
  },
  {
   "cell_type": "code",
   "execution_count": null,
   "metadata": {
    "ExecuteTime": {
     "end_time": "2020-12-10T18:26:26.431404Z",
     "start_time": "2020-12-10T18:26:26.388572Z"
    }
   },
   "outputs": [],
   "source": []
  },
  {
   "cell_type": "code",
   "execution_count": 34,
   "metadata": {
    "ExecuteTime": {
     "end_time": "2020-12-11T07:19:08.495774Z",
     "start_time": "2020-12-11T07:19:08.463820Z"
    }
   },
   "outputs": [],
   "source": [
    "# data_fn = f\"avi_ns_a_equal_b_{os.path.basename(input_file_name).replace('.stl',f'_mu_{mu}_lambda_{lam}_gamma_{gamma}vscale_{v_scale}_stepsizeinit_{stepsize_init}')}.csv\"\n",
    "\n",
    "os.chdir(data_folder)\n",
    "df.to_csv(data_fn, index=False)"
   ]
  },
  {
   "cell_type": "code",
   "execution_count": 35,
   "metadata": {
    "ExecuteTime": {
     "end_time": "2020-12-11T07:19:10.074925Z",
     "start_time": "2020-12-11T07:19:10.053405Z"
    }
   },
   "outputs": [
    {
     "name": "stdout",
     "output_type": "stream",
     "text": [
      "results saved as avi_ns_asynch_fixed_lr_spherical_mesh_64_mu_1.0_lambda_10.0_gamma_0.05vscale_2.0_stepsizeinit_0.0001_salience_2_atolx_0.0001.csv\n"
     ]
    }
   ],
   "source": [
    "print(f'results saved as {data_fn}')"
   ]
  },
  {
   "cell_type": "code",
   "execution_count": 36,
   "metadata": {
    "ExecuteTime": {
     "end_time": "2020-12-11T07:19:36.294952Z",
     "start_time": "2020-12-11T07:19:36.268498Z"
    }
   },
   "outputs": [],
   "source": [
    "np.array(stepsize_count_lst)\n",
    "# np.savez(data_fn_counts)\n",
    "np.save(data_fn_counts, np.array(stepsize_count_lst))"
   ]
  },
  {
   "cell_type": "code",
   "execution_count": null,
   "metadata": {
    "ExecuteTime": {
     "end_time": "2020-12-10T06:07:29.968597Z",
     "start_time": "2020-12-10T06:07:29.899303Z"
    }
   },
   "outputs": [],
   "source": []
  },
  {
   "cell_type": "code",
   "execution_count": 18,
   "metadata": {
    "ExecuteTime": {
     "end_time": "2020-12-11T05:55:04.429299Z",
     "start_time": "2020-12-11T05:55:04.406934Z"
    }
   },
   "outputs": [
    {
     "data": {
      "text/plain": [
       "array([0, 0, 0, 0, 0, 0, 0, 0, 0, 0, 0, 0, 0, 0, 0, 0, 0, 0, 0, 0, 0, 0,\n",
       "       0, 0, 0, 0, 0, 0, 0, 0, 0, 0, 0, 0, 0, 0, 0, 0, 0, 0, 0, 0, 0, 0,\n",
       "       0, 0, 0, 0, 0, 0, 0, 0, 0, 0, 0, 0, 0, 0, 0, 0, 0, 0, 0, 0, 0, 0,\n",
       "       0, 0, 0, 0, 0, 0, 0, 0, 0, 0, 0, 0, 0, 0, 0, 0, 0, 0, 0, 0, 0, 0,\n",
       "       0, 0, 0, 0, 0, 0, 0, 0, 0, 0, 0, 0])"
      ]
     },
     "execution_count": 18,
     "metadata": {},
     "output_type": "execute_result"
    }
   ],
   "source": [
    "# set(stepsize_count_lst)\n",
    "np.array(stepsize_count_lst[0])\n",
    "np.array(stepsize_count_lst[-1])"
   ]
  },
  {
   "cell_type": "markdown",
   "metadata": {},
   "source": [
    "# compile and save the movie using ffmpeg"
   ]
  },
  {
   "cell_type": "code",
   "execution_count": 37,
   "metadata": {
    "ExecuteTime": {
     "end_time": "2020-12-11T07:19:42.100566Z",
     "start_time": "2020-12-11T07:19:42.066551Z"
    }
   },
   "outputs": [],
   "source": [
    "os.chdir(nb_dir)\n",
    "os.chdir(os.path.dirname(save_folder_vid))\n",
    "vid_in_fn = 'out.mov'\n",
    "vid_out_fn = data_fn.replace('.csv','.mov')"
   ]
  },
  {
   "cell_type": "code",
   "execution_count": 38,
   "metadata": {
    "ExecuteTime": {
     "end_time": "2020-12-11T07:19:51.485976Z",
     "start_time": "2020-12-11T07:19:42.557812Z"
    }
   },
   "outputs": [
    {
     "name": "stdout",
     "output_type": "stream",
     "text": [
      "ffmpeg version 4.3.1 Copyright (c) 2000-2020 the FFmpeg developers\n",
      "  built with Apple clang version 11.0.0 (clang-1100.0.33.17)\n",
      "  configuration: --prefix=/usr/local/Cellar/ffmpeg/4.3.1_4 --enable-shared --enable-pthreads --enable-version3 --enable-avresample --cc=clang --host-cflags= --host-ldflags= --enable-ffplay --enable-gnutls --enable-gpl --enable-libaom --enable-libbluray --enable-libdav1d --enable-libmp3lame --enable-libopus --enable-librav1e --enable-librubberband --enable-libsnappy --enable-libsrt --enable-libtesseract --enable-libtheora --enable-libvidstab --enable-libvorbis --enable-libvpx --enable-libwebp --enable-libx264 --enable-libx265 --enable-libxml2 --enable-libxvid --enable-lzma --enable-libfontconfig --enable-libfreetype --enable-frei0r --enable-libass --enable-libopencore-amrnb --enable-libopencore-amrwb --enable-libopenjpeg --enable-librtmp --enable-libspeex --enable-libsoxr --enable-videotoolbox --disable-libjack --disable-indev=jack\n",
      "  libavutil      56. 51.100 / 56. 51.100\n",
      "  libavcodec     58. 91.100 / 58. 91.100\n",
      "  libavformat    58. 45.100 / 58. 45.100\n",
      "  libavdevice    58. 10.100 / 58. 10.100\n",
      "  libavfilter     7. 85.100 /  7. 85.100\n",
      "  libavresample   4.  0.  0 /  4.  0.  0\n",
      "  libswscale      5.  7.100 /  5.  7.100\n",
      "  libswresample   3.  7.100 /  3.  7.100\n",
      "  libpostproc    55.  7.100 / 55.  7.100\n",
      "Input #0, image2, from 'tmp/img%09d.png':\n",
      "  Duration: 00:00:07.80, start: 0.000000, bitrate: N/A\n",
      "    Stream #0:0: Video: png, rgb24(pc), 1280x720, 25 fps, 25 tbr, 25 tbn, 25 tbc\n",
      "Stream mapping:\n",
      "  Stream #0:0 -> #0:0 (png (native) -> h264 (libx264))\n",
      "Press [q] to stop, [?] for help\n",
      "\u001b[1;36m[libx264 @ 0x7f91cb809200] \u001b[0musing cpu capabilities: MMX2 SSE2Fast SSSE3 SSE4.2 AVX FMA3 BMI2 AVX2\n",
      "\u001b[1;36m[libx264 @ 0x7f91cb809200] \u001b[0mprofile High 4:4:4 Predictive, level 3.2, 4:4:4, 8-bit\n",
      "Output #0, mpegts, to 'mov/tmp/tmp.MTS':\n",
      "  Metadata:\n",
      "    encoder         : Lavf58.45.100\n",
      "    Stream #0:0: Video: h264 (libx264), yuv444p, 1280x720, q=-1--1, 60 fps, 90k tbn, 60 tbc\n",
      "    Metadata:\n",
      "      encoder         : Lavc58.91.100 libx264\n",
      "    Side data:\n",
      "      cpb: bitrate max/min/avg: 0/0/0 buffer size: 0 vbv_delay: N/A\n",
      "frame=  468 fps=189 q=-1.0 Lsize=     349kB time=00:00:07.75 bitrate= 369.1kbits/s speed=3.14x    \n",
      "video:254kB audio:0kB subtitle:0kB other streams:0kB global headers:0kB muxing overhead: 37.390781%\n",
      "\u001b[1;36m[libx264 @ 0x7f91cb809200] \u001b[0mframe I:2     Avg QP:16.56  size:  7235\n",
      "\u001b[1;36m[libx264 @ 0x7f91cb809200] \u001b[0mframe P:118   Avg QP:22.10  size:  1387\n",
      "\u001b[1;36m[libx264 @ 0x7f91cb809200] \u001b[0mframe B:348   Avg QP:29.08  size:   236\n",
      "\u001b[1;36m[libx264 @ 0x7f91cb809200] \u001b[0mconsecutive B-frames:  0.9%  0.0%  0.0% 99.1%\n",
      "\u001b[1;36m[libx264 @ 0x7f91cb809200] \u001b[0mmb I  I16..4:  1.9% 90.9%  7.2%\n",
      "\u001b[1;36m[libx264 @ 0x7f91cb809200] \u001b[0mmb P  I16..4:  1.0%  1.7%  0.2%  P16..4:  5.3%  1.6%  0.5%  0.0%  0.0%    skip:89.7%\n",
      "\u001b[1;36m[libx264 @ 0x7f91cb809200] \u001b[0mmb B  I16..4:  0.0%  0.1%  0.0%  B16..8:  5.0%  0.1%  0.0%  direct: 0.0%  skip:94.7%  L0:51.1% L1:48.2% BI: 0.8%\n",
      "\u001b[1;36m[libx264 @ 0x7f91cb809200] \u001b[0m8x8 transform intra:69.5% inter:69.2%\n",
      "\u001b[1;36m[libx264 @ 0x7f91cb809200] \u001b[0mcoded y,u,v intra: 7.1% 1.1% 1.0% inter: 0.3% 0.0% 0.0%\n",
      "\u001b[1;36m[libx264 @ 0x7f91cb809200] \u001b[0mi16 v,h,dc,p: 69% 18% 11%  3%\n",
      "\u001b[1;36m[libx264 @ 0x7f91cb809200] \u001b[0mi8 v,h,dc,ddl,ddr,vr,hd,vl,hu: 47% 10% 35%  1%  2%  2%  2%  1%  1%\n",
      "\u001b[1;36m[libx264 @ 0x7f91cb809200] \u001b[0mi4 v,h,dc,ddl,ddr,vr,hd,vl,hu: 31% 20% 28%  5%  4%  4%  3%  3%  2%\n",
      "\u001b[1;36m[libx264 @ 0x7f91cb809200] \u001b[0mWeighted P-Frames: Y:0.0% UV:0.0%\n",
      "\u001b[1;36m[libx264 @ 0x7f91cb809200] \u001b[0mref P L0: 63.4% 10.3% 17.3%  9.0%\n",
      "\u001b[1;36m[libx264 @ 0x7f91cb809200] \u001b[0mref B L0: 86.4% 10.9%  2.7%\n",
      "\u001b[1;36m[libx264 @ 0x7f91cb809200] \u001b[0mref B L1: 96.1%  3.9%\n",
      "\u001b[1;36m[libx264 @ 0x7f91cb809200] \u001b[0mkb/s:266.94\n",
      "ffmpeg version 4.3.1 Copyright (c) 2000-2020 the FFmpeg developers\n",
      "  built with Apple clang version 11.0.0 (clang-1100.0.33.17)\n",
      "  configuration: --prefix=/usr/local/Cellar/ffmpeg/4.3.1_4 --enable-shared --enable-pthreads --enable-version3 --enable-avresample --cc=clang --host-cflags= --host-ldflags= --enable-ffplay --enable-gnutls --enable-gpl --enable-libaom --enable-libbluray --enable-libdav1d --enable-libmp3lame --enable-libopus --enable-librav1e --enable-librubberband --enable-libsnappy --enable-libsrt --enable-libtesseract --enable-libtheora --enable-libvidstab --enable-libvorbis --enable-libvpx --enable-libwebp --enable-libx264 --enable-libx265 --enable-libxml2 --enable-libxvid --enable-lzma --enable-libfontconfig --enable-libfreetype --enable-frei0r --enable-libass --enable-libopencore-amrnb --enable-libopencore-amrwb --enable-libopenjpeg --enable-librtmp --enable-libspeex --enable-libsoxr --enable-videotoolbox --disable-libjack --disable-indev=jack\n",
      "  libavutil      56. 51.100 / 56. 51.100\n",
      "  libavcodec     58. 91.100 / 58. 91.100\n",
      "  libavformat    58. 45.100 / 58. 45.100\n",
      "  libavdevice    58. 10.100 / 58. 10.100\n",
      "  libavfilter     7. 85.100 /  7. 85.100\n",
      "  libavresample   4.  0.  0 /  4.  0.  0\n",
      "  libswscale      5.  7.100 /  5.  7.100\n",
      "  libswresample   3.  7.100 /  3.  7.100\n",
      "  libpostproc    55.  7.100 / 55.  7.100\n",
      "Input #0, lavfi, from 'color=black:1280x720':\n",
      "  Duration: N/A, start: 0.000000, bitrate: N/A\n",
      "    Stream #0:0: Video: rawvideo (I420 / 0x30323449), yuv420p, 1280x720 [SAR 1:1 DAR 16:9], 25 tbr, 25 tbn, 25 tbc\n",
      "Input #1, lavfi, from 'anullsrc':\n",
      "  Duration: N/A, start: 0.000000, bitrate: 705 kb/s\n",
      "    Stream #1:0: Audio: pcm_u8, 44100 Hz, stereo, u8, 705 kb/s\n",
      "Stream mapping:\n",
      "  Stream #0:0 -> #0:0 (rawvideo (native) -> h264 (libx264))\n",
      "  Stream #1:0 -> #0:1 (pcm_u8 (native) -> aac (native))\n",
      "Press [q] to stop, [?] for help\n",
      "\u001b[1;36m[libx264 @ 0x7fd1e0805600] \u001b[0musing SAR=1/1\n",
      "\u001b[1;36m[libx264 @ 0x7fd1e0805600] \u001b[0musing cpu capabilities: MMX2 SSE2Fast SSSE3 SSE4.2 AVX FMA3 BMI2 AVX2\n",
      "\u001b[1;36m[libx264 @ 0x7fd1e0805600] \u001b[0mprofile High, level 3.2, 4:2:0, 8-bit\n",
      "\u001b[1;36m[libx264 @ 0x7fd1e0805600] \u001b[0m264 - core 161 r3027 4121277 - H.264/MPEG-4 AVC codec - Copyleft 2003-2020 - http://www.videolan.org/x264.html - options: cabac=1 ref=3 deblock=1:0:0 analyse=0x3:0x113 me=hex subme=7 psy=1 psy_rd=1.00:0.00 mixed_ref=1 me_range=16 chroma_me=1 trellis=1 8x8dct=1 cqm=0 deadzone=21,11 fast_pskip=1 chroma_qp_offset=-2 threads=12 lookahead_threads=2 sliced_threads=0 nr=0 decimate=1 interlaced=0 bluray_compat=0 constrained_intra=0 bframes=3 b_pyramid=2 b_adapt=1 b_bias=0 direct=1 weightb=1 open_gop=0 weightp=2 keyint=250 keyint_min=25 scenecut=40 intra_refresh=0 rc_lookahead=40 rc=abr mbtree=1 bitrate=1000 ratetol=1.0 qcomp=0.60 qpmin=0 qpmax=69 qpstep=4 ip_ratio=1.40 aq=1:1.00\n",
      "Output #0, mp4, to 'mov/tmp/intro.mp4':\n",
      "  Metadata:\n",
      "    encoder         : Lavf58.45.100\n",
      "    Stream #0:0: Video: h264 (libx264) (avc1 / 0x31637661), yuv420p, 1280x720 [SAR 1:1 DAR 16:9], q=-1--1, 1000 kb/s, 60 fps, 5k tbn, 60 tbc\n",
      "    Metadata:\n",
      "      encoder         : Lavc58.91.100 libx264\n",
      "    Side data:\n",
      "      cpb: bitrate max/min/avg: 0/0/1000000 buffer size: 0 vbv_delay: N/A\n",
      "    Stream #0:1: Audio: aac (LC) (mp4a / 0x6134706D), 44100 Hz, stereo, fltp, 128 kb/s\n",
      "    Metadata:\n",
      "      encoder         : Lavc58.91.100 aac\n",
      "frame=  240 fps=0.0 q=-1.0 Lsize=     122kB time=00:00:04.01 bitrate= 249.1kbits/s speed=4.96x    \n",
      "video:112kB audio:1kB subtitle:0kB other streams:0kB global headers:0kB muxing overhead: 7.983150%\n",
      "\u001b[1;36m[libx264 @ 0x7fd1e0805600] \u001b[0mframe I:1     Avg QP:16.87  size:   212\n",
      "\u001b[1;36m[libx264 @ 0x7fd1e0805600] \u001b[0mframe P:61    Avg QP:13.85  size:  1374\n",
      "\u001b[1;36m[libx264 @ 0x7fd1e0805600] \u001b[0mframe B:178   Avg QP:11.45  size:   169\n",
      "\u001b[1;36m[libx264 @ 0x7fd1e0805600] \u001b[0mconsecutive B-frames:  0.4%  1.7%  1.2% 96.7%\n",
      "\u001b[1;36m[libx264 @ 0x7fd1e0805600] \u001b[0mmb I  I16..4: 100.0%  0.0%  0.0%\n",
      "\u001b[1;36m[libx264 @ 0x7fd1e0805600] \u001b[0mmb P  I16..4:  0.4%  0.6%  0.2%  P16..4:  3.2%  0.4%  0.6%  0.0%  0.0%    skip:94.6%\n",
      "\u001b[1;36m[libx264 @ 0x7fd1e0805600] \u001b[0mmb B  I16..4:  0.3%  0.1%  0.0%  B16..8:  5.1%  0.0%  0.0%  direct: 0.0%  skip:94.5%  L0:55.0% L1:44.3% BI: 0.7%\n",
      "\u001b[1;36m[libx264 @ 0x7fd1e0805600] \u001b[0mfinal ratefactor: 13.60\n",
      "\u001b[1;36m[libx264 @ 0x7fd1e0805600] \u001b[0m8x8 transform intra:20.0% inter:45.6%\n",
      "\u001b[1;36m[libx264 @ 0x7fd1e0805600] \u001b[0mcoded y,uvDC,uvAC intra: 4.5% 0.0% 0.0% inter: 0.5% 0.0% 0.0%\n",
      "\u001b[1;36m[libx264 @ 0x7fd1e0805600] \u001b[0mi16 v,h,dc,p: 74% 22%  4%  0%\n",
      "\u001b[1;36m[libx264 @ 0x7fd1e0805600] \u001b[0mi8 v,h,dc,ddl,ddr,vr,hd,vl,hu: 14%  6% 71%  2%  2%  2%  1%  1%  2%\n",
      "\u001b[1;36m[libx264 @ 0x7fd1e0805600] \u001b[0mi4 v,h,dc,ddl,ddr,vr,hd,vl,hu: 45% 12% 21%  3%  4%  4%  5%  3%  3%\n",
      "\u001b[1;36m[libx264 @ 0x7fd1e0805600] \u001b[0mi8c dc,h,v,p: 100%  0%  0%  0%\n",
      "\u001b[1;36m[libx264 @ 0x7fd1e0805600] \u001b[0mWeighted P-Frames: Y:50.8% UV:0.0%\n",
      "\u001b[1;36m[libx264 @ 0x7fd1e0805600] \u001b[0mref P L0: 88.9%  5.3%  4.5%  0.8%  0.5%\n",
      "\u001b[1;36m[libx264 @ 0x7fd1e0805600] \u001b[0mref B L0: 70.4% 28.7%  0.9%\n",
      "\u001b[1;36m[libx264 @ 0x7fd1e0805600] \u001b[0mref B L1: 98.3%  1.7%\n",
      "\u001b[1;36m[libx264 @ 0x7fd1e0805600] \u001b[0mkb/s:228.15\n"
     ]
    },
    {
     "name": "stdout",
     "output_type": "stream",
     "text": [
      "\u001b[1;36m[aac @ 0x7fd1e0806e00] \u001b[0mQavg: 120.000\n",
      "ffmpeg version 4.3.1 Copyright (c) 2000-2020 the FFmpeg developers\n",
      "  built with Apple clang version 11.0.0 (clang-1100.0.33.17)\n",
      "  configuration: --prefix=/usr/local/Cellar/ffmpeg/4.3.1_4 --enable-shared --enable-pthreads --enable-version3 --enable-avresample --cc=clang --host-cflags= --host-ldflags= --enable-ffplay --enable-gnutls --enable-gpl --enable-libaom --enable-libbluray --enable-libdav1d --enable-libmp3lame --enable-libopus --enable-librav1e --enable-librubberband --enable-libsnappy --enable-libsrt --enable-libtesseract --enable-libtheora --enable-libvidstab --enable-libvorbis --enable-libvpx --enable-libwebp --enable-libx264 --enable-libx265 --enable-libxml2 --enable-libxvid --enable-lzma --enable-libfontconfig --enable-libfreetype --enable-frei0r --enable-libass --enable-libopencore-amrnb --enable-libopencore-amrwb --enable-libopenjpeg --enable-librtmp --enable-libspeex --enable-libsoxr --enable-videotoolbox --disable-libjack --disable-indev=jack\n",
      "  libavutil      56. 51.100 / 56. 51.100\n",
      "  libavcodec     58. 91.100 / 58. 91.100\n",
      "  libavformat    58. 45.100 / 58. 45.100\n",
      "  libavdevice    58. 10.100 / 58. 10.100\n",
      "  libavfilter     7. 85.100 /  7. 85.100\n",
      "  libavresample   4.  0.  0 /  4.  0.  0\n",
      "  libswscale      5.  7.100 /  5.  7.100\n",
      "  libswresample   3.  7.100 /  3.  7.100\n",
      "  libpostproc    55.  7.100 / 55.  7.100\n",
      "Input #0, mov,mp4,m4a,3gp,3g2,mj2, from 'mov/tmp/intro.mp4':\n",
      "  Metadata:\n",
      "    major_brand     : isom\n",
      "    minor_version   : 512\n",
      "    compatible_brands: isomiso2avc1mp41\n",
      "    encoder         : Lavf58.45.100\n",
      "  Duration: 00:00:04.02, start: 0.000000, bitrate: 248 kb/s\n",
      "    Stream #0:0(und): Video: h264 (High) (avc1 / 0x31637661), yuv420p, 1280x720 [SAR 1:1 DAR 16:9], 229 kb/s, 60 fps, 60 tbr, 5k tbn, 120 tbc (default)\n",
      "    Metadata:\n",
      "      handler_name    : VideoHandler\n",
      "    Stream #0:1(und): Audio: aac (LC) (mp4a / 0x6134706D), 44100 Hz, stereo, fltp, 2 kb/s (default)\n",
      "    Metadata:\n",
      "      handler_name    : SoundHandler\n",
      "Stream mapping:\n",
      "  Stream #0:0 -> #0:0 (h264 (native) -> mpeg2video (native))\n",
      "  Stream #0:1 -> #0:1 (aac (native) -> mp2 (native))\n",
      "Press [q] to stop, [?] for help\n",
      "Output #0, mpegts, to 'mov/tmp/clip-1.MTS':\n",
      "  Metadata:\n",
      "    major_brand     : isom\n",
      "    minor_version   : 512\n",
      "    compatible_brands: isomiso2avc1mp41\n",
      "    encoder         : Lavf58.45.100\n",
      "    Stream #0:0(und): Video: mpeg2video (Main), yuv420p, 1280x720 [SAR 1:1 DAR 16:9], q=2-31, 200 kb/s, 60 fps, 90k tbn, 60 tbc (default)\n",
      "    Metadata:\n",
      "      handler_name    : VideoHandler\n",
      "      encoder         : Lavc58.91.100 mpeg2video\n",
      "    Side data:\n",
      "      cpb: bitrate max/min/avg: 0/0/200000 buffer size: 0 vbv_delay: N/A\n",
      "    Stream #0:1(und): Audio: mp2, 44100 Hz, stereo, s16, 384 kb/s (default)\n",
      "    Metadata:\n",
      "      handler_name    : SoundHandler\n",
      "      encoder         : Lavc58.91.100 mp2\n",
      "frame=  240 fps=0.0 q=0.0 Lsize=    3129kB time=00:00:04.01 bitrate=6388.7kbits/s speed=12.6x    \n",
      "video:2828kB audio:189kB subtitle:0kB other streams:0kB global headers:0kB muxing overhead: 3.720595%\n",
      "ffmpeg version 4.3.1 Copyright (c) 2000-2020 the FFmpeg developers\n",
      "  built with Apple clang version 11.0.0 (clang-1100.0.33.17)\n",
      "  configuration: --prefix=/usr/local/Cellar/ffmpeg/4.3.1_4 --enable-shared --enable-pthreads --enable-version3 --enable-avresample --cc=clang --host-cflags= --host-ldflags= --enable-ffplay --enable-gnutls --enable-gpl --enable-libaom --enable-libbluray --enable-libdav1d --enable-libmp3lame --enable-libopus --enable-librav1e --enable-librubberband --enable-libsnappy --enable-libsrt --enable-libtesseract --enable-libtheora --enable-libvidstab --enable-libvorbis --enable-libvpx --enable-libwebp --enable-libx264 --enable-libx265 --enable-libxml2 --enable-libxvid --enable-lzma --enable-libfontconfig --enable-libfreetype --enable-frei0r --enable-libass --enable-libopencore-amrnb --enable-libopencore-amrwb --enable-libopenjpeg --enable-librtmp --enable-libspeex --enable-libsoxr --enable-videotoolbox --disable-libjack --disable-indev=jack\n",
      "  libavutil      56. 51.100 / 56. 51.100\n",
      "  libavcodec     58. 91.100 / 58. 91.100\n",
      "  libavformat    58. 45.100 / 58. 45.100\n",
      "  libavdevice    58. 10.100 / 58. 10.100\n",
      "  libavfilter     7. 85.100 /  7. 85.100\n",
      "  libavresample   4.  0.  0 /  4.  0.  0\n",
      "  libswscale      5.  7.100 /  5.  7.100\n",
      "  libswresample   3.  7.100 /  3.  7.100\n",
      "  libpostproc    55.  7.100 / 55.  7.100\n",
      "Input #0, mpegts, from 'mov/tmp/tmp.MTS':\n",
      "  Duration: 00:00:07.80, start: 1.433333, bitrate: 366 kb/s\n",
      "  Program 1 \n",
      "    Metadata:\n",
      "      service_name    : Service01\n",
      "      service_provider: FFmpeg\n",
      "    Stream #0:0[0x100]: Video: h264 (High 4:4:4 Predictive) ([27][0][0][0] / 0x001B), yuv444p(progressive), 1280x720, 60 fps, 60 tbr, 90k tbn, 120 tbc\n",
      "Stream mapping:\n",
      "  Stream #0:0 -> #0:0 (h264 (native) -> mpeg2video (native))\n",
      "Press [q] to stop, [?] for help\n",
      "Output #0, mpegts, to 'mov/tmp/clip-2.MTS':\n",
      "  Metadata:\n",
      "    encoder         : Lavf58.45.100\n",
      "    Stream #0:0: Video: mpeg2video (Main), yuv420p, 1280x720, q=2-31, 200 kb/s, 60 fps, 90k tbn, 60 tbc\n",
      "    Metadata:\n",
      "      encoder         : Lavc58.91.100 mpeg2video\n",
      "    Side data:\n",
      "      cpb: bitrate max/min/avg: 0/0/200000 buffer size: 0 vbv_delay: N/A\n",
      "frame=  468 fps=341 q=0.0 Lsize=    2577kB time=00:00:07.76 bitrate=2718.0kbits/s speed=5.65x    \n",
      "video:2441kB audio:0kB subtitle:0kB other streams:0kB global headers:0kB muxing overhead: 5.558067%\n",
      "ffmpeg version 4.3.1 Copyright (c) 2000-2020 the FFmpeg developers\n",
      "  built with Apple clang version 11.0.0 (clang-1100.0.33.17)\n",
      "  configuration: --prefix=/usr/local/Cellar/ffmpeg/4.3.1_4 --enable-shared --enable-pthreads --enable-version3 --enable-avresample --cc=clang --host-cflags= --host-ldflags= --enable-ffplay --enable-gnutls --enable-gpl --enable-libaom --enable-libbluray --enable-libdav1d --enable-libmp3lame --enable-libopus --enable-librav1e --enable-librubberband --enable-libsnappy --enable-libsrt --enable-libtesseract --enable-libtheora --enable-libvidstab --enable-libvorbis --enable-libvpx --enable-libwebp --enable-libx264 --enable-libx265 --enable-libxml2 --enable-libxvid --enable-lzma --enable-libfontconfig --enable-libfreetype --enable-frei0r --enable-libass --enable-libopencore-amrnb --enable-libopencore-amrwb --enable-libopenjpeg --enable-librtmp --enable-libspeex --enable-libsoxr --enable-videotoolbox --disable-libjack --disable-indev=jack\n",
      "  libavutil      56. 51.100 / 56. 51.100\n",
      "  libavcodec     58. 91.100 / 58. 91.100\n",
      "  libavformat    58. 45.100 / 58. 45.100\n",
      "  libavdevice    58. 10.100 / 58. 10.100\n",
      "  libavfilter     7. 85.100 /  7. 85.100\n",
      "  libavresample   4.  0.  0 /  4.  0.  0\n",
      "  libswscale      5.  7.100 /  5.  7.100\n",
      "  libswresample   3.  7.100 /  3.  7.100\n",
      "  libpostproc    55.  7.100 / 55.  7.100\n",
      "Input #0, concat, from 'mov/list.txt':\n",
      "  Duration: N/A, start: 0.000000, bitrate: N/A\n",
      "    Stream #0:0: Video: mpeg2video (Main) ([2][0][0][0] / 0x0002), yuv420p(tv, progressive), 1280x720 [SAR 1:1 DAR 16:9], 60 fps, 60 tbr, 90k tbn, 90k tbc\n",
      "    Stream #0:1(und): Audio: mp2 ([3][0][0][0] / 0x0003), 44100 Hz, stereo, s16p, 384 kb/s\n",
      "Output #0, mpegts, to 'mov/tmp/tmp2.MTS':\n",
      "  Metadata:\n",
      "    encoder         : Lavf58.45.100\n",
      "    Stream #0:0: Video: mpeg2video (Main) ([2][0][0][0] / 0x0002), yuv420p(tv, progressive), 1280x720 [SAR 1:1 DAR 16:9], q=2-31, 60 fps, 60 tbr, 90k tbn, 90k tbc\n",
      "    Stream #0:1(und): Audio: mp2 ([3][0][0][0] / 0x0003), 44100 Hz, stereo, s16p, 384 kb/s\n",
      "Stream mapping:\n",
      "  Stream #0:0 -> #0:0 (copy)\n",
      "  Stream #0:1 -> #0:1 (copy)\n",
      "Press [q] to stop, [?] for help\n",
      "frame=  708 fps=0.0 q=-1.0 Lsize=    5706kB time=00:00:11.77 bitrate=3968.7kbits/s speed= 756x    \n",
      "video:5269kB audio:189kB subtitle:0kB other streams:0kB global headers:0kB muxing overhead: 4.542483%\n",
      "ffmpeg version 4.3.1 Copyright (c) 2000-2020 the FFmpeg developers\n",
      "  built with Apple clang version 11.0.0 (clang-1100.0.33.17)\n",
      "  configuration: --prefix=/usr/local/Cellar/ffmpeg/4.3.1_4 --enable-shared --enable-pthreads --enable-version3 --enable-avresample --cc=clang --host-cflags= --host-ldflags= --enable-ffplay --enable-gnutls --enable-gpl --enable-libaom --enable-libbluray --enable-libdav1d --enable-libmp3lame --enable-libopus --enable-librav1e --enable-librubberband --enable-libsnappy --enable-libsrt --enable-libtesseract --enable-libtheora --enable-libvidstab --enable-libvorbis --enable-libvpx --enable-libwebp --enable-libx264 --enable-libx265 --enable-libxml2 --enable-libxvid --enable-lzma --enable-libfontconfig --enable-libfreetype --enable-frei0r --enable-libass --enable-libopencore-amrnb --enable-libopencore-amrwb --enable-libopenjpeg --enable-librtmp --enable-libspeex --enable-libsoxr --enable-videotoolbox --disable-libjack --disable-indev=jack\n",
      "  libavutil      56. 51.100 / 56. 51.100\n",
      "  libavcodec     58. 91.100 / 58. 91.100\n",
      "  libavformat    58. 45.100 / 58. 45.100\n",
      "  libavdevice    58. 10.100 / 58. 10.100\n",
      "  libavfilter     7. 85.100 /  7. 85.100\n",
      "  libavresample   4.  0.  0 /  4.  0.  0\n",
      "  libswscale      5.  7.100 /  5.  7.100\n",
      "  libswresample   3.  7.100 /  3.  7.100\n",
      "  libpostproc    55.  7.100 / 55.  7.100\n"
     ]
    },
    {
     "name": "stdout",
     "output_type": "stream",
     "text": [
      "Input #0, mpegts, from 'mov/tmp/tmp2.MTS':\n",
      "  Duration: 00:00:11.81, start: 1.405756, bitrate: 3957 kb/s\n",
      "  Program 1 \n",
      "    Metadata:\n",
      "      service_name    : Service01\n",
      "      service_provider: FFmpeg\n",
      "    Stream #0:0[0x100]: Video: mpeg2video (Main) ([2][0][0][0] / 0x0002), yuv420p(tv, progressive), 1280x720 [SAR 1:1 DAR 16:9], 60 fps, 60 tbr, 90k tbn, 120 tbc\n",
      "    Side data:\n",
      "      cpb: bitrate max/min/avg: 0/0/0 buffer size: 49152 vbv_delay: N/A\n",
      "    Stream #0:1[0x101](und): Audio: mp2 ([3][0][0][0] / 0x0003), 44100 Hz, stereo, fltp, 384 kb/s\n",
      "Stream mapping:\n",
      "  Stream #0:0 -> #0:0 (mpeg2video (native) -> h264 (libx264))\n",
      "  Stream #0:1 -> #0:1 (mp2 (native) -> aac (native))\n",
      "Press [q] to stop, [?] for help\n",
      "\u001b[1;36m[libx264 @ 0x7ff8b78bb000] \u001b[0musing SAR=1/1\n",
      "\u001b[1;36m[libx264 @ 0x7ff8b78bb000] \u001b[0musing cpu capabilities: MMX2 SSE2Fast SSSE3 SSE4.2 AVX FMA3 BMI2 AVX2\n",
      "\u001b[1;36m[libx264 @ 0x7ff8b78bb000] \u001b[0mprofile High, level 3.2, 4:2:0, 8-bit\n",
      "\u001b[1;36m[libx264 @ 0x7ff8b78bb000] \u001b[0m264 - core 161 r3027 4121277 - H.264/MPEG-4 AVC codec - Copyleft 2003-2020 - http://www.videolan.org/x264.html - options: cabac=1 ref=3 deblock=1:0:0 analyse=0x3:0x113 me=hex subme=7 psy=1 psy_rd=1.00:0.00 mixed_ref=1 me_range=16 chroma_me=1 trellis=1 8x8dct=1 cqm=0 deadzone=21,11 fast_pskip=1 chroma_qp_offset=-2 threads=12 lookahead_threads=2 sliced_threads=0 nr=0 decimate=1 interlaced=0 bluray_compat=0 constrained_intra=0 bframes=3 b_pyramid=2 b_adapt=1 b_bias=0 direct=1 weightb=1 open_gop=0 weightp=2 keyint=250 keyint_min=25 scenecut=40 intra_refresh=0 rc_lookahead=40 rc=crf mbtree=1 crf=30.0 qcomp=0.60 qpmin=0 qpmax=69 qpstep=4 ip_ratio=1.40 aq=1:1.00\n",
      "Output #0, mov, to 'out.mov':\n",
      "  Metadata:\n",
      "    encoder         : Lavf58.45.100\n",
      "    Stream #0:0: Video: h264 (libx264) (avc1 / 0x31637661), yuv420p(progressive), 1280x720 [SAR 1:1 DAR 16:9], q=-1--1, 60 fps, 15360 tbn, 60 tbc\n",
      "    Metadata:\n",
      "      encoder         : Lavc58.91.100 libx264\n",
      "    Side data:\n",
      "      cpb: bitrate max/min/avg: 0/0/0 buffer size: 0 vbv_delay: N/A\n",
      "    Stream #0:1(und): Audio: aac (LC) (mp4a / 0x6134706D), 44100 Hz, stereo, fltp, 128 kb/s\n",
      "    Metadata:\n",
      "      encoder         : Lavc58.91.100 aac\n",
      "frame=  709 fps=322 q=-1.0 Lsize=     237kB time=00:00:11.76 bitrate= 165.3kbits/s dup=1 drop=0 speed=5.34x    \n",
      "video:223kB audio:1kB subtitle:0kB other streams:0kB global headers:0kB muxing overhead: 5.983242%\n",
      "\u001b[1;36m[libx264 @ 0x7ff8b78bb000] \u001b[0mframe I:3     Avg QP:18.80  size:  3080\n",
      "\u001b[1;36m[libx264 @ 0x7ff8b78bb000] \u001b[0mframe P:184   Avg QP:28.56  size:   713\n",
      "\u001b[1;36m[libx264 @ 0x7ff8b78bb000] \u001b[0mframe B:522   Avg QP:31.82  size:   167\n",
      "\u001b[1;36m[libx264 @ 0x7ff8b78bb000] \u001b[0mconsecutive B-frames:  1.4%  0.8%  1.3% 96.5%\n",
      "\u001b[1;36m[libx264 @ 0x7ff8b78bb000] \u001b[0mmb I  I16..4: 35.2% 61.9%  2.9%\n",
      "\u001b[1;36m[libx264 @ 0x7ff8b78bb000] \u001b[0mmb P  I16..4:  0.5%  1.1%  0.1%  P16..4:  4.8%  0.4%  0.2%  0.0%  0.0%    skip:92.9%\n",
      "\u001b[1;36m[libx264 @ 0x7ff8b78bb000] \u001b[0mmb B  I16..4:  0.3%  0.1%  0.0%  B16..8:  3.5%  0.0%  0.0%  direct: 0.0%  skip:96.2%  L0:43.4% L1:56.3% BI: 0.3%\n",
      "\u001b[1;36m[libx264 @ 0x7ff8b78bb000] \u001b[0m8x8 transform intra:54.6% inter:66.0%\n",
      "\u001b[1;36m[libx264 @ 0x7ff8b78bb000] \u001b[0mcoded y,uvDC,uvAC intra: 4.9% 4.9% 0.0% inter: 0.2% 0.0% 0.0%\n",
      "\u001b[1;36m[libx264 @ 0x7ff8b78bb000] \u001b[0mi16 v,h,dc,p: 55% 33% 10%  1%\n",
      "\u001b[1;36m[libx264 @ 0x7ff8b78bb000] \u001b[0mi8 v,h,dc,ddl,ddr,vr,hd,vl,hu: 43% 12% 40%  1%  1%  1%  1%  0%  1%\n",
      "\u001b[1;36m[libx264 @ 0x7ff8b78bb000] \u001b[0mi4 v,h,dc,ddl,ddr,vr,hd,vl,hu: 38% 18% 22%  6%  3%  3%  3%  4%  3%\n",
      "\u001b[1;36m[libx264 @ 0x7ff8b78bb000] \u001b[0mi8c dc,h,v,p: 86%  7%  7%  0%\n",
      "\u001b[1;36m[libx264 @ 0x7ff8b78bb000] \u001b[0mWeighted P-Frames: Y:16.8% UV:0.0%\n",
      "\u001b[1;36m[libx264 @ 0x7ff8b78bb000] \u001b[0mref P L0: 75.8%  9.8% 11.0%  3.3%  0.1%\n",
      "\u001b[1;36m[libx264 @ 0x7ff8b78bb000] \u001b[0mref B L0: 84.8% 12.4%  2.9%\n",
      "\u001b[1;36m[libx264 @ 0x7ff8b78bb000] \u001b[0mref B L1: 95.4%  4.6%\n",
      "\u001b[1;36m[libx264 @ 0x7ff8b78bb000] \u001b[0mkb/s:154.10\n",
      "\u001b[1;36m[aac @ 0x7ff8b78b0a00] \u001b[0mQavg: 65536.000\n",
      "ffmpeg version 4.3.1 Copyright (c) 2000-2020 the FFmpeg developers\n",
      "  built with Apple clang version 11.0.0 (clang-1100.0.33.17)\n",
      "  configuration: --prefix=/usr/local/Cellar/ffmpeg/4.3.1_4 --enable-shared --enable-pthreads --enable-version3 --enable-avresample --cc=clang --host-cflags= --host-ldflags= --enable-ffplay --enable-gnutls --enable-gpl --enable-libaom --enable-libbluray --enable-libdav1d --enable-libmp3lame --enable-libopus --enable-librav1e --enable-librubberband --enable-libsnappy --enable-libsrt --enable-libtesseract --enable-libtheora --enable-libvidstab --enable-libvorbis --enable-libvpx --enable-libwebp --enable-libx264 --enable-libx265 --enable-libxml2 --enable-libxvid --enable-lzma --enable-libfontconfig --enable-libfreetype --enable-frei0r --enable-libass --enable-libopencore-amrnb --enable-libopencore-amrwb --enable-libopenjpeg --enable-librtmp --enable-libspeex --enable-libsoxr --enable-videotoolbox --disable-libjack --disable-indev=jack\n",
      "  libavutil      56. 51.100 / 56. 51.100\n",
      "  libavcodec     58. 91.100 / 58. 91.100\n",
      "  libavformat    58. 45.100 / 58. 45.100\n",
      "  libavdevice    58. 10.100 / 58. 10.100\n",
      "  libavfilter     7. 85.100 /  7. 85.100\n",
      "  libavresample   4.  0.  0 /  4.  0.  0\n",
      "  libswscale      5.  7.100 /  5.  7.100\n",
      "  libswresample   3.  7.100 /  3.  7.100\n",
      "  libpostproc    55.  7.100 / 55.  7.100\n",
      "Input #0, mov,mp4,m4a,3gp,3g2,mj2, from 'out.mov':\n",
      "  Metadata:\n",
      "    major_brand     : qt  \n",
      "    minor_version   : 512\n",
      "    compatible_brands: qt  \n",
      "    encoder         : Lavf58.45.100\n",
      "  Duration: 00:00:11.82, start: 0.000000, bitrate: 164 kb/s\n",
      "    Stream #0:0: Video: h264 (High) (avc1 / 0x31637661), yuv420p, 1280x720 [SAR 1:1 DAR 16:9], 154 kb/s, 60 fps, 60 tbr, 15360 tbn, 120 tbc (default)\n",
      "    Metadata:\n",
      "      handler_name    : VideoHandler\n",
      "      encoder         : Lavc58.91.100 libx264\n",
      "    Stream #0:1: Audio: aac (LC) (mp4a / 0x6134706D), 44100 Hz, stereo, fltp, 2 kb/s (default)\n",
      "    Metadata:\n",
      "      handler_name    : SoundHandler\n",
      "Stream mapping:\n",
      "  Stream #0:0 -> #0:0 (h264 (native) -> mpeg4 (native))\n",
      "  Stream #0:1 -> #0:1 (aac (native) -> mp3 (libmp3lame))\n",
      "Press [q] to stop, [?] for help\n",
      "Output #0, avi, to 'out.avi':\n",
      "  Metadata:\n",
      "    major_brand     : qt  \n",
      "    minor_version   : 512\n",
      "    compatible_brands: qt  \n",
      "    ISFT            : Lavf58.45.100\n",
      "    Stream #0:0: Video: mpeg4 (FMP4 / 0x34504D46), yuv420p, 1280x720 [SAR 1:1 DAR 16:9], q=2-31, 200 kb/s, 60 fps, 60 tbn, 60 tbc (default)\n",
      "    Metadata:\n",
      "      handler_name    : VideoHandler\n",
      "      encoder         : Lavc58.91.100 mpeg4\n",
      "    Side data:\n",
      "      cpb: bitrate max/min/avg: 0/0/200000 buffer size: 0 vbv_delay: N/A\n",
      "    Stream #0:1: Audio: mp3 (libmp3lame) (U[0][0][0] / 0x0055), 44100 Hz, stereo, fltp (default)\n",
      "    Metadata:\n",
      "      handler_name    : SoundHandler\n",
      "      encoder         : Lavc58.91.100 libmp3lame\n",
      "frame=  709 fps=0.0 q=31.0 Lsize=    1429kB time=00:00:11.81 bitrate= 990.8kbits/s speed=12.5x    \n",
      "video:1335kB audio:64kB subtitle:0kB other streams:0kB global headers:0kB muxing overhead: 2.172445%\n"
     ]
    }
   ],
   "source": [
    "!./concat_folder_png.sh"
   ]
  },
  {
   "cell_type": "code",
   "execution_count": 39,
   "metadata": {
    "ExecuteTime": {
     "end_time": "2020-12-11T07:19:52.409205Z",
     "start_time": "2020-12-11T07:19:51.971690Z"
    },
    "scrolled": true
   },
   "outputs": [
    {
     "data": {
      "text/plain": [
       "0"
      ]
     },
     "execution_count": 39,
     "metadata": {},
     "output_type": "execute_result"
    }
   ],
   "source": [
    "assert(os.path.exists(vid_in_fn))\n",
    "destination = shutil.copyfile(vid_in_fn, vid_out_fn) \n",
    "beep(2)"
   ]
  },
  {
   "cell_type": "code",
   "execution_count": 40,
   "metadata": {
    "ExecuteTime": {
     "end_time": "2020-12-11T07:19:52.918858Z",
     "start_time": "2020-12-11T07:19:52.888545Z"
    }
   },
   "outputs": [
    {
     "data": {
      "text/plain": [
       "True"
      ]
     },
     "execution_count": 40,
     "metadata": {},
     "output_type": "execute_result"
    }
   ],
   "source": [
    "os.path.exists(vid_out_fn)"
   ]
  },
  {
   "cell_type": "code",
   "execution_count": 41,
   "metadata": {
    "ExecuteTime": {
     "end_time": "2020-12-11T07:19:53.400129Z",
     "start_time": "2020-12-11T07:19:53.377855Z"
    }
   },
   "outputs": [
    {
     "data": {
      "text/plain": [
       "'avi_ns_asynch_fixed_lr_spherical_mesh_64_mu_1.0_lambda_10.0_gamma_0.05vscale_2.0_stepsizeinit_0.0001_salience_2_atolx_0.0001.mov'"
      ]
     },
     "execution_count": 41,
     "metadata": {},
     "output_type": "execute_result"
    }
   ],
   "source": [
    "vid_out_fn"
   ]
  },
  {
   "cell_type": "code",
   "execution_count": null,
   "metadata": {
    "ExecuteTime": {
     "end_time": "2020-12-10T06:41:31.175983Z",
     "start_time": "2020-12-10T06:41:30.982798Z"
    }
   },
   "outputs": [],
   "source": []
  },
  {
   "cell_type": "code",
   "execution_count": null,
   "metadata": {},
   "outputs": [],
   "source": []
  }
 ],
 "metadata": {
  "kernelspec": {
   "display_name": "Python 3",
   "language": "python",
   "name": "python3"
  },
  "language_info": {
   "codemirror_mode": {
    "name": "ipython",
    "version": 3
   },
   "file_extension": ".py",
   "mimetype": "text/x-python",
   "name": "python",
   "nbconvert_exporter": "python",
   "pygments_lexer": "ipython3",
   "version": "3.8.6"
  },
  "varInspector": {
   "cols": {
    "lenName": 16,
    "lenType": 16,
    "lenVar": 40
   },
   "kernels_config": {
    "python": {
     "delete_cmd_postfix": "",
     "delete_cmd_prefix": "del ",
     "library": "var_list.py",
     "varRefreshCmd": "print(var_dic_list())"
    },
    "r": {
     "delete_cmd_postfix": ") ",
     "delete_cmd_prefix": "rm(",
     "library": "var_list.r",
     "varRefreshCmd": "cat(var_dic_list()) "
    }
   },
   "types_to_exclude": [
    "module",
    "function",
    "builtin_function_or_method",
    "instance",
    "_Feature"
   ],
   "window_display": false
  }
 },
 "nbformat": 4,
 "nbformat_minor": 4
}
