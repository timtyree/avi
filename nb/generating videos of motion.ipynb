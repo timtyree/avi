{
 "cells": [
  {
   "cell_type": "markdown",
   "metadata": {},
   "source": [
    "# generating videos of motion\n",
    "Tim Tyree<br>\n",
    "12.6.2020"
   ]
  },
  {
   "cell_type": "code",
   "execution_count": 1,
   "metadata": {
    "ExecuteTime": {
     "end_time": "2020-12-14T18:08:30.316940Z",
     "start_time": "2020-12-14T18:08:27.055360Z"
    }
   },
   "outputs": [
    {
     "name": "stdout",
     "output_type": "stream",
     "text": [
      "Automatic calling is: Smart\n"
     ]
    }
   ],
   "source": [
    "%matplotlib inline\n",
    "from lib.my_initialization import *\n",
    "from lib.controller.integrate_forward_dormand_prince_asynchronous import *\n",
    "from lib.controller.integrate_forward_implicit_asynchronous import *\n",
    "%autocall 1\n",
    "%load_ext autoreload\n",
    "%autoreload 2\n"
   ]
  },
  {
   "cell_type": "markdown",
   "metadata": {},
   "source": [
    "# import mesh"
   ]
  },
  {
   "cell_type": "code",
   "execution_count": 2,
   "metadata": {
    "ExecuteTime": {
     "end_time": "2020-12-14T18:08:31.559063Z",
     "start_time": "2020-12-14T18:08:30.319207Z"
    }
   },
   "outputs": [
    {
     "name": "stderr",
     "output_type": "stream",
     "text": [
      "face_normals all zero, ignoring!\n"
     ]
    },
    {
     "name": "stdout",
     "output_type": "stream",
     "text": [
      "['element_array_time', 'element_array_index', 'element_array_mass', 'element_array_volume', 'element_array_inverse_equilibrium_position', 'node_array_equilibrium_position', 'node_array_time', 'node_array_position', 'node_array_momentum', 'node_array_mass', 'node_array_volume']\n"
     ]
    }
   ],
   "source": [
    "#define Lamé parameters\n",
    "mu = 1.; lam = 10.; \n",
    "#define coefficient for Rayleigh damping\n",
    "gamma = .0#1.#1.;\n",
    "#define adaptive time stepping absolute tolerances\n",
    "salience = 2#128#32\n",
    "learning_rate = np.log(salience) #np.log(16) #np.log(2)\n",
    "lasso_fraction = 0.5#0.5\n",
    "v_scale = 2.\n",
    "mass_density=1.\n",
    "stepsize_init = 0.0001#0.00001  #0.0001\n",
    "atol_x = 1e-08#0.0001#0.001#1e-7; \n",
    "atol_v = 1e-08#0.0001#0.001#1e-7; \n",
    "btol_x = 1e-09#0.00001#0.001#1e-10; \n",
    "btol_v = 1e-09#0.00001#0.001#1e-10; \n",
    "input_file_name = f'../data/spherical_meshes/spherical_mesh_400.stl'#path to mesh\n",
    "# input_file_name = f'../data/spherical_meshes/spherical_mesh_64.stl'#path to mesh\n",
    "data_folder =  os.path.join(nb_dir,'../data/mov_csv')#where to save results\n",
    "\n",
    "\n",
    "data_fn = f\"newmark_asynch_fixed_lr_{os.path.basename(input_file_name).replace('.stl',f'_mu_{mu}_lambda_{lam}_gamma_{gamma}vscale_{v_scale}_stepsizeinit_{stepsize_init}')}_salience_{salience}_atolx_{atol_x}.csv\"\n",
    "TEXTfoo = lambda N_vertices,N_elements: f\"\"\"\n",
    "TEXT=$'an inward squish\n",
    "        Asynchronous Variational Integrator \n",
    "        Explicit Newmark Method\n",
    "        \n",
    "        Undamped Neohookean Model\n",
    "        mu {mu}  lambda {lam} gamma {gamma}\n",
    "        \n",
    "        Spherical Mesh\n",
    "        Num. Vertices {N_vertices}\n",
    "        Num. Elements {N_elements}\n",
    "'\"\"\"\n",
    "\n",
    "# data_fn = f\"avi_esynchronous_fixed_lr_a_equal_b_{os.path.basename(input_file_name).replace('.stl',f'_mu_{mu}_lambda_{lam}_gamma_{gamma}_vscale_{v_scale}_stepsizeinit_{stepsize_init}')}_salience_{salience}_atolx_{atol_x}.csv\"\n",
    "# data_fn = f\"avi_ns_fixed_lr_a_equal_b_{os.path.basename(input_file_name).replace('.stl',f'_mu_{mu}_lambda_{lam}_gamma_{gamma}vscale_{v_scale}_stepsizeinit_{stepsize_init}')}_salience_{salience}_atolx_{atol_x}.csv\"\n",
    "# data_fn = f\"dormand_prince_synch_fixed_lr_{os.path.basename(input_file_name).replace('.stl',f'_mu_{mu}_lambda_{lam}_gamma_{gamma}vscale_{v_scale}_stepsizeinit_{stepsize_init}')}_salience_{salience}_atolx_{atol_x}.csv\"\n",
    "save_folder_vid = '../vid/tmp'\n",
    "folder_vid = '../vid'\n",
    "# data_fn_counts = data_fn.replace(\"s_\",\"s_counts_\").replace('.csv','.npz')\n",
    "data_fn_counts = data_fn.replace(\"s_\",\"s_counts_\").replace('.csv','.npy')\n",
    "os.chdir(nb_dir)\n",
    "# input_file_name = f'../data/spherical_meshes/spherical_mesh_64.stl'input_file_name = f'../data/spherical_meshes/spherical_mesh_64.stl'\n",
    "# input_file_name = f'../data/spherical_meshes/spherical_mesh_1000.stl'\n",
    "input_file_name = os.path.join(nb_dir,input_file_name)\n",
    "tme = 0.\n",
    "dict_values_system = initialize_system(input_file_name, time_initial=tme, mass_density=mass_density)\n",
    "locals().update(dict_values_system)\n",
    "N_elements = element_array_index.shape[0]\n",
    "N_vertices = node_array_position.shape[0]\n",
    "TEXT = TEXTfoo(N_vertices,N_elements)\n",
    "print(list(dict_values_system.keys()))\n",
    "\n",
    "#header to start of video\n",
    "# TEXT = '''TEXT=$'Synchronous Variational Integrator\\nDamped Neohookean Model\\n(inward squish)''''\n",
    "# TEXT = f\"\"\"\n",
    "# TEXT=$'an inward squish\n",
    "#         Synchronous Variational Integrator \n",
    "#         Explicit Newmark Method\n",
    "        \n",
    "#         Undamped Neohookean Model\n",
    "#         mu {mu}  lambda {lam} gamma {gamma}\n",
    "        \n",
    "#         Spherical Mesh\n",
    "#         Num. Vertices {N_vertices}\n",
    "#         Num. Elements {N_elements}\n",
    "# '\"\"\"\n",
    "\n",
    "#write header to file\n",
    "# print(TEXT)\n",
    "# Dormand–Prince Method\n",
    "# Explicit Newmark Method\n",
    "# Implicit Midpoint Rule"
   ]
  },
  {
   "cell_type": "markdown",
   "metadata": {},
   "source": [
    "# Explicit/Implicit Synchronous/Asynchronous Variational Integrator\n",
    "\n",
    "- Mesh = solid sphere discretized by tetrahedra \n",
    "- Forces = neohookean hyperelastic material with rayleigh damping\n",
    "- Initialization = inward initial velocity by an amount proportional to the x coordinate."
   ]
  },
  {
   "cell_type": "code",
   "execution_count": 3,
   "metadata": {
    "ExecuteTime": {
     "end_time": "2020-12-14T18:08:31.590996Z",
     "start_time": "2020-12-14T18:08:31.560794Z"
    }
   },
   "outputs": [
    {
     "name": "stdout",
     "output_type": "stream",
     "text": [
      "learning_bins are [3.05175781e-09 6.10351563e-09 1.22070313e-08 2.44140625e-08\n",
      " 4.88281250e-08 9.76562500e-08 1.95312500e-07 3.90625000e-07\n",
      " 7.81250000e-07 1.56250000e-06 3.12500000e-06 6.25000000e-06\n",
      " 1.25000000e-05 2.50000000e-05 5.00000000e-05 1.00000000e-04\n",
      " 2.00000000e-04 4.00000000e-04 8.00000000e-04 1.60000000e-03\n",
      " 3.20000000e-03 6.40000000e-03 1.28000000e-02 2.56000000e-02\n",
      " 5.12000000e-02 1.02400000e-01 2.04800000e-01 4.09600000e-01\n",
      " 8.19200000e-01 1.63840000e+00]\n"
     ]
    }
   ],
   "source": [
    "#initialize system\n",
    "tauK = element_array_time\n",
    "tau = node_array_time\n",
    "\n",
    "#get method of computing elastic forces \n",
    "zero_mat = np.zeros((4,3))\n",
    "# calc_P = get_calc_P(mu, lam)\n",
    "# compute_nodal_damping_forces  = get_compute_nodal_damping_forces(mu,lam,gamma)\n",
    "# comp_nodal_elastic_forces = get_comp_nodal_elastic_forces(mu, lam)\n",
    "\n",
    "elements = element_array_index\n",
    "vertices = node_array_position\n",
    "\n",
    "#initialize stepsizes of simulation\n",
    "element_array_stepsize = np.zeros_like(element_array_time) + stepsize_init\n",
    "element_array_count_calls_one_step = np.zeros_like(element_array_time,dtype=int)\n",
    "element_array_count_config_updates = np.zeros_like(element_array_time,dtype=int)\n",
    "momentum = node_array_momentum.copy()\n",
    "velocities = momentum.copy()\n",
    "for j in range(N_vertices):\n",
    "    velocities[j] /= node_array_mass[j]\n",
    "\n",
    "\n",
    "# #perturb momentum in the x direction and let it run overnight with a small timestep  \n",
    "velocities[:,0] = -v_scale * vertices[:,0].copy()\n",
    "\n",
    "#initialize containers of measures\n",
    "volume_lst = []\n",
    "energy_lst = []\n",
    "tme_lst    = []\n",
    "stepsize_mean_lst   = []\n",
    "stepsize_std_lst    = []\n",
    "stepsize_median_lst = []\n",
    "stepsize_count_lst = []\n",
    "frac_lb = lambda i: np.exp(learning_rate*i)  ##np.exp((i+.5)*learning_rate/10)\n",
    "learning_bins = np.array([stepsize_init*frac_lb(i) for i in np.arange(-15,15)])\n",
    "\n",
    "# learning_bins = np.array([stepsize_init*np.exp((i+.5)*learning_rate) for i in np.arange(-3,3)])\n",
    "print(f\"learning_bins are {learning_bins}\")"
   ]
  },
  {
   "cell_type": "code",
   "execution_count": 4,
   "metadata": {
    "ExecuteTime": {
     "end_time": "2020-12-14T18:08:31.620128Z",
     "start_time": "2020-12-14T18:08:31.593261Z"
    }
   },
   "outputs": [],
   "source": [
    "#choose your fighter\n",
    "# integrate_system_explicit_synchronous = get_integrate_system_explicit_synchronous(mu,lam,gamma)\n",
    "integrate_system_explicit_asynchronous = get_integrate_system_explicit_asynchronous(mu,lam,gamma)\n",
    "# integrate_system_implicit_synchronous = get_integrate_system_implicit_synchronous(mu,lam,gamma,num_iter=30)\n",
    "# integrate_system_implicit_asynchronous = get_integrate_system_implicit_asynchronous(mu,lam,gamma)\n",
    "# integrate_system_dormand_prince_synchronous = get_integrate_system_dormand_prince_synchronous(mu,lam,gamma)\n",
    "# integrate_system_dormand_prince_asynchronous = get_integrate_system_dormand_prince_asynchronous(mu,lam,gamma,atol_x, atol_v, btol_x, btol_v,learning_rate, lasso_fraction)\n",
    "\n",
    "\n",
    "#(optional) #view the mesh\n",
    "# plot_mesh(vertices, input_file_name=input_file_name, darkmode=True)"
   ]
  },
  {
   "cell_type": "code",
   "execution_count": 5,
   "metadata": {
    "ExecuteTime": {
     "end_time": "2020-12-14T18:08:31.646002Z",
     "start_time": "2020-12-14T18:08:31.622549Z"
    }
   },
   "outputs": [],
   "source": [
    "# def get_integrate_system(mode):\n",
    "#     if mode==0:\n",
    "#         return integrate_system_explicit_synchronous(tf, element_array_time, element_array_stepsize, node_array_time,element_array_index, vertices, velocities,node_array_mass, element_array_inverse_equilibrium_position)\n",
    "#     #     integrate_system_explicit_asynchronous(tf, element_array_time, element_array_stepsize, node_array_time,element_array_index, vertices, velocities, node_array_mass, element_array_inverse_equilibrium_position, atol_x, atol_v, btol_x, btol_v, learning_rate)\n",
    "#     #     integrate_system_implicit_synchronous(tf, element_array_time, element_array_stepsize, node_array_time,element_array_index, vertices, velocities,node_array_mass, element_array_inverse_equilibrium_position)\n",
    "#     #     integrate_system_implicit_asynchronous(tf, element_array_time, element_array_stepsize, node_array_time,      element_array_index, vertices, velocities, node_array_mass, element_array_inverse_equilibrium_position, atol_x, atol_v, btol_x, btol_v, learning_rate)\n",
    "# #     integrate_system_dormand_prince_synchronous(tf,element_array_time,element_array_stepsize,node_array_time,element_array_index,vertices,velocities, node_array_mass,element_array_inverse_equilibrium_position,element_array_mass)\n",
    "# #     integrate_system_dormand_prince_asynchronous(tf,element_array_time,element_array_stepsize,node_array_time,element_array_index,vertices,velocities, node_array_mass,element_array_inverse_equilibrium_position,element_array_mass)\n"
   ]
  },
  {
   "cell_type": "code",
   "execution_count": 6,
   "metadata": {
    "ExecuteTime": {
     "end_time": "2020-12-14T18:08:31.676605Z",
     "start_time": "2020-12-14T18:08:31.647751Z"
    }
   },
   "outputs": [],
   "source": [
    "#prepare for video\n",
    "frameno = 1\n",
    "time_between_observations = 0.01\n",
    "time_of_next_observation = tme + time_between_observations\n",
    "os.chdir(nb_dir)\n",
    "os.chdir(folder_vid)\n",
    "with open(\"mov/text.txt\", \"w\") as file:\n",
    "    file.write(TEXT)\n",
    "    file.close()\n",
    "\n",
    "#empty temp folder\n",
    "os.chdir(nb_dir)\n",
    "os.chdir(folder_vid)\n",
    "folnm = os.path.basename(save_folder_vid)\n",
    "shutil.rmtree(folnm)\n",
    "os.mkdir(folnm)"
   ]
  },
  {
   "cell_type": "code",
   "execution_count": 7,
   "metadata": {
    "ExecuteTime": {
     "end_time": "2020-12-15T05:58:50.128512Z",
     "start_time": "2020-12-14T18:08:31.680767Z"
    }
   },
   "outputs": [
    {
     "name": "stderr",
     "output_type": "stream",
     "text": [
      "/Users/timothytyree/Documents/GitHub/avi/nb/lib/controller/integrate_forward_explicit_asynchronous.py:45: NumbaPerformanceWarning: '@' is faster on contiguous arrays, called on (array(float64, 2d, C), array(float64, 2d, A))\n",
      "  next_stepsize, retval, madval = step_forward_and_learn_simple(K_index, t_given, node_array_time, element_array_time, vertices, velocities, element_array_index,\n",
      "/Users/timothytyree/Documents/GitHub/avi/nb/lib/measure/mesh_measures.py:35: NumbaPerformanceWarning: '@' is faster on contiguous arrays, called on (array(float64, 2d, C), array(float64, 2d, A))\n",
      "  element_array_energy = comp_element_array_energy(N_elements, element_array_mass, velocities, vertices,\n"
     ]
    },
    {
     "ename": "KeyboardInterrupt",
     "evalue": "",
     "output_type": "error",
     "traceback": [
      "\u001b[0;31m---------------------------------------------------------------------------\u001b[0m",
      "\u001b[0;31mKeyboardInterrupt\u001b[0m                         Traceback (most recent call last)",
      "\u001b[0;32m<ipython-input-7-74e82dfa88f6>\u001b[0m in \u001b[0;36m<module>\u001b[0;34m\u001b[0m\n\u001b[1;32m      7\u001b[0m     \u001b[0;31m#integrate forward to the next time of observation\u001b[0m\u001b[0;34m\u001b[0m\u001b[0;34m\u001b[0m\u001b[0;34m\u001b[0m\u001b[0m\n\u001b[1;32m      8\u001b[0m     \u001b[0;31m#     integrate_system_explicit_synchronous(tf, element_array_time, element_array_stepsize, node_array_time,element_array_index, vertices, velocities,node_array_mass, element_array_inverse_equilibrium_position)\u001b[0m\u001b[0;34m\u001b[0m\u001b[0;34m\u001b[0m\u001b[0;34m\u001b[0m\u001b[0m\n\u001b[0;32m----> 9\u001b[0;31m     \u001b[0mintegrate_system_explicit_asynchronous\u001b[0m\u001b[0;34m(\u001b[0m\u001b[0mtf\u001b[0m\u001b[0;34m,\u001b[0m \u001b[0melement_array_time\u001b[0m\u001b[0;34m,\u001b[0m \u001b[0melement_array_stepsize\u001b[0m\u001b[0;34m,\u001b[0m \u001b[0mnode_array_time\u001b[0m\u001b[0;34m,\u001b[0m\u001b[0melement_array_index\u001b[0m\u001b[0;34m,\u001b[0m \u001b[0mvertices\u001b[0m\u001b[0;34m,\u001b[0m \u001b[0mvelocities\u001b[0m\u001b[0;34m,\u001b[0m \u001b[0mnode_array_mass\u001b[0m\u001b[0;34m,\u001b[0m \u001b[0melement_array_inverse_equilibrium_position\u001b[0m\u001b[0;34m,\u001b[0m \u001b[0matol_x\u001b[0m\u001b[0;34m,\u001b[0m \u001b[0matol_v\u001b[0m\u001b[0;34m,\u001b[0m \u001b[0mbtol_x\u001b[0m\u001b[0;34m,\u001b[0m \u001b[0mbtol_v\u001b[0m\u001b[0;34m,\u001b[0m \u001b[0mlearning_rate\u001b[0m\u001b[0;34m)\u001b[0m\u001b[0;34m\u001b[0m\u001b[0;34m\u001b[0m\u001b[0m\n\u001b[0m\u001b[1;32m     10\u001b[0m     \u001b[0;31m#     integrate_system_implicit_synchronous(tf, element_array_time, element_array_stepsize, node_array_time,element_array_index, vertices, velocities,node_array_mass, element_array_inverse_equilibrium_position)\u001b[0m\u001b[0;34m\u001b[0m\u001b[0;34m\u001b[0m\u001b[0;34m\u001b[0m\u001b[0m\n\u001b[1;32m     11\u001b[0m     \u001b[0;31m#     integrate_system_implicit_asynchronous(tf, element_array_time, element_array_stepsize, node_array_time,      element_array_index, vertices, velocities, node_array_mass, element_array_inverse_equilibrium_position, atol_x, atol_v, btol_x, btol_v, learning_rate)\u001b[0m\u001b[0;34m\u001b[0m\u001b[0;34m\u001b[0m\u001b[0;34m\u001b[0m\u001b[0m\n",
      "\u001b[0;31mKeyboardInterrupt\u001b[0m: "
     ]
    }
   ],
   "source": [
    "#ready... get set... GO!\n",
    "os.chdir(nb_dir)\n",
    "os.chdir(save_folder_vid)\n",
    "time_end_recording = 10#.2\n",
    "while time_of_next_observation <= time_end_recording:\n",
    "    tf = time_of_next_observation\n",
    "    #integrate forward to the next time of observation\n",
    "    #     integrate_system_explicit_synchronous(tf, element_array_time, element_array_stepsize, node_array_time,element_array_index, vertices, velocities,node_array_mass, element_array_inverse_equilibrium_position)\n",
    "    integrate_system_explicit_asynchronous(tf, element_array_time, element_array_stepsize, node_array_time,element_array_index, vertices, velocities, node_array_mass, element_array_inverse_equilibrium_position, atol_x, atol_v, btol_x, btol_v, learning_rate)\n",
    "    #     integrate_system_implicit_synchronous(tf, element_array_time, element_array_stepsize, node_array_time,element_array_index, vertices, velocities,node_array_mass, element_array_inverse_equilibrium_position)\n",
    "    #     integrate_system_implicit_asynchronous(tf, element_array_time, element_array_stepsize, node_array_time,      element_array_index, vertices, velocities, node_array_mass, element_array_inverse_equilibrium_position, atol_x, atol_v, btol_x, btol_v, learning_rate)\n",
    "#     integrate_system_dormand_prince_synchronous(tf,element_array_time,element_array_stepsize,node_array_time,element_array_index,vertices,velocities, node_array_mass,element_array_inverse_equilibrium_position,element_array_mass)\n",
    "#     integrate_system_dormand_prince_asynchronous(tf,element_array_time,element_array_stepsize,node_array_time,element_array_index,vertices,velocities, node_array_mass,element_array_inverse_equilibrium_position,element_array_mass)\n",
    "\n",
    "    #update a copy of all positions to the observation time using the current velocity\n",
    "    x = vertices.copy()\n",
    "    for a in range(N_vertices):\n",
    "        x[a] += velocities[a] * (tf - tau[a])\n",
    "    \n",
    "    #measure observables\n",
    "    ##mesh measures\n",
    "    net_volume = compute_net_volume(x, element_array_index)\n",
    "    net_energy = compute_net_energy(N_elements, element_array_mass, velocities, x, #vertices,\n",
    "                                  element_array_index, element_array_inverse_equilibrium_position, mu, lam)\n",
    "    ##stepsize measures\n",
    "    stepsize_mean = np.mean(element_array_stepsize)\n",
    "    stepsize_std = np.std(element_array_stepsize)\n",
    "    stepsize_median = np.median(element_array_stepsize)\n",
    "\n",
    "    #record observables\n",
    "    volume_lst.append(net_volume)\n",
    "    energy_lst.append(net_energy)\n",
    "    tme = tf\n",
    "    tme_lst.append(tme)\n",
    "    stepsize_mean_lst.append(stepsize_mean)\n",
    "    stepsize_std_lst.append(stepsize_std)\n",
    "    stepsize_median_lst.append(stepsize_median)\n",
    "    stepsize_count_lst.append(count_array(array = element_array_stepsize,bins=learning_bins))\n",
    "    #record image of system\n",
    "    try:\n",
    "        img = get_img_of_system(vertices, input_file_name, darkmode = False, text=f'time={tf:.2f}')\n",
    "    except:\n",
    "        pass\n",
    "    save_fn_img = f'img{frameno:09}.png'\n",
    "    frameno += 1\n",
    "    Img = Image.fromarray(img)\n",
    "    Img.save(save_fn_img)\n",
    "    del Img\n",
    "    #increment time_of_next_observation\n",
    "    time_of_next_observation += time_between_observations\n",
    "    #TODO(later): do something that makes a boring video less boring\n",
    "    #TODO(later): def element_array_count_calls_one_step to the call of integrate_system_.... i.e. Keep track of how many times each element is called to time step\n",
    "    #TODO(later): keep track of how many times each element config is updated with element_array_count_config_updates\n",
    "print(stepsize_mean, stepsize_std, stepsize_median)\n",
    "beep(3)"
   ]
  },
  {
   "cell_type": "code",
   "execution_count": 8,
   "metadata": {
    "ExecuteTime": {
     "end_time": "2020-12-15T09:06:28.294655Z",
     "start_time": "2020-12-15T09:06:28.021967Z"
    }
   },
   "outputs": [
    {
     "name": "stdout",
     "output_type": "stream",
     "text": [
      "3.419999999999971\n",
      "2.2977576438099592e-05\n",
      "2.5746479913388804e-05\n",
      "0.0001\n"
     ]
    },
    {
     "data": {
      "text/plain": [
       "3.4099999999999713"
      ]
     },
     "execution_count": 8,
     "metadata": {},
     "output_type": "execute_result"
    }
   ],
   "source": [
    "print(time_of_next_observation)\n",
    "from scipy.stats.mstats import gmean\n",
    "# print(np.hmean(element_array_stepsize), gmean(element_array_stepsize))\n",
    "print(gmean(element_array_stepsize))\n",
    "print(np.mean(element_array_stepsize))\n",
    "print(stepsize_init)\n",
    "tme"
   ]
  },
  {
   "cell_type": "code",
   "execution_count": null,
   "metadata": {
    "ExecuteTime": {
     "end_time": "2020-12-15T09:06:28.342004Z",
     "start_time": "2020-12-15T09:06:28.275Z"
    }
   },
   "outputs": [],
   "source": [
    "fontsize=20\n",
    "plt.figure(figsize=(9,6))\n",
    "plt.hist(element_array_stepsize, bins=100)\n",
    "# Add some text for labels, title and custom x-axis tick labels, etc.\n",
    "plt.ylabel('freq. of time step size',fontsize=fontsize)\n",
    "plt.xlabel('final time step size',fontsize=fontsize)\n",
    "\n",
    "# ax.set_title('Scores by group and gender')\n",
    "# plt.xticks(x)#,fontsize=fontsize)\n",
    "# plt.xticklabels(labels,fontsize=fontsize)\n",
    "# plt.legend(fontsize=fontsize-4)\n",
    "# plt.ylim([0,150])\n",
    "# ax.set_xlabel('time',**axkwargs)\n",
    "# ax.set_ylabel('variance in step size',**axkwargs)\n",
    "plt.tick_params(labelsize=fontsize, labelrotation=20)\n",
    "\n",
    "# ax.set_xlabel('time',**axkwargs)\n",
    "# ax.set_ylabel('volume / initial volume',**axkwargs)\n",
    "# plt.tick_params(labelsize=fontsize)\n",
    "plt.tight_layout()\n",
    "plt.show()"
   ]
  },
  {
   "cell_type": "code",
   "execution_count": 9,
   "metadata": {
    "ExecuteTime": {
     "end_time": "2020-12-15T09:06:28.631246Z",
     "start_time": "2020-12-15T09:06:28.608656Z"
    }
   },
   "outputs": [
    {
     "data": {
      "text/plain": [
       "0.0001"
      ]
     },
     "execution_count": 9,
     "metadata": {},
     "output_type": "execute_result"
    }
   ],
   "source": [
    "# img = get_img_of_system(vertices, input_file_name, darkmode = True, text=f'time={tf:.2f}')\n",
    "# img\n",
    "stepsize_init\n",
    "# plt.tick_params?"
   ]
  },
  {
   "cell_type": "markdown",
   "metadata": {
    "ExecuteTime": {
     "end_time": "2020-12-11T05:53:24.418106Z",
     "start_time": "2020-12-11T04:05:22.777Z"
    }
   },
   "source": [
    "__problem/bug confirmed__ integrate_system_dormand_prince_asynchronous is only decreasing the stepsize values."
   ]
  },
  {
   "cell_type": "markdown",
   "metadata": {},
   "source": [
    " __Verified that__ all variables are changed by the integrator"
   ]
  },
  {
   "cell_type": "markdown",
   "metadata": {},
   "source": [
    "__time is now being updated at the nodes__"
   ]
  },
  {
   "cell_type": "markdown",
   "metadata": {},
   "source": [
    "# save csv of results"
   ]
  },
  {
   "cell_type": "code",
   "execution_count": 10,
   "metadata": {
    "ExecuteTime": {
     "end_time": "2020-12-15T09:06:29.339848Z",
     "start_time": "2020-12-15T09:06:29.297275Z"
    }
   },
   "outputs": [],
   "source": [
    "df = pd.DataFrame({\n",
    "    't':tme_lst,\n",
    "    'volume':volume_lst,\n",
    "    'energy':energy_lst,\n",
    "    'stepsize_mean':stepsize_mean_lst,\n",
    "    'stepsize_std':stepsize_std_lst,\n",
    "    'stepsize_median':stepsize_median_lst,\n",
    "})"
   ]
  },
  {
   "cell_type": "code",
   "execution_count": 11,
   "metadata": {
    "ExecuteTime": {
     "end_time": "2020-12-15T09:06:29.672029Z",
     "start_time": "2020-12-15T09:06:29.636158Z"
    }
   },
   "outputs": [
    {
     "data": {
      "text/html": [
       "<div>\n",
       "<style scoped>\n",
       "    .dataframe tbody tr th:only-of-type {\n",
       "        vertical-align: middle;\n",
       "    }\n",
       "\n",
       "    .dataframe tbody tr th {\n",
       "        vertical-align: top;\n",
       "    }\n",
       "\n",
       "    .dataframe thead th {\n",
       "        text-align: right;\n",
       "    }\n",
       "</style>\n",
       "<table border=\"1\" class=\"dataframe\">\n",
       "  <thead>\n",
       "    <tr style=\"text-align: right;\">\n",
       "      <th></th>\n",
       "      <th>t</th>\n",
       "      <th>volume</th>\n",
       "      <th>energy</th>\n",
       "      <th>stepsize_mean</th>\n",
       "      <th>stepsize_std</th>\n",
       "      <th>stepsize_median</th>\n",
       "    </tr>\n",
       "  </thead>\n",
       "  <tbody>\n",
       "    <tr>\n",
       "      <th>0</th>\n",
       "      <td>0.01</td>\n",
       "      <td>4.046264</td>\n",
       "      <td>1.681751</td>\n",
       "      <td>0.000023</td>\n",
       "      <td>0.000005</td>\n",
       "      <td>0.000025</td>\n",
       "    </tr>\n",
       "    <tr>\n",
       "      <th>1</th>\n",
       "      <td>0.02</td>\n",
       "      <td>3.967735</td>\n",
       "      <td>1.681331</td>\n",
       "      <td>0.000022</td>\n",
       "      <td>0.000005</td>\n",
       "      <td>0.000025</td>\n",
       "    </tr>\n",
       "    <tr>\n",
       "      <th>2</th>\n",
       "      <td>0.03</td>\n",
       "      <td>3.895478</td>\n",
       "      <td>1.680269</td>\n",
       "      <td>0.000023</td>\n",
       "      <td>0.000005</td>\n",
       "      <td>0.000025</td>\n",
       "    </tr>\n",
       "    <tr>\n",
       "      <th>3</th>\n",
       "      <td>0.04</td>\n",
       "      <td>3.831440</td>\n",
       "      <td>1.678425</td>\n",
       "      <td>0.000024</td>\n",
       "      <td>0.000006</td>\n",
       "      <td>0.000025</td>\n",
       "    </tr>\n",
       "    <tr>\n",
       "      <th>4</th>\n",
       "      <td>0.05</td>\n",
       "      <td>3.776593</td>\n",
       "      <td>1.675739</td>\n",
       "      <td>0.000025</td>\n",
       "      <td>0.000008</td>\n",
       "      <td>0.000025</td>\n",
       "    </tr>\n",
       "  </tbody>\n",
       "</table>\n",
       "</div>"
      ],
      "text/plain": [
       "      t    volume    energy  stepsize_mean  stepsize_std  stepsize_median\n",
       "0  0.01  4.046264  1.681751       0.000023      0.000005         0.000025\n",
       "1  0.02  3.967735  1.681331       0.000022      0.000005         0.000025\n",
       "2  0.03  3.895478  1.680269       0.000023      0.000005         0.000025\n",
       "3  0.04  3.831440  1.678425       0.000024      0.000006         0.000025\n",
       "4  0.05  3.776593  1.675739       0.000025      0.000008         0.000025"
      ]
     },
     "execution_count": 11,
     "metadata": {},
     "output_type": "execute_result"
    }
   ],
   "source": [
    "df.head()"
   ]
  },
  {
   "cell_type": "code",
   "execution_count": 12,
   "metadata": {
    "ExecuteTime": {
     "end_time": "2020-12-15T09:06:29.997618Z",
     "start_time": "2020-12-15T09:06:29.977088Z"
    }
   },
   "outputs": [],
   "source": [
    "# x_values = df['t'].values\n",
    "# # y_values = df['volume'].values\n",
    "# y_values = df['energy'].values\n",
    "# plt.plot(x_values, y_values)"
   ]
  },
  {
   "cell_type": "code",
   "execution_count": 13,
   "metadata": {
    "ExecuteTime": {
     "end_time": "2020-12-15T09:06:30.543419Z",
     "start_time": "2020-12-15T09:06:30.300555Z"
    }
   },
   "outputs": [
    {
     "data": {
      "image/png": "[encoded data removed]",
      "text/plain": [
       "<Figure size 432x288 with 1 Axes>"
      ]
     },
     "metadata": {
      "needs_background": "light"
     },
     "output_type": "display_data"
    }
   ],
   "source": [
    "x_values = df['t'].values\n",
    "# y_values = df['volume'].values\n",
    "# y_values = df['energy'].values\n",
    "plt.plot(x_values, df['volume'].values/(4*np.pi*1.**3/3), label='volume/initial volume')\n",
    "plt.plot(x_values, df['energy'].values, label='energy')\n",
    "plt.legend()\n",
    "plt.xlabel('time')\n",
    "plt.ylabel('measurement value')\n",
    "plt.show()"
   ]
  },
  {
   "cell_type": "code",
   "execution_count": null,
   "metadata": {
    "ExecuteTime": {
     "end_time": "2020-12-10T18:26:26.431404Z",
     "start_time": "2020-12-10T18:26:26.388572Z"
    }
   },
   "outputs": [],
   "source": []
  },
  {
   "cell_type": "code",
   "execution_count": 14,
   "metadata": {
    "ExecuteTime": {
     "end_time": "2020-12-15T09:06:30.894788Z",
     "start_time": "2020-12-15T09:06:30.854063Z"
    }
   },
   "outputs": [],
   "source": [
    "# data_fn = f\"avi_ns_a_equal_b_{os.path.basename(input_file_name).replace('.stl',f'_mu_{mu}_lambda_{lam}_gamma_{gamma}vscale_{v_scale}_stepsizeinit_{stepsize_init}')}.csv\"\n",
    "\n",
    "os.chdir(data_folder)\n",
    "df.to_csv(data_fn, index=False)"
   ]
  },
  {
   "cell_type": "code",
   "execution_count": 15,
   "metadata": {
    "ExecuteTime": {
     "end_time": "2020-12-15T09:06:31.216268Z",
     "start_time": "2020-12-15T09:06:31.195013Z"
    }
   },
   "outputs": [
    {
     "name": "stdout",
     "output_type": "stream",
     "text": [
      "results saved as newmark_asynch_fixed_lr_spherical_mesh_400_mu_1.0_lambda_10.0_gamma_0.0vscale_2.0_stepsizeinit_0.0001_salience_2_atolx_1e-08.csv\n"
     ]
    }
   ],
   "source": [
    "print(f'results saved as {data_fn}')"
   ]
  },
  {
   "cell_type": "code",
   "execution_count": 16,
   "metadata": {
    "ExecuteTime": {
     "end_time": "2020-12-15T09:06:31.546644Z",
     "start_time": "2020-12-15T09:06:31.522897Z"
    }
   },
   "outputs": [],
   "source": [
    "np.array(stepsize_count_lst)\n",
    "# np.savez(data_fn_counts)\n",
    "np.save(data_fn_counts, np.array(stepsize_count_lst))"
   ]
  },
  {
   "cell_type": "code",
   "execution_count": null,
   "metadata": {
    "ExecuteTime": {
     "end_time": "2020-12-10T06:07:29.968597Z",
     "start_time": "2020-12-10T06:07:29.899303Z"
    }
   },
   "outputs": [],
   "source": []
  },
  {
   "cell_type": "code",
   "execution_count": 17,
   "metadata": {
    "ExecuteTime": {
     "end_time": "2020-12-15T09:06:31.874171Z",
     "start_time": "2020-12-15T09:06:31.850433Z"
    }
   },
   "outputs": [
    {
     "data": {
      "text/plain": [
       "array([   0,    0,    0,    0,    0,    0,    0,    0,    0,    1,   33,\n",
       "       1036, 2594, 1198,  214,    2,    0,    0,    0,    0,    0,    0,\n",
       "          0,    0,    0,    0,    0,    0,    0])"
      ]
     },
     "execution_count": 17,
     "metadata": {},
     "output_type": "execute_result"
    }
   ],
   "source": [
    "# set(stepsize_count_lst)\n",
    "np.array(stepsize_count_lst[0])\n",
    "np.array(stepsize_count_lst[-1])"
   ]
  },
  {
   "cell_type": "markdown",
   "metadata": {},
   "source": [
    "# compile and save the movie using ffmpeg"
   ]
  },
  {
   "cell_type": "code",
   "execution_count": 18,
   "metadata": {
    "ExecuteTime": {
     "end_time": "2020-12-15T09:06:32.199532Z",
     "start_time": "2020-12-15T09:06:32.178793Z"
    }
   },
   "outputs": [],
   "source": [
    "os.chdir(nb_dir)\n",
    "os.chdir(os.path.dirname(save_folder_vid))\n",
    "vid_in_fn = 'out.mov'\n",
    "vid_out_fn = data_fn.replace('.csv','.mov')"
   ]
  },
  {
   "cell_type": "code",
   "execution_count": 19,
   "metadata": {
    "ExecuteTime": {
     "end_time": "2020-12-15T09:06:45.495928Z",
     "start_time": "2020-12-15T09:06:32.523576Z"
    }
   },
   "outputs": [
    {
     "name": "stdout",
     "output_type": "stream",
     "text": [
      "ffmpeg version 4.3.1 Copyright (c) 2000-2020 the FFmpeg developers\n",
      "  built with Apple clang version 11.0.0 (clang-1100.0.33.17)\n",
      "  configuration: --prefix=/usr/local/Cellar/ffmpeg/4.3.1_4 --enable-shared --enable-pthreads --enable-version3 --enable-avresample --cc=clang --host-cflags= --host-ldflags= --enable-ffplay --enable-gnutls --enable-gpl --enable-libaom --enable-libbluray --enable-libdav1d --enable-libmp3lame --enable-libopus --enable-librav1e --enable-librubberband --enable-libsnappy --enable-libsrt --enable-libtesseract --enable-libtheora --enable-libvidstab --enable-libvorbis --enable-libvpx --enable-libwebp --enable-libx264 --enable-libx265 --enable-libxml2 --enable-libxvid --enable-lzma --enable-libfontconfig --enable-libfreetype --enable-frei0r --enable-libass --enable-libopencore-amrnb --enable-libopencore-amrwb --enable-libopenjpeg --enable-librtmp --enable-libspeex --enable-libsoxr --enable-videotoolbox --disable-libjack --disable-indev=jack\n",
      "  libavutil      56. 51.100 / 56. 51.100\n",
      "  libavcodec     58. 91.100 / 58. 91.100\n",
      "  libavformat    58. 45.100 / 58. 45.100\n",
      "  libavdevice    58. 10.100 / 58. 10.100\n",
      "  libavfilter     7. 85.100 /  7. 85.100\n",
      "  libavresample   4.  0.  0 /  4.  0.  0\n",
      "  libswscale      5.  7.100 /  5.  7.100\n",
      "  libswresample   3.  7.100 /  3.  7.100\n",
      "  libpostproc    55.  7.100 / 55.  7.100\n",
      "Input #0, image2, from 'tmp/img%09d.png':\n",
      "  Duration: 00:00:13.64, start: 0.000000, bitrate: N/A\n",
      "    Stream #0:0: Video: png, rgb24(pc), 1280x720, 25 fps, 25 tbr, 25 tbn, 25 tbc\n",
      "Stream mapping:\n",
      "  Stream #0:0 -> #0:0 (png (native) -> h264 (libx264))\n",
      "Press [q] to stop, [?] for help\n",
      "\u001b[1;36m[libx264 @ 0x7fec20809c00] \u001b[0musing cpu capabilities: MMX2 SSE2Fast SSSE3 SSE4.2 AVX FMA3 BMI2 AVX2\n",
      "\u001b[1;36m[libx264 @ 0x7fec20809c00] \u001b[0mprofile High 4:4:4 Predictive, level 3.2, 4:4:4, 8-bit\n",
      "Output #0, mpegts, to 'mov/tmp/tmp.MTS':\n",
      "  Metadata:\n",
      "    encoder         : Lavf58.45.100\n",
      "    Stream #0:0: Video: h264 (libx264), yuv444p, 1280x720, q=-1--1, 60 fps, 90k tbn, 60 tbc\n",
      "    Metadata:\n",
      "      encoder         : Lavc58.91.100 libx264\n",
      "    Side data:\n",
      "      cpb: bitrate max/min/avg: 0/0/0 buffer size: 0 vbv_delay: N/A\n",
      "frame=  818 fps=191 q=-1.0 Lsize=     784kB time=00:00:13.58 bitrate= 472.7kbits/s speed=3.17x    \n",
      "video:612kB audio:0kB subtitle:0kB other streams:0kB global headers:0kB muxing overhead: 28.163601%\n",
      "\u001b[1;36m[libx264 @ 0x7fec20809c00] \u001b[0mframe I:4     Avg QP:17.48  size:  8872\n",
      "\u001b[1;36m[libx264 @ 0x7fec20809c00] \u001b[0mframe P:206   Avg QP:22.86  size:  2092\n",
      "\u001b[1;36m[libx264 @ 0x7fec20809c00] \u001b[0mframe B:608   Avg QP:29.96  size:   263\n",
      "\u001b[1;36m[libx264 @ 0x7fec20809c00] \u001b[0mconsecutive B-frames:  0.9%  0.0%  0.4% 98.8%\n",
      "\u001b[1;36m[libx264 @ 0x7fec20809c00] \u001b[0mmb I  I16..4:  1.1% 89.9%  9.0%\n",
      "\u001b[1;36m[libx264 @ 0x7fec20809c00] \u001b[0mmb P  I16..4:  1.0%  3.0%  0.7%  P16..4:  5.6%  1.8%  0.6%  0.0%  0.0%    skip:87.3%\n",
      "\u001b[1;36m[libx264 @ 0x7fec20809c00] \u001b[0mmb B  I16..4:  0.0%  0.1%  0.0%  B16..8:  4.9%  0.2%  0.0%  direct: 0.0%  skip:94.8%  L0:49.7% L1:47.8% BI: 2.6%\n",
      "\u001b[1;36m[libx264 @ 0x7fec20809c00] \u001b[0m8x8 transform intra:72.1% inter:68.7%\n",
      "\u001b[1;36m[libx264 @ 0x7fec20809c00] \u001b[0mcoded y,u,v intra: 16.3% 1.4% 1.6% inter: 0.7% 0.0% 0.0%\n",
      "\u001b[1;36m[libx264 @ 0x7fec20809c00] \u001b[0mi16 v,h,dc,p: 62% 18% 16%  4%\n",
      "\u001b[1;36m[libx264 @ 0x7fec20809c00] \u001b[0mi8 v,h,dc,ddl,ddr,vr,hd,vl,hu: 40% 10% 29%  3%  5%  6%  4%  2%  2%\n",
      "\u001b[1;36m[libx264 @ 0x7fec20809c00] \u001b[0mi4 v,h,dc,ddl,ddr,vr,hd,vl,hu: 31% 18% 26%  4%  6%  7%  4%  3%  2%\n",
      "\u001b[1;36m[libx264 @ 0x7fec20809c00] \u001b[0mWeighted P-Frames: Y:0.0% UV:0.0%\n",
      "\u001b[1;36m[libx264 @ 0x7fec20809c00] \u001b[0mref P L0: 61.2% 20.0% 12.9%  6.0%\n",
      "\u001b[1;36m[libx264 @ 0x7fec20809c00] \u001b[0mref B L0: 89.0%  8.6%  2.4%\n",
      "\u001b[1;36m[libx264 @ 0x7fec20809c00] \u001b[0mref B L1: 96.9%  3.1%\n",
      "\u001b[1;36m[libx264 @ 0x7fec20809c00] \u001b[0mkb/s:367.46\n",
      "ffmpeg version 4.3.1 Copyright (c) 2000-2020 the FFmpeg developers\n",
      "  built with Apple clang version 11.0.0 (clang-1100.0.33.17)\n",
      "  configuration: --prefix=/usr/local/Cellar/ffmpeg/4.3.1_4 --enable-shared --enable-pthreads --enable-version3 --enable-avresample --cc=clang --host-cflags= --host-ldflags= --enable-ffplay --enable-gnutls --enable-gpl --enable-libaom --enable-libbluray --enable-libdav1d --enable-libmp3lame --enable-libopus --enable-librav1e --enable-librubberband --enable-libsnappy --enable-libsrt --enable-libtesseract --enable-libtheora --enable-libvidstab --enable-libvorbis --enable-libvpx --enable-libwebp --enable-libx264 --enable-libx265 --enable-libxml2 --enable-libxvid --enable-lzma --enable-libfontconfig --enable-libfreetype --enable-frei0r --enable-libass --enable-libopencore-amrnb --enable-libopencore-amrwb --enable-libopenjpeg --enable-librtmp --enable-libspeex --enable-libsoxr --enable-videotoolbox --disable-libjack --disable-indev=jack\n",
      "  libavutil      56. 51.100 / 56. 51.100\n",
      "  libavcodec     58. 91.100 / 58. 91.100\n",
      "  libavformat    58. 45.100 / 58. 45.100\n",
      "  libavdevice    58. 10.100 / 58. 10.100\n",
      "  libavfilter     7. 85.100 /  7. 85.100\n",
      "  libavresample   4.  0.  0 /  4.  0.  0\n",
      "  libswscale      5.  7.100 /  5.  7.100\n",
      "  libswresample   3.  7.100 /  3.  7.100\n",
      "  libpostproc    55.  7.100 / 55.  7.100\n",
      "Input #0, lavfi, from 'color=black:1280x720':\n",
      "  Duration: N/A, start: 0.000000, bitrate: N/A\n",
      "    Stream #0:0: Video: rawvideo (I420 / 0x30323449), yuv420p, 1280x720 [SAR 1:1 DAR 16:9], 25 tbr, 25 tbn, 25 tbc\n",
      "Input #1, lavfi, from 'anullsrc':\n",
      "  Duration: N/A, start: 0.000000, bitrate: 705 kb/s\n",
      "    Stream #1:0: Audio: pcm_u8, 44100 Hz, stereo, u8, 705 kb/s\n",
      "Stream mapping:\n",
      "  Stream #0:0 -> #0:0 (rawvideo (native) -> h264 (libx264))\n",
      "  Stream #1:0 -> #0:1 (pcm_u8 (native) -> aac (native))\n",
      "Press [q] to stop, [?] for help\n",
      "\u001b[1;36m[libx264 @ 0x7fd5ea80a000] \u001b[0musing SAR=1/1\n",
      "\u001b[1;36m[libx264 @ 0x7fd5ea80a000] \u001b[0musing cpu capabilities: MMX2 SSE2Fast SSSE3 SSE4.2 AVX FMA3 BMI2 AVX2\n",
      "\u001b[1;36m[libx264 @ 0x7fd5ea80a000] \u001b[0mprofile High, level 3.2, 4:2:0, 8-bit\n",
      "\u001b[1;36m[libx264 @ 0x7fd5ea80a000] \u001b[0m264 - core 161 r3027 4121277 - H.264/MPEG-4 AVC codec - Copyleft 2003-2020 - http://www.videolan.org/x264.html - options: cabac=1 ref=3 deblock=1:0:0 analyse=0x3:0x113 me=hex subme=7 psy=1 psy_rd=1.00:0.00 mixed_ref=1 me_range=16 chroma_me=1 trellis=1 8x8dct=1 cqm=0 deadzone=21,11 fast_pskip=1 chroma_qp_offset=-2 threads=12 lookahead_threads=2 sliced_threads=0 nr=0 decimate=1 interlaced=0 bluray_compat=0 constrained_intra=0 bframes=3 b_pyramid=2 b_adapt=1 b_bias=0 direct=1 weightb=1 open_gop=0 weightp=2 keyint=250 keyint_min=25 scenecut=40 intra_refresh=0 rc_lookahead=40 rc=abr mbtree=1 bitrate=1000 ratetol=1.0 qcomp=0.60 qpmin=0 qpmax=69 qpstep=4 ip_ratio=1.40 aq=1:1.00\n",
      "Output #0, mp4, to 'mov/tmp/intro.mp4':\n",
      "  Metadata:\n",
      "    encoder         : Lavf58.45.100\n",
      "    Stream #0:0: Video: h264 (libx264) (avc1 / 0x31637661), yuv420p, 1280x720 [SAR 1:1 DAR 16:9], q=-1--1, 1000 kb/s, 60 fps, 5k tbn, 60 tbc\n",
      "    Metadata:\n",
      "      encoder         : Lavc58.91.100 libx264\n",
      "    Side data:\n",
      "      cpb: bitrate max/min/avg: 0/0/1000000 buffer size: 0 vbv_delay: N/A\n",
      "    Stream #0:1: Audio: aac (LC) (mp4a / 0x6134706D), 44100 Hz, stereo, fltp, 128 kb/s\n",
      "    Metadata:\n",
      "      encoder         : Lavc58.91.100 aac\n",
      "frame=  240 fps=0.0 q=-1.0 Lsize=     124kB time=00:00:04.01 bitrate= 251.9kbits/s speed=4.91x    \n",
      "video:113kB audio:1kB subtitle:0kB other streams:0kB global headers:0kB muxing overhead: 7.888227%\n",
      "\u001b[1;36m[libx264 @ 0x7fd5ea80a000] \u001b[0mframe I:1     Avg QP:21.08  size:   220\n",
      "\u001b[1;36m[libx264 @ 0x7fd5ea80a000] \u001b[0mframe P:61    Avg QP:13.99  size:  1390\n",
      "\u001b[1;36m[libx264 @ 0x7fd5ea80a000] \u001b[0mframe B:178   Avg QP:11.67  size:   171\n",
      "\u001b[1;36m[libx264 @ 0x7fd5ea80a000] \u001b[0mconsecutive B-frames:  0.4%  1.7%  1.2% 96.7%\n",
      "\u001b[1;36m[libx264 @ 0x7fd5ea80a000] \u001b[0mmb I  I16..4: 99.7%  0.3%  0.0%\n",
      "\u001b[1;36m[libx264 @ 0x7fd5ea80a000] \u001b[0mmb P  I16..4:  0.3%  0.7%  0.1%  P16..4:  3.3%  0.4%  0.6%  0.0%  0.0%    skip:94.5%\n",
      "\u001b[1;36m[libx264 @ 0x7fd5ea80a000] \u001b[0mmb B  I16..4:  0.4%  0.0%  0.0%  B16..8:  4.9%  0.0%  0.0%  direct: 0.0%  skip:94.6%  L0:54.2% L1:45.0% BI: 0.7%\n",
      "\u001b[1;36m[libx264 @ 0x7fd5ea80a000] \u001b[0mfinal ratefactor: 13.73\n",
      "\u001b[1;36m[libx264 @ 0x7fd5ea80a000] \u001b[0m8x8 transform intra:18.4% inter:47.0%\n",
      "\u001b[1;36m[libx264 @ 0x7fd5ea80a000] \u001b[0mcoded y,uvDC,uvAC intra: 4.3% 0.0% 0.0% inter: 0.5% 0.0% 0.0%\n",
      "\u001b[1;36m[libx264 @ 0x7fd5ea80a000] \u001b[0mi16 v,h,dc,p: 71% 24%  5%  0%\n",
      "\u001b[1;36m[libx264 @ 0x7fd5ea80a000] \u001b[0mi8 v,h,dc,ddl,ddr,vr,hd,vl,hu: 14%  6% 69%  2%  2%  2%  2%  1%  2%\n",
      "\u001b[1;36m[libx264 @ 0x7fd5ea80a000] \u001b[0mi4 v,h,dc,ddl,ddr,vr,hd,vl,hu: 47% 11% 21%  3%  4%  5%  4%  3%  2%\n",
      "\u001b[1;36m[libx264 @ 0x7fd5ea80a000] \u001b[0mi8c dc,h,v,p: 100%  0%  0%  0%\n",
      "\u001b[1;36m[libx264 @ 0x7fd5ea80a000] \u001b[0mWeighted P-Frames: Y:50.8% UV:0.0%\n",
      "\u001b[1;36m[libx264 @ 0x7fd5ea80a000] \u001b[0mref P L0: 88.9%  5.1%  4.7%  0.7%  0.5%\n",
      "\u001b[1;36m[libx264 @ 0x7fd5ea80a000] \u001b[0mref B L0: 72.0% 27.0%  1.0%\n",
      "\u001b[1;36m[libx264 @ 0x7fd5ea80a000] \u001b[0mref B L1: 98.2%  1.8%\n",
      "\u001b[1;36m[libx264 @ 0x7fd5ea80a000] \u001b[0mkb/s:230.94\n"
     ]
    },
    {
     "name": "stdout",
     "output_type": "stream",
     "text": [
      "\u001b[1;36m[aac @ 0x7fd5eb002a00] \u001b[0mQavg: 120.000\n",
      "ffmpeg version 4.3.1 Copyright (c) 2000-2020 the FFmpeg developers\n",
      "  built with Apple clang version 11.0.0 (clang-1100.0.33.17)\n",
      "  configuration: --prefix=/usr/local/Cellar/ffmpeg/4.3.1_4 --enable-shared --enable-pthreads --enable-version3 --enable-avresample --cc=clang --host-cflags= --host-ldflags= --enable-ffplay --enable-gnutls --enable-gpl --enable-libaom --enable-libbluray --enable-libdav1d --enable-libmp3lame --enable-libopus --enable-librav1e --enable-librubberband --enable-libsnappy --enable-libsrt --enable-libtesseract --enable-libtheora --enable-libvidstab --enable-libvorbis --enable-libvpx --enable-libwebp --enable-libx264 --enable-libx265 --enable-libxml2 --enable-libxvid --enable-lzma --enable-libfontconfig --enable-libfreetype --enable-frei0r --enable-libass --enable-libopencore-amrnb --enable-libopencore-amrwb --enable-libopenjpeg --enable-librtmp --enable-libspeex --enable-libsoxr --enable-videotoolbox --disable-libjack --disable-indev=jack\n",
      "  libavutil      56. 51.100 / 56. 51.100\n",
      "  libavcodec     58. 91.100 / 58. 91.100\n",
      "  libavformat    58. 45.100 / 58. 45.100\n",
      "  libavdevice    58. 10.100 / 58. 10.100\n",
      "  libavfilter     7. 85.100 /  7. 85.100\n",
      "  libavresample   4.  0.  0 /  4.  0.  0\n",
      "  libswscale      5.  7.100 /  5.  7.100\n",
      "  libswresample   3.  7.100 /  3.  7.100\n",
      "  libpostproc    55.  7.100 / 55.  7.100\n",
      "Input #0, mov,mp4,m4a,3gp,3g2,mj2, from 'mov/tmp/intro.mp4':\n",
      "  Metadata:\n",
      "    major_brand     : isom\n",
      "    minor_version   : 512\n",
      "    compatible_brands: isomiso2avc1mp41\n",
      "    encoder         : Lavf58.45.100\n",
      "  Duration: 00:00:04.02, start: 0.000000, bitrate: 251 kb/s\n",
      "    Stream #0:0(und): Video: h264 (High) (avc1 / 0x31637661), yuv420p, 1280x720 [SAR 1:1 DAR 16:9], 232 kb/s, 60 fps, 60 tbr, 5k tbn, 120 tbc (default)\n",
      "    Metadata:\n",
      "      handler_name    : VideoHandler\n",
      "    Stream #0:1(und): Audio: aac (LC) (mp4a / 0x6134706D), 44100 Hz, stereo, fltp, 2 kb/s (default)\n",
      "    Metadata:\n",
      "      handler_name    : SoundHandler\n",
      "Stream mapping:\n",
      "  Stream #0:0 -> #0:0 (h264 (native) -> mpeg2video (native))\n",
      "  Stream #0:1 -> #0:1 (aac (native) -> mp2 (native))\n",
      "Press [q] to stop, [?] for help\n",
      "Output #0, mpegts, to 'mov/tmp/clip-1.MTS':\n",
      "  Metadata:\n",
      "    major_brand     : isom\n",
      "    minor_version   : 512\n",
      "    compatible_brands: isomiso2avc1mp41\n",
      "    encoder         : Lavf58.45.100\n",
      "    Stream #0:0(und): Video: mpeg2video (Main), yuv420p, 1280x720 [SAR 1:1 DAR 16:9], q=2-31, 200 kb/s, 60 fps, 90k tbn, 60 tbc (default)\n",
      "    Metadata:\n",
      "      handler_name    : VideoHandler\n",
      "      encoder         : Lavc58.91.100 mpeg2video\n",
      "    Side data:\n",
      "      cpb: bitrate max/min/avg: 0/0/200000 buffer size: 0 vbv_delay: N/A\n",
      "    Stream #0:1(und): Audio: mp2, 44100 Hz, stereo, s16, 384 kb/s (default)\n",
      "    Metadata:\n",
      "      handler_name    : SoundHandler\n",
      "      encoder         : Lavc58.91.100 mp2\n",
      "frame=  240 fps=0.0 q=0.0 Lsize=    3170kB time=00:00:04.01 bitrate=6471.9kbits/s speed=  13x    \n",
      "video:2867kB audio:189kB subtitle:0kB other streams:0kB global headers:0kB muxing overhead: 3.739687%\n",
      "ffmpeg version 4.3.1 Copyright (c) 2000-2020 the FFmpeg developers\n",
      "  built with Apple clang version 11.0.0 (clang-1100.0.33.17)\n",
      "  configuration: --prefix=/usr/local/Cellar/ffmpeg/4.3.1_4 --enable-shared --enable-pthreads --enable-version3 --enable-avresample --cc=clang --host-cflags= --host-ldflags= --enable-ffplay --enable-gnutls --enable-gpl --enable-libaom --enable-libbluray --enable-libdav1d --enable-libmp3lame --enable-libopus --enable-librav1e --enable-librubberband --enable-libsnappy --enable-libsrt --enable-libtesseract --enable-libtheora --enable-libvidstab --enable-libvorbis --enable-libvpx --enable-libwebp --enable-libx264 --enable-libx265 --enable-libxml2 --enable-libxvid --enable-lzma --enable-libfontconfig --enable-libfreetype --enable-frei0r --enable-libass --enable-libopencore-amrnb --enable-libopencore-amrwb --enable-libopenjpeg --enable-librtmp --enable-libspeex --enable-libsoxr --enable-videotoolbox --disable-libjack --disable-indev=jack\n",
      "  libavutil      56. 51.100 / 56. 51.100\n",
      "  libavcodec     58. 91.100 / 58. 91.100\n",
      "  libavformat    58. 45.100 / 58. 45.100\n",
      "  libavdevice    58. 10.100 / 58. 10.100\n",
      "  libavfilter     7. 85.100 /  7. 85.100\n",
      "  libavresample   4.  0.  0 /  4.  0.  0\n",
      "  libswscale      5.  7.100 /  5.  7.100\n",
      "  libswresample   3.  7.100 /  3.  7.100\n",
      "  libpostproc    55.  7.100 / 55.  7.100\n",
      "Input #0, mpegts, from 'mov/tmp/tmp.MTS':\n",
      "  Duration: 00:00:13.63, start: 1.433333, bitrate: 470 kb/s\n",
      "  Program 1 \n",
      "    Metadata:\n",
      "      service_name    : Service01\n",
      "      service_provider: FFmpeg\n",
      "    Stream #0:0[0x100]: Video: h264 (High 4:4:4 Predictive) ([27][0][0][0] / 0x001B), yuv444p(progressive), 1280x720, 60 fps, 60 tbr, 90k tbn, 120 tbc\n",
      "Stream mapping:\n",
      "  Stream #0:0 -> #0:0 (h264 (native) -> mpeg2video (native))\n",
      "Press [q] to stop, [?] for help\n",
      "Output #0, mpegts, to 'mov/tmp/clip-2.MTS':\n",
      "  Metadata:\n",
      "    encoder         : Lavf58.45.100\n",
      "    Stream #0:0: Video: mpeg2video (Main), yuv420p, 1280x720, q=2-31, 200 kb/s, 60 fps, 90k tbn, 60 tbc\n",
      "    Metadata:\n",
      "      encoder         : Lavc58.91.100 mpeg2video\n",
      "    Side data:\n",
      "      cpb: bitrate max/min/avg: 0/0/200000 buffer size: 0 vbv_delay: N/A\n",
      "frame=  818 fps=363 q=0.0 Lsize=    4997kB time=00:00:13.60 bitrate=3010.0kbits/s speed=6.04x    \n",
      "video:4750kB audio:0kB subtitle:0kB other streams:0kB global headers:0kB muxing overhead: 5.205066%\n",
      "ffmpeg version 4.3.1 Copyright (c) 2000-2020 the FFmpeg developers\n",
      "  built with Apple clang version 11.0.0 (clang-1100.0.33.17)\n",
      "  configuration: --prefix=/usr/local/Cellar/ffmpeg/4.3.1_4 --enable-shared --enable-pthreads --enable-version3 --enable-avresample --cc=clang --host-cflags= --host-ldflags= --enable-ffplay --enable-gnutls --enable-gpl --enable-libaom --enable-libbluray --enable-libdav1d --enable-libmp3lame --enable-libopus --enable-librav1e --enable-librubberband --enable-libsnappy --enable-libsrt --enable-libtesseract --enable-libtheora --enable-libvidstab --enable-libvorbis --enable-libvpx --enable-libwebp --enable-libx264 --enable-libx265 --enable-libxml2 --enable-libxvid --enable-lzma --enable-libfontconfig --enable-libfreetype --enable-frei0r --enable-libass --enable-libopencore-amrnb --enable-libopencore-amrwb --enable-libopenjpeg --enable-librtmp --enable-libspeex --enable-libsoxr --enable-videotoolbox --disable-libjack --disable-indev=jack\n",
      "  libavutil      56. 51.100 / 56. 51.100\n",
      "  libavcodec     58. 91.100 / 58. 91.100\n",
      "  libavformat    58. 45.100 / 58. 45.100\n",
      "  libavdevice    58. 10.100 / 58. 10.100\n",
      "  libavfilter     7. 85.100 /  7. 85.100\n",
      "  libavresample   4.  0.  0 /  4.  0.  0\n",
      "  libswscale      5.  7.100 /  5.  7.100\n",
      "  libswresample   3.  7.100 /  3.  7.100\n",
      "  libpostproc    55.  7.100 / 55.  7.100\n",
      "Input #0, concat, from 'mov/list.txt':\n",
      "  Duration: N/A, start: 0.000000, bitrate: N/A\n",
      "    Stream #0:0: Video: mpeg2video (Main) ([2][0][0][0] / 0x0002), yuv420p(tv, progressive), 1280x720 [SAR 1:1 DAR 16:9], 60 fps, 60 tbr, 90k tbn, 90k tbc\n",
      "    Stream #0:1(und): Audio: mp2 ([3][0][0][0] / 0x0003), 44100 Hz, stereo, s16p, 384 kb/s\n",
      "Output #0, mpegts, to 'mov/tmp/tmp2.MTS':\n",
      "  Metadata:\n",
      "    encoder         : Lavf58.45.100\n",
      "    Stream #0:0: Video: mpeg2video (Main) ([2][0][0][0] / 0x0002), yuv420p(tv, progressive), 1280x720 [SAR 1:1 DAR 16:9], q=2-31, 60 fps, 60 tbr, 90k tbn, 90k tbc\n",
      "    Stream #0:1(und): Audio: mp2 ([3][0][0][0] / 0x0003), 44100 Hz, stereo, s16p, 384 kb/s\n",
      "Stream mapping:\n",
      "  Stream #0:0 -> #0:0 (copy)\n",
      "  Stream #0:1 -> #0:1 (copy)\n",
      "Press [q] to stop, [?] for help\n",
      "frame= 1058 fps=0.0 q=-1.0 Lsize=    8167kB time=00:00:17.61 bitrate=3798.8kbits/s speed= 805x    \n",
      "video:7617kB audio:189kB subtitle:0kB other streams:0kB global headers:0kB muxing overhead: 4.631446%\n",
      "ffmpeg version 4.3.1 Copyright (c) 2000-2020 the FFmpeg developers\n",
      "  built with Apple clang version 11.0.0 (clang-1100.0.33.17)\n",
      "  configuration: --prefix=/usr/local/Cellar/ffmpeg/4.3.1_4 --enable-shared --enable-pthreads --enable-version3 --enable-avresample --cc=clang --host-cflags= --host-ldflags= --enable-ffplay --enable-gnutls --enable-gpl --enable-libaom --enable-libbluray --enable-libdav1d --enable-libmp3lame --enable-libopus --enable-librav1e --enable-librubberband --enable-libsnappy --enable-libsrt --enable-libtesseract --enable-libtheora --enable-libvidstab --enable-libvorbis --enable-libvpx --enable-libwebp --enable-libx264 --enable-libx265 --enable-libxml2 --enable-libxvid --enable-lzma --enable-libfontconfig --enable-libfreetype --enable-frei0r --enable-libass --enable-libopencore-amrnb --enable-libopencore-amrwb --enable-libopenjpeg --enable-librtmp --enable-libspeex --enable-libsoxr --enable-videotoolbox --disable-libjack --disable-indev=jack\n",
      "  libavutil      56. 51.100 / 56. 51.100\n",
      "  libavcodec     58. 91.100 / 58. 91.100\n",
      "  libavformat    58. 45.100 / 58. 45.100\n",
      "  libavdevice    58. 10.100 / 58. 10.100\n",
      "  libavfilter     7. 85.100 /  7. 85.100\n",
      "  libavresample   4.  0.  0 /  4.  0.  0\n",
      "  libswscale      5.  7.100 /  5.  7.100\n",
      "  libswresample   3.  7.100 /  3.  7.100\n",
      "  libpostproc    55.  7.100 / 55.  7.100\n",
      "Input #0, mpegts, from 'mov/tmp/tmp2.MTS':\n",
      "  Duration: 00:00:17.64, start: 1.405756, bitrate: 3791 kb/s\n",
      "  Program 1 \n",
      "    Metadata:\n",
      "      service_name    : Service01\n",
      "      service_provider: FFmpeg\n",
      "    Stream #0:0[0x100]: Video: mpeg2video (Main) ([2][0][0][0] / 0x0002), yuv420p(tv, progressive), 1280x720 [SAR 1:1 DAR 16:9], 60 fps, 60 tbr, 90k tbn, 120 tbc\n",
      "    Side data:\n",
      "      cpb: bitrate max/min/avg: 0/0/0 buffer size: 49152 vbv_delay: N/A\n",
      "    Stream #0:1[0x101](und): Audio: mp2 ([3][0][0][0] / 0x0003), 44100 Hz, stereo, fltp, 384 kb/s\n",
      "Stream mapping:\n",
      "  Stream #0:0 -> #0:0 (mpeg2video (native) -> h264 (libx264))\n",
      "  Stream #0:1 -> #0:1 (mp2 (native) -> aac (native))\n",
      "Press [q] to stop, [?] for help\n",
      "\u001b[1;36m[libx264 @ 0x7fd0ad20a200] \u001b[0musing SAR=1/1\n"
     ]
    },
    {
     "name": "stdout",
     "output_type": "stream",
     "text": [
      "\u001b[1;36m[libx264 @ 0x7fd0ad20a200] \u001b[0musing cpu capabilities: MMX2 SSE2Fast SSSE3 SSE4.2 AVX FMA3 BMI2 AVX2\n",
      "\u001b[1;36m[libx264 @ 0x7fd0ad20a200] \u001b[0mprofile High, level 3.2, 4:2:0, 8-bit\n",
      "\u001b[1;36m[libx264 @ 0x7fd0ad20a200] \u001b[0m264 - core 161 r3027 4121277 - H.264/MPEG-4 AVC codec - Copyleft 2003-2020 - http://www.videolan.org/x264.html - options: cabac=1 ref=3 deblock=1:0:0 analyse=0x3:0x113 me=hex subme=7 psy=1 psy_rd=1.00:0.00 mixed_ref=1 me_range=16 chroma_me=1 trellis=1 8x8dct=1 cqm=0 deadzone=21,11 fast_pskip=1 chroma_qp_offset=-2 threads=12 lookahead_threads=2 sliced_threads=0 nr=0 decimate=1 interlaced=0 bluray_compat=0 constrained_intra=0 bframes=3 b_pyramid=2 b_adapt=1 b_bias=0 direct=1 weightb=1 open_gop=0 weightp=2 keyint=250 keyint_min=25 scenecut=40 intra_refresh=0 rc_lookahead=40 rc=crf mbtree=1 crf=30.0 qcomp=0.60 qpmin=0 qpmax=69 qpstep=4 ip_ratio=1.40 aq=1:1.00\n",
      "Output #0, mov, to 'out.mov':\n",
      "  Metadata:\n",
      "    encoder         : Lavf58.45.100\n",
      "    Stream #0:0: Video: h264 (libx264) (avc1 / 0x31637661), yuv420p(progressive), 1280x720 [SAR 1:1 DAR 16:9], q=-1--1, 60 fps, 15360 tbn, 60 tbc\n",
      "    Metadata:\n",
      "      encoder         : Lavc58.91.100 libx264\n",
      "    Side data:\n",
      "      cpb: bitrate max/min/avg: 0/0/0 buffer size: 0 vbv_delay: N/A\n",
      "    Stream #0:1(und): Audio: aac (LC) (mp4a / 0x6134706D), 44100 Hz, stereo, fltp, 128 kb/s\n",
      "    Metadata:\n",
      "      encoder         : Lavc58.91.100 aac\n",
      "frame= 1059 fps=335 q=-1.0 Lsize=     424kB time=00:00:17.60 bitrate= 197.3kbits/s dup=1 drop=0 speed=5.57x    \n",
      "video:405kB audio:1kB subtitle:0kB other streams:0kB global headers:0kB muxing overhead: 4.307867%\n",
      "\u001b[1;36m[libx264 @ 0x7fd0ad20a200] \u001b[0mframe I:5     Avg QP:20.11  size:  4197\n",
      "\u001b[1;36m[libx264 @ 0x7fd0ad20a200] \u001b[0mframe P:272   Avg QP:29.94  size:   895\n",
      "\u001b[1;36m[libx264 @ 0x7fd0ad20a200] \u001b[0mframe B:782   Avg QP:32.83  size:   192\n",
      "\u001b[1;36m[libx264 @ 0x7fd0ad20a200] \u001b[0mconsecutive B-frames:  1.2%  0.8%  0.6% 97.5%\n",
      "\u001b[1;36m[libx264 @ 0x7fd0ad20a200] \u001b[0mmb I  I16..4: 22.4% 73.7%  3.9%\n",
      "\u001b[1;36m[libx264 @ 0x7fd0ad20a200] \u001b[0mmb P  I16..4:  0.8%  1.7%  0.1%  P16..4:  5.6%  0.6%  0.2%  0.0%  0.0%    skip:91.1%\n",
      "\u001b[1;36m[libx264 @ 0x7fd0ad20a200] \u001b[0mmb B  I16..4:  0.2%  0.1%  0.0%  B16..8:  4.3%  0.0%  0.0%  direct: 0.0%  skip:95.4%  L0:44.1% L1:55.6% BI: 0.3%\n",
      "\u001b[1;36m[libx264 @ 0x7fd0ad20a200] \u001b[0m8x8 transform intra:62.5% inter:79.7%\n",
      "\u001b[1;36m[libx264 @ 0x7fd0ad20a200] \u001b[0mcoded y,uvDC,uvAC intra: 8.6% 6.9% 0.0% inter: 0.2% 0.0% 0.0%\n",
      "\u001b[1;36m[libx264 @ 0x7fd0ad20a200] \u001b[0mi16 v,h,dc,p: 48% 29% 18%  6%\n",
      "\u001b[1;36m[libx264 @ 0x7fd0ad20a200] \u001b[0mi8 v,h,dc,ddl,ddr,vr,hd,vl,hu: 41% 12% 36%  2%  2%  3%  2%  1%  1%\n",
      "\u001b[1;36m[libx264 @ 0x7fd0ad20a200] \u001b[0mi4 v,h,dc,ddl,ddr,vr,hd,vl,hu: 37% 18% 22%  6%  4%  4%  3%  4%  3%\n",
      "\u001b[1;36m[libx264 @ 0x7fd0ad20a200] \u001b[0mi8c dc,h,v,p: 86%  7%  7%  0%\n",
      "\u001b[1;36m[libx264 @ 0x7fd0ad20a200] \u001b[0mWeighted P-Frames: Y:11.4% UV:0.0%\n",
      "\u001b[1;36m[libx264 @ 0x7fd0ad20a200] \u001b[0mref P L0: 72.5% 11.6% 12.1%  3.7%  0.1%\n",
      "\u001b[1;36m[libx264 @ 0x7fd0ad20a200] \u001b[0mref B L0: 87.8% 10.1%  2.2%\n",
      "\u001b[1;36m[libx264 @ 0x7fd0ad20a200] \u001b[0mref B L1: 95.2%  4.8%\n",
      "\u001b[1;36m[libx264 @ 0x7fd0ad20a200] \u001b[0mkb/s:187.79\n",
      "\u001b[1;36m[aac @ 0x7fd0ad1ffc00] \u001b[0mQavg: 65536.000\n",
      "ffmpeg version 4.3.1 Copyright (c) 2000-2020 the FFmpeg developers\n",
      "  built with Apple clang version 11.0.0 (clang-1100.0.33.17)\n",
      "  configuration: --prefix=/usr/local/Cellar/ffmpeg/4.3.1_4 --enable-shared --enable-pthreads --enable-version3 --enable-avresample --cc=clang --host-cflags= --host-ldflags= --enable-ffplay --enable-gnutls --enable-gpl --enable-libaom --enable-libbluray --enable-libdav1d --enable-libmp3lame --enable-libopus --enable-librav1e --enable-librubberband --enable-libsnappy --enable-libsrt --enable-libtesseract --enable-libtheora --enable-libvidstab --enable-libvorbis --enable-libvpx --enable-libwebp --enable-libx264 --enable-libx265 --enable-libxml2 --enable-libxvid --enable-lzma --enable-libfontconfig --enable-libfreetype --enable-frei0r --enable-libass --enable-libopencore-amrnb --enable-libopencore-amrwb --enable-libopenjpeg --enable-librtmp --enable-libspeex --enable-libsoxr --enable-videotoolbox --disable-libjack --disable-indev=jack\n",
      "  libavutil      56. 51.100 / 56. 51.100\n",
      "  libavcodec     58. 91.100 / 58. 91.100\n",
      "  libavformat    58. 45.100 / 58. 45.100\n",
      "  libavdevice    58. 10.100 / 58. 10.100\n",
      "  libavfilter     7. 85.100 /  7. 85.100\n",
      "  libavresample   4.  0.  0 /  4.  0.  0\n",
      "  libswscale      5.  7.100 /  5.  7.100\n",
      "  libswresample   3.  7.100 /  3.  7.100\n",
      "  libpostproc    55.  7.100 / 55.  7.100\n",
      "Input #0, mov,mp4,m4a,3gp,3g2,mj2, from 'out.mov':\n",
      "  Metadata:\n",
      "    major_brand     : qt  \n",
      "    minor_version   : 512\n",
      "    compatible_brands: qt  \n",
      "    encoder         : Lavf58.45.100\n",
      "  Duration: 00:00:17.65, start: 0.000000, bitrate: 196 kb/s\n",
      "    Stream #0:0: Video: h264 (High) (avc1 / 0x31637661), yuv420p, 1280x720 [SAR 1:1 DAR 16:9], 188 kb/s, 60 fps, 60 tbr, 15360 tbn, 120 tbc (default)\n",
      "    Metadata:\n",
      "      handler_name    : VideoHandler\n",
      "      encoder         : Lavc58.91.100 libx264\n",
      "    Stream #0:1: Audio: aac (LC) (mp4a / 0x6134706D), 44100 Hz, stereo, fltp, 2 kb/s (default)\n",
      "    Metadata:\n",
      "      handler_name    : SoundHandler\n",
      "Stream mapping:\n",
      "  Stream #0:0 -> #0:0 (h264 (native) -> mpeg4 (native))\n",
      "  Stream #0:1 -> #0:1 (aac (native) -> mp3 (libmp3lame))\n",
      "Press [q] to stop, [?] for help\n",
      "Output #0, avi, to 'out.avi':\n",
      "  Metadata:\n",
      "    major_brand     : qt  \n",
      "    minor_version   : 512\n",
      "    compatible_brands: qt  \n",
      "    ISFT            : Lavf58.45.100\n",
      "    Stream #0:0: Video: mpeg4 (FMP4 / 0x34504D46), yuv420p, 1280x720 [SAR 1:1 DAR 16:9], q=2-31, 200 kb/s, 60 fps, 60 tbn, 60 tbc (default)\n",
      "    Metadata:\n",
      "      handler_name    : VideoHandler\n",
      "      encoder         : Lavc58.91.100 mpeg4\n",
      "    Side data:\n",
      "      cpb: bitrate max/min/avg: 0/0/200000 buffer size: 0 vbv_delay: N/A\n",
      "    Stream #0:1: Audio: mp3 (libmp3lame) (U[0][0][0] / 0x0055), 44100 Hz, stereo, fltp (default)\n",
      "    Metadata:\n",
      "      handler_name    : SoundHandler\n",
      "      encoder         : Lavc58.91.100 libmp3lame\n",
      "frame= 1059 fps=776 q=31.0 Lsize=    2008kB time=00:00:17.65 bitrate= 932.1kbits/s speed=12.9x    \n",
      "video:1906kB audio:64kB subtitle:0kB other streams:0kB global headers:0kB muxing overhead: 1.969315%\n"
     ]
    }
   ],
   "source": [
    "!./concat_folder_png.sh"
   ]
  },
  {
   "cell_type": "code",
   "execution_count": 20,
   "metadata": {
    "ExecuteTime": {
     "end_time": "2020-12-15T09:06:46.275391Z",
     "start_time": "2020-12-15T09:06:45.823149Z"
    },
    "scrolled": true
   },
   "outputs": [
    {
     "data": {
      "text/plain": [
       "0"
      ]
     },
     "execution_count": 20,
     "metadata": {},
     "output_type": "execute_result"
    }
   ],
   "source": [
    "os.chdir(nb_dir)\n",
    "os.chdir(os.path.dirname(save_folder_vid))\n",
    "assert(os.path.exists(vid_in_fn))\n",
    "destination = shutil.copyfile(vid_in_fn, vid_out_fn) \n",
    "beep(2)"
   ]
  },
  {
   "cell_type": "code",
   "execution_count": 21,
   "metadata": {
    "ExecuteTime": {
     "end_time": "2020-12-15T09:06:46.640153Z",
     "start_time": "2020-12-15T09:06:46.615312Z"
    }
   },
   "outputs": [
    {
     "data": {
      "text/plain": [
       "True"
      ]
     },
     "execution_count": 21,
     "metadata": {},
     "output_type": "execute_result"
    }
   ],
   "source": [
    "os.path.exists(vid_out_fn)"
   ]
  },
  {
   "cell_type": "code",
   "execution_count": 22,
   "metadata": {
    "ExecuteTime": {
     "end_time": "2020-12-15T09:06:46.996796Z",
     "start_time": "2020-12-15T09:06:46.974800Z"
    }
   },
   "outputs": [
    {
     "data": {
      "text/plain": [
       "2.578401929897344e-05"
      ]
     },
     "execution_count": 22,
     "metadata": {},
     "output_type": "execute_result"
    }
   ],
   "source": [
    "stepsize_mean"
   ]
  },
  {
   "cell_type": "code",
   "execution_count": null,
   "metadata": {},
   "outputs": [],
   "source": []
  },
  {
   "cell_type": "code",
   "execution_count": null,
   "metadata": {},
   "outputs": [],
   "source": []
  },
  {
   "cell_type": "code",
   "execution_count": null,
   "metadata": {},
   "outputs": [],
   "source": []
  },
  {
   "cell_type": "code",
   "execution_count": null,
   "metadata": {},
   "outputs": [],
   "source": []
  },
  {
   "cell_type": "code",
   "execution_count": null,
   "metadata": {},
   "outputs": [],
   "source": []
  }
 ],
 "metadata": {
  "kernelspec": {
   "display_name": "Python 3",
   "language": "python",
   "name": "python3"
  },
  "language_info": {
   "codemirror_mode": {
    "name": "ipython",
    "version": 3
   },
   "file_extension": ".py",
   "mimetype": "text/x-python",
   "name": "python",
   "nbconvert_exporter": "python",
   "pygments_lexer": "ipython3",
   "version": "3.8.6"
  },
  "varInspector": {
   "cols": {
    "lenName": 16,
    "lenType": 16,
    "lenVar": 40
   },
   "kernels_config": {
    "python": {
     "delete_cmd_postfix": "",
     "delete_cmd_prefix": "del ",
     "library": "var_list.py",
     "varRefreshCmd": "print(var_dic_list())"
    },
    "r": {
     "delete_cmd_postfix": ") ",
     "delete_cmd_prefix": "rm(",
     "library": "var_list.r",
     "varRefreshCmd": "cat(var_dic_list()) "
    }
   },
   "types_to_exclude": [
    "module",
    "function",
    "builtin_function_or_method",
    "instance",
    "_Feature"
   ],
   "window_display": false
  }
 },
 "nbformat": 4,
 "nbformat_minor": 4
}
