{
 "cells": [
  {
   "cell_type": "markdown",
   "metadata": {},
   "source": [
    "# dev njitsu"
   ]
  },
  {
   "cell_type": "code",
   "execution_count": 1,
   "metadata": {
    "ExecuteTime": {
     "end_time": "2020-12-07T06:46:33.810667Z",
     "start_time": "2020-12-07T06:46:30.918496Z"
    }
   },
   "outputs": [
    {
     "name": "stdout",
     "output_type": "stream",
     "text": [
      "Automatic calling is: Smart\n"
     ]
    }
   ],
   "source": [
    "%matplotlib inline\n",
    "from lib.my_initialization import *\n",
    "%autocall 1\n",
    "%load_ext autoreload\n",
    "%autoreload 2"
   ]
  },
  {
   "cell_type": "markdown",
   "metadata": {
    "heading_collapsed": true
   },
   "source": [
    "# the slow, dissapative ESVI routine (forward euler integration/ FEI)"
   ]
  },
  {
   "cell_type": "code",
   "execution_count": 176,
   "metadata": {
    "ExecuteTime": {
     "end_time": "2020-12-07T06:38:21.829632Z",
     "start_time": "2020-12-07T06:38:21.056142Z"
    },
    "hidden": true
   },
   "outputs": [
    {
     "name": "stderr",
     "output_type": "stream",
     "text": [
      "face_normals all zero, ignoring!\n"
     ]
    },
    {
     "name": "stdout",
     "output_type": "stream",
     "text": [
      "['element_array_time', 'element_array_index', 'element_array_mass', 'element_array_volume', 'element_array_inverse_equilibrium_position', 'node_array_equilibrium_position', 'node_array_time', 'node_array_position', 'node_array_momentum', 'node_array_mass', 'node_array_volume']\n"
     ]
    }
   ],
   "source": [
    "os.chdir(nb_dir)\n",
    "# input_file_name = f'../data/spherical_meshes/spherical_mesh_64.stl'input_file_name = f'../data/spherical_meshes/spherical_mesh_64.stl'\n",
    "input_file_name = f'../data/spherical_meshes/spherical_mesh_1000.stl'\n",
    "tme = 0.\n",
    "mass_density=1.\n",
    "dict_values_system = initialize_system(input_file_name, time_initial=tme, mass_density=mass_density)\n",
    "locals().update(dict_values_system)\n",
    "print(list(dict_values_system.keys()))\n",
    "\n",
    "#define Lamé parameters\n",
    "mu = 1.; lam = 1.; \n",
    "#define coefficient for Rayleigh damping\n",
    "gamma = 1.;\n",
    "\n",
    "#define adaptive time stepping absolute tolerances\n",
    "atol_x = 1e-4; atol_v = 1e-4; \n",
    "btol_x = 1e-12; btol_v = 1e-12; \n",
    "\n",
    "#get method of computing elastic forces \n",
    "zero_mat = np.zeros((4,3))\n",
    "# calc_P = get_calc_P(mu, lam)\n",
    "compute_nodal_damping_forces  = get_compute_nodal_damping_forces(mu,lam,gamma)\n",
    "comp_nodal_elastic_forces = get_comp_nodal_elastic_forces(mu, lam)\n",
    "\n",
    "elements = element_array_index\n",
    "vertices = node_array_position\n",
    "\n",
    "N_elements = elements.shape[0]\n",
    "N_vertices = vertices.shape[0]\n",
    "\n",
    "momentum = node_array_momentum.copy()\n",
    "\n",
    "# #perturb momentum in the outward x direction and let it run overnight with a small timestep\n",
    "# momentum_scale = 0.001\n",
    "# momentum[:,0] = momentum_scale * vertices[:,0]\n",
    "# velocities = momentum.copy()\n",
    "# for j in range(N_vertices):\n",
    "#     velocities[j] /= node_array_mass[j]\n",
    "    \n",
    "#perturb momentum in the outward x direction and let it run overnight with a small timestep\n",
    "velocities = momentum.copy()\n",
    "for j in range(N_vertices):\n",
    "    velocities[j] /= node_array_mass[j]\n",
    "v_scale = 1\n",
    "velocities[:,0] = v_scale * vertices[:,0].copy()\n",
    "\n",
    "#initialize containers of measures\n",
    "volume_lst = []\n",
    "tme_lst = []"
   ]
  },
  {
   "cell_type": "code",
   "execution_count": 3,
   "metadata": {
    "ExecuteTime": {
     "end_time": "2020-12-07T04:46:51.279722Z",
     "start_time": "2020-12-07T04:46:51.255540Z"
    },
    "hidden": true
   },
   "outputs": [],
   "source": [
    "# #TODO: wrap this in something like def explicit_synchronous(Q, V, M, elements, X0, t0, tf, stepsize):\n",
    "# t0 = tme\n",
    "# tf = 0.01#10#1.#0.001#.0019\n",
    "# stepsize = 0.001#0.0.001 # 0.001 worked for tme to 2 but not 4\n",
    "\n",
    "# #push all K finite elements into the queue at initial time t0\n",
    "# queue = PriorityQueue()# queue = list()\n",
    "# #initialize all elemental times to the same time value, t0, and push all elements to queue\n",
    "# tauK = t0+0.*element_array_time\n",
    "# for K_index in list(range(N_elements)):\n",
    "#     tauK[K_index] = t0\n",
    "#     queue.put((t0, K_index))#     queue.append((t0, K_index)) \n",
    "#     # tK2     = t0 # _compute_time(K, t0, stepsize, num_steps)\n",
    "\n",
    "# # initialize nodal times to initial time t0\n",
    "# tau = t0 + 0. * node_array_time\n",
    "\n",
    "# #iterate over the elements in time.  \n",
    "# #do until priority queue is empty\n",
    "# # while len(queue) > 0:\n",
    "# old_vertices = vertices.copy() \n",
    "# while not queue.empty():\n",
    "#     #extract next element\n",
    "#     t, K_index = queue.get()#pop(queue)\n",
    "#     if t<=tf:\n",
    "#         #synchronous time updates\n",
    "#         #update node positions\n",
    "#         Ka = elements[K_index]\n",
    "#         K_vertices = vertices[Ka]\n",
    "#         K_velocities = velocities[Ka]\n",
    "#         for a in Ka:\n",
    "#             vertices[a] = vertices[a] + velocities[a] * (t - tau[a])\n",
    "#         #update node times\n",
    "#         for a in Ka:\n",
    "#             tau[a] = t\n",
    "\n",
    "#         #compute the nodal forces for each tetrahedral\n",
    "#         K_W = compute_element_volume(node_array_position=vertices, element_array_index=elements, K_index=K_index)\n",
    "#         Bm  = element_array_inverse_equilibrium_position[K_index]\n",
    "#         Ds  = get_D_mat(K_vertices)\n",
    "#         fe   = comp_nodal_elastic_forces(K_W, Bm, Ds, f_out = zero_mat.copy())\n",
    "#         fd   = compute_nodal_damping_forces(K_velocities, Ds, K_W, Bm, delta_f=zero_mat.copy())\n",
    "\n",
    "#         #TODO(later): include any other forces, such as nodal forces, pressure forces, etc.\n",
    "#         #net nodal forces\n",
    "#         force = fe + fd\n",
    "        \n",
    "#         #update node velocities \n",
    "#         for j, a in enumerate(Ka):\n",
    "#             velocities[a] = velocities[a] + ( (t - tauK[K_index]) / node_array_mass[a]) * force[j]\n",
    "# #             velocities[a] = velocities[a] + ( (t - tauK[K_index]) / node_array_mass[a]) * force[j]\n",
    "        \n",
    "#         #TODO(later): if node is not a boundary node, set velocity to zero\n",
    "#         #update element's time\n",
    "#         tauK[K_index] = t\n",
    "#         #compute next time for element's evaluation\n",
    "#         tKnext = t + stepsize #_compute_next_time(K, t, stepsize)\n",
    "        \n",
    "#         #Schedule K for next update\n",
    "#         queue.put((tKnext, K_index))#push( queue, (tKnext, K_index) )\n",
    "        \n",
    "#         #if a new time has been observed, measure the old_mesh volume. record volume and tme. update the old_mesh and time\n",
    "#         if t>tme:\n",
    "#             volume = compute_net_volume(old_vertices, elements)\n",
    "#             volume_lst.append(volume)\n",
    "#             tme_lst.append(tme)\n",
    "#             #suppose synchronous time stepping\n",
    "#             tme = t\n",
    "#             old_vertices = vertices.copy()   \n",
    "\n",
    "#             #synchronize all nodal positions with current time, tf\n",
    "# for K_index in range(N_elements):\n",
    "#     Ka = elements[K_index]\n",
    "#     for a in Ka:\n",
    "#         vertices[a] = vertices[a] + velocities[a] * (tf - tau[a])\n",
    "#     #update node times\n",
    "#     for a in Ka:\n",
    "#         tau[a] = tf\n",
    "# #update momentum\n",
    "# for j in range(N_vertices):\n",
    "#     node_array_momentum[j] = node_array_mass[j] * velocities[j]\n",
    "    \n",
    "# #update synchronous time\n",
    "# tme = tf\n",
    "\n",
    "# #Bottom Line Up Front (BLUF)\n",
    "# beep(3)\n",
    "# print(tf-t0)\n",
    "# print(stepsize)"
   ]
  },
  {
   "cell_type": "markdown",
   "metadata": {
    "heading_collapsed": true
   },
   "source": [
    "# the suspects to njit are already fast.  the priority queue overhead appears to be the limiting reagent"
   ]
  },
  {
   "cell_type": "code",
   "execution_count": 4,
   "metadata": {
    "ExecuteTime": {
     "end_time": "2020-12-07T04:46:56.701555Z",
     "start_time": "2020-12-07T04:46:51.281430Z"
    },
    "hidden": true
   },
   "outputs": [],
   "source": [
    "#compute the nodal forces for each tetrahedral\n",
    "K_index = 7\n",
    "Ka = elements[K_index]\n",
    "K_vertices = vertices[Ka]\n",
    "K_velocities = velocities[Ka]\n",
    "K_W = compute_element_volume(node_array_position=vertices, element_array_index=elements, K_index=K_index)\n",
    "Bm  = element_array_inverse_equilibrium_position[K_index]\n",
    "Ds  = get_D_mat(K_vertices)\n",
    "fe   = comp_nodal_elastic_forces(K_W, Bm, Ds, f_out = zero_mat.copy())\n",
    "fd   = compute_nodal_damping_forces(K_velocities, Ds, K_W, Bm, delta_f=zero_mat.copy())"
   ]
  },
  {
   "cell_type": "markdown",
   "metadata": {
    "heading_collapsed": true,
    "hidden": true
   },
   "source": [
    "## (my PriorityQueue is not naively njit'able)"
   ]
  },
  {
   "cell_type": "code",
   "execution_count": 5,
   "metadata": {
    "ExecuteTime": {
     "end_time": "2020-12-07T04:46:56.726349Z",
     "start_time": "2020-12-07T04:46:56.703367Z"
    },
    "hidden": true
   },
   "outputs": [],
   "source": [
    "# from queue import PriorityQueue\n",
    "\n",
    "# q = PriorityQueue()\n",
    "\n",
    "# q.put((4, 'Read'))\n",
    "# q.put((2, 'Play'))\n",
    "# q.put((5, 'Write'))\n",
    "# q.put((1, 'Code'))\n",
    "# q.put((3, 'Study'))\n",
    "\n",
    "# while not q.empty():\n",
    "#     next_item = q.get()\n",
    "#     print(next_item)"
   ]
  },
  {
   "cell_type": "code",
   "execution_count": 6,
   "metadata": {
    "ExecuteTime": {
     "end_time": "2020-12-07T04:46:56.753511Z",
     "start_time": "2020-12-07T04:46:56.729844Z"
    },
    "hidden": true
   },
   "outputs": [],
   "source": [
    "# from numba import njit\n",
    "# @njit\n",
    "# def foo():\n",
    "#     q = PriorityQueue()\n",
    "#     pass"
   ]
  },
  {
   "cell_type": "markdown",
   "metadata": {
    "heading_collapsed": true
   },
   "source": [
    "# show a heap datastructure is njit'able"
   ]
  },
  {
   "cell_type": "code",
   "execution_count": 7,
   "metadata": {
    "ExecuteTime": {
     "end_time": "2020-12-07T04:46:56.780305Z",
     "start_time": "2020-12-07T04:46:56.755663Z"
    },
    "hidden": true
   },
   "outputs": [],
   "source": [
    "from heapq import heappush, heappop\n",
    "from numba import njit"
   ]
  },
  {
   "cell_type": "code",
   "execution_count": 8,
   "metadata": {
    "ExecuteTime": {
     "end_time": "2020-12-07T04:46:56.809259Z",
     "start_time": "2020-12-07T04:46:56.781925Z"
    },
    "hidden": true
   },
   "outputs": [],
   "source": [
    "@njit#t(nopython=True)\n",
    "def test_it():\n",
    "    heap = [(2.,0.,[1,2,3])]\n",
    "    item = (1.9,2.,[1,2])\n",
    "    heappush(heap, item)\n",
    "    item = (2.1,2.,[1,2])\n",
    "    heappush(heap, item)\n",
    "    ret = heappop(heap)\n",
    "    print(ret)\n",
    "    ret = heappop(heap)\n",
    "    print(ret)"
   ]
  },
  {
   "cell_type": "code",
   "execution_count": 9,
   "metadata": {
    "ExecuteTime": {
     "end_time": "2020-12-07T04:46:57.683004Z",
     "start_time": "2020-12-07T04:46:56.811320Z"
    },
    "hidden": true,
    "scrolled": true
   },
   "outputs": [
    {
     "name": "stdout",
     "output_type": "stream",
     "text": [
      "(1.9, 2.0, [1, 2])\n",
      "(2.0, 0.0, [1, 2, 3])\n"
     ]
    }
   ],
   "source": [
    "test_it()"
   ]
  },
  {
   "cell_type": "code",
   "execution_count": 10,
   "metadata": {
    "ExecuteTime": {
     "end_time": "2020-12-07T04:46:57.710141Z",
     "start_time": "2020-12-07T04:46:57.684591Z"
    },
    "hidden": true
   },
   "outputs": [
    {
     "name": "stdout",
     "output_type": "stream",
     "text": [
      "(1.9, 2.0, [1, 2])\n",
      "(2.0, 0.0, [1, 2, 3])\n"
     ]
    }
   ],
   "source": [
    "heap = [(2.,0.,[1,2,3])]\n",
    "item = (1.9,2.,[1,2])\n",
    "heappush(heap, item)\n",
    "item = (2.1,2.,[1,2])\n",
    "heappush(heap, item)\n",
    "ret = heappop(heap)\n",
    "print(ret)\n",
    "ret = heappop(heap)\n",
    "print(ret)"
   ]
  },
  {
   "cell_type": "markdown",
   "metadata": {
    "ExecuteTime": {
     "end_time": "2020-12-07T04:01:52.750293Z",
     "start_time": "2020-12-07T04:01:52.718288Z"
    },
    "heading_collapsed": true
   },
   "source": [
    "# show a vague cartoon of an AVI is njit'able with ^that heap datastructure"
   ]
  },
  {
   "cell_type": "code",
   "execution_count": 11,
   "metadata": {
    "ExecuteTime": {
     "end_time": "2020-12-07T04:46:57.743165Z",
     "start_time": "2020-12-07T04:46:57.712393Z"
    },
    "hidden": true
   },
   "outputs": [],
   "source": [
    "import heapq"
   ]
  },
  {
   "cell_type": "code",
   "execution_count": 12,
   "metadata": {
    "ExecuteTime": {
     "end_time": "2020-12-07T04:46:57.779460Z",
     "start_time": "2020-12-07T04:46:57.746316Z"
    },
    "hidden": true
   },
   "outputs": [],
   "source": [
    "#TODO: first make a vague cartoon of an AVI is njit'able\n",
    "@njit\n",
    "def foo():\n",
    "    N_tasks = 7\n",
    "    item_lst = [(-i,1.,0) for i in range(N_tasks)] \n",
    "    heapq.heapify(item_lst)\n",
    "\n",
    "    #integrate up to time tf and then synchronize the configurations\n",
    "    tf = N_tasks*2\n",
    "    while len(item_lst)>0:\n",
    "        item = heapq.heappop(item_lst)\n",
    "        t,h,K_index = item\n",
    "        if t<=tf:\n",
    "            #(for each step case & comparing each stepcase):\n",
    "            #get the configuration\n",
    "            #update the vertices and vertex times to t (or some varient)\n",
    "            #compute the forces\n",
    "            #update the vertex velocities and elemental times\n",
    "            #compare results for the stepcases\n",
    "            #update the actual configuration with the results of the best stepcase\n",
    "            #push the next task to the heap\n",
    "            item = (t+1, 2.,0)\n",
    "            heapq.heappush(item_lst, item)\n",
    "    #synchronize all elemental configurations to the same time\n",
    "    #measure observables\n",
    "    return item"
   ]
  },
  {
   "cell_type": "code",
   "execution_count": 13,
   "metadata": {
    "ExecuteTime": {
     "end_time": "2020-12-07T04:46:58.964369Z",
     "start_time": "2020-12-07T04:46:57.781230Z"
    },
    "hidden": true
   },
   "outputs": [
    {
     "data": {
      "text/plain": [
       "(15, 2.0, 0)"
      ]
     },
     "execution_count": 13,
     "metadata": {},
     "output_type": "execute_result"
    }
   ],
   "source": [
    "foo()"
   ]
  },
  {
   "cell_type": "markdown",
   "metadata": {
    "ExecuteTime": {
     "end_time": "2020-12-07T04:19:39.540767Z",
     "start_time": "2020-12-07T04:19:39.513019Z"
    },
    "heading_collapsed": true
   },
   "source": [
    "# njit the low-level constituent parts, starting with the lowest level parts"
   ]
  },
  {
   "cell_type": "code",
   "execution_count": 14,
   "metadata": {
    "ExecuteTime": {
     "end_time": "2020-12-07T04:46:58.989380Z",
     "start_time": "2020-12-07T04:46:58.965880Z"
    },
    "hidden": true
   },
   "outputs": [],
   "source": [
    "import inspect"
   ]
  },
  {
   "cell_type": "markdown",
   "metadata": {
    "heading_collapsed": true,
    "hidden": true
   },
   "source": [
    "## compute_element_volume"
   ]
  },
  {
   "cell_type": "code",
   "execution_count": 15,
   "metadata": {
    "ExecuteTime": {
     "end_time": "2020-12-07T04:46:59.018529Z",
     "start_time": "2020-12-07T04:46:58.991346Z"
    },
    "hidden": true
   },
   "outputs": [],
   "source": [
    "K_W = compute_element_volume(node_array_position=vertices, element_array_index=elements, K_index=K_index)"
   ]
  },
  {
   "cell_type": "code",
   "execution_count": 16,
   "metadata": {
    "ExecuteTime": {
     "end_time": "2020-12-07T04:46:59.056597Z",
     "start_time": "2020-12-07T04:46:59.020628Z"
    },
    "hidden": true
   },
   "outputs": [
    {
     "name": "stdout",
     "output_type": "stream",
     "text": [
      "@njit\n",
      "def compute_element_volume(node_array_position, element_array_index, K_index):\n",
      "\t'''Example Usage: \n",
      "\tX_inverse = compute_inverse_position(node_array_equilibrium_position, element_array_index, K_index)'''\n",
      "\tD_K = compute_D_mat(node_array_position, element_array_index, K_index)\n",
      "\t# X_inverse = np.linalg.inv(D_K)\n",
      "\t#undeformed volume of element\n",
      "\tW = np.abs(np.linalg.det(D_K)/6.)\n",
      "\treturn W\n",
      "\n"
     ]
    }
   ],
   "source": [
    "print(inspect.getsource(compute_element_volume))"
   ]
  },
  {
   "cell_type": "code",
   "execution_count": 17,
   "metadata": {
    "ExecuteTime": {
     "end_time": "2020-12-07T04:46:59.093495Z",
     "start_time": "2020-12-07T04:46:59.059251Z"
    },
    "hidden": true
   },
   "outputs": [
    {
     "name": "stdout",
     "output_type": "stream",
     "text": [
      "@njit\n",
      "def compute_D_mat(node_array_position, element_array_index, K_index):\n",
      "\tK_vertices = node_array_position[element_array_index[K_index]] \n",
      "\tD = get_D_mat(K_vertices)\n",
      "\treturn D\n",
      "\n"
     ]
    }
   ],
   "source": [
    "print(inspect.getsource(compute_D_mat))"
   ]
  },
  {
   "cell_type": "code",
   "execution_count": 18,
   "metadata": {
    "ExecuteTime": {
     "end_time": "2020-12-07T04:46:59.126388Z",
     "start_time": "2020-12-07T04:46:59.095359Z"
    },
    "hidden": true
   },
   "outputs": [
    {
     "name": "stdout",
     "output_type": "stream",
     "text": [
      "@njit\n",
      "def get_D_mat(K_vertices):\n",
      "\tx1  = K_vertices[0,0];y1 = K_vertices[0,1];z1 = K_vertices[0,2]\n",
      "\tx2  = K_vertices[1,0];y2 = K_vertices[1,1];z2 = K_vertices[1,2]\n",
      "\tx3  = K_vertices[2,0];y3 = K_vertices[2,1];z3 = K_vertices[2,2]\n",
      "\tx4  = K_vertices[3,0];y4 = K_vertices[3,1];z4 = K_vertices[3,2]\n",
      "\tD = np.array([\n",
      "\t\t\t  [x1-x4,x2-x4,x3-x4],\n",
      "\t\t\t  [y1-y4,y2-y4,y3-y4],\n",
      "\t\t\t  [z1-z4,z2-z4,z3-z4]])\n",
      "\treturn D\n",
      "\n"
     ]
    }
   ],
   "source": [
    "print(inspect.getsource(get_D_mat))"
   ]
  },
  {
   "cell_type": "code",
   "execution_count": 19,
   "metadata": {
    "ExecuteTime": {
     "end_time": "2020-12-07T04:46:59.156628Z",
     "start_time": "2020-12-07T04:46:59.128417Z"
    },
    "hidden": true
   },
   "outputs": [],
   "source": [
    "# @njit\n",
    "# def get_D_mat(K_vertices):\n",
    "# \tx1  = K_vertices[0,0];y1 = K_vertices[0,1];z1 = K_vertices[0,2]\n",
    "# \tx2  = K_vertices[1,0];y2 = K_vertices[1,1];z2 = K_vertices[1,2]\n",
    "# \tx3  = K_vertices[2,0];y3 = K_vertices[2,1];z3 = K_vertices[2,2]\n",
    "# \tx4  = K_vertices[3,0];y4 = K_vertices[3,1];z4 = K_vertices[3,2]\n",
    "# \tD = np.array([\n",
    "# \t\t\t  [x1-x4,x2-x4,x3-x4],\n",
    "# \t\t\t  [y1-y4,y2-y4,y3-y4],\n",
    "# \t\t\t  [z1-z4,z2-z4,z3-z4]])\n",
    "# \treturn D"
   ]
  },
  {
   "cell_type": "code",
   "execution_count": 20,
   "metadata": {
    "ExecuteTime": {
     "end_time": "2020-12-07T04:46:59.185381Z",
     "start_time": "2020-12-07T04:46:59.158668Z"
    },
    "hidden": true
   },
   "outputs": [],
   "source": [
    "# @njit\n",
    "# def compute_D_mat(node_array_position, element_array_index, K_index):\n",
    "# \tK_vertices = node_array_position[element_array_index[K_index]] \n",
    "# \tD = get_D_mat(K_vertices)\n",
    "# \treturn D"
   ]
  },
  {
   "cell_type": "code",
   "execution_count": 21,
   "metadata": {
    "ExecuteTime": {
     "end_time": "2020-12-07T04:46:59.215264Z",
     "start_time": "2020-12-07T04:46:59.187725Z"
    },
    "hidden": true
   },
   "outputs": [],
   "source": [
    "# @njit\n",
    "# def compute_element_volume(node_array_position, element_array_index, K_index):\n",
    "# \t'''Example Usage: \n",
    "# \tX_inverse = compute_inverse_position(node_array_equilibrium_position, element_array_index, K_index)'''\n",
    "# \tD_K = compute_D_mat(node_array_position, element_array_index, K_index)\n",
    "# \t# X_inverse = np.linalg.inv(D_K)\n",
    "# \t#undeformed volume of element\n",
    "# \tW = np.abs(np.linalg.det(D_K)/6.)\n",
    "# \treturn W"
   ]
  },
  {
   "cell_type": "code",
   "execution_count": 22,
   "metadata": {
    "ExecuteTime": {
     "end_time": "2020-12-07T04:46:59.244705Z",
     "start_time": "2020-12-07T04:46:59.217077Z"
    },
    "hidden": true
   },
   "outputs": [],
   "source": [
    "D = get_D_mat(K_vertices)"
   ]
  },
  {
   "cell_type": "code",
   "execution_count": 23,
   "metadata": {
    "ExecuteTime": {
     "end_time": "2020-12-07T04:46:59.275046Z",
     "start_time": "2020-12-07T04:46:59.246637Z"
    },
    "hidden": true
   },
   "outputs": [],
   "source": [
    "D_K = compute_D_mat(node_array_position=vertices, element_array_index=elements, K_index=K_index)"
   ]
  },
  {
   "cell_type": "code",
   "execution_count": 24,
   "metadata": {
    "ExecuteTime": {
     "end_time": "2020-12-07T04:46:59.308693Z",
     "start_time": "2020-12-07T04:46:59.281864Z"
    },
    "hidden": true
   },
   "outputs": [],
   "source": [
    "K_W = compute_element_volume(node_array_position=vertices, element_array_index=elements, K_index=K_index)"
   ]
  },
  {
   "cell_type": "markdown",
   "metadata": {
    "hidden": true
   },
   "source": [
    "## comp_nodal_elastic_forces"
   ]
  },
  {
   "cell_type": "code",
   "execution_count": 25,
   "metadata": {
    "ExecuteTime": {
     "end_time": "2020-12-07T04:46:59.341263Z",
     "start_time": "2020-12-07T04:46:59.312403Z"
    },
    "hidden": true
   },
   "outputs": [
    {
     "name": "stdout",
     "output_type": "stream",
     "text": [
      "\t@njit\n",
      "\tdef comp_nodal_elastic_forces(K_W, Bm, Ds, f_out):\n",
      "\t\tF = Ds @ Bm\n",
      "\t\tP = calc_P(F)\n",
      "\t\tH = -K_W * P @ Bm.T\n",
      "\t\tH = H.T\n",
      "\t\tf_out[0] += H[0]\n",
      "\t\tf_out[1] += H[1]\n",
      "\t\tf_out[2] += H[2]\n",
      "\t\tf_out[3] += (-H[0] -H[1] -H[2])\n",
      "\t\treturn f_out\n",
      "\n"
     ]
    }
   ],
   "source": [
    "print(inspect.getsource(comp_nodal_elastic_forces))"
   ]
  },
  {
   "cell_type": "code",
   "execution_count": 26,
   "metadata": {
    "ExecuteTime": {
     "end_time": "2020-12-07T04:46:59.372075Z",
     "start_time": "2020-12-07T04:46:59.343509Z"
    },
    "hidden": true
   },
   "outputs": [],
   "source": [
    "comp_nodal_elastic_forces = get_comp_nodal_elastic_forces(mu, lam)"
   ]
  },
  {
   "cell_type": "code",
   "execution_count": 27,
   "metadata": {
    "ExecuteTime": {
     "end_time": "2020-12-07T04:47:00.467569Z",
     "start_time": "2020-12-07T04:46:59.374521Z"
    },
    "hidden": true
   },
   "outputs": [],
   "source": [
    "fe   = comp_nodal_elastic_forces(K_W, Bm, Ds, f_out = zero_mat.copy())"
   ]
  },
  {
   "cell_type": "code",
   "execution_count": 28,
   "metadata": {
    "ExecuteTime": {
     "end_time": "2020-12-07T04:47:00.493390Z",
     "start_time": "2020-12-07T04:47:00.468877Z"
    },
    "hidden": true
   },
   "outputs": [],
   "source": [
    "fe   = comp_nodal_elastic_forces(K_W, Bm, Ds, f_out = zero_mat.copy())"
   ]
  },
  {
   "cell_type": "code",
   "execution_count": 29,
   "metadata": {
    "ExecuteTime": {
     "end_time": "2020-12-07T04:47:03.243469Z",
     "start_time": "2020-12-07T04:47:00.495301Z"
    },
    "hidden": true
   },
   "outputs": [],
   "source": [
    "compute_nodal_damping_forces  = get_compute_nodal_damping_forces(mu,lam,gamma)\n",
    "\n",
    "fd   = compute_nodal_damping_forces(K_velocities, Ds, K_W, Bm, delta_f=zero_mat.copy())\n"
   ]
  },
  {
   "cell_type": "code",
   "execution_count": 30,
   "metadata": {
    "ExecuteTime": {
     "end_time": "2020-12-07T04:47:03.276694Z",
     "start_time": "2020-12-07T04:47:03.245450Z"
    },
    "hidden": true
   },
   "outputs": [],
   "source": [
    "fd   = compute_nodal_damping_forces(K_velocities, Ds, K_W, Bm, delta_f=zero_mat.copy())\n"
   ]
  },
  {
   "cell_type": "markdown",
   "metadata": {},
   "source": [
    "# don't njit the movie making.  That process will take roughly 40 minutes to create 2 minutes of video content at 40fps...  I'm okay with that."
   ]
  },
  {
   "cell_type": "markdown",
   "metadata": {
    "heading_collapsed": true
   },
   "source": [
    "# energy measurement"
   ]
  },
  {
   "cell_type": "code",
   "execution_count": 31,
   "metadata": {
    "ExecuteTime": {
     "end_time": "2020-12-07T04:47:03.311639Z",
     "start_time": "2020-12-07T04:47:03.279069Z"
    },
    "hidden": true
   },
   "outputs": [],
   "source": [
    "mass_of_K = element_array_mass[K_index]"
   ]
  },
  {
   "cell_type": "code",
   "execution_count": 32,
   "metadata": {
    "ExecuteTime": {
     "end_time": "2020-12-07T04:47:04.227115Z",
     "start_time": "2020-12-07T04:47:03.313478Z"
    },
    "hidden": true
   },
   "outputs": [
    {
     "data": {
      "text/plain": [
       "3.4441343989734264e-05"
      ]
     },
     "execution_count": 32,
     "metadata": {},
     "output_type": "execute_result"
    }
   ],
   "source": [
    "comp_element_energy ( mass_of_K, K_velocities, K_W, Bm, Ds, mu, lam)"
   ]
  },
  {
   "cell_type": "code",
   "execution_count": 33,
   "metadata": {
    "ExecuteTime": {
     "end_time": "2020-12-07T04:47:04.252848Z",
     "start_time": "2020-12-07T04:47:04.228567Z"
    },
    "hidden": true
   },
   "outputs": [
    {
     "data": {
      "text/plain": [
       "3.4441343989734264e-05"
      ]
     },
     "execution_count": 33,
     "metadata": {},
     "output_type": "execute_result"
    }
   ],
   "source": [
    "comp_element_energy ( mass_of_K, K_velocities, K_W, Bm, Ds, mu, lam)"
   ]
  },
  {
   "cell_type": "markdown",
   "metadata": {
    "heading_collapsed": true
   },
   "source": [
    "# if I njit the whole mesh measurements, then everything should be good for high level njit'ing"
   ]
  },
  {
   "cell_type": "code",
   "execution_count": 34,
   "metadata": {
    "ExecuteTime": {
     "end_time": "2020-12-07T04:47:04.665413Z",
     "start_time": "2020-12-07T04:47:04.254263Z"
    },
    "hidden": true
   },
   "outputs": [
    {
     "data": {
      "text/plain": [
       "4.164633994810831"
      ]
     },
     "execution_count": 34,
     "metadata": {},
     "output_type": "execute_result"
    }
   ],
   "source": [
    "compute_net_volume(vertices, elements)\n"
   ]
  },
  {
   "cell_type": "code",
   "execution_count": 36,
   "metadata": {
    "ExecuteTime": {
     "end_time": "2020-12-07T04:47:05.973539Z",
     "start_time": "2020-12-07T04:47:05.894761Z"
    },
    "hidden": true
   },
   "outputs": [
    {
     "data": {
      "text/plain": [
       "4.164633994810831"
      ]
     },
     "execution_count": 36,
     "metadata": {},
     "output_type": "execute_result"
    }
   ],
   "source": [
    "compute_net_volume(vertices, elements)\n"
   ]
  },
  {
   "cell_type": "code",
   "execution_count": 37,
   "metadata": {
    "ExecuteTime": {
     "end_time": "2020-12-07T04:47:06.772625Z",
     "start_time": "2020-12-07T04:47:05.975882Z"
    },
    "hidden": true
   },
   "outputs": [
    {
     "data": {
      "text/plain": [
       "0.41954969589532776"
      ]
     },
     "execution_count": 37,
     "metadata": {},
     "output_type": "execute_result"
    }
   ],
   "source": [
    "compute_net_energy(N_elements, element_array_mass, velocities, vertices,\n",
    "                              elements, element_array_inverse_equilibrium_position, mu, lam)"
   ]
  },
  {
   "cell_type": "code",
   "execution_count": 38,
   "metadata": {
    "ExecuteTime": {
     "end_time": "2020-12-07T04:47:06.916609Z",
     "start_time": "2020-12-07T04:47:06.774280Z"
    },
    "hidden": true
   },
   "outputs": [
    {
     "data": {
      "text/plain": [
       "0.41954969589532776"
      ]
     },
     "execution_count": 38,
     "metadata": {},
     "output_type": "execute_result"
    }
   ],
   "source": [
    "compute_net_energy(N_elements, element_array_mass, velocities, vertices,\n",
    "                              elements, element_array_inverse_equilibrium_position, mu, lam)"
   ]
  },
  {
   "cell_type": "code",
   "execution_count": 35,
   "metadata": {
    "ExecuteTime": {
     "end_time": "2020-12-07T04:47:05.893436Z",
     "start_time": "2020-12-07T04:47:04.666956Z"
    },
    "hidden": true
   },
   "outputs": [
    {
     "name": "stderr",
     "output_type": "stream",
     "text": [
      "/Users/timothytyree/Documents/GitHub/adavi/nb/lib/measure/mesh_measures.py:30: NumbaPerformanceWarning: '@' is faster on contiguous arrays, called on (array(float64, 2d, C), array(float64, 2d, A))\n",
      "  element_array_energy[K_index] = comp_element_energy(mass_of_K, K_velocities, K_W, Bm, Ds, mu, lam)\n"
     ]
    },
    {
     "data": {
      "text/plain": [
       "array([4.65148647e-05, 2.32691699e-05, 3.34268897e-05, ...,\n",
       "       2.01333900e-05, 1.09409004e-05, 9.27826301e-06])"
      ]
     },
     "execution_count": 35,
     "metadata": {},
     "output_type": "execute_result"
    }
   ],
   "source": [
    "comp_element_array_energy(N_elements, element_array_mass, velocities, vertices,\n",
    "                              elements, element_array_inverse_equilibrium_position, mu, lam)"
   ]
  },
  {
   "cell_type": "code",
   "execution_count": 39,
   "metadata": {
    "ExecuteTime": {
     "end_time": "2020-12-07T04:52:34.463959Z",
     "start_time": "2020-12-07T04:52:34.318419Z"
    },
    "hidden": true
   },
   "outputs": [
    {
     "data": {
      "text/plain": [
       "array([4.65148647e-05, 2.32691699e-05, 3.34268897e-05, ...,\n",
       "       2.01333900e-05, 1.09409004e-05, 9.27826301e-06])"
      ]
     },
     "execution_count": 39,
     "metadata": {},
     "output_type": "execute_result"
    }
   ],
   "source": [
    "comp_element_array_energy(N_elements, element_array_mass, velocities, vertices,\n",
    "                              elements, element_array_inverse_equilibrium_position, mu, lam)"
   ]
  },
  {
   "cell_type": "markdown",
   "metadata": {
    "heading_collapsed": true
   },
   "source": [
    "# net force njitsu"
   ]
  },
  {
   "cell_type": "code",
   "execution_count": 40,
   "metadata": {
    "ExecuteTime": {
     "end_time": "2020-12-07T05:00:01.495673Z",
     "start_time": "2020-12-07T05:00:01.466380Z"
    },
    "hidden": true
   },
   "outputs": [],
   "source": [
    "#compute the nodal forces for each tetrahedral\n",
    "K_W = compute_element_volume(node_array_position=vertices, element_array_index=elements, K_index=K_index)\n",
    "Bm  = element_array_inverse_equilibrium_position[K_index]\n",
    "Ds  = get_D_mat(K_vertices)\n",
    "fe   = comp_nodal_elastic_forces(K_W, Bm, Ds, f_out = zero_mat.copy())\n",
    "fd   = compute_nodal_damping_forces(K_velocities, Ds, K_W, Bm, delta_f=zero_mat.copy())\n",
    "\n",
    "#TODO(later): include any other forces, such as nodal forces, pressure forces, etc.\n",
    "#net nodal forces\n",
    "force = fe + fd"
   ]
  },
  {
   "cell_type": "code",
   "execution_count": 47,
   "metadata": {
    "ExecuteTime": {
     "end_time": "2020-12-07T05:04:14.827772Z",
     "start_time": "2020-12-07T05:04:14.799272Z"
    },
    "hidden": true
   },
   "outputs": [],
   "source": [
    "# def get_compute_force(mu,lam,gamma):\n",
    "#     compute_nodal_damping_forces  = get_compute_nodal_damping_forces(mu,lam,gamma)\n",
    "#     comp_nodal_elastic_forces = get_comp_nodal_elastic_forces(mu, lam)\n",
    "#     @njit\n",
    "#     def compute_force(K_velocities, Ds, K_W, Bm, zero_mat):\n",
    "#         \"\"\"returns the net nodal forces for an element\"\"\"\n",
    "#         fe   = comp_nodal_elastic_forces(K_W, Bm, Ds, f_out = zero_mat.copy())\n",
    "#         fd   = compute_nodal_damping_forces(K_velocities, Ds, K_W, Bm, delta_f=zero_mat.copy())\n",
    "#         force = fe + fd\n",
    "#         return force\n",
    "#     return compute_force"
   ]
  },
  {
   "cell_type": "code",
   "execution_count": 70,
   "metadata": {
    "ExecuteTime": {
     "end_time": "2020-12-07T05:10:50.391055Z",
     "start_time": "2020-12-07T05:10:43.611290Z"
    },
    "hidden": true
   },
   "outputs": [
    {
     "data": {
      "text/plain": [
       "array([[ 0.00038165,  0.00117242, -0.00049697],\n",
       "       [-0.00481031, -0.00090432,  0.00022637],\n",
       "       [-0.00026932, -0.00041377,  0.00159091],\n",
       "       [ 0.00469798,  0.00014567, -0.0013203 ]])"
      ]
     },
     "execution_count": 70,
     "metadata": {},
     "output_type": "execute_result"
    }
   ],
   "source": [
    "compute_force = get_compute_force(mu,lam,gamma)\n",
    "compute_force(K_velocities, Ds, K_W, Bm, zero_mat)"
   ]
  },
  {
   "cell_type": "code",
   "execution_count": 67,
   "metadata": {
    "ExecuteTime": {
     "end_time": "2020-12-07T05:05:18.296054Z",
     "start_time": "2020-12-07T05:05:16.667389Z"
    },
    "hidden": true
   },
   "outputs": [],
   "source": [
    "a = 0.\n",
    "for j in range(100000):\n",
    "    a += compute_force(K_velocities, Ds, K_W, Bm, zero_mat)"
   ]
  },
  {
   "cell_type": "code",
   "execution_count": 68,
   "metadata": {
    "ExecuteTime": {
     "end_time": "2020-12-07T05:05:19.132915Z",
     "start_time": "2020-12-07T05:05:19.108559Z"
    },
    "hidden": true
   },
   "outputs": [
    {
     "data": {
      "text/plain": [
       "array([[  38.16516944,  117.24236308,  -49.69745728],\n",
       "       [-481.03051752,  -90.43222608,   22.63685829],\n",
       "       [ -26.93234832,  -41.37708997,  159.09073511],\n",
       "       [ 469.79769639,   14.56695297, -132.03013611]])"
      ]
     },
     "execution_count": 68,
     "metadata": {},
     "output_type": "execute_result"
    }
   ],
   "source": [
    "a"
   ]
  },
  {
   "cell_type": "markdown",
   "metadata": {
    "heading_collapsed": true
   },
   "source": [
    "# dev a per element one step method and njit it"
   ]
  },
  {
   "cell_type": "code",
   "execution_count": null,
   "metadata": {
    "ExecuteTime": {
     "end_time": "2020-12-07T05:32:53.809984Z",
     "start_time": "2020-12-07T05:32:53.786714Z"
    },
    "hidden": true
   },
   "outputs": [],
   "source": []
  },
  {
   "cell_type": "code",
   "execution_count": 118,
   "metadata": {
    "ExecuteTime": {
     "end_time": "2020-12-07T05:32:58.952944Z",
     "start_time": "2020-12-07T05:32:58.924680Z"
    },
    "hidden": true
   },
   "outputs": [],
   "source": [
    "tau = node_array_time\n",
    "tauK = element_array_time"
   ]
  },
  {
   "cell_type": "code",
   "execution_count": 119,
   "metadata": {
    "ExecuteTime": {
     "end_time": "2020-12-07T05:33:01.389996Z",
     "start_time": "2020-12-07T05:33:01.363409Z"
    },
    "hidden": true
   },
   "outputs": [],
   "source": [
    "K_index = 7\n",
    "\n",
    "#compute the namespace of the force computation of the elemental configuration\n",
    "Ka = element_array_index[K_index]\n",
    "tau_of_K = tauK[K_index]\n",
    "K_vertices = vertices[Ka]\n",
    "K_velocities = velocities[Ka]\n",
    "K_masses = node_array_mass[Ka]\n",
    "K_tau = tau[Ka]\n",
    "K_W = compute_element_volume(node_array_position=vertices, element_array_index=elements, K_index=K_index)\n",
    "Bm  = element_array_inverse_equilibrium_position[K_index]\n",
    "Ds  = get_D_mat(K_vertices)\n"
   ]
  },
  {
   "cell_type": "code",
   "execution_count": 132,
   "metadata": {
    "ExecuteTime": {
     "end_time": "2020-12-07T05:38:45.997255Z",
     "start_time": "2020-12-07T05:38:45.968064Z"
    },
    "hidden": true
   },
   "outputs": [],
   "source": [
    "# def get_compute_one_step_forward_euler_method(mu,lam,gamma):\n",
    "#     compute_force = get_compute_force(mu,lam,gamma)\n",
    "#     @njit\n",
    "#     def compute_one_step_forward_euler_method(t, K_vertices, K_velocities, K_masses, K_tau, tau_of_K, Ds, Bm, K_W, zero_mat):\n",
    "#         '''integrates the inputed element configuration up tot time t.  element time is not updated by this function.\n",
    "#         also updates K_velocities, K_vertices, K_tau, to time t.'''\n",
    "#         Na = 4 # number of tetrahedral nodes, which is 4\n",
    "#         # t, K_index, vertices, velocities, Ka, tau, tauK, elements, element_array_inverse_equilibrium_position, zero_mat, node_array_mass):\n",
    "#         #         Delta_x = np.multiply (K_velocities , (t - K_tau))\n",
    "#         for a in range(Na):\n",
    "#             K_vertices[a] = K_vertices[a] + K_velocities[a] * (t - K_tau[a]) #+ Delta_x[a]\n",
    "#         #update node times\n",
    "#         for a in range(Na):\n",
    "#             K_tau[a] = t\n",
    "#         #compute the nodal forces for the tetrahedral element\n",
    "#         force = compute_force(K_velocities, Ds, K_W, Bm, zero_mat.copy())\n",
    "#         # force = compute_force(K_velocities, Ds, K_W, Bm, zero_mat) #is this faster? also doesn't update zero_mat?\n",
    "#         #        Delta_v = np.multiply ( (t - tau_of_K) / K_masses , force )\n",
    "#         #update node velocities \n",
    "#         for a in range(Na):\n",
    "#             K_velocities[a] = K_velocities[a] + (t - tau_of_K) / K_masses[a] * force[a] #+ Delta_v[a]\n",
    "        \n",
    "#         #TODO(later): if node is not a boundary node, set velocity to zero\n",
    "#         #         return Delta_x, Delta_v\n",
    "#     return compute_one_step_forward_euler_method"
   ]
  },
  {
   "cell_type": "code",
   "execution_count": 133,
   "metadata": {
    "ExecuteTime": {
     "end_time": "2020-12-07T05:38:52.242103Z",
     "start_time": "2020-12-07T05:38:52.213247Z"
    },
    "hidden": true
   },
   "outputs": [],
   "source": [
    "compute_one_step_forward_euler_method=get_compute_one_step_forward_euler_method(mu,lam,gamma)"
   ]
  },
  {
   "cell_type": "code",
   "execution_count": 134,
   "metadata": {
    "ExecuteTime": {
     "end_time": "2020-12-07T05:38:52.857228Z",
     "start_time": "2020-12-07T05:38:52.826984Z"
    },
    "hidden": true
   },
   "outputs": [
    {
     "name": "stdout",
     "output_type": "stream",
     "text": [
      "[[ -11876.56275803  -17333.64538883   10918.02351634]\n",
      " [  99491.47276607   32484.98870086  -32036.30391532]\n",
      " [  22095.60846812   10212.53957775  -37111.21098642]\n",
      " [-241880.90805621  -34508.8776153   141759.59501336]] [[ 3.31652990e+07  4.74685839e+07 -3.59389213e+07]\n",
      " [-2.37034530e+08 -9.02646674e+07  1.02479977e+08]\n",
      " [-6.53487530e+07 -3.31047317e+07  1.13524958e+08]\n",
      " [ 5.95733876e+08  1.13186601e+08 -4.33473430e+08]] [0.00147413 0.00082212 0.00113599 0.00036965] [8.2 8.2 8.2 8.2] 0.0\n"
     ]
    }
   ],
   "source": [
    "print(K_vertices, K_velocities, K_masses, K_tau, tau_of_K)"
   ]
  },
  {
   "cell_type": "code",
   "execution_count": 135,
   "metadata": {
    "ExecuteTime": {
     "end_time": "2020-12-07T05:39:04.654479Z",
     "start_time": "2020-12-07T05:38:54.520046Z"
    },
    "hidden": true
   },
   "outputs": [],
   "source": [
    "compute_one_step_forward_euler_method(t, K_vertices, K_velocities, K_masses, K_tau, tau_of_K, Ds, Bm, K_W, zero_mat)"
   ]
  },
  {
   "cell_type": "code",
   "execution_count": 136,
   "metadata": {
    "ExecuteTime": {
     "end_time": "2020-12-07T05:39:05.288594Z",
     "start_time": "2020-12-07T05:39:05.264386Z"
    },
    "hidden": true
   },
   "outputs": [
    {
     "name": "stdout",
     "output_type": "stream",
     "text": [
      "[[-3.98102354e+07 -5.69796343e+07  4.31376236e+07]\n",
      " [ 2.84540928e+08  1.08350086e+08 -1.23008009e+08]\n",
      " [ 7.84405993e+07  3.97358906e+07 -1.36267060e+08]\n",
      " [-7.15122532e+08 -1.35858430e+08  5.20309875e+08]] [[-9.09422592e+10 -1.31760493e+11  1.05737227e+11]\n",
      " [ 6.21104936e+11  2.49814688e+11 -2.94054286e+11]\n",
      " [ 1.82064413e+11  9.68321750e+10 -3.27864661e+11]\n",
      " [-1.57818631e+12 -3.27725785e+11  1.23988332e+12]] [0.00147413 0.00082212 0.00113599 0.00036965] [7. 7. 7. 7.] 0.0\n"
     ]
    }
   ],
   "source": [
    "print(K_vertices, K_velocities, K_masses, K_tau, tau_of_K)"
   ]
  },
  {
   "cell_type": "markdown",
   "metadata": {
    "hidden": true
   },
   "source": [
    "verified that the original configuration is updated by compute_one_step_forward_euler_method"
   ]
  },
  {
   "cell_type": "code",
   "execution_count": 137,
   "metadata": {
    "ExecuteTime": {
     "end_time": "2020-12-07T05:39:05.887905Z",
     "start_time": "2020-12-07T05:39:05.864447Z"
    },
    "hidden": true
   },
   "outputs": [],
   "source": [
    "compute_one_step_forward_euler_method(t, K_vertices, K_velocities, K_masses, K_tau, tau_of_K, Ds, Bm, K_W, zero_mat)\n"
   ]
  },
  {
   "cell_type": "code",
   "execution_count": 125,
   "metadata": {
    "ExecuteTime": {
     "end_time": "2020-12-07T05:33:32.696340Z",
     "start_time": "2020-12-07T05:33:32.670470Z"
    },
    "hidden": true
   },
   "outputs": [
    {
     "name": "stdout",
     "output_type": "stream",
     "text": [
      "[[-5.77472642 -0.21974694  0.27215671]\n",
      " [-5.65160492 -0.10365256  0.30321957]\n",
      " [-6.22915941 -0.13351224  0.2142964 ]\n",
      " [-6.30118951 -0.09593313  0.30064529]] [[  -9892.32335968  -14444.52136824    9098.12613303]\n",
      " [  82914.27030916   27070.91029451  -26697.1726124 ]\n",
      " [  18418.19802294    8510.56090833  -30926.18773568]\n",
      " [-201562.17238891  -28757.31806848  118132.74530673]] [0.00147413 0.00082212 0.00113599 0.00036965] [7. 7. 7. 7.] 0.0\n"
     ]
    }
   ],
   "source": [
    "print(K_vertices, K_velocities, K_masses, K_tau, tau_of_K)"
   ]
  },
  {
   "cell_type": "code",
   "execution_count": 126,
   "metadata": {
    "ExecuteTime": {
     "end_time": "2020-12-07T05:33:39.383573Z",
     "start_time": "2020-12-07T05:33:39.358021Z"
    },
    "hidden": true
   },
   "outputs": [],
   "source": [
    "compute_one_step_forward_euler_method(t+1.2, K_vertices, K_velocities, K_masses, K_tau, tau_of_K, Ds, Bm, K_W, zero_mat)\n"
   ]
  },
  {
   "cell_type": "code",
   "execution_count": 127,
   "metadata": {
    "ExecuteTime": {
     "end_time": "2020-12-07T05:33:43.490025Z",
     "start_time": "2020-12-07T05:33:43.435238Z"
    },
    "hidden": true
   },
   "outputs": [
    {
     "name": "stdout",
     "output_type": "stream",
     "text": [
      "[[ -11876.56275803  -17333.64538883   10918.02351634]\n",
      " [  99491.47276607   32484.98870086  -32036.30391532]\n",
      " [  22095.60846812   10212.53957775  -37111.21098642]\n",
      " [-241880.90805621  -34508.8776153   141759.59501336]] [[ 3.31652990e+07  4.74685839e+07 -3.59389213e+07]\n",
      " [-2.37034530e+08 -9.02646674e+07  1.02479977e+08]\n",
      " [-6.53487530e+07 -3.31047317e+07  1.13524958e+08]\n",
      " [ 5.95733876e+08  1.13186601e+08 -4.33473430e+08]] [0.00147413 0.00082212 0.00113599 0.00036965] [8.2 8.2 8.2 8.2] 0.0\n"
     ]
    }
   ],
   "source": [
    "print(K_vertices, K_velocities, K_masses, K_tau, tau_of_K)"
   ]
  },
  {
   "cell_type": "markdown",
   "metadata": {
    "hidden": true
   },
   "source": [
    "so, all configuration variables update except the elemental time (since it is a python primative and not a numpy array).  This must thus be done externally\n"
   ]
  },
  {
   "cell_type": "markdown",
   "metadata": {
    "heading_collapsed": true
   },
   "source": [
    "# njit one element update with FEI, from K_index up until pushing to queue"
   ]
  },
  {
   "cell_type": "code",
   "execution_count": 146,
   "metadata": {
    "ExecuteTime": {
     "end_time": "2020-12-07T05:45:42.455285Z",
     "start_time": "2020-12-07T05:45:42.421463Z"
    },
    "hidden": true
   },
   "outputs": [],
   "source": [
    "# def get_one_step_forward_euler_method(mu,lam,gamma):\n",
    "#     compute_one_step_forward_euler_method=get_compute_one_step_forward_euler_method(mu,lam,gamma)\n",
    "#     @njit\n",
    "#     def one_step_forward_euler_method(t, K_index, element_array_index, tauK, tau, \n",
    "#                                       vertices, velocities, node_array_mass, element_array_inverse_equilibrium_position):\n",
    "#         #compute the namespace of the force computation of the elemental configuration\n",
    "#         Ka = element_array_index[K_index]\n",
    "#         tau_of_K = tauK[K_index]\n",
    "#         K_tau = tau[Ka]\n",
    "#         K_vertices = vertices[Ka]\n",
    "#         K_velocities = velocities[Ka]\n",
    "#         K_masses = node_array_mass[Ka]\n",
    "#         Bm  = element_array_inverse_equilibrium_position[K_index]\n",
    "#         K_W = compute_element_volume(node_array_position=vertices, element_array_index=elements, K_index=K_index)\n",
    "#         Ds  = get_D_mat(K_vertices)\n",
    "#         compute_one_step_forward_euler_method(t, K_vertices, K_velocities, K_masses, K_tau, tau_of_K, Ds, Bm, K_W, zero_mat) #updates nodal times\n",
    "#         #update element's time\n",
    "#         tauK[K_index] = t\n",
    "#     return one_step_forward_euler_method"
   ]
  },
  {
   "cell_type": "code",
   "execution_count": 147,
   "metadata": {
    "ExecuteTime": {
     "end_time": "2020-12-07T05:46:02.409829Z",
     "start_time": "2020-12-07T05:46:02.375065Z"
    },
    "hidden": true
   },
   "outputs": [],
   "source": [
    "one_step_forward_euler_method = get_one_step_forward_euler_method(mu,lam,gamma)"
   ]
  },
  {
   "cell_type": "code",
   "execution_count": 149,
   "metadata": {
    "ExecuteTime": {
     "end_time": "2020-12-07T05:46:36.133314Z",
     "start_time": "2020-12-07T05:46:21.935409Z"
    },
    "hidden": true
   },
   "outputs": [
    {
     "name": "stderr",
     "output_type": "stream",
     "text": [
      "<ipython-input-146-02d5193feb9e>:16: NumbaPerformanceWarning: '@' is faster on contiguous arrays, called on (array(float64, 2d, C), array(float64, 2d, A))\n",
      "  compute_one_step_forward_euler_method(t, K_vertices, K_velocities, K_masses, K_tau, tau_of_K, Ds, Bm, K_W, zero_mat) #updates nodal times\n"
     ]
    }
   ],
   "source": [
    "K_index = 14\n",
    "t = 14\n",
    "one_step_forward_euler_method(t, K_index, element_array_index, tauK, tau, vertices, velocities, node_array_mass, element_array_inverse_equilibrium_position)"
   ]
  },
  {
   "cell_type": "code",
   "execution_count": 151,
   "metadata": {
    "ExecuteTime": {
     "end_time": "2020-12-07T05:46:49.502319Z",
     "start_time": "2020-12-07T05:46:49.479513Z"
    },
    "hidden": true
   },
   "outputs": [],
   "source": [
    "K_index = 14\n",
    "t = 15\n",
    "one_step_forward_euler_method(t, K_index, element_array_index, tauK, tau, vertices, velocities, node_array_mass, element_array_inverse_equilibrium_position)"
   ]
  },
  {
   "cell_type": "code",
   "execution_count": 164,
   "metadata": {
    "ExecuteTime": {
     "end_time": "2020-12-07T05:49:45.346383Z",
     "start_time": "2020-12-07T05:49:44.251363Z"
    },
    "hidden": true
   },
   "outputs": [],
   "source": [
    "K_index = 245\n",
    "for t in np.linspace(18, 19, 50000):\n",
    "    one_step_forward_euler_method(t, K_index, element_array_index, tauK, tau, vertices, velocities, node_array_mass, element_array_inverse_equilibrium_position)"
   ]
  },
  {
   "cell_type": "code",
   "execution_count": 161,
   "metadata": {
    "ExecuteTime": {
     "end_time": "2020-12-07T05:49:13.887040Z",
     "start_time": "2020-12-07T05:49:13.855541Z"
    },
    "hidden": true
   },
   "outputs": [
    {
     "data": {
      "text/plain": [
       "(array([[ 0.82318336, -0.28679195,  0.49001995],\n",
       "        [-0.61198336, -0.17415603, -0.77145708],\n",
       "        [-0.46902016, -0.81415004, -0.34231538],\n",
       "        ...,\n",
       "        [-0.36995283, -0.31743564,  0.50062042],\n",
       "        [-0.55663522, -0.13616795,  0.43350866],\n",
       "        [-0.52032534, -0.180729  ,  0.46283292]]),\n",
       " array([[ 0.82318336, -0.        ,  0.        ],\n",
       "        [-0.61198336, -0.        , -0.        ],\n",
       "        [-0.46902016, -0.        , -0.        ],\n",
       "        ...,\n",
       "        [-0.36995283, -0.        ,  0.        ],\n",
       "        [-0.55663522, -0.        ,  0.        ],\n",
       "        [-0.52032534, -0.        ,  0.        ]]))"
      ]
     },
     "execution_count": 161,
     "metadata": {},
     "output_type": "execute_result"
    }
   ],
   "source": [
    "# element_array_index, \n",
    "# tauK, tau, \n",
    "# vertices, velocities, \n",
    "# node_array_mass, element_array_inverse_equilibrium_position"
   ]
  },
  {
   "cell_type": "markdown",
   "metadata": {
    "heading_collapsed": true,
    "hidden": true
   },
   "source": [
    "## I can now update an element with FEI about 50,000 times per second."
   ]
  },
  {
   "cell_type": "code",
   "execution_count": null,
   "metadata": {
    "hidden": true
   },
   "outputs": [],
   "source": [
    "K_index = 246\n",
    "for t in np.linspace(18, 19, 50000):\n",
    "    one_step_forward_euler_method(t, K_index, element_array_index, tauK, tau, vertices, velocities, node_array_mass, element_array_inverse_equilibrium_position)"
   ]
  },
  {
   "cell_type": "code",
   "execution_count": null,
   "metadata": {
    "ExecuteTime": {
     "end_time": "2020-12-07T05:55:57.565112Z",
     "start_time": "2020-12-07T05:55:57.536497Z"
    },
    "hidden": true
   },
   "outputs": [],
   "source": [
    "#TODO: first make a vague cartoon of an AVI is njit'able\n",
    "# @njit\n",
    "def foo():\n",
    "    N_tasks = 7\n",
    "    item_lst = [(-i,1.,0) for i in range(N_tasks)] \n",
    "    heapq.heapify(item_lst)\n",
    "\n",
    "    #integrate up to time tf and then synchronize the configurations\n",
    "    tf = N_tasks*2\n",
    "    while len(item_lst)>0:\n",
    "        item = heapq.heappop(item_lst)\n",
    "        t,h,K_index = item\n",
    "        if t<=tf:\n",
    "            #(for each step case & comparing each stepcase):\n",
    "            #get the configuration\n",
    "            #update the vertices and vertex times to t (or some varient)\n",
    "            #compute the forces\n",
    "            #update the vertex velocities and elemental times\n",
    "            #compare results for the stepcases\n",
    "            #update the actual configuration with the results of the best stepcase\n",
    "            #push the next task to the heap\n",
    "            item = (t+1, 2.,0)\n",
    "            heapq.heappush(item_lst, item)\n",
    "    #synchronize all elemental configurations to the same time\n",
    "    #measure observables\n",
    "    return item"
   ]
  },
  {
   "cell_type": "markdown",
   "metadata": {
    "heading_collapsed": true
   },
   "source": [
    "# njit an AVI up to time tf, given a list of initial times and stepsizes per element"
   ]
  },
  {
   "cell_type": "code",
   "execution_count": 46,
   "metadata": {
    "ExecuteTime": {
     "end_time": "2020-12-07T07:05:54.616985Z",
     "start_time": "2020-12-07T07:05:53.836177Z"
    },
    "hidden": true
   },
   "outputs": [
    {
     "name": "stderr",
     "output_type": "stream",
     "text": [
      "face_normals all zero, ignoring!\n"
     ]
    },
    {
     "name": "stdout",
     "output_type": "stream",
     "text": [
      "['element_array_time', 'element_array_index', 'element_array_mass', 'element_array_volume', 'element_array_inverse_equilibrium_position', 'node_array_equilibrium_position', 'node_array_time', 'node_array_position', 'node_array_momentum', 'node_array_mass', 'node_array_volume']\n"
     ]
    }
   ],
   "source": [
    "os.chdir(nb_dir)\n",
    "# input_file_name = f'../data/spherical_meshes/spherical_mesh_64.stl'input_file_name = f'../data/spherical_meshes/spherical_mesh_64.stl'\n",
    "input_file_name = f'../data/spherical_meshes/spherical_mesh_1000.stl'\n",
    "tme = 0.\n",
    "mass_density=1.\n",
    "dict_values_system = initialize_system(input_file_name, time_initial=tme, mass_density=mass_density)\n",
    "locals().update(dict_values_system)\n",
    "print(list(dict_values_system.keys()))\n",
    "\n",
    "#define Lamé parameters\n",
    "mu = 1.; lam = 1.; \n",
    "#define coefficient for Rayleigh damping\n",
    "gamma = 1.;\n",
    "\n",
    "#define adaptive time stepping absolute tolerances\n",
    "atol_x = 1e-4; atol_v = 1e-4; \n",
    "btol_x = 1e-12; btol_v = 1e-12; \n",
    "\n",
    "#get method of computing elastic forces \n",
    "zero_mat = np.zeros((4,3))\n",
    "# calc_P = get_calc_P(mu, lam)\n",
    "# compute_nodal_damping_forces  = get_compute_nodal_damping_forces(mu,lam,gamma)\n",
    "# comp_nodal_elastic_forces = get_comp_nodal_elastic_forces(mu, lam)\n",
    "\n",
    "elements = element_array_index\n",
    "vertices = node_array_position\n",
    "\n",
    "N_elements = elements.shape[0]\n",
    "N_vertices = vertices.shape[0]\n",
    "\n",
    "#initialize stepsizes\n",
    "stepsize_init = 0.001\n",
    "element_array_stepsize = np.zeros_like(element_array_time) + stepsize_init\n",
    "\n",
    "#perturb momentum in the outward x direction and let it run overnight with a small timestep\n",
    "momentum = node_array_momentum.copy()\n",
    "velocities = momentum.copy()\n",
    "for j in range(N_vertices):\n",
    "    velocities[j] /= node_array_mass[j]\n",
    "v_scale = 1\n",
    "velocities[:,0] = v_scale * vertices[:,0].copy()\n",
    "\n",
    "#initialize containers of measures\n",
    "volume_lst = []\n",
    "energy_lst = []\n",
    "tme_lst    = []"
   ]
  },
  {
   "cell_type": "code",
   "execution_count": null,
   "metadata": {
    "ExecuteTime": {
     "end_time": "2020-12-07T07:01:26.474949Z",
     "start_time": "2020-12-07T07:01:26.445035Z"
    },
    "hidden": true
   },
   "outputs": [],
   "source": []
  },
  {
   "cell_type": "code",
   "execution_count": null,
   "metadata": {
    "ExecuteTime": {
     "end_time": "2020-12-07T06:50:11.382925Z",
     "start_time": "2020-12-07T06:50:11.358522Z"
    },
    "hidden": true
   },
   "outputs": [],
   "source": []
  },
  {
   "cell_type": "code",
   "execution_count": 47,
   "metadata": {
    "ExecuteTime": {
     "end_time": "2020-12-07T07:06:29.495567Z",
     "start_time": "2020-12-07T07:06:29.463201Z"
    },
    "hidden": true
   },
   "outputs": [],
   "source": [
    "def get_integrate_system_explicit_synchronous(mu,lam,gamma):\n",
    "    one_step_forward_euler_method = get_one_step_forward_euler_method(mu,lam,gamma)\n",
    "    @njit\n",
    "    def integrate_system_explicit_synchronous(tf, element_array_time, element_array_stepsize, \n",
    "                                             element_array_index, vertices, velocities, \n",
    "                                          node_array_mass, element_array_inverse_equilibrium_position):\n",
    "        \"\"\"integrate up to time tf with synchronous forward euler integration\"\"\"\n",
    "        #initialize the queue by pushing all finite elements into the queue\n",
    "        N_elements = element_array_stepsize.shape[0]\n",
    "        queue = [(element_array_time[K_index],element_array_stepsize[K_index],K_index) for K_index in range(N_elements)]\n",
    "        heapq.heapify(queue)\n",
    "\n",
    "        tauK = element_array_time\n",
    "        tau  = node_array_time\n",
    "        #do until priority queue is empty\n",
    "        while len(queue) > 0:\n",
    "            t,h,K_index = heapq.heappop(queue)\n",
    "            if t<=tf:\n",
    "                t_previous = tauK[K_index]\n",
    "                #TODO: for each stepcase: #(for the purpose of comparing each stepcase)\n",
    "                #TODO: update the configuration arrays of each stepcase with the configuration for this element\n",
    "                #timestep the configuration with forward euler integration\n",
    "                one_step_forward_euler_method(t, K_index, element_array_index, \n",
    "                                              tauK, tau, vertices, velocities, \n",
    "                                              node_array_mass, \n",
    "                                              element_array_inverse_equilibrium_position)\n",
    "                #update the elemental times\n",
    "                tauK[K_index] = t\n",
    "\n",
    "                #TODO: compare results for the stepcases. choose an h_next for the next time for element's evaluation\n",
    "                stepsize_next = h\n",
    "                t_next = t + stepsize_next\n",
    "                #TODO: update the actual configuration with the results of the best stepcase\n",
    "                element_array_stepsize[K_index] = stepsize_next\n",
    "                #TODO: push the next task to the heap/priority queue\n",
    "                heapq.heappush(queue, (t_next, stepsize_next, K_index))\n",
    "\n",
    "        #synchronize all nodes  to the current time, tf.\n",
    "        for K_index in range(N_elements):\n",
    "            Ka = element_array_index[K_index]\n",
    "            for a in Ka:\n",
    "                vertices[a] = vertices[a] + velocities[a] * (tf - tau[a])\n",
    "        return True\n",
    "    return integrate_system_explicit_synchronous"
   ]
  },
  {
   "cell_type": "code",
   "execution_count": 49,
   "metadata": {
    "ExecuteTime": {
     "end_time": "2020-12-07T07:07:34.805630Z",
     "start_time": "2020-12-07T07:07:16.418217Z"
    },
    "hidden": true
   },
   "outputs": [
    {
     "name": "stderr",
     "output_type": "stream",
     "text": [
      "<ipython-input-47-569b5ec9ae92>:23: NumbaPerformanceWarning: '@' is faster on contiguous arrays, called on (array(float64, 2d, C), array(float64, 2d, A))\n",
      "  one_step_forward_euler_method(t, K_index, element_array_index,\n"
     ]
    },
    {
     "data": {
      "text/plain": [
       "True"
      ]
     },
     "execution_count": 49,
     "metadata": {},
     "output_type": "execute_result"
    }
   ],
   "source": [
    "#jit compile the forward time integration by integrating to the first stepsize\n",
    "tf = stepsize_init # .001\n",
    "integrate_system_explicit_synchronous = get_integrate_system_explicit_synchronous(mu,lam,gamma)\n",
    "integrate_system_explicit_synchronous(tf, element_array_time, element_array_stepsize, \n",
    "                                         element_array_index, vertices, velocities, \n",
    "                                      node_array_mass, element_array_inverse_equilibrium_position)"
   ]
  },
  {
   "cell_type": "code",
   "execution_count": 51,
   "metadata": {
    "ExecuteTime": {
     "end_time": "2020-12-07T07:08:08.784586Z",
     "start_time": "2020-12-07T07:08:08.138584Z"
    },
    "hidden": true
   },
   "outputs": [
    {
     "name": "stdout",
     "output_type": "stream",
     "text": [
      "False\n",
      "False\n"
     ]
    }
   ],
   "source": [
    "beep(3)\n",
    "print(np.isnan(vertices).any())\n",
    "print(np.isnan(velocities).any())"
   ]
  },
  {
   "cell_type": "code",
   "execution_count": 52,
   "metadata": {
    "ExecuteTime": {
     "end_time": "2020-12-07T07:08:45.284041Z",
     "start_time": "2020-12-07T07:08:09.563679Z"
    },
    "hidden": true
   },
   "outputs": [
    {
     "data": {
      "text/plain": [
       "True"
      ]
     },
     "execution_count": 52,
     "metadata": {},
     "output_type": "execute_result"
    }
   ],
   "source": [
    "tf = .1\n",
    "integrate_system_explicit_synchronous(tf, element_array_time, element_array_stepsize, \n",
    "                                         element_array_index, vertices, velocities, \n",
    "                                      node_array_mass, element_array_inverse_equilibrium_position)"
   ]
  },
  {
   "cell_type": "code",
   "execution_count": 53,
   "metadata": {
    "ExecuteTime": {
     "end_time": "2020-12-07T07:17:49.955430Z",
     "start_time": "2020-12-07T07:17:49.760597Z"
    },
    "hidden": true
   },
   "outputs": [
    {
     "data": {
      "text/plain": [
       "(16.292805914944193, nan)"
      ]
     },
     "execution_count": 53,
     "metadata": {},
     "output_type": "execute_result"
    }
   ],
   "source": [
    "#measure observables\n",
    "net_volume = compute_net_volume(vertices, element_array_index)\n",
    "net_energy = compute_net_energy(N_elements, element_array_mass, velocities, vertices,\n",
    "                              element_array_index, element_array_inverse_equilibrium_position, mu, lam)\n",
    "#return \n",
    "net_volume, net_energy\n",
    "        "
   ]
  },
  {
   "cell_type": "code",
   "execution_count": 17,
   "metadata": {
    "ExecuteTime": {
     "end_time": "2020-12-07T06:53:20.856297Z",
     "start_time": "2020-12-07T06:53:20.720147Z"
    },
    "hidden": true
   },
   "outputs": [
    {
     "data": {
      "text/plain": [
       "nan"
      ]
     },
     "execution_count": 17,
     "metadata": {},
     "output_type": "execute_result"
    }
   ],
   "source": [
    "compute_net_energy(N_elements, element_array_mass, velocities, vertices,\n",
    "                              elements, element_array_inverse_equilibrium_position, mu, lam)"
   ]
  },
  {
   "cell_type": "code",
   "execution_count": 54,
   "metadata": {
    "ExecuteTime": {
     "end_time": "2020-12-07T07:30:45.795924Z",
     "start_time": "2020-12-07T07:30:44.938081Z"
    },
    "hidden": true
   },
   "outputs": [
    {
     "name": "stderr",
     "output_type": "stream",
     "text": [
      "face_normals all zero, ignoring!\n",
      "/usr/local/lib/python3.8/site-packages/tetgen/pytetgen.py:534: UserWarning: VTK 9 no longer accepts an offset array\n",
      "  self._grid = pv.UnstructuredGrid(offset, cells, cell_type, self.node)\n"
     ]
    },
    {
     "data": {
      "image/png": "[encoded data removed]",
      "text/plain": [
       "<PIL.Image.Image image mode=RGB size=1280x720 at 0x13AE17580>"
      ]
     },
     "metadata": {},
     "output_type": "display_data"
    }
   ],
   "source": [
    "from lib.viewer.vtk_viewer_of_mesh import *\n",
    "\n",
    "img = plot_mesh(vertices, input_file_name=input_file_name, darkmode=False)"
   ]
  },
  {
   "cell_type": "code",
   "execution_count": 1,
   "metadata": {
    "ExecuteTime": {
     "end_time": "2020-12-07T18:28:46.457105Z",
     "start_time": "2020-12-07T18:28:46.454698Z"
    },
    "hidden": true
   },
   "outputs": [],
   "source": [
    "        \n",
    "#         #if a new time has been observed, measure the old_mesh volume. record volume and tme. update the old_mesh and time\n",
    "#         if t>tme:\n",
    "#             volume = compute_net_volume(old_vertices, elements)\n",
    "#             volume_lst.append(volume)\n",
    "#             tme_lst.append(tme)\n",
    "#             #suppose synchronous time stepping\n",
    "#             tme = t\n",
    "#             old_vertices = vertices.copy()   \n",
    "\n",
    "#             #synchronize all nodal positions with current time, tf\n",
    "# for K_index in range(N_elements):\n",
    "#     Ka = elements[K_index]\n",
    "#     for a in Ka:\n",
    "#         vertices[a] = vertices[a] + velocities[a] * (tf - tau[a])\n",
    "#     #update node times\n",
    "#     for a in Ka:\n",
    "#         tau[a] = tf\n",
    "# #update momentum\n",
    "# for j in range(N_vertices):\n",
    "#     node_array_momentum[j] = node_array_mass[j] * velocities[j]\n",
    "    \n",
    "# #update synchronous time\n",
    "# tme = tf\n",
    "\n",
    "# #Bottom Line Up Front (BLUF)\n",
    "# beep(3)\n",
    "# print(tf-t0)\n",
    "# print(stepsize)"
   ]
  },
  {
   "cell_type": "code",
   "execution_count": 3,
   "metadata": {
    "ExecuteTime": {
     "end_time": "2020-12-07T18:28:54.777352Z",
     "start_time": "2020-12-07T18:28:54.775027Z"
    },
    "hidden": true
   },
   "outputs": [],
   "source": [
    "try:\n",
    "    pass\n",
    "except:\n",
    "    pass"
   ]
  },
  {
   "cell_type": "code",
   "execution_count": null,
   "metadata": {
    "hidden": true
   },
   "outputs": [],
   "source": []
  }
 ],
 "metadata": {
  "kernelspec": {
   "display_name": "Python 3",
   "language": "python",
   "name": "python3"
  },
  "language_info": {
   "codemirror_mode": {
    "name": "ipython",
    "version": 3
   },
   "file_extension": ".py",
   "mimetype": "text/x-python",
   "name": "python",
   "nbconvert_exporter": "python",
   "pygments_lexer": "ipython3",
   "version": "3.8.6"
  },
  "varInspector": {
   "cols": {
    "lenName": 16,
    "lenType": 16,
    "lenVar": 40
   },
   "kernels_config": {
    "python": {
     "delete_cmd_postfix": "",
     "delete_cmd_prefix": "del ",
     "library": "var_list.py",
     "varRefreshCmd": "print(var_dic_list())"
    },
    "r": {
     "delete_cmd_postfix": ") ",
     "delete_cmd_prefix": "rm(",
     "library": "var_list.r",
     "varRefreshCmd": "cat(var_dic_list()) "
    }
   },
   "types_to_exclude": [
    "module",
    "function",
    "builtin_function_or_method",
    "instance",
    "_Feature"
   ],
   "window_display": false
  }
 },
 "nbformat": 4,
 "nbformat_minor": 4
}
