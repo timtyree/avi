{
 "cells": [
  {
   "cell_type": "markdown",
   "metadata": {},
   "source": [
    "# diffusion coeffifients for short times versus learning rate"
   ]
  },
  {
   "cell_type": "code",
   "execution_count": 1,
   "metadata": {
    "ExecuteTime": {
     "end_time": "2020-12-11T03:30:41.653623Z",
     "start_time": "2020-12-11T03:30:39.440987Z"
    }
   },
   "outputs": [
    {
     "name": "stdout",
     "output_type": "stream",
     "text": [
      "Automatic calling is: Smart\n"
     ]
    }
   ],
   "source": [
    "%matplotlib inline\n",
    "from lib.my_initialization import *\n",
    "from lib.controller.integrate_forward_dormand_prince_asynchronous import *\n",
    "%autocall 1\n",
    "%load_ext autoreload\n",
    "%autoreload 2"
   ]
  },
  {
   "cell_type": "markdown",
   "metadata": {
    "heading_collapsed": true
   },
   "source": [
    "# record the first unit of time and plot the resulting variance verssus time (salience = 2)"
   ]
  },
  {
   "cell_type": "code",
   "execution_count": 2,
   "metadata": {
    "ExecuteTime": {
     "end_time": "2020-12-11T03:31:17.439412Z",
     "start_time": "2020-12-11T03:31:16.221665Z"
    },
    "hidden": true
   },
   "outputs": [
    {
     "name": "stderr",
     "output_type": "stream",
     "text": [
      "face_normals all zero, ignoring!\n"
     ]
    },
    {
     "name": "stdout",
     "output_type": "stream",
     "text": [
      "['element_array_time', 'element_array_index', 'element_array_mass', 'element_array_volume', 'element_array_inverse_equilibrium_position', 'node_array_equilibrium_position', 'node_array_time', 'node_array_position', 'node_array_momentum', 'node_array_mass', 'node_array_volume']\n"
     ]
    }
   ],
   "source": [
    "#define Lamé parameters\n",
    "mu = 1.; lam = 10.; \n",
    "#define coefficient for Rayleigh damping\n",
    "gamma = .05#1.#1.;\n",
    "\n",
    "#define adaptive time stepping absolute tolerances\n",
    "salience = 2#128#32\n",
    "learning_rate = np.log(salience) #np.log(16) #np.log(2)\n",
    "lasso_fraction = 0.5\n",
    "v_scale = 2.\n",
    "mass_density=1.\n",
    "\n",
    "stepsize_init = 0.0025#0.00001#0.0001\n",
    "atol_x = 0.0001#0.001#1e-7; \n",
    "atol_v = 0.0001#0.001#1e-7; \n",
    "btol_x = 0.00001#0.001#1e-10; \n",
    "btol_v = 0.00001#0.001#1e-10; \n",
    "\n",
    "\n",
    "#path to mesh\n",
    "input_file_name = f'../data/spherical_meshes/spherical_mesh_400.stl'\n",
    "#where to save results\n",
    "data_folder =  os.path.join(nb_dir,'../data/mov_csv')\n",
    "data_fn = f\"avi_es_variable_lr_a_equal_b_{os.path.basename(input_file_name).replace('.stl',f'_mu_{mu}_lambda_{lam}_gamma_{gamma}_vscale_{v_scale}_stepsizeinit_{stepsize_init}')}_salience_{salience}_atolx_{atol_x}.csv\"\n",
    "# data_fn = f\"avi_ns_fixed_lr_a_equal_b_{os.path.basename(input_file_name).replace('.stl',f'_mu_{mu}_lambda_{lam}_gamma_{gamma}vscale_{v_scale}_stepsizeinit_{stepsize_init}')}_salience_{salience}_atolx_{atol_x}.csv\"\n",
    "save_folder_vid = '../vid/tmp'\n",
    "folder_vid = '../vid'\n",
    "# data_fn_counts = data_fn.replace(\"s_\",\"s_counts_\").replace('.csv','.npz')\n",
    "data_fn_counts = data_fn.replace(\"s_\",\"s_counts_\").replace('.csv','.npy')\n",
    "\n",
    "os.chdir(nb_dir)\n",
    "# input_file_name = f'../data/spherical_meshes/spherical_mesh_64.stl'input_file_name = f'../data/spherical_meshes/spherical_mesh_64.stl'\n",
    "# input_file_name = f'../data/spherical_meshes/spherical_mesh_1000.stl'\n",
    "input_file_name = os.path.join(nb_dir,input_file_name)\n",
    "tme = 0.\n",
    "dict_values_system = initialize_system(input_file_name, time_initial=tme, mass_density=mass_density)\n",
    "locals().update(dict_values_system)\n",
    "N_elements = element_array_index.shape[0]\n",
    "N_vertices = node_array_position.shape[0]\n",
    "print(list(dict_values_system.keys()))\n",
    "\n",
    "#header to start of video\n",
    "# TEXT = '''TEXT=$'Synchronous Variational Integrator\\nDamped Neohookean Model\\n(inward squish)''''\n",
    "TEXT = f\"\"\"\n",
    "TEXT=$'an inward squish\n",
    "        Synchronous Variational Integrator \n",
    "        Explicit Newmark Method\n",
    "        \n",
    "        Undamped Neohookean Model\n",
    "        mu {mu}  lambda {lam} gamma {gamma}\n",
    "        \n",
    "        Spherical Mesh\n",
    "        Num. Vertices {N_vertices}\n",
    "        Num. Elements {N_elements}\n",
    "'\"\"\"\n",
    "\n",
    "\n",
    "# TEXT = f\"\"\"\n",
    "# TEXT=$'an inward squish with neural time steps\n",
    "#         Asynchronous Variational Integrator \n",
    "#         Dormand–Prince Method\n",
    "        \n",
    "#         Undamped Neohookean Model\n",
    "#         mu {mu}  lambda {lam} gamma {gamma}\n",
    "        \n",
    "#         Spherical Mesh\n",
    "#         Num. Vertices {N_vertices}\n",
    "#         Num. Elements {N_elements}\n",
    "# '\"\"\"\n",
    "\n",
    "#write header to file\n",
    "# print(TEXT)\n",
    "# Dormand–Prince Method\n",
    "# Explicit Newmark Method\n",
    "# Implicit Midpoint Rule"
   ]
  },
  {
   "cell_type": "code",
   "execution_count": 3,
   "metadata": {
    "ExecuteTime": {
     "end_time": "2020-12-11T03:31:17.539762Z",
     "start_time": "2020-12-11T03:31:17.507298Z"
    },
    "hidden": true
   },
   "outputs": [
    {
     "name": "stdout",
     "output_type": "stream",
     "text": [
      "learning_bins are [0.00477609 0.00477838 0.00478067 0.00478296 0.00478526 0.00478755\n",
      " 0.00478984 0.00479214 0.00479443 0.00479672 0.00479902 0.00480131\n",
      " 0.0048036  0.0048059  0.00480819 0.00481048 0.00481277 0.00481507\n",
      " 0.00481736 0.00481965 0.00482195 0.00482424 0.00482653 0.00482883\n",
      " 0.00483112 0.00483341 0.00483571 0.004838   0.00484029 0.00484258\n",
      " 0.00484488 0.00484717 0.00484946 0.00485176 0.00485405 0.00485634\n",
      " 0.00485864 0.00486093 0.00486322 0.00486552 0.00486781 0.0048701\n",
      " 0.0048724  0.00487469 0.00487698 0.00487927 0.00488157 0.00488386\n",
      " 0.00488615 0.00488845 0.00489074 0.00489303 0.00489533 0.00489762\n",
      " 0.00489991 0.00490221 0.0049045  0.00490679 0.00490908 0.00491138\n",
      " 0.00491367 0.00491596 0.00491826 0.00492055 0.00492284 0.00492514\n",
      " 0.00492743 0.00492972 0.00493202 0.00493431 0.0049366  0.0049389\n",
      " 0.00494119 0.00494348 0.00494577 0.00494807 0.00495036 0.00495265\n",
      " 0.00495495 0.00495724 0.00495953 0.00496183 0.00496412 0.00496641\n",
      " 0.00496871 0.004971   0.00497329 0.00497558 0.00497788 0.00498017\n",
      " 0.00498246 0.00498476 0.00498705 0.00498934 0.00499164 0.00499393\n",
      " 0.00499622 0.00499852 0.00500081 0.0050031  0.00500539]\n"
     ]
    }
   ],
   "source": [
    "#initialize system\n",
    "tauK = element_array_time\n",
    "tau = node_array_time\n",
    "\n",
    "#get method of computing elastic forces \n",
    "zero_mat = np.zeros((4,3))\n",
    "# calc_P = get_calc_P(mu, lam)\n",
    "# compute_nodal_damping_forces  = get_compute_nodal_damping_forces(mu,lam,gamma)\n",
    "# comp_nodal_elastic_forces = get_comp_nodal_elastic_forces(mu, lam)\n",
    "\n",
    "elements = element_array_index\n",
    "vertices = node_array_position\n",
    "\n",
    "#initialize stepsizes of simulation\n",
    "element_array_stepsize = np.zeros_like(element_array_time) + stepsize_init\n",
    "element_array_count_calls_one_step = np.zeros_like(element_array_time,dtype=int)\n",
    "element_array_count_config_updates = np.zeros_like(element_array_time,dtype=int)\n",
    "momentum = node_array_momentum.copy()\n",
    "velocities = momentum.copy()\n",
    "for j in range(N_vertices):\n",
    "    velocities[j] /= node_array_mass[j]\n",
    "\n",
    "\n",
    "# #perturb momentum in the x direction and let it run overnight with a small timestep  \n",
    "velocities[:,0] = -v_scale * vertices[:,0].copy()\n",
    "\n",
    "#initialize containers of measures\n",
    "volume_lst = []\n",
    "energy_lst = []\n",
    "tme_lst    = []\n",
    "stepsize_mean_lst   = []\n",
    "stepsize_std_lst    = []\n",
    "stepsize_median_lst = []\n",
    "stepsize_count_lst = []\n",
    "frac_lb = lambda i: np.exp(learning_rate*i)  ##np.exp((i+.5)*learning_rate/10)\n",
    "# learning_bins = np.array([stepsize_init*frac_lb(i) for i in np.arange(-15,15)])\n",
    "\n",
    "# #this looks nice. 30 bins\n",
    "# learning_bins = np.array([0.00480198, 0.00480886, 0.00481574, 0.00482262, 0.00482951,\n",
    "#         0.00483639, 0.00484327, 0.00485015, 0.00485703, 0.00486391,\n",
    "#         0.0048708 , 0.00487768, 0.00488456, 0.00489144, 0.00489832,\n",
    "#         0.0049052 , 0.00491209, 0.00491897, 0.00492585, 0.00493273,\n",
    "#         0.00493961, 0.00494649, 0.00495338, 0.00496026, 0.00496714,\n",
    "#         0.00497402, 0.0049809 , 0.00498778, 0.00499467, 0.00500155,\n",
    "#         0.00500843])\n",
    "\n",
    "#let's try 100 bins\n",
    "learning_bins = np.array([0.00477609, 0.00477838, 0.00478067, 0.00478296, 0.00478526,\n",
    "        0.00478755, 0.00478984, 0.00479214, 0.00479443, 0.00479672,\n",
    "        0.00479902, 0.00480131, 0.0048036 , 0.0048059 , 0.00480819,\n",
    "        0.00481048, 0.00481277, 0.00481507, 0.00481736, 0.00481965,\n",
    "        0.00482195, 0.00482424, 0.00482653, 0.00482883, 0.00483112,\n",
    "        0.00483341, 0.00483571, 0.004838  , 0.00484029, 0.00484258,\n",
    "        0.00484488, 0.00484717, 0.00484946, 0.00485176, 0.00485405,\n",
    "        0.00485634, 0.00485864, 0.00486093, 0.00486322, 0.00486552,\n",
    "        0.00486781, 0.0048701 , 0.0048724 , 0.00487469, 0.00487698,\n",
    "        0.00487927, 0.00488157, 0.00488386, 0.00488615, 0.00488845,\n",
    "        0.00489074, 0.00489303, 0.00489533, 0.00489762, 0.00489991,\n",
    "        0.00490221, 0.0049045 , 0.00490679, 0.00490908, 0.00491138,\n",
    "        0.00491367, 0.00491596, 0.00491826, 0.00492055, 0.00492284,\n",
    "        0.00492514, 0.00492743, 0.00492972, 0.00493202, 0.00493431,\n",
    "        0.0049366 , 0.0049389 , 0.00494119, 0.00494348, 0.00494577,\n",
    "        0.00494807, 0.00495036, 0.00495265, 0.00495495, 0.00495724,\n",
    "        0.00495953, 0.00496183, 0.00496412, 0.00496641, 0.00496871,\n",
    "        0.004971  , 0.00497329, 0.00497558, 0.00497788, 0.00498017,\n",
    "        0.00498246, 0.00498476, 0.00498705, 0.00498934, 0.00499164,\n",
    "        0.00499393, 0.00499622, 0.00499852, 0.00500081, 0.0050031 ,\n",
    "        0.00500539])\n",
    "\n",
    "# learning_bins = np.array([stepsize_init*np.exp((i+.5)*learning_rate) for i in np.arange(-3,3)])\n",
    "print(f\"learning_bins are {learning_bins}\")"
   ]
  },
  {
   "cell_type": "code",
   "execution_count": 5,
   "metadata": {
    "ExecuteTime": {
     "end_time": "2020-12-11T03:33:44.181767Z",
     "start_time": "2020-12-11T03:33:44.153993Z"
    },
    "hidden": true
   },
   "outputs": [],
   "source": [
    "#choose your fighter\n",
    "# integrate_system_explicit_synchronous = get_integrate_system_explicit_synchronous(mu,lam,gamma)\n",
    "# integrate_system_implicit_synchronous = get_integrate_system_implicit_synchronous(mu,lam,gamma,num_iter=30)\n",
    "# integrate_system_dormand_prince_synchronous = get_integrate_system_dormand_prince_synchronous(mu,lam,gamma)\n",
    "# integrate_system_dormand_prince_asynchronous = get_integrate_system_dormand_prince_asynchronous(mu,lam,gamma,atol_x, atol_v, btol_x, btol_v,learning_rate, lasso_fraction)\n",
    "integrate_system_explicit_asynchronous = get_integrate_system_explicit_asynchronous(mu,lam,gamma)\n",
    "\n",
    "#(optional) #view the mesh\n",
    "# plot_mesh(vertices, input_file_name=input_file_name, darkmode=True)"
   ]
  },
  {
   "cell_type": "code",
   "execution_count": 6,
   "metadata": {
    "ExecuteTime": {
     "end_time": "2020-12-11T03:36:31.816780Z",
     "start_time": "2020-12-11T03:33:53.424365Z"
    },
    "hidden": true
   },
   "outputs": [
    {
     "name": "stderr",
     "output_type": "stream",
     "text": [
      "/Users/timothytyree/Documents/GitHub/avi/nb/lib/controller/integrate_forward_explicit_asynchronous.py:45: NumbaPerformanceWarning: '@' is faster on contiguous arrays, called on (array(float64, 2d, C), array(float64, 2d, A))\n",
      "  next_stepsize, retval, madval = step_forward_and_learn_simple(K_index, t_given, node_array_time, element_array_time, vertices, velocities, element_array_index,\n",
      "/Users/timothytyree/Documents/GitHub/avi/nb/lib/measure/mesh_measures.py:35: NumbaPerformanceWarning: '@' is faster on contiguous arrays, called on (array(float64, 2d, C), array(float64, 2d, A))\n",
      "  element_array_energy = comp_element_array_energy(N_elements, element_array_mass, velocities, vertices,\n"
     ]
    },
    {
     "name": "stdout",
     "output_type": "stream",
     "text": [
      "0.004852796376526191 0.0028680862480341476 0.004999999999999893\n"
     ]
    }
   ],
   "source": [
    "tB = 1.\n",
    "\n",
    "#prepare for video\n",
    "frameno = 1\n",
    "time_between_observations = 0.01\n",
    "time_end_recording = tB\n",
    "time_of_next_observation = tme + time_between_observations\n",
    "\n",
    "#ready... get set... GO!\n",
    "os.chdir(nb_dir)\n",
    "os.chdir(save_folder_vid)\n",
    "\n",
    "while time_of_next_observation <= time_end_recording:\n",
    "    tf = time_of_next_observation\n",
    "    #integrate forward to the next time of observation\n",
    "#     integrate_system_explicit_synchronous(tf, element_array_time, element_array_stepsize, node_array_time,\n",
    "#                                              element_array_index, vertices, velocities,node_array_mass, element_array_inverse_equilibrium_position)\n",
    "    #     integrate_system_implicit_synchronous(tf, element_array_time, element_array_stepsize, node_array_time,\n",
    "    #                                          element_array_index, vertices, velocities,node_array_mass, element_array_inverse_equilibrium_position)\n",
    "    #     integrate_system_dormand_prince_asynchronous(tf,element_array_time,element_array_stepsize,node_array_time,element_array_index,vertices,velocities,\n",
    "    #         node_array_mass,element_array_inverse_equilibrium_position,element_array_mass)\n",
    "    integrate_system_explicit_asynchronous(tf, element_array_time, element_array_stepsize, node_array_time,\n",
    "                                             element_array_index, vertices, velocities, node_array_mass, element_array_inverse_equilibrium_position, atol_x, atol_v, btol_x, btol_v, learning_rate)\n",
    "\n",
    "    #update a copy of all positions to the observation time using the current velocity\n",
    "    x = vertices.copy()\n",
    "    for a in range(N_vertices):\n",
    "        x[a] += velocities[a] * (tf - tau[a])\n",
    "    \n",
    "    #measure observables\n",
    "    ##mesh measures\n",
    "    net_volume = compute_net_volume(x, element_array_index)\n",
    "    net_energy = compute_net_energy(N_elements, element_array_mass, velocities, x, #vertices,\n",
    "                                  element_array_index, element_array_inverse_equilibrium_position, mu, lam)\n",
    "    ##stepsize measures\n",
    "    stepsize_mean = np.mean(element_array_stepsize)\n",
    "    stepsize_std = np.std(element_array_stepsize)\n",
    "    stepsize_median = np.median(element_array_stepsize)\n",
    "\n",
    "    #record observables\n",
    "    volume_lst.append(net_volume)\n",
    "    energy_lst.append(net_energy)\n",
    "    tme = tf\n",
    "    tme_lst.append(tme)\n",
    "    stepsize_mean_lst.append(stepsize_mean)\n",
    "    stepsize_std_lst.append(stepsize_std)\n",
    "    stepsize_median_lst.append(stepsize_median)\n",
    "    stepsize_count_lst.append(count_array(array = element_array_stepsize,bins=learning_bins))\n",
    "    #record image of system\n",
    "#     try:\n",
    "#         img = get_img_of_system(vertices, input_file_name, darkmode = False, text=f'time={tf:.2f}')\n",
    "#     except:\n",
    "#         pass\n",
    "#     save_fn_img = f'img{frameno:09}.png'\n",
    "#     frameno += 1\n",
    "#     Img = Image.fromarray(img)\n",
    "# #     Img.save(save_fn_img)\n",
    "\n",
    "\n",
    "#     del Img\n",
    "    #increment time_of_next_observation\n",
    "    time_of_next_observation += time_between_observations\n",
    "    #TODO(later): do something that makes a boring video less boring\n",
    "    #TODO(later): def element_array_count_calls_one_step to the call of integrate_system_.... i.e. Keep track of how many times each element is called to time step\n",
    "    #TODO(later): keep track of how many times each element config is updated with element_array_count_config_updates\n",
    "print(stepsize_mean, stepsize_std, stepsize_median)\n",
    "# beep(3)"
   ]
  },
  {
   "cell_type": "code",
   "execution_count": 7,
   "metadata": {
    "ExecuteTime": {
     "end_time": "2020-12-11T03:37:02.270301Z",
     "start_time": "2020-12-11T03:37:02.245477Z"
    },
    "hidden": true
   },
   "outputs": [],
   "source": [
    "bins = 30\n",
    "axkwargs = {\n",
    "    'fontsize':14,\n",
    "    \n",
    "}\n",
    "hkwargs = {\n",
    "    'color':'blue',#'orange',\n",
    "    'cumulative':False,\n",
    "    'stacked':True,\n",
    "    'log':False,\n",
    "    'density':False,\n",
    "    'bins':bins\n",
    "}"
   ]
  },
  {
   "cell_type": "code",
   "execution_count": 8,
   "metadata": {
    "ExecuteTime": {
     "end_time": "2020-12-11T03:37:04.269303Z",
     "start_time": "2020-12-11T03:37:03.837325Z"
    },
    "hidden": true
   },
   "outputs": [
    {
     "data": {
      "image/png": "[encoded data removed]",
      "text/plain": [
       "<Figure size 864x288 with 3 Axes>"
      ]
     },
     "metadata": {
      "needs_background": "light"
     },
     "output_type": "display_data"
    }
   ],
   "source": [
    "fig, axs = plt.subplots(figsize = (12,4), ncols = 3)\n",
    "\n",
    "\n",
    "ax = axs[0]\n",
    "x_values = np.array(tme_lst)\n",
    "y_values = np.array(stepsize_mean_lst)\n",
    "ax.plot(x_values, y_values)\n",
    "ax.fill_between(x_values, y_values-stepsize_std_lst,y_values+stepsize_std_lst, alpha=0.2)\n",
    "ax.set_xlabel('time',**axkwargs)\n",
    "ax.set_ylabel('average step size',**axkwargs)\n",
    "# plt.xticks(**axkwargs)\n",
    "ax.tick_params(labelsize=axkwargs['fontsize'])\n",
    "\n",
    "ax = axs[1]\n",
    "x_values = np.array(tme_lst)\n",
    "y_values = np.array([s**2 for s in stepsize_std_lst])\n",
    "ax.plot(x_values, y_values)\n",
    "# ax.fill_between(x_values, y_values-stepsize_std_lst,y_values+stepsize_std_lst, alpha=0.2)\n",
    "ax.set_xlabel('time',**axkwargs)\n",
    "ax.set_ylabel('variance in step size',**axkwargs)\n",
    "ax.tick_params(labelsize=axkwargs['fontsize'])\n",
    "\n",
    "ax = axs[2]\n",
    "x_values = np.array(tme_lst)\n",
    "y_values = np.array(energy_lst)/energy_lst[0]#[s**2/m for s,m in zip(stepsize_std_lst,stepsize_mean_lst)])\n",
    "ax.plot(x_values, y_values)\n",
    "# ax.fill_between(x_values, y_values-stepsize_std_lst,y_values+stepsize_std_lst, alpha=0.2)\n",
    "ax.set_xlabel('time',**axkwargs)\n",
    "ax.set_ylabel('energy / initial energy',**axkwargs)\n",
    "ax.tick_params(labelsize=axkwargs['fontsize'])\n",
    "\n",
    "# ax = axs[2]\n",
    "# x_values = np.array(tme_lst)\n",
    "# y_values = np.array(volume_lst)/volume_lst[0]#[s**2/m for s,m in zip(stepsize_std_lst,stepsize_mean_lst)])\n",
    "# ax.plot(x_values, y_values)\n",
    "# # ax.fill_between(x_values, y_values-stepsize_std_lst,y_values+stepsize_std_lst, alpha=0.2)\n",
    "# ax.set_xlabel('time',**axkwargs)\n",
    "# ax.set_ylabel('volume / initial volume',**axkwargs)\n",
    "# ax.tick_params(labelsize=axkwargs['fontsize'])\n",
    "\n",
    "plt.tight_layout()\n",
    "plt.show()"
   ]
  },
  {
   "cell_type": "code",
   "execution_count": 15,
   "metadata": {
    "ExecuteTime": {
     "end_time": "2020-12-11T03:40:00.086750Z",
     "start_time": "2020-12-11T03:40:00.062190Z"
    },
    "hidden": true
   },
   "outputs": [],
   "source": [
    "data_fn = f\"avi_es_variable_lr_{os.path.basename(input_file_name).replace('.stl',f'_mu_{mu}_lambda_{lam}_gamma_{gamma}_vscale_{v_scale}_salience_{salience}_stepsizeinit_{stepsize_init}')}_atolx_{atol_x}_btolx_{btol_x}.csv\""
   ]
  },
  {
   "cell_type": "code",
   "execution_count": 16,
   "metadata": {
    "ExecuteTime": {
     "end_time": "2020-12-11T03:40:00.494799Z",
     "start_time": "2020-12-11T03:40:00.466373Z"
    },
    "hidden": true
   },
   "outputs": [],
   "source": [
    "df = pd.DataFrame({\n",
    "    't':tme_lst,\n",
    "    'volume':volume_lst,\n",
    "    'energy':energy_lst,\n",
    "    'stepsize_mean':stepsize_mean_lst,\n",
    "    'stepsize_std':stepsize_std_lst,\n",
    "    'stepsize_median':stepsize_median_lst,\n",
    "})"
   ]
  },
  {
   "cell_type": "code",
   "execution_count": 17,
   "metadata": {
    "ExecuteTime": {
     "end_time": "2020-12-11T03:40:01.133911Z",
     "start_time": "2020-12-11T03:40:01.098038Z"
    },
    "hidden": true
   },
   "outputs": [],
   "source": [
    "os.chdir(data_folder)\n",
    "df.to_csv(data_fn, index=False)"
   ]
  },
  {
   "cell_type": "code",
   "execution_count": null,
   "metadata": {
    "hidden": true
   },
   "outputs": [],
   "source": [
    "# \"avi_es_variable_lr_a_equal_b_spherical_mesh_400_mu_1.0_lambda_10.0_gamma_0.05_vscale_2.0_stepsizeinit_0.0025_salience_2_atolx_0.0001.csv\"\n",
    "\n"
   ]
  },
  {
   "cell_type": "markdown",
   "metadata": {
    "heading_collapsed": true
   },
   "source": [
    "# repeat with a larger learning rate (salience = 4)"
   ]
  },
  {
   "cell_type": "code",
   "execution_count": 18,
   "metadata": {
    "ExecuteTime": {
     "end_time": "2020-12-11T03:42:57.406303Z",
     "start_time": "2020-12-11T03:42:57.195960Z"
    },
    "hidden": true
   },
   "outputs": [
    {
     "name": "stderr",
     "output_type": "stream",
     "text": [
      "face_normals all zero, ignoring!\n"
     ]
    },
    {
     "name": "stdout",
     "output_type": "stream",
     "text": [
      "['element_array_time', 'element_array_index', 'element_array_mass', 'element_array_volume', 'element_array_inverse_equilibrium_position', 'node_array_equilibrium_position', 'node_array_time', 'node_array_position', 'node_array_momentum', 'node_array_mass', 'node_array_volume']\n"
     ]
    }
   ],
   "source": [
    "#define Lamé parameters\n",
    "mu = 1.; lam = 10.; \n",
    "#define coefficient for Rayleigh damping\n",
    "gamma = .05#1.#1.;\n",
    "\n",
    "#define adaptive time stepping absolute tolerances\n",
    "salience = 4#128#32\n",
    "learning_rate = np.log(salience) #np.log(16) #np.log(2)\n",
    "lasso_fraction = 0.5\n",
    "v_scale = 2.\n",
    "mass_density=1.\n",
    "\n",
    "stepsize_init = 0.0025#0.00001#0.0001\n",
    "atol_x = 0.0001#0.001#1e-7; \n",
    "atol_v = 0.0001#0.001#1e-7; \n",
    "btol_x = 0.00001#0.001#1e-10; \n",
    "btol_v = 0.00001#0.001#1e-10; \n",
    "\n",
    "\n",
    "#path to mesh\n",
    "input_file_name = f'../data/spherical_meshes/spherical_mesh_400.stl'\n",
    "#where to save results\n",
    "data_folder =  os.path.join(nb_dir,'../data/mov_csv')\n",
    "data_fn = f\"avi_es_variable_lr_a_equal_b_{os.path.basename(input_file_name).replace('.stl',f'_mu_{mu}_lambda_{lam}_gamma_{gamma}_vscale_{v_scale}_stepsizeinit_{stepsize_init}')}_salience_{salience}_atolx_{atol_x}.csv\"\n",
    "# data_fn = f\"avi_ns_fixed_lr_a_equal_b_{os.path.basename(input_file_name).replace('.stl',f'_mu_{mu}_lambda_{lam}_gamma_{gamma}vscale_{v_scale}_stepsizeinit_{stepsize_init}')}_salience_{salience}_atolx_{atol_x}.csv\"\n",
    "save_folder_vid = '../vid/tmp'\n",
    "folder_vid = '../vid'\n",
    "# data_fn_counts = data_fn.replace(\"s_\",\"s_counts_\").replace('.csv','.npz')\n",
    "data_fn_counts = data_fn.replace(\"s_\",\"s_counts_\").replace('.csv','.npy')\n",
    "\n",
    "os.chdir(nb_dir)\n",
    "# input_file_name = f'../data/spherical_meshes/spherical_mesh_64.stl'input_file_name = f'../data/spherical_meshes/spherical_mesh_64.stl'\n",
    "# input_file_name = f'../data/spherical_meshes/spherical_mesh_1000.stl'\n",
    "input_file_name = os.path.join(nb_dir,input_file_name)\n",
    "tme = 0.\n",
    "dict_values_system = initialize_system(input_file_name, time_initial=tme, mass_density=mass_density)\n",
    "locals().update(dict_values_system)\n",
    "N_elements = element_array_index.shape[0]\n",
    "N_vertices = node_array_position.shape[0]\n",
    "print(list(dict_values_system.keys()))\n",
    "\n",
    "#header to start of video\n",
    "# TEXT = '''TEXT=$'Synchronous Variational Integrator\\nDamped Neohookean Model\\n(inward squish)''''\n",
    "TEXT = f\"\"\"\n",
    "TEXT=$'an inward squish\n",
    "        Synchronous Variational Integrator \n",
    "        Explicit Newmark Method\n",
    "        \n",
    "        Undamped Neohookean Model\n",
    "        mu {mu}  lambda {lam} gamma {gamma}\n",
    "        \n",
    "        Spherical Mesh\n",
    "        Num. Vertices {N_vertices}\n",
    "        Num. Elements {N_elements}\n",
    "'\"\"\"\n",
    "\n",
    "\n",
    "# TEXT = f\"\"\"\n",
    "# TEXT=$'an inward squish with neural time steps\n",
    "#         Asynchronous Variational Integrator \n",
    "#         Dormand–Prince Method\n",
    "        \n",
    "#         Undamped Neohookean Model\n",
    "#         mu {mu}  lambda {lam} gamma {gamma}\n",
    "        \n",
    "#         Spherical Mesh\n",
    "#         Num. Vertices {N_vertices}\n",
    "#         Num. Elements {N_elements}\n",
    "# '\"\"\"\n",
    "\n",
    "#write header to file\n",
    "# print(TEXT)\n",
    "# Dormand–Prince Method\n",
    "# Explicit Newmark Method\n",
    "# Implicit Midpoint Rule"
   ]
  },
  {
   "cell_type": "code",
   "execution_count": 20,
   "metadata": {
    "ExecuteTime": {
     "end_time": "2020-12-11T03:43:46.228545Z",
     "start_time": "2020-12-11T03:43:46.192413Z"
    },
    "hidden": true
   },
   "outputs": [
    {
     "name": "stdout",
     "output_type": "stream",
     "text": [
      "learning_bins are [0.00477609 0.00477838 0.00478067 0.00478296 0.00478526 0.00478755\n",
      " 0.00478984 0.00479214 0.00479443 0.00479672 0.00479902 0.00480131\n",
      " 0.0048036  0.0048059  0.00480819 0.00481048 0.00481277 0.00481507\n",
      " 0.00481736 0.00481965 0.00482195 0.00482424 0.00482653 0.00482883\n",
      " 0.00483112 0.00483341 0.00483571 0.004838   0.00484029 0.00484258\n",
      " 0.00484488 0.00484717 0.00484946 0.00485176 0.00485405 0.00485634\n",
      " 0.00485864 0.00486093 0.00486322 0.00486552 0.00486781 0.0048701\n",
      " 0.0048724  0.00487469 0.00487698 0.00487927 0.00488157 0.00488386\n",
      " 0.00488615 0.00488845 0.00489074 0.00489303 0.00489533 0.00489762\n",
      " 0.00489991 0.00490221 0.0049045  0.00490679 0.00490908 0.00491138\n",
      " 0.00491367 0.00491596 0.00491826 0.00492055 0.00492284 0.00492514\n",
      " 0.00492743 0.00492972 0.00493202 0.00493431 0.0049366  0.0049389\n",
      " 0.00494119 0.00494348 0.00494577 0.00494807 0.00495036 0.00495265\n",
      " 0.00495495 0.00495724 0.00495953 0.00496183 0.00496412 0.00496641\n",
      " 0.00496871 0.004971   0.00497329 0.00497558 0.00497788 0.00498017\n",
      " 0.00498246 0.00498476 0.00498705 0.00498934 0.00499164 0.00499393\n",
      " 0.00499622 0.00499852 0.00500081 0.0050031  0.00500539]\n"
     ]
    }
   ],
   "source": [
    "#initialize system\n",
    "tauK = element_array_time\n",
    "tau = node_array_time\n",
    "\n",
    "#get method of computing elastic forces \n",
    "zero_mat = np.zeros((4,3))\n",
    "# calc_P = get_calc_P(mu, lam)\n",
    "# compute_nodal_damping_forces  = get_compute_nodal_damping_forces(mu,lam,gamma)\n",
    "# comp_nodal_elastic_forces = get_comp_nodal_elastic_forces(mu, lam)\n",
    "\n",
    "elements = element_array_index\n",
    "vertices = node_array_position\n",
    "\n",
    "#initialize stepsizes of simulation\n",
    "element_array_stepsize = np.zeros_like(element_array_time) + stepsize_init\n",
    "element_array_count_calls_one_step = np.zeros_like(element_array_time,dtype=int)\n",
    "element_array_count_config_updates = np.zeros_like(element_array_time,dtype=int)\n",
    "momentum = node_array_momentum.copy()\n",
    "velocities = momentum.copy()\n",
    "for j in range(N_vertices):\n",
    "    velocities[j] /= node_array_mass[j]\n",
    "\n",
    "\n",
    "# #perturb momentum in the x direction and let it run overnight with a small timestep  \n",
    "velocities[:,0] = -v_scale * vertices[:,0].copy()\n",
    "\n",
    "#initialize containers of measures\n",
    "volume_lst = []\n",
    "energy_lst = []\n",
    "tme_lst    = []\n",
    "stepsize_mean_lst   = []\n",
    "stepsize_std_lst    = []\n",
    "stepsize_median_lst = []\n",
    "stepsize_count_lst = []\n",
    "frac_lb = lambda i: np.exp(learning_rate*i)  ##np.exp((i+.5)*learning_rate/10)\n",
    "# learning_bins = np.array([stepsize_init*frac_lb(i) for i in np.arange(-15,15)])\n",
    "\n",
    "# #this looks nice. 30 bins\n",
    "# learning_bins = np.array([0.00480198, 0.00480886, 0.00481574, 0.00482262, 0.00482951,\n",
    "#         0.00483639, 0.00484327, 0.00485015, 0.00485703, 0.00486391,\n",
    "#         0.0048708 , 0.00487768, 0.00488456, 0.00489144, 0.00489832,\n",
    "#         0.0049052 , 0.00491209, 0.00491897, 0.00492585, 0.00493273,\n",
    "#         0.00493961, 0.00494649, 0.00495338, 0.00496026, 0.00496714,\n",
    "#         0.00497402, 0.0049809 , 0.00498778, 0.00499467, 0.00500155,\n",
    "#         0.00500843])\n",
    "\n",
    "#let's try 100 bins\n",
    "learning_bins = np.array([0.00477609, 0.00477838, 0.00478067, 0.00478296, 0.00478526,\n",
    "        0.00478755, 0.00478984, 0.00479214, 0.00479443, 0.00479672,\n",
    "        0.00479902, 0.00480131, 0.0048036 , 0.0048059 , 0.00480819,\n",
    "        0.00481048, 0.00481277, 0.00481507, 0.00481736, 0.00481965,\n",
    "        0.00482195, 0.00482424, 0.00482653, 0.00482883, 0.00483112,\n",
    "        0.00483341, 0.00483571, 0.004838  , 0.00484029, 0.00484258,\n",
    "        0.00484488, 0.00484717, 0.00484946, 0.00485176, 0.00485405,\n",
    "        0.00485634, 0.00485864, 0.00486093, 0.00486322, 0.00486552,\n",
    "        0.00486781, 0.0048701 , 0.0048724 , 0.00487469, 0.00487698,\n",
    "        0.00487927, 0.00488157, 0.00488386, 0.00488615, 0.00488845,\n",
    "        0.00489074, 0.00489303, 0.00489533, 0.00489762, 0.00489991,\n",
    "        0.00490221, 0.0049045 , 0.00490679, 0.00490908, 0.00491138,\n",
    "        0.00491367, 0.00491596, 0.00491826, 0.00492055, 0.00492284,\n",
    "        0.00492514, 0.00492743, 0.00492972, 0.00493202, 0.00493431,\n",
    "        0.0049366 , 0.0049389 , 0.00494119, 0.00494348, 0.00494577,\n",
    "        0.00494807, 0.00495036, 0.00495265, 0.00495495, 0.00495724,\n",
    "        0.00495953, 0.00496183, 0.00496412, 0.00496641, 0.00496871,\n",
    "        0.004971  , 0.00497329, 0.00497558, 0.00497788, 0.00498017,\n",
    "        0.00498246, 0.00498476, 0.00498705, 0.00498934, 0.00499164,\n",
    "        0.00499393, 0.00499622, 0.00499852, 0.00500081, 0.0050031 ,\n",
    "        0.00500539])\n",
    "\n",
    "# learning_bins = np.array([stepsize_init*np.exp((i+.5)*learning_rate) for i in np.arange(-3,3)])\n",
    "print(f\"learning_bins are {learning_bins}\")"
   ]
  },
  {
   "cell_type": "code",
   "execution_count": 21,
   "metadata": {
    "ExecuteTime": {
     "end_time": "2020-12-11T03:43:47.836176Z",
     "start_time": "2020-12-11T03:43:47.812630Z"
    },
    "hidden": true
   },
   "outputs": [],
   "source": [
    "#choose your fighter\n",
    "# integrate_system_explicit_synchronous = get_integrate_system_explicit_synchronous(mu,lam,gamma)\n",
    "# integrate_system_implicit_synchronous = get_integrate_system_implicit_synchronous(mu,lam,gamma,num_iter=30)\n",
    "# integrate_system_dormand_prince_synchronous = get_integrate_system_dormand_prince_synchronous(mu,lam,gamma)\n",
    "# integrate_system_dormand_prince_asynchronous = get_integrate_system_dormand_prince_asynchronous(mu,lam,gamma,atol_x, atol_v, btol_x, btol_v,learning_rate, lasso_fraction)\n",
    "\n",
    "# integrate_system_explicit_asynchronous = get_integrate_system_explicit_asynchronous(mu,lam,gamma)\n",
    "\n",
    "#(optional) #view the mesh\n",
    "# plot_mesh(vertices, input_file_name=input_file_name, darkmode=True)"
   ]
  },
  {
   "cell_type": "code",
   "execution_count": 22,
   "metadata": {
    "ExecuteTime": {
     "end_time": "2020-12-11T03:46:08.347957Z",
     "start_time": "2020-12-11T03:43:52.085534Z"
    },
    "hidden": true
   },
   "outputs": [
    {
     "name": "stdout",
     "output_type": "stream",
     "text": [
      "0.004852796376526191 0.0028680862480341476 0.004999999999999893\n"
     ]
    }
   ],
   "source": [
    "tB = 1.\n",
    "\n",
    "#prepare for video\n",
    "frameno = 1\n",
    "time_between_observations = 0.01\n",
    "time_end_recording = tB\n",
    "time_of_next_observation = tme + time_between_observations\n",
    "\n",
    "#ready... get set... GO!\n",
    "os.chdir(nb_dir)\n",
    "os.chdir(save_folder_vid)\n",
    "\n",
    "while time_of_next_observation <= time_end_recording:\n",
    "    tf = time_of_next_observation\n",
    "    #integrate forward to the next time of observation\n",
    "#     integrate_system_explicit_synchronous(tf, element_array_time, element_array_stepsize, node_array_time,\n",
    "#                                              element_array_index, vertices, velocities,node_array_mass, element_array_inverse_equilibrium_position)\n",
    "    #     integrate_system_implicit_synchronous(tf, element_array_time, element_array_stepsize, node_array_time,\n",
    "    #                                          element_array_index, vertices, velocities,node_array_mass, element_array_inverse_equilibrium_position)\n",
    "    #     integrate_system_dormand_prince_asynchronous(tf,element_array_time,element_array_stepsize,node_array_time,element_array_index,vertices,velocities,\n",
    "    #         node_array_mass,element_array_inverse_equilibrium_position,element_array_mass)\n",
    "    integrate_system_explicit_asynchronous(tf, element_array_time, element_array_stepsize, node_array_time,\n",
    "                                             element_array_index, vertices, velocities, node_array_mass, element_array_inverse_equilibrium_position, atol_x, atol_v, btol_x, btol_v, learning_rate)\n",
    "\n",
    "    #update a copy of all positions to the observation time using the current velocity\n",
    "    x = vertices.copy()\n",
    "    for a in range(N_vertices):\n",
    "        x[a] += velocities[a] * (tf - tau[a])\n",
    "    \n",
    "    #measure observables\n",
    "    ##mesh measures\n",
    "    net_volume = compute_net_volume(x, element_array_index)\n",
    "    net_energy = compute_net_energy(N_elements, element_array_mass, velocities, x, #vertices,\n",
    "                                  element_array_index, element_array_inverse_equilibrium_position, mu, lam)\n",
    "    ##stepsize measures\n",
    "    stepsize_mean = np.mean(element_array_stepsize)\n",
    "    stepsize_std = np.std(element_array_stepsize)\n",
    "    stepsize_median = np.median(element_array_stepsize)\n",
    "\n",
    "    #record observables\n",
    "    volume_lst.append(net_volume)\n",
    "    energy_lst.append(net_energy)\n",
    "    tme = tf\n",
    "    tme_lst.append(tme)\n",
    "    stepsize_mean_lst.append(stepsize_mean)\n",
    "    stepsize_std_lst.append(stepsize_std)\n",
    "    stepsize_median_lst.append(stepsize_median)\n",
    "    stepsize_count_lst.append(count_array(array = element_array_stepsize,bins=learning_bins))\n",
    "    #record image of system\n",
    "#     try:\n",
    "#         img = get_img_of_system(vertices, input_file_name, darkmode = False, text=f'time={tf:.2f}')\n",
    "#     except:\n",
    "#         pass\n",
    "#     save_fn_img = f'img{frameno:09}.png'\n",
    "#     frameno += 1\n",
    "#     Img = Image.fromarray(img)\n",
    "# #     Img.save(save_fn_img)\n",
    "\n",
    "\n",
    "#     del Img\n",
    "    #increment time_of_next_observation\n",
    "    time_of_next_observation += time_between_observations\n",
    "    #TODO(later): do something that makes a boring video less boring\n",
    "    #TODO(later): def element_array_count_calls_one_step to the call of integrate_system_.... i.e. Keep track of how many times each element is called to time step\n",
    "    #TODO(later): keep track of how many times each element config is updated with element_array_count_config_updates\n",
    "print(stepsize_mean, stepsize_std, stepsize_median)\n",
    "beep(3)"
   ]
  },
  {
   "cell_type": "code",
   "execution_count": 27,
   "metadata": {
    "ExecuteTime": {
     "end_time": "2020-12-11T03:48:49.242978Z",
     "start_time": "2020-12-11T03:48:49.221426Z"
    },
    "hidden": true
   },
   "outputs": [],
   "source": [
    "bins = 30\n",
    "axkwargs = {\n",
    "    'fontsize':14,\n",
    "    \n",
    "}\n",
    "hkwargs = {\n",
    "    'color':'blue',#'orange',\n",
    "    'cumulative':False,\n",
    "    'stacked':True,\n",
    "    'log':False,\n",
    "    'density':False,\n",
    "    'bins':bins\n",
    "}"
   ]
  },
  {
   "cell_type": "code",
   "execution_count": 28,
   "metadata": {
    "ExecuteTime": {
     "end_time": "2020-12-11T03:48:54.275260Z",
     "start_time": "2020-12-11T03:48:53.875328Z"
    },
    "hidden": true
   },
   "outputs": [
    {
     "data": {
      "image/png": "[encoded data removed]",
      "text/plain": [
       "<Figure size 864x288 with 3 Axes>"
      ]
     },
     "metadata": {
      "needs_background": "light"
     },
     "output_type": "display_data"
    }
   ],
   "source": [
    "fig, axs = plt.subplots(figsize = (12,4), ncols = 3)\n",
    "\n",
    "\n",
    "ax = axs[0]\n",
    "x_values = np.array(tme_lst)\n",
    "y_values = np.array(stepsize_mean_lst)\n",
    "ax.plot(x_values, y_values)\n",
    "ax.fill_between(x_values, y_values-stepsize_std_lst,y_values+stepsize_std_lst, alpha=0.2)\n",
    "ax.set_xlabel('time',**axkwargs)\n",
    "ax.set_ylabel('average step size',**axkwargs)\n",
    "# plt.xticks(**axkwargs)\n",
    "ax.tick_params(labelsize=axkwargs['fontsize'])\n",
    "\n",
    "ax = axs[1]\n",
    "x_values = np.array(tme_lst)\n",
    "y_values = np.array([s**2 for s in stepsize_std_lst])\n",
    "ax.plot(x_values, y_values)\n",
    "# ax.fill_between(x_values, y_values-stepsize_std_lst,y_values+stepsize_std_lst, alpha=0.2)\n",
    "ax.set_xlabel('time',**axkwargs)\n",
    "ax.set_ylabel('variance in step size',**axkwargs)\n",
    "ax.tick_params(labelsize=axkwargs['fontsize'])\n",
    "\n",
    "ax = axs[2]\n",
    "x_values = np.array(tme_lst)\n",
    "y_values = np.array(energy_lst)/energy_lst[0]#[s**2/m for s,m in zip(stepsize_std_lst,stepsize_mean_lst)])\n",
    "ax.plot(x_values, y_values)\n",
    "# ax.fill_between(x_values, y_values-stepsize_std_lst,y_values+stepsize_std_lst, alpha=0.2)\n",
    "ax.set_xlabel('time',**axkwargs)\n",
    "ax.set_ylabel('energy / initial energy',**axkwargs)\n",
    "ax.tick_params(labelsize=axkwargs['fontsize'])\n",
    "\n",
    "# ax = axs[2]\n",
    "# x_values = np.array(tme_lst)\n",
    "# y_values = np.array(volume_lst)/volume_lst[0]#[s**2/m for s,m in zip(stepsize_std_lst,stepsize_mean_lst)])\n",
    "# ax.plot(x_values, y_values)\n",
    "# # ax.fill_between(x_values, y_values-stepsize_std_lst,y_values+stepsize_std_lst, alpha=0.2)\n",
    "# ax.set_xlabel('time',**axkwargs)\n",
    "# ax.set_ylabel('volume / initial volume',**axkwargs)\n",
    "# ax.tick_params(labelsize=axkwargs['fontsize'])\n",
    "\n",
    "plt.tight_layout()\n",
    "plt.show()"
   ]
  },
  {
   "cell_type": "code",
   "execution_count": 15,
   "metadata": {
    "ExecuteTime": {
     "end_time": "2020-12-11T03:40:00.086750Z",
     "start_time": "2020-12-11T03:40:00.062190Z"
    },
    "hidden": true
   },
   "outputs": [],
   "source": [
    "# data_fn = f\"avi_es_variable_lr_{os.path.basename(input_file_name).replace('.stl',f'_mu_{mu}_lambda_{lam}_gamma_{gamma}_vscale_{v_scale}_salience_{salience}_stepsizeinit_{stepsize_init}')}_atolx_{atol_x}_btolx_{btol_x}.csv\""
   ]
  },
  {
   "cell_type": "code",
   "execution_count": 29,
   "metadata": {
    "ExecuteTime": {
     "end_time": "2020-12-11T03:49:11.289394Z",
     "start_time": "2020-12-11T03:49:11.267146Z"
    },
    "hidden": true
   },
   "outputs": [],
   "source": [
    "df = pd.DataFrame({\n",
    "    't':tme_lst,\n",
    "    'volume':volume_lst,\n",
    "    'energy':energy_lst,\n",
    "    'stepsize_mean':stepsize_mean_lst,\n",
    "    'stepsize_std':stepsize_std_lst,\n",
    "    'stepsize_median':stepsize_median_lst,\n",
    "})"
   ]
  },
  {
   "cell_type": "code",
   "execution_count": 31,
   "metadata": {
    "ExecuteTime": {
     "end_time": "2020-12-11T03:49:20.994444Z",
     "start_time": "2020-12-11T03:49:20.968941Z"
    },
    "hidden": true
   },
   "outputs": [
    {
     "name": "stdout",
     "output_type": "stream",
     "text": [
      "avi_es_variable_lr_a_equal_b_spherical_mesh_400_mu_1.0_lambda_10.0_gamma_0.05_vscale_2.0_stepsizeinit_0.0025_salience_4_atolx_0.0001.csv\n"
     ]
    }
   ],
   "source": [
    "os.chdir(data_folder)\n",
    "df.to_csv(data_fn, index=False)\n",
    "print(data_fn)"
   ]
  },
  {
   "cell_type": "code",
   "execution_count": 32,
   "metadata": {
    "ExecuteTime": {
     "end_time": "2020-12-11T03:50:00.953261Z",
     "start_time": "2020-12-11T03:50:00.931161Z"
    },
    "hidden": true
   },
   "outputs": [
    {
     "data": {
      "text/plain": [
       "'avi_es_variable_lr_a_equal_b_spherical_mesh_400_mu_1.0_lambda_10.0_gamma_0.05_vscale_2.0_stepsizeinit_0.0025_salience_4_atolx_0.0001.csv'"
      ]
     },
     "execution_count": 32,
     "metadata": {},
     "output_type": "execute_result"
    }
   ],
   "source": [
    "\"avi_es_variable_lr_a_equal_b_spherical_mesh_400_mu_1.0_lambda_10.0_gamma_0.05_vscale_2.0_stepsizeinit_0.0025_salience_4_atolx_0.0001.csv\"\n",
    "\n"
   ]
  },
  {
   "cell_type": "markdown",
   "metadata": {
    "heading_collapsed": true
   },
   "source": [
    "# repeat with a smaller learning rate (salience = .5)"
   ]
  },
  {
   "cell_type": "code",
   "execution_count": 33,
   "metadata": {
    "ExecuteTime": {
     "end_time": "2020-12-11T03:51:08.618376Z",
     "start_time": "2020-12-11T03:51:08.409639Z"
    },
    "hidden": true
   },
   "outputs": [
    {
     "name": "stderr",
     "output_type": "stream",
     "text": [
      "face_normals all zero, ignoring!\n"
     ]
    },
    {
     "name": "stdout",
     "output_type": "stream",
     "text": [
      "['element_array_time', 'element_array_index', 'element_array_mass', 'element_array_volume', 'element_array_inverse_equilibrium_position', 'node_array_equilibrium_position', 'node_array_time', 'node_array_position', 'node_array_momentum', 'node_array_mass', 'node_array_volume']\n"
     ]
    }
   ],
   "source": [
    "#define Lamé parameters\n",
    "mu = 1.; lam = 10.; \n",
    "#define coefficient for Rayleigh damping\n",
    "gamma = .05#1.#1.;\n",
    "\n",
    "#define adaptive time stepping absolute tolerances\n",
    "salience = 0.5#128#32\n",
    "learning_rate = np.log(salience) #np.log(16) #np.log(2)\n",
    "lasso_fraction = 0.5\n",
    "v_scale = 2.\n",
    "mass_density=1.\n",
    "\n",
    "stepsize_init = 0.0025#0.00001#0.0001\n",
    "atol_x = 0.0001#0.001#1e-7; \n",
    "atol_v = 0.0001#0.001#1e-7; \n",
    "btol_x = 0.00001#0.001#1e-10; \n",
    "btol_v = 0.00001#0.001#1e-10; \n",
    "\n",
    "\n",
    "#path to mesh\n",
    "input_file_name = f'../data/spherical_meshes/spherical_mesh_400.stl'\n",
    "#where to save results\n",
    "data_folder =  os.path.join(nb_dir,'../data/mov_csv')\n",
    "data_fn = f\"avi_es_variable_lr_a_equal_b_{os.path.basename(input_file_name).replace('.stl',f'_mu_{mu}_lambda_{lam}_gamma_{gamma}_vscale_{v_scale}_stepsizeinit_{stepsize_init}')}_salience_{salience}_atolx_{atol_x}.csv\"\n",
    "# data_fn = f\"avi_ns_fixed_lr_a_equal_b_{os.path.basename(input_file_name).replace('.stl',f'_mu_{mu}_lambda_{lam}_gamma_{gamma}vscale_{v_scale}_stepsizeinit_{stepsize_init}')}_salience_{salience}_atolx_{atol_x}.csv\"\n",
    "save_folder_vid = '../vid/tmp'\n",
    "folder_vid = '../vid'\n",
    "# data_fn_counts = data_fn.replace(\"s_\",\"s_counts_\").replace('.csv','.npz')\n",
    "data_fn_counts = data_fn.replace(\"s_\",\"s_counts_\").replace('.csv','.npy')\n",
    "\n",
    "os.chdir(nb_dir)\n",
    "# input_file_name = f'../data/spherical_meshes/spherical_mesh_64.stl'input_file_name = f'../data/spherical_meshes/spherical_mesh_64.stl'\n",
    "# input_file_name = f'../data/spherical_meshes/spherical_mesh_1000.stl'\n",
    "input_file_name = os.path.join(nb_dir,input_file_name)\n",
    "tme = 0.\n",
    "dict_values_system = initialize_system(input_file_name, time_initial=tme, mass_density=mass_density)\n",
    "locals().update(dict_values_system)\n",
    "N_elements = element_array_index.shape[0]\n",
    "N_vertices = node_array_position.shape[0]\n",
    "print(list(dict_values_system.keys()))\n",
    "\n",
    "#header to start of video\n",
    "# TEXT = '''TEXT=$'Synchronous Variational Integrator\\nDamped Neohookean Model\\n(inward squish)''''\n",
    "TEXT = f\"\"\"\n",
    "TEXT=$'an inward squish\n",
    "        Synchronous Variational Integrator \n",
    "        Explicit Newmark Method\n",
    "        \n",
    "        Undamped Neohookean Model\n",
    "        mu {mu}  lambda {lam} gamma {gamma}\n",
    "        \n",
    "        Spherical Mesh\n",
    "        Num. Vertices {N_vertices}\n",
    "        Num. Elements {N_elements}\n",
    "'\"\"\"\n",
    "\n",
    "\n",
    "# TEXT = f\"\"\"\n",
    "# TEXT=$'an inward squish with neural time steps\n",
    "#         Asynchronous Variational Integrator \n",
    "#         Dormand–Prince Method\n",
    "        \n",
    "#         Undamped Neohookean Model\n",
    "#         mu {mu}  lambda {lam} gamma {gamma}\n",
    "        \n",
    "#         Spherical Mesh\n",
    "#         Num. Vertices {N_vertices}\n",
    "#         Num. Elements {N_elements}\n",
    "# '\"\"\"\n",
    "\n",
    "#write header to file\n",
    "# print(TEXT)\n",
    "# Dormand–Prince Method\n",
    "# Explicit Newmark Method\n",
    "# Implicit Midpoint Rule"
   ]
  },
  {
   "cell_type": "code",
   "execution_count": 38,
   "metadata": {
    "ExecuteTime": {
     "end_time": "2020-12-11T03:52:04.017219Z",
     "start_time": "2020-12-11T03:52:03.985505Z"
    },
    "hidden": true
   },
   "outputs": [
    {
     "name": "stdout",
     "output_type": "stream",
     "text": [
      "learning_bins are [1.52587891e-07 3.05175781e-07 6.10351563e-07 1.22070312e-06\n",
      " 2.44140625e-06 4.88281250e-06 9.76562500e-06 1.95312500e-05\n",
      " 3.90625000e-05 7.81250000e-05 1.56250000e-04 3.12500000e-04\n",
      " 6.25000000e-04 1.25000000e-03 2.50000000e-03 5.00000000e-03\n",
      " 1.00000000e-02 2.00000000e-02 4.00000000e-02 8.00000000e-02\n",
      " 1.60000000e-01 3.20000000e-01 6.40000000e-01 1.28000000e+00\n",
      " 2.56000000e+00 5.12000000e+00 1.02400000e+01 2.04800000e+01\n",
      " 4.09600000e+01 8.19200000e+01]\n"
     ]
    }
   ],
   "source": [
    "#initialize system\n",
    "tauK = element_array_time\n",
    "tau = node_array_time\n",
    "\n",
    "#get method of computing elastic forces \n",
    "zero_mat = np.zeros((4,3))\n",
    "# calc_P = get_calc_P(mu, lam)\n",
    "# compute_nodal_damping_forces  = get_compute_nodal_damping_forces(mu,lam,gamma)\n",
    "# comp_nodal_elastic_forces = get_comp_nodal_elastic_forces(mu, lam)\n",
    "\n",
    "elements = element_array_index\n",
    "vertices = node_array_position\n",
    "\n",
    "#initialize stepsizes of simulation\n",
    "element_array_stepsize = np.zeros_like(element_array_time) + stepsize_init\n",
    "element_array_count_calls_one_step = np.zeros_like(element_array_time,dtype=int)\n",
    "element_array_count_config_updates = np.zeros_like(element_array_time,dtype=int)\n",
    "momentum = node_array_momentum.copy()\n",
    "velocities = momentum.copy()\n",
    "for j in range(N_vertices):\n",
    "    velocities[j] /= node_array_mass[j]\n",
    "\n",
    "\n",
    "# #perturb momentum in the x direction and let it run overnight with a small timestep  \n",
    "velocities[:,0] = -v_scale * vertices[:,0].copy()\n",
    "\n",
    "#initialize containers of measures\n",
    "volume_lst = []\n",
    "energy_lst = []\n",
    "tme_lst    = []\n",
    "stepsize_mean_lst   = []\n",
    "stepsize_std_lst    = []\n",
    "stepsize_median_lst = []\n",
    "stepsize_count_lst = []\n",
    "frac_lb = lambda i: np.exp(learning_rate*i)  ##np.exp((i+.5)*learning_rate/10)\n",
    "learning_bins = np.array(sorted([stepsize_init*frac_lb(i) for i in np.arange(-15,15)]))\n",
    "\n",
    "# #this looks nice. 30 bins\n",
    "# learning_bins = np.array([0.00480198, 0.00480886, 0.00481574, 0.00482262, 0.00482951,\n",
    "#         0.00483639, 0.00484327, 0.00485015, 0.00485703, 0.00486391,\n",
    "#         0.0048708 , 0.00487768, 0.00488456, 0.00489144, 0.00489832,\n",
    "#         0.0049052 , 0.00491209, 0.00491897, 0.00492585, 0.00493273,\n",
    "#         0.00493961, 0.00494649, 0.00495338, 0.00496026, 0.00496714,\n",
    "#         0.00497402, 0.0049809 , 0.00498778, 0.00499467, 0.00500155,\n",
    "#         0.00500843])\n",
    "\n",
    "# #let's try 100 bins\n",
    "# learning_bins = np.array([0.00477609, 0.00477838, 0.00478067, 0.00478296, 0.00478526,\n",
    "#         0.00478755, 0.00478984, 0.00479214, 0.00479443, 0.00479672,\n",
    "#         0.00479902, 0.00480131, 0.0048036 , 0.0048059 , 0.00480819,\n",
    "#         0.00481048, 0.00481277, 0.00481507, 0.00481736, 0.00481965,\n",
    "#         0.00482195, 0.00482424, 0.00482653, 0.00482883, 0.00483112,\n",
    "#         0.00483341, 0.00483571, 0.004838  , 0.00484029, 0.00484258,\n",
    "#         0.00484488, 0.00484717, 0.00484946, 0.00485176, 0.00485405,\n",
    "#         0.00485634, 0.00485864, 0.00486093, 0.00486322, 0.00486552,\n",
    "#         0.00486781, 0.0048701 , 0.0048724 , 0.00487469, 0.00487698,\n",
    "#         0.00487927, 0.00488157, 0.00488386, 0.00488615, 0.00488845,\n",
    "#         0.00489074, 0.00489303, 0.00489533, 0.00489762, 0.00489991,\n",
    "#         0.00490221, 0.0049045 , 0.00490679, 0.00490908, 0.00491138,\n",
    "#         0.00491367, 0.00491596, 0.00491826, 0.00492055, 0.00492284,\n",
    "#         0.00492514, 0.00492743, 0.00492972, 0.00493202, 0.00493431,\n",
    "#         0.0049366 , 0.0049389 , 0.00494119, 0.00494348, 0.00494577,\n",
    "#         0.00494807, 0.00495036, 0.00495265, 0.00495495, 0.00495724,\n",
    "#         0.00495953, 0.00496183, 0.00496412, 0.00496641, 0.00496871,\n",
    "#         0.004971  , 0.00497329, 0.00497558, 0.00497788, 0.00498017,\n",
    "#         0.00498246, 0.00498476, 0.00498705, 0.00498934, 0.00499164,\n",
    "#         0.00499393, 0.00499622, 0.00499852, 0.00500081, 0.0050031 ,\n",
    "#         0.00500539])\n",
    "\n",
    "# learning_bins = np.array([stepsize_init*np.exp((i+.5)*learning_rate) for i in np.arange(-3,3)])\n",
    "print(f\"learning_bins are {learning_bins}\")"
   ]
  },
  {
   "cell_type": "code",
   "execution_count": 36,
   "metadata": {
    "ExecuteTime": {
     "end_time": "2020-12-11T03:51:32.146862Z",
     "start_time": "2020-12-11T03:51:32.125351Z"
    },
    "hidden": true
   },
   "outputs": [],
   "source": [
    "#choose your fighter\n",
    "# integrate_system_explicit_synchronous = get_integrate_system_explicit_synchronous(mu,lam,gamma)\n",
    "# integrate_system_implicit_synchronous = get_integrate_system_implicit_synchronous(mu,lam,gamma,num_iter=30)\n",
    "# integrate_system_dormand_prince_synchronous = get_integrate_system_dormand_prince_synchronous(mu,lam,gamma)\n",
    "# integrate_system_dormand_prince_asynchronous = get_integrate_system_dormand_prince_asynchronous(mu,lam,gamma,atol_x, atol_v, btol_x, btol_v,learning_rate, lasso_fraction)\n",
    "\n",
    "# integrate_system_explicit_asynchronous = get_integrate_system_explicit_asynchronous(mu,lam,gamma)\n",
    "\n",
    "#(optional) #view the mesh\n",
    "# plot_mesh(vertices, input_file_name=input_file_name, darkmode=True)"
   ]
  },
  {
   "cell_type": "code",
   "execution_count": 39,
   "metadata": {
    "ExecuteTime": {
     "end_time": "2020-12-11T03:54:45.126846Z",
     "start_time": "2020-12-11T03:52:29.986646Z"
    },
    "hidden": true
   },
   "outputs": [
    {
     "name": "stdout",
     "output_type": "stream",
     "text": [
      "0.004900920638046561 0.0028864944399452654 0.004999999999999893\n"
     ]
    },
    {
     "data": {
      "text/plain": [
       "0"
      ]
     },
     "execution_count": 39,
     "metadata": {},
     "output_type": "execute_result"
    }
   ],
   "source": [
    "tB = 1.\n",
    "\n",
    "#prepare for video\n",
    "frameno = 1\n",
    "time_between_observations = 0.01\n",
    "time_end_recording = tB\n",
    "time_of_next_observation = tme + time_between_observations\n",
    "\n",
    "#ready... get set... GO!\n",
    "os.chdir(nb_dir)\n",
    "os.chdir(save_folder_vid)\n",
    "\n",
    "while time_of_next_observation <= time_end_recording:\n",
    "    tf = time_of_next_observation\n",
    "    #integrate forward to the next time of observation\n",
    "#     integrate_system_explicit_synchronous(tf, element_array_time, element_array_stepsize, node_array_time,\n",
    "#                                              element_array_index, vertices, velocities,node_array_mass, element_array_inverse_equilibrium_position)\n",
    "    #     integrate_system_implicit_synchronous(tf, element_array_time, element_array_stepsize, node_array_time,\n",
    "    #                                          element_array_index, vertices, velocities,node_array_mass, element_array_inverse_equilibrium_position)\n",
    "    #     integrate_system_dormand_prince_asynchronous(tf,element_array_time,element_array_stepsize,node_array_time,element_array_index,vertices,velocities,\n",
    "    #         node_array_mass,element_array_inverse_equilibrium_position,element_array_mass)\n",
    "    integrate_system_explicit_asynchronous(tf, element_array_time, element_array_stepsize, node_array_time,\n",
    "                                             element_array_index, vertices, velocities, node_array_mass, element_array_inverse_equilibrium_position, atol_x, atol_v, btol_x, btol_v, learning_rate)\n",
    "\n",
    "    #update a copy of all positions to the observation time using the current velocity\n",
    "    x = vertices.copy()\n",
    "    for a in range(N_vertices):\n",
    "        x[a] += velocities[a] * (tf - tau[a])\n",
    "    \n",
    "    #measure observables\n",
    "    ##mesh measures\n",
    "    net_volume = compute_net_volume(x, element_array_index)\n",
    "    net_energy = compute_net_energy(N_elements, element_array_mass, velocities, x, #vertices,\n",
    "                                  element_array_index, element_array_inverse_equilibrium_position, mu, lam)\n",
    "    ##stepsize measures\n",
    "    stepsize_mean = np.mean(element_array_stepsize)\n",
    "    stepsize_std = np.std(element_array_stepsize)\n",
    "    stepsize_median = np.median(element_array_stepsize)\n",
    "\n",
    "    #record observables\n",
    "    volume_lst.append(net_volume)\n",
    "    energy_lst.append(net_energy)\n",
    "    tme = tf\n",
    "    tme_lst.append(tme)\n",
    "    stepsize_mean_lst.append(stepsize_mean)\n",
    "    stepsize_std_lst.append(stepsize_std)\n",
    "    stepsize_median_lst.append(stepsize_median)\n",
    "    stepsize_count_lst.append(count_array(array = element_array_stepsize,bins=learning_bins))\n",
    "    #record image of system\n",
    "#     try:\n",
    "#         img = get_img_of_system(vertices, input_file_name, darkmode = False, text=f'time={tf:.2f}')\n",
    "#     except:\n",
    "#         pass\n",
    "#     save_fn_img = f'img{frameno:09}.png'\n",
    "#     frameno += 1\n",
    "#     Img = Image.fromarray(img)\n",
    "# #     Img.save(save_fn_img)\n",
    "\n",
    "\n",
    "#     del Img\n",
    "    #increment time_of_next_observation\n",
    "    time_of_next_observation += time_between_observations\n",
    "    #TODO(later): do something that makes a boring video less boring\n",
    "    #TODO(later): def element_array_count_calls_one_step to the call of integrate_system_.... i.e. Keep track of how many times each element is called to time step\n",
    "    #TODO(later): keep track of how many times each element config is updated with element_array_count_config_updates\n",
    "print(stepsize_mean, stepsize_std, stepsize_median)\n",
    "beep(2)"
   ]
  },
  {
   "cell_type": "code",
   "execution_count": 40,
   "metadata": {
    "ExecuteTime": {
     "end_time": "2020-12-11T03:54:45.251884Z",
     "start_time": "2020-12-11T03:54:45.230595Z"
    },
    "hidden": true
   },
   "outputs": [],
   "source": [
    "bins = 30\n",
    "axkwargs = {\n",
    "    'fontsize':14,\n",
    "    \n",
    "}\n",
    "hkwargs = {\n",
    "    'color':'blue',#'orange',\n",
    "    'cumulative':False,\n",
    "    'stacked':True,\n",
    "    'log':False,\n",
    "    'density':False,\n",
    "    'bins':bins\n",
    "}"
   ]
  },
  {
   "cell_type": "code",
   "execution_count": 41,
   "metadata": {
    "ExecuteTime": {
     "end_time": "2020-12-11T03:55:16.079101Z",
     "start_time": "2020-12-11T03:55:15.665590Z"
    },
    "hidden": true
   },
   "outputs": [
    {
     "data": {
      "image/png": "[encoded data removed]",
      "text/plain": [
       "<Figure size 864x288 with 3 Axes>"
      ]
     },
     "metadata": {
      "needs_background": "light"
     },
     "output_type": "display_data"
    }
   ],
   "source": [
    "fig, axs = plt.subplots(figsize = (12,4), ncols = 3)\n",
    "\n",
    "\n",
    "ax = axs[0]\n",
    "x_values = np.array(tme_lst)\n",
    "y_values = np.array(stepsize_mean_lst)\n",
    "ax.plot(x_values, y_values)\n",
    "ax.fill_between(x_values, y_values-stepsize_std_lst,y_values+stepsize_std_lst, alpha=0.2)\n",
    "ax.set_xlabel('time',**axkwargs)\n",
    "ax.set_ylabel('average step size',**axkwargs)\n",
    "# plt.xticks(**axkwargs)\n",
    "ax.tick_params(labelsize=axkwargs['fontsize'])\n",
    "\n",
    "ax = axs[1]\n",
    "x_values = np.array(tme_lst)\n",
    "y_values = np.array([s**2 for s in stepsize_std_lst])\n",
    "ax.plot(x_values, y_values)\n",
    "# ax.fill_between(x_values, y_values-stepsize_std_lst,y_values+stepsize_std_lst, alpha=0.2)\n",
    "ax.set_xlabel('time',**axkwargs)\n",
    "ax.set_ylabel('variance in step size',**axkwargs)\n",
    "ax.tick_params(labelsize=axkwargs['fontsize'])\n",
    "\n",
    "ax = axs[2]\n",
    "x_values = np.array(tme_lst)\n",
    "y_values = np.array(energy_lst)/energy_lst[0]#[s**2/m for s,m in zip(stepsize_std_lst,stepsize_mean_lst)])\n",
    "ax.plot(x_values, y_values)\n",
    "# ax.fill_between(x_values, y_values-stepsize_std_lst,y_values+stepsize_std_lst, alpha=0.2)\n",
    "ax.set_xlabel('time',**axkwargs)\n",
    "ax.set_ylabel('energy / initial energy',**axkwargs)\n",
    "ax.tick_params(labelsize=axkwargs['fontsize'])\n",
    "\n",
    "# ax = axs[2]\n",
    "# x_values = np.array(tme_lst)\n",
    "# y_values = np.array(volume_lst)/volume_lst[0]#[s**2/m for s,m in zip(stepsize_std_lst,stepsize_mean_lst)])\n",
    "# ax.plot(x_values, y_values)\n",
    "# # ax.fill_between(x_values, y_values-stepsize_std_lst,y_values+stepsize_std_lst, alpha=0.2)\n",
    "# ax.set_xlabel('time',**axkwargs)\n",
    "# ax.set_ylabel('volume / initial volume',**axkwargs)\n",
    "# ax.tick_params(labelsize=axkwargs['fontsize'])\n",
    "\n",
    "plt.tight_layout()\n",
    "plt.show()"
   ]
  },
  {
   "cell_type": "code",
   "execution_count": 15,
   "metadata": {
    "ExecuteTime": {
     "end_time": "2020-12-11T03:40:00.086750Z",
     "start_time": "2020-12-11T03:40:00.062190Z"
    },
    "hidden": true
   },
   "outputs": [],
   "source": [
    "# data_fn = f\"avi_es_variable_lr_{os.path.basename(input_file_name).replace('.stl',f'_mu_{mu}_lambda_{lam}_gamma_{gamma}_vscale_{v_scale}_salience_{salience}_stepsizeinit_{stepsize_init}')}_atolx_{atol_x}_btolx_{btol_x}.csv\""
   ]
  },
  {
   "cell_type": "code",
   "execution_count": 42,
   "metadata": {
    "ExecuteTime": {
     "end_time": "2020-12-11T03:55:37.748025Z",
     "start_time": "2020-12-11T03:55:37.724433Z"
    },
    "hidden": true
   },
   "outputs": [],
   "source": [
    "df = pd.DataFrame({\n",
    "    't':tme_lst,\n",
    "    'volume':volume_lst,\n",
    "    'energy':energy_lst,\n",
    "    'stepsize_mean':stepsize_mean_lst,\n",
    "    'stepsize_std':stepsize_std_lst,\n",
    "    'stepsize_median':stepsize_median_lst,\n",
    "})"
   ]
  },
  {
   "cell_type": "code",
   "execution_count": 43,
   "metadata": {
    "ExecuteTime": {
     "end_time": "2020-12-11T03:55:45.314613Z",
     "start_time": "2020-12-11T03:55:45.287709Z"
    },
    "hidden": true
   },
   "outputs": [
    {
     "name": "stdout",
     "output_type": "stream",
     "text": [
      "avi_es_variable_lr_a_equal_b_spherical_mesh_400_mu_1.0_lambda_10.0_gamma_0.05_vscale_2.0_stepsizeinit_0.0025_salience_0.5_atolx_0.0001.csv\n"
     ]
    }
   ],
   "source": [
    "os.chdir(data_folder)\n",
    "df.to_csv(data_fn, index=False)\n",
    "print(data_fn)"
   ]
  },
  {
   "cell_type": "code",
   "execution_count": 44,
   "metadata": {
    "ExecuteTime": {
     "end_time": "2020-12-11T03:56:00.131023Z",
     "start_time": "2020-12-11T03:56:00.104779Z"
    },
    "hidden": true
   },
   "outputs": [
    {
     "data": {
      "text/plain": [
       "'avi_es_variable_lr_a_equal_b_spherical_mesh_400_mu_1.0_lambda_10.0_gamma_0.05_vscale_2.0_stepsizeinit_0.0025_salience_4_atolx_0.0001.csv'"
      ]
     },
     "execution_count": 44,
     "metadata": {},
     "output_type": "execute_result"
    }
   ],
   "source": [
    "\"avi_es_variable_lr_a_equal_b_spherical_mesh_400_mu_1.0_lambda_10.0_gamma_0.05_vscale_2.0_stepsizeinit_0.0025_salience_4_atolx_0.0001.csv\"\n",
    "\n"
   ]
  },
  {
   "cell_type": "markdown",
   "metadata": {
    "heading_collapsed": true
   },
   "source": [
    "# (salience = 0.5) with step size initialized to 0.005"
   ]
  },
  {
   "cell_type": "code",
   "execution_count": 76,
   "metadata": {
    "ExecuteTime": {
     "end_time": "2020-12-11T04:11:25.705278Z",
     "start_time": "2020-12-11T04:11:25.493380Z"
    },
    "hidden": true
   },
   "outputs": [
    {
     "name": "stderr",
     "output_type": "stream",
     "text": [
      "face_normals all zero, ignoring!\n"
     ]
    },
    {
     "name": "stdout",
     "output_type": "stream",
     "text": [
      "['element_array_time', 'element_array_index', 'element_array_mass', 'element_array_volume', 'element_array_inverse_equilibrium_position', 'node_array_equilibrium_position', 'node_array_time', 'node_array_position', 'node_array_momentum', 'node_array_mass', 'node_array_volume']\n"
     ]
    }
   ],
   "source": [
    "#define Lamé parameters\n",
    "mu = 1.; lam = 10.; \n",
    "#define coefficient for Rayleigh damping\n",
    "gamma = .05#1.#1.;\n",
    "\n",
    "#define adaptive time stepping absolute tolerances\n",
    "salience = 2#128#32\n",
    "learning_rate = np.log(salience) #np.log(16) #np.log(2)\n",
    "lasso_fraction = 0.5\n",
    "v_scale = 2.\n",
    "mass_density=1.\n",
    "\n",
    "stepsize_init = 0.005#0.00001#0.0001\n",
    "atol_x = 0.0001#0.001#1e-7; \n",
    "atol_v = 0.0001#0.001#1e-7; \n",
    "btol_x = 0.00001#0.001#1e-10; \n",
    "btol_v = 0.00001#0.001#1e-10; \n",
    "\n",
    "\n",
    "#path to mesh\n",
    "input_file_name = f'../data/spherical_meshes/spherical_mesh_400.stl'\n",
    "#where to save results\n",
    "data_folder =  os.path.join(nb_dir,'../data/mov_csv')\n",
    "data_fn = f\"avi_es_variable_lr_a_equal_b_{os.path.basename(input_file_name).replace('.stl',f'_mu_{mu}_lambda_{lam}_gamma_{gamma}_vscale_{v_scale}_stepsizeinit_{stepsize_init}')}_salience_{salience}_atolx_{atol_x}.csv\"\n",
    "# data_fn = f\"avi_ns_fixed_lr_a_equal_b_{os.path.basename(input_file_name).replace('.stl',f'_mu_{mu}_lambda_{lam}_gamma_{gamma}vscale_{v_scale}_stepsizeinit_{stepsize_init}')}_salience_{salience}_atolx_{atol_x}.csv\"\n",
    "save_folder_vid = '../vid/tmp'\n",
    "folder_vid = '../vid'\n",
    "# data_fn_counts = data_fn.replace(\"s_\",\"s_counts_\").replace('.csv','.npz')\n",
    "data_fn_counts = data_fn.replace(\"s_\",\"s_counts_\").replace('.csv','.npy')\n",
    "\n",
    "os.chdir(nb_dir)\n",
    "# input_file_name = f'../data/spherical_meshes/spherical_mesh_64.stl'input_file_name = f'../data/spherical_meshes/spherical_mesh_64.stl'\n",
    "# input_file_name = f'../data/spherical_meshes/spherical_mesh_1000.stl'\n",
    "input_file_name = os.path.join(nb_dir,input_file_name)\n",
    "tme = 0.\n",
    "dict_values_system = initialize_system(input_file_name, time_initial=tme, mass_density=mass_density)\n",
    "locals().update(dict_values_system)\n",
    "N_elements = element_array_index.shape[0]\n",
    "N_vertices = node_array_position.shape[0]\n",
    "print(list(dict_values_system.keys()))\n",
    "\n",
    "#header to start of video\n",
    "# TEXT = '''TEXT=$'Synchronous Variational Integrator\\nDamped Neohookean Model\\n(inward squish)''''\n",
    "TEXT = f\"\"\"\n",
    "TEXT=$'an inward squish\n",
    "        Synchronous Variational Integrator \n",
    "        Explicit Newmark Method\n",
    "        \n",
    "        Undamped Neohookean Model\n",
    "        mu {mu}  lambda {lam} gamma {gamma}\n",
    "        \n",
    "        Spherical Mesh\n",
    "        Num. Vertices {N_vertices}\n",
    "        Num. Elements {N_elements}\n",
    "'\"\"\"\n",
    "\n",
    "\n",
    "# TEXT = f\"\"\"\n",
    "# TEXT=$'an inward squish with neural time steps\n",
    "#         Asynchronous Variational Integrator \n",
    "#         Dormand–Prince Method\n",
    "        \n",
    "#         Undamped Neohookean Model\n",
    "#         mu {mu}  lambda {lam} gamma {gamma}\n",
    "        \n",
    "#         Spherical Mesh\n",
    "#         Num. Vertices {N_vertices}\n",
    "#         Num. Elements {N_elements}\n",
    "# '\"\"\"\n",
    "\n",
    "#write header to file\n",
    "# print(TEXT)\n",
    "# Dormand–Prince Method\n",
    "# Explicit Newmark Method\n",
    "# Implicit Midpoint Rule"
   ]
  },
  {
   "cell_type": "code",
   "execution_count": 77,
   "metadata": {
    "ExecuteTime": {
     "end_time": "2020-12-11T04:11:26.627981Z",
     "start_time": "2020-12-11T04:11:26.592267Z"
    },
    "hidden": true
   },
   "outputs": [
    {
     "name": "stdout",
     "output_type": "stream",
     "text": [
      "learning_bins are [0.00477609 0.00477838 0.00478067 0.00478296 0.00478526 0.00478755\n",
      " 0.00478984 0.00479214 0.00479443 0.00479672 0.00479902 0.00480131\n",
      " 0.0048036  0.0048059  0.00480819 0.00481048 0.00481277 0.00481507\n",
      " 0.00481736 0.00481965 0.00482195 0.00482424 0.00482653 0.00482883\n",
      " 0.00483112 0.00483341 0.00483571 0.004838   0.00484029 0.00484258\n",
      " 0.00484488 0.00484717 0.00484946 0.00485176 0.00485405 0.00485634\n",
      " 0.00485864 0.00486093 0.00486322 0.00486552 0.00486781 0.0048701\n",
      " 0.0048724  0.00487469 0.00487698 0.00487927 0.00488157 0.00488386\n",
      " 0.00488615 0.00488845 0.00489074 0.00489303 0.00489533 0.00489762\n",
      " 0.00489991 0.00490221 0.0049045  0.00490679 0.00490908 0.00491138\n",
      " 0.00491367 0.00491596 0.00491826 0.00492055 0.00492284 0.00492514\n",
      " 0.00492743 0.00492972 0.00493202 0.00493431 0.0049366  0.0049389\n",
      " 0.00494119 0.00494348 0.00494577 0.00494807 0.00495036 0.00495265\n",
      " 0.00495495 0.00495724 0.00495953 0.00496183 0.00496412 0.00496641\n",
      " 0.00496871 0.004971   0.00497329 0.00497558 0.00497788 0.00498017\n",
      " 0.00498246 0.00498476 0.00498705 0.00498934 0.00499164 0.00499393\n",
      " 0.00499622 0.00499852 0.00500081 0.0050031  0.00500539]\n"
     ]
    }
   ],
   "source": [
    "#initialize system\n",
    "tauK = element_array_time\n",
    "tau = node_array_time\n",
    "\n",
    "#get method of computing elastic forces \n",
    "zero_mat = np.zeros((4,3))\n",
    "# calc_P = get_calc_P(mu, lam)\n",
    "# compute_nodal_damping_forces  = get_compute_nodal_damping_forces(mu,lam,gamma)\n",
    "# comp_nodal_elastic_forces = get_comp_nodal_elastic_forces(mu, lam)\n",
    "\n",
    "elements = element_array_index\n",
    "vertices = node_array_position\n",
    "\n",
    "#initialize stepsizes of simulation\n",
    "element_array_stepsize = np.zeros_like(element_array_time) + stepsize_init\n",
    "element_array_count_calls_one_step = np.zeros_like(element_array_time,dtype=int)\n",
    "element_array_count_config_updates = np.zeros_like(element_array_time,dtype=int)\n",
    "momentum = node_array_momentum.copy()\n",
    "velocities = momentum.copy()\n",
    "for j in range(N_vertices):\n",
    "    velocities[j] /= node_array_mass[j]\n",
    "\n",
    "\n",
    "# #perturb momentum in the x direction and let it run overnight with a small timestep  \n",
    "velocities[:,0] = -v_scale * vertices[:,0].copy()\n",
    "\n",
    "#initialize containers of measures\n",
    "volume_lst = []\n",
    "energy_lst = []\n",
    "tme_lst    = []\n",
    "stepsize_mean_lst   = []\n",
    "stepsize_std_lst    = []\n",
    "stepsize_median_lst = []\n",
    "stepsize_count_lst = []\n",
    "frac_lb = lambda i: np.exp(learning_rate*i)  ##np.exp((i+.5)*learning_rate/10)\n",
    "# learning_bins = np.array([stepsize_init*frac_lb(i) for i in np.arange(-15,15)])\n",
    "\n",
    "# #this looks nice. 30 bins\n",
    "# learning_bins = np.array([0.00480198, 0.00480886, 0.00481574, 0.00482262, 0.00482951,\n",
    "#         0.00483639, 0.00484327, 0.00485015, 0.00485703, 0.00486391,\n",
    "#         0.0048708 , 0.00487768, 0.00488456, 0.00489144, 0.00489832,\n",
    "#         0.0049052 , 0.00491209, 0.00491897, 0.00492585, 0.00493273,\n",
    "#         0.00493961, 0.00494649, 0.00495338, 0.00496026, 0.00496714,\n",
    "#         0.00497402, 0.0049809 , 0.00498778, 0.00499467, 0.00500155,\n",
    "#         0.00500843])\n",
    "\n",
    "#let's try 100 bins\n",
    "learning_bins = np.array([0.00477609, 0.00477838, 0.00478067, 0.00478296, 0.00478526,\n",
    "        0.00478755, 0.00478984, 0.00479214, 0.00479443, 0.00479672,\n",
    "        0.00479902, 0.00480131, 0.0048036 , 0.0048059 , 0.00480819,\n",
    "        0.00481048, 0.00481277, 0.00481507, 0.00481736, 0.00481965,\n",
    "        0.00482195, 0.00482424, 0.00482653, 0.00482883, 0.00483112,\n",
    "        0.00483341, 0.00483571, 0.004838  , 0.00484029, 0.00484258,\n",
    "        0.00484488, 0.00484717, 0.00484946, 0.00485176, 0.00485405,\n",
    "        0.00485634, 0.00485864, 0.00486093, 0.00486322, 0.00486552,\n",
    "        0.00486781, 0.0048701 , 0.0048724 , 0.00487469, 0.00487698,\n",
    "        0.00487927, 0.00488157, 0.00488386, 0.00488615, 0.00488845,\n",
    "        0.00489074, 0.00489303, 0.00489533, 0.00489762, 0.00489991,\n",
    "        0.00490221, 0.0049045 , 0.00490679, 0.00490908, 0.00491138,\n",
    "        0.00491367, 0.00491596, 0.00491826, 0.00492055, 0.00492284,\n",
    "        0.00492514, 0.00492743, 0.00492972, 0.00493202, 0.00493431,\n",
    "        0.0049366 , 0.0049389 , 0.00494119, 0.00494348, 0.00494577,\n",
    "        0.00494807, 0.00495036, 0.00495265, 0.00495495, 0.00495724,\n",
    "        0.00495953, 0.00496183, 0.00496412, 0.00496641, 0.00496871,\n",
    "        0.004971  , 0.00497329, 0.00497558, 0.00497788, 0.00498017,\n",
    "        0.00498246, 0.00498476, 0.00498705, 0.00498934, 0.00499164,\n",
    "        0.00499393, 0.00499622, 0.00499852, 0.00500081, 0.0050031 ,\n",
    "        0.00500539])\n",
    "\n",
    "# learning_bins = np.array([stepsize_init*np.exp((i+.5)*learning_rate) for i in np.arange(-3,3)])\n",
    "print(f\"learning_bins are {learning_bins}\")"
   ]
  },
  {
   "cell_type": "code",
   "execution_count": 78,
   "metadata": {
    "ExecuteTime": {
     "end_time": "2020-12-11T04:11:27.950678Z",
     "start_time": "2020-12-11T04:11:27.863901Z"
    },
    "hidden": true
   },
   "outputs": [],
   "source": [
    "#choose your fighter\n",
    "# integrate_system_explicit_synchronous = get_integrate_system_explicit_synchronous(mu,lam,gamma)\n",
    "# integrate_system_implicit_synchronous = get_integrate_system_implicit_synchronous(mu,lam,gamma,num_iter=30)\n",
    "# integrate_system_dormand_prince_synchronous = get_integrate_system_dormand_prince_synchronous(mu,lam,gamma)\n",
    "# integrate_system_dormand_prince_asynchronous = get_integrate_system_dormand_prince_asynchronous(mu,lam,gamma,atol_x, atol_v, btol_x, btol_v,learning_rate, lasso_fraction)\n",
    "integrate_system_explicit_asynchronous = get_integrate_system_explicit_asynchronous(mu,lam,gamma)\n",
    "\n",
    "#(optional) #view the mesh\n",
    "# plot_mesh(vertices, input_file_name=input_file_name, darkmode=True)"
   ]
  },
  {
   "cell_type": "code",
   "execution_count": 79,
   "metadata": {
    "ExecuteTime": {
     "end_time": "2020-12-11T04:14:01.224532Z",
     "start_time": "2020-12-11T04:11:30.265477Z"
    },
    "hidden": true
   },
   "outputs": [
    {
     "name": "stderr",
     "output_type": "stream",
     "text": [
      "/Users/timothytyree/Documents/GitHub/avi/nb/lib/controller/integrate_forward_explicit_asynchronous.py:45: NumbaPerformanceWarning: '@' is faster on contiguous arrays, called on (array(float64, 2d, C), array(float64, 2d, A))\n",
      "  next_stepsize, retval, madval = step_forward_and_learn_simple(K_index, t_given, node_array_time, element_array_time, vertices, velocities, element_array_index,\n"
     ]
    },
    {
     "name": "stdout",
     "output_type": "stream",
     "text": [
      "0.004879627806222941 0.002904086515731493 0.004999999999999893\n"
     ]
    }
   ],
   "source": [
    "tB = 1.\n",
    "\n",
    "#prepare for video\n",
    "frameno = 1\n",
    "time_between_observations = 0.01\n",
    "time_end_recording = tB\n",
    "time_of_next_observation = tme + time_between_observations\n",
    "\n",
    "#ready... get set... GO!\n",
    "os.chdir(nb_dir)\n",
    "os.chdir(save_folder_vid)\n",
    "\n",
    "while time_of_next_observation <= time_end_recording:\n",
    "    tf = time_of_next_observation\n",
    "    #integrate forward to the next time of observation\n",
    "#     integrate_system_explicit_synchronous(tf, element_array_time, element_array_stepsize, node_array_time,\n",
    "#                                              element_array_index, vertices, velocities,node_array_mass, element_array_inverse_equilibrium_position)\n",
    "    #     integrate_system_implicit_synchronous(tf, element_array_time, element_array_stepsize, node_array_time,\n",
    "    #                                          element_array_index, vertices, velocities,node_array_mass, element_array_inverse_equilibrium_position)\n",
    "    #     integrate_system_dormand_prince_asynchronous(tf,element_array_time,element_array_stepsize,node_array_time,element_array_index,vertices,velocities,\n",
    "    #         node_array_mass,element_array_inverse_equilibrium_position,element_array_mass)\n",
    "    integrate_system_explicit_asynchronous(tf, element_array_time, element_array_stepsize, node_array_time,\n",
    "                                             element_array_index, vertices, velocities, node_array_mass, element_array_inverse_equilibrium_position, atol_x, atol_v, btol_x, btol_v, learning_rate)\n",
    "\n",
    "    #update a copy of all positions to the observation time using the current velocity\n",
    "    x = vertices.copy()\n",
    "    for a in range(N_vertices):\n",
    "        x[a] += velocities[a] * (tf - tau[a])\n",
    "    \n",
    "    #measure observables\n",
    "    ##mesh measures\n",
    "    net_volume = compute_net_volume(x, element_array_index)\n",
    "    net_energy = compute_net_energy(N_elements, element_array_mass, velocities, x, #vertices,\n",
    "                                  element_array_index, element_array_inverse_equilibrium_position, mu, lam)\n",
    "    ##stepsize measures\n",
    "    stepsize_mean = np.mean(element_array_stepsize)\n",
    "    stepsize_std = np.std(element_array_stepsize)\n",
    "    stepsize_median = np.median(element_array_stepsize)\n",
    "\n",
    "    #record observables\n",
    "    volume_lst.append(net_volume)\n",
    "    energy_lst.append(net_energy)\n",
    "    tme = tf\n",
    "    tme_lst.append(tme)\n",
    "    stepsize_mean_lst.append(stepsize_mean)\n",
    "    stepsize_std_lst.append(stepsize_std)\n",
    "    stepsize_median_lst.append(stepsize_median)\n",
    "    stepsize_count_lst.append(count_array(array = element_array_stepsize,bins=learning_bins))\n",
    "    #record image of system\n",
    "#     try:\n",
    "#         img = get_img_of_system(vertices, input_file_name, darkmode = False, text=f'time={tf:.2f}')\n",
    "#     except:\n",
    "#         pass\n",
    "#     save_fn_img = f'img{frameno:09}.png'\n",
    "#     frameno += 1\n",
    "#     Img = Image.fromarray(img)\n",
    "# #     Img.save(save_fn_img)\n",
    "\n",
    "\n",
    "#     del Img\n",
    "    #increment time_of_next_observation\n",
    "    time_of_next_observation += time_between_observations\n",
    "    #TODO(later): do something that makes a boring video less boring\n",
    "    #TODO(later): def element_array_count_calls_one_step to the call of integrate_system_.... i.e. Keep track of how many times each element is called to time step\n",
    "    #TODO(later): keep track of how many times each element config is updated with element_array_count_config_updates\n",
    "print(stepsize_mean, stepsize_std, stepsize_median)\n",
    "# beep(3)"
   ]
  },
  {
   "cell_type": "code",
   "execution_count": 80,
   "metadata": {
    "ExecuteTime": {
     "end_time": "2020-12-11T04:14:01.410550Z",
     "start_time": "2020-12-11T04:14:01.384394Z"
    },
    "hidden": true
   },
   "outputs": [],
   "source": [
    "bins = 30\n",
    "axkwargs = {\n",
    "    'fontsize':14,\n",
    "    \n",
    "}\n",
    "hkwargs = {\n",
    "    'color':'blue',#'orange',\n",
    "    'cumulative':False,\n",
    "    'stacked':True,\n",
    "    'log':False,\n",
    "    'density':False,\n",
    "    'bins':bins\n",
    "}"
   ]
  },
  {
   "cell_type": "code",
   "execution_count": 8,
   "metadata": {
    "ExecuteTime": {
     "end_time": "2020-12-11T03:37:04.269303Z",
     "start_time": "2020-12-11T03:37:03.837325Z"
    },
    "hidden": true
   },
   "outputs": [
    {
     "data": {
      "image/png": "[encoded data removed]",
      "text/plain": [
       "<Figure size 864x288 with 3 Axes>"
      ]
     },
     "metadata": {
      "needs_background": "light"
     },
     "output_type": "display_data"
    }
   ],
   "source": [
    "fig, axs = plt.subplots(figsize = (12,4), ncols = 3)\n",
    "\n",
    "\n",
    "ax = axs[0]\n",
    "x_values = np.array(tme_lst)\n",
    "y_values = np.array(stepsize_mean_lst)\n",
    "ax.plot(x_values, y_values)\n",
    "ax.fill_between(x_values, y_values-stepsize_std_lst,y_values+stepsize_std_lst, alpha=0.2)\n",
    "ax.set_xlabel('time',**axkwargs)\n",
    "ax.set_ylabel('average step size',**axkwargs)\n",
    "# plt.xticks(**axkwargs)\n",
    "ax.tick_params(labelsize=axkwargs['fontsize'])\n",
    "\n",
    "ax = axs[1]\n",
    "x_values = np.array(tme_lst)\n",
    "y_values = np.array([s**2 for s in stepsize_std_lst])\n",
    "ax.plot(x_values, y_values)\n",
    "# ax.fill_between(x_values, y_values-stepsize_std_lst,y_values+stepsize_std_lst, alpha=0.2)\n",
    "ax.set_xlabel('time',**axkwargs)\n",
    "ax.set_ylabel('variance in step size',**axkwargs)\n",
    "ax.tick_params(labelsize=axkwargs['fontsize'])\n",
    "\n",
    "ax = axs[2]\n",
    "x_values = np.array(tme_lst)\n",
    "y_values = np.array(energy_lst)/energy_lst[0]#[s**2/m for s,m in zip(stepsize_std_lst,stepsize_mean_lst)])\n",
    "ax.plot(x_values, y_values)\n",
    "# ax.fill_between(x_values, y_values-stepsize_std_lst,y_values+stepsize_std_lst, alpha=0.2)\n",
    "ax.set_xlabel('time',**axkwargs)\n",
    "ax.set_ylabel('energy / initial energy',**axkwargs)\n",
    "ax.tick_params(labelsize=axkwargs['fontsize'])\n",
    "\n",
    "# ax = axs[2]\n",
    "# x_values = np.array(tme_lst)\n",
    "# y_values = np.array(volume_lst)/volume_lst[0]#[s**2/m for s,m in zip(stepsize_std_lst,stepsize_mean_lst)])\n",
    "# ax.plot(x_values, y_values)\n",
    "# # ax.fill_between(x_values, y_values-stepsize_std_lst,y_values+stepsize_std_lst, alpha=0.2)\n",
    "# ax.set_xlabel('time',**axkwargs)\n",
    "# ax.set_ylabel('volume / initial volume',**axkwargs)\n",
    "# ax.tick_params(labelsize=axkwargs['fontsize'])\n",
    "\n",
    "plt.tight_layout()\n",
    "plt.show()"
   ]
  },
  {
   "cell_type": "code",
   "execution_count": 15,
   "metadata": {
    "ExecuteTime": {
     "end_time": "2020-12-11T03:40:00.086750Z",
     "start_time": "2020-12-11T03:40:00.062190Z"
    },
    "hidden": true
   },
   "outputs": [],
   "source": [
    "data_fn = f\"avi_es_variable_lr_{os.path.basename(input_file_name).replace('.stl',f'_mu_{mu}_lambda_{lam}_gamma_{gamma}_vscale_{v_scale}_salience_{salience}_stepsizeinit_{stepsize_init}')}_atolx_{atol_x}_btolx_{btol_x}.csv\""
   ]
  },
  {
   "cell_type": "code",
   "execution_count": 16,
   "metadata": {
    "ExecuteTime": {
     "end_time": "2020-12-11T03:40:00.494799Z",
     "start_time": "2020-12-11T03:40:00.466373Z"
    },
    "hidden": true
   },
   "outputs": [],
   "source": [
    "df = pd.DataFrame({\n",
    "    't':tme_lst,\n",
    "    'volume':volume_lst,\n",
    "    'energy':energy_lst,\n",
    "    'stepsize_mean':stepsize_mean_lst,\n",
    "    'stepsize_std':stepsize_std_lst,\n",
    "    'stepsize_median':stepsize_median_lst,\n",
    "})"
   ]
  },
  {
   "cell_type": "code",
   "execution_count": 17,
   "metadata": {
    "ExecuteTime": {
     "end_time": "2020-12-11T03:40:01.133911Z",
     "start_time": "2020-12-11T03:40:01.098038Z"
    },
    "hidden": true
   },
   "outputs": [],
   "source": [
    "os.chdir(data_folder)\n",
    "df.to_csv(data_fn, index=False)"
   ]
  },
  {
   "cell_type": "code",
   "execution_count": null,
   "metadata": {
    "hidden": true
   },
   "outputs": [],
   "source": [
    "# \"avi_es_variable_lr_a_equal_b_spherical_mesh_400_mu_1.0_lambda_10.0_gamma_0.05_vscale_2.0_stepsizeinit_0.0025_salience_2_atolx_0.0001.csv\"\n",
    "\n"
   ]
  },
  {
   "cell_type": "code",
   "execution_count": null,
   "metadata": {
    "hidden": true
   },
   "outputs": [],
   "source": []
  },
  {
   "cell_type": "markdown",
   "metadata": {},
   "source": [
    "# Plot the three cases"
   ]
  },
  {
   "cell_type": "markdown",
   "metadata": {},
   "source": []
  },
  {
   "cell_type": "code",
   "execution_count": 68,
   "metadata": {
    "ExecuteTime": {
     "end_time": "2020-12-11T04:08:04.758077Z",
     "start_time": "2020-12-11T04:08:04.736065Z"
    }
   },
   "outputs": [],
   "source": [
    "fn  = \"avi_es_variable_lr_a_equal_b_spherical_mesh_400_mu_1.0_lambda_10.0_gamma_0.05_vscale_2.0_stepsizeinit_0.0025_salience_0.5_atolx_0.0001.csv\"\n",
    "fnA = 'avi_es_variable_lr_a_equal_b_spherical_mesh_400_mu_1.0_lambda_10.0_gamma_0.05_vscale_2.0_stepsizeinit_0.0025_salience_0.5_atolx_0.0001.csv'\n",
    "fnB = 'avi_es_variable_lr_a_equal_b_spherical_mesh_400_mu_1.0_lambda_10.0_gamma_0.05_vscale_2.0_stepsizeinit_0.0025_salience_2_atolx_0.0001.csv'\n",
    "fnC = 'avi_es_variable_lr_a_equal_b_spherical_mesh_400_mu_1.0_lambda_10.0_gamma_0.05_vscale_2.0_stepsizeinit_0.0025_salience_4_atolx_0.0001.csv'\n",
    "os.chdir(data_folder)\n",
    "\n"
   ]
  },
  {
   "cell_type": "code",
   "execution_count": 72,
   "metadata": {
    "ExecuteTime": {
     "end_time": "2020-12-11T04:08:17.498575Z",
     "start_time": "2020-12-11T04:08:17.458439Z"
    }
   },
   "outputs": [
    {
     "ename": "FileNotFoundError",
     "evalue": "[Errno 2] File avi_es_variable_lr_a_equal_b_spherical_mesh_400_mu_1.0_lambda_10.0_gamma_0.05_vscale_2.0_stepsizeinit_0.0025_salience_2_atolx_0.0001.csv does not exist: 'avi_es_variable_lr_a_equal_b_spherical_mesh_400_mu_1.0_lambda_10.0_gamma_0.05_vscale_2.0_stepsizeinit_0.0025_salience_2_atolx_0.0001.csv'",
     "output_type": "error",
     "traceback": [
      "\u001b[0;31m---------------------------------------------------------------------------\u001b[0m",
      "\u001b[0;31mFileNotFoundError\u001b[0m                         Traceback (most recent call last)",
      "\u001b[0;32m<ipython-input-72-adf5cde46656>\u001b[0m in \u001b[0;36m<module>\u001b[0;34m\u001b[0m\n\u001b[0;32m----> 1\u001b[0;31m \u001b[0mdf\u001b[0m \u001b[0;34m=\u001b[0m \u001b[0mpd\u001b[0m\u001b[0;34m.\u001b[0m\u001b[0mread_csv\u001b[0m\u001b[0;34m(\u001b[0m\u001b[0mfnB\u001b[0m\u001b[0;34m)\u001b[0m\u001b[0;34m\u001b[0m\u001b[0;34m\u001b[0m\u001b[0m\n\u001b[0m\u001b[1;32m      2\u001b[0m \u001b[0mdfA\u001b[0m\u001b[0;34m.\u001b[0m\u001b[0mhead\u001b[0m\u001b[0;34m(\u001b[0m\u001b[0;34m)\u001b[0m\u001b[0;34m\u001b[0m\u001b[0;34m\u001b[0m\u001b[0m\n",
      "\u001b[0;32m/usr/local/lib/python3.8/site-packages/pandas/io/parsers.py\u001b[0m in \u001b[0;36mparser_f\u001b[0;34m(filepath_or_buffer, sep, delimiter, header, names, index_col, usecols, squeeze, prefix, mangle_dupe_cols, dtype, engine, converters, true_values, false_values, skipinitialspace, skiprows, skipfooter, nrows, na_values, keep_default_na, na_filter, verbose, skip_blank_lines, parse_dates, infer_datetime_format, keep_date_col, date_parser, dayfirst, cache_dates, iterator, chunksize, compression, thousands, decimal, lineterminator, quotechar, quoting, doublequote, escapechar, comment, encoding, dialect, error_bad_lines, warn_bad_lines, delim_whitespace, low_memory, memory_map, float_precision)\u001b[0m\n\u001b[1;32m    674\u001b[0m         )\n\u001b[1;32m    675\u001b[0m \u001b[0;34m\u001b[0m\u001b[0m\n\u001b[0;32m--> 676\u001b[0;31m         \u001b[0;32mreturn\u001b[0m \u001b[0m_read\u001b[0m\u001b[0;34m(\u001b[0m\u001b[0mfilepath_or_buffer\u001b[0m\u001b[0;34m,\u001b[0m \u001b[0mkwds\u001b[0m\u001b[0;34m)\u001b[0m\u001b[0;34m\u001b[0m\u001b[0;34m\u001b[0m\u001b[0m\n\u001b[0m\u001b[1;32m    677\u001b[0m \u001b[0;34m\u001b[0m\u001b[0m\n\u001b[1;32m    678\u001b[0m     \u001b[0mparser_f\u001b[0m\u001b[0;34m.\u001b[0m\u001b[0m__name__\u001b[0m \u001b[0;34m=\u001b[0m \u001b[0mname\u001b[0m\u001b[0;34m\u001b[0m\u001b[0;34m\u001b[0m\u001b[0m\n",
      "\u001b[0;32m/usr/local/lib/python3.8/site-packages/pandas/io/parsers.py\u001b[0m in \u001b[0;36m_read\u001b[0;34m(filepath_or_buffer, kwds)\u001b[0m\n\u001b[1;32m    446\u001b[0m \u001b[0;34m\u001b[0m\u001b[0m\n\u001b[1;32m    447\u001b[0m     \u001b[0;31m# Create the parser.\u001b[0m\u001b[0;34m\u001b[0m\u001b[0;34m\u001b[0m\u001b[0;34m\u001b[0m\u001b[0m\n\u001b[0;32m--> 448\u001b[0;31m     \u001b[0mparser\u001b[0m \u001b[0;34m=\u001b[0m \u001b[0mTextFileReader\u001b[0m\u001b[0;34m(\u001b[0m\u001b[0mfp_or_buf\u001b[0m\u001b[0;34m,\u001b[0m \u001b[0;34m**\u001b[0m\u001b[0mkwds\u001b[0m\u001b[0;34m)\u001b[0m\u001b[0;34m\u001b[0m\u001b[0;34m\u001b[0m\u001b[0m\n\u001b[0m\u001b[1;32m    449\u001b[0m \u001b[0;34m\u001b[0m\u001b[0m\n\u001b[1;32m    450\u001b[0m     \u001b[0;32mif\u001b[0m \u001b[0mchunksize\u001b[0m \u001b[0;32mor\u001b[0m \u001b[0miterator\u001b[0m\u001b[0;34m:\u001b[0m\u001b[0;34m\u001b[0m\u001b[0;34m\u001b[0m\u001b[0m\n",
      "\u001b[0;32m/usr/local/lib/python3.8/site-packages/pandas/io/parsers.py\u001b[0m in \u001b[0;36m__init__\u001b[0;34m(self, f, engine, **kwds)\u001b[0m\n\u001b[1;32m    878\u001b[0m             \u001b[0mself\u001b[0m\u001b[0;34m.\u001b[0m\u001b[0moptions\u001b[0m\u001b[0;34m[\u001b[0m\u001b[0;34m\"has_index_names\"\u001b[0m\u001b[0;34m]\u001b[0m \u001b[0;34m=\u001b[0m \u001b[0mkwds\u001b[0m\u001b[0;34m[\u001b[0m\u001b[0;34m\"has_index_names\"\u001b[0m\u001b[0;34m]\u001b[0m\u001b[0;34m\u001b[0m\u001b[0;34m\u001b[0m\u001b[0m\n\u001b[1;32m    879\u001b[0m \u001b[0;34m\u001b[0m\u001b[0m\n\u001b[0;32m--> 880\u001b[0;31m         \u001b[0mself\u001b[0m\u001b[0;34m.\u001b[0m\u001b[0m_make_engine\u001b[0m\u001b[0;34m(\u001b[0m\u001b[0mself\u001b[0m\u001b[0;34m.\u001b[0m\u001b[0mengine\u001b[0m\u001b[0;34m)\u001b[0m\u001b[0;34m\u001b[0m\u001b[0;34m\u001b[0m\u001b[0m\n\u001b[0m\u001b[1;32m    881\u001b[0m \u001b[0;34m\u001b[0m\u001b[0m\n\u001b[1;32m    882\u001b[0m     \u001b[0;32mdef\u001b[0m \u001b[0mclose\u001b[0m\u001b[0;34m(\u001b[0m\u001b[0mself\u001b[0m\u001b[0;34m)\u001b[0m\u001b[0;34m:\u001b[0m\u001b[0;34m\u001b[0m\u001b[0;34m\u001b[0m\u001b[0m\n",
      "\u001b[0;32m/usr/local/lib/python3.8/site-packages/pandas/io/parsers.py\u001b[0m in \u001b[0;36m_make_engine\u001b[0;34m(self, engine)\u001b[0m\n\u001b[1;32m   1112\u001b[0m     \u001b[0;32mdef\u001b[0m \u001b[0m_make_engine\u001b[0m\u001b[0;34m(\u001b[0m\u001b[0mself\u001b[0m\u001b[0;34m,\u001b[0m \u001b[0mengine\u001b[0m\u001b[0;34m=\u001b[0m\u001b[0;34m\"c\"\u001b[0m\u001b[0;34m)\u001b[0m\u001b[0;34m:\u001b[0m\u001b[0;34m\u001b[0m\u001b[0;34m\u001b[0m\u001b[0m\n\u001b[1;32m   1113\u001b[0m         \u001b[0;32mif\u001b[0m \u001b[0mengine\u001b[0m \u001b[0;34m==\u001b[0m \u001b[0;34m\"c\"\u001b[0m\u001b[0;34m:\u001b[0m\u001b[0;34m\u001b[0m\u001b[0;34m\u001b[0m\u001b[0m\n\u001b[0;32m-> 1114\u001b[0;31m             \u001b[0mself\u001b[0m\u001b[0;34m.\u001b[0m\u001b[0m_engine\u001b[0m \u001b[0;34m=\u001b[0m \u001b[0mCParserWrapper\u001b[0m\u001b[0;34m(\u001b[0m\u001b[0mself\u001b[0m\u001b[0;34m.\u001b[0m\u001b[0mf\u001b[0m\u001b[0;34m,\u001b[0m \u001b[0;34m**\u001b[0m\u001b[0mself\u001b[0m\u001b[0;34m.\u001b[0m\u001b[0moptions\u001b[0m\u001b[0;34m)\u001b[0m\u001b[0;34m\u001b[0m\u001b[0;34m\u001b[0m\u001b[0m\n\u001b[0m\u001b[1;32m   1115\u001b[0m         \u001b[0;32melse\u001b[0m\u001b[0;34m:\u001b[0m\u001b[0;34m\u001b[0m\u001b[0;34m\u001b[0m\u001b[0m\n\u001b[1;32m   1116\u001b[0m             \u001b[0;32mif\u001b[0m \u001b[0mengine\u001b[0m \u001b[0;34m==\u001b[0m \u001b[0;34m\"python\"\u001b[0m\u001b[0;34m:\u001b[0m\u001b[0;34m\u001b[0m\u001b[0;34m\u001b[0m\u001b[0m\n",
      "\u001b[0;32m/usr/local/lib/python3.8/site-packages/pandas/io/parsers.py\u001b[0m in \u001b[0;36m__init__\u001b[0;34m(self, src, **kwds)\u001b[0m\n\u001b[1;32m   1889\u001b[0m         \u001b[0mkwds\u001b[0m\u001b[0;34m[\u001b[0m\u001b[0;34m\"usecols\"\u001b[0m\u001b[0;34m]\u001b[0m \u001b[0;34m=\u001b[0m \u001b[0mself\u001b[0m\u001b[0;34m.\u001b[0m\u001b[0musecols\u001b[0m\u001b[0;34m\u001b[0m\u001b[0;34m\u001b[0m\u001b[0m\n\u001b[1;32m   1890\u001b[0m \u001b[0;34m\u001b[0m\u001b[0m\n\u001b[0;32m-> 1891\u001b[0;31m         \u001b[0mself\u001b[0m\u001b[0;34m.\u001b[0m\u001b[0m_reader\u001b[0m \u001b[0;34m=\u001b[0m \u001b[0mparsers\u001b[0m\u001b[0;34m.\u001b[0m\u001b[0mTextReader\u001b[0m\u001b[0;34m(\u001b[0m\u001b[0msrc\u001b[0m\u001b[0;34m,\u001b[0m \u001b[0;34m**\u001b[0m\u001b[0mkwds\u001b[0m\u001b[0;34m)\u001b[0m\u001b[0;34m\u001b[0m\u001b[0;34m\u001b[0m\u001b[0m\n\u001b[0m\u001b[1;32m   1892\u001b[0m         \u001b[0mself\u001b[0m\u001b[0;34m.\u001b[0m\u001b[0munnamed_cols\u001b[0m \u001b[0;34m=\u001b[0m \u001b[0mself\u001b[0m\u001b[0;34m.\u001b[0m\u001b[0m_reader\u001b[0m\u001b[0;34m.\u001b[0m\u001b[0munnamed_cols\u001b[0m\u001b[0;34m\u001b[0m\u001b[0;34m\u001b[0m\u001b[0m\n\u001b[1;32m   1893\u001b[0m \u001b[0;34m\u001b[0m\u001b[0m\n",
      "\u001b[0;32mpandas/_libs/parsers.pyx\u001b[0m in \u001b[0;36mpandas._libs.parsers.TextReader.__cinit__\u001b[0;34m()\u001b[0m\n",
      "\u001b[0;32mpandas/_libs/parsers.pyx\u001b[0m in \u001b[0;36mpandas._libs.parsers.TextReader._setup_parser_source\u001b[0;34m()\u001b[0m\n",
      "\u001b[0;31mFileNotFoundError\u001b[0m: [Errno 2] File avi_es_variable_lr_a_equal_b_spherical_mesh_400_mu_1.0_lambda_10.0_gamma_0.05_vscale_2.0_stepsizeinit_0.0025_salience_2_atolx_0.0001.csv does not exist: 'avi_es_variable_lr_a_equal_b_spherical_mesh_400_mu_1.0_lambda_10.0_gamma_0.05_vscale_2.0_stepsizeinit_0.0025_salience_2_atolx_0.0001.csv'"
     ]
    }
   ],
   "source": [
    "df = pd.read_csv(fnB)\n",
    "dfA.head()"
   ]
  },
  {
   "cell_type": "code",
   "execution_count": 75,
   "metadata": {
    "ExecuteTime": {
     "end_time": "2020-12-11T04:10:02.722447Z",
     "start_time": "2020-12-11T04:10:01.976246Z"
    }
   },
   "outputs": [
    {
     "data": {
      "image/png": "[encoded data removed]",
      "text/plain": [
       "<Figure size 864x288 with 3 Axes>"
      ]
     },
     "metadata": {
      "needs_background": "light"
     },
     "output_type": "display_data"
    }
   ],
   "source": [
    "fig, axs = plt.subplots(figsize = (12,4), ncols = 3)\n",
    "\n",
    "\n",
    "ax = axs[0]\n",
    "color_lst = ['red','green']\n",
    "fn_lst = [fnA,fnC]\n",
    "for color,fn in zip(color_lst,fn_lst):\n",
    "    df = pd.read_csv(fn)\n",
    "    x_values = np.array(df['t'])\n",
    "    y_values = np.array(df['stepsize_mean'])\n",
    "    ax.plot(x_values, y_values, color=color)\n",
    "    ax.fill_between(x_values, y_values-df['stepsize_std'],y_values+df['stepsize_std'], alpha=0.2, color=color)\n",
    "    ax.set_xlabel('time',**axkwargs)\n",
    "    ax.set_ylabel('average step size',**axkwargs)\n",
    "    # plt.xticks(**axkwargs)\n",
    "    ax.tick_params(labelsize=axkwargs['fontsize'])\n",
    "\n",
    "    ax = axs[1]\n",
    "    x_values = np.array(df['t'])\n",
    "    y_values = np.array(df['stepsize_std']**2)\n",
    "    ax.plot(x_values, y_values, color=color)\n",
    "    # ax.fill_between(x_values, y_values-stepsize_std_lst,y_values+stepsize_std_lst, alpha=0.2)\n",
    "    ax.set_xlabel('time',**axkwargs)\n",
    "    ax.set_ylabel('variance in step size',**axkwargs)\n",
    "    ax.tick_params(labelsize=axkwargs['fontsize'])\n",
    "\n",
    "    ax = axs[2]\n",
    "    energy_lst = list(df['energy'].values)\n",
    "    x_values = np.array(df['t'])\n",
    "    y_values = np.array(energy_lst)/energy_lst[0]#[s**2/m for s,m in zip(stepsize_std_lst,stepsize_mean_lst)])\n",
    "    ax.plot(x_values, y_values, color=color)\n",
    "    # ax.fill_between(x_values, y_values-stepsize_std_lst,y_values+stepsize_std_lst, alpha=0.2)\n",
    "    ax.set_xlabel('time',**axkwargs)\n",
    "    ax.set_ylabel('energy / initial energy',**axkwargs)\n",
    "    ax.tick_params(labelsize=axkwargs['fontsize'])\n",
    "\n",
    "# ax = axs[2]\n",
    "# x_values = np.array(tme_lst)\n",
    "# y_values = np.array(volume_lst)/volume_lst[0]#[s**2/m for s,m in zip(stepsize_std_lst,stepsize_mean_lst)])\n",
    "# ax.plot(x_values, y_values)\n",
    "# # ax.fill_between(x_values, y_values-stepsize_std_lst,y_values+stepsize_std_lst, alpha=0.2)\n",
    "# ax.set_xlabel('time',**axkwargs)\n",
    "# ax.set_ylabel('volume / initial volume',**axkwargs)\n",
    "# ax.tick_params(labelsize=axkwargs['fontsize'])\n",
    "\n",
    "plt.tight_layout()\n",
    "plt.show()"
   ]
  },
  {
   "cell_type": "code",
   "execution_count": 61,
   "metadata": {
    "ExecuteTime": {
     "end_time": "2020-12-11T04:04:18.524168Z",
     "start_time": "2020-12-11T04:04:18.475066Z"
    }
   },
   "outputs": [
    {
     "ename": "FileNotFoundError",
     "evalue": "[Errno 2] File avi_es_variable_lr_a_equal_b_spherical_mesh_400_mu_1.0_lambda_10.0_gamma_0.05_vscale_2.0_stepsizeinit_0.0025_salience_2_atolx_0.0001.csv does not exist: 'avi_es_variable_lr_a_equal_b_spherical_mesh_400_mu_1.0_lambda_10.0_gamma_0.05_vscale_2.0_stepsizeinit_0.0025_salience_2_atolx_0.0001.csv'",
     "output_type": "error",
     "traceback": [
      "\u001b[0;31m---------------------------------------------------------------------------\u001b[0m",
      "\u001b[0;31mFileNotFoundError\u001b[0m                         Traceback (most recent call last)",
      "\u001b[0;32m<ipython-input-61-d3759b537da7>\u001b[0m in \u001b[0;36m<module>\u001b[0;34m\u001b[0m\n\u001b[1;32m      2\u001b[0m \u001b[0mfn_lst\u001b[0m \u001b[0;34m=\u001b[0m \u001b[0;34m[\u001b[0m\u001b[0mfnB\u001b[0m\u001b[0;34m,\u001b[0m\u001b[0mfnC\u001b[0m\u001b[0;34m]\u001b[0m\u001b[0;34m\u001b[0m\u001b[0;34m\u001b[0m\u001b[0m\n\u001b[1;32m      3\u001b[0m \u001b[0;32mfor\u001b[0m \u001b[0mcolor\u001b[0m\u001b[0;34m,\u001b[0m\u001b[0mfn\u001b[0m \u001b[0;32min\u001b[0m \u001b[0mzip\u001b[0m\u001b[0;34m(\u001b[0m\u001b[0mcolor_lst\u001b[0m\u001b[0;34m,\u001b[0m\u001b[0mfn_lst\u001b[0m\u001b[0;34m)\u001b[0m\u001b[0;34m:\u001b[0m\u001b[0;34m\u001b[0m\u001b[0;34m\u001b[0m\u001b[0m\n\u001b[0;32m----> 4\u001b[0;31m     \u001b[0mdf\u001b[0m \u001b[0;34m=\u001b[0m \u001b[0mpd\u001b[0m\u001b[0;34m.\u001b[0m\u001b[0mread_csv\u001b[0m\u001b[0;34m(\u001b[0m\u001b[0mfn\u001b[0m\u001b[0;34m)\u001b[0m\u001b[0;34m\u001b[0m\u001b[0;34m\u001b[0m\u001b[0m\n\u001b[0m",
      "\u001b[0;32m/usr/local/lib/python3.8/site-packages/pandas/io/parsers.py\u001b[0m in \u001b[0;36mparser_f\u001b[0;34m(filepath_or_buffer, sep, delimiter, header, names, index_col, usecols, squeeze, prefix, mangle_dupe_cols, dtype, engine, converters, true_values, false_values, skipinitialspace, skiprows, skipfooter, nrows, na_values, keep_default_na, na_filter, verbose, skip_blank_lines, parse_dates, infer_datetime_format, keep_date_col, date_parser, dayfirst, cache_dates, iterator, chunksize, compression, thousands, decimal, lineterminator, quotechar, quoting, doublequote, escapechar, comment, encoding, dialect, error_bad_lines, warn_bad_lines, delim_whitespace, low_memory, memory_map, float_precision)\u001b[0m\n\u001b[1;32m    674\u001b[0m         )\n\u001b[1;32m    675\u001b[0m \u001b[0;34m\u001b[0m\u001b[0m\n\u001b[0;32m--> 676\u001b[0;31m         \u001b[0;32mreturn\u001b[0m \u001b[0m_read\u001b[0m\u001b[0;34m(\u001b[0m\u001b[0mfilepath_or_buffer\u001b[0m\u001b[0;34m,\u001b[0m \u001b[0mkwds\u001b[0m\u001b[0;34m)\u001b[0m\u001b[0;34m\u001b[0m\u001b[0;34m\u001b[0m\u001b[0m\n\u001b[0m\u001b[1;32m    677\u001b[0m \u001b[0;34m\u001b[0m\u001b[0m\n\u001b[1;32m    678\u001b[0m     \u001b[0mparser_f\u001b[0m\u001b[0;34m.\u001b[0m\u001b[0m__name__\u001b[0m \u001b[0;34m=\u001b[0m \u001b[0mname\u001b[0m\u001b[0;34m\u001b[0m\u001b[0;34m\u001b[0m\u001b[0m\n",
      "\u001b[0;32m/usr/local/lib/python3.8/site-packages/pandas/io/parsers.py\u001b[0m in \u001b[0;36m_read\u001b[0;34m(filepath_or_buffer, kwds)\u001b[0m\n\u001b[1;32m    446\u001b[0m \u001b[0;34m\u001b[0m\u001b[0m\n\u001b[1;32m    447\u001b[0m     \u001b[0;31m# Create the parser.\u001b[0m\u001b[0;34m\u001b[0m\u001b[0;34m\u001b[0m\u001b[0;34m\u001b[0m\u001b[0m\n\u001b[0;32m--> 448\u001b[0;31m     \u001b[0mparser\u001b[0m \u001b[0;34m=\u001b[0m \u001b[0mTextFileReader\u001b[0m\u001b[0;34m(\u001b[0m\u001b[0mfp_or_buf\u001b[0m\u001b[0;34m,\u001b[0m \u001b[0;34m**\u001b[0m\u001b[0mkwds\u001b[0m\u001b[0;34m)\u001b[0m\u001b[0;34m\u001b[0m\u001b[0;34m\u001b[0m\u001b[0m\n\u001b[0m\u001b[1;32m    449\u001b[0m \u001b[0;34m\u001b[0m\u001b[0m\n\u001b[1;32m    450\u001b[0m     \u001b[0;32mif\u001b[0m \u001b[0mchunksize\u001b[0m \u001b[0;32mor\u001b[0m \u001b[0miterator\u001b[0m\u001b[0;34m:\u001b[0m\u001b[0;34m\u001b[0m\u001b[0;34m\u001b[0m\u001b[0m\n",
      "\u001b[0;32m/usr/local/lib/python3.8/site-packages/pandas/io/parsers.py\u001b[0m in \u001b[0;36m__init__\u001b[0;34m(self, f, engine, **kwds)\u001b[0m\n\u001b[1;32m    878\u001b[0m             \u001b[0mself\u001b[0m\u001b[0;34m.\u001b[0m\u001b[0moptions\u001b[0m\u001b[0;34m[\u001b[0m\u001b[0;34m\"has_index_names\"\u001b[0m\u001b[0;34m]\u001b[0m \u001b[0;34m=\u001b[0m \u001b[0mkwds\u001b[0m\u001b[0;34m[\u001b[0m\u001b[0;34m\"has_index_names\"\u001b[0m\u001b[0;34m]\u001b[0m\u001b[0;34m\u001b[0m\u001b[0;34m\u001b[0m\u001b[0m\n\u001b[1;32m    879\u001b[0m \u001b[0;34m\u001b[0m\u001b[0m\n\u001b[0;32m--> 880\u001b[0;31m         \u001b[0mself\u001b[0m\u001b[0;34m.\u001b[0m\u001b[0m_make_engine\u001b[0m\u001b[0;34m(\u001b[0m\u001b[0mself\u001b[0m\u001b[0;34m.\u001b[0m\u001b[0mengine\u001b[0m\u001b[0;34m)\u001b[0m\u001b[0;34m\u001b[0m\u001b[0;34m\u001b[0m\u001b[0m\n\u001b[0m\u001b[1;32m    881\u001b[0m \u001b[0;34m\u001b[0m\u001b[0m\n\u001b[1;32m    882\u001b[0m     \u001b[0;32mdef\u001b[0m \u001b[0mclose\u001b[0m\u001b[0;34m(\u001b[0m\u001b[0mself\u001b[0m\u001b[0;34m)\u001b[0m\u001b[0;34m:\u001b[0m\u001b[0;34m\u001b[0m\u001b[0;34m\u001b[0m\u001b[0m\n",
      "\u001b[0;32m/usr/local/lib/python3.8/site-packages/pandas/io/parsers.py\u001b[0m in \u001b[0;36m_make_engine\u001b[0;34m(self, engine)\u001b[0m\n\u001b[1;32m   1112\u001b[0m     \u001b[0;32mdef\u001b[0m \u001b[0m_make_engine\u001b[0m\u001b[0;34m(\u001b[0m\u001b[0mself\u001b[0m\u001b[0;34m,\u001b[0m \u001b[0mengine\u001b[0m\u001b[0;34m=\u001b[0m\u001b[0;34m\"c\"\u001b[0m\u001b[0;34m)\u001b[0m\u001b[0;34m:\u001b[0m\u001b[0;34m\u001b[0m\u001b[0;34m\u001b[0m\u001b[0m\n\u001b[1;32m   1113\u001b[0m         \u001b[0;32mif\u001b[0m \u001b[0mengine\u001b[0m \u001b[0;34m==\u001b[0m \u001b[0;34m\"c\"\u001b[0m\u001b[0;34m:\u001b[0m\u001b[0;34m\u001b[0m\u001b[0;34m\u001b[0m\u001b[0m\n\u001b[0;32m-> 1114\u001b[0;31m             \u001b[0mself\u001b[0m\u001b[0;34m.\u001b[0m\u001b[0m_engine\u001b[0m \u001b[0;34m=\u001b[0m \u001b[0mCParserWrapper\u001b[0m\u001b[0;34m(\u001b[0m\u001b[0mself\u001b[0m\u001b[0;34m.\u001b[0m\u001b[0mf\u001b[0m\u001b[0;34m,\u001b[0m \u001b[0;34m**\u001b[0m\u001b[0mself\u001b[0m\u001b[0;34m.\u001b[0m\u001b[0moptions\u001b[0m\u001b[0;34m)\u001b[0m\u001b[0;34m\u001b[0m\u001b[0;34m\u001b[0m\u001b[0m\n\u001b[0m\u001b[1;32m   1115\u001b[0m         \u001b[0;32melse\u001b[0m\u001b[0;34m:\u001b[0m\u001b[0;34m\u001b[0m\u001b[0;34m\u001b[0m\u001b[0m\n\u001b[1;32m   1116\u001b[0m             \u001b[0;32mif\u001b[0m \u001b[0mengine\u001b[0m \u001b[0;34m==\u001b[0m \u001b[0;34m\"python\"\u001b[0m\u001b[0;34m:\u001b[0m\u001b[0;34m\u001b[0m\u001b[0;34m\u001b[0m\u001b[0m\n",
      "\u001b[0;32m/usr/local/lib/python3.8/site-packages/pandas/io/parsers.py\u001b[0m in \u001b[0;36m__init__\u001b[0;34m(self, src, **kwds)\u001b[0m\n\u001b[1;32m   1889\u001b[0m         \u001b[0mkwds\u001b[0m\u001b[0;34m[\u001b[0m\u001b[0;34m\"usecols\"\u001b[0m\u001b[0;34m]\u001b[0m \u001b[0;34m=\u001b[0m \u001b[0mself\u001b[0m\u001b[0;34m.\u001b[0m\u001b[0musecols\u001b[0m\u001b[0;34m\u001b[0m\u001b[0;34m\u001b[0m\u001b[0m\n\u001b[1;32m   1890\u001b[0m \u001b[0;34m\u001b[0m\u001b[0m\n\u001b[0;32m-> 1891\u001b[0;31m         \u001b[0mself\u001b[0m\u001b[0;34m.\u001b[0m\u001b[0m_reader\u001b[0m \u001b[0;34m=\u001b[0m \u001b[0mparsers\u001b[0m\u001b[0;34m.\u001b[0m\u001b[0mTextReader\u001b[0m\u001b[0;34m(\u001b[0m\u001b[0msrc\u001b[0m\u001b[0;34m,\u001b[0m \u001b[0;34m**\u001b[0m\u001b[0mkwds\u001b[0m\u001b[0;34m)\u001b[0m\u001b[0;34m\u001b[0m\u001b[0;34m\u001b[0m\u001b[0m\n\u001b[0m\u001b[1;32m   1892\u001b[0m         \u001b[0mself\u001b[0m\u001b[0;34m.\u001b[0m\u001b[0munnamed_cols\u001b[0m \u001b[0;34m=\u001b[0m \u001b[0mself\u001b[0m\u001b[0;34m.\u001b[0m\u001b[0m_reader\u001b[0m\u001b[0;34m.\u001b[0m\u001b[0munnamed_cols\u001b[0m\u001b[0;34m\u001b[0m\u001b[0;34m\u001b[0m\u001b[0m\n\u001b[1;32m   1893\u001b[0m \u001b[0;34m\u001b[0m\u001b[0m\n",
      "\u001b[0;32mpandas/_libs/parsers.pyx\u001b[0m in \u001b[0;36mpandas._libs.parsers.TextReader.__cinit__\u001b[0;34m()\u001b[0m\n",
      "\u001b[0;32mpandas/_libs/parsers.pyx\u001b[0m in \u001b[0;36mpandas._libs.parsers.TextReader._setup_parser_source\u001b[0;34m()\u001b[0m\n",
      "\u001b[0;31mFileNotFoundError\u001b[0m: [Errno 2] File avi_es_variable_lr_a_equal_b_spherical_mesh_400_mu_1.0_lambda_10.0_gamma_0.05_vscale_2.0_stepsizeinit_0.0025_salience_2_atolx_0.0001.csv does not exist: 'avi_es_variable_lr_a_equal_b_spherical_mesh_400_mu_1.0_lambda_10.0_gamma_0.05_vscale_2.0_stepsizeinit_0.0025_salience_2_atolx_0.0001.csv'"
     ]
    }
   ],
   "source": [
    "color_lst = ['red','blue','green']\n",
    "fn_lst = [fnA,fnB,fnC]\n",
    "for color,fn in zip(color_lst,fn_lst):\n",
    "    df = pd.read_csv(fn)"
   ]
  },
  {
   "cell_type": "code",
   "execution_count": 60,
   "metadata": {
    "ExecuteTime": {
     "end_time": "2020-12-11T04:03:58.760146Z",
     "start_time": "2020-12-11T04:03:58.612424Z"
    }
   },
   "outputs": [
    {
     "name": "stdout",
     "output_type": "stream",
     "text": [
      "total 2856\r\n",
      "-rw-r--r--  1 timothytyree  staff   69728 Dec 10 17:00 avi_es_counts_fixed_lr_a_equal_b_spherical_mesh_100_mu_1.0_lambda_10.0_gamma_0.0_vscale_1.0_stepsizeinit_0.0001_salience_2_atolx_0.0001.npy\r\n",
      "-rw-r--r--  1 timothytyree  staff      22 Dec  9 18:33 avi_es_counts_spherical_mesh_100_mu_1.0_lambda_10.0_gamma_0.0.npy.npz\r\n",
      "-rw-r--r--  1 timothytyree  staff   35726 Dec 10 17:00 avi_es_fixed_lr_a_equal_b_spherical_mesh_100_mu_1.0_lambda_10.0_gamma_0.0_vscale_1.0_stepsizeinit_0.0001_salience_2_atolx_0.0001.csv\r\n",
      "-rw-r--r--  1 timothytyree  staff   18587 Dec 10 15:25 avi_es_fixed_lr_a_equal_b_spherical_mesh_100_mu_1.0_lambda_10.0_gamma_0.0_vscale_2.0_stepsizeinit_0.0001_salience_2_atolx_0.0001.csv\r\n",
      "-rw-r--r--@ 1 timothytyree  staff   34037 Dec  9 18:31 avi_es_spherical_mesh_100_mu_1.0_lambda_10.0_gamma_0.0.csv\r\n",
      "-rw-r--r--  1 timothytyree  staff   11802 Dec 10 19:55 avi_es_variable_lr_a_equal_b_spherical_mesh_400_mu_1.0_lambda_10.0_gamma_0.05_vscale_2.0_stepsizeinit_0.0025_salience_0.5_atolx_0.0001.csv\r\n",
      "-rw-r--r--  1 timothytyree  staff   11917 Dec 10 19:49 avi_es_variable_lr_a_equal_b_spherical_mesh_400_mu_1.0_lambda_10.0_gamma_0.05_vscale_2.0_stepsizeinit_0.0025_salience_4_atolx_0.0001.csv\r\n",
      "-rw-r--r--  1 timothytyree  staff   11917 Dec 10 19:40 avi_es_variable_lr_spherical_mesh_400_mu_1.0_lambda_10.0_gamma_0.05_vscale_2.0_salience_2_stepsizeinit_0.0025_atolx_0.0001_btolx_1e-05.csv\r\n",
      "-rw-r--r--  1 timothytyree  staff   69728 Dec 10 17:34 avi_esynchronous_counts_fixed_lr_a_equal_b_spherical_mesh_100_mu_1.0_lambda_10.0_gamma_0.0_vscale_1.0_stepsizeinit_0.0001_salience_2_atolx_0.0001.npy\r\n",
      "-rw-r--r--  1 timothytyree  staff   69728 Dec 10 18:25 avi_esynchronous_counts_fixed_lr_a_equal_b_spherical_mesh_400_mu_1.0_lambda_10.0_gamma_0.0_vscale_1.0_stepsizeinit_0.0001_salience_2_atolx_0.0001.npy\r\n",
      "-rw-r--r--  1 timothytyree  staff   32735 Dec 10 17:34 avi_esynchronous_fixed_lr_a_equal_b_spherical_mesh_100_mu_1.0_lambda_10.0_gamma_0.0_vscale_1.0_stepsizeinit_0.0001_salience_2_atolx_0.0001.csv\r\n",
      "-rw-r--r--  1 timothytyree  staff   22182 Dec 10 18:25 avi_esynchronous_fixed_lr_a_equal_b_spherical_mesh_400_mu_1.0_lambda_10.0_gamma_0.0_vscale_1.0_stepsizeinit_0.0001_salience_2_atolx_0.0001.csv\r\n",
      "-rw-r--r--  1 timothytyree  staff   54369 Dec  8 17:32 avi_is_spherical_mesh_100.stl_mu_1.0_lambda_1.0_gamma_1.0.csv\r\n",
      "-rw-r--r--  1 timothytyree  staff   47008 Dec  9 16:39 avi_is_spherical_mesh_100_mu_1.0_lambda_10.0_gamma_0.0.csv\r\n",
      "-rw-r--r--@ 1 timothytyree  staff   53048 Dec  8 13:58 avi_is_spherical_mesh_400.stl_mu_1.0_lambda_1.0_gamma_0.0.csv\r\n",
      "-rw-r--r--  1 timothytyree  staff   35918 Dec  9 22:25 avi_ns_a_equal_b_spherical_mesh_100_mu_1.0_lambda_1.0_gamma_0.0vscale_2.0_stepsizeinit_0.005.csv\r\n",
      "-rw-r--r--  1 timothytyree  staff   36000 Dec  9 22:34 avi_ns_a_equal_b_spherical_mesh_100_mu_1.0_lambda_1.0_gamma_0.0vscale_2.0_stepsizeinit_0.005_salience_32.csv\r\n",
      "-rw-r--r--  1 timothytyree  staff   36017 Dec  9 23:43 avi_ns_a_equal_b_spherical_mesh_100_mu_1.0_lambda_1.0_gamma_0.0vscale_2.0_stepsizeinit_0.005_salience_32_atolx_0.0001.csv\r\n",
      "-rw-r--r--  1 timothytyree  staff   45090 Dec 10 10:26 avi_ns_a_equal_b_spherical_mesh_100_mu_1.0_lambda_1.0_gamma_0.0vscale_2.0_stepsizeinit_5e-05_salience_128_atolx_0.0001.csv\r\n",
      "-rw-r--r--  1 timothytyree  staff   36068 Dec  9 22:07 avi_ns_a_equal_b_spherical_mesh_100_mu_1.0_lambda_10.0_gamma_0.0vscale_2.0_stepsizeinit_0.005.csv\r\n",
      "-rw-r--r--  1 timothytyree  staff   72128 Dec  9 22:25 avi_ns_counts_a_equal_b_spherical_mesh_100_mu_1.0_lambda_1.0_gamma_0.0vscale_2.0_stepsizeinit_0.005.npy\r\n",
      "-rw-r--r--  1 timothytyree  staff   72128 Dec  9 22:34 avi_ns_counts_a_equal_b_spherical_mesh_100_mu_1.0_lambda_1.0_gamma_0.0vscale_2.0_stepsizeinit_0.005_salience_32.npy\r\n",
      "-rw-r--r--  1 timothytyree  staff   72128 Dec  9 23:43 avi_ns_counts_a_equal_b_spherical_mesh_100_mu_1.0_lambda_1.0_gamma_0.0vscale_2.0_stepsizeinit_0.005_salience_32_atolx_0.0001.npy\r\n",
      "-rw-r--r--  1 timothytyree  staff   88448 Dec 10 10:26 avi_ns_counts_a_equal_b_spherical_mesh_100_mu_1.0_lambda_1.0_gamma_0.0vscale_2.0_stepsizeinit_5e-05_salience_128_atolx_0.0001.npy\r\n",
      "-rw-r--r--  1 timothytyree  staff   43568 Dec 10 03:07 avi_ns_counts_a_equal_b_spherical_mesh_100_mu_1.0_lambda_1.0_gamma_0.0vscale_2.0_stepsizeinit_5e-05_salience_128_atolx_0.0001.npy copy\r\n",
      "-rw-r--r--  1 timothytyree  staff  141728 Dec  9 22:07 avi_ns_counts_a_equal_b_spherical_mesh_100_mu_1.0_lambda_10.0_gamma_0.0.npz.npy\r\n",
      "-rw-r--r--  1 timothytyree  staff      22 Dec  9 20:59 avi_ns_counts_spherical_mesh_100_mu_1.0_lambda_10.0_gamma_0.0.npz\r\n",
      "-rw-r--r--@ 1 timothytyree  staff   36726 Dec  9 20:59 avi_ns_spherical_mesh_100_mu_1.0_lambda_10.0_gamma_0.0.csv\r\n",
      "-rw-r--r--  1 timothytyree  staff    8820 Dec  7 14:54 esvi_sphere_100.csv\r\n",
      "-rw-r--r--  1 timothytyree  staff   32009 Dec  7 14:24 squish_not_working.csv\r\n"
     ]
    }
   ],
   "source": [
    "!ls -l"
   ]
  },
  {
   "cell_type": "code",
   "execution_count": 62,
   "metadata": {
    "ExecuteTime": {
     "end_time": "2020-12-11T04:07:00.087029Z",
     "start_time": "2020-12-11T04:07:00.062831Z"
    }
   },
   "outputs": [],
   "source": [
    "fn = \"avi_es_variable_lr_a_equal_b_spherical_mesh_400_mu_1.0_lambda_10.0_gamma_0.05_vscale_2.0_stepsizeinit_0.0025_salience_0.5_atolx_0.0001.csv\"\n",
    "df = pd.read_csv(fn)"
   ]
  },
  {
   "cell_type": "code",
   "execution_count": 93,
   "metadata": {
    "ExecuteTime": {
     "end_time": "2020-12-11T05:16:28.593093Z",
     "start_time": "2020-12-11T05:16:28.126331Z"
    }
   },
   "outputs": [
    {
     "name": "stdout",
     "output_type": "stream",
     "text": [
      "avi_es_fixed_lr_a_equal_b_spherical_mesh_100_mu_1.0_lambda_10.0_gamma_0.0_vscale_1.0_stepsizeinit_0.0001_salience_2_atolx_0.0001.csv\n",
      "avi_es_fixed_lr_a_equal_b_spherical_mesh_400_mu_1.0_lambda_10.0_gamma_0.05_vscale_2.0_stepsizeinit_0.005_salience_2_atolx_0.0001.csv\n",
      "avi_es_fixed_lr_a_equal_b_spherical_mesh_64_mu_1.0_lambda_10.0_gamma_0.05_vscale_2.0_stepsizeinit_0.005_salience_2_atolx_0.0001.csv\n",
      "avi_es_spherical_mesh_100_mu_1.0_lambda_10.0_gamma_0.0.csv\n",
      "avi_es_variable_lr_a_equal_b_spherical_mesh_400_mu_1.0_lambda_10.0_gamma_0.05_vscale_2.0_stepsizeinit_0.0025_salience_0.5_atolx_0.0001.csv\n",
      "avi_es_variable_lr_a_equal_b_spherical_mesh_400_mu_1.0_lambda_10.0_gamma_0.05_vscale_2.0_stepsizeinit_0.0025_salience_4_atolx_0.0001.csv\n",
      "avi_es_variable_lr_spherical_mesh_400_mu_1.0_lambda_10.0_gamma_0.05_vscale_2.0_salience_2_stepsizeinit_0.0025_atolx_0.0001_btolx_1e-05.csv\n"
     ]
    },
    {
     "data": {
      "image/png": "[encoded data removed]",
      "text/plain": [
       "<Figure size 288x288 with 1 Axes>"
      ]
     },
     "metadata": {
      "needs_background": "light"
     },
     "output_type": "display_data"
    }
   ],
   "source": [
    "fig, axs = plt.subplots(figsize = (4,4), ncols = 1)\n",
    "bins = 30\n",
    "axkwargs = {\n",
    "    'fontsize':14,\n",
    "    \n",
    "}\n",
    "hkwargs = {\n",
    "    'color':'blue',#'orange',\n",
    "    'cumulative':False,\n",
    "    'stacked':True,\n",
    "    'log':False,\n",
    "    'density':False,\n",
    "    'bins':bins\n",
    "}\n",
    "\n",
    "ax = axs\n",
    "# color_lst = [None, None]\n",
    "os.chdir(data_folder)\n",
    "fn_lst = sorted([fn for fn in os.listdir() if fn.find('.csv')!=-1])\n",
    "# fn_lst = !grep *.csv\n",
    "#[fnA, fnB]\n",
    "# color_lst = ['green']\n",
    "# fn_lst = [ fnB]\n",
    "os.chdir(data_folder)\n",
    "color = None\n",
    "# for color,fn in zip(color_lst,fn_lst):\n",
    "for fn in fn_lst:\n",
    "    df = pd.read_csv(fn)\n",
    "    x_values = np.array(df['t'])\n",
    "    \n",
    "    y_values = np.array(df['stepsize_std']**2)\n",
    "    ymean = np.mean(y_values)\n",
    "    if ymean >= 1e-30:\n",
    "        p = ax.plot(x_values, y_values, color=color, alpha=.7)\n",
    "        clr = p[0].get_color()\n",
    "    #     ax.fill_between(x_values, y_values-df['stepsize_std'],y_values+df['stepsize_std'], alpha=0.2, color=clr)\n",
    "    ax.set_xlabel('time',**axkwargs)\n",
    "    ax.set_ylabel('average step size',**axkwargs)\n",
    "    ax.set_yscale('log')\n",
    "    # plt.xticks(**axkwargs)\n",
    "    ax.tick_params(labelsize=axkwargs['fontsize'])\n",
    "    if ymean >= 1e-9:\n",
    "        print(fn)"
   ]
  },
  {
   "cell_type": "code",
   "execution_count": 113,
   "metadata": {
    "ExecuteTime": {
     "end_time": "2020-12-11T05:26:01.312717Z",
     "start_time": "2020-12-11T05:26:00.963338Z"
    }
   },
   "outputs": [
    {
     "name": "stdout",
     "output_type": "stream",
     "text": [
      "2.6765431984138072e-05, avi_es_fixed_lr_a_equal_b_spherical_mesh_100_mu_1.0_lambda_10.0_gamma_0.0_vscale_1.0_stepsizeinit_0.0001_salience_2_atolx_0.0001.csv\n",
      "6.512177379461233e-06, avi_es_fixed_lr_a_equal_b_spherical_mesh_400_mu_1.0_lambda_10.0_gamma_0.05_vscale_2.0_stepsizeinit_0.005_salience_2_atolx_0.0001.csv\n",
      "9.982976854423984e-06, avi_es_fixed_lr_a_equal_b_spherical_mesh_64_mu_1.0_lambda_10.0_gamma_0.05_vscale_2.0_stepsizeinit_0.005_salience_2_atolx_0.0001.csv\n",
      "1.0853389324093755e-07, avi_es_spherical_mesh_100_mu_1.0_lambda_10.0_gamma_0.0.csv\n",
      "4.527980484913064e-06, avi_es_variable_lr_a_equal_b_spherical_mesh_400_mu_1.0_lambda_10.0_gamma_0.05_vscale_2.0_stepsizeinit_0.0025_salience_0.5_atolx_0.0001.csv\n",
      "4.513824033625072e-06, avi_es_variable_lr_a_equal_b_spherical_mesh_400_mu_1.0_lambda_10.0_gamma_0.05_vscale_2.0_stepsizeinit_0.0025_salience_4_atolx_0.0001.csv\n",
      "4.513824033625072e-06, avi_es_variable_lr_spherical_mesh_400_mu_1.0_lambda_10.0_gamma_0.05_vscale_2.0_salience_2_stepsizeinit_0.0025_atolx_0.0001_btolx_1e-05.csv\n"
     ]
    },
    {
     "data": {
      "image/png": "[encoded data removed]",
      "text/plain": [
       "<Figure size 288x288 with 1 Axes>"
      ]
     },
     "metadata": {
      "needs_background": "light"
     },
     "output_type": "display_data"
    }
   ],
   "source": [
    "fig, axs = plt.subplots(figsize = (4,4), ncols = 1)\n",
    "bins = 30\n",
    "axkwargs = {\n",
    "    'fontsize':14,\n",
    "    \n",
    "}\n",
    "hkwargs = {\n",
    "    'color':'blue',#'orange',\n",
    "    'cumulative':False,\n",
    "    'stacked':True,\n",
    "    'log':False,\n",
    "    'density':False,\n",
    "    'bins':bins\n",
    "}\n",
    "\n",
    "ax = axs\n",
    "# color_lst = [None, None]\n",
    "os.chdir(data_folder)\n",
    "fn_lst = sorted([fn for fn in os.listdir() if fn.find('.csv')!=-1])\n",
    "# fn_lst = !grep *.csv\n",
    "#[fnA, fnB]\n",
    "\n",
    "fn_lst_myneural2 = [] \n",
    "# color_lst = ['green']\n",
    "# fn_lst = [ fnB]\n",
    "os.chdir(data_folder)\n",
    "color = None\n",
    "# for color,fn in zip(color_lst,fn_lst):\n",
    "for fn in fn_lst:\n",
    "    df = pd.read_csv(fn)\n",
    "    x_values = np.array(df['t'])\n",
    "    \n",
    "    y_values = np.array(df['stepsize_std']**2)\n",
    "    ymean = np.mean(y_values)\n",
    "    if ymean >= 1e-30:\n",
    "        p = ax.plot(x_values, y_values, color=color, alpha=.7)\n",
    "        clr = p[0].get_color()\n",
    "    #     ax.fill_between(x_values, y_values-df['stepsize_std'],y_values+df['stepsize_std'], alpha=0.2, color=clr)\n",
    "    ax.set_xlabel('time',**axkwargs)\n",
    "    ax.set_ylabel('variance step size',**axkwargs)\n",
    "    ax.set_yscale('log')\n",
    "    # plt.xticks(**axkwargs)\n",
    "    ax.tick_params(labelsize=axkwargs['fontsize'])\n",
    "    if (ymean >= 1e-9) & (ymean>= 1e-30):\n",
    "        print(f\"{ymean}, {fn}\")\n",
    "        fn_lst_myneural2.append(fn)\n",
    "        "
   ]
  },
  {
   "cell_type": "markdown",
   "metadata": {
    "ExecuteTime": {
     "end_time": "2020-12-11T05:25:46.261908Z",
     "start_time": "2020-12-11T05:25:46.239121Z"
    }
   },
   "source": [
    "Note fn_lst_myneural contains only fixed time step methods"
   ]
  },
  {
   "cell_type": "code",
   "execution_count": 117,
   "metadata": {
    "ExecuteTime": {
     "end_time": "2020-12-11T05:48:46.117389Z",
     "start_time": "2020-12-11T05:48:46.096425Z"
    }
   },
   "outputs": [],
   "source": [
    "fn_lst_myneural = ['avi_ns_a_equal_b_spherical_mesh_100_mu_1.0_lambda_1.0_gamma_0.0vscale_2.0_stepsizeinit_0.005.csv',\n",
    " 'avi_ns_a_equal_b_spherical_mesh_100_mu_1.0_lambda_1.0_gamma_0.0vscale_2.0_stepsizeinit_0.005_salience_32.csv',\n",
    " 'avi_ns_a_equal_b_spherical_mesh_100_mu_1.0_lambda_1.0_gamma_0.0vscale_2.0_stepsizeinit_0.005_salience_32_atolx_0.0001.csv',\n",
    " 'avi_ns_a_equal_b_spherical_mesh_100_mu_1.0_lambda_1.0_gamma_0.0vscale_2.0_stepsizeinit_5e-05_salience_128_atolx_0.0001.csv',\n",
    " 'avi_ns_a_equal_b_spherical_mesh_100_mu_1.0_lambda_10.0_gamma_0.0vscale_2.0_stepsizeinit_0.005.csv',\n",
    " 'avi_ns_spherical_mesh_100_mu_1.0_lambda_10.0_gamma_0.0.csv']"
   ]
  },
  {
   "cell_type": "code",
   "execution_count": 118,
   "metadata": {
    "ExecuteTime": {
     "end_time": "2020-12-11T05:48:46.473297Z",
     "start_time": "2020-12-11T05:48:46.299323Z"
    }
   },
   "outputs": [
    {
     "ename": "NameError",
     "evalue": "name 'fn_lst_myneural3' is not defined",
     "output_type": "error",
     "traceback": [
      "\u001b[0;31m---------------------------------------------------------------------------\u001b[0m",
      "\u001b[0;31mNameError\u001b[0m                                 Traceback (most recent call last)",
      "\u001b[0;32m<ipython-input-118-a62e03f1c230>\u001b[0m in \u001b[0;36m<module>\u001b[0;34m\u001b[0m\n\u001b[1;32m     18\u001b[0m \u001b[0mcolor\u001b[0m \u001b[0;34m=\u001b[0m \u001b[0;32mNone\u001b[0m\u001b[0;34m\u001b[0m\u001b[0;34m\u001b[0m\u001b[0m\n\u001b[1;32m     19\u001b[0m \u001b[0;31m# for color,fn in zip(color_lst,fn_lst):\u001b[0m\u001b[0;34m\u001b[0m\u001b[0;34m\u001b[0m\u001b[0;34m\u001b[0m\u001b[0m\n\u001b[0;32m---> 20\u001b[0;31m \u001b[0;32mfor\u001b[0m \u001b[0mfn\u001b[0m \u001b[0;32min\u001b[0m \u001b[0mfn_lst_myneural3\u001b[0m\u001b[0;34m:\u001b[0m\u001b[0;34m\u001b[0m\u001b[0;34m\u001b[0m\u001b[0m\n\u001b[0m\u001b[1;32m     21\u001b[0m     \u001b[0mdf\u001b[0m \u001b[0;34m=\u001b[0m \u001b[0mpd\u001b[0m\u001b[0;34m.\u001b[0m\u001b[0mread_csv\u001b[0m\u001b[0;34m(\u001b[0m\u001b[0mfn\u001b[0m\u001b[0;34m)\u001b[0m\u001b[0;34m\u001b[0m\u001b[0;34m\u001b[0m\u001b[0m\n\u001b[1;32m     22\u001b[0m     \u001b[0mx_values\u001b[0m \u001b[0;34m=\u001b[0m \u001b[0mnp\u001b[0m\u001b[0;34m.\u001b[0m\u001b[0marray\u001b[0m\u001b[0;34m(\u001b[0m\u001b[0mdf\u001b[0m\u001b[0;34m[\u001b[0m\u001b[0;34m't'\u001b[0m\u001b[0;34m]\u001b[0m\u001b[0;34m)\u001b[0m\u001b[0;34m\u001b[0m\u001b[0;34m\u001b[0m\u001b[0m\n",
      "\u001b[0;31mNameError\u001b[0m: name 'fn_lst_myneural3' is not defined"
     ]
    },
    {
     "data": {
      "image/png": "[encoded data removed]",
      "text/plain": [
       "<Figure size 288x288 with 1 Axes>"
      ]
     },
     "metadata": {
      "needs_background": "light"
     },
     "output_type": "display_data"
    }
   ],
   "source": [
    "fig, axs = plt.subplots(figsize = (4,4), ncols = 1)\n",
    "bins = 30\n",
    "axkwargs = {\n",
    "    'fontsize':14,\n",
    "    \n",
    "}\n",
    "hkwargs = {\n",
    "    'color':'blue',#'orange',\n",
    "    'cumulative':False,\n",
    "    'stacked':True,\n",
    "    'log':False,\n",
    "    'density':False,\n",
    "    'bins':bins\n",
    "}\n",
    "\n",
    "\n",
    "os.chdir(data_folder)\n",
    "color = None\n",
    "# for color,fn in zip(color_lst,fn_lst):\n",
    "for fn in fn_lst_myneural3:\n",
    "    df = pd.read_csv(fn)\n",
    "    x_values = np.array(df['t'])\n",
    "    y_values = np.array(df['stepsize_std']**2)\n",
    "    ymean = np.mean(y_values)\n",
    "    p = ax.plot(x_values, y_values, color=color, alpha=.7)\n",
    "    clr = p[0].get_color()\n",
    "    #     ax.fill_between(x_values, y_values-df['stepsize_std'],y_values+df['stepsize_std'], alpha=0.2, color=clr)\n",
    "#     ax.set_xlabel('time',**axkwargs)\n",
    "#     ax.set_ylabel('average step size',**axkwargs)\n",
    "#     ax.set_yscale('log')\n",
    "\n",
    "\n"
   ]
  },
  {
   "cell_type": "code",
   "execution_count": 119,
   "metadata": {
    "ExecuteTime": {
     "end_time": "2020-12-11T05:48:46.658627Z",
     "start_time": "2020-12-11T05:48:46.623640Z"
    }
   },
   "outputs": [
    {
     "data": {
      "text/html": [
       "<div>\n",
       "<style scoped>\n",
       "    .dataframe tbody tr th:only-of-type {\n",
       "        vertical-align: middle;\n",
       "    }\n",
       "\n",
       "    .dataframe tbody tr th {\n",
       "        vertical-align: top;\n",
       "    }\n",
       "\n",
       "    .dataframe thead th {\n",
       "        text-align: right;\n",
       "    }\n",
       "</style>\n",
       "<table border=\"1\" class=\"dataframe\">\n",
       "  <thead>\n",
       "    <tr style=\"text-align: right;\">\n",
       "      <th></th>\n",
       "      <th>t</th>\n",
       "      <th>volume</th>\n",
       "      <th>energy</th>\n",
       "      <th>stepsize_mean</th>\n",
       "      <th>stepsize_std</th>\n",
       "      <th>stepsize_median</th>\n",
       "    </tr>\n",
       "  </thead>\n",
       "  <tbody>\n",
       "    <tr>\n",
       "      <th>0</th>\n",
       "      <td>0.01</td>\n",
       "      <td>4.122988</td>\n",
       "      <td>0.422046</td>\n",
       "      <td>0.0001</td>\n",
       "      <td>2.710505e-20</td>\n",
       "      <td>0.0001</td>\n",
       "    </tr>\n",
       "    <tr>\n",
       "      <th>1</th>\n",
       "      <td>0.02</td>\n",
       "      <td>4.081341</td>\n",
       "      <td>0.429522</td>\n",
       "      <td>0.0001</td>\n",
       "      <td>2.710505e-20</td>\n",
       "      <td>0.0001</td>\n",
       "    </tr>\n",
       "    <tr>\n",
       "      <th>2</th>\n",
       "      <td>0.03</td>\n",
       "      <td>4.039695</td>\n",
       "      <td>0.441962</td>\n",
       "      <td>0.0001</td>\n",
       "      <td>2.710505e-20</td>\n",
       "      <td>0.0001</td>\n",
       "    </tr>\n",
       "    <tr>\n",
       "      <th>3</th>\n",
       "      <td>0.04</td>\n",
       "      <td>3.993702</td>\n",
       "      <td>0.461895</td>\n",
       "      <td>0.0001</td>\n",
       "      <td>2.710505e-20</td>\n",
       "      <td>0.0001</td>\n",
       "    </tr>\n",
       "    <tr>\n",
       "      <th>4</th>\n",
       "      <td>0.05</td>\n",
       "      <td>3.947293</td>\n",
       "      <td>0.488982</td>\n",
       "      <td>0.0001</td>\n",
       "      <td>2.710505e-20</td>\n",
       "      <td>0.0001</td>\n",
       "    </tr>\n",
       "    <tr>\n",
       "      <th>...</th>\n",
       "      <td>...</td>\n",
       "      <td>...</td>\n",
       "      <td>...</td>\n",
       "      <td>...</td>\n",
       "      <td>...</td>\n",
       "      <td>...</td>\n",
       "    </tr>\n",
       "    <tr>\n",
       "      <th>339</th>\n",
       "      <td>3.40</td>\n",
       "      <td>10.673917</td>\n",
       "      <td>NaN</td>\n",
       "      <td>0.0001</td>\n",
       "      <td>2.710505e-20</td>\n",
       "      <td>0.0001</td>\n",
       "    </tr>\n",
       "    <tr>\n",
       "      <th>340</th>\n",
       "      <td>3.41</td>\n",
       "      <td>10.720419</td>\n",
       "      <td>NaN</td>\n",
       "      <td>0.0001</td>\n",
       "      <td>2.710505e-20</td>\n",
       "      <td>0.0001</td>\n",
       "    </tr>\n",
       "    <tr>\n",
       "      <th>341</th>\n",
       "      <td>3.42</td>\n",
       "      <td>10.766923</td>\n",
       "      <td>NaN</td>\n",
       "      <td>0.0001</td>\n",
       "      <td>2.710505e-20</td>\n",
       "      <td>0.0001</td>\n",
       "    </tr>\n",
       "    <tr>\n",
       "      <th>342</th>\n",
       "      <td>3.43</td>\n",
       "      <td>10.813429</td>\n",
       "      <td>NaN</td>\n",
       "      <td>0.0001</td>\n",
       "      <td>2.710505e-20</td>\n",
       "      <td>0.0001</td>\n",
       "    </tr>\n",
       "    <tr>\n",
       "      <th>343</th>\n",
       "      <td>3.44</td>\n",
       "      <td>10.859935</td>\n",
       "      <td>NaN</td>\n",
       "      <td>0.0001</td>\n",
       "      <td>2.710505e-20</td>\n",
       "      <td>0.0001</td>\n",
       "    </tr>\n",
       "  </tbody>\n",
       "</table>\n",
       "<p>344 rows × 6 columns</p>\n",
       "</div>"
      ],
      "text/plain": [
       "        t     volume    energy  stepsize_mean  stepsize_std  stepsize_median\n",
       "0    0.01   4.122988  0.422046         0.0001  2.710505e-20           0.0001\n",
       "1    0.02   4.081341  0.429522         0.0001  2.710505e-20           0.0001\n",
       "2    0.03   4.039695  0.441962         0.0001  2.710505e-20           0.0001\n",
       "3    0.04   3.993702  0.461895         0.0001  2.710505e-20           0.0001\n",
       "4    0.05   3.947293  0.488982         0.0001  2.710505e-20           0.0001\n",
       "..    ...        ...       ...            ...           ...              ...\n",
       "339  3.40  10.673917       NaN         0.0001  2.710505e-20           0.0001\n",
       "340  3.41  10.720419       NaN         0.0001  2.710505e-20           0.0001\n",
       "341  3.42  10.766923       NaN         0.0001  2.710505e-20           0.0001\n",
       "342  3.43  10.813429       NaN         0.0001  2.710505e-20           0.0001\n",
       "343  3.44  10.859935       NaN         0.0001  2.710505e-20           0.0001\n",
       "\n",
       "[344 rows x 6 columns]"
      ]
     },
     "execution_count": 119,
     "metadata": {},
     "output_type": "execute_result"
    }
   ],
   "source": [
    "df"
   ]
  },
  {
   "cell_type": "code",
   "execution_count": 120,
   "metadata": {
    "ExecuteTime": {
     "end_time": "2020-12-11T05:48:47.187317Z",
     "start_time": "2020-12-11T05:48:47.162187Z"
    }
   },
   "outputs": [],
   "source": [
    "fn_lst_myneural2 = ['avi_es_fixed_lr_a_equal_b_spherical_mesh_100_mu_1.0_lambda_10.0_gamma_0.0_vscale_1.0_stepsizeinit_0.0001_salience_2_atolx_0.0001.csv',\n",
    " 'avi_es_fixed_lr_a_equal_b_spherical_mesh_400_mu_1.0_lambda_10.0_gamma_0.05_vscale_2.0_stepsizeinit_0.005_salience_2_atolx_0.0001.csv',\n",
    " 'avi_es_fixed_lr_a_equal_b_spherical_mesh_64_mu_1.0_lambda_10.0_gamma_0.05_vscale_2.0_stepsizeinit_0.005_salience_2_atolx_0.0001.csv',\n",
    " 'avi_es_spherical_mesh_100_mu_1.0_lambda_10.0_gamma_0.0.csv',\n",
    " 'avi_es_variable_lr_a_equal_b_spherical_mesh_400_mu_1.0_lambda_10.0_gamma_0.05_vscale_2.0_stepsizeinit_0.0025_salience_0.5_atolx_0.0001.csv',\n",
    " 'avi_es_variable_lr_a_equal_b_spherical_mesh_400_mu_1.0_lambda_10.0_gamma_0.05_vscale_2.0_stepsizeinit_0.0025_salience_4_atolx_0.0001.csv',\n",
    " 'avi_es_variable_lr_spherical_mesh_400_mu_1.0_lambda_10.0_gamma_0.05_vscale_2.0_salience_2_stepsizeinit_0.0025_atolx_0.0001_btolx_1e-05.csv']"
   ]
  },
  {
   "cell_type": "code",
   "execution_count": null,
   "metadata": {},
   "outputs": [],
   "source": []
  },
  {
   "cell_type": "code",
   "execution_count": null,
   "metadata": {},
   "outputs": [],
   "source": []
  },
  {
   "cell_type": "code",
   "execution_count": null,
   "metadata": {},
   "outputs": [],
   "source": []
  },
  {
   "cell_type": "code",
   "execution_count": null,
   "metadata": {},
   "outputs": [],
   "source": []
  },
  {
   "cell_type": "code",
   "execution_count": null,
   "metadata": {},
   "outputs": [],
   "source": []
  },
  {
   "cell_type": "code",
   "execution_count": null,
   "metadata": {},
   "outputs": [],
   "source": []
  },
  {
   "cell_type": "code",
   "execution_count": null,
   "metadata": {},
   "outputs": [],
   "source": []
  },
  {
   "cell_type": "code",
   "execution_count": null,
   "metadata": {},
   "outputs": [],
   "source": []
  }
 ],
 "metadata": {
  "kernelspec": {
   "display_name": "Python 3",
   "language": "python",
   "name": "python3"
  },
  "language_info": {
   "codemirror_mode": {
    "name": "ipython",
    "version": 3
   },
   "file_extension": ".py",
   "mimetype": "text/x-python",
   "name": "python",
   "nbconvert_exporter": "python",
   "pygments_lexer": "ipython3",
   "version": "3.8.6"
  },
  "varInspector": {
   "cols": {
    "lenName": 16,
    "lenType": 16,
    "lenVar": 40
   },
   "kernels_config": {
    "python": {
     "delete_cmd_postfix": "",
     "delete_cmd_prefix": "del ",
     "library": "var_list.py",
     "varRefreshCmd": "print(var_dic_list())"
    },
    "r": {
     "delete_cmd_postfix": ") ",
     "delete_cmd_prefix": "rm(",
     "library": "var_list.r",
     "varRefreshCmd": "cat(var_dic_list()) "
    }
   },
   "types_to_exclude": [
    "module",
    "function",
    "builtin_function_or_method",
    "instance",
    "_Feature"
   ],
   "window_display": false
  }
 },
 "nbformat": 4,
 "nbformat_minor": 4
}
