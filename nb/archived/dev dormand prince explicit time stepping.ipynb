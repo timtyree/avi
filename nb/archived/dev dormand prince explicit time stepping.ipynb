{
 "cells": [
  {
   "cell_type": "markdown",
   "metadata": {},
   "source": [
    "# dev explicit dormand prince time stepping"
   ]
  },
  {
   "cell_type": "code",
   "execution_count": 1,
   "metadata": {
    "ExecuteTime": {
     "end_time": "2020-12-09T22:40:17.066379Z",
     "start_time": "2020-12-09T22:40:14.351428Z"
    }
   },
   "outputs": [
    {
     "name": "stdout",
     "output_type": "stream",
     "text": [
      "Automatic calling is: Smart\n"
     ]
    }
   ],
   "source": [
    "%matplotlib inline\n",
    "from lib.my_initialization import *\n",
    "# from lib.controller.one_step_forward_euler import *\n",
    "%autocall 1\n",
    "%load_ext autoreload\n",
    "%autoreload 2"
   ]
  },
  {
   "cell_type": "markdown",
   "metadata": {},
   "source": [
    "# initialize a tetrahedral mesh"
   ]
  },
  {
   "cell_type": "code",
   "execution_count": 27,
   "metadata": {
    "ExecuteTime": {
     "end_time": "2020-12-09T22:49:57.377222Z",
     "start_time": "2020-12-09T22:49:57.233766Z"
    }
   },
   "outputs": [
    {
     "name": "stderr",
     "output_type": "stream",
     "text": [
      "face_normals all zero, ignoring!\n"
     ]
    },
    {
     "name": "stdout",
     "output_type": "stream",
     "text": [
      "['element_array_time', 'element_array_index', 'element_array_mass', 'element_array_volume', 'element_array_inverse_equilibrium_position', 'node_array_equilibrium_position', 'node_array_time', 'node_array_position', 'node_array_momentum', 'node_array_mass', 'node_array_volume']\n"
     ]
    }
   ],
   "source": [
    "os.chdir(nb_dir)\n",
    "# input_file_name = f'../data/spherical_meshes/spherical_mesh_64.stl'input_file_name = f'../data/spherical_meshes/spherical_mesh_64.stl'\n",
    "# input_file_name = f'../data/spherical_meshes/spherical_mesh_1000.stl'\n",
    "input_file_name = f'../data/spherical_meshes/spherical_mesh_100.stl'\n",
    "input_file_name = os.path.join(nb_dir,input_file_name)\n",
    "tme = 0.\n",
    "mass_density=1.\n",
    "dict_values_system = initialize_system(input_file_name, time_initial=tme, mass_density=mass_density)\n",
    "locals().update(dict_values_system)\n",
    "print(list(dict_values_system.keys()))\n",
    "tauK = element_array_time\n",
    "tau = node_array_time\n",
    "\n",
    "#define Lamé parameters\n",
    "mu = 1.; lam = 10.; \n",
    "#define coefficient for Rayleigh damping\n",
    "gamma = 0.#1.#1.;\n",
    "\n",
    "#define adaptive time stepping absolute tolerances\n",
    "atol_x = 1e-7; atol_v = 1e-7; \n",
    "# btol_x = 1e-12; btol_v = 1e-12; \n",
    "\n",
    "#get method of computing elastic forces \n",
    "zero_mat = np.zeros((4,3))\n",
    "# calc_P = get_calc_P(mu, lam)\n",
    "# compute_nodal_damping_forces  = get_compute_nodal_damping_forces(mu,lam,gamma)\n",
    "# comp_nodal_elastic_forces = get_comp_nodal_elastic_forces(mu, lam)\n",
    "\n",
    "elements = element_array_index\n",
    "vertices = node_array_position\n",
    "\n",
    "N_elements = elements.shape[0]\n",
    "N_vertices = vertices.shape[0]\n",
    "\n",
    "#initialize stepsizes of simulation\n",
    "stepsize_init = 0.001#0.0001 \n",
    "element_array_stepsize = np.zeros_like(element_array_time) + stepsize_init\n",
    "element_array_count_calls_one_step = np.zeros_like(element_array_time,dtype=int)\n",
    "element_array_count_config_updates = np.zeros_like(element_array_time,dtype=int)\n",
    "momentum = node_array_momentum.copy()\n",
    "velocities = momentum.copy()\n",
    "for j in range(N_vertices):\n",
    "    velocities[j] /= node_array_mass[j]\n",
    "\n",
    "\n",
    "# #perturb momentum in the x direction and let it run overnight with a small timestep  \n",
    "v_scale = -1.\n",
    "velocities[:,0] = v_scale * vertices[:,0].copy()\n",
    "\n",
    "#initialize containers of measures\n",
    "volume_lst = []\n",
    "energy_lst = []\n",
    "tme_lst    = []\n",
    "stepsize_mean_lst   = []\n",
    "stepsize_std_lst    = []\n",
    "stepsize_median_lst = []"
   ]
  },
  {
   "cell_type": "markdown",
   "metadata": {
    "heading_collapsed": true
   },
   "source": [
    "# get an explicit time step"
   ]
  },
  {
   "cell_type": "code",
   "execution_count": 15,
   "metadata": {
    "ExecuteTime": {
     "end_time": "2020-12-09T18:51:29.778453Z",
     "start_time": "2020-12-09T18:51:29.754678Z"
    },
    "hidden": true
   },
   "outputs": [],
   "source": [
    "#do one explicit step\n",
    "zero_mat = np.zeros((4,3))\n",
    "# def get_step_to_time(mu,lam,gamma,num_iter = num_iter):\n",
    "#     local_one_step_implicit_midpoint_rule = get_local_one_step_implicit_midpoint_rule(mu,lam,gamma,num_iter = 30)\n",
    "#     return local_one_step_implicit_midpoint_rule\n",
    "# step_to_time = get_step_to_time(mu,lam,gamma,num_iter = num_iter)\n",
    "compute_one_step_forward_euler_method=get_compute_one_step_forward_euler_method(mu,lam,gamma)\n",
    "step_to_time = compute_one_step_forward_euler_method"
   ]
  },
  {
   "cell_type": "code",
   "execution_count": 21,
   "metadata": {
    "ExecuteTime": {
     "end_time": "2020-12-09T19:15:43.366574Z",
     "start_time": "2020-12-09T19:15:43.342316Z"
    },
    "hidden": true
   },
   "outputs": [],
   "source": [
    "t = 0.01\n",
    "K_index = 7\n",
    "Bm = element_array_inverse_equilibrium_position[K_index]\n",
    "Ka = element_array_index[K_index]\n",
    "x = vertices[Ka].copy()\n",
    "v = velocities[Ka].copy()\n",
    "tau_of_K = element_array_time[K_index]\n",
    "K_tau = node_array_time[Ka].copy()\n",
    "K_masses = element_array_mass[Ka]\n",
    "# step_to_time(t, K_vertices, K_velocities, K_masses, K_tau, tau_of_K, Bm, zero_mat)\n",
    "\n",
    "x_out, v_out = step_to_time(t,x,v,K_masses,K_tau,tau_of_K,Bm,zero_mat)\n",
    "\n",
    "def f(t,x,v,K_tau,tau_of_K,K_masses,Bm,zero_mat):\n",
    "    x_out, v_out = step_to_time(t,x,v,K_masses,K_tau,tau_of_K,Bm,zero_mat)\n",
    "    return x_out, v_out"
   ]
  },
  {
   "cell_type": "markdown",
   "metadata": {
    "heading_collapsed": true
   },
   "source": [
    "# open an existing open source solution"
   ]
  },
  {
   "cell_type": "code",
   "execution_count": 2,
   "metadata": {
    "ExecuteTime": {
     "end_time": "2020-12-09T18:36:43.932361Z",
     "start_time": "2020-12-09T18:36:43.616429Z"
    },
    "hidden": true
   },
   "outputs": [],
   "source": [
    "from scipy.integrate import RK45"
   ]
  },
  {
   "cell_type": "code",
   "execution_count": 6,
   "metadata": {
    "ExecuteTime": {
     "end_time": "2020-12-09T18:38:20.422324Z",
     "start_time": "2020-12-09T18:38:20.400407Z"
    },
    "hidden": true
   },
   "outputs": [],
   "source": [
    "import inspect"
   ]
  },
  {
   "cell_type": "code",
   "execution_count": 9,
   "metadata": {
    "ExecuteTime": {
     "end_time": "2020-12-09T18:38:41.702361Z",
     "start_time": "2020-12-09T18:38:41.678279Z"
    },
    "hidden": true
   },
   "outputs": [
    {
     "name": "stdout",
     "output_type": "stream",
     "text": [
      "class RK45(RungeKutta):\n",
      "    \"\"\"Explicit Runge-Kutta method of order 5(4).\n",
      "\n",
      "    This uses the Dormand-Prince pair of formulas [1]_. The error is controlled\n",
      "    assuming accuracy of the fourth-order method accuracy, but steps are taken\n",
      "    using the fifth-order accurate formula (local extrapolation is done).\n",
      "    A quartic interpolation polynomial is used for the dense output [2]_.\n",
      "\n",
      "    Can be applied in the complex domain.\n",
      "\n",
      "    Parameters\n",
      "    ----------\n",
      "    fun : callable\n",
      "        Right-hand side of the system. The calling signature is ``fun(t, y)``.\n",
      "        Here ``t`` is a scalar, and there are two options for the ndarray ``y``:\n",
      "        It can either have shape (n,); then ``fun`` must return array_like with\n",
      "        shape (n,). Alternatively it can have shape (n, k); then ``fun``\n",
      "        must return an array_like with shape (n, k), i.e., each column\n",
      "        corresponds to a single column in ``y``. The choice between the two\n",
      "        options is determined by `vectorized` argument (see below).\n",
      "    t0 : float\n",
      "        Initial time.\n",
      "    y0 : array_like, shape (n,)\n",
      "        Initial state.\n",
      "    t_bound : float\n",
      "        Boundary time - the integration won't continue beyond it. It also\n",
      "        determines the direction of the integration.\n",
      "    first_step : float or None, optional\n",
      "        Initial step size. Default is ``None`` which means that the algorithm\n",
      "        should choose.\n",
      "    max_step : float, optional\n",
      "        Maximum allowed step size. Default is np.inf, i.e., the step size is not\n",
      "        bounded and determined solely by the solver.\n",
      "    rtol, atol : float and array_like, optional\n",
      "        Relative and absolute tolerances. The solver keeps the local error\n",
      "        estimates less than ``atol + rtol * abs(y)``. Here `rtol` controls a\n",
      "        relative accuracy (number of correct digits). But if a component of `y`\n",
      "        is approximately below `atol`, the error only needs to fall within\n",
      "        the same `atol` threshold, and the number of correct digits is not\n",
      "        guaranteed. If components of y have different scales, it might be\n",
      "        beneficial to set different `atol` values for different components by\n",
      "        passing array_like with shape (n,) for `atol`. Default values are\n",
      "        1e-3 for `rtol` and 1e-6 for `atol`.\n",
      "    vectorized : bool, optional\n",
      "        Whether `fun` is implemented in a vectorized fashion. Default is False.\n",
      "\n",
      "    Attributes\n",
      "    ----------\n",
      "    n : int\n",
      "        Number of equations.\n",
      "    status : string\n",
      "        Current status of the solver: 'running', 'finished' or 'failed'.\n",
      "    t_bound : float\n",
      "        Boundary time.\n",
      "    direction : float\n",
      "        Integration direction: +1 or -1.\n",
      "    t : float\n",
      "        Current time.\n",
      "    y : ndarray\n",
      "        Current state.\n",
      "    t_old : float\n",
      "        Previous time. None if no steps were made yet.\n",
      "    step_size : float\n",
      "        Size of the last successful step. None if no steps were made yet.\n",
      "    nfev : int\n",
      "        Number evaluations of the system's right-hand side.\n",
      "    njev : int\n",
      "        Number of evaluations of the Jacobian. Is always 0 for this solver as it does not use the Jacobian.\n",
      "    nlu : int\n",
      "        Number of LU decompositions. Is always 0 for this solver.\n",
      "\n",
      "    References\n",
      "    ----------\n",
      "    .. [1] J. R. Dormand, P. J. Prince, \"A family of embedded Runge-Kutta\n",
      "           formulae\", Journal of Computational and Applied Mathematics, Vol. 6,\n",
      "           No. 1, pp. 19-26, 1980.\n",
      "    .. [2] L. W. Shampine, \"Some Practical Runge-Kutta Formulas\", Mathematics\n",
      "           of Computation,, Vol. 46, No. 173, pp. 135-150, 1986.\n",
      "    \"\"\"\n",
      "    order = 5\n",
      "    error_estimator_order = 4\n",
      "    n_stages = 6\n",
      "    C = np.array([0, 1/5, 3/10, 4/5, 8/9, 1])\n",
      "    A = np.array([\n",
      "        [0, 0, 0, 0, 0],\n",
      "        [1/5, 0, 0, 0, 0],\n",
      "        [3/40, 9/40, 0, 0, 0],\n",
      "        [44/45, -56/15, 32/9, 0, 0],\n",
      "        [19372/6561, -25360/2187, 64448/6561, -212/729, 0],\n",
      "        [9017/3168, -355/33, 46732/5247, 49/176, -5103/18656]\n",
      "    ])\n",
      "    B = np.array([35/384, 0, 500/1113, 125/192, -2187/6784, 11/84])\n",
      "    E = np.array([-71/57600, 0, 71/16695, -71/1920, 17253/339200, -22/525,\n",
      "                  1/40])\n",
      "    # Corresponds to the optimum value of c_6 from [2]_.\n",
      "    P = np.array([\n",
      "        [1, -8048581381/2820520608, 8663915743/2820520608,\n",
      "         -12715105075/11282082432],\n",
      "        [0, 0, 0, 0],\n",
      "        [0, 131558114200/32700410799, -68118460800/10900136933,\n",
      "         87487479700/32700410799],\n",
      "        [0, -1754552775/470086768, 14199869525/1410260304,\n",
      "         -10690763975/1880347072],\n",
      "        [0, 127303824393/49829197408, -318862633887/49829197408,\n",
      "         701980252875 / 199316789632],\n",
      "        [0, -282668133/205662961, 2019193451/616988883, -1453857185/822651844],\n",
      "        [0, 40617522/29380423, -110615467/29380423, 69997945/29380423]])\n",
      "\n"
     ]
    }
   ],
   "source": [
    "print(inspect.getsource(RK45))"
   ]
  },
  {
   "cell_type": "code",
   "execution_count": 10,
   "metadata": {
    "ExecuteTime": {
     "end_time": "2020-12-09T18:39:08.497197Z",
     "start_time": "2020-12-09T18:39:08.457955Z"
    },
    "hidden": true
   },
   "outputs": [
    {
     "ename": "NameError",
     "evalue": "name 'RungeKutta' is not defined",
     "output_type": "error",
     "traceback": [
      "\u001b[0;31m---------------------------------------------------------------------------\u001b[0m",
      "\u001b[0;31mNameError\u001b[0m                                 Traceback (most recent call last)",
      "\u001b[0;32m<ipython-input-10-7b155cfb620b>\u001b[0m in \u001b[0;36m<module>\u001b[0;34m\u001b[0m\n\u001b[0;32m----> 1\u001b[0;31m \u001b[0;32mclass\u001b[0m \u001b[0mRK45\u001b[0m\u001b[0;34m(\u001b[0m\u001b[0mRungeKutta\u001b[0m\u001b[0;34m)\u001b[0m\u001b[0;34m:\u001b[0m\u001b[0;34m\u001b[0m\u001b[0;34m\u001b[0m\u001b[0m\n\u001b[0m\u001b[1;32m      2\u001b[0m     \"\"\"Explicit Runge-Kutta method of order 5(4).\n\u001b[1;32m      3\u001b[0m \u001b[0;34m\u001b[0m\u001b[0m\n\u001b[1;32m      4\u001b[0m     \u001b[0mThis\u001b[0m \u001b[0muses\u001b[0m \u001b[0mthe\u001b[0m \u001b[0mDormand\u001b[0m\u001b[0;34m-\u001b[0m\u001b[0mPrince\u001b[0m \u001b[0mpair\u001b[0m \u001b[0mof\u001b[0m \u001b[0mformulas\u001b[0m \u001b[0;34m[\u001b[0m\u001b[0;36m1\u001b[0m\u001b[0;34m]\u001b[0m\u001b[0m_\u001b[0m\u001b[0;34m.\u001b[0m \u001b[0mThe\u001b[0m \u001b[0merror\u001b[0m \u001b[0;32mis\u001b[0m \u001b[0mcontrolled\u001b[0m\u001b[0;34m\u001b[0m\u001b[0;34m\u001b[0m\u001b[0m\n\u001b[1;32m      5\u001b[0m     \u001b[0massuming\u001b[0m \u001b[0maccuracy\u001b[0m \u001b[0mof\u001b[0m \u001b[0mthe\u001b[0m \u001b[0mfourth\u001b[0m\u001b[0;34m-\u001b[0m\u001b[0morder\u001b[0m \u001b[0mmethod\u001b[0m \u001b[0maccuracy\u001b[0m\u001b[0;34m,\u001b[0m \u001b[0mbut\u001b[0m \u001b[0msteps\u001b[0m \u001b[0mare\u001b[0m \u001b[0mtaken\u001b[0m\u001b[0;34m\u001b[0m\u001b[0;34m\u001b[0m\u001b[0m\n",
      "\u001b[0;31mNameError\u001b[0m: name 'RungeKutta' is not defined"
     ]
    }
   ],
   "source": [
    "class RK45(RungeKutta):\n",
    "    \"\"\"Explicit Runge-Kutta method of order 5(4).\n",
    "\n",
    "    This uses the Dormand-Prince pair of formulas [1]_. The error is controlled\n",
    "    assuming accuracy of the fourth-order method accuracy, but steps are taken\n",
    "    using the fifth-order accurate formula (local extrapolation is done).\n",
    "    A quartic interpolation polynomial is used for the dense output [2]_.\n",
    "\n",
    "    Can be applied in the complex domain.\n",
    "\n",
    "    Parameters\n",
    "    ----------\n",
    "    fun : callable\n",
    "        Right-hand side of the system. The calling signature is ``fun(t, y)``.\n",
    "        Here ``t`` is a scalar, and there are two options for the ndarray ``y``:\n",
    "        It can either have shape (n,); then ``fun`` must return array_like with\n",
    "        shape (n,). Alternatively it can have shape (n, k); then ``fun``\n",
    "        must return an array_like with shape (n, k), i.e., each column\n",
    "        corresponds to a single column in ``y``. The choice between the two\n",
    "        options is determined by `vectorized` argument (see below).\n",
    "    t0 : float\n",
    "        Initial time.\n",
    "    y0 : array_like, shape (n,)\n",
    "        Initial state.\n",
    "    t_bound : float\n",
    "        Boundary time - the integration won't continue beyond it. It also\n",
    "        determines the direction of the integration.\n",
    "    first_step : float or None, optional\n",
    "        Initial step size. Default is ``None`` which means that the algorithm\n",
    "        should choose.\n",
    "    max_step : float, optional\n",
    "        Maximum allowed step size. Default is np.inf, i.e., the step size is not\n",
    "        bounded and determined solely by the solver.\n",
    "    rtol, atol : float and array_like, optional\n",
    "        Relative and absolute tolerances. The solver keeps the local error\n",
    "        estimates less than ``atol + rtol * abs(y)``. Here `rtol` controls a\n",
    "        relative accuracy (number of correct digits). But if a component of `y`\n",
    "        is approximately below `atol`, the error only needs to fall within\n",
    "        the same `atol` threshold, and the number of correct digits is not\n",
    "        guaranteed. If components of y have different scales, it might be\n",
    "        beneficial to set different `atol` values for different components by\n",
    "        passing array_like with shape (n,) for `atol`. Default values are\n",
    "        1e-3 for `rtol` and 1e-6 for `atol`.\n",
    "    vectorized : bool, optional\n",
    "        Whether `fun` is implemented in a vectorized fashion. Default is False.\n",
    "\n",
    "    Attributes\n",
    "    ----------\n",
    "    n : int\n",
    "        Number of equations.\n",
    "    status : string\n",
    "        Current status of the solver: 'running', 'finished' or 'failed'.\n",
    "    t_bound : float\n",
    "        Boundary time.\n",
    "    direction : float\n",
    "        Integration direction: +1 or -1.\n",
    "    t : float\n",
    "        Current time.\n",
    "    y : ndarray\n",
    "        Current state.\n",
    "    t_old : float\n",
    "        Previous time. None if no steps were made yet.\n",
    "    step_size : float\n",
    "        Size of the last successful step. None if no steps were made yet.\n",
    "    nfev : int\n",
    "        Number evaluations of the system's right-hand side.\n",
    "    njev : int\n",
    "        Number of evaluations of the Jacobian. Is always 0 for this solver as it does not use the Jacobian.\n",
    "    nlu : int\n",
    "        Number of LU decompositions. Is always 0 for this solver.\n",
    "\n",
    "    References\n",
    "    ----------\n",
    "    .. [1] J. R. Dormand, P. J. Prince, \"A family of embedded Runge-Kutta\n",
    "           formulae\", Journal of Computational and Applied Mathematics, Vol. 6,\n",
    "           No. 1, pp. 19-26, 1980.\n",
    "    .. [2] L. W. Shampine, \"Some Practical Runge-Kutta Formulas\", Mathematics\n",
    "           of Computation,, Vol. 46, No. 173, pp. 135-150, 1986.\n",
    "    \"\"\"\n",
    "    order = 5\n",
    "    error_estimator_order = 4\n",
    "    n_stages = 6\n",
    "    C = np.array([0, 1/5, 3/10, 4/5, 8/9, 1])\n",
    "    A = np.array([\n",
    "        [0, 0, 0, 0, 0],\n",
    "        [1/5, 0, 0, 0, 0],\n",
    "        [3/40, 9/40, 0, 0, 0],\n",
    "        [44/45, -56/15, 32/9, 0, 0],\n",
    "        [19372/6561, -25360/2187, 64448/6561, -212/729, 0],\n",
    "        [9017/3168, -355/33, 46732/5247, 49/176, -5103/18656]\n",
    "    ])\n",
    "    B = np.array([35/384, 0, 500/1113, 125/192, -2187/6784, 11/84])\n",
    "    E = np.array([-71/57600, 0, 71/16695, -71/1920, 17253/339200, -22/525,\n",
    "                  1/40])\n",
    "    # Corresponds to the optimum value of c_6 from [2]_.\n",
    "    P = np.array([\n",
    "        [1, -8048581381/2820520608, 8663915743/2820520608,\n",
    "         -12715105075/11282082432],\n",
    "        [0, 0, 0, 0],\n",
    "        [0, 131558114200/32700410799, -68118460800/10900136933,\n",
    "         87487479700/32700410799],\n",
    "        [0, -1754552775/470086768, 14199869525/1410260304,\n",
    "         -10690763975/1880347072],\n",
    "        [0, 127303824393/49829197408, -318862633887/49829197408,\n",
    "         701980252875 / 199316789632],\n",
    "        [0, -282668133/205662961, 2019193451/616988883, -1453857185/822651844],\n",
    "        [0, 40617522/29380423, -110615467/29380423, 69997945/29380423]])"
   ]
  },
  {
   "cell_type": "code",
   "execution_count": 11,
   "metadata": {
    "ExecuteTime": {
     "end_time": "2020-12-09T18:39:23.279593Z",
     "start_time": "2020-12-09T18:39:23.256674Z"
    },
    "hidden": true
   },
   "outputs": [
    {
     "data": {
      "text/plain": [
       "scipy.integrate._ivp.rk.RK45"
      ]
     },
     "execution_count": 11,
     "metadata": {},
     "output_type": "execute_result"
    }
   ],
   "source": [
    "RK45"
   ]
  },
  {
   "cell_type": "code",
   "execution_count": 12,
   "metadata": {
    "ExecuteTime": {
     "end_time": "2020-12-09T18:40:06.472017Z",
     "start_time": "2020-12-09T18:40:06.450400Z"
    },
    "hidden": true
   },
   "outputs": [],
   "source": [
    "from scipy.integrate._ivp import rk"
   ]
  },
  {
   "cell_type": "code",
   "execution_count": 14,
   "metadata": {
    "ExecuteTime": {
     "end_time": "2020-12-09T18:40:23.854095Z",
     "start_time": "2020-12-09T18:40:23.832213Z"
    },
    "hidden": true
   },
   "outputs": [
    {
     "name": "stdout",
     "output_type": "stream",
     "text": [
      "import numpy as np\n",
      "from .base import OdeSolver, DenseOutput\n",
      "from .common import (validate_max_step, validate_tol, select_initial_step,\n",
      "                     norm, warn_extraneous, validate_first_step)\n",
      "from . import dop853_coefficients\n",
      "\n",
      "# Multiply steps computed from asymptotic behaviour of errors by this.\n",
      "SAFETY = 0.9\n",
      "\n",
      "MIN_FACTOR = 0.2  # Minimum allowed decrease in a step size.\n",
      "MAX_FACTOR = 10  # Maximum allowed increase in a step size.\n",
      "\n",
      "\n",
      "def rk_step(fun, t, y, f, h, A, B, C, K):\n",
      "    \"\"\"Perform a single Runge-Kutta step.\n",
      "\n",
      "    This function computes a prediction of an explicit Runge-Kutta method and\n",
      "    also estimates the error of a less accurate method.\n",
      "\n",
      "    Notation for Butcher tableau is as in [1]_.\n",
      "\n",
      "    Parameters\n",
      "    ----------\n",
      "    fun : callable\n",
      "        Right-hand side of the system.\n",
      "    t : float\n",
      "        Current time.\n",
      "    y : ndarray, shape (n,)\n",
      "        Current state.\n",
      "    f : ndarray, shape (n,)\n",
      "        Current value of the derivative, i.e., ``fun(x, y)``.\n",
      "    h : float\n",
      "        Step to use.\n",
      "    A : ndarray, shape (n_stages, n_stages)\n",
      "        Coefficients for combining previous RK stages to compute the next\n",
      "        stage. For explicit methods the coefficients at and above the main\n",
      "        diagonal are zeros.\n",
      "    B : ndarray, shape (n_stages,)\n",
      "        Coefficients for combining RK stages for computing the final\n",
      "        prediction.\n",
      "    C : ndarray, shape (n_stages,)\n",
      "        Coefficients for incrementing time for consecutive RK stages.\n",
      "        The value for the first stage is always zero.\n",
      "    K : ndarray, shape (n_stages + 1, n)\n",
      "        Storage array for putting RK stages here. Stages are stored in rows.\n",
      "        The last row is a linear combination of the previous rows with\n",
      "        coefficients\n",
      "\n",
      "    Returns\n",
      "    -------\n",
      "    y_new : ndarray, shape (n,)\n",
      "        Solution at t + h computed with a higher accuracy.\n",
      "    f_new : ndarray, shape (n,)\n",
      "        Derivative ``fun(t + h, y_new)``.\n",
      "\n",
      "    References\n",
      "    ----------\n",
      "    .. [1] E. Hairer, S. P. Norsett G. Wanner, \"Solving Ordinary Differential\n",
      "           Equations I: Nonstiff Problems\", Sec. II.4.\n",
      "    \"\"\"\n",
      "    K[0] = f\n",
      "    for s, (a, c) in enumerate(zip(A[1:], C[1:]), start=1):\n",
      "        dy = np.dot(K[:s].T, a[:s]) * h\n",
      "        K[s] = fun(t + c * h, y + dy)\n",
      "\n",
      "    y_new = y + h * np.dot(K[:-1].T, B)\n",
      "    f_new = fun(t + h, y_new)\n",
      "\n",
      "    K[-1] = f_new\n",
      "\n",
      "    return y_new, f_new\n",
      "\n",
      "\n",
      "class RungeKutta(OdeSolver):\n",
      "    \"\"\"Base class for explicit Runge-Kutta methods.\"\"\"\n",
      "    C = NotImplemented\n",
      "    A = NotImplemented\n",
      "    B = NotImplemented\n",
      "    E = NotImplemented\n",
      "    P = NotImplemented\n",
      "    order = NotImplemented\n",
      "    error_estimator_order = NotImplemented\n",
      "    n_stages = NotImplemented\n",
      "\n",
      "    def __init__(self, fun, t0, y0, t_bound, max_step=np.inf,\n",
      "                 rtol=1e-3, atol=1e-6, vectorized=False,\n",
      "                 first_step=None, **extraneous):\n",
      "        warn_extraneous(extraneous)\n",
      "        super(RungeKutta, self).__init__(fun, t0, y0, t_bound, vectorized,\n",
      "                                         support_complex=True)\n",
      "        self.y_old = None\n",
      "        self.max_step = validate_max_step(max_step)\n",
      "        self.rtol, self.atol = validate_tol(rtol, atol, self.n)\n",
      "        self.f = self.fun(self.t, self.y)\n",
      "        if first_step is None:\n",
      "            self.h_abs = select_initial_step(\n",
      "                self.fun, self.t, self.y, self.f, self.direction,\n",
      "                self.error_estimator_order, self.rtol, self.atol)\n",
      "        else:\n",
      "            self.h_abs = validate_first_step(first_step, t0, t_bound)\n",
      "        self.K = np.empty((self.n_stages + 1, self.n), dtype=self.y.dtype)\n",
      "        self.error_exponent = -1 / (self.error_estimator_order + 1)\n",
      "        self.h_previous = None\n",
      "\n",
      "    def _estimate_error(self, K, h):\n",
      "        return np.dot(K.T, self.E) * h\n",
      "\n",
      "    def _estimate_error_norm(self, K, h, scale):\n",
      "        return norm(self._estimate_error(K, h) / scale)\n",
      "\n",
      "    def _step_impl(self):\n",
      "        t = self.t\n",
      "        y = self.y\n",
      "\n",
      "        max_step = self.max_step\n",
      "        rtol = self.rtol\n",
      "        atol = self.atol\n",
      "\n",
      "        min_step = 10 * np.abs(np.nextafter(t, self.direction * np.inf) - t)\n",
      "\n",
      "        if self.h_abs > max_step:\n",
      "            h_abs = max_step\n",
      "        elif self.h_abs < min_step:\n",
      "            h_abs = min_step\n",
      "        else:\n",
      "            h_abs = self.h_abs\n",
      "\n",
      "        step_accepted = False\n",
      "        step_rejected = False\n",
      "\n",
      "        while not step_accepted:\n",
      "            if h_abs < min_step:\n",
      "                return False, self.TOO_SMALL_STEP\n",
      "\n",
      "            h = h_abs * self.direction\n",
      "            t_new = t + h\n",
      "\n",
      "            if self.direction * (t_new - self.t_bound) > 0:\n",
      "                t_new = self.t_bound\n",
      "\n",
      "            h = t_new - t\n",
      "            h_abs = np.abs(h)\n",
      "\n",
      "            y_new, f_new = rk_step(self.fun, t, y, self.f, h, self.A,\n",
      "                                   self.B, self.C, self.K)\n",
      "            scale = atol + np.maximum(np.abs(y), np.abs(y_new)) * rtol\n",
      "            error_norm = self._estimate_error_norm(self.K, h, scale)\n",
      "\n",
      "            if error_norm < 1:\n",
      "                if error_norm == 0:\n",
      "                    factor = MAX_FACTOR\n",
      "                else:\n",
      "                    factor = min(MAX_FACTOR,\n",
      "                                 SAFETY * error_norm ** self.error_exponent)\n",
      "\n",
      "                if step_rejected:\n",
      "                    factor = min(1, factor)\n",
      "\n",
      "                h_abs *= factor\n",
      "\n",
      "                step_accepted = True\n",
      "            else:\n",
      "                h_abs *= max(MIN_FACTOR,\n",
      "                             SAFETY * error_norm ** self.error_exponent)\n",
      "                step_rejected = True\n",
      "\n",
      "        self.h_previous = h\n",
      "        self.y_old = y\n",
      "\n",
      "        self.t = t_new\n",
      "        self.y = y_new\n",
      "\n",
      "        self.h_abs = h_abs\n",
      "        self.f = f_new\n",
      "\n",
      "        return True, None\n",
      "\n",
      "    def _dense_output_impl(self):\n",
      "        Q = self.K.T.dot(self.P)\n",
      "        return RkDenseOutput(self.t_old, self.t, self.y_old, Q)\n",
      "\n",
      "\n",
      "class RK23(RungeKutta):\n",
      "    \"\"\"Explicit Runge-Kutta method of order 3(2).\n",
      "\n",
      "    This uses the Bogacki-Shampine pair of formulas [1]_. The error is controlled\n",
      "    assuming accuracy of the second-order method, but steps are taken using the\n",
      "    third-order accurate formula (local extrapolation is done). A cubic Hermite\n",
      "    polynomial is used for the dense output.\n",
      "\n",
      "    Can be applied in the complex domain.\n",
      "\n",
      "    Parameters\n",
      "    ----------\n",
      "    fun : callable\n",
      "        Right-hand side of the system. The calling signature is ``fun(t, y)``.\n",
      "        Here ``t`` is a scalar and there are two options for ndarray ``y``.\n",
      "        It can either have shape (n,), then ``fun`` must return array_like with\n",
      "        shape (n,). Or alternatively it can have shape (n, k), then ``fun``\n",
      "        must return array_like with shape (n, k), i.e. each column\n",
      "        corresponds to a single column in ``y``. The choice between the two\n",
      "        options is determined by `vectorized` argument (see below).\n",
      "    t0 : float\n",
      "        Initial time.\n",
      "    y0 : array_like, shape (n,)\n",
      "        Initial state.\n",
      "    t_bound : float\n",
      "        Boundary time - the integration won't continue beyond it. It also\n",
      "        determines the direction of the integration.\n",
      "    first_step : float or None, optional\n",
      "        Initial step size. Default is ``None`` which means that the algorithm\n",
      "        should choose.\n",
      "    max_step : float, optional\n",
      "        Maximum allowed step size. Default is np.inf, i.e., the step size is not\n",
      "        bounded and determined solely by the solver.\n",
      "    rtol, atol : float and array_like, optional\n",
      "        Relative and absolute tolerances. The solver keeps the local error\n",
      "        estimates less than ``atol + rtol * abs(y)``. Here, `rtol` controls a\n",
      "        relative accuracy (number of correct digits). But if a component of `y`\n",
      "        is approximately below `atol`, the error only needs to fall within\n",
      "        the same `atol` threshold, and the number of correct digits is not\n",
      "        guaranteed. If components of y have different scales, it might be\n",
      "        beneficial to set different `atol` values for different components by\n",
      "        passing array_like with shape (n,) for `atol`. Default values are\n",
      "        1e-3 for `rtol` and 1e-6 for `atol`.\n",
      "    vectorized : bool, optional\n",
      "        Whether `fun` is implemented in a vectorized fashion. Default is False.\n",
      "\n",
      "    Attributes\n",
      "    ----------\n",
      "    n : int\n",
      "        Number of equations.\n",
      "    status : string\n",
      "        Current status of the solver: 'running', 'finished' or 'failed'.\n",
      "    t_bound : float\n",
      "        Boundary time.\n",
      "    direction : float\n",
      "        Integration direction: +1 or -1.\n",
      "    t : float\n",
      "        Current time.\n",
      "    y : ndarray\n",
      "        Current state.\n",
      "    t_old : float\n",
      "        Previous time. None if no steps were made yet.\n",
      "    step_size : float\n",
      "        Size of the last successful step. None if no steps were made yet.\n",
      "    nfev : int\n",
      "        Number evaluations of the system's right-hand side.\n",
      "    njev : int\n",
      "        Number of evaluations of the Jacobian. Is always 0 for this solver as it does not use the Jacobian.\n",
      "    nlu : int\n",
      "        Number of LU decompositions. Is always 0 for this solver.\n",
      "\n",
      "    References\n",
      "    ----------\n",
      "    .. [1] P. Bogacki, L.F. Shampine, \"A 3(2) Pair of Runge-Kutta Formulas\",\n",
      "           Appl. Math. Lett. Vol. 2, No. 4. pp. 321-325, 1989.\n",
      "    \"\"\"\n",
      "    order = 3\n",
      "    error_estimator_order = 2\n",
      "    n_stages = 3\n",
      "    C = np.array([0, 1/2, 3/4])\n",
      "    A = np.array([\n",
      "        [0, 0, 0],\n",
      "        [1/2, 0, 0],\n",
      "        [0, 3/4, 0]\n",
      "    ])\n",
      "    B = np.array([2/9, 1/3, 4/9])\n",
      "    E = np.array([5/72, -1/12, -1/9, 1/8])\n",
      "    P = np.array([[1, -4 / 3, 5 / 9],\n",
      "                  [0, 1, -2/3],\n",
      "                  [0, 4/3, -8/9],\n",
      "                  [0, -1, 1]])\n",
      "\n",
      "\n",
      "class RK45(RungeKutta):\n",
      "    \"\"\"Explicit Runge-Kutta method of order 5(4).\n",
      "\n",
      "    This uses the Dormand-Prince pair of formulas [1]_. The error is controlled\n",
      "    assuming accuracy of the fourth-order method accuracy, but steps are taken\n",
      "    using the fifth-order accurate formula (local extrapolation is done).\n",
      "    A quartic interpolation polynomial is used for the dense output [2]_.\n",
      "\n",
      "    Can be applied in the complex domain.\n",
      "\n",
      "    Parameters\n",
      "    ----------\n",
      "    fun : callable\n",
      "        Right-hand side of the system. The calling signature is ``fun(t, y)``.\n",
      "        Here ``t`` is a scalar, and there are two options for the ndarray ``y``:\n",
      "        It can either have shape (n,); then ``fun`` must return array_like with\n",
      "        shape (n,). Alternatively it can have shape (n, k); then ``fun``\n",
      "        must return an array_like with shape (n, k), i.e., each column\n",
      "        corresponds to a single column in ``y``. The choice between the two\n",
      "        options is determined by `vectorized` argument (see below).\n",
      "    t0 : float\n",
      "        Initial time.\n",
      "    y0 : array_like, shape (n,)\n",
      "        Initial state.\n",
      "    t_bound : float\n",
      "        Boundary time - the integration won't continue beyond it. It also\n",
      "        determines the direction of the integration.\n",
      "    first_step : float or None, optional\n",
      "        Initial step size. Default is ``None`` which means that the algorithm\n",
      "        should choose.\n",
      "    max_step : float, optional\n",
      "        Maximum allowed step size. Default is np.inf, i.e., the step size is not\n",
      "        bounded and determined solely by the solver.\n",
      "    rtol, atol : float and array_like, optional\n",
      "        Relative and absolute tolerances. The solver keeps the local error\n",
      "        estimates less than ``atol + rtol * abs(y)``. Here `rtol` controls a\n",
      "        relative accuracy (number of correct digits). But if a component of `y`\n",
      "        is approximately below `atol`, the error only needs to fall within\n",
      "        the same `atol` threshold, and the number of correct digits is not\n",
      "        guaranteed. If components of y have different scales, it might be\n",
      "        beneficial to set different `atol` values for different components by\n",
      "        passing array_like with shape (n,) for `atol`. Default values are\n",
      "        1e-3 for `rtol` and 1e-6 for `atol`.\n",
      "    vectorized : bool, optional\n",
      "        Whether `fun` is implemented in a vectorized fashion. Default is False.\n",
      "\n",
      "    Attributes\n",
      "    ----------\n",
      "    n : int\n",
      "        Number of equations.\n",
      "    status : string\n",
      "        Current status of the solver: 'running', 'finished' or 'failed'.\n",
      "    t_bound : float\n",
      "        Boundary time.\n",
      "    direction : float\n",
      "        Integration direction: +1 or -1.\n",
      "    t : float\n",
      "        Current time.\n",
      "    y : ndarray\n",
      "        Current state.\n",
      "    t_old : float\n",
      "        Previous time. None if no steps were made yet.\n",
      "    step_size : float\n",
      "        Size of the last successful step. None if no steps were made yet.\n",
      "    nfev : int\n",
      "        Number evaluations of the system's right-hand side.\n",
      "    njev : int\n",
      "        Number of evaluations of the Jacobian. Is always 0 for this solver as it does not use the Jacobian.\n",
      "    nlu : int\n",
      "        Number of LU decompositions. Is always 0 for this solver.\n",
      "\n",
      "    References\n",
      "    ----------\n",
      "    .. [1] J. R. Dormand, P. J. Prince, \"A family of embedded Runge-Kutta\n",
      "           formulae\", Journal of Computational and Applied Mathematics, Vol. 6,\n",
      "           No. 1, pp. 19-26, 1980.\n",
      "    .. [2] L. W. Shampine, \"Some Practical Runge-Kutta Formulas\", Mathematics\n",
      "           of Computation,, Vol. 46, No. 173, pp. 135-150, 1986.\n",
      "    \"\"\"\n",
      "    order = 5\n",
      "    error_estimator_order = 4\n",
      "    n_stages = 6\n",
      "    C = np.array([0, 1/5, 3/10, 4/5, 8/9, 1])\n",
      "    A = np.array([\n",
      "        [0, 0, 0, 0, 0],\n",
      "        [1/5, 0, 0, 0, 0],\n",
      "        [3/40, 9/40, 0, 0, 0],\n",
      "        [44/45, -56/15, 32/9, 0, 0],\n",
      "        [19372/6561, -25360/2187, 64448/6561, -212/729, 0],\n",
      "        [9017/3168, -355/33, 46732/5247, 49/176, -5103/18656]\n",
      "    ])\n",
      "    B = np.array([35/384, 0, 500/1113, 125/192, -2187/6784, 11/84])\n",
      "    E = np.array([-71/57600, 0, 71/16695, -71/1920, 17253/339200, -22/525,\n",
      "                  1/40])\n",
      "    # Corresponds to the optimum value of c_6 from [2]_.\n",
      "    P = np.array([\n",
      "        [1, -8048581381/2820520608, 8663915743/2820520608,\n",
      "         -12715105075/11282082432],\n",
      "        [0, 0, 0, 0],\n",
      "        [0, 131558114200/32700410799, -68118460800/10900136933,\n",
      "         87487479700/32700410799],\n",
      "        [0, -1754552775/470086768, 14199869525/1410260304,\n",
      "         -10690763975/1880347072],\n",
      "        [0, 127303824393/49829197408, -318862633887/49829197408,\n",
      "         701980252875 / 199316789632],\n",
      "        [0, -282668133/205662961, 2019193451/616988883, -1453857185/822651844],\n",
      "        [0, 40617522/29380423, -110615467/29380423, 69997945/29380423]])\n",
      "\n",
      "\n",
      "class DOP853(RungeKutta):\n",
      "    \"\"\"Explicit Runge-Kutta method of order 8.\n",
      "\n",
      "    This is a Python implementation of \"DOP853\" algorithm originally written\n",
      "    in Fortran [1]_, [2]_. Note that this is not a literate translation, but\n",
      "    the algorithmic core and coefficients are the same.\n",
      "\n",
      "    Can be applied in the complex domain.\n",
      "\n",
      "    Parameters\n",
      "    ----------\n",
      "    fun : callable\n",
      "        Right-hand side of the system. The calling signature is ``fun(t, y)``.\n",
      "        Here, ``t`` is a scalar, and there are two options for the ndarray ``y``:\n",
      "        It can either have shape (n,); then ``fun`` must return array_like with\n",
      "        shape (n,). Alternatively it can have shape (n, k); then ``fun``\n",
      "        must return an array_like with shape (n, k), i.e. each column\n",
      "        corresponds to a single column in ``y``. The choice between the two\n",
      "        options is determined by `vectorized` argument (see below).\n",
      "    t0 : float\n",
      "        Initial time.\n",
      "    y0 : array_like, shape (n,)\n",
      "        Initial state.\n",
      "    t_bound : float\n",
      "        Boundary time - the integration won't continue beyond it. It also\n",
      "        determines the direction of the integration.\n",
      "    first_step : float or None, optional\n",
      "        Initial step size. Default is ``None`` which means that the algorithm\n",
      "        should choose.\n",
      "    max_step : float, optional\n",
      "        Maximum allowed step size. Default is np.inf, i.e. the step size is not\n",
      "        bounded and determined solely by the solver.\n",
      "    rtol, atol : float and array_like, optional\n",
      "        Relative and absolute tolerances. The solver keeps the local error\n",
      "        estimates less than ``atol + rtol * abs(y)``. Here `rtol` controls a\n",
      "        relative accuracy (number of correct digits). But if a component of `y`\n",
      "        is approximately below `atol`, the error only needs to fall within\n",
      "        the same `atol` threshold, and the number of correct digits is not\n",
      "        guaranteed. If components of y have different scales, it might be\n",
      "        beneficial to set different `atol` values for different components by\n",
      "        passing array_like with shape (n,) for `atol`. Default values are\n",
      "        1e-3 for `rtol` and 1e-6 for `atol`.\n",
      "    vectorized : bool, optional\n",
      "        Whether `fun` is implemented in a vectorized fashion. Default is False.\n",
      "\n",
      "    Attributes\n",
      "    ----------\n",
      "    n : int\n",
      "        Number of equations.\n",
      "    status : string\n",
      "        Current status of the solver: 'running', 'finished' or 'failed'.\n",
      "    t_bound : float\n",
      "        Boundary time.\n",
      "    direction : float\n",
      "        Integration direction: +1 or -1.\n",
      "    t : float\n",
      "        Current time.\n",
      "    y : ndarray\n",
      "        Current state.\n",
      "    t_old : float\n",
      "        Previous time. None if no steps were made yet.\n",
      "    step_size : float\n",
      "        Size of the last successful step. None if no steps were made yet.\n",
      "    nfev : int\n",
      "        Number evaluations of the system's right-hand side.\n",
      "    njev : int\n",
      "        Number of evaluations of the Jacobian. Is always 0 for this solver\n",
      "        as it does not use the Jacobian.\n",
      "    nlu : int\n",
      "        Number of LU decompositions. Is always 0 for this solver.\n",
      "\n",
      "    References\n",
      "    ----------\n",
      "    .. [1] E. Hairer, S. P. Norsett G. Wanner, \"Solving Ordinary Differential\n",
      "           Equations I: Nonstiff Problems\", Sec. II.\n",
      "    .. [2] `Page with original Fortran code of DOP853\n",
      "            <http://www.unige.ch/~hairer/software.html>`_.\n",
      "    \"\"\"\n",
      "    n_stages = dop853_coefficients.N_STAGES\n",
      "    order = 8\n",
      "    error_estimator_order = 7\n",
      "    A = dop853_coefficients.A[:n_stages, :n_stages]\n",
      "    B = dop853_coefficients.B\n",
      "    C = dop853_coefficients.C[:n_stages]\n",
      "    E3 = dop853_coefficients.E3\n",
      "    E5 = dop853_coefficients.E5\n",
      "    D = dop853_coefficients.D\n",
      "\n",
      "    A_EXTRA = dop853_coefficients.A[n_stages + 1:]\n",
      "    C_EXTRA = dop853_coefficients.C[n_stages + 1:]\n",
      "\n",
      "    def __init__(self, fun, t0, y0, t_bound, max_step=np.inf,\n",
      "                 rtol=1e-3, atol=1e-6, vectorized=False,\n",
      "                 first_step=None, **extraneous):\n",
      "        super(DOP853, self).__init__(fun, t0, y0, t_bound, max_step,\n",
      "                                     rtol, atol, vectorized, first_step,\n",
      "                                     **extraneous)\n",
      "        self.K_extended = np.empty((dop853_coefficients.N_STAGES_EXTENDED,\n",
      "                                    self.n), dtype=self.y.dtype)\n",
      "        self.K = self.K_extended[:self.n_stages + 1]\n",
      "\n",
      "    def _estimate_error(self, K, h):  # Left for testing purposes.\n",
      "        err5 = np.dot(K.T, self.E5)\n",
      "        err3 = np.dot(K.T, self.E3)\n",
      "        denom = np.hypot(np.abs(err5), 0.1 * np.abs(err3))\n",
      "        correction_factor = np.ones_like(err5)\n",
      "        mask = denom > 0\n",
      "        correction_factor[mask] = np.abs(err5[mask]) / denom[mask]\n",
      "        return h * err5 * correction_factor\n",
      "\n",
      "    def _estimate_error_norm(self, K, h, scale):\n",
      "        err5 = np.dot(K.T, self.E5) / scale\n",
      "        err3 = np.dot(K.T, self.E3) / scale\n",
      "\n",
      "        err5_norm_2 = np.sum(err5**2)\n",
      "        err3_norm_2 = np.sum(err3**2)\n",
      "        denom = err5_norm_2 + 0.01 * err3_norm_2\n",
      "        return np.abs(h) * err5_norm_2 / np.sqrt(denom * len(scale))\n",
      "\n",
      "    def _dense_output_impl(self):\n",
      "        K = self.K_extended\n",
      "        h = self.h_previous\n",
      "        for s, (a, c) in enumerate(zip(self.A_EXTRA, self.C_EXTRA),\n",
      "                                   start=self.n_stages + 1):\n",
      "            dy = np.dot(K[:s].T, a[:s]) * h\n",
      "            K[s] = self.fun(self.t_old + c * h, self.y_old + dy)\n",
      "\n",
      "        F = np.empty((dop853_coefficients.INTERPOLATOR_POWER, self.n),\n",
      "                     dtype=self.y_old.dtype)\n",
      "\n",
      "        f_old = K[0]\n",
      "        delta_y = self.y - self.y_old\n",
      "\n",
      "        F[0] = delta_y\n",
      "        F[1] = h * f_old - delta_y\n",
      "        F[2] = 2 * delta_y - h * (self.f + f_old)\n",
      "        F[3:] = h * np.dot(self.D, K)\n",
      "\n",
      "        return Dop853DenseOutput(self.t_old, self.t, self.y_old, F)\n",
      "\n",
      "\n",
      "class RkDenseOutput(DenseOutput):\n",
      "    def __init__(self, t_old, t, y_old, Q):\n",
      "        super(RkDenseOutput, self).__init__(t_old, t)\n",
      "        self.h = t - t_old\n",
      "        self.Q = Q\n",
      "        self.order = Q.shape[1] - 1\n",
      "        self.y_old = y_old\n",
      "\n",
      "    def _call_impl(self, t):\n",
      "        x = (t - self.t_old) / self.h\n",
      "        if t.ndim == 0:\n",
      "            p = np.tile(x, self.order + 1)\n",
      "            p = np.cumprod(p)\n",
      "        else:\n",
      "            p = np.tile(x, (self.order + 1, 1))\n",
      "            p = np.cumprod(p, axis=0)\n",
      "        y = self.h * np.dot(self.Q, p)\n",
      "        if y.ndim == 2:\n",
      "            y += self.y_old[:, None]\n",
      "        else:\n",
      "            y += self.y_old\n",
      "\n",
      "        return y\n",
      "\n",
      "\n",
      "class Dop853DenseOutput(DenseOutput):\n",
      "    def __init__(self, t_old, t, y_old, F):\n",
      "        super(Dop853DenseOutput, self).__init__(t_old, t)\n",
      "        self.h = t - t_old\n",
      "        self.F = F\n",
      "        self.y_old = y_old\n",
      "\n",
      "    def _call_impl(self, t):\n",
      "        x = (t - self.t_old) / self.h\n",
      "\n",
      "        if t.ndim == 0:\n",
      "            y = np.zeros_like(self.y_old)\n",
      "        else:\n",
      "            x = x[:, None]\n",
      "            y = np.zeros((len(x), len(self.y_old)), dtype=self.y_old.dtype)\n",
      "\n",
      "        for i, f in enumerate(reversed(self.F)):\n",
      "            y += f\n",
      "            if i % 2 == 0:\n",
      "                y *= x\n",
      "            else:\n",
      "                y *= 1 - x\n",
      "        y += self.y_old\n",
      "\n",
      "        return y.T\n",
      "\n"
     ]
    }
   ],
   "source": [
    "print(inspect.getsource(rk))"
   ]
  },
  {
   "cell_type": "markdown",
   "metadata": {
    "heading_collapsed": true
   },
   "source": [
    "# ^that looks complicated... Let's just plug in the simple dormand prince method."
   ]
  },
  {
   "cell_type": "markdown",
   "metadata": {
    "hidden": true
   },
   "source": [
    "How to read a butcher tableau:\n",
    "    - https://en.wikipedia.org/wiki/Runge%E2%80%93Kutta_methods#Explicit_Runge.E2.80.93Kutta_methods\n",
    "The butcher tableau for dormand-prince\n",
    "    - https://en.wikipedia.org/wiki/Dormand%E2%80%93Prince_method\n",
    "   "
   ]
  },
  {
   "cell_type": "markdown",
   "metadata": {
    "hidden": true
   },
   "source": [
    "The explicit runge-kutta method is as follows:\n",
    "\n",
    "$$\n",
    "y_{n+1} = y_n + h \\sum_{i=1}^sb_ik_i\n",
    "$$\n",
    "\n",
    "For \n",
    "$$k_1 = f(t_n, y_n)$$\n",
    "$$k_2 = f(t_n+c_2 h, y_n+h(a_{21}k_1))$$\n",
    "$$k_3 = f(t_n+c_3 h, y_n+h(a_{31}k_1 + a_{32} k_2))$$\n",
    "$$\\vdots$$\n",
    "$$k_s = f(t_n+c_s h, y_n + h(a_{s1}k_1 + a_{s2}k_2 + \\cdots + a_{s,s-1}k_{s-1})$$\n"
   ]
  },
  {
   "cell_type": "markdown",
   "metadata": {
    "hidden": true
   },
   "source": [
    "- TODO: insert images in avi/doc here for presentation.  they are taken from \n",
    "    - https://en.wikipedia.org/wiki/Runge%E2%80%93Kutta_methods#Explicit_Runge.E2.80.93Kutta_methods\n",
    "    - https://en.wikipedia.org/wiki/Dormand%E2%80%93Prince_method\n",
    "but could have easily been $\\LaTeX$'d<br>\n",
    "\n",
    "I'm using what's recommended by scipy.  The modified method is presented in [2]\n",
    "\n",
    "`\n",
    "References\n",
    "    ----------\n",
    "    .. [1] J. R. Dormand, P. J. Prince, \"A family of embedded Runge-Kutta\n",
    "           formulae\", Journal of Computational and Applied Mathematics, Vol. 6,\n",
    "           No. 1, pp. 19-26, 1980.\n",
    "    .. [2] L. W. Shampine, \"Some Practical Runge-Kutta Formulas\", Mathematics\n",
    "           of Computation,, Vol. 46, No. 173, pp. 135-150, 1986.\n",
    "`"
   ]
  },
  {
   "cell_type": "code",
   "execution_count": 72,
   "metadata": {
    "ExecuteTime": {
     "end_time": "2020-12-09T19:43:50.335376Z",
     "start_time": "2020-12-09T19:43:50.313331Z"
    },
    "hidden": true
   },
   "outputs": [],
   "source": [
    "# the stepsize\n",
    "h = 0.001\n",
    "#set the current time to the max of the configuration\n",
    "t = max(np.max(K_tau), tau_of_K)\n",
    "#explicit newmark method to the current time\n",
    "k1x, k1v = f(t,x,v,    K_tau,tau_of_K,    K_masses,Bm,zero_mat)\n",
    "k1x = k1x - x; k1v = k1v - v"
   ]
  },
  {
   "cell_type": "code",
   "execution_count": 73,
   "metadata": {
    "ExecuteTime": {
     "end_time": "2020-12-09T19:43:51.968391Z",
     "start_time": "2020-12-09T19:43:51.943441Z"
    },
    "hidden": true
   },
   "outputs": [],
   "source": [
    "#from print(inspect.getsource(scipy.integrate.RK45))\n",
    "C = np.array([0, 1/5, 3/10, 4/5, 8/9, 1])\n",
    "A = np.array([\n",
    "    [0, 0, 0, 0, 0],\n",
    "    [1/5, 0, 0, 0, 0],\n",
    "    [3/40, 9/40, 0, 0, 0],\n",
    "    [44/45, -56/15, 32/9, 0, 0],\n",
    "    [19372/6561, -25360/2187, 64448/6561, -212/729, 0],\n",
    "    [9017/3168, -355/33, 46732/5247, 49/176, -5103/18656]\n",
    "])\n",
    "B = np.array([35/384, 0, 500/1113, 125/192, -2187/6784, 11/84])\n",
    "E = np.array([-71/57600, 0, 71/16695, -71/1920, 17253/339200, -22/525,\n",
    "              1/40])"
   ]
  },
  {
   "cell_type": "code",
   "execution_count": 74,
   "metadata": {
    "ExecuteTime": {
     "end_time": "2020-12-09T19:44:07.401255Z",
     "start_time": "2020-12-09T19:44:07.376431Z"
    },
    "hidden": true
   },
   "outputs": [],
   "source": [
    "c2 = C[1]; a21 = A[1,0]\n",
    "k2x, k2v = f(t+c2*h, x+h*a21*k1x, v+h*a21*k1v,    K_tau,tau_of_K,    K_masses,Bm,zero_mat)\n",
    "k2x = k2x - x; k2v = k2v - v"
   ]
  },
  {
   "cell_type": "code",
   "execution_count": 75,
   "metadata": {
    "ExecuteTime": {
     "end_time": "2020-12-09T19:44:20.354919Z",
     "start_time": "2020-12-09T19:44:20.331295Z"
    },
    "hidden": true
   },
   "outputs": [],
   "source": [
    "c3 = C[2]; a31 = A[2,0]; a32 = A[2,1]\n",
    "k3x, k3v = f(t+c3*h, x+h*(a31*k1x + a32*k2x), v+h*(a31*k1v + a32*k2v),    K_tau,tau_of_K,    K_masses,Bm,zero_mat)\n",
    "k3x = k3x - x; k3v = k3v - v"
   ]
  },
  {
   "cell_type": "code",
   "execution_count": 76,
   "metadata": {
    "ExecuteTime": {
     "end_time": "2020-12-09T19:44:44.639136Z",
     "start_time": "2020-12-09T19:44:44.614693Z"
    },
    "hidden": true
   },
   "outputs": [],
   "source": [
    "c4 = C[3]; a41 = A[3,0]; a42 = A[3,1]; a43 = A[3,2]\n",
    "k4x, k4v = f(t+c4*h, x+h*(a41*k1x + a42*k2x + a43*k3x), v+h*(a41*k1v + a42*k2v + a43*k3v),    K_tau,tau_of_K,    K_masses,Bm,zero_mat)\n",
    "k4x = k4x - x; k4v = k4v - v"
   ]
  },
  {
   "cell_type": "code",
   "execution_count": 77,
   "metadata": {
    "ExecuteTime": {
     "end_time": "2020-12-09T19:44:53.591369Z",
     "start_time": "2020-12-09T19:44:53.567389Z"
    },
    "hidden": true
   },
   "outputs": [],
   "source": [
    "c5 = C[4]; a51 = A[4,0]; a52 = A[4,1]; a53 = A[4,2]; a54 = A[4,3]\n",
    "k5x, k5v = f(t+c5*h, x+h*(a51*k1x + a52*k2x + a53*k3x + a54*k4x), v+h*(a51*k1v + a52*k2v + a53*k3v + a54*k4v),    K_tau,tau_of_K,    K_masses,Bm,zero_mat)\n",
    "k5x = k5x - x; k5v = k5v - v"
   ]
  },
  {
   "cell_type": "code",
   "execution_count": 78,
   "metadata": {
    "ExecuteTime": {
     "end_time": "2020-12-09T19:45:00.531270Z",
     "start_time": "2020-12-09T19:45:00.506756Z"
    },
    "hidden": true
   },
   "outputs": [],
   "source": [
    "c6 = C[5]; a61 = A[5,0]; a62 = A[5,1]; a63 = A[5,2]; a64 = A[5,3]; a65 = A[5,4]\n",
    "k6x, k6v = f(t+c6*h, x+h*(a61*k1x + a62*k2x + a63*k3x + a64*k4x + a65*k5x), v+h*(a61*k1v + a62*k2v + a63*k3v + a64*k4v + a65*k5v),    K_tau,tau_of_K,    K_masses,Bm,zero_mat)\n",
    "k6x = k6x - x; k6v = k6v - v"
   ]
  },
  {
   "cell_type": "code",
   "execution_count": 86,
   "metadata": {
    "ExecuteTime": {
     "end_time": "2020-12-09T19:47:11.251872Z",
     "start_time": "2020-12-09T19:47:11.226475Z"
    },
    "hidden": true
   },
   "outputs": [],
   "source": [
    "#compute the result\n",
    "x_out = x + h*(B[0]*k1x + B[1]*k2x + B[2]*k3x + B[3]*k4x + B[4]*k5x + B[5]*k6x)\n",
    "v_out = v + h*(B[0]*k1v + B[1]*k2v + B[2]*k3v + B[3]*k4v + B[4]*k5v + B[5]*k6v)\n",
    "\n"
   ]
  },
  {
   "cell_type": "code",
   "execution_count": 87,
   "metadata": {
    "ExecuteTime": {
     "end_time": "2020-12-09T19:47:37.100917Z",
     "start_time": "2020-12-09T19:47:37.075359Z"
    },
    "hidden": true
   },
   "outputs": [],
   "source": [
    "#estimate the error of the result\n",
    "x_err = x + h*(E[0]*k1x + E[1]*k2x + E[2]*k3x + E[3]*k4x + E[4]*k5x + E[5]*k6x)\n",
    "x_err = x_err - x_out\n",
    "\n",
    "v_err = v + h*(E[0]*k1v + E[1]*k2v + E[2]*k3v + E[3]*k4v + E[4]*k5v + E[5]*k6v)\n",
    "v_err = v_err - v_out\n"
   ]
  },
  {
   "cell_type": "code",
   "execution_count": 91,
   "metadata": {
    "ExecuteTime": {
     "end_time": "2020-12-09T19:48:40.174343Z",
     "start_time": "2020-12-09T19:48:40.152241Z"
    },
    "hidden": true
   },
   "outputs": [],
   "source": [
    "max_err = np.max(np.abs(x_err))\n",
    "mav_err = np.max(np.abs(v_err))"
   ]
  },
  {
   "cell_type": "markdown",
   "metadata": {},
   "source": [
    "# Collect ^this into a single function and njit it"
   ]
  },
  {
   "cell_type": "code",
   "execution_count": 3,
   "metadata": {
    "ExecuteTime": {
     "end_time": "2020-12-09T21:59:47.618437Z",
     "start_time": "2020-12-09T21:59:47.573142Z"
    }
   },
   "outputs": [],
   "source": [
    "# # the stepsize\n",
    "# h = 0.001\n",
    "\n",
    "# t = 0.01\n",
    "# K_index = 7\n",
    "# Bm = element_array_inverse_equilibrium_position[K_index]\n",
    "# Ka = element_array_index[K_index]\n",
    "# x = vertices[Ka].copy()\n",
    "# v = velocities[Ka].copy()\n",
    "# tau_of_K = element_array_time[K_index]\n",
    "# K_tau = node_array_time[Ka].copy()\n",
    "# K_masses = element_array_mass[Ka]\n",
    "# # step_to_time(t, K_vertices, K_velocities, K_masses, K_tau, tau_of_K, Bm, zero_mat)\n",
    "\n",
    "def get_one_step_explicit_dormand_prince_method(mu,lam,gamma):\n",
    "    \"\"\"Explicit Runge-Kutta method of order 5(4).\n",
    "\n",
    "    This uses the Dormand-Prince pair of formulas [1]_. The error is controlled\n",
    "    assuming accuracy of the fourth-order method accuracy, but steps are taken\n",
    "    using the fifth-order accurate formula (local extrapolation is done).\n",
    "    A quartic interpolation polynomial is used for the dense output [2]_.\n",
    "\n",
    "    Can be applied in the complex domain.\n",
    "\n",
    "    Parameters\n",
    "    ----------\n",
    "    mu: the first Lamé parameter. nonnegative float.\n",
    "    lam: the second Lamé parameter. nonnegative float.\n",
    "    gamma: the Rayleigh damping parameter. nonnegative float\n",
    "\n",
    "    References\n",
    "    ----------\n",
    "    .. [1] J. R. Dormand, P. J. Prince, \"A family of embedded Runge-Kutta\n",
    "           formulae\", Journal of Computational and Applied Mathematics, Vol. 6,\n",
    "           No. 1, pp. 19-26, 1980.\n",
    "    .. [2] L. W. Shampine, \"Some Practical Runge-Kutta Formulas\", Mathematics\n",
    "           of Computation,, Vol. 46, No. 173, pp. 135-150, 1986.\n",
    "    \"\"\"\n",
    "    zero_mat = np.zeros((4,3))\n",
    "    #one step implicit midpoint rule\n",
    "    # local_one_step_implicit_midpoint_rule = get_local_one_step_implicit_midpoint_rule(mu,lam,gamma,num_iter = 30)\n",
    "    #one step explicit Newmark method (misnamed, I know)\n",
    "    compute_one_step_forward_euler_method=get_compute_one_step_forward_euler_method(mu,lam,gamma)\n",
    "    step_to_time = compute_one_step_forward_euler_method\n",
    "\n",
    "    @njit\n",
    "    def f(t,x,v,K_tau,tau_of_K,K_masses,Bm,zero_mat):\n",
    "        x_out, v_out = compute_one_step_forward_euler_method(t,x,v,K_masses,K_tau,tau_of_K,Bm,zero_mat)\n",
    "        return x_out, v_out\n",
    "\n",
    "    #from print(inspect.getsource(scipy.integrate.RK45))\n",
    "    C = np.array([0, 1/5, 3/10, 4/5, 8/9, 1])\n",
    "    A = np.array([\n",
    "        [0, 0, 0, 0, 0],\n",
    "        [1/5, 0, 0, 0, 0],\n",
    "        [3/40, 9/40, 0, 0, 0],\n",
    "        [44/45, -56/15, 32/9, 0, 0],\n",
    "        [19372/6561, -25360/2187, 64448/6561, -212/729, 0],\n",
    "        [9017/3168, -355/33, 46732/5247, 49/176, -5103/18656]\n",
    "    ])\n",
    "    B = np.array([35/384, 0, 500/1113, 125/192, -2187/6784, 11/84])\n",
    "    E = np.array([-71/57600, 0, 71/16695, -71/1920, 17253/339200, -22/525,\n",
    "                  1/40])\n",
    "    @njit\n",
    "    def foo(h,x,v,K_masses,K_tau,tau_of_K,Bm,zero_mat):\n",
    "        \"\"\"Explicit Runge-Kutta method of order 5(4).\n",
    "\n",
    "            This uses the Dormand-Prince pair of formulas [1]_. The error is controlled\n",
    "            assuming accuracy of the fourth-order method accuracy, but steps are taken\n",
    "            using the fifth-order accurate formula (local extrapolation is done).\n",
    "            A quartic interpolation polynomial is used for the dense output [2]_.\n",
    "\n",
    "            Can be applied in the complex domain.\n",
    "\n",
    "            Parameters\n",
    "            ----------\n",
    "            mu: the first Lamé parameter. nonnegative float.\n",
    "            lam: the second Lamé parameter. nonnegative float.\n",
    "            gamma: the Rayleigh damping parameter. nonnegative float\n",
    "\n",
    "            References\n",
    "            ----------\n",
    "            .. [1] J. R. Dormand, P. J. Prince, \"A family of embedded Runge-Kutta\n",
    "                   formulae\", Journal of Computational and Applied Mathematics, Vol. 6,\n",
    "                   No. 1, pp. 19-26, 1980.\n",
    "            .. [2] L. W. Shampine, \"Some Practical Runge-Kutta Formulas\", Mathematics\n",
    "                   of Computation,, Vol. 46, No. 173, pp. 135-150, 1986.\n",
    "            \"\"\"\n",
    "        #set the current time to the max of the configuration of the element\n",
    "        t = max(np.max(K_tau), tau_of_K)\n",
    "\n",
    "        #explicit newmark method to the current time\n",
    "        k1x, k1v = f(t,x,v,    K_tau,tau_of_K,    K_masses,Bm,zero_mat)\n",
    "        k1x = k1x - x; k1v = k1v - v\n",
    "\n",
    "        c2 = C[1]; a21 = A[1,0]\n",
    "        k2x, k2v = f(t+c2*h, x+h*a21*k1x, v+h*a21*k1v,    K_tau,tau_of_K,    K_masses,Bm,zero_mat)\n",
    "        k2x = k2x - x; k2v = k2v - v\n",
    "\n",
    "        c3 = C[2]; a31 = A[2,0]; a32 = A[2,1]\n",
    "        k3x, k3v = f(t+c3*h, x+h*(a31*k1x + a32*k2x), v+h*(a31*k1v + a32*k2v),    K_tau,tau_of_K,    K_masses,Bm,zero_mat)\n",
    "        k3x = k3x - x; k3v = k3v - v\n",
    "\n",
    "        c4 = C[3]; a41 = A[3,0]; a42 = A[3,1]; a43 = A[3,2]\n",
    "        k4x, k4v = f(t+c4*h, x+h*(a41*k1x + a42*k2x + a43*k3x), v+h*(a41*k1v + a42*k2v + a43*k3v),    K_tau,tau_of_K,    K_masses,Bm,zero_mat)\n",
    "        k4x = k4x - x; k4v = k4v - v\n",
    "\n",
    "        c5 = C[4]; a51 = A[4,0]; a52 = A[4,1]; a53 = A[4,2]; a54 = A[4,3]\n",
    "        k5x, k5v = f(t+c5*h, x+h*(a51*k1x + a52*k2x + a53*k3x + a54*k4x), v+h*(a51*k1v + a52*k2v + a53*k3v + a54*k4v),    K_tau,tau_of_K,    K_masses,Bm,zero_mat)\n",
    "        k5x = k5x - x; k5v = k5v - v\n",
    "\n",
    "        c6 = C[5]; a61 = A[5,0]; a62 = A[5,1]; a63 = A[5,2]; a64 = A[5,3]; a65 = A[5,4]\n",
    "        k6x, k6v = f(t+c6*h, x+h*(a61*k1x + a62*k2x + a63*k3x + a64*k4x + a65*k5x), v+h*(a61*k1v + a62*k2v + a63*k3v + a64*k4v + a65*k5v),    K_tau,tau_of_K,    K_masses,Bm,zero_mat)\n",
    "        k6x = k6x - x; k6v = k6v - v\n",
    "\n",
    "        #compute the result\n",
    "        x_out = x + h*(B[0]*k1x + B[1]*k2x + B[2]*k3x + B[3]*k4x + B[4]*k5x + B[5]*k6x)\n",
    "        v_out = v + h*(B[0]*k1v + B[1]*k2v + B[2]*k3v + B[3]*k4v + B[4]*k5v + B[5]*k6v)\n",
    "\n",
    "        #estimate the error of the result\n",
    "        x_err = x + h*(E[0]*k1x + E[1]*k2x + E[2]*k3x + E[3]*k4x + E[4]*k5x + E[5]*k6x)\n",
    "        x_err = x_err - x_out\n",
    "        v_err = v + h*(E[0]*k1v + E[1]*k2v + E[2]*k3v + E[3]*k4v + E[4]*k5v + E[5]*k6v)\n",
    "        v_err = v_err - v_out\n",
    "\n",
    "        max_err = np.max(np.abs(x_err))\n",
    "        mav_err = np.max(np.abs(v_err))#*h\n",
    "\n",
    "        return max_err, mav_err, x_out,v_out\n",
    "    return foo"
   ]
  },
  {
   "cell_type": "code",
   "execution_count": 4,
   "metadata": {
    "ExecuteTime": {
     "end_time": "2020-12-09T21:59:48.959836Z",
     "start_time": "2020-12-09T21:59:48.935411Z"
    }
   },
   "outputs": [],
   "source": [
    "# foo(h,x,v,K_masses,K_tau,tau_of_K,Bm,zero_mat)"
   ]
  },
  {
   "cell_type": "code",
   "execution_count": 100,
   "metadata": {
    "ExecuteTime": {
     "end_time": "2020-12-09T20:00:21.111198Z",
     "start_time": "2020-12-09T20:00:21.086214Z"
    }
   },
   "outputs": [
    {
     "data": {
      "text/plain": [
       "(3.4049460073681814e-07,\n",
       " 1.536270950175389e-06,\n",
       " array([[ 0.62847645,  0.71433732, -0.26459579],\n",
       "        [ 0.58759723,  0.5943788 , -0.47082971],\n",
       "        [ 0.50580263,  0.413197  , -0.3059985 ],\n",
       "        [ 0.38410106,  0.54358837, -0.43047151]]),\n",
       " array([[-0.64833983,  0.01337363,  0.01447463],\n",
       "        [-0.57418608, -0.00598796, -0.03165533],\n",
       "        [-0.50452982, -0.03965316,  0.0203962 ],\n",
       "        [-0.46126644,  0.02161065, -0.00240728]]))"
      ]
     },
     "execution_count": 100,
     "metadata": {},
     "output_type": "execute_result"
    }
   ],
   "source": [
    "# foo(h,x,v,K_masses,K_tau,tau_of_K,Bm,zero_mat)"
   ]
  },
  {
   "cell_type": "code",
   "execution_count": 103,
   "metadata": {
    "ExecuteTime": {
     "end_time": "2020-12-09T20:04:21.585024Z",
     "start_time": "2020-12-09T20:04:21.561683Z"
    }
   },
   "outputs": [],
   "source": [
    "one_step_explicit_dormand_prince_method = get_one_step_explicit_dormand_prince_method(mu,lam,gamma)"
   ]
  },
  {
   "cell_type": "code",
   "execution_count": 104,
   "metadata": {
    "ExecuteTime": {
     "end_time": "2020-12-09T20:04:49.540987Z",
     "start_time": "2020-12-09T20:04:29.773968Z"
    }
   },
   "outputs": [
    {
     "data": {
      "text/plain": [
       "(3.4049460073681814e-07,\n",
       " 1.536270950175389e-06,\n",
       " array([[ 0.62847645,  0.71433732, -0.26459579],\n",
       "        [ 0.58759723,  0.5943788 , -0.47082971],\n",
       "        [ 0.50580263,  0.413197  , -0.3059985 ],\n",
       "        [ 0.38410106,  0.54358837, -0.43047151]]),\n",
       " array([[-0.64833983,  0.01337363,  0.01447463],\n",
       "        [-0.57418608, -0.00598796, -0.03165533],\n",
       "        [-0.50452982, -0.03965316,  0.0203962 ],\n",
       "        [-0.46126644,  0.02161065, -0.00240728]]))"
      ]
     },
     "execution_count": 104,
     "metadata": {},
     "output_type": "execute_result"
    }
   ],
   "source": [
    "one_step_explicit_dormand_prince_method(h,x,v,K_masses,K_tau,tau_of_K,Bm,zero_mat)"
   ]
  },
  {
   "cell_type": "code",
   "execution_count": 105,
   "metadata": {
    "ExecuteTime": {
     "end_time": "2020-12-09T20:04:53.647976Z",
     "start_time": "2020-12-09T20:04:53.620593Z"
    }
   },
   "outputs": [
    {
     "data": {
      "text/plain": [
       "(3.4049460073681814e-07,\n",
       " 1.536270950175389e-06,\n",
       " array([[ 0.62847645,  0.71433732, -0.26459579],\n",
       "        [ 0.58759723,  0.5943788 , -0.47082971],\n",
       "        [ 0.50580263,  0.413197  , -0.3059985 ],\n",
       "        [ 0.38410106,  0.54358837, -0.43047151]]),\n",
       " array([[-0.64833983,  0.01337363,  0.01447463],\n",
       "        [-0.57418608, -0.00598796, -0.03165533],\n",
       "        [-0.50452982, -0.03965316,  0.0203962 ],\n",
       "        [-0.46126644,  0.02161065, -0.00240728]]))"
      ]
     },
     "execution_count": 105,
     "metadata": {},
     "output_type": "execute_result"
    }
   ],
   "source": [
    "one_step_explicit_dormand_prince_method(h,x,v,K_masses,K_tau,tau_of_K,Bm,zero_mat)"
   ]
  },
  {
   "cell_type": "markdown",
   "metadata": {},
   "source": [
    "# compute flow map and njit it"
   ]
  },
  {
   "cell_type": "code",
   "execution_count": 130,
   "metadata": {
    "ExecuteTime": {
     "end_time": "2020-12-09T21:27:03.376088Z",
     "start_time": "2020-12-09T21:27:03.349880Z"
    }
   },
   "outputs": [],
   "source": [
    "#TODO: update all nodes to max current time using current velocity\n",
    "for a in range(4):\n",
    "    x[a] += v[a] * (tau_of_K - K_tau[a]) #+ Delta_x[a]\n",
    "        \n",
    "#TODO: swap out f with compute force"
   ]
  },
  {
   "cell_type": "code",
   "execution_count": 136,
   "metadata": {
    "ExecuteTime": {
     "end_time": "2020-12-09T21:28:43.365902Z",
     "start_time": "2020-12-09T21:28:43.344552Z"
    }
   },
   "outputs": [],
   "source": [
    "Ds = get_D_mat(x)\n",
    "W = get_element_volume(Ds)"
   ]
  },
  {
   "cell_type": "code",
   "execution_count": 137,
   "metadata": {
    "ExecuteTime": {
     "end_time": "2020-12-09T21:28:50.358229Z",
     "start_time": "2020-12-09T21:28:44.294065Z"
    }
   },
   "outputs": [],
   "source": [
    "force = compute_force(v, Ds, W, Bm, zero_mat.copy())"
   ]
  },
  {
   "cell_type": "code",
   "execution_count": 138,
   "metadata": {
    "ExecuteTime": {
     "end_time": "2020-12-09T21:28:55.211322Z",
     "start_time": "2020-12-09T21:28:55.187760Z"
    }
   },
   "outputs": [],
   "source": [
    "#def get_flow_map\n"
   ]
  },
  {
   "cell_type": "code",
   "execution_count": 139,
   "metadata": {
    "ExecuteTime": {
     "end_time": "2020-12-09T21:30:08.633644Z",
     "start_time": "2020-12-09T21:30:08.610852Z"
    }
   },
   "outputs": [],
   "source": [
    "dxdt =  v.copy()\n",
    "dvdt =  v.copy()\n",
    "for a in range(4):\n",
    "    dvdt = force[a]/K_masses[a]\n"
   ]
  },
  {
   "cell_type": "code",
   "execution_count": 155,
   "metadata": {
    "ExecuteTime": {
     "end_time": "2020-12-09T21:48:04.641072Z",
     "start_time": "2020-12-09T21:48:04.620243Z"
    }
   },
   "outputs": [],
   "source": [
    "from lib.model.flow_map import *"
   ]
  },
  {
   "cell_type": "code",
   "execution_count": 156,
   "metadata": {
    "ExecuteTime": {
     "end_time": "2020-12-09T21:48:05.237059Z",
     "start_time": "2020-12-09T21:48:05.215117Z"
    }
   },
   "outputs": [],
   "source": [
    "compute_flow_map = get_flow_map(mu,lam,gamma)"
   ]
  },
  {
   "cell_type": "code",
   "execution_count": 157,
   "metadata": {
    "ExecuteTime": {
     "end_time": "2020-12-09T21:48:14.060417Z",
     "start_time": "2020-12-09T21:48:05.715444Z"
    }
   },
   "outputs": [],
   "source": [
    "dxdt, dvdt = compute_flow_map(x, v, Bm, K_masses)"
   ]
  },
  {
   "cell_type": "code",
   "execution_count": 159,
   "metadata": {
    "ExecuteTime": {
     "end_time": "2020-12-09T21:48:20.401022Z",
     "start_time": "2020-12-09T21:48:20.379646Z"
    }
   },
   "outputs": [],
   "source": [
    "dxdt, dvdt = compute_flow_map(x, v, Bm, K_masses)"
   ]
  },
  {
   "cell_type": "code",
   "execution_count": 4,
   "metadata": {
    "ExecuteTime": {
     "end_time": "2020-12-09T22:36:55.052700Z",
     "start_time": "2020-12-09T22:36:35.370234Z"
    }
   },
   "outputs": [],
   "source": [
    "minstepsize = 1e-8\n",
    "h = 0.001\n",
    "K_index = 7\n",
    "one_step_explicit_dormand_prince_method = get_one_step_explicit_dormand_prince_method(mu,lam,gamma)\n",
    "\n",
    "\n",
    "#get the element configuration\n",
    "Bm = element_array_inverse_equilibrium_position[K_index]\n",
    "Ka = element_array_index[K_index]\n",
    "x = vertices[Ka].copy()\n",
    "v = velocities[Ka].copy()\n",
    "tau_of_K = element_array_time[K_index]\n",
    "K_tau = node_array_time[Ka].copy()\n",
    "K_masses = element_array_mass[Ka]\n",
    "                \n",
    "\n",
    "max_err, mav_err, x_out,v_out = one_step_explicit_dormand_prince_method(h,x,v,K_masses,K_tau,tau_of_K,Bm)"
   ]
  },
  {
   "cell_type": "code",
   "execution_count": 5,
   "metadata": {
    "ExecuteTime": {
     "end_time": "2020-12-09T22:36:56.652779Z",
     "start_time": "2020-12-09T22:36:56.627419Z"
    }
   },
   "outputs": [],
   "source": [
    "max_err, mav_err, x_out,v_out = one_step_explicit_dormand_prince_method(h,x,v,K_masses,K_tau,tau_of_K,Bm)"
   ]
  },
  {
   "cell_type": "code",
   "execution_count": 6,
   "metadata": {
    "ExecuteTime": {
     "end_time": "2020-12-09T22:36:57.580222Z",
     "start_time": "2020-12-09T22:36:57.550894Z"
    },
    "scrolled": true
   },
   "outputs": [
    {
     "data": {
      "text/plain": [
       "(0.0006641166354861561,\n",
       " 6.605173595158886e-05,\n",
       " array([[ 0.64727054,  0.71423555, -0.26470589],\n",
       "        [ 0.60492409,  0.59442562, -0.47058825],\n",
       "        [ 0.52079481,  0.41349968, -0.30615355],\n",
       "        [ 0.39608137,  0.54342104, -0.43045433]]),\n",
       " array([[-6.47919052e-01,  1.35160740e-05,  1.46202271e-05],\n",
       "        [-6.05499083e-01, -6.27847487e-06, -3.20940741e-05],\n",
       "        [-5.21299591e-01, -4.02421571e-05,  2.05833027e-05],\n",
       "        [-3.96540772e-01,  2.23621714e-05, -2.22679623e-06]]))"
      ]
     },
     "execution_count": 6,
     "metadata": {},
     "output_type": "execute_result"
    }
   ],
   "source": [
    "max_err, mav_err, x_out,v_out"
   ]
  },
  {
   "cell_type": "markdown",
   "metadata": {},
   "source": [
    "# test the method on the whole mesh"
   ]
  },
  {
   "cell_type": "code",
   "execution_count": 11,
   "metadata": {
    "ExecuteTime": {
     "end_time": "2020-12-09T22:42:14.137477Z",
     "start_time": "2020-12-09T22:42:14.111889Z"
    }
   },
   "outputs": [],
   "source": [
    "from lib.controller.integrate_forward_dormand_prince_synchronous import *"
   ]
  },
  {
   "cell_type": "code",
   "execution_count": 12,
   "metadata": {
    "ExecuteTime": {
     "end_time": "2020-12-09T22:42:14.993558Z",
     "start_time": "2020-12-09T22:42:14.925031Z"
    }
   },
   "outputs": [],
   "source": [
    "integrate_system_dormand_prince_synchronous = get_integrate_system_dormand_prince_synchronous(mu,lam,gamma)"
   ]
  },
  {
   "cell_type": "code",
   "execution_count": 13,
   "metadata": {
    "ExecuteTime": {
     "end_time": "2020-12-09T22:42:40.444043Z",
     "start_time": "2020-12-09T22:42:15.766948Z"
    }
   },
   "outputs": [
    {
     "name": "stderr",
     "output_type": "stream",
     "text": [
      "/Users/timothytyree/Documents/GitHub/avi/nb/lib/controller/integrate_forward_dormand_prince_synchronous.py:42: NumbaPerformanceWarning: '@' is faster on contiguous arrays, called on (array(float64, 2d, C), array(float64, 2d, A))\n",
      "  max_err, mav_err, x_out,v_out = one_step_explicit_dormand_prince_method(h,x,v,K_masses,K_tau,tau_of_K,Bm)\n"
     ]
    }
   ],
   "source": [
    "tf = 0.00\n",
    "retval = integrate_system_dormand_prince_synchronous(tf, element_array_time, element_array_stepsize, node_array_time,\n",
    "                                         element_array_index, vertices, velocities, \n",
    "                                      node_array_mass, element_array_inverse_equilibrium_position, element_array_mass)#, minstepsize)"
   ]
  },
  {
   "cell_type": "code",
   "execution_count": 14,
   "metadata": {
    "ExecuteTime": {
     "end_time": "2020-12-09T22:46:59.356889Z",
     "start_time": "2020-12-09T22:46:59.330847Z"
    }
   },
   "outputs": [],
   "source": [
    "tf = 0.01\n",
    "retval = integrate_system_dormand_prince_synchronous(tf, element_array_time, element_array_stepsize, node_array_time,\n",
    "                                         element_array_index, vertices, velocities, \n",
    "                                      node_array_mass, element_array_inverse_equilibrium_position, element_array_mass)"
   ]
  },
  {
   "cell_type": "code",
   "execution_count": 18,
   "metadata": {
    "ExecuteTime": {
     "end_time": "2020-12-09T22:48:07.284717Z",
     "start_time": "2020-12-09T22:48:07.261720Z"
    }
   },
   "outputs": [],
   "source": [
    "tf = 0.02\n",
    "retval = integrate_system_dormand_prince_synchronous(tf, element_array_time, element_array_stepsize, node_array_time,\n",
    "                                         element_array_index, vertices, velocities, \n",
    "                                      node_array_mass, element_array_inverse_equilibrium_position, element_array_mass)"
   ]
  },
  {
   "cell_type": "code",
   "execution_count": 30,
   "metadata": {
    "ExecuteTime": {
     "end_time": "2020-12-09T22:50:53.640468Z",
     "start_time": "2020-12-09T22:50:40.753601Z"
    }
   },
   "outputs": [],
   "source": [
    "tf = 0.05\n",
    "retval = integrate_system_dormand_prince_synchronous(tf, element_array_time, element_array_stepsize, node_array_time,\n",
    "                                         element_array_index, vertices, velocities, \n",
    "                                      node_array_mass, element_array_inverse_equilibrium_position, element_array_mass)"
   ]
  },
  {
   "cell_type": "markdown",
   "metadata": {
    "ExecuteTime": {
     "end_time": "2020-12-09T22:42:08.452246Z",
     "start_time": "2020-12-09T22:42:08.417622Z"
    }
   },
   "source": [
    "### verify updates have happened in all relevant system degrees of freedom\n",
    "retval"
   ]
  },
  {
   "cell_type": "code",
   "execution_count": 28,
   "metadata": {
    "ExecuteTime": {
     "end_time": "2020-12-09T22:49:59.798269Z",
     "start_time": "2020-12-09T22:49:59.771610Z"
    }
   },
   "outputs": [
    {
     "data": {
      "text/plain": [
       "array([[ 0.3715328 ,  0.59476459,  0.68627453],\n",
       "       [-0.93274623, -0.25802922, -0.16666667],\n",
       "       [ 0.60552961,  0.59442562, -0.47058824],\n",
       "       [-0.93884414,  0.17852867, -0.19607843],\n",
       "       [-0.57890046, -0.02019236, -0.78431374]])"
      ]
     },
     "execution_count": 28,
     "metadata": {},
     "output_type": "execute_result"
    }
   ],
   "source": [
    "#before some computation\n",
    "vertices[:5]"
   ]
  },
  {
   "cell_type": "code",
   "execution_count": 29,
   "metadata": {
    "ExecuteTime": {
     "end_time": "2020-12-09T22:50:00.625371Z",
     "start_time": "2020-12-09T22:50:00.605036Z"
    }
   },
   "outputs": [
    {
     "data": {
      "text/plain": [
       "array([[-0.3715328 ,  0.        ,  0.        ],\n",
       "       [ 0.93274623, -0.        , -0.        ],\n",
       "       [-0.60552961,  0.        , -0.        ],\n",
       "       [ 0.93884414,  0.        , -0.        ],\n",
       "       [ 0.57890046, -0.        , -0.        ]])"
      ]
     },
     "execution_count": 29,
     "metadata": {},
     "output_type": "execute_result"
    }
   ],
   "source": [
    "velocities[:5]"
   ]
  },
  {
   "cell_type": "code",
   "execution_count": 25,
   "metadata": {
    "ExecuteTime": {
     "end_time": "2020-12-09T22:49:44.474766Z",
     "start_time": "2020-12-09T22:49:44.447563Z"
    }
   },
   "outputs": [
    {
     "data": {
      "text/plain": [
       "array([[ 0.35597766,  0.59660302,  0.68880254],\n",
       "       [-0.89175045, -0.25941481, -0.16659651],\n",
       "       [ 0.57951287,  0.59724999, -0.47293893],\n",
       "       [-0.89741359,  0.1792675 , -0.19699422],\n",
       "       [-0.55534901, -0.01994079, -0.7902785 ]])"
      ]
     },
     "execution_count": 25,
     "metadata": {},
     "output_type": "execute_result"
    }
   ],
   "source": [
    "#after some computation\n",
    "vertices[:5]\n"
   ]
  },
  {
   "cell_type": "code",
   "execution_count": 26,
   "metadata": {
    "ExecuteTime": {
     "end_time": "2020-12-09T22:49:47.458918Z",
     "start_time": "2020-12-09T22:49:47.432313Z"
    }
   },
   "outputs": [
    {
     "data": {
      "text/plain": [
       "array([[-0.2082372 ,  0.09229777,  0.13877773],\n",
       "       [ 0.65618679, -0.08156239,  0.01402417],\n",
       "       [-0.40733818,  0.15081991, -0.12813179],\n",
       "       [ 0.71214749,  0.03528751, -0.04993599],\n",
       "       [ 0.31854025,  0.00777699, -0.32364673]])"
      ]
     },
     "execution_count": 26,
     "metadata": {},
     "output_type": "execute_result"
    }
   ],
   "source": [
    "velocities[:5]"
   ]
  },
  {
   "cell_type": "code",
   "execution_count": 31,
   "metadata": {
    "ExecuteTime": {
     "end_time": "2020-12-09T22:50:57.832781Z",
     "start_time": "2020-12-09T22:50:57.807177Z"
    }
   },
   "outputs": [
    {
     "data": {
      "text/plain": [
       "array([0.049, 0.049, 0.049, ..., 0.049, 0.049, 0.049])"
      ]
     },
     "execution_count": 31,
     "metadata": {},
     "output_type": "execute_result"
    }
   ],
   "source": [
    "element_array_time"
   ]
  },
  {
   "cell_type": "code",
   "execution_count": 34,
   "metadata": {
    "ExecuteTime": {
     "end_time": "2020-12-09T22:51:17.996931Z",
     "start_time": "2020-12-09T22:51:17.970041Z"
    }
   },
   "outputs": [
    {
     "data": {
      "text/plain": [
       "array([0.049, 0.049, 0.049, 0.049, 0.049])"
      ]
     },
     "execution_count": 34,
     "metadata": {},
     "output_type": "execute_result"
    }
   ],
   "source": [
    "node_array_time[:5]"
   ]
  },
  {
   "cell_type": "code",
   "execution_count": 35,
   "metadata": {
    "ExecuteTime": {
     "end_time": "2020-12-09T23:40:19.156737Z",
     "start_time": "2020-12-09T23:40:19.127482Z"
    }
   },
   "outputs": [
    {
     "data": {
      "text/plain": [
       "array([[ 0.35597766,  0.59660302,  0.68880254],\n",
       "       [-0.89175045, -0.25941481, -0.16659651],\n",
       "       [ 0.57951287,  0.59724999, -0.47293893],\n",
       "       ...,\n",
       "       [ 0.31015978,  0.5374809 ,  0.21935358],\n",
       "       [ 0.33646057,  0.64583056,  0.35449834],\n",
       "       [ 0.37695007,  0.72395069,  0.23846033]])"
      ]
     },
     "execution_count": 35,
     "metadata": {},
     "output_type": "execute_result"
    }
   ],
   "source": [
    "vertices"
   ]
  },
  {
   "cell_type": "code",
   "execution_count": 37,
   "metadata": {
    "ExecuteTime": {
     "end_time": "2020-12-09T23:40:28.918529Z",
     "start_time": "2020-12-09T23:40:28.895923Z"
    }
   },
   "outputs": [
    {
     "data": {
      "text/plain": [
       "0.05"
      ]
     },
     "execution_count": 37,
     "metadata": {},
     "output_type": "execute_result"
    }
   ],
   "source": [
    "tau\n",
    "tf"
   ]
  },
  {
   "cell_type": "code",
   "execution_count": null,
   "metadata": {},
   "outputs": [],
   "source": [
    "# #update a copy of all positions using current velocity to the observation time of the element\n",
    "# x = vertices.copy()\n",
    "# for a in range(N_vertices):\n",
    "#     x[a] += velocities[a] * (tf - tau[a])"
   ]
  }
 ],
 "metadata": {
  "kernelspec": {
   "display_name": "Python 3",
   "language": "python",
   "name": "python3"
  },
  "varInspector": {
   "cols": {
    "lenName": 16,
    "lenType": 16,
    "lenVar": 40
   },
   "kernels_config": {
    "python": {
     "delete_cmd_postfix": "",
     "delete_cmd_prefix": "del ",
     "library": "var_list.py",
     "varRefreshCmd": "print(var_dic_list())"
    },
    "r": {
     "delete_cmd_postfix": ") ",
     "delete_cmd_prefix": "rm(",
     "library": "var_list.r",
     "varRefreshCmd": "cat(var_dic_list()) "
    }
   },
   "types_to_exclude": [
    "module",
    "function",
    "builtin_function_or_method",
    "instance",
    "_Feature"
   ],
   "window_display": false
  }
 },
 "nbformat": 4,
 "nbformat_minor": 4
}
