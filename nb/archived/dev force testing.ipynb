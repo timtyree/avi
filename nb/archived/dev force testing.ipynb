{
 "cells": [
  {
   "cell_type": "code",
   "execution_count": 2,
   "metadata": {
    "ExecuteTime": {
     "end_time": "2020-12-13T07:24:07.458163Z",
     "start_time": "2020-12-13T07:24:05.035317Z"
    }
   },
   "outputs": [
    {
     "name": "stdout",
     "output_type": "stream",
     "text": [
      "Automatic calling is: Smart\n"
     ]
    }
   ],
   "source": [
    "#pylab\n",
    "%matplotlib inline\n",
    "\n",
    "import numpy as np, pandas as pd, matplotlib.pyplot as plt\n",
    "from mpl_toolkits.mplot3d import Axes3D  \n",
    "\n",
    "from PIL import Image\n",
    "import trimesh, tetgen, pyvista as pv\n",
    "from queue import PriorityQueue\n",
    "\n",
    "#automate the boring stuff\n",
    "from IPython import utils\n",
    "import time, os, sys, re\n",
    "beep = lambda x: os.system(\"echo -n '\\\\a';sleep 0.2;\" * x)\n",
    "if not 'nb_dir' in globals():\n",
    "    nb_dir = os.getcwd()\n",
    "\n",
    "# #load the libraries\n",
    "from lib import *\n",
    "\n",
    "%autocall 1\n",
    "%load_ext autoreload\n",
    "%autoreload 2"
   ]
  },
  {
   "cell_type": "code",
   "execution_count": 2,
   "metadata": {
    "ExecuteTime": {
     "end_time": "2020-12-06T20:38:54.586823Z",
     "start_time": "2020-12-06T20:38:54.283199Z"
    }
   },
   "outputs": [],
   "source": [
    "#enter darkmode for jupyter notebooks\n",
    "# !jt -t monokai -f fira -fs 13 -nf ptsans -nfs 11 -N -kl -cursw 5 -cursc r -cellw 95% -T\n",
    "\n",
    "#Hack for images to obey darkmode\n",
    "import seaborn as sns\n",
    "\n",
    "from jupyterthemes import jtplot\n",
    "jtplot.style(theme='monokai', context='notebook', ticks=True, grid=False)"
   ]
  },
  {
   "cell_type": "code",
   "execution_count": 3,
   "metadata": {
    "ExecuteTime": {
     "end_time": "2020-12-06T20:38:54.612737Z",
     "start_time": "2020-12-06T20:38:54.589210Z"
    }
   },
   "outputs": [],
   "source": [
    "#define Lamé parameters\n",
    "mu = 1; lam = 1;\n",
    "#get method of computing elastic forces \n",
    "zero_mat = np.zeros((4,3))\n",
    "calc_P = get_calc_P(mu, lam)\n",
    "compute_nodal_elastic_forces= get_compute_nodal_elastic_forces(mu, lam)"
   ]
  },
  {
   "cell_type": "markdown",
   "metadata": {
    "heading_collapsed": true
   },
   "source": [
    "# (don't) Opening Fenics or some ready-tech FE soln"
   ]
  },
  {
   "cell_type": "code",
   "execution_count": 4,
   "metadata": {
    "ExecuteTime": {
     "end_time": "2020-12-06T20:38:54.637710Z",
     "start_time": "2020-12-06T20:38:54.614202Z"
    },
    "hidden": true
   },
   "outputs": [],
   "source": [
    "# !pip install dolfinx"
   ]
  },
  {
   "cell_type": "code",
   "execution_count": 5,
   "metadata": {
    "ExecuteTime": {
     "end_time": "2020-12-06T20:38:54.663630Z",
     "start_time": "2020-12-06T20:38:54.639142Z"
    },
    "hidden": true
   },
   "outputs": [],
   "source": [
    "# from dolfin import *\n",
    "# from ufl import Jacobian, diag\n",
    "# from plotting import plot\n",
    "\n",
    "# mesh = Mesh()\n",
    "# filename = \"shell.xdmf\"\n",
    "# f = XDMFFile(filename)\n",
    "# f.read(mesh)\n",
    "\n",
    "# def tangent(mesh):\n",
    "#     t = Jacobian(mesh)\n",
    "#     return as_vector([t[0,0], t[1, 0], t[2, 0]])/sqrt(inner(t,t))\n",
    "\n",
    "# t = tangent(mesh)"
   ]
  },
  {
   "cell_type": "markdown",
   "metadata": {
    "hidden": true
   },
   "source": [
    "- Option 1: inspect blender or fenics\n",
    "- Option 2: make a toy case of tetrahedral stretching with a known response."
   ]
  },
  {
   "cell_type": "markdown",
   "metadata": {
    "heading_collapsed": true
   },
   "source": [
    "# Option 2: make a toy case of tetrahedral stretching with a known response."
   ]
  },
  {
   "cell_type": "code",
   "execution_count": 7,
   "metadata": {
    "ExecuteTime": {
     "end_time": "2020-12-06T20:39:16.216059Z",
     "start_time": "2020-12-06T20:39:16.191759Z"
    },
    "hidden": true
   },
   "outputs": [],
   "source": [
    "# elements = element_array_index\n",
    "# vertices = node_array_position\n",
    "\n",
    "# N_elements = elements.shape[0]\n",
    "# N_vertices = vertices.shape[0]\n",
    "\n",
    "# momentum = node_array_momentum\n",
    "# velocities = momentum.copy()\n",
    "# for j in range(N_vertices):\n",
    "#     velocities[j] /= node_array_mass[j]\n",
    "\n"
   ]
  },
  {
   "cell_type": "code",
   "execution_count": 8,
   "metadata": {
    "ExecuteTime": {
     "end_time": "2020-12-06T20:39:17.112560Z",
     "start_time": "2020-12-06T20:39:17.082990Z"
    },
    "hidden": true
   },
   "outputs": [
    {
     "name": "stdout",
     "output_type": "stream",
     "text": [
      "(array([[ 0.,  0.,  1.],\n",
      "       [ 0.,  1.,  0.],\n",
      "       [-2.,  0.,  0.],\n",
      "       [ 2.,  0.,  0.]]), 0.6666666666666666, array([[-0. , -0. ,  1. ],\n",
      "       [ 0. ,  1. ,  0. ],\n",
      "       [-0.5, -0.5, -0.5]]), array([[0., 0., 0.],\n",
      "       [0., 0., 0.],\n",
      "       [0., 0., 0.],\n",
      "       [0., 0., 0.]]))\n"
     ]
    }
   ],
   "source": [
    "X = np.array([[0, 0, 1], [0, 1, 0],\n",
    "                  [-1, 0, 0], [+1, 0, 0]], dtype=float)\n",
    "x = X.copy()\n",
    "x[:,0] *= 2\n",
    "elements = np.array([[0,1,2,3]])\n",
    "K_index = 0\n",
    "K_W = compute_element_volume(node_array_position=x, element_array_index=elements, K_index=K_index)\n",
    "Ka = elements[K_index]\n",
    "K_vertices = x[Ka]\n",
    "Bm = compute_inverse_position(node_array_position=X, element_array_index=elements, K_index=K_index)\n",
    "# Bm  = element_array_inverse_equilibrium_position[K_index]\n",
    "\n",
    "print( (K_vertices, K_W, Bm, zero_mat.copy()) ) "
   ]
  },
  {
   "cell_type": "code",
   "execution_count": 9,
   "metadata": {
    "ExecuteTime": {
     "end_time": "2020-12-06T20:39:18.383233Z",
     "start_time": "2020-12-06T20:39:18.355124Z"
    },
    "hidden": true
   },
   "outputs": [
    {
     "data": {
      "text/plain": [
       "array([[ 0.        ,  0.        , -0.46209812],\n",
       "       [ 0.        , -0.46209812,  0.        ],\n",
       "       [ 0.61552453,  0.23104906,  0.23104906],\n",
       "       [-0.61552453,  0.23104906,  0.23104906]])"
      ]
     },
     "execution_count": 9,
     "metadata": {},
     "output_type": "execute_result"
    }
   ],
   "source": [
    "\n",
    "# Bm  = element_array_inverse_equilibrium_position[K_index]\n",
    "f   = compute_nodal_elastic_forces(K_vertices, K_W, Bm, f = zero_mat.copy())\n",
    "f"
   ]
  },
  {
   "cell_type": "code",
   "execution_count": 11,
   "metadata": {
    "ExecuteTime": {
     "end_time": "2020-12-06T20:39:29.230494Z",
     "start_time": "2020-12-06T20:39:29.203713Z"
    },
    "hidden": true
   },
   "outputs": [
    {
     "data": {
      "text/plain": [
       "array([ 0.        ,  0.        , -0.46209812])"
      ]
     },
     "execution_count": 11,
     "metadata": {},
     "output_type": "execute_result"
    }
   ],
   "source": [
    "f[0]"
   ]
  },
  {
   "cell_type": "code",
   "execution_count": 12,
   "metadata": {
    "ExecuteTime": {
     "end_time": "2020-12-06T20:39:33.459204Z",
     "start_time": "2020-12-06T20:39:33.434255Z"
    },
    "hidden": true
   },
   "outputs": [
    {
     "data": {
      "text/plain": [
       "array([-0.61552453,  0.23104906,  0.23104906])"
      ]
     },
     "execution_count": 12,
     "metadata": {},
     "output_type": "execute_result"
    }
   ],
   "source": [
    "f[3]"
   ]
  },
  {
   "cell_type": "code",
   "execution_count": null,
   "metadata": {
    "ExecuteTime": {
     "end_time": "2020-12-06T20:38:54.881405Z",
     "start_time": "2020-12-06T20:38:52.488Z"
    },
    "hidden": true
   },
   "outputs": [],
   "source": []
  },
  {
   "cell_type": "code",
   "execution_count": 14,
   "metadata": {
    "ExecuteTime": {
     "end_time": "2020-12-06T20:39:44.764092Z",
     "start_time": "2020-12-06T20:39:44.740016Z"
    },
    "hidden": true
   },
   "outputs": [],
   "source": [
    "# D_K = compute_D_mat(node_array_position, element_array_index, K_index)\n",
    "# X_inverse = np.linalg.inv(D_K)"
   ]
  },
  {
   "cell_type": "markdown",
   "metadata": {
    "heading_collapsed": true
   },
   "source": [
    "# Bm is not right in the trivial case!"
   ]
  },
  {
   "cell_type": "code",
   "execution_count": 15,
   "metadata": {
    "ExecuteTime": {
     "end_time": "2020-12-06T20:39:46.149478Z",
     "start_time": "2020-12-06T20:39:46.118436Z"
    },
    "hidden": true
   },
   "outputs": [
    {
     "data": {
      "text/plain": [
       "array([[ 0.,  1.,  1.],\n",
       "       [ 0.,  1., -1.],\n",
       "       [-2.,  0.,  0.],\n",
       "       [ 2.,  0.,  0.]])"
      ]
     },
     "execution_count": 15,
     "metadata": {},
     "output_type": "execute_result"
    }
   ],
   "source": [
    "# X = np.array([[0, 0, 1], [0, 1, 0],\n",
    "#                   [-1, 0, 0], [+1, 0, 0]], dtype=float)\n",
    "X = np.array([[0, 1, 1], [0, 1, -1],\n",
    "                  [-1, 0, 0], [+1, 0, 0]], dtype=float)\n",
    "x = X.copy()\n",
    "x[:,0] *= 2\n",
    "elements = np.array([[0,1,2,3]])\n",
    "K_index = 0\n",
    "K_W = compute_element_volume(node_array_position=x, element_array_index=elements, K_index=K_index)\n",
    "Ka = elements[K_index]\n",
    "\n",
    "Bm = compute_inverse_position(node_array_position=X, element_array_index=elements, K_index=K_index)\n",
    "# Bm  = element_array_inverse_equilibrium_position[K_index]\n",
    "K_vertices = x[Ka]\n",
    "x"
   ]
  },
  {
   "cell_type": "code",
   "execution_count": 16,
   "metadata": {
    "ExecuteTime": {
     "end_time": "2020-12-06T20:39:47.026812Z",
     "start_time": "2020-12-06T20:39:47.002096Z"
    },
    "hidden": true
   },
   "outputs": [],
   "source": [
    "Dm = get_D_mat(X[Ka])\n",
    "Bm = np.linalg.inv(Dm)\n",
    "Ds = get_D_mat(x[Ka])\n",
    "# \tX_inverse = np.linalg.inv(D_K)"
   ]
  },
  {
   "cell_type": "code",
   "execution_count": 17,
   "metadata": {
    "ExecuteTime": {
     "end_time": "2020-12-06T20:39:47.677393Z",
     "start_time": "2020-12-06T20:39:47.649403Z"
    },
    "hidden": true
   },
   "outputs": [],
   "source": [
    "F = Ds @ Bm\n",
    "# P = calc_P(F)\n",
    "FT = np.linalg.inv(F.T)\n",
    "J = np.linalg.det(F)\n",
    "P = mu * (F - mu * FT) + lam * np.log(J) * FT"
   ]
  },
  {
   "cell_type": "code",
   "execution_count": 18,
   "metadata": {
    "ExecuteTime": {
     "end_time": "2020-12-06T20:39:48.259994Z",
     "start_time": "2020-12-06T20:39:48.230273Z"
    },
    "hidden": true
   },
   "outputs": [
    {
     "data": {
      "text/plain": [
       "array([[-1., -1., -2.],\n",
       "       [ 1.,  1.,  0.],\n",
       "       [ 1., -1.,  0.]])"
      ]
     },
     "execution_count": 18,
     "metadata": {},
     "output_type": "execute_result"
    }
   ],
   "source": [
    "Dm"
   ]
  },
  {
   "cell_type": "code",
   "execution_count": 19,
   "metadata": {
    "ExecuteTime": {
     "end_time": "2020-12-06T20:39:48.945339Z",
     "start_time": "2020-12-06T20:39:48.921488Z"
    },
    "hidden": true
   },
   "outputs": [],
   "source": [
    "\n",
    "# K_vertices = X[Ka]\n",
    "# x1  = K_vertices[0,0];y1 = K_vertices[0,1];z1 = K_vertices[0,2]\n",
    "# x2  = K_vertices[1,0];y2 = K_vertices[1,1];z2 = K_vertices[1,2]\n",
    "# x3  = K_vertices[2,0];y3 = K_vertices[2,1];z3 = K_vertices[2,2]\n",
    "# x4  = K_vertices[3,0];y4 = K_vertices[3,1];z4 = K_vertices[3,2]\n",
    "# D = np.array([\n",
    "#       [x1-x4,x2-x4,x3-x4],\n",
    "#       [y1-y4,y2-y4,y3-y4],\n",
    "#       [z1-z4,z2-z4,z3-z4]])\n",
    "# D"
   ]
  },
  {
   "cell_type": "code",
   "execution_count": 20,
   "metadata": {
    "ExecuteTime": {
     "end_time": "2020-12-06T20:39:49.467408Z",
     "start_time": "2020-12-06T20:39:49.441658Z"
    },
    "hidden": true
   },
   "outputs": [
    {
     "name": "stdout",
     "output_type": "stream",
     "text": [
      "[[2. 0. 0.]\n",
      " [0. 1. 0.]\n",
      " [0. 0. 1.]]\n",
      "[[1.84657359 0.         0.        ]\n",
      " [0.         0.69314718 0.        ]\n",
      " [0.         0.         0.69314718]]\n"
     ]
    }
   ],
   "source": [
    "print(F)\n",
    "print(P)"
   ]
  },
  {
   "cell_type": "code",
   "execution_count": 21,
   "metadata": {
    "ExecuteTime": {
     "end_time": "2020-12-06T20:39:50.048484Z",
     "start_time": "2020-12-06T20:39:50.021882Z"
    },
    "hidden": true
   },
   "outputs": [
    {
     "data": {
      "text/plain": [
       "array([[ 0.        , -1.23104906, -1.23104906],\n",
       "       [ 0.        , -0.46209812,  0.46209812],\n",
       "       [ 0.46209812,  0.46209812,  0.        ]])"
      ]
     },
     "execution_count": 21,
     "metadata": {},
     "output_type": "execute_result"
    }
   ],
   "source": [
    "H = -K_W * P @ Bm\n",
    "H"
   ]
  },
  {
   "cell_type": "code",
   "execution_count": 22,
   "metadata": {
    "ExecuteTime": {
     "end_time": "2020-12-06T20:39:50.831908Z",
     "start_time": "2020-12-06T20:39:50.802080Z"
    },
    "hidden": true
   },
   "outputs": [
    {
     "data": {
      "text/plain": [
       "array([ 0.        , -1.23104906, -1.23104906])"
      ]
     },
     "execution_count": 22,
     "metadata": {},
     "output_type": "execute_result"
    }
   ],
   "source": [
    "H[0]"
   ]
  },
  {
   "cell_type": "code",
   "execution_count": 23,
   "metadata": {
    "ExecuteTime": {
     "end_time": "2020-12-06T20:39:51.487400Z",
     "start_time": "2020-12-06T20:39:51.457377Z"
    },
    "hidden": true
   },
   "outputs": [
    {
     "name": "stdout",
     "output_type": "stream",
     "text": [
      "does f[2] = -f[3] in the x direction?\n"
     ]
    },
    {
     "data": {
      "text/plain": [
       "array([[ 0.        , -0.46209812, -0.46209812],\n",
       "       [ 0.        , -0.46209812,  0.46209812],\n",
       "       [ 1.23104906,  0.46209812,  0.        ],\n",
       "       [-1.23104906,  0.46209812,  0.        ]])"
      ]
     },
     "execution_count": 23,
     "metadata": {},
     "output_type": "execute_result"
    }
   ],
   "source": [
    "H = -K_W * P @ Bm.T\n",
    "H = H.T\n",
    "\n",
    "print('does f[2] = -f[3] in the x direction?')\n",
    "f = zero_mat.copy()\n",
    "f[0] += H[0]\n",
    "f[1] += H[1]\n",
    "f[2] += H[2]\n",
    "f[3] += (-H[0] -H[1] -H[2])\n",
    "\n",
    "# f[0] = H[0]\n",
    "# f[1] = H[1]\n",
    "# f[2] = H[2]\n",
    "# f[3] = (-H[0] -H[1] -H[2])\n",
    "\n",
    "f"
   ]
  },
  {
   "cell_type": "code",
   "execution_count": 24,
   "metadata": {
    "ExecuteTime": {
     "end_time": "2020-12-06T20:39:52.599682Z",
     "start_time": "2020-12-06T20:39:52.573102Z"
    },
    "hidden": true
   },
   "outputs": [
    {
     "data": {
      "text/plain": [
       "array([[ 0.        ,  0.        ,  1.23104906],\n",
       "       [-0.46209812, -0.46209812,  0.46209812],\n",
       "       [-0.46209812,  0.46209812,  0.        ]])"
      ]
     },
     "execution_count": 24,
     "metadata": {},
     "output_type": "execute_result"
    }
   ],
   "source": [
    "H.T"
   ]
  },
  {
   "cell_type": "code",
   "execution_count": 25,
   "metadata": {
    "ExecuteTime": {
     "end_time": "2020-12-06T20:39:53.273634Z",
     "start_time": "2020-12-06T20:39:53.241965Z"
    },
    "hidden": true
   },
   "outputs": [
    {
     "data": {
      "text/plain": [
       "array([[ 0.,  1.,  1.],\n",
       "       [ 0.,  1., -1.],\n",
       "       [-1.,  0.,  0.],\n",
       "       [ 1.,  0.,  0.]])"
      ]
     },
     "execution_count": 25,
     "metadata": {},
     "output_type": "execute_result"
    }
   ],
   "source": [
    "X"
   ]
  },
  {
   "cell_type": "code",
   "execution_count": 26,
   "metadata": {
    "ExecuteTime": {
     "end_time": "2020-12-06T20:39:59.088803Z",
     "start_time": "2020-12-06T20:39:59.062441Z"
    },
    "hidden": true
   },
   "outputs": [
    {
     "data": {
      "text/plain": [
       "1.333333333333333"
      ]
     },
     "execution_count": 26,
     "metadata": {},
     "output_type": "execute_result"
    }
   ],
   "source": [
    "#from careful case\n",
    "compute_element_volume(node_array_position=x, element_array_index=elements, K_index=K_index)"
   ]
  },
  {
   "cell_type": "code",
   "execution_count": 27,
   "metadata": {
    "ExecuteTime": {
     "end_time": "2020-12-06T20:40:01.907487Z",
     "start_time": "2020-12-06T20:40:01.882429Z"
    },
    "hidden": true
   },
   "outputs": [
    {
     "name": "stdout",
     "output_type": "stream",
     "text": [
      "(array([[ 0.,  1.,  1.],\n",
      "       [ 0.,  1., -1.],\n",
      "       [-2.,  0.,  0.],\n",
      "       [ 2.,  0.,  0.]]), 1.333333333333333, array([[-0. ,  0.5,  0.5],\n",
      "       [-0. ,  0.5, -0.5],\n",
      "       [-0.5, -0.5, -0. ]]), array([[0., 0., 0.],\n",
      "       [0., 0., 0.],\n",
      "       [0., 0., 0.],\n",
      "       [0., 0., 0.]]), array([[ 0.        , -0.46209812, -0.46209812],\n",
      "       [ 0.        , -0.46209812,  0.46209812],\n",
      "       [ 1.23104906,  0.46209812,  0.        ],\n",
      "       [-1.23104906,  0.46209812,  0.        ]]))\n"
     ]
    }
   ],
   "source": [
    "#from careful case\n",
    "print( (K_vertices, K_W, Bm, zero_mat.copy(), f ) )  "
   ]
  },
  {
   "cell_type": "code",
   "execution_count": 28,
   "metadata": {
    "ExecuteTime": {
     "end_time": "2020-12-06T20:40:03.301542Z",
     "start_time": "2020-12-06T20:40:03.270650Z"
    },
    "hidden": true
   },
   "outputs": [
    {
     "name": "stdout",
     "output_type": "stream",
     "text": [
      "(array([[ 0.,  1.,  1.],\n",
      "       [ 0.,  1., -1.],\n",
      "       [-2.,  0.,  0.],\n",
      "       [ 2.,  0.,  0.]]), 1.333333333333333, array([[-0. ,  0.5,  0.5],\n",
      "       [-0. ,  0.5, -0.5],\n",
      "       [-0.5, -0.5, -0. ]]), array([[0., 0., 0.],\n",
      "       [0., 0., 0.],\n",
      "       [0., 0., 0.],\n",
      "       [0., 0., 0.]]), array([[ 0.        , -0.46209812, -0.46209812],\n",
      "       [ 0.        , -0.46209812,  0.46209812],\n",
      "       [ 1.23104906,  0.46209812,  0.        ],\n",
      "       [-1.23104906,  0.46209812,  0.        ]]))\n"
     ]
    }
   ],
   "source": [
    "#from current case \n",
    "print( (K_vertices, K_W, Bm, zero_mat.copy(), f ) )  "
   ]
  },
  {
   "cell_type": "code",
   "execution_count": 29,
   "metadata": {
    "ExecuteTime": {
     "end_time": "2020-12-06T20:40:04.698371Z",
     "start_time": "2020-12-06T20:40:04.678058Z"
    },
    "hidden": true
   },
   "outputs": [],
   "source": [
    "#from current case \n"
   ]
  },
  {
   "cell_type": "code",
   "execution_count": null,
   "metadata": {
    "ExecuteTime": {
     "end_time": "2020-12-06T20:38:54.908515Z",
     "start_time": "2020-12-06T20:38:52.517Z"
    },
    "hidden": true
   },
   "outputs": [],
   "source": []
  },
  {
   "cell_type": "markdown",
   "metadata": {
    "heading_collapsed": true
   },
   "source": [
    "# dev rayleigh damping\n"
   ]
  },
  {
   "cell_type": "code",
   "execution_count": 44,
   "metadata": {
    "ExecuteTime": {
     "end_time": "2020-12-06T20:50:41.031953Z",
     "start_time": "2020-12-06T20:50:41.000454Z"
    },
    "hidden": true
   },
   "outputs": [],
   "source": [
    "comp_nodal_elastic_forces = get_comp_nodal_elastic_forces(mu, lam)\n",
    "velocities = 0.1*x"
   ]
  },
  {
   "cell_type": "code",
   "execution_count": 32,
   "metadata": {
    "ExecuteTime": {
     "end_time": "2020-12-06T20:43:49.226425Z",
     "start_time": "2020-12-06T20:43:49.195604Z"
    },
    "hidden": true
   },
   "outputs": [
    {
     "ename": "NameError",
     "evalue": "name 'element_array_inverse_equilibrium_position' is not defined",
     "output_type": "error",
     "traceback": [
      "\u001b[0;31m---------------------------------------------------------------------------\u001b[0m",
      "\u001b[0;31mNameError\u001b[0m                                 Traceback (most recent call last)",
      "\u001b[0;32m<ipython-input-32-b79e2746d7fc>\u001b[0m in \u001b[0;36m<module>\u001b[0;34m\u001b[0m\n\u001b[1;32m     13\u001b[0m \u001b[0;31m#               return f_out\u001b[0m\u001b[0;34m\u001b[0m\u001b[0;34m\u001b[0m\u001b[0;34m\u001b[0m\u001b[0m\n\u001b[1;32m     14\u001b[0m \u001b[0;31m#       return comp_nodal_elastic_forces\u001b[0m\u001b[0;34m\u001b[0m\u001b[0;34m\u001b[0m\u001b[0;34m\u001b[0m\u001b[0m\n\u001b[0;32m---> 15\u001b[0;31m \u001b[0mBm\u001b[0m  \u001b[0;34m=\u001b[0m \u001b[0melement_array_inverse_equilibrium_position\u001b[0m\u001b[0;34m[\u001b[0m\u001b[0mK_index\u001b[0m\u001b[0;34m]\u001b[0m\u001b[0;34m\u001b[0m\u001b[0;34m\u001b[0m\u001b[0m\n\u001b[0m",
      "\u001b[0;31mNameError\u001b[0m: name 'element_array_inverse_equilibrium_position' is not defined"
     ]
    }
   ],
   "source": [
    "# def get_comp_nodal_damping_forces(mu, lam):\n",
    "# \tcalc_P = get_calc_P(mu, lam)\n",
    "\n",
    "# \tdef comp_nodal_elastic_forces(K_W, Bm, Ds, f_out):\n",
    "# \t\tF = Ds @ Bm\n",
    "# \t\tP = calc_P(F)\n",
    "# \t\tH = -K_W * P @ Bm.T\n",
    "# \t\tH = H.T\n",
    "# \t\tf_out[0] += H[0]\n",
    "# \t\tf_out[1] += H[1]\n",
    "# \t\tf_out[2] += H[2]\n",
    "# \t\tf_out[3] += (-H[0] -H[1] -H[2])\n",
    "# \t\treturn f_out\n",
    "# \treturn comp_nodal_elastic_forces\n",
    "Bm  = element_array_inverse_equilibrium_position[K_index]"
   ]
  },
  {
   "cell_type": "code",
   "execution_count": 46,
   "metadata": {
    "ExecuteTime": {
     "end_time": "2020-12-06T20:50:59.035380Z",
     "start_time": "2020-12-06T20:50:59.008084Z"
    },
    "hidden": true
   },
   "outputs": [],
   "source": [
    "gamma = 1.\n",
    "K_index = 0\n",
    "Ka = elements[K_index]\n",
    "K_vertices = x[Ka]\n",
    "K_velocities = velocities[Ka]\n",
    "Ds  = get_D_mat(K_vertices)\n",
    "# Bm  = element_array_inverse_equilibrium_position[K_index]\n",
    "Bm = compute_inverse_position(node_array_position=X, element_array_index=elements, K_index=K_index)\n",
    "K_W = get_element_volume(Ds)\n",
    "\n",
    "# delta_Ds = \n",
    "delta_f = zero_mat.copy()"
   ]
  },
  {
   "cell_type": "code",
   "execution_count": 50,
   "metadata": {
    "ExecuteTime": {
     "end_time": "2020-12-06T20:51:57.376866Z",
     "start_time": "2020-12-06T20:51:57.352415Z"
    },
    "hidden": true
   },
   "outputs": [],
   "source": [
    "compute_nodal_elastic_force_differentials = get_compute_nodal_elastic_force_differentials(mu, lam)"
   ]
  },
  {
   "cell_type": "code",
   "execution_count": 51,
   "metadata": {
    "ExecuteTime": {
     "end_time": "2020-12-06T20:52:07.275984Z",
     "start_time": "2020-12-06T20:52:07.251560Z"
    },
    "hidden": true
   },
   "outputs": [
    {
     "data": {
      "text/plain": [
       "<function lib.model.elastic.get_compute_nodal_elastic_force_differentials.<locals>.compute_nodal_elastic_force_differentials(delta_K_vertices, K_vertices, K_W, Bm, delta_f)>"
      ]
     },
     "execution_count": 51,
     "metadata": {},
     "output_type": "execute_result"
    }
   ],
   "source": [
    "compute_nodal_elastic_force_differentials"
   ]
  },
  {
   "cell_type": "code",
   "execution_count": null,
   "metadata": {
    "ExecuteTime": {
     "end_time": "2020-12-06T20:50:03.883879Z",
     "start_time": "2020-12-06T20:50:03.858217Z"
    },
    "hidden": true
   },
   "outputs": [],
   "source": [
    "compute_nodal_elastic_force_differentials(delta_K_vertices=-K_velocities, K_vertices, K_W, Bm, delta_f)\n"
   ]
  },
  {
   "cell_type": "code",
   "execution_count": 53,
   "metadata": {
    "ExecuteTime": {
     "end_time": "2020-12-06T20:54:21.150421Z",
     "start_time": "2020-12-06T20:54:21.125877Z"
    },
    "hidden": true
   },
   "outputs": [],
   "source": []
  },
  {
   "cell_type": "code",
   "execution_count": 97,
   "metadata": {
    "ExecuteTime": {
     "end_time": "2020-12-06T21:09:18.488264Z",
     "start_time": "2020-12-06T21:09:18.462283Z"
    },
    "hidden": true
   },
   "outputs": [],
   "source": [
    "def get_compute_nodal_elastic_force_differentials(mu,lam):\n",
    "    calc_delta_P = get_calc_delta_P(mu, lam)\n",
    "    def compute_nodal_elastic_force_differentials(delta_Ds, Ds, K_W, Bm, delta_f):\n",
    "        delta_F = delta_Ds @ Bm\n",
    "        F = Ds @ Bm\n",
    "        delta_P = calc_delta_P(delta_F, F)\n",
    "        delta_H = -K_W * delta_P @ Bm.T\n",
    "        delta_H = delta_H.T\n",
    "        delta_f[0] = delta_H[0]\n",
    "        delta_f[1] = delta_H[1]\n",
    "        delta_f[2] = delta_H[2]\n",
    "        delta_f[3] = -(delta_H[0] + delta_H[1] + delta_H[2])\n",
    "        return delta_f\n",
    "    return compute_nodal_elastic_force_differentials\n",
    "\n",
    "def get_compute_nodal_damping_forces(mu,lam,gamma):\n",
    "    compute_nodal_elastic_force_differentials = get_compute_nodal_elastic_force_differentials(mu,lam)\n",
    "    def compute_nodal_damping_forces(K_velocities, Ds, K_W, Bm,delta_f):\n",
    "        delta_Ds = get_D_mat(-K_velocities)\n",
    "        f_damping = -gamma * compute_nodal_elastic_force_differentials(delta_Ds, Ds, K_W, Bm, delta_f)\n",
    "        return f_damping\n",
    "    return compute_nodal_damping_forces"
   ]
  },
  {
   "cell_type": "code",
   "execution_count": 101,
   "metadata": {
    "ExecuteTime": {
     "end_time": "2020-12-06T21:09:32.328276Z",
     "start_time": "2020-12-06T21:09:32.296553Z"
    },
    "hidden": true
   },
   "outputs": [
    {
     "data": {
      "text/plain": [
       "array([[-0.        , -0.28712352, -0.28712352],\n",
       "       [-0.        , -0.28712352,  0.28712352],\n",
       "       [ 0.24356176,  0.28712352, -0.        ],\n",
       "       [-0.24356176,  0.28712352, -0.        ]])"
      ]
     },
     "execution_count": 101,
     "metadata": {},
     "output_type": "execute_result"
    }
   ],
   "source": [
    "f_damping = compute_nodal_damping_forces(K_velocities, Ds, K_W, Bm, delta_f=zero_mat.copy())\n",
    "f_damping"
   ]
  },
  {
   "cell_type": "code",
   "execution_count": null,
   "metadata": {
    "ExecuteTime": {
     "end_time": "2020-12-06T23:27:35.712717Z",
     "start_time": "2020-12-06T23:27:35.681076Z"
    },
    "hidden": true
   },
   "outputs": [],
   "source": []
  },
  {
   "cell_type": "markdown",
   "metadata": {
    "hidden": true
   },
   "source": [
    "__I checked that damping forces point in the opposite direction of the input velocity.__"
   ]
  },
  {
   "cell_type": "markdown",
   "metadata": {
    "heading_collapsed": true
   },
   "source": [
    "# DONE: get a mechanical energy measure of a single element"
   ]
  },
  {
   "cell_type": "code",
   "execution_count": 104,
   "metadata": {
    "ExecuteTime": {
     "end_time": "2020-12-06T21:12:43.161890Z",
     "start_time": "2020-12-06T21:12:43.135655Z"
    },
    "hidden": true
   },
   "outputs": [],
   "source": [
    "eye = np.eye(3)"
   ]
  },
  {
   "cell_type": "code",
   "execution_count": 109,
   "metadata": {
    "ExecuteTime": {
     "end_time": "2020-12-06T21:17:59.211721Z",
     "start_time": "2020-12-06T21:17:59.186903Z"
    },
    "hidden": true
   },
   "outputs": [],
   "source": [
    "# #define the isotropic invariants\n",
    "# FTF = F.T @ F\n",
    "# I1 = np.trace(FTF)\n",
    "# I2 = np.trace(FTF @ FTF)\n",
    "# # I3 = np.linalg.det(FTF) #= np.linalg.det(F) ** 2 = J **2\n",
    "# I3 = J ** 2"
   ]
  },
  {
   "cell_type": "code",
   "execution_count": 116,
   "metadata": {
    "ExecuteTime": {
     "end_time": "2020-12-06T21:21:49.553396Z",
     "start_time": "2020-12-06T21:21:49.523961Z"
    },
    "hidden": true
   },
   "outputs": [],
   "source": [
    "node_array_mass = np.array([1.,1.,1.,1.,])\n",
    "# K_masses     = node_array_mass[Ka]"
   ]
  },
  {
   "cell_type": "code",
   "execution_count": 132,
   "metadata": {
    "ExecuteTime": {
     "end_time": "2020-12-06T21:27:12.737664Z",
     "start_time": "2020-12-06T21:27:12.712584Z"
    },
    "hidden": true
   },
   "outputs": [],
   "source": [
    "#DONE: precompute mass_of_K\n",
    "mass_density = 1.\n",
    "# mass_of_K = K_W * mass_density\n",
    "\n"
   ]
  },
  {
   "cell_type": "code",
   "execution_count": 126,
   "metadata": {
    "ExecuteTime": {
     "end_time": "2020-12-06T21:24:05.656986Z",
     "start_time": "2020-12-06T21:24:05.630428Z"
    },
    "hidden": true,
    "slideshow": {
     "slide_type": "slide"
    }
   },
   "outputs": [],
   "source": [
    "#neohookean elastic energy of element\n",
    "J  = np.linalg.det(F)\n",
    "I1 = np.trace(F.T @ F)\n",
    "energy_density = mu / 2 * (I1 - 3) - mu * np.log(J) + lam / 2 * np.log(J) ** 2 \n",
    "elastic_energy = K_W * energy_density"
   ]
  },
  {
   "cell_type": "code",
   "execution_count": 133,
   "metadata": {
    "ExecuteTime": {
     "end_time": "2020-12-06T21:27:30.752254Z",
     "start_time": "2020-12-06T21:27:30.731347Z"
    },
    "hidden": true
   },
   "outputs": [],
   "source": [
    "#kinetic energy of element\n",
    "Na = 4\n",
    "kinetic_energy = 0.\n",
    "for a in range(Na):\n",
    "    kinetic_energy += ( mass_of_K / Na ) * np.dot(K_velocities[a],K_velocities[a])\n",
    "kinetic_energy /= 2"
   ]
  },
  {
   "cell_type": "code",
   "execution_count": 134,
   "metadata": {
    "ExecuteTime": {
     "end_time": "2020-12-06T21:27:39.669421Z",
     "start_time": "2020-12-06T21:27:39.648117Z"
    },
    "hidden": true
   },
   "outputs": [],
   "source": [
    "K_energy = kinetic_energy + elastic_energy"
   ]
  },
  {
   "cell_type": "code",
   "execution_count": 138,
   "metadata": {
    "ExecuteTime": {
     "end_time": "2020-12-06T22:13:41.672039Z",
     "start_time": "2020-12-06T22:13:41.641668Z"
    },
    "hidden": true
   },
   "outputs": [
    {
     "data": {
      "text/plain": [
       "1.333333333333333"
      ]
     },
     "execution_count": 138,
     "metadata": {},
     "output_type": "execute_result"
    }
   ],
   "source": [
    "mass_of_K"
   ]
  },
  {
   "cell_type": "code",
   "execution_count": 140,
   "metadata": {
    "ExecuteTime": {
     "end_time": "2020-12-06T22:17:01.189817Z",
     "start_time": "2020-12-06T22:17:01.167861Z"
    },
    "hidden": true
   },
   "outputs": [],
   "source": [
    "# def comp_elastic_energy (  mass_of_K, K_W, Bm, Ds, mu, lam ):\n",
    "#     '''elastic potential energy of element'''\n",
    "#     F = Ds @ Bm\n",
    "#     J  = np.linalg.det(F)\n",
    "#     I1 = np.trace(F.T @ F)\n",
    "#     energy_density = mu / 2 * (I1 - 3) - mu * np.log(J) + lam / 2 * np.log(J) ** 2 \n",
    "#     elastic_energy = K_W * energy_density\n",
    "#     return elastic_energy\n",
    "\n",
    "# def comp_kinetic_energy ( mass_of_K, K_velocities):\n",
    "#     '''kinetic energy of element'''\n",
    "#     Na = 4\n",
    "#     kinetic_energy = 0.\n",
    "#     for a in range(Na):\n",
    "#         kinetic_energy += ( mass_of_K / Na ) * np.dot(K_velocities[a],K_velocities[a])\n",
    "#     kinetic_energy /= 2\n",
    "#     return kinetic_energy\n",
    "\n",
    "# def comp_element_energy ( mass_of_K, K_velocities, K_W, Bm, Ds, mu, lam):\n",
    "#     return comp_kinetic_energy ( mass_of_K, K_velocities) + comp_elastic_energy (  mass_of_K, K_W, Bm, Ds, mu, lam )"
   ]
  },
  {
   "cell_type": "code",
   "execution_count": 145,
   "metadata": {
    "ExecuteTime": {
     "end_time": "2020-12-06T22:18:38.046194Z",
     "start_time": "2020-12-06T22:18:38.022783Z"
    },
    "hidden": true
   },
   "outputs": [],
   "source": [
    "# mass_of_K = element_array_mass[K_index]\n"
   ]
  },
  {
   "cell_type": "markdown",
   "metadata": {
    "heading_collapsed": true
   },
   "source": [
    "# TODO: make time step size measures "
   ]
  },
  {
   "cell_type": "code",
   "execution_count": 3,
   "metadata": {
    "ExecuteTime": {
     "end_time": "2020-12-07T07:10:03.133810Z",
     "start_time": "2020-12-07T07:10:01.255622Z"
    },
    "hidden": true
   },
   "outputs": [
    {
     "name": "stderr",
     "output_type": "stream",
     "text": [
      "face_normals all zero, ignoring!\n"
     ]
    },
    {
     "name": "stdout",
     "output_type": "stream",
     "text": [
      "['element_array_time', 'element_array_index', 'element_array_mass', 'element_array_volume', 'element_array_inverse_equilibrium_position', 'node_array_equilibrium_position', 'node_array_time', 'node_array_position', 'node_array_momentum', 'node_array_mass', 'node_array_volume']\n"
     ]
    }
   ],
   "source": [
    "os.chdir(nb_dir)\n",
    "# input_file_name = f'../data/spherical_meshes/spherical_mesh_64.stl'input_file_name = f'../data/spherical_meshes/spherical_mesh_64.stl'\n",
    "input_file_name = f'../data/spherical_meshes/spherical_mesh_1000.stl'\n",
    "tme = 0.\n",
    "mass_density=1.\n",
    "dict_values_system = initialize_system(input_file_name, time_initial=tme, mass_density=mass_density)\n",
    "locals().update(dict_values_system)\n",
    "print(list(dict_values_system.keys()))\n",
    "\n",
    "#define Lamé parameters\n",
    "mu = 1.; lam = 1.; \n",
    "#define coefficient for Rayleigh damping\n",
    "gamma = 1.;\n",
    "\n",
    "#define adaptive time stepping absolute tolerances\n",
    "atol_x = 1e-4; atol_v = 1e-4; \n",
    "btol_x = 1e-12; btol_v = 1e-12; \n",
    "\n",
    "#get method of computing elastic forces \n",
    "zero_mat = np.zeros((4,3))\n",
    "# calc_P = get_calc_P(mu, lam)\n",
    "# compute_nodal_damping_forces  = get_compute_nodal_damping_forces(mu,lam,gamma)\n",
    "# comp_nodal_elastic_forces = get_comp_nodal_elastic_forces(mu, lam)\n",
    "\n",
    "elements = element_array_index\n",
    "vertices = node_array_position\n",
    "\n",
    "N_elements = elements.shape[0]\n",
    "N_vertices = vertices.shape[0]\n",
    "\n",
    "#initialize stepsizes\n",
    "stepsize_init = 0.001\n",
    "element_array_stepsize = np.zeros_like(element_array_time) + stepsize_init\n",
    "element_array_count_calls_one_step = np.zeros_like(element_array_time,dtype=int)\n",
    "element_array_count_config_updates = np.zeros_like(element_array_time,dtype=int)\n",
    "#perturb momentum in the outward x direction and let it run overnight with a small timestep\n",
    "momentum = node_array_momentum.copy()\n",
    "velocities = momentum.copy()\n",
    "for j in range(N_vertices):\n",
    "    velocities[j] /= node_array_mass[j]\n",
    "v_scale = 1\n",
    "velocities[:,0] = v_scale * vertices[:,0].copy()\n",
    "\n",
    "#initialize containers of measures\n",
    "volume_lst = []\n",
    "energy_lst = []\n",
    "tme_lst    = []\n",
    "stepsize_mean_lst   = []\n",
    "stepsize_std_lst    = []\n",
    "stepsize_median_lst = []"
   ]
  },
  {
   "cell_type": "code",
   "execution_count": 6,
   "metadata": {
    "ExecuteTime": {
     "end_time": "2020-12-07T07:11:56.597739Z",
     "start_time": "2020-12-07T07:11:56.564775Z"
    },
    "hidden": true
   },
   "outputs": [],
   "source": [
    "#basic steapsize measures\n",
    "stepsize_mean = np.mean(element_array_stepsize)\n",
    "stepsize_std = np.std(element_array_stepsize)\n",
    "stepsize_median = np.median(element_array_stepsize)\n",
    "\n",
    "#TODO: pass element_array_count_calls_one_step to the integrate_system_... function and keep track of how many times each element is called to time step\n",
    "#TODO: keep track of how many times each element config is updated with element_array_count_config_updates\n"
   ]
  },
  {
   "cell_type": "code",
   "execution_count": 15,
   "metadata": {
    "ExecuteTime": {
     "end_time": "2020-12-07T07:26:28.341605Z",
     "start_time": "2020-12-07T07:26:28.053359Z"
    },
    "hidden": true
   },
   "outputs": [],
   "source": [
    "# from IPython.utils import io\n",
    "\n",
    "# def get_img_of_system(vertices, input_file_name):\n",
    "#     with io.capture_output() as captured:\n",
    "#         img = plot_mesh(vertices, input_file_name=input_file_name);\n",
    "#     return img"
   ]
  },
  {
   "cell_type": "code",
   "execution_count": 12,
   "metadata": {
    "ExecuteTime": {
     "end_time": "2020-12-07T07:25:03.592342Z",
     "start_time": "2020-12-07T07:25:03.564889Z"
    },
    "hidden": true
   },
   "outputs": [],
   "source": [
    "from lib.viewer.vtk_viewer_of_mesh import *\n",
    "\n",
    "img = plot_mesh(vertices, input_file_name=input_file_name, darkmode=False)"
   ]
  },
  {
   "cell_type": "code",
   "execution_count": null,
   "metadata": {
    "hidden": true
   },
   "outputs": [],
   "source": [
    "img = get_img_of_system(vertices, input_file_name, darkmode = False)"
   ]
  },
  {
   "cell_type": "markdown",
   "metadata": {},
   "source": [
    "# TODO: calibrate neural step times with some loss scale \n",
    "(squared or linear)?  does it matter!?"
   ]
  },
  {
   "cell_type": "code",
   "execution_count": 3,
   "metadata": {
    "ExecuteTime": {
     "end_time": "2020-12-13T07:24:08.764892Z",
     "start_time": "2020-12-13T07:24:07.516042Z"
    }
   },
   "outputs": [
    {
     "name": "stderr",
     "output_type": "stream",
     "text": [
      "face_normals all zero, ignoring!\n"
     ]
    },
    {
     "name": "stdout",
     "output_type": "stream",
     "text": [
      "['element_array_time', 'element_array_index', 'element_array_mass', 'element_array_volume', 'element_array_inverse_equilibrium_position', 'node_array_equilibrium_position', 'node_array_time', 'node_array_position', 'node_array_momentum', 'node_array_mass', 'node_array_volume']\n"
     ]
    }
   ],
   "source": [
    "#define Lamé parameters\n",
    "mu = 1.; lam = 10.; \n",
    "#define coefficient for Rayleigh damping\n",
    "gamma = .0#1.#1.;\n",
    "#define adaptive time stepping absolute tolerances\n",
    "salience = 2#128#32\n",
    "learning_rate = np.log(salience) #np.log(16) #np.log(2)\n",
    "lasso_fraction = 0.5#0.5\n",
    "v_scale = 2.\n",
    "mass_density=1.\n",
    "stepsize_init = 0.0001#0.00001  #0.0001\n",
    "atol_x = 1e-08#0.0001#0.001#1e-7; \n",
    "atol_v = 1e-08#0.0001#0.001#1e-7; \n",
    "btol_x = 1e-09#0.00001#0.001#1e-10; \n",
    "btol_v = 1e-09#0.00001#0.001#1e-10; \n",
    "input_file_name = f'../data/spherical_meshes/spherical_mesh_64.stl'#path to mesh\n",
    "data_folder =  os.path.join(nb_dir,'../data/mov_csv')#where to save results\n",
    "\n",
    "\n",
    "data_fn = f\"dormand_prince_asynch_fixed_lr_{os.path.basename(input_file_name).replace('.stl',f'_mu_{mu}_lambda_{lam}_gamma_{gamma}vscale_{v_scale}_stepsizeinit_{stepsize_init}')}_salience_{salience}_atolx_{atol_x}.csv\"\n",
    "TEXTfoo = lambda N_vertices,N_elements: f\"\"\"\n",
    "TEXT=$'an inward squish\n",
    "        Asynchronous Variational Integrator \n",
    "        Dormand–Prince Method\n",
    "        \n",
    "        Undamped Neohookean Model\n",
    "        mu {mu}  lambda {lam} gamma {gamma}\n",
    "        \n",
    "        Spherical Mesh\n",
    "        Num. Vertices {N_vertices}\n",
    "        Num. Elements {N_elements}\n",
    "'\"\"\"\n",
    "\n",
    "# data_fn = f\"avi_esynchronous_fixed_lr_a_equal_b_{os.path.basename(input_file_name).replace('.stl',f'_mu_{mu}_lambda_{lam}_gamma_{gamma}_vscale_{v_scale}_stepsizeinit_{stepsize_init}')}_salience_{salience}_atolx_{atol_x}.csv\"\n",
    "# data_fn = f\"avi_ns_fixed_lr_a_equal_b_{os.path.basename(input_file_name).replace('.stl',f'_mu_{mu}_lambda_{lam}_gamma_{gamma}vscale_{v_scale}_stepsizeinit_{stepsize_init}')}_salience_{salience}_atolx_{atol_x}.csv\"\n",
    "# data_fn = f\"dormand_prince_synch_fixed_lr_{os.path.basename(input_file_name).replace('.stl',f'_mu_{mu}_lambda_{lam}_gamma_{gamma}vscale_{v_scale}_stepsizeinit_{stepsize_init}')}_salience_{salience}_atolx_{atol_x}.csv\"\n",
    "save_folder_vid = '../vid/tmp'\n",
    "folder_vid = '../vid'\n",
    "# data_fn_counts = data_fn.replace(\"s_\",\"s_counts_\").replace('.csv','.npz')\n",
    "data_fn_counts = data_fn.replace(\"s_\",\"s_counts_\").replace('.csv','.npy')\n",
    "os.chdir(nb_dir)\n",
    "# input_file_name = f'../data/spherical_meshes/spherical_mesh_64.stl'input_file_name = f'../data/spherical_meshes/spherical_mesh_64.stl'\n",
    "# input_file_name = f'../data/spherical_meshes/spherical_mesh_1000.stl'\n",
    "input_file_name = os.path.join(nb_dir,input_file_name)\n",
    "tme = 0.\n",
    "dict_values_system = initialize_system(input_file_name, time_initial=tme, mass_density=mass_density)\n",
    "locals().update(dict_values_system)\n",
    "N_elements = element_array_index.shape[0]\n",
    "N_vertices = node_array_position.shape[0]\n",
    "TEXT = TEXTfoo(N_vertices,N_elements)\n",
    "print(list(dict_values_system.keys()))\n",
    "\n",
    "#header to start of video\n",
    "# TEXT = '''TEXT=$'Synchronous Variational Integrator\\nDamped Neohookean Model\\n(inward squish)''''\n",
    "# TEXT = f\"\"\"\n",
    "# TEXT=$'an inward squish\n",
    "#         Synchronous Variational Integrator \n",
    "#         Explicit Newmark Method\n",
    "        \n",
    "#         Undamped Neohookean Model\n",
    "#         mu {mu}  lambda {lam} gamma {gamma}\n",
    "        \n",
    "#         Spherical Mesh\n",
    "#         Num. Vertices {N_vertices}\n",
    "#         Num. Elements {N_elements}\n",
    "# '\"\"\"\n",
    "\n",
    "#write header to file\n",
    "# print(TEXT)\n",
    "# Dormand–Prince Method\n",
    "# Explicit Newmark Method\n",
    "# Implicit Midpoint Rule"
   ]
  },
  {
   "cell_type": "code",
   "execution_count": 4,
   "metadata": {
    "ExecuteTime": {
     "end_time": "2020-12-13T07:24:21.714326Z",
     "start_time": "2020-12-13T07:24:21.683307Z"
    }
   },
   "outputs": [
    {
     "name": "stdout",
     "output_type": "stream",
     "text": [
      "learning_bins are [3.05175781e-09 6.10351563e-09 1.22070313e-08 2.44140625e-08\n",
      " 4.88281250e-08 9.76562500e-08 1.95312500e-07 3.90625000e-07\n",
      " 7.81250000e-07 1.56250000e-06 3.12500000e-06 6.25000000e-06\n",
      " 1.25000000e-05 2.50000000e-05 5.00000000e-05 1.00000000e-04\n",
      " 2.00000000e-04 4.00000000e-04 8.00000000e-04 1.60000000e-03\n",
      " 3.20000000e-03 6.40000000e-03 1.28000000e-02 2.56000000e-02\n",
      " 5.12000000e-02 1.02400000e-01 2.04800000e-01 4.09600000e-01\n",
      " 8.19200000e-01 1.63840000e+00]\n"
     ]
    }
   ],
   "source": [
    "#initialize system\n",
    "tauK = element_array_time\n",
    "tau = node_array_time\n",
    "\n",
    "#get method of computing elastic forces \n",
    "zero_mat = np.zeros((4,3))\n",
    "# calc_P = get_calc_P(mu, lam)\n",
    "# compute_nodal_damping_forces  = get_compute_nodal_damping_forces(mu,lam,gamma)\n",
    "# comp_nodal_elastic_forces = get_comp_nodal_elastic_forces(mu, lam)\n",
    "\n",
    "elements = element_array_index\n",
    "vertices = node_array_position\n",
    "\n",
    "#initialize stepsizes of simulation\n",
    "element_array_stepsize = np.zeros_like(element_array_time) + stepsize_init\n",
    "element_array_count_calls_one_step = np.zeros_like(element_array_time,dtype=int)\n",
    "element_array_count_config_updates = np.zeros_like(element_array_time,dtype=int)\n",
    "momentum = node_array_momentum.copy()\n",
    "velocities = momentum.copy()\n",
    "for j in range(N_vertices):\n",
    "    velocities[j] /= node_array_mass[j]\n",
    "\n",
    "\n",
    "# #perturb momentum in the x direction and let it run overnight with a small timestep  \n",
    "velocities[:,0] = -v_scale * vertices[:,0].copy()\n",
    "\n",
    "#initialize containers of measures\n",
    "volume_lst = []\n",
    "energy_lst = []\n",
    "tme_lst    = []\n",
    "stepsize_mean_lst   = []\n",
    "stepsize_std_lst    = []\n",
    "stepsize_median_lst = []\n",
    "stepsize_count_lst = []\n",
    "frac_lb = lambda i: np.exp(learning_rate*i)  ##np.exp((i+.5)*learning_rate/10)\n",
    "learning_bins = np.array([stepsize_init*frac_lb(i) for i in np.arange(-15,15)])\n",
    "\n",
    "# learning_bins = np.array([stepsize_init*np.exp((i+.5)*learning_rate) for i in np.arange(-3,3)])\n",
    "print(f\"learning_bins are {learning_bins}\")"
   ]
  },
  {
   "cell_type": "code",
   "execution_count": 6,
   "metadata": {
    "ExecuteTime": {
     "end_time": "2020-12-13T07:25:00.236643Z",
     "start_time": "2020-12-13T07:25:00.212472Z"
    }
   },
   "outputs": [],
   "source": [
    "# get_compute_next_stepsize_neural_learning_rate\n",
    "one_step_explicit_dormand_prince_method=get_one_step_explicit_dormand_prince_method(mu, lam, gamma)"
   ]
  },
  {
   "cell_type": "code",
   "execution_count": 72,
   "metadata": {
    "ExecuteTime": {
     "end_time": "2020-12-13T07:40:56.275266Z",
     "start_time": "2020-12-13T07:40:56.252073Z"
    }
   },
   "outputs": [],
   "source": [
    "h = 0.001\n",
    "K_index = 700#7\n",
    "Bm = element_array_inverse_equilibrium_position[K_index]\n",
    "Ka = element_array_index[K_index]\n",
    "x = vertices[Ka].copy()\n",
    "v = velocities[Ka].copy()\n",
    "tau_of_K = tauK[K_index]\n",
    "K_tau = tau[Ka].copy()\n",
    "K_masses = element_array_mass[Ka]\n",
    "Ds = get_D_mat(x)\n",
    "W = get_element_volume(Ds)\n",
    "mass_of_K  = element_array_mass[K_index]\n"
   ]
  },
  {
   "cell_type": "code",
   "execution_count": 85,
   "metadata": {
    "ExecuteTime": {
     "end_time": "2020-12-13T07:44:08.452393Z",
     "start_time": "2020-12-13T07:44:08.420660Z"
    }
   },
   "outputs": [],
   "source": [
    "#loss =  (1.-lasso_fraction) * (Delta_energy/scale_for_Delta_energy)**2 + lasso_fraction * np.abs(Delta_energy/scale_for_Delta_energy)\n",
    "def comp_loss_given_h(h):\n",
    "    max_err, mav_err, x_out,v_out,x_err,v_err =  one_step_explicit_dormand_prince_method(h,x,v,K_masses,K_tau,tau_of_K,Bm,)\n",
    "\n",
    "    #compute energy of configuration\n",
    "    Ds = get_D_mat(x_out)\n",
    "    W = get_element_volume(Ds)\n",
    "    energy_d = comp_element_energy ( mass_of_K, v_out, W, Bm, Ds, mu, lam)\n",
    "\n",
    "    #compute energy of configuration\n",
    "    Ds = get_D_mat(x_err)\n",
    "    W = get_element_volume(Ds)\n",
    "    energy_e = comp_element_energy ( mass_of_K, v_err, W, Bm, Ds, mu, lam)\n",
    "\n",
    "    Delta_energy = energy_d-energy_e\n",
    "    # 0.00023493635278172754\n",
    "\n",
    "    loss_scale = 1e-04\n",
    "    scale_for_Delta_energy = 8e-04#2e-04\n",
    "    Delta_energy /= scale_for_Delta_energy\n",
    "    \n",
    "    loss = (1.-lasso_fraction) * Delta_energy**2 + lasso_fraction * np.abs(Delta_energy)\n",
    "    return Delta_energy#loss#"
   ]
  },
  {
   "cell_type": "code",
   "execution_count": 86,
   "metadata": {
    "ExecuteTime": {
     "end_time": "2020-12-13T07:44:08.839964Z",
     "start_time": "2020-12-13T07:44:08.814686Z"
    }
   },
   "outputs": [],
   "source": [
    "#ASSERT ^this is of order unity"
   ]
  },
  {
   "cell_type": "code",
   "execution_count": 87,
   "metadata": {
    "ExecuteTime": {
     "end_time": "2020-12-13T07:44:09.115440Z",
     "start_time": "2020-12-13T07:44:09.083311Z"
    }
   },
   "outputs": [],
   "source": [
    "#TODO: test for dependence of loss scale on time step size\n",
    "loss_lst = []\n",
    "# h_array = np.logspace(-10,-5)\n",
    "h_array = np.logspace(-5,-2)\n",
    "# h_array = np.logspace(-2,-1)\n",
    "# h_array = np.logspace(-1,0)\n",
    "for h in h_array:\n",
    "    loss = comp_loss_given_h(h)\n",
    "    loss_lst.append(loss)\n",
    "    "
   ]
  },
  {
   "cell_type": "code",
   "execution_count": 88,
   "metadata": {
    "ExecuteTime": {
     "end_time": "2020-12-13T07:44:09.448620Z",
     "start_time": "2020-12-13T07:44:09.425776Z"
    }
   },
   "outputs": [],
   "source": [
    "x_values = h_array\n",
    "y_values = np.array(loss_lst)"
   ]
  },
  {
   "cell_type": "code",
   "execution_count": 89,
   "metadata": {
    "ExecuteTime": {
     "end_time": "2020-12-13T07:44:09.909758Z",
     "start_time": "2020-12-13T07:44:09.742912Z"
    }
   },
   "outputs": [
    {
     "data": {
      "text/plain": [
       "[<matplotlib.lines.Line2D at 0x134389f10>]"
      ]
     },
     "execution_count": 89,
     "metadata": {},
     "output_type": "execute_result"
    },
    {
     "data": {
      "image/png": "[encoded data removed]",
      "text/plain": [
       "<Figure size 432x288 with 1 Axes>"
      ]
     },
     "metadata": {
      "needs_background": "light"
     },
     "output_type": "display_data"
    }
   ],
   "source": [
    "plt.plot(x_values,y_values)"
   ]
  },
  {
   "cell_type": "markdown",
   "metadata": {},
   "source": [
    "__Result:__ this loss function is not monotonically increasing for some elements but monotonically decreasing for others, therefore we cannot assume decreasing stepsize will reduce energy error/loss.\n",
    "\n",
    "- IF the current \"neural time steps\" was tested, it would exhibit instabilities.  A more sophisticated method involving gradient descent and/or dE/dt  will be necessary."
   ]
  },
  {
   "cell_type": "code",
   "execution_count": null,
   "metadata": {},
   "outputs": [],
   "source": [
    "# still, i'll make a movie cause I already set it up..."
   ]
  }
 ],
 "metadata": {
  "kernelspec": {
   "display_name": "Python 3",
   "language": "python",
   "name": "python3"
  },
  "language_info": {
   "codemirror_mode": {
    "name": "ipython",
    "version": 3
   },
   "file_extension": ".py",
   "mimetype": "text/x-python",
   "name": "python",
   "nbconvert_exporter": "python",
   "pygments_lexer": "ipython3",
   "version": "3.8.6"
  },
  "varInspector": {
   "cols": {
    "lenName": 16,
    "lenType": 16,
    "lenVar": 40
   },
   "kernels_config": {
    "python": {
     "delete_cmd_postfix": "",
     "delete_cmd_prefix": "del ",
     "library": "var_list.py",
     "varRefreshCmd": "print(var_dic_list())"
    },
    "r": {
     "delete_cmd_postfix": ") ",
     "delete_cmd_prefix": "rm(",
     "library": "var_list.r",
     "varRefreshCmd": "cat(var_dic_list()) "
    }
   },
   "types_to_exclude": [
    "module",
    "function",
    "builtin_function_or_method",
    "instance",
    "_Feature"
   ],
   "window_display": false
  }
 },
 "nbformat": 4,
 "nbformat_minor": 4
}
