{
 "cells": [
  {
   "cell_type": "markdown",
   "metadata": {},
   "source": [
    "# structural mechanics on tetrahedral spheres\n",
    "Tim Tyree<br>\n",
    "12.2.2020"
   ]
  },
  {
   "cell_type": "code",
   "execution_count": 1,
   "metadata": {
    "ExecuteTime": {
     "end_time": "2020-12-04T01:47:44.045715Z",
     "start_time": "2020-12-04T01:47:40.917050Z"
    }
   },
   "outputs": [
    {
     "name": "stdout",
     "output_type": "stream",
     "text": [
      "Automatic calling is: Smart\n"
     ]
    }
   ],
   "source": [
    "#pylab\n",
    "%matplotlib inline\n",
    "\n",
    "import numpy as np, pandas as pd, matplotlib.pyplot as plt\n",
    "from mpl_toolkits.mplot3d import Axes3D  \n",
    "\n",
    "import skimage as sk\n",
    "from skimage import measure, filters\n",
    "\n",
    "from numba import njit, jit, vectorize\n",
    "from PIL import Image\n",
    "import imageio, pyglet\n",
    "\n",
    "#triangular meshes only\n",
    "import trimesh\n",
    "\n",
    "#tetrahedral meshes + visualization\n",
    "# !pip install pyvista\n",
    "# !pip install tetgen\n",
    "import pyvista as pv\n",
    "import tetgen\n",
    "\n",
    "#automate the boring stuff\n",
    "from IPython import utils\n",
    "import time, os, sys, re\n",
    "beep = lambda x: os.system(\"echo -n '\\\\a';sleep 0.2;\" * x)\n",
    "if not 'nb_dir' in globals():\n",
    "    nb_dir = os.getcwd()\n",
    "# width = 512\n",
    "# height = 512\n",
    "# channel_no = 3\n",
    "\n",
    "# #load the libraries\n",
    "from lib import *\n",
    "\n",
    "#use cuda via numba\n",
    "from numba import jit, njit, vectorize, cuda, uint32, f8, uint8\n",
    "from numba.typed import List\n",
    "# from lib.contours_to_tips import *\n",
    "\n",
    "%autocall 1\n",
    "%load_ext autoreload\n",
    "%autoreload 2"
   ]
  },
  {
   "cell_type": "code",
   "execution_count": 2,
   "metadata": {
    "ExecuteTime": {
     "end_time": "2020-12-04T01:47:44.399598Z",
     "start_time": "2020-12-04T01:47:44.367394Z"
    }
   },
   "outputs": [],
   "source": [
    "# !pip3 install pymeshfix"
   ]
  },
  {
   "cell_type": "code",
   "execution_count": 3,
   "metadata": {
    "ExecuteTime": {
     "end_time": "2020-12-04T01:47:44.888234Z",
     "start_time": "2020-12-04T01:47:44.726762Z"
    }
   },
   "outputs": [],
   "source": [
    "#in darkmode for jupyter notebooks\n",
    "# !jt -t monokai -f fira -fs 13 -nf ptsans -nfs 11 -N -kl -cursw 5 -cursc r -cellw 95% -T\n",
    "\n",
    "#Hack for images to obey darkmode\n",
    "import seaborn as sns\n",
    "\n",
    "from jupyterthemes import jtplot\n",
    "jtplot.style(theme='monokai', context='notebook', ticks=True, grid=False)"
   ]
  },
  {
   "cell_type": "markdown",
   "metadata": {},
   "source": [
    "# import a spherical surface mesh and turn it into a spherical tetrahedral mesh"
   ]
  },
  {
   "cell_type": "code",
   "execution_count": 4,
   "metadata": {
    "ExecuteTime": {
     "end_time": "2020-12-04T01:47:52.968356Z",
     "start_time": "2020-12-04T01:47:52.934648Z"
    }
   },
   "outputs": [
    {
     "name": "stderr",
     "output_type": "stream",
     "text": [
      "face_normals all zero, ignoring!\n"
     ]
    },
    {
     "name": "stdout",
     "output_type": "stream",
     "text": [
      "../data/spherical_meshes/spherical_mesh_64.stl\n"
     ]
    }
   ],
   "source": [
    "os.chdir(nb_dir)\n",
    "\n",
    "input_file_name = f'../data/spherical_meshes/spherical_mesh_64.stl'\n",
    "# input_file_name = f'../data/tetrahedral_meshes/tetrahedral_sphere.ply'\n",
    "print(input_file_name)\n",
    "mesh_trimesh = trimesh.load(input_file_name)\n",
    "t = 0.\n",
    "# mesh_trimesh.vertices -= mesh_trimesh.center_mass\n",
    "#normalize the mean radius to 1\n",
    "# mesh.vertices /= np.cbrt(mesh.volume*3/(4*np.pi))\n",
    "\n",
    "vertices_trimesh = np.array(mesh_trimesh.vertices)\n",
    "faces_trimesh = np.array(mesh_trimesh.faces)\n",
    "\n",
    "# print(mesh.volume)\n",
    "# mesh_trimesh.show()\n",
    "\n",
    "assert(mesh_trimesh.is_winding_consistent)\n",
    "assert(mesh_trimesh.is_watertight)\n",
    "assert(mesh_trimesh.is_volume)"
   ]
  },
  {
   "cell_type": "code",
   "execution_count": 6,
   "metadata": {
    "ExecuteTime": {
     "end_time": "2020-12-04T01:47:56.434384Z",
     "start_time": "2020-12-04T01:47:56.405756Z"
    }
   },
   "outputs": [],
   "source": [
    "#Nota Bene: trimesh parses .ply metadata \n",
    "# print(mesh.metadata.keys())\n",
    "# print(mesh.metadata['ply_raw'].keys())\n",
    "# # vertex_length = mesh.metadata['ply_raw']['vertex']['length']\n",
    "# #TODO(much later): flattening each column is necessary to cast the .ply metadata into a pandas.DataFrame\n",
    "# # df = pd.DataFrame(mesh.metadata['ply_raw']['vertex']['data'], index = range(vertex_length))\n",
    "# # plt.hist(mesh.metadata['ply_raw']['vertex']['data']['x'].flatten())\n",
    "# #about a third of the x values here are zero.\n",
    "# sum((mesh.metadata['ply_raw']['vertex']['data']['x']==0).flatten())\n",
    "# #store local state information in the mesh as metadata\n",
    "# mesh.metadata['ply_raw']['vertex']['data']['s'].flatten()#['t']#['x']#['nx']  #is nx the vertex normal in the x direction?\n",
    "# #Nota bene: ^this will let me save properties for later.  I don't know if I can add properties or if I need to mangle the existing ones (that are probs used).\n",
    "# mesh.metadata['ply_raw']['face']['data']['vertex_indices']"
   ]
  },
  {
   "cell_type": "code",
   "execution_count": 11,
   "metadata": {
    "ExecuteTime": {
     "end_time": "2020-12-04T01:48:45.982185Z",
     "start_time": "2020-12-04T01:48:45.950781Z"
    }
   },
   "outputs": [],
   "source": [
    "#cdb is for multi-access data (nota bene: cbd := constant data base)\n",
    "tmpdir_cbd = \"../data/tetrahedral_meshes/tmp/tmp.cbd\"\n",
    "#vtk is for preexisting visualizations\n",
    "tmpdir_vtk = \"../data/tetrahedral_meshes/tmp/tmp.vtk\"\n",
    "#png's are for rendering\n",
    "tmpdir_png = \"../data/tetrahedral_meshes/tmp/tmp.png\"\n",
    "\n",
    "# create a tetrahedral mesh\n",
    "tet = tetgen.TetGen(vertices_trimesh,faces_trimesh)\n",
    "vertices_tet, elements_tet = tet.tetrahedralize(order=1)#, mindihedral=1, minratio=1., nobisect=True, steinerleft=-1)\n",
    "# vertices, elements = tet.tetrahedralize(order=1, mindihedral=20, minratio=1.5, nobisect=True, steinerleft=-1)"
   ]
  },
  {
   "cell_type": "code",
   "execution_count": 8,
   "metadata": {
    "ExecuteTime": {
     "end_time": "2020-12-04T01:48:00.219966Z",
     "start_time": "2020-12-04T01:48:00.191496Z"
    }
   },
   "outputs": [],
   "source": [
    "# #visualize the grid mesh\n",
    "# pv.set_plot_theme('document')\n",
    "# grid = tet.grid\n",
    "# _,img = grid.plot(show_edges=False, window_size=None,text=f'time={t}', return_img=True,#volume=True,\n",
    "#     parallel_projection=True,eye_dome_lighting=True, show_axes=False)\n",
    "# plt.show()"
   ]
  },
  {
   "cell_type": "code",
   "execution_count": 8,
   "metadata": {
    "ExecuteTime": {
     "end_time": "2020-12-04T00:06:06.651292Z",
     "start_time": "2020-12-04T00:06:06.627587Z"
    }
   },
   "outputs": [],
   "source": [
    "#the image of the mesh is stored for later!\n",
    "# type(Image.fromarray(img))\n",
    "# plt.imshow(img)"
   ]
  },
  {
   "cell_type": "code",
   "execution_count": 79,
   "metadata": {
    "ExecuteTime": {
     "end_time": "2020-12-04T00:42:56.244742Z",
     "start_time": "2020-12-04T00:42:56.215396Z"
    }
   },
   "outputs": [],
   "source": []
  },
  {
   "cell_type": "markdown",
   "metadata": {},
   "source": [
    "# compute physical properties of the mesh"
   ]
  },
  {
   "cell_type": "code",
   "execution_count": 9,
   "metadata": {
    "ExecuteTime": {
     "end_time": "2020-12-04T00:06:06.676521Z",
     "start_time": "2020-12-04T00:06:06.652566Z"
    }
   },
   "outputs": [],
   "source": [
    "#TODO(eventually): make ADAVI/DAAVI - Adaptive Dissipative Asynchronous Variational Integrator for Unstructured Tetrahedral Meshes\n",
    "\n",
    "#TODO(later): How do I control the color of tet? No. That's for later EP stuff...\n",
    "\n",
    "#TODO(later or never): for given triangle, find the nodes that are neighbors to all three vertices and are none of the three vertices.  \n",
    "# ^This is a tetrahedral element.  Sort the elements and add it to a set to prevent duplicates.  Then, iterate over all faces.  Store as tracked array, mesh.elements\n",
    "\n",
    "#TODO(later): either make a messy function to update_mesh_vertices or select the interior vertices and make a new mesh_trimesh_current to calculate the internal volume.\n",
    "# # def update_mesh_vertices(mesh, vertices_array, Nvert):\n",
    "# vertices.shape\n",
    "# vertices_trimesh.shape"
   ]
  },
  {
   "cell_type": "code",
   "execution_count": 10,
   "metadata": {
    "ExecuteTime": {
     "end_time": "2020-12-04T00:06:06.841986Z",
     "start_time": "2020-12-04T00:06:06.678096Z"
    }
   },
   "outputs": [
    {
     "name": "stdout",
     "output_type": "stream",
     "text": [
      "initialized time to 0.0.\n"
     ]
    }
   ],
   "source": [
    "t=0.\n",
    "N_elements = elements.shape[0]\n",
    "N_vertices = vertices.shape[0]\n",
    "print(f'initialized time to {t}.')\n",
    "\n",
    "#allocate memory for numpy arrays\n",
    "# initialize nodal arrays\n",
    "node_array_position = tet.node.copy()\n",
    "node_array_initial_position = node_array_position.copy()\n",
    "node_array_time = t*(node_array_position[:,0])\n",
    "node_array_volume  = 0.*node_array_time\n",
    "\n",
    "# initialize elemental arrays\n",
    "element_array_index = tet.elem.copy()\n",
    "element_array_volume  = 0.*tet.elem.copy()[:,0]\n",
    "element_array_time  = t*tet.elem.copy()[:,0]\n",
    "\n",
    "#compute the total volume of the elements (not the interior) and the barycentric nodal volumes\n",
    "net_volume = 0.\n",
    "affine_vec = np.array([1.,1.,1.,1.])\n",
    "for K_index in range(N_elements):\n",
    "    #Behold! One tetrahedral finite volume, K\n",
    "    K_vertices = tet.node[tet.elem[K_index]]\n",
    "\n",
    "    #compute unsigned volume of one element\n",
    "    K_X = np.vstack([K_vertices.T,affine_vec])\n",
    "    K_volume = np.abs(np.linalg.det(K_X))/6.\n",
    "\n",
    "    net_volume += K_volume\n",
    "    \n",
    "    #TODO: compute element_array_volume\n",
    "    element_array_volume[K_index] = K_volume\n",
    "    for vid in tet.elem[K_index]:\n",
    "        node_array_volume[vid] += K_volume/4.\n",
    "\n",
    "#assert the barycentric nodal volumes sum to the same value as the net volume of elements  \n",
    "assert ( np.sum(node_array_volume) == np.sum(element_array_volume) )\n",
    "net_volume = np.sum(element_array_volume)"
   ]
  },
  {
   "cell_type": "code",
   "execution_count": 11,
   "metadata": {
    "ExecuteTime": {
     "end_time": "2020-12-04T00:06:06.869216Z",
     "start_time": "2020-12-04T00:06:06.843706Z"
    }
   },
   "outputs": [],
   "source": [
    "mass_density = 1. #mass units per volume units\n",
    "net_mass = net_volume*mass_density\n",
    "\n",
    "#compute element_array_mass\n",
    "element_array_mass = mass_density*element_array_volume\n",
    "\n",
    "#compute barycentric nodal masses for the displacement invariant nodal masses\n",
    "node_array_mass  = mass_density*node_array_volume"
   ]
  },
  {
   "cell_type": "code",
   "execution_count": 12,
   "metadata": {
    "ExecuteTime": {
     "end_time": "2020-12-04T00:06:06.895377Z",
     "start_time": "2020-12-04T00:06:06.871171Z"
    }
   },
   "outputs": [],
   "source": [
    "# initialize momentum to zero\n",
    "node_array_momentum = 0.*tet.node.copy()\n"
   ]
  },
  {
   "cell_type": "code",
   "execution_count": 13,
   "metadata": {
    "ExecuteTime": {
     "end_time": "2020-12-04T00:06:06.925360Z",
     "start_time": "2020-12-04T00:06:06.896728Z"
    }
   },
   "outputs": [],
   "source": [
    "def get_D_mat(K_vertices):\n",
    "    x1  = K_vertices[0,0];y1 = K_vertices[0,1];z1 = K_vertices[0,2]\n",
    "    x2  = K_vertices[1,0];y2 = K_vertices[1,1];z2 = K_vertices[1,2]\n",
    "    x3  = K_vertices[2,0];y3 = K_vertices[2,1];z3 = K_vertices[2,2]\n",
    "    x4  = K_vertices[3,0];y4 = K_vertices[3,1];z4 = K_vertices[3,2]\n",
    "    D = np.array([\n",
    "              [x1-x4,x2-x4,x3-x4],\n",
    "              [y1-y4,y2-y4,y3-y4],\n",
    "              [z1-z4,z2-z4,z3-z4]])\n",
    "    return D\n",
    "\n",
    "def compute_D_mat(node_array_position, element_array_index, K_index):\n",
    "    K_vertices = node_array_equilibrium_position[element_array_index[K_index]] \n",
    "    D = get_D_mat(K_vertices)\n",
    "    return D\n",
    "\n",
    "def compute_inverse_position(node_array_equilibrium_position, element_array_index, K_index):\n",
    "    '''Example Usage: \n",
    "    X_inverse = compute_inverse_position(node_array_equilibrium_position, element_array_index, K_index)'''\n",
    "    D_K = compute_D_mat(node_array_position, element_array_index, K_index)\n",
    "    X_inverse = np.linalg.inv(D_K)\n",
    "    #undeformed volume of element\n",
    "    # W = np.linalg.det(D_K)/6.\n",
    "    return X_inverse"
   ]
  },
  {
   "cell_type": "code",
   "execution_count": 14,
   "metadata": {
    "ExecuteTime": {
     "end_time": "2020-12-04T00:06:07.091624Z",
     "start_time": "2020-12-04T00:06:06.926641Z"
    }
   },
   "outputs": [],
   "source": [
    "#initialize strain to zero\n",
    "node_array_equilibrium_position = node_array_initial_position.copy()\n",
    "\n",
    "#precompute element_array_inverse_equilibrium_position\n",
    "inverse_equilibrium_position_lst = []\n",
    "for K_index in range(N_elements):\n",
    "    X_inverse = compute_inverse_position(node_array_equilibrium_position, element_array_index, K_index)\n",
    "    inverse_equilibrium_position_lst.append(X_inverse)\n",
    "element_array_inverse_equilibrium_position = np.stack(inverse_equilibrium_position_lst,axis=0)\n",
    "\n",
    "# #visual check showed everything was stored right\n",
    "# print(element_array_inverse_equilibrium_position[0])\n",
    "# print(compute_inverse_position(node_array_equilibrium_position, element_array_index, 0))"
   ]
  },
  {
   "cell_type": "code",
   "execution_count": 15,
   "metadata": {
    "ExecuteTime": {
     "end_time": "2020-12-04T00:06:07.117705Z",
     "start_time": "2020-12-04T00:06:07.093528Z"
    }
   },
   "outputs": [],
   "source": [
    "dict_values_system = {\n",
    "    'element_array_time':node_array_time,\n",
    "    'element_array_index':element_array_index,\n",
    "    'element_array_mass':element_array_mass,\n",
    "    'element_array_volume':element_array_volume,\n",
    "    'element_array_inverse_equilibrium_position': element_array_inverse_equilibrium_position,\n",
    "    'node_array_time':node_array_time,\n",
    "    'node_array_position':node_array_position,\n",
    "    'node_array_time':node_array_time,\n",
    "    'node_array_momentum':node_array_momentum,\n",
    "    'node_array_mass':node_array_mass,\n",
    "    'node_array_volume':node_array_volume\n",
    "}"
   ]
  },
  {
   "cell_type": "code",
   "execution_count": 16,
   "metadata": {
    "ExecuteTime": {
     "end_time": "2020-12-04T00:06:07.149301Z",
     "start_time": "2020-12-04T00:06:07.119741Z"
    },
    "scrolled": true
   },
   "outputs": [
    {
     "name": "stdout",
     "output_type": "stream",
     "text": [
      "<class 'numpy.ndarray'>\n",
      "(1083,)\n",
      "<class 'numpy.ndarray'>\n",
      "(4935, 4)\n",
      "<class 'numpy.ndarray'>\n",
      "(4935,)\n",
      "<class 'numpy.ndarray'>\n",
      "(4935,)\n",
      "<class 'numpy.ndarray'>\n",
      "(4935, 3, 3)\n",
      "<class 'numpy.ndarray'>\n",
      "(1083,)\n",
      "<class 'numpy.ndarray'>\n",
      "(1083, 3)\n",
      "<class 'numpy.ndarray'>\n",
      "(1083,)\n",
      "<class 'numpy.ndarray'>\n",
      "(1083, 3)\n",
      "<class 'numpy.ndarray'>\n",
      "(1083,)\n",
      "<class 'numpy.ndarray'>\n",
      "(1083,)\n"
     ]
    }
   ],
   "source": [
    "#check that express all system variables are expressed as numpy arrays\n",
    "print(type(node_array_time))\n",
    "print(node_array_time.shape)\n",
    "\n",
    "print(type(element_array_index))\n",
    "print(element_array_index.shape)\n",
    "\n",
    "print(type(element_array_volume))\n",
    "print(element_array_volume.shape)\n",
    "\n",
    "print(type(element_array_mass))\n",
    "print(element_array_mass.shape)\n",
    "\n",
    "print(type(element_array_inverse_equilibrium_position))\n",
    "print(element_array_inverse_equilibrium_position.shape)\n",
    "\n",
    "print(type(node_array_time))\n",
    "print(node_array_time.shape)\n",
    "\n",
    "print(type(node_array_position))\n",
    "print(node_array_position.shape)\n",
    "\n",
    "print(type(node_array_time))\n",
    "print(node_array_time.shape)\n",
    "\n",
    "print(type(node_array_momentum))\n",
    "print(node_array_momentum.shape)\n",
    "\n",
    "print(type(node_array_mass))\n",
    "print(node_array_mass.shape)\n",
    "\n",
    "print(type(node_array_volume))\n",
    "print(node_array_volume.shape)"
   ]
  },
  {
   "cell_type": "markdown",
   "metadata": {},
   "source": [
    "# compute elastic forces on each node"
   ]
  },
  {
   "cell_type": "code",
   "execution_count": 17,
   "metadata": {
    "ExecuteTime": {
     "end_time": "2020-12-04T00:06:07.176962Z",
     "start_time": "2020-12-04T00:06:07.150874Z"
    }
   },
   "outputs": [],
   "source": [
    "#DONE: find/derive nodal force equations for tetrahedra. \n",
    "# `sifakis-courseNotes-TheoryAndDiscretization.pdf`\n",
    "# --> ctrl+F for \"Algorithm 1\"\n",
    "#Nota Bene: ^they've got many constitutive models worked out\n",
    "\n",
    "######################################\n",
    "# Nodal Elastic Forces\n",
    "######################################\n",
    "def get_calc_P(mu, lam):#, one, delta):\n",
    "    return get_calc_P_neohookean(mu, lam)\n",
    "\n",
    "#TODO: njit the value returned! \n",
    "def get_calc_P_neohookean(mu, lam):\n",
    "    '''returns the first Piola-Kirchoff stress tensor ( times the constant membrane thickness, delta) \n",
    "    from the Neohookean constitutive model for elastic stress.\n",
    "    Example Usage - given deformation matrix F = S.dot(R):\n",
    "    mu = 1.; lam = 1.; delta = 0.1; \n",
    "    calc_P = get_calc_P(mu, lam)\n",
    "    P = calc_P(F)'''\n",
    "    #@njit\n",
    "    def calc_P(F):\n",
    "        FT = np.linalg.inv(F.T)\n",
    "        J = np.linalg.det(F)\n",
    "        P = mu*(F-mu*FT)+lam*np.log(J)*FT\n",
    "        return P\n",
    "    return calc_P"
   ]
  },
  {
   "cell_type": "code",
   "execution_count": 18,
   "metadata": {
    "ExecuteTime": {
     "end_time": "2020-12-04T00:06:07.392486Z",
     "start_time": "2020-12-04T00:06:07.178579Z"
    }
   },
   "outputs": [
    {
     "ename": "NameError",
     "evalue": "name 'F' is not defined",
     "output_type": "error",
     "traceback": [
      "\u001b[0;31m---------------------------------------------------------------------------\u001b[0m",
      "\u001b[0;31mNameError\u001b[0m                                 Traceback (most recent call last)",
      "\u001b[0;32m<ipython-input-18-70691375e60b>\u001b[0m in \u001b[0;36m<module>\u001b[0;34m\u001b[0m\n\u001b[0;32m----> 1\u001b[0;31m \u001b[0;32massert\u001b[0m \u001b[0;34m(\u001b[0m \u001b[0;34m(\u001b[0m\u001b[0mnp\u001b[0m\u001b[0;34m.\u001b[0m\u001b[0mlinalg\u001b[0m\u001b[0;34m.\u001b[0m\u001b[0minv\u001b[0m\u001b[0;34m(\u001b[0m\u001b[0mF\u001b[0m\u001b[0;34m)\u001b[0m\u001b[0;34m.\u001b[0m\u001b[0mT\u001b[0m\u001b[0;34m==\u001b[0m\u001b[0mnp\u001b[0m\u001b[0;34m.\u001b[0m\u001b[0mlinalg\u001b[0m\u001b[0;34m.\u001b[0m\u001b[0minv\u001b[0m\u001b[0;34m(\u001b[0m\u001b[0mF\u001b[0m\u001b[0;34m.\u001b[0m\u001b[0mT\u001b[0m\u001b[0;34m)\u001b[0m\u001b[0;34m)\u001b[0m\u001b[0;34m.\u001b[0m\u001b[0mall\u001b[0m\u001b[0;34m(\u001b[0m\u001b[0;34m)\u001b[0m \u001b[0;34m)\u001b[0m\u001b[0;34m\u001b[0m\u001b[0;34m\u001b[0m\u001b[0m\n\u001b[0m",
      "\u001b[0;31mNameError\u001b[0m: name 'F' is not defined"
     ]
    }
   ],
   "source": [
    "assert ( (np.linalg.inv(F).T==np.linalg.inv(F.T)).all() ) "
   ]
  },
  {
   "cell_type": "code",
   "execution_count": null,
   "metadata": {
    "ExecuteTime": {
     "end_time": "2020-12-04T00:06:07.399353Z",
     "start_time": "2020-12-04T00:06:03.011Z"
    }
   },
   "outputs": [],
   "source": [
    "#define Lamé parameters\n",
    "mu = 1; lam = 1;\n",
    "\n",
    "X_inv = element_array_inverse_equilibrium_position[0]\n",
    "zero_mat = np.zeros((4,3))\n",
    "x = node_array_position\n",
    "B = element_array_inverse_equilibrium_position\n",
    "W = element_array_volume\n",
    "calc_P = get_calc_P(mu, lam)"
   ]
  },
  {
   "cell_type": "code",
   "execution_count": null,
   "metadata": {
    "ExecuteTime": {
     "end_time": "2020-12-04T00:06:07.399971Z",
     "start_time": "2020-12-04T00:06:03.013Z"
    }
   },
   "outputs": [],
   "source": [
    "#TODO(later): define a get_compute_nodal_elastic_forces function and return something njit'd\n",
    "def compute_nodal_elastic_forces(K_vertices, K_W, Bm):\n",
    "    Ds= get_D_mat(K_vertices)\n",
    "    F = np.matmul(Ds,Bm)\n",
    "    P = calc_P(F)\n",
    "    H = -K_W*np.matmul(P,Bm.T)\n",
    "    f[0] += H[0]\n",
    "    f[1] += H[1]\n",
    "    f[2] += H[2]\n",
    "    f[3] += (-H[0] -H[1] -H[2])\n",
    "    return f\n",
    "\n",
    "def get_nodal_elastic_forces(x, f, K, B, W, element_array_index):\n",
    "    Ds = compute_D_mat(node_array_position=x, element_array_index=element_array_index, K_index=K)\n",
    "    Bm = B[K]\n",
    "    F = np.matmul(Ds,Bm)\n",
    "    P = calc_P(F)\n",
    "    H = -W[K]*np.matmul(P,Bm.T)\n",
    "    f[0] += H[0]\n",
    "    f[1] += H[1]\n",
    "    f[2] += H[2]\n",
    "    f[3] += (-H[0] -H[1] -H[2])\n",
    "    return f"
   ]
  },
  {
   "cell_type": "code",
   "execution_count": null,
   "metadata": {
    "ExecuteTime": {
     "end_time": "2020-12-04T00:06:07.401259Z",
     "start_time": "2020-12-04T00:06:03.015Z"
    }
   },
   "outputs": [],
   "source": [
    "#DONE: compute the first piola-kirchoff stress tensor\n",
    "#TODO: show a known test case yields a reasonable result for the nodal forces\n",
    "K_index = 0\n",
    "K = K_index\n",
    "f = zero_mat.copy()\n",
    "retval = get_nodal_elastic_forces(x, f, K, B, W, element_array_index)\n",
    "print(retval)"
   ]
  },
  {
   "cell_type": "code",
   "execution_count": null,
   "metadata": {
    "ExecuteTime": {
     "end_time": "2020-12-04T00:06:07.402054Z",
     "start_time": "2020-12-04T00:06:03.017Z"
    }
   },
   "outputs": [],
   "source": [
    "#trivial test case: translated yet undeformed initialization returns zero nodal force \n",
    "K_index = 0\n",
    "K_vertices = node_array_equilibrium_position[element_array_index[K_index]]\n",
    "com = np.mean(K_vertices,axis=0)\n",
    "K_vertices -= com\n",
    "K_W = element_array_volume[K_index]\n",
    "Bm  = element_array_inverse_equilibrium_position[K_index]\n",
    "f = compute_nodal_elastic_forces(K_vertices, K_W, Bm)\n",
    "\n",
    "assert(np.isclose(f,0.).all())"
   ]
  },
  {
   "cell_type": "code",
   "execution_count": null,
   "metadata": {
    "ExecuteTime": {
     "end_time": "2020-12-04T00:06:07.403185Z",
     "start_time": "2020-12-04T00:06:03.019Z"
    }
   },
   "outputs": [],
   "source": [
    "#nontrivial test case: nodal forces when compressing in the x direction\n",
    "K_index = 0\n",
    "K_vertices = node_array_equilibrium_position[element_array_index[K_index]]\n",
    "com = np.mean(K_vertices,axis=0)\n",
    "K_vertices -= com\n",
    "K_vertices[:,0] *= 0.5\n",
    "K_W = element_array_volume[K_index]\n",
    "Bm  = element_array_inverse_equilibrium_position[K_index]\n",
    "f = compute_nodal_elastic_forces(K_vertices, K_W, Bm)\n",
    "\n",
    "# assert(np.isclose(f,0.).all())\n",
    "\n",
    "#assert net force is zero in the x direction\n",
    "assert(np.isclose(np.sum(f[:,0]),0.))\n",
    "\n",
    "Q = node_array_equilibrium_position[element_array_index[K_index]]\n",
    "com = np.mean(Q,axis=0)\n",
    "Q -= com\n",
    "q = K_vertices"
   ]
  },
  {
   "cell_type": "code",
   "execution_count": null,
   "metadata": {
    "ExecuteTime": {
     "end_time": "2020-12-04T00:06:07.404356Z",
     "start_time": "2020-12-04T00:06:03.021Z"
    }
   },
   "outputs": [],
   "source": [
    "fig = plt.figure()\n",
    "ax = fig.add_subplot(111, projection='3d')\n",
    "ax.scatter(q[:,0],q[:,1],q[:,2], marker = 'o', color='b')\n",
    "ax.scatter(Q[:,0],Q[:,1],Q[:,2], marker = 'o', color='r')\n",
    "\n",
    "#nodal forces\n",
    "ax.quiver(q[:,0],q[:,1],q[:,2], f[:,0],f[:,1],f[:,2],  length=0.1, normalize=True)\n",
    "\n",
    "ax.set_xlabel('x')\n",
    "ax.set_ylabel('y')\n",
    "ax.set_zlabel('z')\n",
    "\n",
    "plt.title('nodal forces due to compression in x-direction', fontsize=10)\n",
    "# plt.axis('off')\n",
    "# plt.savefig(f\"{nb_dir}/Figures/nodal_forces_example3.png\",dpi=400)\n",
    "\n",
    "plt.show()"
   ]
  },
  {
   "cell_type": "code",
   "execution_count": null,
   "metadata": {
    "ExecuteTime": {
     "end_time": "2020-12-04T00:06:07.405878Z",
     "start_time": "2020-12-04T00:06:03.022Z"
    }
   },
   "outputs": [],
   "source": [
    "#nontrivial test case: nodal forces when compressing in the y direction\n",
    "K_index = 0\n",
    "K_vertices = node_array_equilibrium_position[element_array_index[K_index]]\n",
    "com = np.mean(K_vertices,axis=0)\n",
    "K_vertices -= com\n",
    "K_vertices[:,1] *= 0.5\n",
    "K_W = element_array_volume[K_index]\n",
    "Bm  = element_array_inverse_equilibrium_position[K_index]\n",
    "f = compute_nodal_elastic_forces(K_vertices, K_W, Bm)\n",
    "\n",
    "# assert(np.isclose(f,0.).all())\n",
    "\n",
    "#assert net force is zero in the x direction\n",
    "assert(np.isclose(np.sum(f[:,0]),0.))\n",
    "\n",
    "Q = node_array_equilibrium_position[element_array_index[K_index]]\n",
    "com = np.mean(Q,axis=0)\n",
    "Q -= com\n",
    "q = K_vertices"
   ]
  },
  {
   "cell_type": "code",
   "execution_count": null,
   "metadata": {
    "ExecuteTime": {
     "end_time": "2020-12-04T00:06:07.406987Z",
     "start_time": "2020-12-04T00:06:03.025Z"
    }
   },
   "outputs": [],
   "source": [
    "fig = plt.figure()\n",
    "ax = fig.add_subplot(111, projection='3d')\n",
    "ax.scatter(q[:,0],q[:,1],q[:,2], marker = 'o', color='b')\n",
    "ax.scatter(Q[:,0],Q[:,1],Q[:,2], marker = 'o', color='r')\n",
    "\n",
    "#nodal forces\n",
    "ax.quiver(q[:,0],q[:,1],q[:,2], f[:,0],f[:,1],f[:,2],  length=0.1, normalize=True)\n",
    "\n",
    "ax.set_xlabel('x')\n",
    "ax.set_ylabel('y')\n",
    "ax.set_zlabel('z')\n",
    "\n",
    "plt.title('nodal forces due to compression in y-direction', fontsize=10)\n",
    "# plt.axis('off')\n",
    "# plt.savefig(f\"{nb_dir}/Figures/nodal_forces_example3.png\",dpi=400)\n",
    "\n",
    "plt.show()"
   ]
  },
  {
   "cell_type": "code",
   "execution_count": null,
   "metadata": {
    "ExecuteTime": {
     "end_time": "2020-12-04T00:06:07.408161Z",
     "start_time": "2020-12-04T00:06:03.026Z"
    }
   },
   "outputs": [],
   "source": [
    "#nontrivial test case: nodal forces when compressing in the z direction\n",
    "K_index = 0\n",
    "K_vertices = node_array_equilibrium_position[element_array_index[K_index]]\n",
    "com = np.mean(K_vertices,axis=0)\n",
    "K_vertices -= com\n",
    "K_vertices[:,2] *= 0.5\n",
    "K_W = element_array_volume[K_index]\n",
    "Bm  = element_array_inverse_equilibrium_position[K_index]\n",
    "f = compute_nodal_elastic_forces(K_vertices, K_W, Bm)\n",
    "\n",
    "# assert(np.isclose(f,0.).all())\n",
    "\n",
    "#assert net force is zero in the x direction\n",
    "assert(np.isclose(np.sum(f[:,0]),0.))\n",
    "\n",
    "Q = node_array_equilibrium_position[element_array_index[K_index]]\n",
    "com = np.mean(Q,axis=0)\n",
    "Q -= com\n",
    "q = K_vertices"
   ]
  },
  {
   "cell_type": "code",
   "execution_count": null,
   "metadata": {
    "ExecuteTime": {
     "end_time": "2020-12-04T00:06:07.409348Z",
     "start_time": "2020-12-04T00:06:03.027Z"
    }
   },
   "outputs": [],
   "source": [
    "fig = plt.figure()\n",
    "ax = fig.add_subplot(111, projection='3d')\n",
    "ax.scatter(q[:,0],q[:,1],q[:,2], marker = 'o', color='b')\n",
    "ax.scatter(Q[:,0],Q[:,1],Q[:,2], marker = 'o', color='r')\n",
    "\n",
    "#nodal forces\n",
    "ax.quiver(q[:,0],q[:,1],q[:,2], f[:,0],f[:,1],f[:,2],  length=0.1, normalize=True)\n",
    "\n",
    "ax.set_xlabel('x')\n",
    "ax.set_ylabel('y')\n",
    "ax.set_zlabel('z')\n",
    "\n",
    "plt.title('nodal forces due to compression in z-direction', fontsize=10)\n",
    "# plt.axis('off')\n",
    "# plt.savefig(f\"{nb_dir}/Figures/nodal_forces_example3.png\",dpi=400)\n",
    "\n",
    "plt.show()"
   ]
  },
  {
   "cell_type": "code",
   "execution_count": null,
   "metadata": {
    "ExecuteTime": {
     "end_time": "2020-12-04T00:06:07.410730Z",
     "start_time": "2020-12-04T00:06:03.029Z"
    }
   },
   "outputs": [],
   "source": [
    "K_vertices[:,2]"
   ]
  },
  {
   "cell_type": "code",
   "execution_count": null,
   "metadata": {
    "ExecuteTime": {
     "end_time": "2020-12-04T00:06:07.412319Z",
     "start_time": "2020-12-04T00:06:03.031Z"
    }
   },
   "outputs": [],
   "source": [
    "#DONE: perform a trivial force calculation.  is it correct? \n",
    "#DONE: perform a nontrivial force calculation.  is it correct? \n",
    "\n"
   ]
  },
  {
   "cell_type": "markdown",
   "metadata": {},
   "source": [
    "# DONE:  collect all of this initialization functionality into lib.model.initialize.py"
   ]
  },
  {
   "cell_type": "markdown",
   "metadata": {
    "heading_collapsed": true
   },
   "source": [
    "## DONE: collect functionality into lib.model.elastic.py"
   ]
  },
  {
   "cell_type": "code",
   "execution_count": 1,
   "metadata": {
    "ExecuteTime": {
     "end_time": "2020-12-04T15:43:40.234473Z",
     "start_time": "2020-12-04T15:43:40.232576Z"
    },
    "hidden": true
   },
   "outputs": [],
   "source": [
    "#TODO(later): wrap all ^this into a minimalist initialization function, something like\n",
    "# Omega_0 = initialize_system(mesh, mass_array) \n",
    "# Omega_t = Omega_0.copy() #System at time t\n"
   ]
  },
  {
   "cell_type": "markdown",
   "metadata": {},
   "source": [
    "## note that the tetrahedralized mesh is no longer a shell for a sphere.  don't worry about this now."
   ]
  },
  {
   "cell_type": "code",
   "execution_count": 37,
   "metadata": {
    "ExecuteTime": {
     "end_time": "2020-12-04T00:22:39.520827Z",
     "start_time": "2020-12-04T00:22:39.491182Z"
    }
   },
   "outputs": [],
   "source": [
    "tet = tetgen.TetGen(vertices_trimesh,faces_trimesh)\n"
   ]
  },
  {
   "cell_type": "code",
   "execution_count": 43,
   "metadata": {
    "ExecuteTime": {
     "end_time": "2020-12-04T00:23:36.817300Z",
     "start_time": "2020-12-04T00:23:36.785039Z"
    }
   },
   "outputs": [],
   "source": [
    "tet.tetrahedralize?"
   ]
  },
  {
   "cell_type": "code",
   "execution_count": 36,
   "metadata": {
    "ExecuteTime": {
     "end_time": "2020-12-04T00:22:28.348233Z",
     "start_time": "2020-12-04T00:22:28.308631Z"
    }
   },
   "outputs": [
    {
     "ename": "TypeError",
     "evalue": "'NoneType' object is not iterable",
     "output_type": "error",
     "traceback": [
      "\u001b[0;31m---------------------------------------------------------------------------\u001b[0m",
      "\u001b[0;31mTypeError\u001b[0m                                 Traceback (most recent call last)",
      "\u001b[0;32m<ipython-input-36-bb9ae40c17ac>\u001b[0m in \u001b[0;36m<module>\u001b[0;34m\u001b[0m\n\u001b[1;32m      1\u001b[0m \u001b[0mtet\u001b[0m \u001b[0;34m=\u001b[0m \u001b[0mtetgen\u001b[0m\u001b[0;34m.\u001b[0m\u001b[0mTetGen\u001b[0m\u001b[0;34m(\u001b[0m\u001b[0mvertices_trimesh\u001b[0m\u001b[0;34m,\u001b[0m\u001b[0mfaces_trimesh\u001b[0m\u001b[0;34m)\u001b[0m\u001b[0;34m\u001b[0m\u001b[0;34m\u001b[0m\u001b[0m\n\u001b[1;32m      2\u001b[0m \u001b[0;34m\u001b[0m\u001b[0m\n\u001b[0;32m----> 3\u001b[0;31m \u001b[0mlst_dist\u001b[0m \u001b[0;34m=\u001b[0m \u001b[0;34m[\u001b[0m\u001b[0mnp\u001b[0m\u001b[0;34m.\u001b[0m\u001b[0mlinalg\u001b[0m\u001b[0;34m.\u001b[0m\u001b[0mnorm\u001b[0m\u001b[0;34m(\u001b[0m\u001b[0mn\u001b[0m\u001b[0;34m)\u001b[0m \u001b[0;32mfor\u001b[0m \u001b[0mn\u001b[0m \u001b[0;32min\u001b[0m \u001b[0mtet\u001b[0m\u001b[0;34m.\u001b[0m\u001b[0mnode\u001b[0m\u001b[0;34m]\u001b[0m\u001b[0;34m\u001b[0m\u001b[0;34m\u001b[0m\u001b[0m\n\u001b[0m",
      "\u001b[0;31mTypeError\u001b[0m: 'NoneType' object is not iterable"
     ]
    }
   ],
   "source": [
    "lst_dist = [np.linalg.norm(n) for n in tet.node]\n",
    "\n",
    "np.min(lst_dist)\n",
    "\n",
    "np.max(lst_dist)"
   ]
  },
  {
   "cell_type": "code",
   "execution_count": 29,
   "metadata": {
    "ExecuteTime": {
     "end_time": "2020-12-04T00:20:35.967530Z",
     "start_time": "2020-12-04T00:20:35.926167Z"
    }
   },
   "outputs": [],
   "source": [
    "lst_dist_raw = [np.linalg.norm(n) for n in mesh_trimesh.vertices]"
   ]
  },
  {
   "cell_type": "code",
   "execution_count": 31,
   "metadata": {
    "ExecuteTime": {
     "end_time": "2020-12-04T00:20:45.054017Z",
     "start_time": "2020-12-04T00:20:45.029306Z"
    }
   },
   "outputs": [
    {
     "data": {
      "text/plain": [
       "0.8999999761581421"
      ]
     },
     "execution_count": 31,
     "metadata": {},
     "output_type": "execute_result"
    }
   ],
   "source": [
    "np.min(lst_dist_raw)"
   ]
  },
  {
   "cell_type": "code",
   "execution_count": 32,
   "metadata": {
    "ExecuteTime": {
     "end_time": "2020-12-04T00:20:55.581304Z",
     "start_time": "2020-12-04T00:20:55.556337Z"
    }
   },
   "outputs": [
    {
     "data": {
      "text/plain": [
       "1.0000007827426811"
      ]
     },
     "execution_count": 32,
     "metadata": {},
     "output_type": "execute_result"
    }
   ],
   "source": [
    "np.max(lst_dist_raw)"
   ]
  },
  {
   "cell_type": "code",
   "execution_count": 60,
   "metadata": {
    "ExecuteTime": {
     "end_time": "2020-12-04T00:32:29.551318Z",
     "start_time": "2020-12-04T00:32:29.513428Z"
    }
   },
   "outputs": [
    {
     "ename": "AttributeError",
     "evalue": "'TetGen' object has no attribute 'base'",
     "output_type": "error",
     "traceback": [
      "\u001b[0;31m---------------------------------------------------------------------------\u001b[0m",
      "\u001b[0;31mAttributeError\u001b[0m                            Traceback (most recent call last)",
      "\u001b[0;32m<ipython-input-60-e12bb73fc6d0>\u001b[0m in \u001b[0;36m<module>\u001b[0;34m\u001b[0m\n\u001b[1;32m      4\u001b[0m \u001b[0;31m# tet.buffer\u001b[0m\u001b[0;34m\u001b[0m\u001b[0;34m\u001b[0m\u001b[0;34m\u001b[0m\u001b[0m\n\u001b[1;32m      5\u001b[0m \u001b[0;31m# tet.data\u001b[0m\u001b[0;34m\u001b[0m\u001b[0;34m\u001b[0m\u001b[0;34m\u001b[0m\u001b[0m\n\u001b[0;32m----> 6\u001b[0;31m \u001b[0mtet\u001b[0m\u001b[0;34m.\u001b[0m\u001b[0mbase\u001b[0m \u001b[0;31m#where the data is actually stored\u001b[0m\u001b[0;34m\u001b[0m\u001b[0;34m\u001b[0m\u001b[0m\n\u001b[0m",
      "\u001b[0;31mAttributeError\u001b[0m: 'TetGen' object has no attribute 'base'"
     ]
    }
   ],
   "source": [
    "# tet.mesh[np.array([1])]\n",
    "# tet.f.shape\n",
    "# tet.f.buffer\n",
    "# tet.buffer\n",
    "# tet.data\n",
    "# tet.base #where the data is actually stored"
   ]
  },
  {
   "cell_type": "code",
   "execution_count": 64,
   "metadata": {
    "ExecuteTime": {
     "end_time": "2020-12-04T00:33:02.014586Z",
     "start_time": "2020-12-04T00:33:01.982280Z"
    }
   },
   "outputs": [],
   "source": [
    "#TODO: make tet.tetrahedralize? not make new nodes\n",
    "tet.write?"
   ]
  },
  {
   "cell_type": "code",
   "execution_count": 112,
   "metadata": {
    "ExecuteTime": {
     "end_time": "2020-12-04T01:05:55.995353Z",
     "start_time": "2020-12-04T01:05:55.942487Z"
    }
   },
   "outputs": [
    {
     "name": "stderr",
     "output_type": "stream",
     "text": [
      "/usr/local/lib/python3.8/site-packages/tetgen/pytetgen.py:534: UserWarning: VTK 9 no longer accepts an offset array\n",
      "  self._grid = pv.UnstructuredGrid(offset, cells, cell_type, self.node)\n"
     ]
    },
    {
     "data": {
      "text/html": [
       "\n",
       "<table>\n",
       "<tr><th>UnstructuredGrid</th><th>Information</th></tr>\n",
       "<tr><td>N Cells</td><td>3755</td></tr>\n",
       "<tr><td>N Points</td><td>6716</td></tr>\n",
       "<tr><td>X Bounds</td><td>-4.993e-01, 4.993e-01</td></tr>\n",
       "<tr><td>Y Bounds</td><td>-4.965e-01, 4.965e-01</td></tr>\n",
       "<tr><td>Z Bounds</td><td>-5.000e-01, 5.000e-01</td></tr>\n",
       "<tr><td>N Arrays</td><td>0</td></tr>\n",
       "</table>\n",
       "\n"
      ],
      "text/plain": [
       "UnstructuredGrid (0x1383905e0)\n",
       "  N Cells:\t3755\n",
       "  N Points:\t6716\n",
       "  X Bounds:\t-4.993e-01, 4.993e-01\n",
       "  Y Bounds:\t-4.965e-01, 4.965e-01\n",
       "  Z Bounds:\t-5.000e-01, 5.000e-01\n",
       "  N Arrays:\t0"
      ]
     },
     "execution_count": 112,
     "metadata": {},
     "output_type": "execute_result"
    }
   ],
   "source": [
    "# retval.split_bodies()\n",
    "# retval.\n",
    "sphere = pv.Sphere()\n",
    "tet = tetgen.TetGen(sphere)\n",
    "tet.tetrahedralize();\n",
    "tet.grid"
   ]
  },
  {
   "cell_type": "code",
   "execution_count": 113,
   "metadata": {
    "ExecuteTime": {
     "end_time": "2020-12-04T01:06:24.868454Z",
     "start_time": "2020-12-04T01:06:24.817128Z"
    }
   },
   "outputs": [],
   "source": [
    "tet.make_manifold()"
   ]
  },
  {
   "cell_type": "code",
   "execution_count": 114,
   "metadata": {
    "ExecuteTime": {
     "end_time": "2020-12-04T01:06:29.031114Z",
     "start_time": "2020-12-04T01:06:29.005312Z"
    }
   },
   "outputs": [
    {
     "data": {
      "text/html": [
       "\n",
       "<table>\n",
       "<tr><th>UnstructuredGrid</th><th>Information</th></tr>\n",
       "<tr><td>N Cells</td><td>3755</td></tr>\n",
       "<tr><td>N Points</td><td>6716</td></tr>\n",
       "<tr><td>X Bounds</td><td>-4.993e-01, 4.993e-01</td></tr>\n",
       "<tr><td>Y Bounds</td><td>-4.965e-01, 4.965e-01</td></tr>\n",
       "<tr><td>Z Bounds</td><td>-5.000e-01, 5.000e-01</td></tr>\n",
       "<tr><td>N Arrays</td><td>0</td></tr>\n",
       "</table>\n",
       "\n"
      ],
      "text/plain": [
       "UnstructuredGrid (0x1383905e0)\n",
       "  N Cells:\t3755\n",
       "  N Points:\t6716\n",
       "  X Bounds:\t-4.993e-01, 4.993e-01\n",
       "  Y Bounds:\t-4.965e-01, 4.965e-01\n",
       "  Z Bounds:\t-5.000e-01, 5.000e-01\n",
       "  N Arrays:\t0"
      ]
     },
     "execution_count": 114,
     "metadata": {},
     "output_type": "execute_result"
    }
   ],
   "source": [
    "tet.grid"
   ]
  },
  {
   "cell_type": "code",
   "execution_count": 121,
   "metadata": {
    "ExecuteTime": {
     "end_time": "2020-12-04T01:08:06.403729Z",
     "start_time": "2020-12-04T01:08:06.368712Z"
    }
   },
   "outputs": [],
   "source": [
    "retval = tet.grid.connectivity()"
   ]
  },
  {
   "cell_type": "code",
   "execution_count": 124,
   "metadata": {
    "ExecuteTime": {
     "end_time": "2020-12-04T01:08:19.766009Z",
     "start_time": "2020-12-04T01:08:19.741802Z"
    }
   },
   "outputs": [
    {
     "data": {
      "text/plain": [
       "pyvista.core.pointset.UnstructuredGrid"
      ]
     },
     "execution_count": 124,
     "metadata": {},
     "output_type": "execute_result"
    }
   ],
   "source": [
    " type(retval)"
   ]
  },
  {
   "cell_type": "code",
   "execution_count": 127,
   "metadata": {
    "ExecuteTime": {
     "end_time": "2020-12-04T01:08:56.609748Z",
     "start_time": "2020-12-04T01:08:56.564655Z"
    }
   },
   "outputs": [],
   "source": [
    "rv = retval.extract_surface()"
   ]
  },
  {
   "cell_type": "code",
   "execution_count": 132,
   "metadata": {
    "ExecuteTime": {
     "end_time": "2020-12-04T01:09:31.982201Z",
     "start_time": "2020-12-04T01:09:31.951277Z"
    }
   },
   "outputs": [
    {
     "data": {
      "text/plain": [
       "(26880,)"
      ]
     },
     "execution_count": 132,
     "metadata": {},
     "output_type": "execute_result"
    }
   ],
   "source": [
    "rv.faces.shape"
   ]
  },
  {
   "cell_type": "code",
   "execution_count": 133,
   "metadata": {
    "ExecuteTime": {
     "end_time": "2020-12-04T01:10:28.226423Z",
     "start_time": "2020-12-04T01:10:28.194773Z"
    }
   },
   "outputs": [],
   "source": [
    "rv.extrude?"
   ]
  },
  {
   "cell_type": "code",
   "execution_count": null,
   "metadata": {},
   "outputs": [],
   "source": [
    "# # tet.write(filename=tmpdir_cbd)#, binary=False)\n",
    "# tetgen.pytetgen\n",
    "\n",
    "# retval = pv.read(input_file_name)\n",
    "\n",
    "# retval.delaunay_3d?\n",
    "\n",
    "# retval.texture_map_to_sphere?\n",
    "\n",
    "# retval.surface_indices()\n",
    "\n",
    "# retval.triangulate?\n",
    "\n",
    "\n",
    "\n",
    "# r = retval.point_data_to_cell_data()\n",
    "\n",
    "# tet.tetrahedralize?"
   ]
  },
  {
   "cell_type": "markdown",
   "metadata": {
    "heading_collapsed": true
   },
   "source": [
    "### identify the elements adjacent/connected to the surface nodes and use only them for simulation\n",
    "- TODO(later): Hack tetrahedralize to make it not make new nodes using `import inspect`"
   ]
  },
  {
   "cell_type": "code",
   "execution_count": 13,
   "metadata": {
    "ExecuteTime": {
     "end_time": "2020-12-04T01:48:59.315540Z",
     "start_time": "2020-12-04T01:48:59.284723Z"
    },
    "hidden": true
   },
   "outputs": [],
   "source": [
    "# print(tet)"
   ]
  },
  {
   "cell_type": "code",
   "execution_count": 14,
   "metadata": {
    "ExecuteTime": {
     "end_time": "2020-12-04T01:49:00.693683Z",
     "start_time": "2020-12-04T01:49:00.667626Z"
    },
    "hidden": true
   },
   "outputs": [],
   "source": [
    "# retval = tet.make_manifold(verbose=True)"
   ]
  },
  {
   "cell_type": "code",
   "execution_count": 15,
   "metadata": {
    "ExecuteTime": {
     "end_time": "2020-12-04T01:49:01.893223Z",
     "start_time": "2020-12-04T01:49:01.862454Z"
    },
    "hidden": true
   },
   "outputs": [],
   "source": [
    "# tet.elem"
   ]
  },
  {
   "cell_type": "code",
   "execution_count": 144,
   "metadata": {
    "ExecuteTime": {
     "end_time": "2020-12-04T01:24:23.083995Z",
     "start_time": "2020-12-04T01:24:23.055241Z"
    },
    "hidden": true
   },
   "outputs": [],
   "source": [
    "#TODO: find all elements/tetrahedra in tet that have a node on the surface\n",
    "#TODO: store ^those as my elements\n",
    "#TODO: go through notebook and change tet.elem to elements and tet.nodes to nodes\n",
    "\n",
    "\n",
    "#TODO: sort the index number of triangles\n",
    "#TODO: make a simple function that checks if a triangle exists in a tetrahedron in the tetgen mesh\n",
    "#TODO: label all such "
   ]
  },
  {
   "cell_type": "code",
   "execution_count": 16,
   "metadata": {
    "ExecuteTime": {
     "end_time": "2020-12-04T01:49:09.080389Z",
     "start_time": "2020-12-04T01:49:09.050492Z"
    },
    "hidden": true
   },
   "outputs": [],
   "source": [
    "# vertices_tet, elements_tet = tet.tetrahedralize(order=1)#, mindihedral=1, minratio=1., nobisect=True, steinerleft=-1)\n",
    "# vertices_trimesh"
   ]
  },
  {
   "cell_type": "code",
   "execution_count": 9,
   "metadata": {
    "ExecuteTime": {
     "end_time": "2020-12-04T01:48:24.900289Z",
     "start_time": "2020-12-04T01:48:24.873257Z"
    },
    "hidden": true
   },
   "outputs": [],
   "source": [
    "# #TODO: make a map between nodes from mesh_trimesh to tet\n",
    "# key_lst = []\n",
    "# value_lst = []\n",
    "# for nv, v in enumerate(vertices_trimesh):\n",
    "#     for nu, u in enumerate(vertices_tet):\n",
    "#         if (v==u).all():\n",
    "#             key_lst.append(nv)\n",
    "#             value_lst.append(nu)\n",
    "# index_dict_tri_to_tet = dict(zip(key_lst,value_lst))\n",
    "# print(index_dict_tri_to_tet)"
   ]
  },
  {
   "cell_type": "markdown",
   "metadata": {
    "ExecuteTime": {
     "end_time": "2020-12-04T01:36:14.955630Z",
     "start_time": "2020-12-04T01:36:14.924379Z"
    },
    "hidden": true
   },
   "source": [
    "apparently, index_dict_tri_to_tet turned out to be the identity map"
   ]
  },
  {
   "cell_type": "code",
   "execution_count": 17,
   "metadata": {
    "ExecuteTime": {
     "end_time": "2020-12-04T01:49:10.868171Z",
     "start_time": "2020-12-04T01:49:10.837719Z"
    },
    "hidden": true
   },
   "outputs": [],
   "source": [
    "N_vertices_tri = vertices_trimesh.shape[0]\n",
    "N_elements_tet = elements_tet.shape[0]"
   ]
  },
  {
   "cell_type": "code",
   "execution_count": 65,
   "metadata": {
    "ExecuteTime": {
     "end_time": "2020-12-04T02:15:53.212356Z",
     "start_time": "2020-12-04T02:15:53.163646Z"
    },
    "hidden": true
   },
   "outputs": [],
   "source": [
    "#select all tet elements that are connected to the surface faces and/or nodes\n",
    "# <--> select all tet elements that have a node_index < N_vertices_tri (at least three times)\n",
    "K_index_lst_star = []\n",
    "K_index_lst_surface = []\n",
    "for K_index, K in enumerate(elements_tet):\n",
    "    #if this element contains any surface nodes,\n",
    "    if (K<N_vertices_tri).any():\n",
    "        #then add it to the K_index lists\n",
    "        K_index_lst_star.append(K_index)\n",
    "        if sum(K<N_vertices_tri) == 3:\n",
    "            K_index_lst_surface.append(K_index)\n",
    "K_index_array_surface = np.array(K_index_lst_surface)\n",
    "K_index_array_star = np.array(K_index_lst_star)   \n",
    "elements = elements_tet[K_index_array_star]\n",
    "elements_surface = elements_tet[K_index_array_surface]"
   ]
  },
  {
   "cell_type": "code",
   "execution_count": 54,
   "metadata": {
    "ExecuteTime": {
     "end_time": "2020-12-04T02:03:01.782614Z",
     "start_time": "2020-12-04T02:03:01.752096Z"
    },
    "hidden": true
   },
   "outputs": [],
   "source": [
    "# sphere = pv.Sphere()\n",
    "# tet_s = tetgen.TetGen(sphere)\n",
    "# tet_s.tetrahedralize();"
   ]
  },
  {
   "cell_type": "code",
   "execution_count": 58,
   "metadata": {
    "ExecuteTime": {
     "end_time": "2020-12-04T02:04:49.687486Z",
     "start_time": "2020-12-04T02:04:49.656487Z"
    },
    "hidden": true
   },
   "outputs": [],
   "source": [
    "node_indices = np.array(sorted(set(elements.flatten())))\n",
    "#assert that all nodes used are indexed by range(  \"number of vertices in surface elements\"   )\n",
    "assert ( (np.diff(node_indices)==1).all() ) \n",
    "#Nota bene: if ^this fails, then vertex reindexing is necessary"
   ]
  },
  {
   "cell_type": "code",
   "execution_count": 60,
   "metadata": {
    "ExecuteTime": {
     "end_time": "2020-12-04T02:05:18.401600Z",
     "start_time": "2020-12-04T02:05:18.371265Z"
    },
    "hidden": true
   },
   "outputs": [],
   "source": [
    "# \"number of vertices in surface elements\" \n",
    "N_vertices = node_indices.shape[0]\n",
    "#now node indices is generated by range(node_indices)\n",
    "vertices = vertices_tet[:N_vertices].copy()"
   ]
  },
  {
   "cell_type": "markdown",
   "metadata": {
    "ExecuteTime": {
     "end_time": "2020-12-04T01:57:48.707477Z",
     "start_time": "2020-12-04T01:57:48.674739Z"
    },
    "heading_collapsed": true
   },
   "source": [
    "### TODO(ignore): set the thickness of this tetrahedral spherical shell mesh to a known value\n",
    "#DONE: make a boolean mask for vertices being on the surface (vid<N_??)\n"
   ]
  },
  {
   "cell_type": "code",
   "execution_count": 63,
   "metadata": {
    "ExecuteTime": {
     "end_time": "2020-12-04T02:14:29.853061Z",
     "start_time": "2020-12-04T02:14:29.818117Z"
    },
    "hidden": true
   },
   "outputs": [
    {
     "data": {
      "text/plain": [
       "0.5000014600134246"
      ]
     },
     "execution_count": 63,
     "metadata": {},
     "output_type": "execute_result"
    }
   ],
   "source": [
    "def measure_max_thickness(vertices):\n",
    "    lst_dist = [np.linalg.norm(n) for n in vertices]\n",
    "    return np.max(lst_dist)-np.min(lst_dist)\n",
    "\n"
   ]
  },
  {
   "cell_type": "code",
   "execution_count": 78,
   "metadata": {
    "ExecuteTime": {
     "end_time": "2020-12-04T02:18:53.366943Z",
     "start_time": "2020-12-04T02:18:53.326790Z"
    },
    "hidden": true
   },
   "outputs": [],
   "source": [
    "for K_index in elements_surface:\n",
    "    boo_surface = K_index<N_vertices_tri\n",
    "    #assert each surface tetrahedron has exactly 1 node not on the surface\n",
    "    assert ( 4-sum(boo_surface) == 1 ) "
   ]
  },
  {
   "cell_type": "code",
   "execution_count": 81,
   "metadata": {
    "ExecuteTime": {
     "end_time": "2020-12-04T02:22:12.454194Z",
     "start_time": "2020-12-04T02:22:12.424307Z"
    },
    "hidden": true
   },
   "outputs": [],
   "source": [
    "#TODO: compute the outward surface normal for each surface triangle\n",
    "#nota bene: this can be done using the func in mesh_trimesh.face_normals, \n",
    "# but ^that would not be usable in fast simulation code"
   ]
  },
  {
   "cell_type": "code",
   "execution_count": 146,
   "metadata": {
    "ExecuteTime": {
     "end_time": "2020-12-04T02:49:42.867154Z",
     "start_time": "2020-12-04T02:49:42.835249Z"
    },
    "hidden": true
   },
   "outputs": [],
   "source": [
    "def compute_unit_normal(triangle_array):\n",
    "    '''triangle_array is a 3x3 numpy array.'''\n",
    "    Q = triangle_array\n",
    "    e1 = Q[1]-Q[0]\n",
    "    e2 = Q[2]-Q[1]\n",
    "    normal = np.cross(e1,e2)\n",
    "    normal /= np.linalg.norm(normal)\n",
    "    return normal"
   ]
  },
  {
   "cell_type": "code",
   "execution_count": 147,
   "metadata": {
    "ExecuteTime": {
     "end_time": "2020-12-04T02:49:43.600782Z",
     "start_time": "2020-12-04T02:49:43.564115Z"
    },
    "hidden": true
   },
   "outputs": [],
   "source": [
    "def compute_outward_unit_normal(triangle_array):\n",
    "    Q = triangle_array\n",
    "    normal = compute_unit_normal(triangle_array)\n",
    "    #compute radial vector supposing center of mesh is at the origin and the mesh isn't horribly convex\n",
    "    r = np.mean(Q,axis=0)\n",
    "    #set the normal to outward\n",
    "    is_outward = np.dot(normal,r)>0\n",
    "    if not is_outward:\n",
    "        normal *= -1\n",
    "    return normal"
   ]
  },
  {
   "cell_type": "code",
   "execution_count": 155,
   "metadata": {
    "ExecuteTime": {
     "end_time": "2020-12-04T02:55:48.426500Z",
     "start_time": "2020-12-04T02:55:48.336557Z"
    },
    "hidden": true
   },
   "outputs": [],
   "source": [
    "#assert the normal it always outward.\n",
    "for K_index,K in enumerate(elements_surface):\n",
    "    fid_surface = np.sort(K)[:3]\n",
    "    fid_interior = np.sort(K)[3]\n",
    "    Q = vertices[fid_surface]\n",
    "    normal = compute_outward_unit_normal(triangle_array=Q)\n",
    "    #compute radial vector\n",
    "    r = np.mean(Q,axis=0)\n",
    "    \n",
    "    #assert the normal is outward\n",
    "    assert ( np.dot(normal,r)>0 ) "
   ]
  },
  {
   "cell_type": "code",
   "execution_count": null,
   "metadata": {
    "hidden": true
   },
   "outputs": [],
   "source": [
    "#TODO: make a modified version of ^that to do the following:\n",
    "#TODO: move the new nodes to have a known thickness for each surface element\n"
   ]
  },
  {
   "cell_type": "code",
   "execution_count": 158,
   "metadata": {
    "ExecuteTime": {
     "end_time": "2020-12-04T14:40:43.371734Z",
     "start_time": "2020-12-04T14:40:43.332058Z"
    },
    "hidden": true
   },
   "outputs": [
    {
     "ename": "ModuleNotFoundError",
     "evalue": "No module named 'Blender'",
     "output_type": "error",
     "traceback": [
      "\u001b[0;31m---------------------------------------------------------------------------\u001b[0m",
      "\u001b[0;31mModuleNotFoundError\u001b[0m                       Traceback (most recent call last)",
      "\u001b[0;32m<ipython-input-158-30f830ae26a1>\u001b[0m in \u001b[0;36m<module>\u001b[0;34m\u001b[0m\n\u001b[0;32m----> 1\u001b[0;31m \u001b[0;32mimport\u001b[0m \u001b[0mBlender\u001b[0m\u001b[0;34m\u001b[0m\u001b[0;34m\u001b[0m\u001b[0m\n\u001b[0m",
      "\u001b[0;31mModuleNotFoundError\u001b[0m: No module named 'Blender'"
     ]
    }
   ],
   "source": [
    "import Blender"
   ]
  },
  {
   "cell_type": "code",
   "execution_count": 157,
   "metadata": {
    "ExecuteTime": {
     "end_time": "2020-12-04T14:40:40.240828Z",
     "start_time": "2020-12-04T14:40:40.072938Z"
    },
    "hidden": true
   },
   "outputs": [
    {
     "name": "stdout",
     "output_type": "stream",
     "text": [
      "/bin/bash: BPY: command not found\r\n"
     ]
    }
   ],
   "source": [
    "!BPY"
   ]
  },
  {
   "cell_type": "code",
   "execution_count": null,
   "metadata": {
    "hidden": true
   },
   "outputs": [],
   "source": []
  },
  {
   "cell_type": "markdown",
   "metadata": {},
   "source": [
    "### scratchwerk"
   ]
  },
  {
   "cell_type": "code",
   "execution_count": 153,
   "metadata": {
    "ExecuteTime": {
     "end_time": "2020-12-04T02:51:55.589099Z",
     "start_time": "2020-12-04T02:51:44.923062Z"
    }
   },
   "outputs": [],
   "source": [
    "# #slowly create mapping dictionaries from elements to faces\n",
    "# key_lst = []\n",
    "# value_lst = []\n",
    "# for nu, e in enumerate(elements_surface):\n",
    "#     for nv, f in enumerate(faces_trimesh):\n",
    "#         #if the surface indices match,\n",
    "#         if np.isclose(np.sort(e).astype('int32')[:3],np.sort(f).astype('int32')).all():\n",
    "#             key_lst.append(nu)\n",
    "#             value_lst.append(nv)\n",
    "# index_dict_tet_to_tri = dict(zip(key_lst,value_lst))\n",
    "# index_dict_tri_to_tet = dict(zip(value_lst,key_lst))\n",
    "# # print(index_dict_tri_to_tet)"
   ]
  },
  {
   "cell_type": "code",
   "execution_count": 130,
   "metadata": {
    "ExecuteTime": {
     "end_time": "2020-12-04T02:38:00.456709Z",
     "start_time": "2020-12-04T02:38:00.426848Z"
    }
   },
   "outputs": [
    {
     "name": "stdout",
     "output_type": "stream",
     "text": [
      "[150 239 156]\n",
      "[150 156 239 256]\n"
     ]
    }
   ],
   "source": [
    "# #check that the mappings work\n",
    "# vid_lst_triangle_winding_consistent = faces_trimesh[index_dict_tet_to_tri[0]]\n",
    "# print(vid_lst_triangle_winding_consistent)\n",
    "# print(elements_surface[0])"
   ]
  },
  {
   "cell_type": "code",
   "execution_count": 154,
   "metadata": {
    "ExecuteTime": {
     "end_time": "2020-12-04T02:54:07.444092Z",
     "start_time": "2020-12-04T02:54:07.399122Z"
    }
   },
   "outputs": [
    {
     "ename": "KeyError",
     "evalue": "87",
     "output_type": "error",
     "traceback": [
      "\u001b[0;31m---------------------------------------------------------------------------\u001b[0m",
      "\u001b[0;31mKeyError\u001b[0m                                  Traceback (most recent call last)",
      "\u001b[0;32m<ipython-input-154-b01d8867e02f>\u001b[0m in \u001b[0;36m<module>\u001b[0;34m\u001b[0m\n\u001b[1;32m      2\u001b[0m \u001b[0;31m#using the winding from elements_tri! it's consistent!\u001b[0m\u001b[0;34m\u001b[0m\u001b[0;34m\u001b[0m\u001b[0;34m\u001b[0m\u001b[0m\n\u001b[1;32m      3\u001b[0m \u001b[0;32mfor\u001b[0m \u001b[0mf_index\u001b[0m\u001b[0;34m,\u001b[0m\u001b[0mf\u001b[0m \u001b[0;32min\u001b[0m \u001b[0menumerate\u001b[0m\u001b[0;34m(\u001b[0m\u001b[0mfaces_trimesh\u001b[0m\u001b[0;34m)\u001b[0m\u001b[0;34m:\u001b[0m\u001b[0;34m\u001b[0m\u001b[0;34m\u001b[0m\u001b[0m\n\u001b[0;32m----> 4\u001b[0;31m     \u001b[0mfid\u001b[0m \u001b[0;34m=\u001b[0m \u001b[0mindex_dict_tri_to_tet\u001b[0m\u001b[0;34m[\u001b[0m\u001b[0mf_index\u001b[0m\u001b[0;34m]\u001b[0m\u001b[0;34m\u001b[0m\u001b[0;34m\u001b[0m\u001b[0m\n\u001b[0m\u001b[1;32m      5\u001b[0m     \u001b[0meid\u001b[0m \u001b[0;34m=\u001b[0m \u001b[0melements_surface\u001b[0m\u001b[0;34m[\u001b[0m\u001b[0mfid\u001b[0m\u001b[0;34m]\u001b[0m\u001b[0;34m\u001b[0m\u001b[0;34m\u001b[0m\u001b[0m\n\u001b[1;32m      6\u001b[0m     \u001b[0mvid_lst_triangle_winding_consistent\u001b[0m \u001b[0;34m=\u001b[0m \u001b[0mfaces_trimesh\u001b[0m\u001b[0;34m[\u001b[0m\u001b[0mfid\u001b[0m\u001b[0;34m]\u001b[0m\u001b[0;34m\u001b[0m\u001b[0;34m\u001b[0m\u001b[0m\n",
      "\u001b[0;31mKeyError\u001b[0m: 87"
     ]
    }
   ],
   "source": [
    "# #TODO: assert the normal it always outward.\n",
    "# #using the winding from elements_tri! it's consistent!\n",
    "# for f_index,f in enumerate(faces_trimesh):\n",
    "#     fid = index_dict_tri_to_tet[f_index]\n",
    "#     eid = elements_surface[fid]\n",
    "#     vid_lst_triangle_winding_consistent = faces_trimesh[fid]\n",
    "#     Q = vertices_trimesh[vid_lst_triangle_winding_consistent]\n",
    "#     #         normal = compute_outward_unit_normal(triangle_array=Q)\n",
    "#     normal = compute_unit_normal(triangle_array=Q)\n",
    "#     #compute radial vector\n",
    "#     r = np.mean(Q,axis=0)\n",
    "    \n",
    "#     #assert the normal is outward\n",
    "#     assert ( np.dot(normal,r)>0 ) "
   ]
  },
  {
   "cell_type": "code",
   "execution_count": 152,
   "metadata": {
    "ExecuteTime": {
     "end_time": "2020-12-04T02:51:41.665959Z",
     "start_time": "2020-12-04T02:51:41.617052Z"
    }
   },
   "outputs": [
    {
     "ename": "KeyError",
     "evalue": "64",
     "output_type": "error",
     "traceback": [
      "\u001b[0;31m---------------------------------------------------------------------------\u001b[0m",
      "\u001b[0;31mKeyError\u001b[0m                                  Traceback (most recent call last)",
      "\u001b[0;32m<ipython-input-152-b027d0970b0d>\u001b[0m in \u001b[0;36m<module>\u001b[0;34m\u001b[0m\n\u001b[1;32m      3\u001b[0m \u001b[0;32mfor\u001b[0m \u001b[0mK_index\u001b[0m\u001b[0;34m,\u001b[0m\u001b[0mK\u001b[0m \u001b[0;32min\u001b[0m \u001b[0menumerate\u001b[0m\u001b[0;34m(\u001b[0m\u001b[0melements_surface\u001b[0m\u001b[0;34m)\u001b[0m\u001b[0;34m:\u001b[0m\u001b[0;34m\u001b[0m\u001b[0;34m\u001b[0m\u001b[0m\n\u001b[1;32m      4\u001b[0m     \u001b[0mfid\u001b[0m \u001b[0;34m=\u001b[0m \u001b[0mindex_dict_tri_to_tet\u001b[0m\u001b[0;34m[\u001b[0m\u001b[0mK_index\u001b[0m\u001b[0;34m]\u001b[0m\u001b[0;34m\u001b[0m\u001b[0;34m\u001b[0m\u001b[0m\n\u001b[0;32m----> 5\u001b[0;31m     \u001b[0mvid_lst_triangle_winding_consistent\u001b[0m \u001b[0;34m=\u001b[0m \u001b[0mfaces_trimesh\u001b[0m\u001b[0;34m[\u001b[0m\u001b[0mindex_dict_tet_to_tri\u001b[0m\u001b[0;34m[\u001b[0m\u001b[0mK_index\u001b[0m\u001b[0;34m]\u001b[0m\u001b[0;34m]\u001b[0m\u001b[0;34m\u001b[0m\u001b[0;34m\u001b[0m\u001b[0m\n\u001b[0m\u001b[1;32m      6\u001b[0m     \u001b[0mQ\u001b[0m \u001b[0;34m=\u001b[0m \u001b[0mvertices_trimesh\u001b[0m\u001b[0;34m[\u001b[0m\u001b[0mvid_lst_triangle_winding_consistent\u001b[0m\u001b[0;34m]\u001b[0m\u001b[0;34m\u001b[0m\u001b[0;34m\u001b[0m\u001b[0m\n\u001b[1;32m      7\u001b[0m     \u001b[0mnormal\u001b[0m \u001b[0;34m=\u001b[0m \u001b[0mcompute_outward_unit_normal\u001b[0m\u001b[0;34m(\u001b[0m\u001b[0mtriangle_array\u001b[0m\u001b[0;34m=\u001b[0m\u001b[0mQ\u001b[0m\u001b[0;34m)\u001b[0m\u001b[0;34m\u001b[0m\u001b[0;34m\u001b[0m\u001b[0m\n",
      "\u001b[0;31mKeyError\u001b[0m: 64"
     ]
    }
   ],
   "source": [
    "#TODO: assert the normal it always outward.\n",
    "#using the winding from elements_tri! it's consistent!\n",
    "for K_index,K in enumerate(elements_surface):\n",
    "    fid = index_dict_tri_to_tet[K_index]\n",
    "    vid_lst_triangle_winding_consistent = faces_trimesh[index_dict_tet_to_tri[K_index]]\n",
    "    Q = vertices_trimesh[vid_lst_triangle_winding_consistent]\n",
    "    normal = compute_outward_unit_normal(triangle_array=Q)\n",
    "    #compute radial vector\n",
    "    r = np.mean(Q,axis=0)\n",
    "    \n",
    "    #assert the normal is outward\n",
    "    assert ( np.dot(normal,r)>0 ) "
   ]
  },
  {
   "cell_type": "code",
   "execution_count": 141,
   "metadata": {
    "ExecuteTime": {
     "end_time": "2020-12-04T02:43:54.737792Z",
     "start_time": "2020-12-04T02:43:54.697979Z"
    }
   },
   "outputs": [
    {
     "ename": "KeyError",
     "evalue": "64",
     "output_type": "error",
     "traceback": [
      "\u001b[0;31m---------------------------------------------------------------------------\u001b[0m",
      "\u001b[0;31mKeyError\u001b[0m                                  Traceback (most recent call last)",
      "\u001b[0;32m<ipython-input-141-d28f6152646b>\u001b[0m in \u001b[0;36m<module>\u001b[0;34m\u001b[0m\n\u001b[0;32m----> 1\u001b[0;31m \u001b[0mfaces_trimesh\u001b[0m\u001b[0;34m[\u001b[0m\u001b[0mindex_dict_tet_to_tri\u001b[0m\u001b[0;34m[\u001b[0m\u001b[0;36m64\u001b[0m\u001b[0;34m]\u001b[0m\u001b[0;34m]\u001b[0m\u001b[0;34m\u001b[0m\u001b[0;34m\u001b[0m\u001b[0m\n\u001b[0m",
      "\u001b[0;31mKeyError\u001b[0m: 64"
     ]
    }
   ],
   "source": [
    "faces_trimesh[index_dict_tet_to_tri[64]]"
   ]
  },
  {
   "cell_type": "code",
   "execution_count": null,
   "metadata": {
    "ExecuteTime": {
     "end_time": "2020-12-04T02:44:00.233680Z",
     "start_time": "2020-12-04T02:44:00.194727Z"
    }
   },
   "outputs": [],
   "source": []
  },
  {
   "cell_type": "code",
   "execution_count": 50,
   "metadata": {
    "ExecuteTime": {
     "end_time": "2020-12-05T05:01:17.846557Z",
     "start_time": "2020-12-05T05:01:17.842155Z"
    }
   },
   "outputs": [],
   "source": [
    "from queue import PriorityQueue\n",
    "\n",
    "q = PriorityQueue()\n",
    "for z in range(1):\n",
    "    q.put((4, 'Read'))\n",
    "    q.put((2, 'Play'))\n",
    "    q.put((5, 'Write'))\n",
    "    q.put((1, 'Code'))\n",
    "    q.put((3, 'Study'))\n",
    "\n"
   ]
  },
  {
   "cell_type": "code",
   "execution_count": 63,
   "metadata": {
    "ExecuteTime": {
     "end_time": "2020-12-05T05:44:33.305141Z",
     "start_time": "2020-12-05T05:44:33.300332Z"
    }
   },
   "outputs": [
    {
     "data": {
      "text/plain": [
       "array([[1, 2],\n",
       "       [1, 2]])"
      ]
     },
     "execution_count": 63,
     "metadata": {},
     "output_type": "execute_result"
    }
   ],
   "source": [
    "arr = np.array([[1,2],[1,2]])\n",
    "arr @ arr\n",
    "arr"
   ]
  },
  {
   "cell_type": "code",
   "execution_count": 65,
   "metadata": {
    "ExecuteTime": {
     "end_time": "2020-12-05T05:47:09.589913Z",
     "start_time": "2020-12-05T05:47:09.585859Z"
    }
   },
   "outputs": [],
   "source": [
    "while not q.empty():\n",
    "    next_item = q.get()\n",
    "    print(next_item)"
   ]
  },
  {
   "cell_type": "code",
   "execution_count": null,
   "metadata": {},
   "outputs": [],
   "source": []
  }
 ],
 "metadata": {
  "kernelspec": {
   "display_name": "Python 3",
   "language": "python",
   "name": "python3"
  },
  "language_info": {
   "codemirror_mode": {
    "name": "ipython",
    "version": 3
   },
   "file_extension": ".py",
   "mimetype": "text/x-python",
   "name": "python",
   "nbconvert_exporter": "python",
   "pygments_lexer": "ipython3",
   "version": "3.8.6"
  },
  "varInspector": {
   "cols": {
    "lenName": 16,
    "lenType": 16,
    "lenVar": 40
   },
   "kernels_config": {
    "python": {
     "delete_cmd_postfix": "",
     "delete_cmd_prefix": "del ",
     "library": "var_list.py",
     "varRefreshCmd": "print(var_dic_list())"
    },
    "r": {
     "delete_cmd_postfix": ") ",
     "delete_cmd_prefix": "rm(",
     "library": "var_list.r",
     "varRefreshCmd": "cat(var_dic_list()) "
    }
   },
   "oldHeight": 455.45,
   "position": {
    "height": "477.25px",
    "left": "869.8px",
    "right": "20px",
    "top": "74px",
    "width": "363.4px"
   },
   "types_to_exclude": [
    "module",
    "function",
    "builtin_function_or_method",
    "instance",
    "_Feature"
   ],
   "varInspector_section_display": "block",
   "window_display": false
  }
 },
 "nbformat": 4,
 "nbformat_minor": 4
}
