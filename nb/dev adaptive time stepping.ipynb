{
 "cells": [
  {
   "cell_type": "markdown",
   "metadata": {},
   "source": [
    "# dev adaptive time stepping - letting tetrahedral elements learn their own step size"
   ]
  },
  {
   "cell_type": "code",
   "execution_count": 17,
   "metadata": {
    "ExecuteTime": {
     "end_time": "2020-12-11T00:43:22.929944Z",
     "start_time": "2020-12-11T00:43:22.886247Z"
    }
   },
   "outputs": [
    {
     "name": "stdout",
     "output_type": "stream",
     "text": [
      "Automatic calling is: Smart\n",
      "The autoreload extension is already loaded. To reload it, use:\n",
      "  %reload_ext autoreload\n"
     ]
    }
   ],
   "source": [
    "%matplotlib inline\n",
    "from lib.my_initialization import *\n",
    "from lib.controller.one_step_forward_euler import *\n",
    "from lib.controller.simple_explicit_time_adaptation import *\n",
    "\n",
    "%autocall 1\n",
    "%load_ext autoreload\n",
    "%autoreload 2"
   ]
  },
  {
   "cell_type": "markdown",
   "metadata": {},
   "source": [
    "# initialize"
   ]
  },
  {
   "cell_type": "code",
   "execution_count": 38,
   "metadata": {
    "ExecuteTime": {
     "end_time": "2020-12-11T00:49:03.558550Z",
     "start_time": "2020-12-11T00:49:03.400124Z"
    }
   },
   "outputs": [
    {
     "name": "stderr",
     "output_type": "stream",
     "text": [
      "face_normals all zero, ignoring!\n"
     ]
    },
    {
     "name": "stdout",
     "output_type": "stream",
     "text": [
      "['element_array_time', 'element_array_index', 'element_array_mass', 'element_array_volume', 'element_array_inverse_equilibrium_position', 'node_array_equilibrium_position', 'node_array_time', 'node_array_position', 'node_array_momentum', 'node_array_mass', 'node_array_volume']\n"
     ]
    }
   ],
   "source": [
    "#define Lamé parameters\n",
    "mu = 1.; lam = 10.; \n",
    "#define coefficient for Rayleigh damping\n",
    "gamma = .0#1.#1.;\n",
    "\n",
    "#define adaptive time stepping absolute tolerances\n",
    "salience = 2#128#32\n",
    "learning_rate = np.log(salience) #np.log(16) #np.log(2)\n",
    "lasso_fraction = 0.5\n",
    "v_scale = 2.\n",
    "mass_density=1.\n",
    "\n",
    "stepsize_init = 0.0001#0.0001\n",
    "atol_x = 0.0001#0.001#1e-7; \n",
    "atol_v = 0.0001#0.001#1e-7; \n",
    "btol_x = 0.0001#0.001#1e-10; \n",
    "btol_v = 0.0001#0.001#1e-10; \n",
    "\n",
    "\n",
    "#path to mesh\n",
    "input_file_name = f'../data/spherical_meshes/spherical_mesh_100.stl'\n",
    "#where to save results\n",
    "data_folder =  os.path.join(nb_dir,'../data/mov_csv')\n",
    "data_fn = f\"avi_es_fixed_lr_a_equal_b_{os.path.basename(input_file_name).replace('.stl',f'_mu_{mu}_lambda_{lam}_gamma_{gamma}_vscale_{v_scale}_stepsizeinit_{stepsize_init}')}_salience_{salience}_atolx_{atol_x}.csv\"\n",
    "# data_fn = f\"avi_ns_fixed_lr_a_equal_b_{os.path.basename(input_file_name).replace('.stl',f'_mu_{mu}_lambda_{lam}_gamma_{gamma}vscale_{v_scale}_stepsizeinit_{stepsize_init}')}_salience_{salience}_atolx_{atol_x}.csv\"\n",
    "save_folder_vid = '../vid/tmp'\n",
    "folder_vid = '../vid'\n",
    "# data_fn_counts = data_fn.replace(\"s_\",\"s_counts_\").replace('.csv','.npz')\n",
    "data_fn_counts = data_fn.replace(\"s_\",\"s_counts_\").replace('.csv','.npy')\n",
    "\n",
    "os.chdir(nb_dir)\n",
    "# input_file_name = f'../data/spherical_meshes/spherical_mesh_64.stl'input_file_name = f'../data/spherical_meshes/spherical_mesh_64.stl'\n",
    "# input_file_name = f'../data/spherical_meshes/spherical_mesh_1000.stl'\n",
    "input_file_name = os.path.join(nb_dir,input_file_name)\n",
    "tme = 0.\n",
    "dict_values_system = initialize_system(input_file_name, time_initial=tme, mass_density=mass_density)\n",
    "locals().update(dict_values_system)\n",
    "N_elements = element_array_index.shape[0]\n",
    "N_vertices = node_array_position.shape[0]\n",
    "print(list(dict_values_system.keys()))\n",
    "\n",
    "#header to start of video\n",
    "# TEXT = '''TEXT=$'Synchronous Variational Integrator\\nDamped Neohookean Model\\n(inward squish)''''\n",
    "TEXT = f\"\"\"\n",
    "TEXT=$'an inward squish\n",
    "        Synchronous Variational Integrator \n",
    "        Explicit Newmark Method\n",
    "        \n",
    "        Undamped Neohookean Model\n",
    "        mu {mu}  lambda {lam} gamma {gamma}\n",
    "        \n",
    "        Spherical Mesh\n",
    "        Num. Vertices {N_vertices}\n",
    "        Num. Elements {N_elements}\n",
    "'\"\"\"\n",
    "\n",
    "\n",
    "# TEXT = f\"\"\"\n",
    "# TEXT=$'an inward squish with neural time steps\n",
    "#         Asynchronous Variational Integrator \n",
    "#         Dormand–Prince Method\n",
    "        \n",
    "#         Undamped Neohookean Model\n",
    "#         mu {mu}  lambda {lam} gamma {gamma}\n",
    "        \n",
    "#         Spherical Mesh\n",
    "#         Num. Vertices {N_vertices}\n",
    "#         Num. Elements {N_elements}\n",
    "# '\"\"\"\n",
    "\n",
    "#write header to file\n",
    "# print(TEXT)\n",
    "# Dormand–Prince Method\n",
    "# Explicit Newmark Method\n",
    "# Implicit Midpoint Rule"
   ]
  },
  {
   "cell_type": "code",
   "execution_count": 39,
   "metadata": {
    "ExecuteTime": {
     "end_time": "2020-12-11T00:49:04.941905Z",
     "start_time": "2020-12-11T00:49:04.914567Z"
    }
   },
   "outputs": [
    {
     "name": "stdout",
     "output_type": "stream",
     "text": [
      "learning_bins are [3.05175781e-09 6.10351563e-09 1.22070313e-08 2.44140625e-08\n",
      " 4.88281250e-08 9.76562500e-08 1.95312500e-07 3.90625000e-07\n",
      " 7.81250000e-07 1.56250000e-06 3.12500000e-06 6.25000000e-06\n",
      " 1.25000000e-05 2.50000000e-05 5.00000000e-05 1.00000000e-04\n",
      " 2.00000000e-04 4.00000000e-04 8.00000000e-04 1.60000000e-03\n",
      " 3.20000000e-03 6.40000000e-03 1.28000000e-02 2.56000000e-02\n",
      " 5.12000000e-02 1.02400000e-01 2.04800000e-01 4.09600000e-01\n",
      " 8.19200000e-01 1.63840000e+00]\n"
     ]
    }
   ],
   "source": [
    "#initialize system\n",
    "tauK = element_array_time\n",
    "tau = node_array_time\n",
    "\n",
    "#get method of computing elastic forces \n",
    "zero_mat = np.zeros((4,3))\n",
    "# calc_P = get_calc_P(mu, lam)\n",
    "# compute_nodal_damping_forces  = get_compute_nodal_damping_forces(mu,lam,gamma)\n",
    "# comp_nodal_elastic_forces = get_comp_nodal_elastic_forces(mu, lam)\n",
    "\n",
    "elements = element_array_index\n",
    "vertices = node_array_position\n",
    "\n",
    "#initialize stepsizes of simulation\n",
    "element_array_stepsize = np.zeros_like(element_array_time) + stepsize_init\n",
    "element_array_count_calls_one_step = np.zeros_like(element_array_time,dtype=int)\n",
    "element_array_count_config_updates = np.zeros_like(element_array_time,dtype=int)\n",
    "momentum = node_array_momentum.copy()\n",
    "velocities = momentum.copy()\n",
    "for j in range(N_vertices):\n",
    "    velocities[j] /= node_array_mass[j]\n",
    "\n",
    "\n",
    "# #perturb momentum in the x direction and let it run overnight with a small timestep  \n",
    "velocities[:,0] = -v_scale * vertices[:,0].copy()\n",
    "\n",
    "#initialize containers of measures\n",
    "volume_lst = []\n",
    "energy_lst = []\n",
    "tme_lst    = []\n",
    "stepsize_mean_lst   = []\n",
    "stepsize_std_lst    = []\n",
    "stepsize_median_lst = []\n",
    "stepsize_count_lst = []\n",
    "frac_lb = lambda i: np.exp(learning_rate*i)  ##np.exp((i+.5)*learning_rate/10)\n",
    "learning_bins = np.array([stepsize_init*frac_lb(i) for i in np.arange(-15,15)])\n",
    "\n",
    "# #this looks nice. 30 bins\n",
    "# learning_bins = np.array([0.00480198, 0.00480886, 0.00481574, 0.00482262, 0.00482951,\n",
    "#         0.00483639, 0.00484327, 0.00485015, 0.00485703, 0.00486391,\n",
    "#         0.0048708 , 0.00487768, 0.00488456, 0.00489144, 0.00489832,\n",
    "#         0.0049052 , 0.00491209, 0.00491897, 0.00492585, 0.00493273,\n",
    "#         0.00493961, 0.00494649, 0.00495338, 0.00496026, 0.00496714,\n",
    "#         0.00497402, 0.0049809 , 0.00498778, 0.00499467, 0.00500155,\n",
    "#         0.00500843])\n",
    "\n",
    "# #let's try 100 bins\n",
    "# learning_bins = np.array([0.00477609, 0.00477838, 0.00478067, 0.00478296, 0.00478526,\n",
    "#         0.00478755, 0.00478984, 0.00479214, 0.00479443, 0.00479672,\n",
    "#         0.00479902, 0.00480131, 0.0048036 , 0.0048059 , 0.00480819,\n",
    "#         0.00481048, 0.00481277, 0.00481507, 0.00481736, 0.00481965,\n",
    "#         0.00482195, 0.00482424, 0.00482653, 0.00482883, 0.00483112,\n",
    "#         0.00483341, 0.00483571, 0.004838  , 0.00484029, 0.00484258,\n",
    "#         0.00484488, 0.00484717, 0.00484946, 0.00485176, 0.00485405,\n",
    "#         0.00485634, 0.00485864, 0.00486093, 0.00486322, 0.00486552,\n",
    "#         0.00486781, 0.0048701 , 0.0048724 , 0.00487469, 0.00487698,\n",
    "#         0.00487927, 0.00488157, 0.00488386, 0.00488615, 0.00488845,\n",
    "#         0.00489074, 0.00489303, 0.00489533, 0.00489762, 0.00489991,\n",
    "#         0.00490221, 0.0049045 , 0.00490679, 0.00490908, 0.00491138,\n",
    "#         0.00491367, 0.00491596, 0.00491826, 0.00492055, 0.00492284,\n",
    "#         0.00492514, 0.00492743, 0.00492972, 0.00493202, 0.00493431,\n",
    "#         0.0049366 , 0.0049389 , 0.00494119, 0.00494348, 0.00494577,\n",
    "#         0.00494807, 0.00495036, 0.00495265, 0.00495495, 0.00495724,\n",
    "#         0.00495953, 0.00496183, 0.00496412, 0.00496641, 0.00496871,\n",
    "#         0.004971  , 0.00497329, 0.00497558, 0.00497788, 0.00498017,\n",
    "#         0.00498246, 0.00498476, 0.00498705, 0.00498934, 0.00499164,\n",
    "#         0.00499393, 0.00499622, 0.00499852, 0.00500081, 0.0050031 ,\n",
    "#         0.00500539])\n",
    "\n",
    "# learning_bins = np.array([stepsize_init*np.exp((i+.5)*learning_rate) for i in np.arange(-3,3)])\n",
    "print(f\"learning_bins are {learning_bins}\")"
   ]
  },
  {
   "cell_type": "markdown",
   "metadata": {
    "ExecuteTime": {
     "end_time": "2020-12-10T03:20:49.022446Z",
     "start_time": "2020-12-10T03:20:48.992298Z"
    },
    "heading_collapsed": true
   },
   "source": [
    "### deprecated"
   ]
  },
  {
   "cell_type": "code",
   "execution_count": 2,
   "metadata": {
    "ExecuteTime": {
     "end_time": "2020-12-11T00:13:47.172846Z",
     "start_time": "2020-12-11T00:13:46.092911Z"
    },
    "hidden": true,
    "scrolled": true
   },
   "outputs": [
    {
     "name": "stderr",
     "output_type": "stream",
     "text": [
      "face_normals all zero, ignoring!\n"
     ]
    },
    {
     "name": "stdout",
     "output_type": "stream",
     "text": [
      "['element_array_time', 'element_array_index', 'element_array_mass', 'element_array_volume', 'element_array_inverse_equilibrium_position', 'node_array_equilibrium_position', 'node_array_time', 'node_array_position', 'node_array_momentum', 'node_array_mass', 'node_array_volume']\n",
      "learning_bins are [0.00017678 0.00035355 0.00070711 0.00141421 0.00282843 0.00565685]\n"
     ]
    }
   ],
   "source": [
    "os.chdir(nb_dir)\n",
    "# input_file_name = f'../data/spherical_meshes/spherical_mesh_64.stl'input_file_name = f'../data/spherical_meshes/spherical_mesh_64.stl'\n",
    "# input_file_name = f'../data/spherical_meshes/spherical_mesh_1000.stl'\n",
    "input_file_name = f'../data/spherical_meshes/spherical_mesh_100.stl'\n",
    "input_file_name = os.path.join(nb_dir,input_file_name)\n",
    "tme = 0.\n",
    "mass_density=1.\n",
    "dict_values_system = initialize_system(input_file_name, time_initial=tme, mass_density=mass_density)\n",
    "locals().update(dict_values_system)\n",
    "print(list(dict_values_system.keys()))\n",
    "tauK = element_array_time\n",
    "tau = node_array_time\n",
    "\n",
    "#define Lamé parameters\n",
    "mu = 1.; lam = 10.; \n",
    "#define coefficient for Rayleigh damping\n",
    "gamma = 0.#1.#1.;\n",
    "\n",
    "#define adaptive time stepping absolute tolerances\n",
    "atol_x = 0.001#1e-7; \n",
    "atol_v = 0.001#1e-7; \n",
    "btol_x = 1e-10; btol_v = 1e-10; \n",
    "learning_rate = np.log(2)\n",
    "lasso_fraction = 0.5\n",
    "\n",
    "#get method of computing elastic forces \n",
    "zero_mat = np.zeros((4,3))\n",
    "# calc_P = get_calc_P(mu, lam)\n",
    "# compute_nodal_damping_forces  = get_compute_nodal_damping_forces(mu,lam,gamma)\n",
    "# comp_nodal_elastic_forces = get_comp_nodal_elastic_forces(mu, lam)\n",
    "\n",
    "elements = element_array_index\n",
    "vertices = node_array_position\n",
    "\n",
    "N_elements = elements.shape[0]\n",
    "N_vertices = vertices.shape[0]\n",
    "\n",
    "#initialize stepsizes of simulation\n",
    "stepsize_init = 0.001#0.0001 \n",
    "element_array_stepsize = np.zeros_like(element_array_time) + stepsize_init\n",
    "element_array_count_calls_one_step = np.zeros_like(element_array_time,dtype=int)\n",
    "element_array_count_config_updates = np.zeros_like(element_array_time,dtype=int)\n",
    "momentum = node_array_momentum.copy()\n",
    "velocities = momentum.copy()\n",
    "for j in range(N_vertices):\n",
    "    velocities[j] /= node_array_mass[j]\n",
    "\n",
    "\n",
    "# #perturb momentum in the x direction and let it run overnight with a small timestep  \n",
    "v_scale = -1.\n",
    "velocities[:,0] = v_scale * vertices[:,0].copy()\n",
    "\n",
    "#initialize containers of measures\n",
    "volume_lst = []\n",
    "energy_lst = []\n",
    "tme_lst    = []\n",
    "stepsize_mean_lst   = []\n",
    "stepsize_std_lst    = []\n",
    "stepsize_median_lst = []\n",
    "stepsize_count_lst = []\n",
    "learning_bins = np.array([stepsize_init*np.exp((i+.5)*learning_rate) for i in np.arange(-3,3)])\n",
    "print(f\"learning_bins are {learning_bins}\")"
   ]
  },
  {
   "cell_type": "code",
   "execution_count": null,
   "metadata": {
    "ExecuteTime": {
     "end_time": "2020-12-06T10:10:03.174972Z",
     "start_time": "2020-12-06T10:10:03.147185Z"
    },
    "hidden": true
   },
   "outputs": [],
   "source": []
  },
  {
   "cell_type": "markdown",
   "metadata": {
    "heading_collapsed": true
   },
   "source": [
    "# (deprecated) define some functions"
   ]
  },
  {
   "cell_type": "code",
   "execution_count": 3,
   "metadata": {
    "ExecuteTime": {
     "end_time": "2020-12-07T22:57:57.534859Z",
     "start_time": "2020-12-07T22:57:57.508028Z"
    },
    "hidden": true
   },
   "outputs": [],
   "source": [
    "# def _compute_next_time(K, t, stepsize):\n",
    "# \t'''compute next time for element's evaluation'''\n",
    "# \treturn t + stepsize\n",
    "\n",
    "# def compute_one_step_map_forward_euler(t, K_vertices, K_velocities, K_masses, K_tau, tau_of_K, Ds, Bm, K_W, zero_mat):\n",
    "# \tNa = 4 # number of tetrahedral nodes, which is 4\n",
    "# \t# t, K_index, vertices, velocities, Ka, tau, tauK, elements, element_array_inverse_equilibrium_position, zero_mat, node_array_mass):\n",
    "# \tDelta_x = np.multiply (K_velocities[a] , (t - K_tau[a]))\n",
    "# \tfor a in range(Na):\n",
    "# \t\tK_vertices[a] = K_vertices[a] + Delta_x[a]\n",
    "# \t#update node times\n",
    "# \tfor a in range(Na):\n",
    "# \t\tK_tau[a] = t\n",
    "# \t#compute the nodal forces for each tetrahedral node\n",
    "# \tf   = comp_nodal_elastic_forces(K_W, Bm, Ds, zero_mat.copy())\n",
    "# \t#TODO(later): include any other forces, such as nodal forces, pressure forces, etc.\n",
    "# \t#net nodal forces\n",
    "# \tforce = f\n",
    "# \tDelta_v = np.multiply ( (t - tau_of_K) / K_masses , force )\n",
    "# \t#update node velocities \n",
    "# \tfor a in range(Na):\n",
    "# \t\tK_velocities[a] = K_velocities[a] + Delta_v[a]\n",
    "# \t#TODO(later): if node is not a boundary node, set velocity to zero\n",
    "# \treturn Delta_x, Delta_v"
   ]
  },
  {
   "cell_type": "markdown",
   "metadata": {
    "hidden": true
   },
   "source": [
    "### outline\n",
    "- TODO: update node positions to the half time (t_lesser-tau[a] from the original time\n",
    "- TODO: compute one"
   ]
  },
  {
   "cell_type": "code",
   "execution_count": 4,
   "metadata": {
    "ExecuteTime": {
     "end_time": "2020-12-06T10:56:33.389141Z",
     "start_time": "2020-12-06T10:56:33.362577Z"
    },
    "hidden": true
   },
   "outputs": [],
   "source": [
    "# one_step_forward_euler_simplified = get_one_step_forward_euler_simplified(mu,lam)\n",
    "# K_vertices, K_velocities = one_step_forward_euler_simplified(t, K_vertices, K_velocities, \n",
    "# \tK_masses, K_tau, tau_of_K, Ds, Bm, K_W, zero_mat)\n",
    "# #TODO(later): if node is a boundary node, set velocity to zero\n",
    "# #update element's time\n",
    "# tauK[K_index] = t\n",
    "# #compute next time for element's evaluation\n",
    "# tKnext = t + stepsize #_compute_next_time(K, t, stepsize)\n",
    "\n",
    "\n",
    "# compute_one_step_map_forward_euler(t, K_vertices, K_velocities, K_masses, K_tau, tau_of_K, Ds, Bm, K_W, zero_mat)\n",
    "\n",
    "# compute_one_step_map_forward_euler(t, K_vertices, K_velocities, K_masses, K_tau, tau_of_K, Ds, Bm, K_W, zero_mat)"
   ]
  },
  {
   "cell_type": "markdown",
   "metadata": {
    "heading_collapsed": true
   },
   "source": [
    "# initialize one simple element \n",
    "(for development purposes)"
   ]
  },
  {
   "cell_type": "code",
   "execution_count": 5,
   "metadata": {
    "ExecuteTime": {
     "end_time": "2020-12-06T10:56:33.418084Z",
     "start_time": "2020-12-06T10:56:33.390907Z"
    },
    "hidden": true
   },
   "outputs": [],
   "source": [
    "X = np.array([[0, 0, 1], [0, 1, 0],\n",
    "                  [-1, 0, 0], [+1, 0, 0]], dtype=float)\n",
    "x = X.copy()\n",
    "x[:,0] *= 2\n",
    "elements = np.array([[0,1,2,3]])\n",
    "K_index = 0\n",
    "K_W = compute_element_volume(node_array_position=x, element_array_index=elements, K_index=K_index)\n",
    "Ka = elements[K_index]\n",
    "\n",
    "Bm = compute_inverse_position(node_array_position=X, element_array_index=elements, K_index=K_index)\n",
    "# Bm  = element_array_inverse_equilibrium_position[K_index]\n",
    "K_vertices = x[Ka]\n",
    "K_velocities = velocities[Ka]\n",
    "\n",
    "# print( (K_vertices, K_W, Bm, zero_mat.copy()) ) "
   ]
  },
  {
   "cell_type": "code",
   "execution_count": 6,
   "metadata": {
    "ExecuteTime": {
     "end_time": "2020-12-06T10:56:33.443538Z",
     "start_time": "2020-12-06T10:56:33.419564Z"
    },
    "hidden": true
   },
   "outputs": [],
   "source": [
    "#given initialization as in explicit.py\n",
    "#simplified elemental time update\n",
    "tau = np.array([0.,0.,0.,0.,])\n",
    "tauK= np.array([0.])\n",
    "\n",
    "# Bm  = element_array_inverse_equilibrium_position[K_index]\n",
    "# Ka  = elements[K_index]\n",
    "# K_vertices   = vertices[Ka]\n",
    "# K_velocities = velocities[Ka]\n",
    "K_masses     = node_array_mass[Ka]\n",
    "K_tau        = tau[Ka]\n",
    "tau_of_K     = tauK[K_index]\n",
    "# Ds  = get_D_mat(K_vertices)\n",
    "# Bm  = element_array_inverse_equilibrium_position[K_index]\n",
    "# K_W = get_element_volume(Ds)"
   ]
  },
  {
   "cell_type": "code",
   "execution_count": 7,
   "metadata": {
    "ExecuteTime": {
     "end_time": "2020-12-06T10:56:33.472238Z",
     "start_time": "2020-12-06T10:56:33.447458Z"
    },
    "hidden": true
   },
   "outputs": [
    {
     "data": {
      "text/plain": [
       "array([[ 0.        ,  0.        , -0.46209812],\n",
       "       [ 0.        , -0.46209812,  0.        ],\n",
       "       [ 0.61552453,  0.23104906,  0.23104906],\n",
       "       [-0.61552453,  0.23104906,  0.23104906]])"
      ]
     },
     "execution_count": 7,
     "metadata": {},
     "output_type": "execute_result"
    }
   ],
   "source": [
    "f   = compute_nodal_elastic_forces(K_vertices, K_W, Bm, f = zero_mat.copy())\n",
    "f"
   ]
  },
  {
   "cell_type": "markdown",
   "metadata": {
    "heading_collapsed": true
   },
   "source": [
    "# draft outline of simplest method of explicit time adaptation"
   ]
  },
  {
   "cell_type": "code",
   "execution_count": 8,
   "metadata": {
    "ExecuteTime": {
     "end_time": "2020-12-06T10:56:33.501036Z",
     "start_time": "2020-12-06T10:56:33.474716Z"
    },
    "hidden": true
   },
   "outputs": [],
   "source": [
    "#let the pop have the form\n",
    "t_given, K_index = 0.1, 0\n",
    "tau_of_K   = tauK[K_index]\n",
    "DT_given   = t_given - tau_of_K\n",
    "DT_lesser  = DT_given/2\n",
    "DT_greater = DT_given*2\n",
    "t_lesser   = DT_lesser  + tau_of_K\n",
    "t_greater  = DT_greater + tau_of_K\n",
    "\n",
    "#split the elemental configuration into three possibiities\n",
    "x_A = K_vertices.copy()\n",
    "x_B = x_A.copy()\n",
    "x_C = x_B.copy()\n",
    "v_A = K_velocities.copy()\n",
    "v_B = v_A.copy()\n",
    "v_C = v_B.copy()\n",
    "tau_of_K_A = tau_of_K.copy()\n",
    "tau_of_K_B = tau_of_K_A.copy()\n",
    "tau_of_K_C = tau_of_K_B.copy()\n",
    "K_tau_A = K_tau.copy()\n",
    "# K_tau_A[0] += 0.01\n",
    "K_tau_B = K_tau_A.copy()\n",
    "K_tau_C = K_tau_B.copy()\n",
    "\n",
    "# #update node positions\n",
    "# Delta_x = 0.*x_A\n",
    "# for a in range(Na):\n",
    "#     Delta_x[a] =  v_A[a] * (t_lesser - K_tau_A[a])\n",
    "# x_A += Delta_x\n",
    "\n",
    "#The following does the same thing as the above.  The first one (above) will probably njit more eaisily...\n",
    "# Dtau = (t_lesser - K_tau_A)\n",
    "# Delta_x = np.multiply ( np.vstack([Dtau,Dtau,Dtau]).T, v_A )\n",
    "# Delta_x\n",
    "\n",
    "#The old method :\n",
    "# for a in range(Na):\n",
    "#     x_A[a] = x_A[a] + v_A[a] * (t_lesser - K_tau_A[a])\n",
    "\n",
    "comp_nodal_elastic_forces = get_comp_nodal_elastic_forces(mu,lam)\n",
    "\n",
    "#def  t, K_index, vertices, velocities, Ka, tau, tauK, elements, element_array_inverse_equilibrium_position, zero_mat, node_array_mass):\n",
    "Na = 4 # number of tetrahedral nodes, which is 4\n",
    "Delta_x = 0.*x_A\n",
    "Delta_v = 0.*v_A\n",
    "\n",
    "#compute the first of two half-stepped elemental configurations\n",
    "\n",
    "#update node positions\n",
    "for a in range(Na):\n",
    "    Delta_x[a] =  v_A[a] * (t_lesser - K_tau_A[a])\n",
    "    #update node times\n",
    "    K_tau_A[a] = t_lesser\n",
    "x_A += Delta_x\n",
    "#compute the nodal forces for each tetrahedral node\n",
    "Ds  = get_D_mat(x_A)\n",
    "K_W = get_element_volume(Ds)\n",
    "f   = comp_nodal_elastic_forces(K_W, Bm, Ds, zero_mat.copy())\n",
    "#net nodal forces\n",
    "force   = f\n",
    "#update node velocities \n",
    "for a in range(Na):\n",
    "    Delta_v[a] =  (t_lesser - tau_of_K_A) * force[a] / K_masses[a]\n",
    "v_A += Delta_v\n",
    "#update element time\n",
    "tau_of_K_A = t_lesser\n",
    "# #TODO(later): if node is a boundary node, set velocity to zero\n",
    "\n",
    "print ( Delta_x )\n",
    "print ( Delta_v ) \n",
    "\n",
    "\n",
    "#compute the second half-stepped elemental configurations\n",
    "#update node positions\n",
    "for a in range(Na):\n",
    "    Delta_x[a] =  v_A[a] * (t_given - K_tau_A[a])\n",
    "    #update node times\n",
    "    K_tau_A[a] = t_given\n",
    "x_A += Delta_x\n",
    "#compute the nodal forces for each tetrahedral node\n",
    "Ds  = get_D_mat(x_A)\n",
    "K_W = get_element_volume(Ds)\n",
    "f   = comp_nodal_elastic_forces(K_W, Bm, Ds, zero_mat.copy())\n",
    "#net nodal forces\n",
    "force   = f\n",
    "#update node velocities \n",
    "for a in range(Na):\n",
    "    Delta_v[a] =  (t_given - tau_of_K_A) * force[a] / K_masses[a]\n",
    "v_A += Delta_v\n",
    "#update element time\n",
    "tau_of_K_A = t_given\n",
    "# #TODO(later): if node is a boundary node, set velocity to zero\n",
    "\n",
    "print ( Delta_x )\n",
    "print ( Delta_v ) \n",
    "\n",
    "\n",
    "#compute the one-stepped elemental configurations\n",
    "#update node positions\n",
    "for a in range(Na):\n",
    "    Delta_x[a] =  v_B[a] * (t_given - K_tau_B[a])\n",
    "    #update node times\n",
    "    K_tau_B[a] = t_given\n",
    "x_B += Delta_x\n",
    "#compute the nodal forces for each tetrahedral node\n",
    "Ds  = get_D_mat(x_B)\n",
    "K_W = get_element_volume(Ds)\n",
    "f   = comp_nodal_elastic_forces(K_W, Bm, Ds, zero_mat.copy())\n",
    "#net nodal forces\n",
    "force   = f\n",
    "#update node velocities \n",
    "for a in range(Na):\n",
    "    Delta_v[a] =  (t_given - tau_of_K_B) * force[a] / K_masses[a]\n",
    "v_B += Delta_v\n",
    "#update element time\n",
    "tau_of_K_B = t_given\n",
    "# #TODO(later): if node is a boundary node, set velocity to zero\n",
    "\n",
    "print ( Delta_x )\n",
    "print ( Delta_v ) \n",
    "\n",
    "\n",
    "# compute the max absolute difference (mad) in position and velocity between the two step sizes\n",
    "mad_xBA = np.max(np.abs(x_B-x_A))\n",
    "mad_vBA = np.max(np.abs(v_B-v_A))\n",
    "print ( (mad_xBA, mad_vBA) )\n",
    "print('''NOTE: if either of ^these values are above some threshold, \n",
    "      then decrease the stepsize and restart the onestep method to be safe.''')\n",
    "if (mad_xBA > atol_x) | (mad_vBA > atol_v):\n",
    "    #TODO: restart the algorithm with half the stepsize and return the result \n",
    "    retval = (x_A.copy(), v_A.copy(), K_tau_A.copy(), tau_of_K_A)\n",
    "    next_stepsize = DT_lesser\n",
    "else:\n",
    "    #store the given step for potential later use\n",
    "    retval = (x_B.copy(), v_B.copy(), K_tau_B.copy(), tau_of_K_B)\n",
    "    next_stepsize = DT_given\n",
    "\n",
    "#compute the one-stepped elemental configurations\n",
    "#update node positions\n",
    "for a in range(Na):\n",
    "    Delta_x[a] =  v_B[a] * (t_greater - K_tau_B[a])\n",
    "    #update node times\n",
    "    K_tau_B[a] = t_greater\n",
    "x_B += Delta_x\n",
    "#compute the nodal forces for each tetrahedral node\n",
    "Ds  = get_D_mat(x_B)\n",
    "K_W = get_element_volume(Ds)\n",
    "f   = comp_nodal_elastic_forces(K_W, Bm, Ds, zero_mat.copy())\n",
    "#net nodal forces\n",
    "force   = f\n",
    "#update node velocities \n",
    "for a in range(Na):\n",
    "    Delta_v[a] =  (t_greater - tau_of_K_B) * force[a] / K_masses[a]\n",
    "v_B += Delta_v\n",
    "#update element time\n",
    "tau_of_K_B = t_greater\n",
    "# #TODO(later): if node is a boundary node, set velocity to zero\n",
    "\n",
    "print ( Delta_x )\n",
    "print ( Delta_v ) \n",
    "\n",
    "\n",
    "#compute the two double-stepped elemental configurations\n",
    "#update node positions\n",
    "for a in range(Na):\n",
    "    Delta_x[a] =  v_C[a] * (t_greater - K_tau_C[a])\n",
    "    #update node times\n",
    "    K_tau_C[a] = t_greater\n",
    "x_C += Delta_x\n",
    "#compute the nodal forces for each tetrahedral node\n",
    "Ds  = get_D_mat(x_C)\n",
    "K_W = get_element_volume(Ds)\n",
    "f   = comp_nodal_elastic_forces(K_W, Bm, Ds, zero_mat.copy())\n",
    "#net nodal forces\n",
    "force   = f\n",
    "#update node velocities \n",
    "for a in range(Na):\n",
    "    Delta_v[a] =  (t_greater - tau_of_K_C) * force[a] / K_masses[a]\n",
    "v_B += Delta_v\n",
    "#update element time\n",
    "tau_of_K_C = t_greater\n",
    "# #TODO(later): if node is a boundary node, set velocity to zero\n",
    "\n",
    "print ( Delta_x )\n",
    "print ( Delta_v ) \n",
    "\n",
    "\n",
    "# compute the max absolute difference (mad) in position and velocity between the two step sizes\n",
    "mad_xCB = np.max(np.abs(x_C-x_B))\n",
    "mad_vCB = np.max(np.abs(v_C-v_B))\n",
    "print ( (mad_xCB, mad_vCB) )\n",
    "print('''NOTE: if either of ^these values are below some threshold, \n",
    "      then you may consider increasing the stepsize and using this result.  \n",
    "      Don`t bother restarting the one step method.''')\n",
    "if (mad_xCB < btol_x) | (mad_vCB < btol_v):\n",
    "    #restart the algorithm with double the stepsize and return the result \n",
    "    #OR simply return the result for case C\n",
    "    retval = (x_C.copy(), v_C.copy(), K_tau_C.copy(), tau_of_K_C, )\n",
    "    next_stepsize = DT_greater\n",
    "\n",
    "# TODO: make sure everything's updated correctly \n",
    "#TODO: decide which of ^these to keep \n",
    "# and which stepsize to use for the next time\n",
    "#TODO: put ^this all in a nice function that returns something I can push to the p.queue.\n",
    "# if (mad_xBA > atol_x) | (mad_vBA > atol_v):\n",
    "#     TODO: restart the algorithm with half the stepsize and return the result \n",
    "\n",
    "# #compute next time for element's evaluation\n",
    "# tKnext = t + stepsize #_compute_next_time(K, t, stepsize)\n",
    "# for a in range(Na):\n",
    "#     K_velocities[a] = K_velocities[a] + Delta_v[a]\n",
    "#TODO(later): if node is not a boundary node, set velocity to zero\n",
    "# return Delta_x, Delta_v"
   ]
  },
  {
   "cell_type": "markdown",
   "metadata": {
    "heading_collapsed": true
   },
   "source": [
    "# make measures of stepsize distribution"
   ]
  },
  {
   "cell_type": "code",
   "execution_count": 8,
   "metadata": {
    "ExecuteTime": {
     "end_time": "2020-12-06T23:12:09.126599Z",
     "start_time": "2020-12-06T23:12:07.818473Z"
    },
    "hidden": true
   },
   "outputs": [
    {
     "name": "stderr",
     "output_type": "stream",
     "text": [
      "face_normals all zero, ignoring!\n"
     ]
    },
    {
     "name": "stdout",
     "output_type": "stream",
     "text": [
      "['element_array_time', 'element_array_index', 'element_array_mass', 'element_array_volume', 'element_array_inverse_equilibrium_position', 'node_array_equilibrium_position', 'node_array_time', 'node_array_position', 'node_array_momentum', 'node_array_mass', 'node_array_volume']\n"
     ]
    }
   ],
   "source": [
    "os.chdir(nb_dir)\n",
    "# input_file_name = f'../data/spherical_meshes/spherical_mesh_64.stl'input_file_name = f'../data/spherical_meshes/spherical_mesh_64.stl'\n",
    "input_file_name = f'../data/spherical_meshes/spherical_mesh_1000.stl'\n",
    "tme = 0.\n",
    "mass_density=1.\n",
    "dict_values_system = initialize_system(input_file_name, time_initial=tme, mass_density=mass_density)\n",
    "locals().update(dict_values_system)\n",
    "print(list(dict_values_system.keys()))"
   ]
  },
  {
   "cell_type": "code",
   "execution_count": 9,
   "metadata": {
    "ExecuteTime": {
     "end_time": "2020-12-06T23:12:22.864981Z",
     "start_time": "2020-12-06T23:12:22.842939Z"
    },
    "hidden": true
   },
   "outputs": [],
   "source": [
    "#define Lamé parameters\n",
    "mu = 1.; lam = 1.; \n",
    "#define coefficient for Rayleigh damping\n",
    "gamma = 1.;\n",
    "\n",
    "#define adaptive time stepping absolute tolerances\n",
    "atol_x = 1e-4; atol_v = 1e-4; \n",
    "btol_x = 1e-12; btol_v = 1e-12; \n"
   ]
  },
  {
   "cell_type": "code",
   "execution_count": 7,
   "metadata": {
    "ExecuteTime": {
     "end_time": "2020-12-06T23:11:38.016784Z",
     "start_time": "2020-12-06T23:11:37.991289Z"
    },
    "hidden": true
   },
   "outputs": [],
   "source": [
    "element_array_count_one_steps = np.zeros_like(element_array_mass)"
   ]
  },
  {
   "cell_type": "markdown",
   "metadata": {
    "hidden": true
   },
   "source": [
    "## naive courant limit"
   ]
  },
  {
   "cell_type": "code",
   "execution_count": 25,
   "metadata": {
    "ExecuteTime": {
     "end_time": "2020-12-06T23:30:25.721551Z",
     "start_time": "2020-12-06T23:30:25.697186Z"
    },
    "hidden": true
   },
   "outputs": [],
   "source": [
    "#speed of volumetric wave propagation in the undeformed material\n",
    "c = np.sqrt((lam + 2 * mu) / mass_density)"
   ]
  },
  {
   "cell_type": "markdown",
   "metadata": {
    "ExecuteTime": {
     "end_time": "2020-12-06T23:13:17.083731Z",
     "start_time": "2020-12-06T23:13:17.061296Z"
    },
    "hidden": true
   },
   "source": [
    "_From Adrian's Thesis_<br>\n",
    "The Courant condition, which provides an estimate of the stability limit for explicit integration (cf, e.g., Hughes [1987]). Specifically, the value of the time step for each element is set to a fraction of the Courant limit and is computed as\n",
    "$\n",
    "\\Delta t = \\frac{h}{10c}\n",
    "$\n",
    "where h is the radius of the largest sphere that can fit inside of a tetrahedron.\n",
    "\n",
    "For a regular tetrahedron, this value is $h = 6y\\sqrt(12)$, where y is the side length.  I could approximate this value with the minimum side length (complicated to implement) or $1/4$ of the mean side length (simple to implement)."
   ]
  },
  {
   "cell_type": "code",
   "execution_count": 26,
   "metadata": {
    "ExecuteTime": {
     "end_time": "2020-12-06T23:30:28.715109Z",
     "start_time": "2020-12-06T23:30:28.689579Z"
    },
    "hidden": true
   },
   "outputs": [
    {
     "name": "stdout",
     "output_type": "stream",
     "text": [
      "0.00021099074831963375\n"
     ]
    }
   ],
   "source": [
    "#an example volume\n",
    "K_index = 57\n",
    "Ka = element_array_index[K_index]\n",
    "K_vertices = node_array_position[Ka]\n",
    "D = get_D_mat(K_vertices)\n",
    "vol = np.abs(np.linalg.det(D)/6)\n",
    "print(vol)"
   ]
  },
  {
   "cell_type": "code",
   "execution_count": 27,
   "metadata": {
    "ExecuteTime": {
     "end_time": "2020-12-06T23:30:46.369173Z",
     "start_time": "2020-12-06T23:30:46.343664Z"
    },
    "hidden": true
   },
   "outputs": [
    {
     "name": "stdout",
     "output_type": "stream",
     "text": [
      "0.014397346362187488\n"
     ]
    }
   ],
   "source": [
    "#naive approximation is that everything is a sphere\n",
    "h_naive = np.cbrt(vol)/(3/4/np.pi)\n",
    "courant_limit_naive = h_naive/(10*c)\n",
    "print ( courant_limit_naive )"
   ]
  },
  {
   "cell_type": "markdown",
   "metadata": {
    "hidden": true
   },
   "source": [
    "^this max time step is consistent with what I observe from guess-and-checking the actual simulation."
   ]
  },
  {
   "cell_type": "markdown",
   "metadata": {
    "heading_collapsed": true
   },
   "source": [
    "# make a (njit'd)  \"button\" for the implicit midpoint rule\n",
    "- a second order accurate method will work much better than a first order method for the sakes of letting elements learn their own timestep\n",
    "<!-- -  TODO:\n",
    "- (and then) TODO: play with ^that for an iterative soln for an implicit method (BEI or IMR) -->"
   ]
  },
  {
   "cell_type": "code",
   "execution_count": 8,
   "metadata": {
    "ExecuteTime": {
     "end_time": "2020-12-08T01:46:18.000229Z",
     "start_time": "2020-12-08T01:46:17.976823Z"
    },
    "hidden": true
   },
   "outputs": [],
   "source": [
    "tauK = element_array_time\n",
    "tau = node_array_time\n",
    "# one_step_forward_euler_method = get_one_step_forward_euler_method(mu,lam,gamma)\n",
    "compute_one_step_forward_euler_method=get_compute_one_step_forward_euler_method(mu,lam,gamma)"
   ]
  },
  {
   "cell_type": "code",
   "execution_count": 9,
   "metadata": {
    "ExecuteTime": {
     "end_time": "2020-12-08T01:46:20.189819Z",
     "start_time": "2020-12-08T01:46:20.160037Z"
    },
    "hidden": true
   },
   "outputs": [],
   "source": [
    "t = 0.001\n",
    "h = 0.001\n",
    "K_index = 7"
   ]
  },
  {
   "cell_type": "code",
   "execution_count": 18,
   "metadata": {
    "ExecuteTime": {
     "end_time": "2020-12-08T01:36:30.014469Z",
     "start_time": "2020-12-08T01:36:29.981331Z"
    },
    "hidden": true
   },
   "outputs": [],
   "source": [
    "#actionables per function call are as follow:\n",
    "t_previous = tauK[K_index]\n",
    "x_current, v_current = vertices[element_array_index[K_index]], velocities[element_array_index[K_index]]\n",
    "#compute the namespace of the force computation of the elemental configuration\n",
    "Ka = element_array_index[K_index]\n",
    "tau_of_K = tauK[K_index]\n",
    "K_tau = tau[Ka]\n",
    "K_vertices = vertices[Ka].copy()\n",
    "K_velocities = velocities[Ka].copy()\n",
    "K_masses = node_array_mass[Ka]\n",
    "Bm  = element_array_inverse_equilibrium_position[K_index]\n",
    "#initialize the first iterate of the soln to the implicit midpoint rule\n",
    "K_vertices, K_velocities = compute_one_step_forward_euler_method(t, K_vertices, K_velocities, K_masses, K_tau, tau_of_K, Bm, zero_mat)\n",
    "\n",
    "iter_count =0\n",
    "x_next, v_next = K_vertices.copy(), K_velocities.copy()\n",
    "x_avg = x_current/2. + x_next/2.\n",
    "v_avg = v_current/2. + v_next/2.\n",
    "\n",
    "num_iter = 30\n",
    "madx_lst = []\n",
    "madv_lst = []\n",
    "k_lst = []\n",
    "for k in range(num_iter):\n",
    "    #compute the next iterate of the soln to the implicit midpoint rule num_iter times\n",
    "    K_vertices, K_velocities = compute_one_step_forward_euler_method(t, x_avg, v_avg, K_masses, K_tau, tau_of_K, Bm, zero_mat)\n",
    "    iter_count +=1\n",
    "    delta_x = K_vertices - x_next\n",
    "    delta_v = K_velocities - v_next\n",
    "    x_next, v_next = K_vertices.copy(), K_velocities.copy()\n",
    "    x_avg = x_current/2. + x_next/2.\n",
    "    v_avg = v_current/2. + v_next/2.\n",
    "    madx = np.max(np.abs(delta_x))\n",
    "    madv = np.max(np.abs(delta_v))\n",
    "    madx_lst.append(madx)\n",
    "    madv_lst.append(madv)\n",
    "    k_lst.append(k)"
   ]
  },
  {
   "cell_type": "code",
   "execution_count": 19,
   "metadata": {
    "ExecuteTime": {
     "end_time": "2020-12-08T01:36:31.465898Z",
     "start_time": "2020-12-08T01:36:31.169453Z"
    },
    "hidden": true
   },
   "outputs": [
    {
     "data": {
      "image/png": "[encoded data removed]",
      "text/plain": [
       "<Figure size 432x288 with 1 Axes>"
      ]
     },
     "metadata": {
      "needs_background": "dark"
     },
     "output_type": "display_data"
    }
   ],
   "source": [
    "plt.plot(k_lst, madx_lst, label='max(|∆x|)')\n",
    "plt.plot(k_lst, np.array(madv_lst)*h, label='max(|∆v∆t|)')\n",
    "plt.legend()\n",
    "plt.xlabel('number of iterations')\n",
    "plt.ylabel('max absolute change')\n",
    "plt.yscale('log')\n",
    "plt.show()"
   ]
  },
  {
   "cell_type": "code",
   "execution_count": 14,
   "metadata": {
    "ExecuteTime": {
     "end_time": "2020-12-08T01:47:23.273742Z",
     "start_time": "2020-12-08T01:47:23.243080Z"
    },
    "hidden": true
   },
   "outputs": [],
   "source": [
    "def get_one_step_implicit_midpoint_rule(mu,lam,gamma,num_iter = 30):\n",
    "    zero_mat = np.zeros((4,3))\n",
    "    compute_one_step_forward_euler_method=get_compute_one_step_forward_euler_method(mu,lam,gamma)\n",
    "    @njit\n",
    "    def one_step_implicit_midpoint_rule(K_index, tauK, tau, vertices, velocities, \n",
    "                                        node_array_mass, element_array_inverse_equilibrium_position):\n",
    "        #actionables per function call are as follow:\n",
    "        t_previous = tauK[K_index]\n",
    "        Ka = element_array_index[K_index]\n",
    "        x_current, v_current = vertices[Ka], velocities[Ka]\n",
    "        #compute the namespace of the force computation of the elemental configuration\n",
    "        tau_of_K = tauK[K_index]\n",
    "        K_tau = tau[Ka]\n",
    "        K_vertices = vertices[Ka].copy()\n",
    "        K_velocities = velocities[Ka].copy()\n",
    "        K_masses = node_array_mass[Ka]\n",
    "        Bm  = element_array_inverse_equilibrium_position[K_index]\n",
    "        #initialize the first iterate of the soln to the implicit midpoint rule\n",
    "        K_vertices, K_velocities = compute_one_step_forward_euler_method(t, K_vertices, K_velocities, K_masses, K_tau, tau_of_K, Bm, zero_mat)\n",
    "        x_next, v_next = K_vertices.copy(), K_velocities.copy()\n",
    "        x_avg = x_current/2. + x_next/2.\n",
    "        v_avg = v_current/2. + v_next/2.\n",
    "        # madx_lst = []\n",
    "        # madv_lst = []\n",
    "        # k_lst = []\n",
    "        # iter_count =0\n",
    "        for k in range(num_iter):\n",
    "            #compute the next iterate of the soln to the implicit midpoint rule num_iter times\n",
    "            K_vertices, K_velocities = compute_one_step_forward_euler_method(t, x_avg, v_avg, K_masses, K_tau, tau_of_K, Bm, zero_mat)\n",
    "            #     iter_count +=1\n",
    "            #     delta_x = K_vertices - x_next\n",
    "            #     delta_v = K_velocities - v_next\n",
    "            x_next, v_next = K_vertices.copy(), K_velocities.copy()\n",
    "            x_avg = x_current/2. + x_next/2.\n",
    "            v_avg = v_current/2. + v_next/2.\n",
    "            #     madx = np.max(np.abs(delta_x))\n",
    "            #     madv = np.max(np.abs(delta_v))\n",
    "            #     madx_lst.append(madx)\n",
    "            #     madv_lst.append(madv)\n",
    "            #     k_lst.append(k)\n",
    "        return x_next, v_next\n",
    "    return one_step_implicit_midpoint_rule"
   ]
  },
  {
   "cell_type": "code",
   "execution_count": 15,
   "metadata": {
    "ExecuteTime": {
     "end_time": "2020-12-08T01:47:24.995409Z",
     "start_time": "2020-12-08T01:47:24.943989Z"
    },
    "hidden": true
   },
   "outputs": [],
   "source": [
    "compute_one_step_implicit_midpoint_rule = get_one_step_implicit_midpoint_rule(mu,lam,gamma,num_iter = 30)"
   ]
  },
  {
   "cell_type": "code",
   "execution_count": 19,
   "metadata": {
    "ExecuteTime": {
     "end_time": "2020-12-08T01:56:49.671253Z",
     "start_time": "2020-12-08T01:56:49.648628Z"
    },
    "hidden": true
   },
   "outputs": [],
   "source": [
    "K_vertices, K_velocities = compute_one_step_implicit_midpoint_rule(K_index, tauK, tau, vertices, velocities, \n",
    "                                        node_array_mass, element_array_inverse_equilibrium_position)"
   ]
  },
  {
   "cell_type": "code",
   "execution_count": 20,
   "metadata": {
    "ExecuteTime": {
     "end_time": "2020-12-08T01:56:50.656407Z",
     "start_time": "2020-12-08T01:56:50.634123Z"
    },
    "hidden": true
   },
   "outputs": [],
   "source": [
    "K_vertices, K_velocities = compute_one_step_implicit_midpoint_rule(K_index, tauK, tau, vertices, velocities, \n",
    "                                        node_array_mass, element_array_inverse_equilibrium_position)"
   ]
  },
  {
   "cell_type": "code",
   "execution_count": 21,
   "metadata": {
    "ExecuteTime": {
     "end_time": "2020-12-08T01:59:39.098236Z",
     "start_time": "2020-12-08T01:59:39.071060Z"
    },
    "hidden": true
   },
   "outputs": [
    {
     "data": {
      "text/plain": [
       "0.001"
      ]
     },
     "execution_count": 21,
     "metadata": {},
     "output_type": "execute_result"
    }
   ],
   "source": [
    "t"
   ]
  },
  {
   "cell_type": "markdown",
   "metadata": {},
   "source": [
    "# dev letting tetrahedral elements learn their own step size\n",
    "- DONE: implement adaptive time stepping (used the outline earlier in this *.ipynb"
   ]
  },
  {
   "cell_type": "markdown",
   "metadata": {
    "heading_collapsed": true
   },
   "source": [
    "## work through one iterate"
   ]
  },
  {
   "cell_type": "markdown",
   "metadata": {
    "hidden": true
   },
   "source": [
    "__sanity check__ I verified other args aren't updated by step_to_time."
   ]
  },
  {
   "cell_type": "code",
   "execution_count": 3,
   "metadata": {
    "ExecuteTime": {
     "end_time": "2020-12-08T23:00:30.839823Z",
     "start_time": "2020-12-08T23:00:30.817090Z"
    },
    "hidden": true
   },
   "outputs": [],
   "source": [
    "local_one_step_implicit_midpoint_rule = get_local_one_step_implicit_midpoint_rule(mu,lam,gamma,num_iter = 30)\n",
    "step_to_time = local_one_step_implicit_midpoint_rule\n"
   ]
  },
  {
   "cell_type": "code",
   "execution_count": 4,
   "metadata": {
    "ExecuteTime": {
     "end_time": "2020-12-08T23:00:32.670034Z",
     "start_time": "2020-12-08T23:00:32.649042Z"
    },
    "hidden": true
   },
   "outputs": [],
   "source": [
    "#let the pop have the form\n",
    "t_given, K_index = 0.001, 7 #t_given is the time given to step to"
   ]
  },
  {
   "cell_type": "code",
   "execution_count": 5,
   "metadata": {
    "ExecuteTime": {
     "end_time": "2020-12-08T23:00:34.333945Z",
     "start_time": "2020-12-08T23:00:34.310690Z"
    },
    "hidden": true
   },
   "outputs": [],
   "source": [
    "Ka = element_array_index[K_index]\n",
    "K_tau = node_array_time[Ka]\n",
    "tau_of_K = element_array_time[K_index]\n",
    "Bm  = element_array_inverse_equilibrium_position[K_index]\n",
    "K_masses = node_array_mass[Ka]\n",
    "x_current = vertices[Ka]\n",
    "v_current = velocities[Ka]\n",
    "\n",
    "#split the elemental configuration into three possibiities\n",
    "x_A = x_current.copy()\n",
    "x_B = x_current.copy()\n",
    "x_C = x_current.copy()\n",
    "v_A = v_current.copy()\n",
    "v_B = v_current.copy()\n",
    "v_C = v_current.copy()\n",
    "tau_of_K_A = tau_of_K.copy()\n",
    "tau_of_K_B = tau_of_K.copy()\n",
    "tau_of_K_C = tau_of_K.copy()\n",
    "K_tau_A = K_tau.copy()# K_tau_A[0] += 0.01\n",
    "K_tau_B = K_tau.copy()\n",
    "K_tau_C = K_tau.copy()"
   ]
  },
  {
   "cell_type": "code",
   "execution_count": 6,
   "metadata": {
    "ExecuteTime": {
     "end_time": "2020-12-08T23:00:35.263859Z",
     "start_time": "2020-12-08T23:00:35.242607Z"
    },
    "hidden": true
   },
   "outputs": [],
   "source": [
    "#define time steps options\n",
    "DT_given   = t_given - tau_of_K\n",
    "DT_lesser  = DT_given/2\n",
    "DT_greater = DT_given*2\n",
    "t_lesser   = DT_lesser  + tau_of_K\n",
    "t_greater  = DT_greater + tau_of_K"
   ]
  },
  {
   "cell_type": "code",
   "execution_count": 7,
   "metadata": {
    "ExecuteTime": {
     "end_time": "2020-12-08T04:53:37.304568Z",
     "start_time": "2020-12-08T04:53:22.662928Z"
    },
    "hidden": true
   },
   "outputs": [],
   "source": [
    "#update config A to time t_lesser\n",
    "x_A, v_A = step_to_time(t_lesser,\n",
    "        x_A,\n",
    "        v_A,K_masses,\n",
    "        K_tau_A,\n",
    "        tau_of_K_A,Bm,zero_mat)\n",
    "#update times\n",
    "K_tau_A    = t_lesser + 0.*K_tau_A\n",
    "tau_of_K_A = t_lesser\n",
    "#updateteims\n",
    "#update config A to time t_given\n",
    "x_A, v_A = step_to_time(t_given,\n",
    "        x_A,\n",
    "        v_A,K_masses,\n",
    "        K_tau_A,\n",
    "        tau_of_K_A,Bm,zero_mat)\n",
    "#update times\n",
    "K_tau_A    = t_given + 0.*K_tau_A\n",
    "tau_of_K_A = t_given"
   ]
  },
  {
   "cell_type": "code",
   "execution_count": 8,
   "metadata": {
    "ExecuteTime": {
     "end_time": "2020-12-08T04:53:38.709865Z",
     "start_time": "2020-12-08T04:53:38.685847Z"
    },
    "hidden": true
   },
   "outputs": [],
   "source": [
    "#update config B to time t_given\n",
    "x_B, v_B = step_to_time(t_given,\n",
    "        x_B,\n",
    "        v_B,K_masses,\n",
    "        K_tau_B,\n",
    "        tau_of_K_B,Bm,zero_mat)\n",
    "#update times\n",
    "K_tau_B    = t_given + 0.*K_tau_B\n",
    "tau_of_K_B = t_given"
   ]
  },
  {
   "cell_type": "code",
   "execution_count": 9,
   "metadata": {
    "ExecuteTime": {
     "end_time": "2020-12-08T04:53:41.397348Z",
     "start_time": "2020-12-08T04:53:41.370657Z"
    },
    "hidden": true
   },
   "outputs": [
    {
     "name": "stdout",
     "output_type": "stream",
     "text": [
      "(3.918814572845264e-08, 2.6117379318121788e-05)\n",
      "(0.0001, 0.0001)\n"
     ]
    }
   ],
   "source": [
    "# compute the max absolute difference (mad) in position and velocity between the two step sizes\n",
    "mad_xBA = np.max(np.abs(x_B-x_A))\n",
    "mad_vBA = np.max(np.abs(v_B-v_A))\n",
    "print ( (mad_xBA, mad_vBA) )\n",
    "print ( (atol_x, atol_v) )\n",
    "# NOTE: if either of ^these values are above some threshold, \n",
    "# then decrease the stepsize and restart the onestep method to be safe.\n",
    "if (mad_xBA > atol_x) | (mad_vBA > atol_v):\n",
    "    #TODO: restart the algorithm with half the stepsize and return the result \n",
    "    print('TODO: restart the algorithm with half the stepsize and return the result')\n",
    "    retval = (x_A.copy(), v_A.copy(), K_tau_A.copy(), tau_of_K_A)\n",
    "    next_stepsize = DT_lesser\n",
    "else:\n",
    "    #store the given step for potential later use\n",
    "    retval = (x_B.copy(), v_B.copy(), K_tau_B.copy(), tau_of_K_B)\n",
    "    next_stepsize = DT_given"
   ]
  },
  {
   "cell_type": "code",
   "execution_count": 10,
   "metadata": {
    "ExecuteTime": {
     "end_time": "2020-12-08T04:53:44.202602Z",
     "start_time": "2020-12-08T04:53:44.176292Z"
    },
    "hidden": true
   },
   "outputs": [],
   "source": [
    "#update config B to time t_greater\n",
    "x_B, v_B = step_to_time(t_greater,\n",
    "        x_B,\n",
    "        v_B,K_masses,\n",
    "        K_tau_B,\n",
    "        tau_of_K_B,Bm,zero_mat)\n",
    "#update times\n",
    "K_tau_B    = t_greater + 0.*K_tau_B\n",
    "tau_of_K_B = t_greater"
   ]
  },
  {
   "cell_type": "code",
   "execution_count": 11,
   "metadata": {
    "ExecuteTime": {
     "end_time": "2020-12-08T04:53:44.998815Z",
     "start_time": "2020-12-08T04:53:44.973295Z"
    },
    "hidden": true
   },
   "outputs": [],
   "source": [
    "#update config C to time t_greater\n",
    "x_C, v_C = step_to_time(t_greater,\n",
    "        x_C,\n",
    "        v_C,K_masses,\n",
    "        K_tau_C,\n",
    "        tau_of_K_C,Bm,zero_mat)\n",
    "#update times\n",
    "K_tau_C    = t_greater + 0.*K_tau_C\n",
    "tau_of_K_C = t_greater"
   ]
  },
  {
   "cell_type": "code",
   "execution_count": 17,
   "metadata": {
    "ExecuteTime": {
     "end_time": "2020-12-08T05:06:04.750557Z",
     "start_time": "2020-12-08T05:06:04.719333Z"
    },
    "hidden": true
   },
   "outputs": [
    {
     "name": "stdout",
     "output_type": "stream",
     "text": [
      "(3.109347037622001e-07, 0.00010350332277492665)\n",
      "(0.0001, 0.0001)\n"
     ]
    }
   ],
   "source": [
    "# compute the max absolute difference (mad) in position and velocity between the two step sizes\n",
    "mad_xCB = np.max(np.abs(x_C-x_B))\n",
    "mad_vCB = np.max(np.abs(v_C-v_B))\n",
    "print ( (mad_xCB, mad_vCB) )\n",
    "print ( (atol_x, atol_v) )\n",
    "# print ( (btol_x, btol_v) )\n",
    "# NOTE: if either of ^these values are below some threshold, \n",
    "#     then you may consider increasing the stepsize and using this result.  \n",
    "#     Don`t bother restarting the one step method.\n",
    "# if (mad_xBA > atol_x) | (mad_vBA > atol_v):\n",
    "# if (mad_xCB < btol_x) | (mad_vCB < btol_v):\n",
    "if (mad_xCB < atol_x) & (mad_vCB < atol_v):\n",
    "    #restart the algorithm with double the stepsize and return the result \n",
    "    #OR simply return the result for case C\n",
    "    retval = (x_C.copy(), v_C.copy(), K_tau_C.copy(), tau_of_K_C, )\n",
    "    next_stepsize = DT_greater"
   ]
  },
  {
   "cell_type": "markdown",
   "metadata": {
    "ExecuteTime": {
     "end_time": "2020-12-08T04:53:46.661637Z",
     "start_time": "2020-12-08T04:53:46.634091Z"
    },
    "hidden": true
   },
   "source": [
    "WHich case won? Case B won, but ony barely over case C.  atol = 0.0001 and madv_CB = 0.00010350332277492665"
   ]
  },
  {
   "cell_type": "markdown",
   "metadata": {
    "heading_collapsed": true
   },
   "source": [
    "## DONE: put ^this all in a nice function that returns something I can push to the p.queue.\n"
   ]
  },
  {
   "cell_type": "code",
   "execution_count": 3,
   "metadata": {
    "ExecuteTime": {
     "end_time": "2020-12-08T04:53:18.903761Z",
     "start_time": "2020-12-08T04:53:18.876405Z"
    },
    "hidden": true
   },
   "outputs": [],
   "source": [
    "local_one_step_implicit_midpoint_rule = get_local_one_step_implicit_midpoint_rule(mu,lam,gamma,num_iter = 30)\n",
    "step_to_time = local_one_step_implicit_midpoint_rule\n"
   ]
  },
  {
   "cell_type": "code",
   "execution_count": 4,
   "metadata": {
    "ExecuteTime": {
     "end_time": "2020-12-08T04:53:20.131131Z",
     "start_time": "2020-12-08T04:53:20.103196Z"
    },
    "hidden": true
   },
   "outputs": [],
   "source": [
    "#let the pop have the form\n",
    "t_given, K_index = 0.001, 7 #t_given is the time given to step to"
   ]
  },
  {
   "cell_type": "code",
   "execution_count": 18,
   "metadata": {
    "ExecuteTime": {
     "end_time": "2020-12-08T23:26:15.933155Z",
     "start_time": "2020-12-08T23:26:15.905855Z"
    },
    "hidden": true
   },
   "outputs": [
    {
     "ename": "NameError",
     "evalue": "name 'step_to_time' is not defined",
     "output_type": "error",
     "traceback": [
      "\u001b[0;31m---------------------------------------------------------------------------\u001b[0m",
      "\u001b[0;31mNameError\u001b[0m                                 Traceback (most recent call last)",
      "\u001b[0;32m<ipython-input-18-6636ef8304c8>\u001b[0m in \u001b[0;36m<module>\u001b[0;34m\u001b[0m\n\u001b[0;32m----> 1\u001b[0;31m step_forward_and_learn(K_index, t_given, node_array_time, element_array_time, vertices, velocities, element_array_index, \n\u001b[0m\u001b[1;32m      2\u001b[0m                            element_array_inverse_equilibrium_position, node_array_mass, atol_x, atol_v)\n",
      "\u001b[0;32m~/Documents/GitHub/avi/nb/lib/controller/step_and_learn.py\u001b[0m in \u001b[0;36mstep_forward_and_learn\u001b[0;34m(K_index, t_given, node_array_time, element_array_time, vertices, velocities, element_array_index, element_array_inverse_equilibrium_position, node_array_mass, atol_x, atol_v)\u001b[0m\n\u001b[1;32m     38\u001b[0m             \u001b[0mt_lesser\u001b[0m   \u001b[0;34m=\u001b[0m \u001b[0mDT_lesser\u001b[0m  \u001b[0;34m+\u001b[0m \u001b[0mtau_of_K\u001b[0m\u001b[0;34m\u001b[0m\u001b[0;34m\u001b[0m\u001b[0m\n\u001b[1;32m     39\u001b[0m             \u001b[0mt_greater\u001b[0m  \u001b[0;34m=\u001b[0m \u001b[0mDT_greater\u001b[0m \u001b[0;34m+\u001b[0m \u001b[0mtau_of_K\u001b[0m\u001b[0;34m\u001b[0m\u001b[0;34m\u001b[0m\u001b[0m\n\u001b[0;32m---> 40\u001b[0;31m             \u001b[0;31m#update config A to time t_lesser\u001b[0m\u001b[0;34m\u001b[0m\u001b[0;34m\u001b[0m\u001b[0;34m\u001b[0m\u001b[0m\n\u001b[0m\u001b[1;32m     41\u001b[0m \t    x_A, v_A = step_to_time(t_lesser,\n\u001b[1;32m     42\u001b[0m                     \u001b[0mx_A\u001b[0m\u001b[0;34m,\u001b[0m\u001b[0;34m\u001b[0m\u001b[0;34m\u001b[0m\u001b[0m\n",
      "\u001b[0;31mNameError\u001b[0m: name 'step_to_time' is not defined"
     ]
    }
   ],
   "source": [
    "step_forward_and_learn(K_index, t_given, node_array_time, element_array_time, vertices, velocities, element_array_index, \n",
    "                           element_array_inverse_equilibrium_position, node_array_mass, atol_x, atol_v)"
   ]
  },
  {
   "cell_type": "code",
   "execution_count": 6,
   "metadata": {
    "ExecuteTime": {
     "end_time": "2020-12-08T05:14:18.833064Z",
     "start_time": "2020-12-08T05:14:18.794680Z"
    },
    "hidden": true
   },
   "outputs": [],
   "source": [
    "# def step_forward_and_learn(K_index, node_array_time, element_array_time, vertices, velocities, element_array_index, \n",
    "#                            element_array_inverse_equilibrium_position, node_array_mass, atol\n",
    "#                           ):\n",
    "#     Ka = element_array_index[K_index]\n",
    "#     K_tau = node_array_time[Ka]\n",
    "#     tau_of_K = element_array_time[K_index]\n",
    "#     Bm  = element_array_inverse_equilibrium_position[K_index]\n",
    "#     K_masses = node_array_mass[Ka]\n",
    "#     x_current = vertices[Ka]\n",
    "#     v_current = velocities[Ka]\n",
    "#     #split the elemental configuration into three possibiities\n",
    "#     x_A = x_current.copy()\n",
    "#     x_B = x_current.copy()\n",
    "#     x_C = x_current.copy()\n",
    "#     v_A = v_current.copy()\n",
    "#     v_B = v_current.copy()\n",
    "#     v_C = v_current.copy()\n",
    "#     tau_of_K_A = tau_of_K.copy()\n",
    "#     tau_of_K_B = tau_of_K.copy()\n",
    "#     tau_of_K_C = tau_of_K.copy()\n",
    "#     K_tau_A = K_tau.copy()# K_tau_A[0] += 0.01\n",
    "#     K_tau_B = K_tau.copy()\n",
    "#     K_tau_C = K_tau.copy()\n",
    "#     #define time steps options\n",
    "#     DT_given   = t_given - tau_of_K\n",
    "#     DT_lesser  = DT_given/2\n",
    "#     DT_greater = DT_given*2\n",
    "#     t_lesser   = DT_lesser  + tau_of_K\n",
    "#     t_greater  = DT_greater + tau_of_K\n",
    "#     #update config A to time t_lesser\n",
    "#     x_A, v_A = step_to_time(t_lesser,\n",
    "#             x_A,\n",
    "#             v_A,K_masses,\n",
    "#             K_tau_A,\n",
    "#             tau_of_K_A,Bm,zero_mat)\n",
    "#     #update times\n",
    "#     K_tau_A    = t_lesser + 0.*K_tau_A\n",
    "#     tau_of_K_A = t_lesser\n",
    "#     #updateteims\n",
    "#     #update config A to time t_given\n",
    "#     x_A, v_A = step_to_time(t_given,\n",
    "#             x_A,\n",
    "#             v_A,K_masses,\n",
    "#             K_tau_A,\n",
    "#             tau_of_K_A,Bm,zero_mat)\n",
    "#     #update times\n",
    "#     K_tau_A    = t_given + 0.*K_tau_A\n",
    "#     tau_of_K_A = t_given\n",
    "#     #update config B to time t_given\n",
    "#     x_B, v_B = step_to_time(t_given,\n",
    "#             x_B,\n",
    "#             v_B,K_masses,\n",
    "#             K_tau_B,\n",
    "#             tau_of_K_B,Bm,zero_mat)\n",
    "#     #update times\n",
    "#     K_tau_B    = t_given + 0.*K_tau_B\n",
    "#     tau_of_K_B = t_given\n",
    "#     # compute the max absolute difference (mad) in position and velocity between the two step sizes\n",
    "#     mad_xBA = np.max(np.abs(x_B-x_A))\n",
    "#     mad_vBA = np.max(np.abs(v_B-v_A))\n",
    "#     # NOTE: if either of ^these values are above some threshold, \n",
    "#     # then decrease the stepsize and restart the onestep method to be safe.\n",
    "#     if (mad_xBA > atol_x) | (mad_vBA > atol_v):\n",
    "#         #TODO: restart the algorithm with half the stepsize and return the result \n",
    "#         print('TODO: restart the algorithm with half the stepsize and return the result')\n",
    "#         retval = (x_A.copy(), v_A.copy(), K_tau_A.copy(), tau_of_K_A)\n",
    "#         next_stepsize = DT_lesser\n",
    "#     else:\n",
    "#         #store the given step for potential later use\n",
    "#         retval = (x_B.copy(), v_B.copy(), K_tau_B.copy(), tau_of_K_B)\n",
    "#         next_stepsize = DT_given\n",
    "#     #update config B to time t_greater\n",
    "#     x_B, v_B = step_to_time(t_greater,\n",
    "#             x_B,\n",
    "#             v_B,K_masses,\n",
    "#             K_tau_B,\n",
    "#             tau_of_K_B,Bm,zero_mat)\n",
    "#     #update times\n",
    "#     K_tau_B    = t_greater + 0.*K_tau_B\n",
    "#     tau_of_K_B = t_greater\n",
    "#     #update config C to time t_greater\n",
    "#     x_C, v_C = step_to_time(t_greater,\n",
    "#             x_C,\n",
    "#             v_C,K_masses,\n",
    "#             K_tau_C,\n",
    "#             tau_of_K_C,Bm,zero_mat)\n",
    "#     #update times\n",
    "#     K_tau_C    = t_greater + 0.*K_tau_C\n",
    "#     tau_of_K_C = t_greater\n",
    "#     # compute the max absolute difference (mad) in position and velocity between the two step sizes\n",
    "#     mad_xCB = np.max(np.abs(x_C-x_B))\n",
    "#     mad_vCB = np.max(np.abs(v_C-v_B))\n",
    "#     # NOTE: if either of ^these values are below some threshold, \n",
    "#     #     then you may consider increasing the stepsize and using this result.  \n",
    "#     #     Don`t bother restarting the one step method.\n",
    "#     if (mad_xCB < atol_x) & (mad_vCB < atol_v):\n",
    "#         #restart the algorithm with double the stepsize and return the result \n",
    "#         #OR simply return the result for case C\n",
    "#         retval = (x_C.copy(), v_C.copy(), K_tau_C.copy(), tau_of_K_C, )\n",
    "#         next_stepsize = DT_greater\n",
    "#     return next_stepsize, retval"
   ]
  },
  {
   "cell_type": "markdown",
   "metadata": {
    "heading_collapsed": true
   },
   "source": [
    "# test the minimum viable product for the implicit midpoint rule"
   ]
  },
  {
   "cell_type": "code",
   "execution_count": 5,
   "metadata": {
    "ExecuteTime": {
     "end_time": "2020-12-08T23:03:35.007180Z",
     "start_time": "2020-12-08T23:03:34.982278Z"
    },
    "hidden": true
   },
   "outputs": [
    {
     "data": {
      "text/plain": [
       "<function lib.controller.step_and_learn.step_forward_and_learn(K_index, node_array_time, element_array_time, vertices, velocities, element_array_index, element_array_inverse_equilibrium_position, node_array_mass, atol)>"
      ]
     },
     "execution_count": 5,
     "metadata": {},
     "output_type": "execute_result"
    }
   ],
   "source": [
    "step_forward_and_learn"
   ]
  },
  {
   "cell_type": "code",
   "execution_count": 27,
   "metadata": {
    "ExecuteTime": {
     "end_time": "2020-12-08T23:34:25.405299Z",
     "start_time": "2020-12-08T23:34:25.382322Z"
    },
    "hidden": true
   },
   "outputs": [],
   "source": [
    "K_index = 7\n",
    "t_given = .01\n",
    "atol_x = 0.01#1e-5\n",
    "atol_v = 0.01#1e-5\n",
    "h = 0.01\n",
    "step_forward_and_learn = get_step_forward_and_learn(mu,lam,gamma,num_iter = 30)"
   ]
  },
  {
   "cell_type": "code",
   "execution_count": 28,
   "metadata": {
    "ExecuteTime": {
     "end_time": "2020-12-08T23:34:39.275359Z",
     "start_time": "2020-12-08T23:34:26.714157Z"
    },
    "hidden": true
   },
   "outputs": [],
   "source": [
    "#TODO: pop t_given from queue and update t_given\n",
    "stepsize_next, retval, madval = step_forward_and_learn(K_index, t_given, node_array_time, element_array_time, vertices, velocities, element_array_index, \n",
    "                           element_array_inverse_equilibrium_position, node_array_mass, atol_x, atol_v)\n",
    "#update the actual configuration with the results of the best stepcase\n",
    "Ka = element_array_index[K_index]\n",
    "vertices[Ka], velocities[Ka], tau[Ka], tauK[K_index] = retval\n",
    "mad_x, mad_v = madval\n",
    "stepsize_next = next_stepsize\n",
    "t_next = tauK[K_index] + stepsize_next\n",
    "element_array_stepsize[K_index] = stepsize_next\n",
    "\n",
    "#print BLUF\n",
    "print(f\"t_next, stepsize_next = {t_next, stepsize_next}.\")\n",
    "print(f\"tauK   = {tauK[K_index]},    tau = {tau[Ka]}\")\n",
    "print(f\"madval =     {madval}\")\n",
    "print(f\"vertices include   {vertices[Ka][0,:3]}\\nvelocities include {velocities[Ka][0,:3]}\")\n",
    "\n",
    "t_given = t_given+stepsize_next"
   ]
  },
  {
   "cell_type": "code",
   "execution_count": 48,
   "metadata": {
    "ExecuteTime": {
     "end_time": "2020-12-08T23:57:54.497256Z",
     "start_time": "2020-12-08T23:57:54.466437Z"
    },
    "hidden": true
   },
   "outputs": [
    {
     "name": "stdout",
     "output_type": "stream",
     "text": [
      "t_next, stepsize_next = (0.04, 0.04).\n",
      "tauK   = 0.0,    tau = [0. 0. 0. 0.]\n",
      "madval =     (0.00042907221360000136, 0.0011002214017271639)\n",
      "vertices include   [ 0.64646004  0.7138096  -0.26457561]\n",
      "velocities include [-0.62971252  0.00745998  0.00231896]\n"
     ]
    }
   ],
   "source": [
    "#TODO: pop t_given from queue and update t_given\n",
    "stepsize_next, retval, madval = step_forward_and_learn(K_index, t_given, node_array_time, element_array_time, vertices, velocities, element_array_index, \n",
    "                           element_array_inverse_equilibrium_position, node_array_mass, atol_x, atol_v)\n",
    "#update the actual configuration with the results of the best stepcase\n",
    "Ka = element_array_index[K_index]\n",
    "vertices[Ka], velocities[Ka], tau[Ka], tauK[K_index] = retval\n",
    "mad_x, mad_v = madval\n",
    "stepsize_next = next_stepsize\n",
    "t_next = tauK[K_index] + stepsize_next\n",
    "element_array_stepsize[K_index] = stepsize_next\n",
    "\n",
    "#print BLUF\n",
    "print(f\"t_next, stepsize_next = {t_next, stepsize_next}.\")\n",
    "print(f\"tauK   = {tauK[K_index]},    tau = {tau[Ka]}\")\n",
    "print(f\"madval =     {madval}\")\n",
    "print(f\"vertices include   {vertices[Ka][0,:3]}\\nvelocities include {velocities[Ka][0,:3]}\")\n",
    "\n",
    "t_given = t_given+stepsize_next"
   ]
  },
  {
   "cell_type": "code",
   "execution_count": 35,
   "metadata": {
    "ExecuteTime": {
     "end_time": "2020-12-08T23:52:53.182966Z",
     "start_time": "2020-12-08T23:52:53.160767Z"
    },
    "hidden": true
   },
   "outputs": [
    {
     "data": {
      "text/plain": [
       "0.04"
      ]
     },
     "execution_count": 35,
     "metadata": {},
     "output_type": "execute_result"
    }
   ],
   "source": [
    "#TODO: pop t_given from queue and update t_given\n",
    "stepsize_next, retval, madval = step_forward_and_learn(K_index, t_given, node_array_time, element_array_time, vertices, velocities, element_array_index, \n",
    "                           element_array_inverse_equilibrium_position, node_array_mass, atol_x, atol_v)\n",
    "#update the actual configuration with the results of the best stepcase\n",
    "Ka = element_array_index[K_index]\n",
    "vertices[Ka], velocities[Ka], tau[Ka], tauK[K_index] = retval\n",
    "mad_x, mad_v = madval\n",
    "stepsize_next = next_stepsize\n",
    "t_next = tauK[K_index] + stepsize_next\n",
    "element_array_stepsize[K_index] = stepsize_next\n",
    "\n",
    "#print BLUF\n",
    "print(f\"t_next, stepsize_next = {t_next, stepsize_next}.\")\n",
    "print(f\"tauK   = {tauK[K_index]},    tau = {tau[Ka]}\")\n",
    "print(f\"madval =     {madval}\")\n",
    "print(f\"vertices include   {vertices[Ka][0,:3]}\\nvelocities include {velocities[Ka][0,:3]}\")\n",
    "\n",
    "t_given = t_given+stepsize_next"
   ]
  },
  {
   "cell_type": "code",
   "execution_count": 37,
   "metadata": {
    "ExecuteTime": {
     "end_time": "2020-12-08T23:53:10.479110Z",
     "start_time": "2020-12-08T23:53:10.455304Z"
    },
    "hidden": true
   },
   "outputs": [],
   "source": [
    "\n",
    "\n",
    "#push the next task to the heap/priority queue\n",
    "# heapq.heappush(queue, (t_next, stepsize_next, K_index))"
   ]
  },
  {
   "cell_type": "code",
   "execution_count": 30,
   "metadata": {
    "ExecuteTime": {
     "end_time": "2020-12-08T23:34:58.070216Z",
     "start_time": "2020-12-08T23:34:58.050341Z"
    },
    "hidden": true
   },
   "outputs": [],
   "source": [
    "#TODO: verify that all the outputs make sense\n",
    "#TODO: njit step_forward_and_learn\n",
    "#TODO: is it fast enough?\n",
    "#TODO: how can I use/test teh courant condition"
   ]
  },
  {
   "cell_type": "markdown",
   "metadata": {
    "heading_collapsed": true
   },
   "source": [
    "# Adaptive time stepping with dormand prince error\n",
    "Use the error returned by the dormand prince method to compute the next stepsize "
   ]
  },
  {
   "cell_type": "code",
   "execution_count": 3,
   "metadata": {
    "ExecuteTime": {
     "end_time": "2020-12-10T06:55:27.723879Z",
     "start_time": "2020-12-10T06:55:27.594877Z"
    },
    "hidden": true
   },
   "outputs": [],
   "source": [
    "one_step_explicit_dormand_prince_method = get_one_step_explicit_dormand_prince_method(mu,lam,gamma)"
   ]
  },
  {
   "cell_type": "code",
   "execution_count": 14,
   "metadata": {
    "ExecuteTime": {
     "end_time": "2020-12-10T06:59:36.231652Z",
     "start_time": "2020-12-10T06:59:35.999565Z"
    },
    "hidden": true
   },
   "outputs": [],
   "source": [
    "tf = 0.002\n",
    "compute_next_stepsize = get_compute_next_stepsize_neural_learning_rate(\n",
    "    atol_x = 0.0001,\n",
    "    atol_v = 0.0001,\n",
    "    btol_x = 0.0001,\n",
    "    btol_v = 0.0001,\n",
    "    lasso_fraction=0.5,\n",
    ")\n",
    "# compute_next_stepsize\n",
    "# get_compute_next_stepsize_neural_learning_rate\n",
    "\n",
    "one_step_explicit_dormand_prince_method = get_one_step_explicit_dormand_prince_method(mu,lam,gamma)\n",
    "compute_next_stepsize = get_compute_next_stepsize_neural_learning_rate(atol_x, atol_v, btol_x, btol_v,lasso_fraction)\n"
   ]
  },
  {
   "cell_type": "code",
   "execution_count": 15,
   "metadata": {
    "ExecuteTime": {
     "end_time": "2020-12-10T07:00:29.794459Z",
     "start_time": "2020-12-10T07:00:08.490781Z"
    },
    "hidden": true
   },
   "outputs": [],
   "source": [
    "N_elements = element_array_stepsize.shape[0]\n",
    "# if queue is not in globals():\n",
    "#     if len(queue)==0:\n",
    "queue = [(element_array_time[K_index],element_array_stepsize[K_index],K_index) for K_index in range(N_elements)]\n",
    "heapq.heapify(queue)\n",
    "tauK = element_array_time\n",
    "tau  = node_array_time\n",
    "#do until priority queue is empty\n",
    "while len(queue) > 0:\n",
    "    t,h,K_index = heapq.heappop(queue)\n",
    "    if t<=tf:\n",
    "        tau_of_K = tauK[K_index]\n",
    "        t_previous = tau_of_K#tauK[K_index]\n",
    "        h = t - t_previous #the current stepsize\n",
    "\n",
    "        # h = max(h,minstepsize)\n",
    "        #get the element configuration\n",
    "        Bm = element_array_inverse_equilibrium_position[K_index]\n",
    "        Ka = element_array_index[K_index]\n",
    "        x = vertices[Ka].copy()\n",
    "        v = velocities[Ka].copy()\n",
    "        tau_of_K = tauK[K_index]\n",
    "        K_tau = tau[Ka].copy()\n",
    "        K_masses = element_array_mass[Ka]\n",
    "        Ds = get_D_mat(x)\n",
    "        W = get_element_volume(Ds)\n",
    "        mass_of_K  = element_array_mass[K_index]\n",
    "\n",
    "        #compute energy of configuration\n",
    "        energy_prev = comp_element_energy ( mass_of_K, v, W, Bm, Ds, mu, lam)\n",
    "\n",
    "        #perform the OneStep method\n",
    "        max_err, mav_err, x_out,v_out = one_step_explicit_dormand_prince_method(h,x,v,K_masses,K_tau,tau_of_K,Bm)\n",
    "\n",
    "\n",
    "\n",
    "        #update the element configuration\n",
    "        vertices[Ka] = x_out\n",
    "        velocities[Ka] = v_out\n",
    "        tauK[K_index] = t\n",
    "        tau[Ka] = t\n",
    "\n",
    "        x = vertices[Ka].copy()\n",
    "        v = velocities[Ka].copy()\n",
    "        tau_of_K = tauK[K_index]\n",
    "        K_tau = tau[Ka].copy()\n",
    "        K_masses = element_array_mass[Ka]\n",
    "        Ds = get_D_mat(x)\n",
    "        W = get_element_volume(Ds)\n",
    "\n",
    "        #compute energy of configuration\n",
    "        energy_next = comp_element_energy ( mass_of_K, v, W, Bm, Ds, mu, lam)\n",
    "\n",
    "        #choose the next stepsizeh, learning_rate, max_err,mav_err,energy_next, energy_prev\n",
    "        stepsize_next = compute_next_stepsize(element_array_stepsize[K_index], learning_rate, max_err,mav_err,energy_next, energy_prev)\n",
    "        t_next = t + stepsize_next\n",
    "        element_array_stepsize[K_index] = stepsize_next\n",
    "\n",
    "        #push the next task to the heap/priority queue\n",
    "        heapq.heappush(queue, (t_next, stepsize_next, K_index))"
   ]
  },
  {
   "cell_type": "code",
   "execution_count": null,
   "metadata": {
    "ExecuteTime": {
     "end_time": "2020-12-10T00:22:27.444740Z",
     "start_time": "2020-12-10T00:17:25.207Z"
    },
    "hidden": true
   },
   "outputs": [],
   "source": [
    "learning_rate = np.log(2)\n",
    "np.exp(learning_rate)\n",
    "beep(4)"
   ]
  },
  {
   "cell_type": "code",
   "execution_count": 34,
   "metadata": {
    "ExecuteTime": {
     "end_time": "2020-12-10T00:25:20.084205Z",
     "start_time": "2020-12-10T00:25:20.055436Z"
    },
    "hidden": true
   },
   "outputs": [],
   "source": [
    "# @njit\n",
    "# def compute_next_stepsize(h, learning_rate, max_err,mav_err, atol_x, atol_v, btol_x, btol_v):\n",
    "#     booa = (max_err>atol_x)|(mav_err>atol_v)\n",
    "#     boob = (max_err<btol_x)&(mav_err<btol_v)\n",
    "#     learning_exponent = learning_rate \n",
    "#     #TODO: try learning_exponent = learning_rate*energy or some other foo\n",
    "#     if booa: #if either error is too big,\n",
    "#         next_stepsize = h*np.exp(-learning_exponent) #decrease the stepsize \n",
    "#         #TODO: repeat the step\n",
    "#     elif boob: #if both errors are too small,\n",
    "#         next_stepsize = h*np.exp(+learning_exponent) #increase the stepsize\n",
    "#     else: #else, keep the same stepsize\n",
    "#         next_stepsize = h\n",
    "#     return next_stepsize"
   ]
  },
  {
   "cell_type": "code",
   "execution_count": 32,
   "metadata": {
    "ExecuteTime": {
     "end_time": "2020-12-10T00:25:07.762705Z",
     "start_time": "2020-12-10T00:25:07.736978Z"
    },
    "hidden": true
   },
   "outputs": [],
   "source": [
    "# tau"
   ]
  },
  {
   "cell_type": "code",
   "execution_count": 35,
   "metadata": {
    "ExecuteTime": {
     "end_time": "2020-12-10T00:25:23.455972Z",
     "start_time": "2020-12-10T00:25:23.353501Z"
    },
    "hidden": true
   },
   "outputs": [],
   "source": [
    "atol_x = 0.001\n",
    "atol_v = 0.001\n",
    "btol_x = 0.0001\n",
    "btol_v = 0.0001\n",
    "next_stepsize = compute_next_stepsize(h, learning_rate, max_err,mav_err, atol_x, atol_v, btol_x, btol_v)"
   ]
  },
  {
   "cell_type": "code",
   "execution_count": 29,
   "metadata": {
    "ExecuteTime": {
     "end_time": "2020-12-10T00:22:56.966144Z",
     "start_time": "2020-12-10T00:22:56.937913Z"
    },
    "hidden": true
   },
   "outputs": [
    {
     "name": "stdout",
     "output_type": "stream",
     "text": [
      "0.0004462425595238095 0.0001548833684794596 0.0005\n"
     ]
    }
   ],
   "source": [
    "## current stepsize measures\n",
    "stepsize_mean = np.mean(element_array_stepsize)\n",
    "stepsize_std = np.std(element_array_stepsize)\n",
    "stepsize_median = np.median(element_array_stepsize)\n",
    "print(stepsize_mean, stepsize_std, stepsize_median)"
   ]
  },
  {
   "cell_type": "code",
   "execution_count": 25,
   "metadata": {
    "ExecuteTime": {
     "end_time": "2020-12-10T00:15:53.341723Z",
     "start_time": "2020-12-10T00:15:53.319049Z"
    },
    "hidden": true,
    "scrolled": true
   },
   "outputs": [
    {
     "name": "stdout",
     "output_type": "stream",
     "text": [
      "0.0010000000000000002 2.168404344971009e-19 0.001\n"
     ]
    }
   ],
   "source": [
    "## initial stepsize measures\n",
    "stepsize_mean = np.mean(element_array_stepsize)\n",
    "stepsize_std = np.std(element_array_stepsize)\n",
    "stepsize_median = np.median(element_array_stepsize)\n",
    "print(stepsize_mean, stepsize_std, stepsize_median)"
   ]
  },
  {
   "cell_type": "markdown",
   "metadata": {
    "heading_collapsed": true,
    "hidden": true
   },
   "source": [
    "## put all ^that in a get_ function and test it."
   ]
  },
  {
   "cell_type": "code",
   "execution_count": 9,
   "metadata": {
    "ExecuteTime": {
     "end_time": "2020-12-10T01:05:15.280689Z",
     "start_time": "2020-12-10T01:05:15.259142Z"
    },
    "hidden": true
   },
   "outputs": [],
   "source": [
    "from lib.controller.integrate_forward_dormand_prince_asynchronous import *"
   ]
  },
  {
   "cell_type": "code",
   "execution_count": 10,
   "metadata": {
    "ExecuteTime": {
     "end_time": "2020-12-10T01:05:15.705148Z",
     "start_time": "2020-12-10T01:05:15.682344Z"
    },
    "hidden": true
   },
   "outputs": [],
   "source": [
    "integrate_system_dormand_prince_asynchronous = get_integrate_system_dormand_prince_asynchronous(mu,lam,gamma)\n"
   ]
  },
  {
   "cell_type": "code",
   "execution_count": 14,
   "metadata": {
    "ExecuteTime": {
     "end_time": "2020-12-10T01:06:12.857814Z",
     "start_time": "2020-12-10T01:05:42.630475Z"
    },
    "hidden": true
   },
   "outputs": [
    {
     "name": "stderr",
     "output_type": "stream",
     "text": [
      "/Users/timothytyree/Documents/GitHub/avi/nb/lib/controller/integrate_forward_dormand_prince_asynchronous.py:59: NumbaPerformanceWarning: '@' is faster on contiguous arrays, called on (array(float64, 2d, C), array(float64, 2d, A))\n",
      "  max_err, mav_err, x_out,v_out = one_step_explicit_dormand_prince_method(h,x,v,K_masses,K_tau,tau_of_K,Bm)\n"
     ]
    },
    {
     "data": {
      "text/plain": [
       "True"
      ]
     },
     "execution_count": 14,
     "metadata": {},
     "output_type": "execute_result"
    }
   ],
   "source": [
    "tf = 0.01\n",
    "integrate_system_dormand_prince_asynchronous(tf, element_array_time, element_array_stepsize, node_array_time,\n",
    "                                             element_array_index, vertices, velocities, \n",
    "                                          node_array_mass, element_array_inverse_equilibrium_position, element_array_mass,\n",
    "                                          learning_rate, atol_x, atol_v, btol_x, btol_v)"
   ]
  },
  {
   "cell_type": "code",
   "execution_count": 16,
   "metadata": {
    "ExecuteTime": {
     "end_time": "2020-12-10T01:09:44.070491Z",
     "start_time": "2020-12-10T01:09:44.046899Z"
    },
    "hidden": true
   },
   "outputs": [
    {
     "data": {
      "text/plain": [
       "{0.000125, 0.00025, 0.0005, 0.001, 0.002}"
      ]
     },
     "execution_count": 16,
     "metadata": {},
     "output_type": "execute_result"
    }
   ],
   "source": [
    "set(element_array_stepsize)"
   ]
  },
  {
   "cell_type": "code",
   "execution_count": 17,
   "metadata": {
    "ExecuteTime": {
     "end_time": "2020-12-10T01:10:09.221684Z",
     "start_time": "2020-12-10T01:10:09.004495Z"
    },
    "hidden": true,
    "scrolled": true
   },
   "outputs": [
    {
     "data": {
      "text/plain": [
       "(array([ 277.,    0.,  847.,    0., 1268.,    0.,    0.,    0.,    0.,\n",
       "         296.]),\n",
       " array([0.000125 , 0.0003125, 0.0005   , 0.0006875, 0.000875 , 0.0010625,\n",
       "        0.00125  , 0.0014375, 0.001625 , 0.0018125, 0.002    ]),\n",
       " <BarContainer object of 10 artists>)"
      ]
     },
     "execution_count": 17,
     "metadata": {},
     "output_type": "execute_result"
    },
    {
     "data": {
      "image/png": "[encoded data removed]",
      "text/plain": [
       "<Figure size 432x288 with 1 Axes>"
      ]
     },
     "metadata": {
      "needs_background": "light"
     },
     "output_type": "display_data"
    }
   ],
   "source": [
    "plt.hist(element_array_stepsize)"
   ]
  },
  {
   "cell_type": "code",
   "execution_count": 55,
   "metadata": {
    "ExecuteTime": {
     "end_time": "2020-12-10T01:21:30.890575Z",
     "start_time": "2020-12-10T01:21:30.867172Z"
    },
    "hidden": true
   },
   "outputs": [
    {
     "data": {
      "text/plain": [
       "(array([ 277,    0,  847,    0, 1268,    0,    0,    0,    0,  296]),\n",
       " array([0.000125 , 0.0003125, 0.0005   , 0.0006875, 0.000875 , 0.0010625,\n",
       "        0.00125  , 0.0014375, 0.001625 , 0.0018125, 0.002    ]))"
      ]
     },
     "execution_count": 55,
     "metadata": {},
     "output_type": "execute_result"
    }
   ],
   "source": [
    "np.histogram(element_array_stepsize)"
   ]
  },
  {
   "cell_type": "code",
   "execution_count": null,
   "metadata": {
    "ExecuteTime": {
     "end_time": "2020-12-10T01:13:32.502265Z",
     "start_time": "2020-12-10T01:13:32.431607Z"
    },
    "hidden": true
   },
   "outputs": [],
   "source": []
  },
  {
   "cell_type": "code",
   "execution_count": 58,
   "metadata": {
    "ExecuteTime": {
     "end_time": "2020-12-10T01:21:57.147460Z",
     "start_time": "2020-12-10T01:21:57.125161Z"
    },
    "hidden": true
   },
   "outputs": [],
   "source": []
  },
  {
   "cell_type": "code",
   "execution_count": 40,
   "metadata": {
    "ExecuteTime": {
     "end_time": "2020-12-10T01:19:15.002767Z",
     "start_time": "2020-12-10T01:19:14.981175Z"
    },
    "hidden": true
   },
   "outputs": [],
   "source": [
    "import inspect"
   ]
  },
  {
   "cell_type": "code",
   "execution_count": 41,
   "metadata": {
    "ExecuteTime": {
     "end_time": "2020-12-10T01:19:15.266428Z",
     "start_time": "2020-12-10T01:19:15.245283Z"
    },
    "hidden": true
   },
   "outputs": [],
   "source": [
    "# print(inspect.getsource(np.histogram))"
   ]
  },
  {
   "cell_type": "code",
   "execution_count": 62,
   "metadata": {
    "ExecuteTime": {
     "end_time": "2020-12-10T01:25:08.471134Z",
     "start_time": "2020-12-10T01:25:08.443080Z"
    },
    "hidden": true
   },
   "outputs": [
    {
     "data": {
      "text/plain": [
       "array([ 264,  847, 1268,  296,    0])"
      ]
     },
     "execution_count": 62,
     "metadata": {},
     "output_type": "execute_result"
    }
   ],
   "source": [
    "# def count_array(array, bins):\n",
    "#     counts, bins = np.histogram(array, bins=bins)\n",
    "#     return counts"
   ]
  },
  {
   "cell_type": "code",
   "execution_count": 63,
   "metadata": {
    "ExecuteTime": {
     "end_time": "2020-12-10T01:26:06.407242Z",
     "start_time": "2020-12-10T01:26:06.372516Z"
    },
    "hidden": true
   },
   "outputs": [
    {
     "ename": "NameError",
     "evalue": "name 'count_lst_stepsize' is not defined",
     "output_type": "error",
     "traceback": [
      "\u001b[0;31m---------------------------------------------------------------------------\u001b[0m",
      "\u001b[0;31mNameError\u001b[0m                                 Traceback (most recent call last)",
      "\u001b[0;32m<ipython-input-63-69d28d488bac>\u001b[0m in \u001b[0;36m<module>\u001b[0;34m\u001b[0m\n\u001b[1;32m      1\u001b[0m \u001b[0mlearning_bins\u001b[0m \u001b[0;34m=\u001b[0m \u001b[0mnp\u001b[0m\u001b[0;34m.\u001b[0m\u001b[0marray\u001b[0m\u001b[0;34m(\u001b[0m\u001b[0;34m[\u001b[0m\u001b[0mstepsize_init\u001b[0m\u001b[0;34m*\u001b[0m\u001b[0mnp\u001b[0m\u001b[0;34m.\u001b[0m\u001b[0mexp\u001b[0m\u001b[0;34m(\u001b[0m\u001b[0;34m(\u001b[0m\u001b[0mi\u001b[0m\u001b[0;34m+\u001b[0m\u001b[0;36m.5\u001b[0m\u001b[0;34m)\u001b[0m\u001b[0;34m*\u001b[0m\u001b[0mlearning_rate\u001b[0m\u001b[0;34m)\u001b[0m \u001b[0;32mfor\u001b[0m \u001b[0mi\u001b[0m \u001b[0;32min\u001b[0m \u001b[0mnp\u001b[0m\u001b[0;34m.\u001b[0m\u001b[0marange\u001b[0m\u001b[0;34m(\u001b[0m\u001b[0;34m-\u001b[0m\u001b[0;36m3\u001b[0m\u001b[0;34m,\u001b[0m\u001b[0;36m3\u001b[0m\u001b[0;34m)\u001b[0m\u001b[0;34m]\u001b[0m\u001b[0;34m)\u001b[0m\u001b[0;34m\u001b[0m\u001b[0;34m\u001b[0m\u001b[0m\n\u001b[0;32m----> 2\u001b[0;31m \u001b[0mcount_lst_stepsize\u001b[0m\u001b[0;34m.\u001b[0m\u001b[0mappend\u001b[0m\u001b[0;34m(\u001b[0m\u001b[0mcount_array\u001b[0m\u001b[0;34m(\u001b[0m\u001b[0marray\u001b[0m \u001b[0;34m=\u001b[0m \u001b[0melement_array_stepsize\u001b[0m\u001b[0;34m,\u001b[0m\u001b[0mbins\u001b[0m\u001b[0;34m=\u001b[0m\u001b[0mlearning_bins\u001b[0m\u001b[0;34m)\u001b[0m\u001b[0;34m)\u001b[0m\u001b[0;34m\u001b[0m\u001b[0;34m\u001b[0m\u001b[0m\n\u001b[0m",
      "\u001b[0;31mNameError\u001b[0m: name 'count_lst_stepsize' is not defined"
     ]
    }
   ],
   "source": [
    "learning_bins = np.array([stepsize_init*np.exp((i+.5)*learning_rate) for i in np.arange(-3,3)])\n",
    "count_lst_stepsize.append(count_array(array = element_array_stepsize,bins=learning_bins))"
   ]
  },
  {
   "cell_type": "markdown",
   "metadata": {
    "heading_collapsed": true
   },
   "source": [
    "# testing neural time steps"
   ]
  },
  {
   "cell_type": "code",
   "execution_count": 6,
   "metadata": {
    "ExecuteTime": {
     "end_time": "2020-12-10T03:49:06.396662Z",
     "start_time": "2020-12-10T03:49:06.369453Z"
    },
    "hidden": true
   },
   "outputs": [],
   "source": [
    "lasso_fraction = 0.5\n",
    "integrate_system_dormand_prince_asynchronous = get_integrate_system_dormand_prince_asynchronous(mu,lam,gamma,atol_x, atol_v, btol_x, btol_v,learning_rate,lasso_fraction)\n",
    "\n"
   ]
  },
  {
   "cell_type": "code",
   "execution_count": 16,
   "metadata": {
    "ExecuteTime": {
     "end_time": "2020-12-10T03:31:11.650830Z",
     "start_time": "2020-12-10T03:31:11.630897Z"
    },
    "hidden": true
   },
   "outputs": [],
   "source": [
    "# get_integrate_system_dormand_prince_asynchronous\n",
    "# get_compute_next_stepsize_neural_learning_rate"
   ]
  },
  {
   "cell_type": "code",
   "execution_count": 7,
   "metadata": {
    "ExecuteTime": {
     "end_time": "2020-12-10T03:49:15.911241Z",
     "start_time": "2020-12-10T03:49:15.882592Z"
    },
    "hidden": true
   },
   "outputs": [
    {
     "data": {
      "text/plain": [
       "CPUDispatcher(<function get_integrate_system_dormand_prince_asynchronous.<locals>.integrate_system_dormand_prince_asynchronous at 0x1337e9f70>)"
      ]
     },
     "execution_count": 7,
     "metadata": {},
     "output_type": "execute_result"
    }
   ],
   "source": [
    "integrate_system_dormand_prince_asynchronous"
   ]
  },
  {
   "cell_type": "code",
   "execution_count": 8,
   "metadata": {
    "ExecuteTime": {
     "end_time": "2020-12-10T03:49:17.125684Z",
     "start_time": "2020-12-10T03:49:17.042646Z"
    },
    "hidden": true
   },
   "outputs": [],
   "source": [
    "integrate_system_dormand_prince_asynchronous?"
   ]
  },
  {
   "cell_type": "code",
   "execution_count": 9,
   "metadata": {
    "ExecuteTime": {
     "end_time": "2020-12-10T03:49:50.380742Z",
     "start_time": "2020-12-10T03:49:21.330201Z"
    },
    "hidden": true
   },
   "outputs": [
    {
     "name": "stderr",
     "output_type": "stream",
     "text": [
      "/Users/timothytyree/Documents/GitHub/avi/nb/lib/controller/integrate_forward_dormand_prince_asynchronous.py:92: NumbaPerformanceWarning: '@' is faster on contiguous arrays, called on (array(float64, 2d, C), array(float64, 2d, A))\n",
      "  energy_prev = comp_element_energy ( mass_of_K, v, W, Bm, Ds, mu, lam)\n",
      "/Users/timothytyree/Documents/GitHub/avi/nb/lib/controller/integrate_forward_dormand_prince_asynchronous.py:95: NumbaPerformanceWarning: '@' is faster on contiguous arrays, called on (array(float64, 2d, C), array(float64, 2d, A))\n",
      "  max_err, mav_err, x_out,v_out = one_step_explicit_dormand_prince_method(h,x,v,K_masses,K_tau,tau_of_K,Bm)\n"
     ]
    },
    {
     "data": {
      "text/plain": [
       "True"
      ]
     },
     "execution_count": 9,
     "metadata": {},
     "output_type": "execute_result"
    }
   ],
   "source": [
    "tf = 0.001\n",
    "integrate_system_dormand_prince_asynchronous(\n",
    "    tf,\n",
    "    element_array_time,\n",
    "    element_array_stepsize,\n",
    "    node_array_time,\n",
    "    element_array_index,\n",
    "    vertices,\n",
    "    velocities,\n",
    "    node_array_mass,\n",
    "    element_array_inverse_equilibrium_position,\n",
    "    element_array_mass\n",
    ")"
   ]
  },
  {
   "cell_type": "code",
   "execution_count": 10,
   "metadata": {
    "ExecuteTime": {
     "end_time": "2020-12-10T03:50:03.330201Z",
     "start_time": "2020-12-10T03:50:02.738813Z"
    },
    "hidden": true
   },
   "outputs": [
    {
     "data": {
      "text/plain": [
       "True"
      ]
     },
     "execution_count": 10,
     "metadata": {},
     "output_type": "execute_result"
    }
   ],
   "source": [
    "tf = 0.002\n",
    "integrate_system_dormand_prince_asynchronous(\n",
    "    tf,\n",
    "    element_array_time,\n",
    "    element_array_stepsize,\n",
    "    node_array_time,\n",
    "    element_array_index,\n",
    "    vertices,\n",
    "    velocities,\n",
    "    node_array_mass,\n",
    "    element_array_inverse_equilibrium_position,\n",
    "    element_array_mass\n",
    ")"
   ]
  },
  {
   "cell_type": "code",
   "execution_count": 11,
   "metadata": {
    "ExecuteTime": {
     "end_time": "2020-12-10T03:50:11.514857Z",
     "start_time": "2020-12-10T03:50:10.643565Z"
    },
    "hidden": true
   },
   "outputs": [
    {
     "data": {
      "text/plain": [
       "True"
      ]
     },
     "execution_count": 11,
     "metadata": {},
     "output_type": "execute_result"
    }
   ],
   "source": [
    "tf = 0.004\n",
    "integrate_system_dormand_prince_asynchronous(\n",
    "    tf,\n",
    "    element_array_time,\n",
    "    element_array_stepsize,\n",
    "    node_array_time,\n",
    "    element_array_index,\n",
    "    vertices,\n",
    "    velocities,\n",
    "    node_array_mass,\n",
    "    element_array_inverse_equilibrium_position,\n",
    "    element_array_mass\n",
    ")"
   ]
  },
  {
   "cell_type": "code",
   "execution_count": 12,
   "metadata": {
    "ExecuteTime": {
     "end_time": "2020-12-10T03:50:18.600090Z",
     "start_time": "2020-12-10T03:50:17.505577Z"
    },
    "hidden": true
   },
   "outputs": [
    {
     "data": {
      "text/plain": [
       "True"
      ]
     },
     "execution_count": 12,
     "metadata": {},
     "output_type": "execute_result"
    }
   ],
   "source": [
    "tf = 0.007\n",
    "integrate_system_dormand_prince_asynchronous(\n",
    "    tf,\n",
    "    element_array_time,\n",
    "    element_array_stepsize,\n",
    "    node_array_time,\n",
    "    element_array_index,\n",
    "    vertices,\n",
    "    velocities,\n",
    "    node_array_mass,\n",
    "    element_array_inverse_equilibrium_position,\n",
    "    element_array_mass\n",
    ")"
   ]
  },
  {
   "cell_type": "markdown",
   "metadata": {
    "heading_collapsed": true
   },
   "source": [
    "# test step_forward_and_learn_simple"
   ]
  },
  {
   "cell_type": "code",
   "execution_count": 7,
   "metadata": {
    "ExecuteTime": {
     "end_time": "2020-12-11T00:30:33.210039Z",
     "start_time": "2020-12-11T00:30:33.187762Z"
    },
    "hidden": true
   },
   "outputs": [],
   "source": [
    "# get_integrate_system_explicit_asynchronous(mu,lam,gamma)"
   ]
  },
  {
   "cell_type": "code",
   "execution_count": 8,
   "metadata": {
    "ExecuteTime": {
     "end_time": "2020-12-11T00:30:34.353157Z",
     "start_time": "2020-12-11T00:30:34.333294Z"
    },
    "hidden": true
   },
   "outputs": [],
   "source": [
    "# from lib.controller.integrate_forward_explicit_asynchronous import get_integrate_system_explicit_asynchronous\n",
    "# .integrate_forward_explicit_asynchronous import *\n",
    "# from lib.controller.step_and_learn import *"
   ]
  },
  {
   "cell_type": "code",
   "execution_count": 4,
   "metadata": {
    "ExecuteTime": {
     "end_time": "2020-12-11T00:05:59.017431Z",
     "start_time": "2020-12-11T00:05:58.990792Z"
    },
    "hidden": true
   },
   "outputs": [],
   "source": [
    "integrate_system_explicit_asynchronous = get_integrate_system_explicit_asynchronous(mu,lam,gamma)"
   ]
  },
  {
   "cell_type": "code",
   "execution_count": 5,
   "metadata": {
    "ExecuteTime": {
     "end_time": "2020-12-11T00:05:59.815578Z",
     "start_time": "2020-12-11T00:05:59.795192Z"
    },
    "hidden": true
   },
   "outputs": [],
   "source": [
    "tf = 0.001\n",
    "atol_x = 0.001\n",
    "atol_v = 0.001"
   ]
  },
  {
   "cell_type": "code",
   "execution_count": 6,
   "metadata": {
    "ExecuteTime": {
     "end_time": "2020-12-11T00:06:00.953085Z",
     "start_time": "2020-12-11T00:06:00.923885Z"
    },
    "hidden": true
   },
   "outputs": [],
   "source": [
    "# from lib.controller.step_and_learn import *\n",
    "step_forward_and_learn = get_step_forward_and_learn(mu,lam,gamma,num_iter = 30)\n",
    "\n",
    "zero_mat = np.zeros((4,3))\n",
    "def get_step_to_time(mu,lam,gamma,num_iter = 30):\n",
    "    # step_to_time = get_local_one_step_implicit_midpoint_rule(mu,lam,gamma,num_iter = 30)\n",
    "    step_to_time   = get_compute_one_step_forward_euler_method(mu,lam,gamma)\n",
    "    # step_to_time = get_one_step_forward_euler_method(mu,lam,gamma)\n",
    "    return step_to_time\n",
    "step_to_time = get_step_to_time(mu,lam,gamma,num_iter = 30)\n"
   ]
  },
  {
   "cell_type": "code",
   "execution_count": 7,
   "metadata": {
    "ExecuteTime": {
     "end_time": "2020-12-11T00:06:03.986003Z",
     "start_time": "2020-12-11T00:06:03.960288Z"
    },
    "hidden": true
   },
   "outputs": [],
   "source": [
    "element_array_stepsize\n",
    "K_index = 0\n",
    "t_given = tf"
   ]
  },
  {
   "cell_type": "code",
   "execution_count": 9,
   "metadata": {
    "ExecuteTime": {
     "end_time": "2020-12-11T00:30:49.798386Z",
     "start_time": "2020-12-11T00:30:49.778853Z"
    },
    "hidden": true
   },
   "outputs": [],
   "source": [
    "from lib.controller.simple_explicit_time_adaptation import *"
   ]
  },
  {
   "cell_type": "code",
   "execution_count": 10,
   "metadata": {
    "ExecuteTime": {
     "end_time": "2020-12-11T00:30:52.026794Z",
     "start_time": "2020-12-11T00:30:52.006397Z"
    },
    "hidden": true
   },
   "outputs": [],
   "source": [
    "step_forward_and_learn_simple = get_step_forward_and_learn_simple(mu,lam,gamma)"
   ]
  },
  {
   "cell_type": "code",
   "execution_count": 14,
   "metadata": {
    "ExecuteTime": {
     "end_time": "2020-12-11T00:31:52.354981Z",
     "start_time": "2020-12-11T00:31:42.545479Z"
    },
    "hidden": true
   },
   "outputs": [],
   "source": [
    "t_given = 0.01\n",
    "for K_index in range(N_elements):\n",
    "    Ka = element_array_index[K_index]\n",
    "    K_tau = node_array_time[Ka]\n",
    "    tau_of_K = element_array_time[K_index]\n",
    "    Bm  = element_array_inverse_equilibrium_position[K_index]\n",
    "    K_masses = node_array_mass[Ka]\n",
    "    x_current = vertices[Ka]\n",
    "    v_current = velocities[Ka]\n",
    "    #split the elemental configuration into three possibiities\n",
    "    x_A = x_current.copy()\n",
    "    x_B = x_current.copy()\n",
    "    x_C = x_current.copy()\n",
    "    v_A = v_current.copy()\n",
    "    v_B = v_current.copy()\n",
    "    v_C = v_current.copy()\n",
    "    tau_of_K_A = tau_of_K.copy()\n",
    "    tau_of_K_B = tau_of_K.copy()\n",
    "    tau_of_K_C = tau_of_K.copy()\n",
    "    K_tau_A = K_tau.copy()# K_tau_A[0] += 0.01\n",
    "    K_tau_B = K_tau.copy()\n",
    "    K_tau_C = K_tau.copy()\n",
    "    #define time steps options\n",
    "    DT_given   = t_given - tau_of_K\n",
    "    DT_lesser  = DT_given/2\n",
    "    DT_greater = DT_given*2\n",
    "    t_lesser   = DT_lesser  + tau_of_K\n",
    "    t_greater  = DT_greater + tau_of_K\n",
    "    next_stepsize, retval, madval = step_forward_and_learn_simple(K_index, t_lesser, node_array_time, element_array_time, vertices, velocities, element_array_index, \n",
    "                           element_array_inverse_equilibrium_position, node_array_mass, atol_x, atol_v, btol_x, btol_v, learning_rate)\n"
   ]
  },
  {
   "cell_type": "code",
   "execution_count": 15,
   "metadata": {
    "ExecuteTime": {
     "end_time": "2020-12-11T00:09:48.550391Z",
     "start_time": "2020-12-11T00:09:48.524005Z"
    },
    "hidden": true
   },
   "outputs": [
    {
     "data": {
      "text/plain": [
       "0.0005"
      ]
     },
     "execution_count": 15,
     "metadata": {},
     "output_type": "execute_result"
    }
   ],
   "source": [
    "next_stepsize"
   ]
  },
  {
   "cell_type": "code",
   "execution_count": 16,
   "metadata": {
    "ExecuteTime": {
     "end_time": "2020-12-11T00:10:37.257889Z",
     "start_time": "2020-12-11T00:10:36.909013Z"
    },
    "hidden": true
   },
   "outputs": [],
   "source": [
    "t_given = tf + next_stepsize\n",
    "for K_inddex in range(N_elements):\n",
    "    Ka = element_array_index[K_index]\n",
    "    K_tau = node_array_time[Ka]\n",
    "    tau_of_K = element_array_time[K_index]\n",
    "    Bm  = element_array_inverse_equilibrium_position[K_index]\n",
    "    K_masses = node_array_mass[Ka]\n",
    "    x_current = vertices[Ka]\n",
    "    v_current = velocities[Ka]\n",
    "    #split the elemental configuration into three possibiities\n",
    "    x_A = x_current.copy()\n",
    "    x_B = x_current.copy()\n",
    "    x_C = x_current.copy()\n",
    "    v_A = v_current.copy()\n",
    "    v_B = v_current.copy()\n",
    "    v_C = v_current.copy()\n",
    "    tau_of_K_A = tau_of_K.copy()\n",
    "    tau_of_K_B = tau_of_K.copy()\n",
    "    tau_of_K_C = tau_of_K.copy()\n",
    "    K_tau_A = K_tau.copy()# K_tau_A[0] += 0.01\n",
    "    K_tau_B = K_tau.copy()\n",
    "    K_tau_C = K_tau.copy()\n",
    "    #define time steps options\n",
    "    DT_given   = t_given - tau_of_K\n",
    "    DT_lesser  = DT_given/2\n",
    "    DT_greater = DT_given*2\n",
    "    t_lesser   = DT_lesser  + tau_of_K\n",
    "    t_greater  = DT_greater + tau_of_K\n",
    "    next_stepsize, retval, madval = step_forward_and_learn_simple(K_index, t_lesser, node_array_time, element_array_time, vertices, velocities, element_array_index, \n",
    "                           element_array_inverse_equilibrium_position, node_array_mass, atol_x, atol_v, btol_x, btol_v)\n"
   ]
  },
  {
   "cell_type": "markdown",
   "metadata": {
    "ExecuteTime": {
     "end_time": "2020-12-11T00:10:51.053315Z",
     "start_time": "2020-12-11T00:10:51.030969Z"
    }
   },
   "source": [
    "# test integrate_system_explicit_asynchronous"
   ]
  },
  {
   "cell_type": "code",
   "execution_count": 40,
   "metadata": {
    "ExecuteTime": {
     "end_time": "2020-12-11T00:49:09.584975Z",
     "start_time": "2020-12-11T00:49:09.515033Z"
    }
   },
   "outputs": [],
   "source": [
    "integrate_system_explicit_asynchronous = get_integrate_system_explicit_asynchronous(mu,lam,gamma)\n",
    "\n",
    "tf = 0.001\n",
    "integrate_system_explicit_asynchronous(tf, element_array_time, element_array_stepsize, node_array_time,\n",
    "                                             element_array_index, vertices, velocities, \n",
    "                                          node_array_mass, element_array_inverse_equilibrium_position, atol_x, atol_v, btol_x, btol_v, learning_rate)"
   ]
  },
  {
   "cell_type": "code",
   "execution_count": 42,
   "metadata": {
    "ExecuteTime": {
     "end_time": "2020-12-11T00:49:32.905331Z",
     "start_time": "2020-12-11T00:49:32.730987Z"
    }
   },
   "outputs": [
    {
     "data": {
      "text/plain": [
       "True"
      ]
     },
     "execution_count": 42,
     "metadata": {},
     "output_type": "execute_result"
    }
   ],
   "source": [
    "tf = 0.002\n",
    "integrate_system_explicit_asynchronous(tf, element_array_time, element_array_stepsize, node_array_time,\n",
    "                                             element_array_index, vertices, velocities, \n",
    "                                          node_array_mass, element_array_inverse_equilibrium_position, atol_x, atol_v, btol_x, btol_v, learning_rate)"
   ]
  },
  {
   "cell_type": "code",
   "execution_count": 44,
   "metadata": {
    "ExecuteTime": {
     "end_time": "2020-12-11T00:49:54.927837Z",
     "start_time": "2020-12-11T00:49:54.905866Z"
    }
   },
   "outputs": [
    {
     "data": {
      "text/plain": [
       "{0.0016000000000000003}"
      ]
     },
     "execution_count": 44,
     "metadata": {},
     "output_type": "execute_result"
    }
   ],
   "source": [
    "set(element_array_stepsize)"
   ]
  },
  {
   "cell_type": "code",
   "execution_count": 45,
   "metadata": {
    "ExecuteTime": {
     "end_time": "2020-12-11T00:50:36.228676Z",
     "start_time": "2020-12-11T00:50:36.201857Z"
    }
   },
   "outputs": [
    {
     "data": {
      "text/plain": [
       "array([0.0015, 0.0015, 0.0015, ..., 0.0015, 0.0015, 0.0015])"
      ]
     },
     "execution_count": 45,
     "metadata": {},
     "output_type": "execute_result"
    }
   ],
   "source": [
    "elem#ent_array_time"
   ]
  },
  {
   "cell_type": "code",
   "execution_count": 11,
   "metadata": {
    "ExecuteTime": {
     "end_time": "2020-12-11T00:20:22.447650Z",
     "start_time": "2020-12-11T00:20:22.420015Z"
    }
   },
   "outputs": [
    {
     "data": {
      "text/plain": [
       "array([0.    , 0.0001, 0.0001, ..., 0.0001, 0.0001, 0.0001])"
      ]
     },
     "execution_count": 11,
     "metadata": {},
     "output_type": "execute_result"
    }
   ],
   "source": [
    "element_array_stepsize"
   ]
  },
  {
   "cell_type": "code",
   "execution_count": null,
   "metadata": {},
   "outputs": [],
   "source": []
  }
 ],
 "metadata": {
  "kernelspec": {
   "display_name": "Python 3",
   "language": "python",
   "name": "python3"
  },
  "language_info": {
   "codemirror_mode": {
    "name": "ipython",
    "version": 3
   },
   "file_extension": ".py",
   "mimetype": "text/x-python",
   "name": "python",
   "nbconvert_exporter": "python",
   "pygments_lexer": "ipython3",
   "version": "3.8.6"
  },
  "varInspector": {
   "cols": {
    "lenName": 16,
    "lenType": 16,
    "lenVar": 40
   },
   "kernels_config": {
    "python": {
     "delete_cmd_postfix": "",
     "delete_cmd_prefix": "del ",
     "library": "var_list.py",
     "varRefreshCmd": "print(var_dic_list())"
    },
    "r": {
     "delete_cmd_postfix": ") ",
     "delete_cmd_prefix": "rm(",
     "library": "var_list.r",
     "varRefreshCmd": "cat(var_dic_list()) "
    }
   },
   "types_to_exclude": [
    "module",
    "function",
    "builtin_function_or_method",
    "instance",
    "_Feature"
   ],
   "window_display": false
  }
 },
 "nbformat": 4,
 "nbformat_minor": 4
}
